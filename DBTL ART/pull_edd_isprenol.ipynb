{
 "cells": [
  {
   "cell_type": "markdown",
   "id": "7e76dd71-db80-4343-9cfe-da42be3faf7b",
   "metadata": {},
   "source": [
    "# Import, filter, and save EDD data\n",
    "EDD has a large amount of unnecessary data (biolecter and proteomics). Download studies, filter out everything but isoprenol, and save locally to save time."
   ]
  },
  {
   "cell_type": "code",
   "execution_count": 1,
   "id": "de4781c8-d192-47f3-a7d9-00c227c9f572",
   "metadata": {
    "tags": []
   },
   "outputs": [],
   "source": [
    "import edd_utils as eddu\n",
    "import pandas as pd"
   ]
  },
  {
   "cell_type": "markdown",
   "id": "e91d8da3-8a4c-47a7-b33d-8523add5b480",
   "metadata": {},
   "source": [
    "## Download the data"
   ]
  },
  {
   "cell_type": "markdown",
   "id": "ef142d6d-ff46-4148-acf3-df8982aab75b",
   "metadata": {},
   "source": [
    "These are the [Experiment Data Depot](https://pubs.acs.org/doi/full/10.1021/acssynbio.7b00204) server, the corresponding username and the slug (address) for the study to be downloaded:"
   ]
  },
  {
   "cell_type": "code",
   "execution_count": 2,
   "id": "73c76eb1-b1d2-4be6-ab08-6a4f63f65dfe",
   "metadata": {
    "tags": []
   },
   "outputs": [],
   "source": [
    "study_slug_dbtl0 = 'corrected-crispri-automation-for-enhanced-isopreno'\n",
    "study_slug_dbtl1 = 'crispri-automation-for-enhanced-isoprenol-producti'\n",
    "study_slug_dbtl2 = 'crispri-automation-for-enhanced-isoprenol-pro-05e7'\n",
    "study_slug_dbtl3 = 'crispri-automation-for-enhanced-isoprenol-pro-a97b'\n",
    "study_slug_dbtl4 = 'crispri-automation-for-enhanced-isoprenol-pro-9d3d'\n",
    "study_slug_dbtl5 = 'crispri-automation-for-enhanced-isoprenol-pro-271b'\n",
    "study_slug_dbtl6 = 'crispri-automation-for-enhanced-isoprenol-pro-6e5e'\n",
    "\n",
    "edd_server   = 'edd.jbei.org'\n",
    "username     = 'pckinnunen'"
   ]
  },
  {
   "cell_type": "markdown",
   "id": "77d1a8f2-961d-4f85-ad12-81ddf4804d79",
   "metadata": {},
   "source": [
    "We try connecting to the server with our login and password:"
   ]
  },
  {
   "cell_type": "code",
   "execution_count": 3,
   "id": "eb384f33-ec15-4391-b51d-b3e9370f4020",
   "metadata": {
    "tags": []
   },
   "outputs": [
    {
     "name": "stdin",
     "output_type": "stream",
     "text": [
      "Password for pckinnunen:  ········\n"
     ]
    },
    {
     "name": "stdout",
     "output_type": "stream",
     "text": [
      "OK! Connection to EDD successful. We will try to load data from EDD...\n"
     ]
    }
   ],
   "source": [
    "try:\n",
    "    session = eddu.login(edd_server=edd_server, user=username)\n",
    "except:\n",
    "    print('ERROR! Connection to EDD failed. We will try to load data from disk...')\n",
    "else:\n",
    "    print('OK! Connection to EDD successful. We will try to load data from EDD...')"
   ]
  },
  {
   "cell_type": "markdown",
   "id": "3717da8b-3f56-4197-b182-11590da0d6e3",
   "metadata": {},
   "source": [
    "And then we try to export the study from the EDD instance:"
   ]
  },
  {
   "cell_type": "code",
   "execution_count": 4,
   "id": "cf298952-9f45-4aeb-936c-b25bb7b8f0b7",
   "metadata": {
    "tags": []
   },
   "outputs": [],
   "source": [
    "# try:\n",
    "#     df_dbtl0 = eddu.export_study(session, study_slug_dbtl0, edd_server=edd_server)\n",
    "# except (NameError, AttributeError, KeyError):\n",
    "#     print(f'ERROR! Not able to export DBTL0 study.')"
   ]
  },
  {
   "cell_type": "code",
   "execution_count": 5,
   "id": "fb8c3ffc-a938-4fd6-b92a-c7abee28464a",
   "metadata": {},
   "outputs": [],
   "source": [
    "# try:\n",
    "#     df_dbtl1 = eddu.export_study(session, study_slug_dbtl1, edd_server = edd_server)\n",
    "# except (NameError, AttributeError, KeyError):\n",
    "#     print(f'ERROR! Not able to export DBTL1 study.')    "
   ]
  },
  {
   "cell_type": "code",
   "execution_count": 6,
   "id": "a22c2859-cbcd-40cc-b156-5aa4385ff411",
   "metadata": {},
   "outputs": [],
   "source": [
    "# try:\n",
    "#     df_dbtl2 = eddu.export_study(session, study_slug_dbtl2, edd_server = edd_server)\n",
    "# except (NameError, AttributeError, KeyError):\n",
    "#     print(f'ERROR! Not able to export DBTL2 study.')   "
   ]
  },
  {
   "cell_type": "code",
   "execution_count": 7,
   "id": "99ff3229-afd0-48b1-ab9f-c1c438cb0334",
   "metadata": {},
   "outputs": [],
   "source": [
    "# try:\n",
    "#     df_dbtl3 = eddu.export_study(session, study_slug_dbtl3, edd_server = edd_server)\n",
    "# except (NameError, AttributeError, KeyError):\n",
    "#     print(f'ERROR! Not able to export DBTL3 study.')   "
   ]
  },
  {
   "cell_type": "code",
   "execution_count": 8,
   "id": "f900d5aa-5d55-4f22-a2d5-e85533abfdfb",
   "metadata": {},
   "outputs": [],
   "source": [
    "# try:\n",
    "#     df_dbtl4 = eddu.export_study(session, study_slug_dbtl4, edd_server = edd_server)\n",
    "# except (NameError, AttributeError, KeyError):\n",
    "#     print(f'ERROR! Not able to export DBTL4 study.')   "
   ]
  },
  {
   "cell_type": "code",
   "execution_count": 9,
   "id": "ec5441da-d0ec-46ff-84ad-1a6bee93ddd7",
   "metadata": {},
   "outputs": [],
   "source": [
    "# try:\n",
    "#     df_dbtl5 = eddu.export_study(session, study_slug_dbtl5, edd_server = edd_server)\n",
    "# except (NameError, AttributeError, KeyError):\n",
    "#     print(f'ERROR! Not able to export DBTL5 study.')   "
   ]
  },
  {
   "cell_type": "code",
   "execution_count": 10,
   "id": "9426a225-3f30-46c3-849d-6cd8aaecb71c",
   "metadata": {},
   "outputs": [
    {
     "data": {
      "application/vnd.jupyter.widget-view+json": {
       "model_id": "4163c8c1043e4a1e8f994b670df16f93",
       "version_major": 2,
       "version_minor": 0
      },
      "text/plain": [
       "  0%|          | 0/398001 [00:00<?, ?it/s]"
      ]
     },
     "metadata": {},
     "output_type": "display_data"
    }
   ],
   "source": [
    "try:\n",
    "    df_dbtl6 = eddu.export_study(session, study_slug_dbtl6, edd_server = edd_server)\n",
    "except (NameError, AttributeError, KeyError):\n",
    "    print(f'ERROR! Not able to export DBTL6 study.')   "
   ]
  },
  {
   "cell_type": "markdown",
   "id": "5f82f2f9-470b-4757-9a98-1d7e3174b7fc",
   "metadata": {},
   "source": [
    "There are lots of data here (particularly the biolector data takes a lot of space):"
   ]
  },
  {
   "cell_type": "markdown",
   "id": "f3487c2c-deee-42fc-b063-9c8518f38302",
   "metadata": {
    "tags": []
   },
   "source": [
    "Let's have a look at the different protocols (types of data) that are includeed in the study:"
   ]
  },
  {
   "cell_type": "code",
   "execution_count": 11,
   "id": "26555bbc-d117-440d-b4f8-92766e3da9c6",
   "metadata": {
    "tags": []
   },
   "outputs": [],
   "source": [
    "# df_dbtl0['Protocol'].unique()"
   ]
  },
  {
   "cell_type": "code",
   "execution_count": 12,
   "id": "25a43cf5-5b91-4215-b6cf-7001bfd3c042",
   "metadata": {},
   "outputs": [],
   "source": [
    "# df_dbtl1['Protocol'].unique()"
   ]
  },
  {
   "cell_type": "code",
   "execution_count": 13,
   "id": "ece17ca0-0df2-4e13-b2f0-f5a6aedfe3d8",
   "metadata": {},
   "outputs": [],
   "source": [
    "# df_dbtl2['Protocol'].unique()"
   ]
  },
  {
   "cell_type": "code",
   "execution_count": 14,
   "id": "735d5ff8-6373-4a4e-afff-148bcfde41c6",
   "metadata": {},
   "outputs": [],
   "source": [
    "# df_dbtl3['Protocol'].unique()"
   ]
  },
  {
   "cell_type": "code",
   "execution_count": 15,
   "id": "5bca1061-5e62-4ab8-98f1-4266b1e49321",
   "metadata": {},
   "outputs": [],
   "source": [
    "# df_dbtl4['Protocol'].unique()"
   ]
  },
  {
   "cell_type": "code",
   "execution_count": 16,
   "id": "80b881c3-f4b9-4e3d-9315-3029fc0a55b0",
   "metadata": {
    "tags": []
   },
   "outputs": [],
   "source": [
    "# df_dbtl5['Protocol'].unique()"
   ]
  },
  {
   "cell_type": "code",
   "execution_count": 17,
   "id": "e855da1d-755f-4653-b775-5455db004fe9",
   "metadata": {
    "tags": []
   },
   "outputs": [
    {
     "data": {
      "text/plain": [
       "array(['GC-FID', 'Global Proteomics'], dtype=object)"
      ]
     },
     "execution_count": 17,
     "metadata": {},
     "output_type": "execute_result"
    }
   ],
   "source": [
    "df_dbtl6['Protocol'].unique()"
   ]
  },
  {
   "cell_type": "code",
   "execution_count": 18,
   "id": "c882480f-cafa-4922-8ff7-1d43fe493d69",
   "metadata": {},
   "outputs": [],
   "source": [
    "# df_dbtl0_isoprenol = df_dbtl0[df_dbtl0['Protocol'] == 'GC-FID']\n",
    "# df_dbtl1_isoprenol = df_dbtl1[df_dbtl1['Protocol'] == 'GC-FID']\n",
    "# df_dbtl2_isoprenol = df_dbtl2[df_dbtl2['Protocol'] == 'GC-FID']\n",
    "# df_dbtl3_isoprenol = df_dbtl3[df_dbtl3['Protocol'] == 'GC-FID']\n",
    "# df_dbtl4_isoprenol = df_dbtl4[df_dbtl4['Protocol'] == 'GC-FID']\n",
    "# df_dbtl5_isoprenol = df_dbtl5[df_dbtl5['Protocol'] == 'GC-FID']\n",
    "df_dbtl6_isoprenol = df_dbtl6[df_dbtl6['Protocol'] == 'GC-FID']"
   ]
  },
  {
   "cell_type": "code",
   "execution_count": 19,
   "id": "bd2d2c2a-47c3-4f35-875e-1ccf94d7c0f1",
   "metadata": {
    "tags": []
   },
   "outputs": [],
   "source": [
    "# df_dbtl0_isoprenol.to_pickle('./isoprenol_data/dbtl0_isoprenol.pkl')\n",
    "# df_dbtl1_isoprenol.to_pickle('./isoprenol_data/dbtl1_isoprenol.pkl')\n",
    "# df_dbtl2_isoprenol.to_pickle('./isoprenol_data/dbtl2_isoprenol.pkl')\n",
    "# df_dbtl3_isoprenol.to_pickle('./isoprenol_data/dbtl3_isoprenol.pkl')\n",
    "# df_dbtl4_isoprenol.to_pickle('./isoprenol_data/dbtl4_isoprenol.pkl')\n",
    "# df_dbtl5_isoprenol.to_pickle('./isoprenol_data/dbtl5_isoprenol.pkl')\n",
    "df_dbtl6_isoprenol.to_pickle('./isoprenol_data/dbtl6_isoprenol.pkl')\n"
   ]
  },
  {
   "cell_type": "code",
   "execution_count": 20,
   "id": "4c357cdf-b737-4e4c-84bc-949a703b8618",
   "metadata": {
    "tags": []
   },
   "outputs": [],
   "source": [
    "# df_dbtl0_isoprenol.to_csv('./isoprenol_data/dbtl0_isoprenol.csv')\n",
    "# df_dbtl1_isoprenol.to_csv('./isoprenol_data/dbtl1_isoprenol.csv')\n",
    "# df_dbtl2_isoprenol.to_csv('./isoprenol_data/dbtl2_isoprenol.csv')\n",
    "# df_dbtl3_isoprenol.to_csv('./isoprenol_data/dbtl3_isoprenol.csv')\n",
    "# df_dbtl4_isoprenol.to_csv('./isoprenol_data/dbtl4_isoprenol.csv')\n",
    "# df_dbtl5_isoprenol.to_csv('./isoprenol_data/dbtl5_isoprenol.csv')\n",
    "df_dbtl6_isoprenol.to_csv('./isoprenol_data/dbtl6_isoprenol.csv')"
   ]
  },
  {
   "cell_type": "code",
   "execution_count": 21,
   "id": "7f662357-3015-447d-8a03-922d08d572b2",
   "metadata": {
    "tags": []
   },
   "outputs": [],
   "source": [
    "# df_dbtl4_isoprenol['line_name_norep'] = df_dbtl4_isoprenol['Line Name'].apply(lambda x: x[:-3])\n",
    "# df_dbtl4_isoprenol['rep'] = df_dbtl4_isoprenol['Line Name'].apply(lambda x: int(x[-1]))\n",
    "\n",
    "# df_dbtl4_isoprenol\n",
    "# dfm = df_dbtl4_isoprenol.loc[:,['line_name_norep', 'rep', 'Value']].copy()\n",
    "# dfm"
   ]
  },
  {
   "cell_type": "code",
   "execution_count": 22,
   "id": "bee474c1-f709-486f-bb19-b08a1280f861",
   "metadata": {
    "tags": []
   },
   "outputs": [],
   "source": [
    "# dfm = dfm.groupby(by = 'line_name_norep').mean().reset_index()\n",
    "# dfm.loc[:, ['line_name_norep', 'Value']].to_csv('./isoprenol_data/dbtl4_merged.csv')"
   ]
  }
 ],
 "metadata": {
  "kernelspec": {
   "display_name": "Python 3 (ipykernel)",
   "language": "python",
   "name": "python3"
  },
  "language_info": {
   "codemirror_mode": {
    "name": "ipython",
    "version": 3
   },
   "file_extension": ".py",
   "mimetype": "text/x-python",
   "name": "python",
   "nbconvert_exporter": "python",
   "pygments_lexer": "ipython3",
   "version": "3.12.6"
  }
 },
 "nbformat": 4,
 "nbformat_minor": 5
}
