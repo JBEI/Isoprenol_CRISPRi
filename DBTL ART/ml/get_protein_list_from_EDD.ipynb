{
 "cells": [
  {
   "cell_type": "markdown",
   "id": "acc1a9cf-29d2-4e19-88ab-1681cb047d15",
   "metadata": {},
   "source": [
    "# Get protein list from EDD\n",
    "EDD databases for DBTL0 and DBTL1 have proteins listed in UNIPROT format. I want to use this tool to convert to PP_XXXX/4 letter codes: https://www.uniprot.org/id-mapping "
   ]
  },
  {
   "cell_type": "code",
   "execution_count": 1,
   "id": "8c404ec5-e791-44e1-86e8-5663db57a572",
   "metadata": {
    "tags": []
   },
   "outputs": [],
   "source": [
    "import edd_utils as eddu\n",
    "import pandas as pd\n",
    "import numpy as np\n",
    "import matplotlib.pyplot as plt\n",
    "import seaborn as sns\n",
    "import re \n",
    "import random\n",
    "random.seed(1)"
   ]
  },
  {
   "cell_type": "markdown",
   "id": "772a28a6-dcab-480a-b8a9-18af944ea4e5",
   "metadata": {},
   "source": [
    "## Import data from EDD"
   ]
  },
  {
   "cell_type": "markdown",
   "id": "7fc394f8-5e1f-416d-9e73-97cf19fd8e24",
   "metadata": {},
   "source": [
    "Import data"
   ]
  },
  {
   "cell_type": "code",
   "execution_count": 2,
   "id": "4b25f9a6-3813-44ff-b239-2669851c5a1e",
   "metadata": {
    "tags": []
   },
   "outputs": [],
   "source": [
    "study_slug_1 = 'crispri-automation-for-enhanced-isoprenol-pro-096d'\n",
    "study_slug_2 = 'crispri-automation-for-enhanced-isoprenol-pro-fca3'\n",
    "study_slug_3 = 'crispri-automation-for-enhanced-isoprenol-pro-05e7'\n",
    "study_slug_4 = 'crispri-automation-for-enhanced-isoprenol-pro-a97b'\n",
    "study_slug_5 = 'crispri-automation-for-enhanced-isoprenol-pro-9d3d'\n",
    "study_slug_6 = 'crispri-automation-for-enhanced-isoprenol-pro-271b'\n",
    "study_slug_7 = 'crispri-automation-for-enhanced-isoprenol-pro-6e5e'\n",
    "\n",
    "\n",
    "edd_server   = 'edd.jbei.org'\n",
    "username     = 'pckinnunen'"
   ]
  },
  {
   "cell_type": "markdown",
   "id": "a9386277-7823-41b6-b874-328226ea1a5a",
   "metadata": {},
   "source": [
    "Open EDD session"
   ]
  },
  {
   "cell_type": "code",
   "execution_count": 3,
   "id": "9f86650f-db49-436e-b67b-023a0ad152b7",
   "metadata": {
    "tags": []
   },
   "outputs": [
    {
     "name": "stdin",
     "output_type": "stream",
     "text": [
      "Password for pckinnunen:  ········\n"
     ]
    },
    {
     "name": "stdout",
     "output_type": "stream",
     "text": [
      "OK! Connection to EDD successful. We will try to load data from EDD...\n"
     ]
    }
   ],
   "source": [
    "try:\n",
    "    session = eddu.login(edd_server=edd_server, user=username)\n",
    "except:\n",
    "    print('ERROR! Connection to EDD failed. We will try to load data from disk...')\n",
    "else:\n",
    "    print('OK! Connection to EDD successful. We will try to load data from EDD...')"
   ]
  },
  {
   "cell_type": "markdown",
   "id": "ab507da3-6406-4465-8f14-dae07cefb2b0",
   "metadata": {},
   "source": [
    "Import data"
   ]
  },
  {
   "cell_type": "code",
   "execution_count": 4,
   "id": "8db004cb-e1a6-41ce-80e9-05d4e57d6d2c",
   "metadata": {
    "tags": []
   },
   "outputs": [
    {
     "data": {
      "application/vnd.jupyter.widget-view+json": {
       "model_id": "20e196b2ebb5441bbcf87ef33f5041f0",
       "version_major": 2,
       "version_minor": 0
      },
      "text/plain": [
       "  0%|          | 0/1033140 [00:00<?, ?it/s]"
      ]
     },
     "metadata": {},
     "output_type": "display_data"
    },
    {
     "data": {
      "application/vnd.jupyter.widget-view+json": {
       "model_id": "3836bde9f1c84cd6836610f6ff2e4cd8",
       "version_major": 2,
       "version_minor": 0
      },
      "text/plain": [
       "  0%|          | 0/475488 [00:00<?, ?it/s]"
      ]
     },
     "metadata": {},
     "output_type": "display_data"
    },
    {
     "data": {
      "application/vnd.jupyter.widget-view+json": {
       "model_id": "f22b1c19f0a24c75bb95643541cb7b66",
       "version_major": 2,
       "version_minor": 0
      },
      "text/plain": [
       "  0%|          | 0/420288 [00:00<?, ?it/s]"
      ]
     },
     "metadata": {},
     "output_type": "display_data"
    },
    {
     "data": {
      "application/vnd.jupyter.widget-view+json": {
       "model_id": "4e58d984ff0c4e0ebf87257dc9e619d9",
       "version_major": 2,
       "version_minor": 0
      },
      "text/plain": [
       "  0%|          | 0/411567 [00:00<?, ?it/s]"
      ]
     },
     "metadata": {},
     "output_type": "display_data"
    },
    {
     "data": {
      "application/vnd.jupyter.widget-view+json": {
       "model_id": "766bff2121d04fb7b9288f8401c63e7a",
       "version_major": 2,
       "version_minor": 0
      },
      "text/plain": [
       "  0%|          | 0/345774 [00:00<?, ?it/s]"
      ]
     },
     "metadata": {},
     "output_type": "display_data"
    },
    {
     "data": {
      "application/vnd.jupyter.widget-view+json": {
       "model_id": "1d2840cc60a04696aafc7d45a4da4b4b",
       "version_major": 2,
       "version_minor": 0
      },
      "text/plain": [
       "  0%|          | 0/418872 [00:00<?, ?it/s]"
      ]
     },
     "metadata": {},
     "output_type": "display_data"
    },
    {
     "data": {
      "application/vnd.jupyter.widget-view+json": {
       "model_id": "f3f22d36adc44337a5d0ea9a0cba83a7",
       "version_major": 2,
       "version_minor": 0
      },
      "text/plain": [
       "  0%|          | 0/398001 [00:00<?, ?it/s]"
      ]
     },
     "metadata": {},
     "output_type": "display_data"
    }
   ],
   "source": [
    "try:\n",
    "    df1 = eddu.export_study(session, study_slug_1, edd_server=edd_server)\n",
    "except (NameError, AttributeError, KeyError):\n",
    "    print(f'ERROR! Not able to export study 1.')\n",
    "    \n",
    "try:\n",
    "    df2 = eddu.export_study(session, study_slug_2, edd_server=edd_server)\n",
    "except (NameError, AttributeError, KeyError):\n",
    "    print(f'ERROR! Not able to export study 2.')\n",
    "    \n",
    "try:\n",
    "    df3 = eddu.export_study(session, study_slug_3, edd_server=edd_server)\n",
    "except (NameError, AttributeError, KeyError):\n",
    "    print(f'ERROR! Not able to export study 3.')\n",
    "    \n",
    "try:\n",
    "    df4 = eddu.export_study(session, study_slug_4, edd_server=edd_server)\n",
    "except (NameError, AttributeError, KeyError):\n",
    "    print(f'ERROR! Not able to export study 4.')\n",
    "    \n",
    "try:\n",
    "    df5 = eddu.export_study(session, study_slug_5, edd_server=edd_server)\n",
    "except (NameError, AttributeError, KeyError):\n",
    "    print(f'ERROR! Not able to export study 5.')\n",
    "    \n",
    "try:\n",
    "    df6 = eddu.export_study(session, study_slug_6, edd_server=edd_server)\n",
    "except (NameError, AttributeError, KeyError):\n",
    "    print(f'ERROR! Not able to export study 6.')\n",
    "try:\n",
    "    df7 = eddu.export_study(session, study_slug_7, edd_server=edd_server)\n",
    "except (NameError, AttributeError, KeyError):\n",
    "    print(f'ERROR! Not able to export study 7.')"
   ]
  },
  {
   "cell_type": "code",
   "execution_count": 8,
   "id": "bba9f9ec-3a38-47d3-8c71-53d8bb5d617f",
   "metadata": {
    "tags": []
   },
   "outputs": [
    {
     "name": "stdout",
     "output_type": "stream",
     "text": [
      "i = 1: Protocols: ['GC-FID' 'Global Proteomics']\n",
      "i = 2: Protocols: ['GC-FID' 'Global Proteomics' 'Biolector']\n",
      "i = 3: Protocols: ['GC-FID' 'Global Proteomics']\n",
      "i = 4: Protocols: ['Global Proteomics' 'GC-FID']\n",
      "i = 5: Protocols: ['GC-FID' 'Shotgun (Discovery) Proteomics']\n",
      "i = 6: Protocols: ['GC-FID' 'Global Proteomics']\n",
      "i = 7: Protocols: ['GC-FID' 'Global Proteomics']\n"
     ]
    }
   ],
   "source": [
    "df_list = [df1, df2, df3, df4, df5, df6, df7]\n",
    "for i, df in enumerate(df_list):\n",
    "    print(f'i = {i+1}: Protocols: {df.Protocol.unique()}')"
   ]
  },
  {
   "cell_type": "code",
   "execution_count": 9,
   "id": "6677c1c6-6498-47aa-bd97-16c0849063ba",
   "metadata": {
    "tags": []
   },
   "outputs": [],
   "source": [
    "df5.loc[df5['Protocol'] == 'Shotgun (Discovery) Proteomics', 'Protocol'] = 'Global Proteomics'"
   ]
  },
  {
   "cell_type": "code",
   "execution_count": 10,
   "id": "39156bf3-4467-4e33-9017-96277c76b80e",
   "metadata": {
    "tags": []
   },
   "outputs": [
    {
     "name": "stdout",
     "output_type": "stream",
     "text": [
      "i = 1: Protocols: ['GC-FID' 'Global Proteomics']\n",
      "i = 2: Protocols: ['GC-FID' 'Global Proteomics' 'Biolector']\n",
      "i = 3: Protocols: ['GC-FID' 'Global Proteomics']\n",
      "i = 4: Protocols: ['Global Proteomics' 'GC-FID']\n",
      "i = 5: Protocols: ['GC-FID' 'Global Proteomics']\n",
      "i = 6: Protocols: ['GC-FID' 'Global Proteomics']\n",
      "i = 7: Protocols: ['GC-FID' 'Global Proteomics']\n"
     ]
    }
   ],
   "source": [
    "for i, df in enumerate(df_list):\n",
    "    print(f'i = {i+1}: Protocols: {df.Protocol.unique()}')"
   ]
  },
  {
   "cell_type": "markdown",
   "id": "0a7554de-840f-4e7b-afe5-979e361e0944",
   "metadata": {},
   "source": [
    "## Get unique proteins"
   ]
  },
  {
   "cell_type": "code",
   "execution_count": 11,
   "id": "77ac2da4-17e2-4f8a-bf17-c8f3235262f3",
   "metadata": {
    "tags": []
   },
   "outputs": [
    {
     "data": {
      "text/plain": [
       "array(['P0AE22', 'sp|A0A0M4F6K2', 'sp|A0A140FVW8', 'sp|A0A140FVX0',\n",
       "       'sp|A0A140FVX4'], dtype=object)"
      ]
     },
     "execution_count": 11,
     "metadata": {},
     "output_type": "execute_result"
    }
   ],
   "source": [
    "prot_list = [\n",
    "    df.loc[df['Protocol'] == 'Global Proteomics', 'Formal Type'].unique()\n",
    "    for df in df_list\n",
    "]\n",
    "\n",
    "unique_proteins = np.unique(np.concatenate(prot_list))\n",
    "unique_proteins[:5]"
   ]
  },
  {
   "cell_type": "markdown",
   "id": "953186b0-dde6-44fe-95ba-551f824100c3",
   "metadata": {},
   "source": [
    "## Split each protein entry by delimiter `|`\n",
    "\n",
    "Protein entries look like: `sp|A9GAJ9|A9GAJ9_SORC5 Mcm` but have variable number of entries. \n",
    "\n",
    "Goal is to isolate the 6-character code. First, create a list of lists where each sublist is a single protein entry split along the delimiter."
   ]
  },
  {
   "cell_type": "code",
   "execution_count": 13,
   "id": "077b7e65-dacb-49ad-9214-ddf80380b84d",
   "metadata": {
    "tags": []
   },
   "outputs": [],
   "source": [
    "proteins_split = [p.split('|') for p in unique_proteins]"
   ]
  },
  {
   "cell_type": "markdown",
   "id": "de96383d-29ba-4116-a4a7-19e997b41f99",
   "metadata": {},
   "source": [
    "Check if any of the split strings have length 6:"
   ]
  },
  {
   "cell_type": "code",
   "execution_count": 15,
   "id": "992c93ad-008e-4753-95b6-ce7d1f13e66b",
   "metadata": {
    "tags": []
   },
   "outputs": [
    {
     "name": "stdout",
     "output_type": "stream",
     "text": [
      "For N = 2943 total proteins, N = 2880 have exactly one entry with length six\n"
     ]
    }
   ],
   "source": [
    "any_split_length_6 = [sum(protein_string_lengths==6)==1 for protein_string_lengths in proteins_split_length]\n",
    "print(f\"For N = {len(any_split_length_6)} total proteins, N = {sum(any_split_length_6)} have exactly one entry with length six\")"
   ]
  },
  {
   "cell_type": "code",
   "execution_count": 33,
   "id": "a64e0f4d-e948-4931-9e51-311578aaa7ff",
   "metadata": {
    "tags": []
   },
   "outputs": [],
   "source": [
    "proteins_split_len6 = [protein for (protein, to_keep) in zip(proteins_split, any_split_length_6) if to_keep]"
   ]
  },
  {
   "cell_type": "markdown",
   "id": "9c3a69ff-07d6-4986-8a68-833d2e7ee91c",
   "metadata": {},
   "source": [
    "Iterate through split proteins, identify which index in sublist to save, and append that string to the list of protein ids"
   ]
  },
  {
   "cell_type": "code",
   "execution_count": 36,
   "id": "7ece3707-3d17-4fd7-8371-2ddc3f6747ac",
   "metadata": {
    "tags": []
   },
   "outputs": [
    {
     "data": {
      "text/plain": [
       "2943"
      ]
     },
     "execution_count": 36,
     "metadata": {},
     "output_type": "execute_result"
    }
   ],
   "source": [
    "len(proteins_split)"
   ]
  },
  {
   "cell_type": "code",
   "execution_count": 35,
   "id": "046a92b9-7023-4213-8b15-fb788ed504a5",
   "metadata": {
    "tags": []
   },
   "outputs": [
    {
     "data": {
      "text/plain": [
       "2880"
      ]
     },
     "execution_count": 35,
     "metadata": {},
     "output_type": "execute_result"
    }
   ],
   "source": [
    "len(proteins_split_len6)"
   ]
  },
  {
   "cell_type": "code",
   "execution_count": 52,
   "id": "d59491ef-748d-4b30-a9e2-8d9cb8c06542",
   "metadata": {
    "tags": []
   },
   "outputs": [],
   "source": [
    "protein_ids_for_uniprot = []\n",
    "for idx, protein_ids in enumerate(proteins_split_len6):\n",
    "    substring_len = [len(substring) for substring in protein_ids]\n",
    "    split_to_save = [idx for idx, str_len in enumerate(substring_len) if str_len == 6]\n",
    "    assert len(split_to_save) == 1, f\"idx = {idx}\\t {protein_ids}\\nWrong number of protein IDs have the correct length\"\n",
    "    protein_ids_for_uniprot.append(protein_ids[split_to_save[0]])"
   ]
  },
  {
   "cell_type": "markdown",
   "id": "648e2870-f240-40a7-8ed2-1a647d61e2c1",
   "metadata": {},
   "source": [
    "convert list to dataframe and export to CSV"
   ]
  },
  {
   "cell_type": "code",
   "execution_count": 54,
   "id": "8ea13ed7-8158-4462-b473-29b6092bff65",
   "metadata": {
    "tags": []
   },
   "outputs": [],
   "source": [
    "protein_ids_for_uniprot_df = pd.DataFrame(protein_ids_for_uniprot)\n",
    "protein_ids_for_uniprot_df.to_csv('protein_ids_for_uniprot_tool.csv', index = False, header = False)"
   ]
  },
  {
   "cell_type": "markdown",
   "id": "11661139-f3d6-477a-b8f3-dba511ea7d96",
   "metadata": {},
   "source": [
    "Save dataframe consisting of original protein string (from EDD) and extracted protein ID"
   ]
  },
  {
   "cell_type": "code",
   "execution_count": 60,
   "id": "84dce299-ef96-424d-b809-7fa31fa3cba5",
   "metadata": {
    "tags": []
   },
   "outputs": [],
   "source": [
    "protein_id_conversion_df = pd.DataFrame.from_dict(\n",
    "    {\n",
    "        'orig': unique_proteins,\n",
    "        'has_6letter_substring': any_split_length_6,\n",
    "        'extracted': None\n",
    "    }\n",
    ")\n",
    "protein_id_conversion_df.loc[\n",
    "    protein_id_conversion_df['has_6letter_substring'],\n",
    "    'extracted'\n",
    "] = protein_ids_for_uniprot"
   ]
  },
  {
   "cell_type": "code",
   "execution_count": 61,
   "id": "4bc87b98-d767-4977-9fef-6fd832597ade",
   "metadata": {
    "tags": []
   },
   "outputs": [],
   "source": [
    "protein_id_conversion_df.to_csv('./data/protein_id_conversion_df_init.csv', index = False, header = True)"
   ]
  }
 ],
 "metadata": {
  "kernelspec": {
   "display_name": "Python 3 (ipykernel)",
   "language": "python",
   "name": "python3"
  },
  "language_info": {
   "codemirror_mode": {
    "name": "ipython",
    "version": 3
   },
   "file_extension": ".py",
   "mimetype": "text/x-python",
   "name": "python",
   "nbconvert_exporter": "python",
   "pygments_lexer": "ipython3",
   "version": "3.11.10"
  }
 },
 "nbformat": 4,
 "nbformat_minor": 5
}
