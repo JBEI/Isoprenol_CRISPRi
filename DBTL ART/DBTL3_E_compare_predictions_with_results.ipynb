{
 "cells": [
  {
   "cell_type": "markdown",
   "id": "4599e4a3-ca3a-47d6-9f62-f86b913cac27",
   "metadata": {},
   "source": [
    "# Compare predictions and results\n",
    "After making recommendaitons and passing them to David, we can compare the predicted titer for our recommendations with their results (i.e. the data from DBTL2)."
   ]
  },
  {
   "cell_type": "code",
   "execution_count": 1,
   "id": "a647ba13-facf-4471-bb08-bc7e41f196a8",
   "metadata": {
    "tags": []
   },
   "outputs": [],
   "source": [
    "import edd_utils as eddu\n",
    "import pandas as pd\n",
    "import numpy as np\n",
    "import matplotlib.pyplot as plt\n",
    "import seaborn as sns\n",
    "import re \n",
    "import random\n",
    "random.seed(1)"
   ]
  },
  {
   "cell_type": "code",
   "execution_count": 2,
   "id": "f8978343-02c6-468c-9b67-21a7612f2295",
   "metadata": {
    "tags": []
   },
   "outputs": [],
   "source": [
    "fig_loc = './dbtl3ONLY_figures_and_analysis/'"
   ]
  },
  {
   "cell_type": "markdown",
   "id": "e1b9b6d5-aec4-4208-ac4d-77f0424d5db4",
   "metadata": {},
   "source": [
    "## Import data and recommendations"
   ]
  },
  {
   "cell_type": "code",
   "execution_count": 3,
   "id": "437cde82-26e9-4eb0-8529-252178d6ac4c",
   "metadata": {
    "tags": []
   },
   "outputs": [
    {
     "data": {
      "text/html": [
       "<div>\n",
       "<style scoped>\n",
       "    .dataframe tbody tr th:only-of-type {\n",
       "        vertical-align: middle;\n",
       "    }\n",
       "\n",
       "    .dataframe tbody tr th {\n",
       "        vertical-align: top;\n",
       "    }\n",
       "\n",
       "    .dataframe thead th {\n",
       "        text-align: right;\n",
       "    }\n",
       "</style>\n",
       "<table border=\"1\" class=\"dataframe\">\n",
       "  <thead>\n",
       "    <tr style=\"text-align: right;\">\n",
       "      <th></th>\n",
       "      <th>line_name</th>\n",
       "      <th>pp_mean</th>\n",
       "      <th>pp_std</th>\n",
       "      <th>number_of_grna</th>\n",
       "      <th>in_expt</th>\n",
       "      <th>to_rec</th>\n",
       "    </tr>\n",
       "  </thead>\n",
       "  <tbody>\n",
       "    <tr>\n",
       "      <th>0</th>\n",
       "      <td>PP_0751_PP_0814_PP_1506</td>\n",
       "      <td>419.292418</td>\n",
       "      <td>43.05764</td>\n",
       "      <td>3</td>\n",
       "      <td>0</td>\n",
       "      <td>1</td>\n",
       "    </tr>\n",
       "    <tr>\n",
       "      <th>1</th>\n",
       "      <td>PP_0751_PP_0814_PP_4120</td>\n",
       "      <td>419.292418</td>\n",
       "      <td>43.05764</td>\n",
       "      <td>3</td>\n",
       "      <td>0</td>\n",
       "      <td>1</td>\n",
       "    </tr>\n",
       "    <tr>\n",
       "      <th>2</th>\n",
       "      <td>PP_0751_PP_0814_PP_1506_PP_4120</td>\n",
       "      <td>418.369692</td>\n",
       "      <td>43.09122</td>\n",
       "      <td>4</td>\n",
       "      <td>0</td>\n",
       "      <td>1</td>\n",
       "    </tr>\n",
       "  </tbody>\n",
       "</table>\n",
       "</div>"
      ],
      "text/plain": [
       "                         line_name     pp_mean    pp_std  number_of_grna  \\\n",
       "0          PP_0751_PP_0814_PP_1506  419.292418  43.05764               3   \n",
       "1          PP_0751_PP_0814_PP_4120  419.292418  43.05764               3   \n",
       "2  PP_0751_PP_0814_PP_1506_PP_4120  418.369692  43.09122               4   \n",
       "\n",
       "   in_expt  to_rec  \n",
       "0        0       1  \n",
       "1        0       1  \n",
       "2        0       1  "
      ]
     },
     "execution_count": 3,
     "metadata": {},
     "output_type": "execute_result"
    }
   ],
   "source": [
    "rec_df = pd.read_csv(f'{fig_loc}/filtered_recs_for_dbtl4.csv', index_col = 0)\n",
    "rec_df.head(3)"
   ]
  },
  {
   "cell_type": "code",
   "execution_count": 4,
   "id": "8b9dbde1-e163-42ca-b086-1ec8ce3359e7",
   "metadata": {
    "tags": []
   },
   "outputs": [
    {
     "data": {
      "text/html": [
       "<div>\n",
       "<style scoped>\n",
       "    .dataframe tbody tr th:only-of-type {\n",
       "        vertical-align: middle;\n",
       "    }\n",
       "\n",
       "    .dataframe tbody tr th {\n",
       "        vertical-align: top;\n",
       "    }\n",
       "\n",
       "    .dataframe thead th {\n",
       "        text-align: right;\n",
       "    }\n",
       "</style>\n",
       "<table border=\"1\" class=\"dataframe\">\n",
       "  <thead>\n",
       "    <tr style=\"text-align: right;\">\n",
       "      <th></th>\n",
       "      <th>Study ID</th>\n",
       "      <th>Study Name</th>\n",
       "      <th>Line ID</th>\n",
       "      <th>Replicate Key</th>\n",
       "      <th>Line Name</th>\n",
       "      <th>Line Description</th>\n",
       "      <th>Protocol</th>\n",
       "      <th>Assay ID</th>\n",
       "      <th>Assay Name</th>\n",
       "      <th>Formal Type</th>\n",
       "      <th>Measurement Type</th>\n",
       "      <th>Compartment</th>\n",
       "      <th>Units</th>\n",
       "      <th>Value</th>\n",
       "      <th>Hours</th>\n",
       "    </tr>\n",
       "  </thead>\n",
       "  <tbody>\n",
       "    <tr>\n",
       "      <th>0</th>\n",
       "      <td>211976</td>\n",
       "      <td>CRISPRi automation for enhanced isoprenol prod...</td>\n",
       "      <td>211977</td>\n",
       "      <td>4d3d53db-7352-42aa-8303-91a28fcda44b</td>\n",
       "      <td>PP_0368_PP_0812_PP_0813-R1</td>\n",
       "      <td>DBTL4_P1_001</td>\n",
       "      <td>GC-FID</td>\n",
       "      <td>212307</td>\n",
       "      <td>PP_0368_PP_0812_PP_0813-R1</td>\n",
       "      <td>cid:12988</td>\n",
       "      <td>3-METHYL-3-BUTEN-1-OL</td>\n",
       "      <td>0</td>\n",
       "      <td>mg/L</td>\n",
       "      <td>458.8593</td>\n",
       "      <td>48.0</td>\n",
       "    </tr>\n",
       "    <tr>\n",
       "      <th>1</th>\n",
       "      <td>211976</td>\n",
       "      <td>CRISPRi automation for enhanced isoprenol prod...</td>\n",
       "      <td>211978</td>\n",
       "      <td>a9309f66-2c5f-462b-8c8c-1df3b0152a8d</td>\n",
       "      <td>PP_0368_PP_0812_PP_0815-R1</td>\n",
       "      <td>DBTL4_P1_002</td>\n",
       "      <td>GC-FID</td>\n",
       "      <td>212308</td>\n",
       "      <td>PP_0368_PP_0812_PP_0815-R1</td>\n",
       "      <td>cid:12988</td>\n",
       "      <td>3-METHYL-3-BUTEN-1-OL</td>\n",
       "      <td>0</td>\n",
       "      <td>mg/L</td>\n",
       "      <td>713.6108</td>\n",
       "      <td>48.0</td>\n",
       "    </tr>\n",
       "    <tr>\n",
       "      <th>2</th>\n",
       "      <td>211976</td>\n",
       "      <td>CRISPRi automation for enhanced isoprenol prod...</td>\n",
       "      <td>211979</td>\n",
       "      <td>6daab9e9-3647-47c9-93dc-d5aa33dc7f2f</td>\n",
       "      <td>PP_0751_PP_0812_PP_0814-R1</td>\n",
       "      <td>DBTL4_P1_003</td>\n",
       "      <td>GC-FID</td>\n",
       "      <td>212309</td>\n",
       "      <td>PP_0751_PP_0812_PP_0814-R1</td>\n",
       "      <td>cid:12988</td>\n",
       "      <td>3-METHYL-3-BUTEN-1-OL</td>\n",
       "      <td>0</td>\n",
       "      <td>mg/L</td>\n",
       "      <td>410.4078</td>\n",
       "      <td>48.0</td>\n",
       "    </tr>\n",
       "  </tbody>\n",
       "</table>\n",
       "</div>"
      ],
      "text/plain": [
       "   Study ID                                         Study Name  Line ID  \\\n",
       "0    211976  CRISPRi automation for enhanced isoprenol prod...   211977   \n",
       "1    211976  CRISPRi automation for enhanced isoprenol prod...   211978   \n",
       "2    211976  CRISPRi automation for enhanced isoprenol prod...   211979   \n",
       "\n",
       "                          Replicate Key                   Line Name  \\\n",
       "0  4d3d53db-7352-42aa-8303-91a28fcda44b  PP_0368_PP_0812_PP_0813-R1   \n",
       "1  a9309f66-2c5f-462b-8c8c-1df3b0152a8d  PP_0368_PP_0812_PP_0815-R1   \n",
       "2  6daab9e9-3647-47c9-93dc-d5aa33dc7f2f  PP_0751_PP_0812_PP_0814-R1   \n",
       "\n",
       "  Line Description Protocol  Assay ID                  Assay Name Formal Type  \\\n",
       "0     DBTL4_P1_001   GC-FID    212307  PP_0368_PP_0812_PP_0813-R1   cid:12988   \n",
       "1     DBTL4_P1_002   GC-FID    212308  PP_0368_PP_0812_PP_0815-R1   cid:12988   \n",
       "2     DBTL4_P1_003   GC-FID    212309  PP_0751_PP_0812_PP_0814-R1   cid:12988   \n",
       "\n",
       "        Measurement Type  Compartment Units     Value  Hours  \n",
       "0  3-METHYL-3-BUTEN-1-OL            0  mg/L  458.8593   48.0  \n",
       "1  3-METHYL-3-BUTEN-1-OL            0  mg/L  713.6108   48.0  \n",
       "2  3-METHYL-3-BUTEN-1-OL            0  mg/L  410.4078   48.0  "
      ]
     },
     "execution_count": 4,
     "metadata": {},
     "output_type": "execute_result"
    }
   ],
   "source": [
    "data_df = pd.read_pickle('./isoprenol_data/dbtl4_isoprenol.pkl')\n",
    "data_df.head(3)"
   ]
  },
  {
   "cell_type": "markdown",
   "id": "bdea10d0-3cba-47b5-972f-d115ee2b2f68",
   "metadata": {},
   "source": [
    "## Format data "
   ]
  },
  {
   "cell_type": "markdown",
   "id": "f904f8db-6a8c-4933-97d4-425ed075ab84",
   "metadata": {},
   "source": [
    "### Drop unneeded columns"
   ]
  },
  {
   "cell_type": "code",
   "execution_count": 5,
   "id": "f9dff35c-2e4c-4d80-970c-45e88f87bc2a",
   "metadata": {
    "tags": []
   },
   "outputs": [
    {
     "data": {
      "text/html": [
       "<div>\n",
       "<style scoped>\n",
       "    .dataframe tbody tr th:only-of-type {\n",
       "        vertical-align: middle;\n",
       "    }\n",
       "\n",
       "    .dataframe tbody tr th {\n",
       "        vertical-align: top;\n",
       "    }\n",
       "\n",
       "    .dataframe thead th {\n",
       "        text-align: right;\n",
       "    }\n",
       "</style>\n",
       "<table border=\"1\" class=\"dataframe\">\n",
       "  <thead>\n",
       "    <tr style=\"text-align: right;\">\n",
       "      <th></th>\n",
       "      <th>Line Name</th>\n",
       "      <th>Value</th>\n",
       "    </tr>\n",
       "  </thead>\n",
       "  <tbody>\n",
       "    <tr>\n",
       "      <th>0</th>\n",
       "      <td>PP_0368_PP_0812_PP_0813-R1</td>\n",
       "      <td>458.8593</td>\n",
       "    </tr>\n",
       "    <tr>\n",
       "      <th>1</th>\n",
       "      <td>PP_0368_PP_0812_PP_0815-R1</td>\n",
       "      <td>713.6108</td>\n",
       "    </tr>\n",
       "    <tr>\n",
       "      <th>2</th>\n",
       "      <td>PP_0751_PP_0812_PP_0814-R1</td>\n",
       "      <td>410.4078</td>\n",
       "    </tr>\n",
       "    <tr>\n",
       "      <th>3</th>\n",
       "      <td>PP_0751_PP_0813_PP_0814-R1</td>\n",
       "      <td>313.9162</td>\n",
       "    </tr>\n",
       "    <tr>\n",
       "      <th>4</th>\n",
       "      <td>PP_0751_PP_0814_PP_4191-R1</td>\n",
       "      <td>351.5461</td>\n",
       "    </tr>\n",
       "    <tr>\n",
       "      <th>...</th>\n",
       "      <td>...</td>\n",
       "      <td>...</td>\n",
       "    </tr>\n",
       "    <tr>\n",
       "      <th>181</th>\n",
       "      <td>PP_1317_PP_4189-R3</td>\n",
       "      <td>236.1831</td>\n",
       "    </tr>\n",
       "    <tr>\n",
       "      <th>182</th>\n",
       "      <td>PP_1506_PP_4189-R3</td>\n",
       "      <td>330.6933</td>\n",
       "    </tr>\n",
       "    <tr>\n",
       "      <th>183</th>\n",
       "      <td>PP_4120_PP_4189-R3</td>\n",
       "      <td>16.9408</td>\n",
       "    </tr>\n",
       "    <tr>\n",
       "      <th>184</th>\n",
       "      <td>PP_4189_PP_4191-R3</td>\n",
       "      <td>310.2654</td>\n",
       "    </tr>\n",
       "    <tr>\n",
       "      <th>185</th>\n",
       "      <td>Control_P4-R3</td>\n",
       "      <td>155.0741</td>\n",
       "    </tr>\n",
       "  </tbody>\n",
       "</table>\n",
       "<p>186 rows × 2 columns</p>\n",
       "</div>"
      ],
      "text/plain": [
       "                      Line Name     Value\n",
       "0    PP_0368_PP_0812_PP_0813-R1  458.8593\n",
       "1    PP_0368_PP_0812_PP_0815-R1  713.6108\n",
       "2    PP_0751_PP_0812_PP_0814-R1  410.4078\n",
       "3    PP_0751_PP_0813_PP_0814-R1  313.9162\n",
       "4    PP_0751_PP_0814_PP_4191-R1  351.5461\n",
       "..                          ...       ...\n",
       "181          PP_1317_PP_4189-R3  236.1831\n",
       "182          PP_1506_PP_4189-R3  330.6933\n",
       "183          PP_4120_PP_4189-R3   16.9408\n",
       "184          PP_4189_PP_4191-R3  310.2654\n",
       "185               Control_P4-R3  155.0741\n",
       "\n",
       "[186 rows x 2 columns]"
      ]
     },
     "execution_count": 5,
     "metadata": {},
     "output_type": "execute_result"
    }
   ],
   "source": [
    "columns_to_keep = ['Line Name', 'Value']\n",
    "data_df = data_df[columns_to_keep]\n",
    "data_df"
   ]
  },
  {
   "cell_type": "code",
   "execution_count": 7,
   "id": "e51a1684-f6d2-4471-acdd-23459f2a4aa8",
   "metadata": {
    "tags": []
   },
   "outputs": [
    {
     "data": {
      "text/plain": [
       "array(['PP_0368_PP_0437_PP_0812', 'PP_0368_PP_0528', 'PP_0368_PP_0751',\n",
       "       'PP_0368_PP_0751_PP_0814', 'PP_0368_PP_0812_PP_0813',\n",
       "       'PP_0368_PP_0812_PP_0815', 'PP_0368_PP_0812_PP_1506',\n",
       "       'PP_0368_PP_0812_PP_1769', 'PP_0368_PP_0812_PP_4120',\n",
       "       'PP_0368_PP_0812_PP_4192', 'PP_0368_PP_0814', 'PP_0368_PP_0815',\n",
       "       'PP_0368_PP_0815_PP_1317', 'PP_0368_PP_4189_PP_4192',\n",
       "       'PP_0368_PP_4191', 'PP_0437_PP_0815_PP_1317',\n",
       "       'PP_0528_PP_0751_PP_0814', 'PP_0528_PP_0812_PP_0815',\n",
       "       'PP_0528_PP_0814', 'PP_0528_PP_0815', 'PP_0528_PP_4189',\n",
       "       'PP_0751_PP_0812_PP_0814', 'PP_0751_PP_0813_PP_0814',\n",
       "       'PP_0751_PP_0814_PP_1506', 'PP_0751_PP_0814_PP_1506_PP_1769',\n",
       "       'PP_0751_PP_0814_PP_1506_PP_4120',\n",
       "       'PP_0751_PP_0814_PP_1769_PP_4120',\n",
       "       'PP_0751_PP_0814_PP_1769_PP_4192', 'PP_0751_PP_0814_PP_2136',\n",
       "       'PP_0751_PP_0814_PP_4120', 'PP_0751_PP_0814_PP_4120_PP_4192',\n",
       "       'PP_0751_PP_0814_PP_4189', 'PP_0751_PP_0814_PP_4191',\n",
       "       'PP_0751_PP_0814_PP_4192', 'PP_0751_PP_0815',\n",
       "       'PP_0812_PP_0813_PP_0815', 'PP_0813_PP_0815', 'PP_0813_PP_4189',\n",
       "       'PP_0813_PP_4189_PP_4192', 'PP_0814_PP_0815', 'PP_0814_PP_1317',\n",
       "       'PP_0814_PP_1506', 'PP_0814_PP_1769', 'PP_0814_PP_4120',\n",
       "       'PP_0814_PP_4189', 'PP_0814_PP_4191', 'PP_0814_PP_4192',\n",
       "       'PP_0815_PP_1317_PP_1506', 'PP_0815_PP_1317_PP_1769',\n",
       "       'PP_0815_PP_1317_PP_2136', 'PP_0815_PP_1317_PP_4120',\n",
       "       'PP_0815_PP_1317_PP_4192', 'PP_0815_PP_4120', 'PP_0815_PP_4189',\n",
       "       'PP_1317_PP_4189', 'PP_1506_PP_4189', 'PP_1506_PP_4189_PP_4192',\n",
       "       'PP_4120_PP_4189', 'PP_4120_PP_4189_PP_4192', 'PP_4189_PP_4191'],\n",
       "      dtype=object)"
      ]
     },
     "execution_count": 7,
     "metadata": {},
     "output_type": "execute_result"
    }
   ],
   "source": [
    "np.sort(rec_df['line_name'].unique())"
   ]
  },
  {
   "cell_type": "markdown",
   "id": "8b25e2b6-83f2-42a3-9407-9c8338ab7257",
   "metadata": {},
   "source": [
    "### Add replicate column"
   ]
  },
  {
   "cell_type": "code",
   "execution_count": 8,
   "id": "9f25e998-1d8b-43c3-af5f-262520f6c839",
   "metadata": {
    "tags": []
   },
   "outputs": [],
   "source": [
    "data_df['rep'] = data_df['Line Name'].apply(lambda x: int(x[-1]))"
   ]
  },
  {
   "cell_type": "markdown",
   "id": "a3fd99dd-2afd-4b35-a15b-4a17d3941fc7",
   "metadata": {},
   "source": [
    "### Add line name with no rep"
   ]
  },
  {
   "cell_type": "code",
   "execution_count": 9,
   "id": "8e6fed73-3470-4958-aa8a-cb03f6fd8d25",
   "metadata": {
    "tags": []
   },
   "outputs": [],
   "source": [
    "data_df['line_name_norep'] = data_df['Line Name'].apply(lambda x: x.split('-')[0])"
   ]
  },
  {
   "cell_type": "markdown",
   "id": "a0c347bb-b996-4c94-ae10-49f7a7fac8be",
   "metadata": {},
   "source": [
    "### Identify and drop controls"
   ]
  },
  {
   "cell_type": "code",
   "execution_count": 10,
   "id": "04c84b7a-fe25-45ae-a4b7-7127cca0a563",
   "metadata": {
    "tags": []
   },
   "outputs": [
    {
     "data": {
      "text/plain": [
       "(186, 4)"
      ]
     },
     "execution_count": 10,
     "metadata": {},
     "output_type": "execute_result"
    }
   ],
   "source": [
    "data_df.shape"
   ]
  },
  {
   "cell_type": "code",
   "execution_count": 11,
   "id": "89da8a05-b177-4bdf-a752-62f7f996c329",
   "metadata": {
    "tags": []
   },
   "outputs": [],
   "source": [
    "data_df['is_control'] = data_df['Line Name'].apply(lambda x: 'ontrol' in x)\n",
    "data_df = data_df[~data_df['is_control']]"
   ]
  },
  {
   "cell_type": "code",
   "execution_count": 12,
   "id": "7c656799-b3fa-4055-bea7-c549037853fd",
   "metadata": {
    "tags": []
   },
   "outputs": [
    {
     "data": {
      "text/plain": [
       "(174, 5)"
      ]
     },
     "execution_count": 12,
     "metadata": {},
     "output_type": "execute_result"
    }
   ],
   "source": [
    "data_df.shape"
   ]
  },
  {
   "cell_type": "code",
   "execution_count": 13,
   "id": "ae490e25-54ea-49b7-8090-d91868c1dcd1",
   "metadata": {
    "tags": []
   },
   "outputs": [
    {
     "data": {
      "text/html": [
       "<div>\n",
       "<style scoped>\n",
       "    .dataframe tbody tr th:only-of-type {\n",
       "        vertical-align: middle;\n",
       "    }\n",
       "\n",
       "    .dataframe tbody tr th {\n",
       "        vertical-align: top;\n",
       "    }\n",
       "\n",
       "    .dataframe thead th {\n",
       "        text-align: right;\n",
       "    }\n",
       "</style>\n",
       "<table border=\"1\" class=\"dataframe\">\n",
       "  <thead>\n",
       "    <tr style=\"text-align: right;\">\n",
       "      <th></th>\n",
       "      <th>Line Name</th>\n",
       "      <th>Value</th>\n",
       "      <th>rep</th>\n",
       "      <th>line_name_norep</th>\n",
       "      <th>is_control</th>\n",
       "    </tr>\n",
       "  </thead>\n",
       "  <tbody>\n",
       "    <tr>\n",
       "      <th>0</th>\n",
       "      <td>PP_0368_PP_0812_PP_0813-R1</td>\n",
       "      <td>458.8593</td>\n",
       "      <td>1</td>\n",
       "      <td>PP_0368_PP_0812_PP_0813</td>\n",
       "      <td>False</td>\n",
       "    </tr>\n",
       "    <tr>\n",
       "      <th>1</th>\n",
       "      <td>PP_0368_PP_0812_PP_0815-R1</td>\n",
       "      <td>713.6108</td>\n",
       "      <td>1</td>\n",
       "      <td>PP_0368_PP_0812_PP_0815</td>\n",
       "      <td>False</td>\n",
       "    </tr>\n",
       "    <tr>\n",
       "      <th>2</th>\n",
       "      <td>PP_0751_PP_0812_PP_0814-R1</td>\n",
       "      <td>410.4078</td>\n",
       "      <td>1</td>\n",
       "      <td>PP_0751_PP_0812_PP_0814</td>\n",
       "      <td>False</td>\n",
       "    </tr>\n",
       "  </tbody>\n",
       "</table>\n",
       "</div>"
      ],
      "text/plain": [
       "                    Line Name     Value  rep          line_name_norep  \\\n",
       "0  PP_0368_PP_0812_PP_0813-R1  458.8593    1  PP_0368_PP_0812_PP_0813   \n",
       "1  PP_0368_PP_0812_PP_0815-R1  713.6108    1  PP_0368_PP_0812_PP_0815   \n",
       "2  PP_0751_PP_0812_PP_0814-R1  410.4078    1  PP_0751_PP_0812_PP_0814   \n",
       "\n",
       "   is_control  \n",
       "0       False  \n",
       "1       False  \n",
       "2       False  "
      ]
     },
     "execution_count": 13,
     "metadata": {},
     "output_type": "execute_result"
    }
   ],
   "source": [
    "data_df.head(3)"
   ]
  },
  {
   "cell_type": "markdown",
   "id": "3e8447f7-6cc4-4701-bef2-2718441527ef",
   "metadata": {},
   "source": [
    "### Drop lines w/ no predictions"
   ]
  },
  {
   "cell_type": "code",
   "execution_count": 14,
   "id": "db872fcc-6fde-4176-b9c3-d19d7b4b827f",
   "metadata": {
    "tags": []
   },
   "outputs": [
    {
     "data": {
      "text/plain": [
       "False"
      ]
     },
     "execution_count": 14,
     "metadata": {},
     "output_type": "execute_result"
    }
   ],
   "source": [
    "any('PP_0528_PP_0815_PP_1317_PP_4191' == rec_df['line_name'])"
   ]
  },
  {
   "cell_type": "code",
   "execution_count": 15,
   "id": "bd15ae43-d932-4b05-9738-7ed89fb6b78e",
   "metadata": {
    "tags": []
   },
   "outputs": [
    {
     "data": {
      "text/plain": [
       "False"
      ]
     },
     "execution_count": 15,
     "metadata": {},
     "output_type": "execute_result"
    }
   ],
   "source": [
    "'PP_0528_PP_0815_PP_1317_PP_4191' in rec_df['line_name']"
   ]
  },
  {
   "cell_type": "code",
   "execution_count": 16,
   "id": "3180679e-d141-43b8-95b2-5b77391500e9",
   "metadata": {
    "tags": []
   },
   "outputs": [
    {
     "name": "stderr",
     "output_type": "stream",
     "text": [
      "/tmp/ipykernel_18689/3146226239.py:4: SettingWithCopyWarning: \n",
      "A value is trying to be set on a copy of a slice from a DataFrame.\n",
      "Try using .loc[row_indexer,col_indexer] = value instead\n",
      "\n",
      "See the caveats in the documentation: https://pandas.pydata.org/pandas-docs/stable/user_guide/indexing.html#returning-a-view-versus-a-copy\n",
      "  data_df.loc[:,'has_rec'] = data_df['line_name_norep'].apply(lambda x: has_rec(x, rec_df['line_name'].unique()))\n"
     ]
    },
    {
     "data": {
      "text/html": [
       "<div>\n",
       "<style scoped>\n",
       "    .dataframe tbody tr th:only-of-type {\n",
       "        vertical-align: middle;\n",
       "    }\n",
       "\n",
       "    .dataframe tbody tr th {\n",
       "        vertical-align: top;\n",
       "    }\n",
       "\n",
       "    .dataframe thead th {\n",
       "        text-align: right;\n",
       "    }\n",
       "</style>\n",
       "<table border=\"1\" class=\"dataframe\">\n",
       "  <thead>\n",
       "    <tr style=\"text-align: right;\">\n",
       "      <th></th>\n",
       "      <th>Line Name</th>\n",
       "      <th>Value</th>\n",
       "      <th>rep</th>\n",
       "      <th>line_name_norep</th>\n",
       "      <th>is_control</th>\n",
       "      <th>has_rec</th>\n",
       "    </tr>\n",
       "  </thead>\n",
       "  <tbody>\n",
       "    <tr>\n",
       "      <th>0</th>\n",
       "      <td>PP_0368_PP_0812_PP_0813-R1</td>\n",
       "      <td>458.8593</td>\n",
       "      <td>1</td>\n",
       "      <td>PP_0368_PP_0812_PP_0813</td>\n",
       "      <td>False</td>\n",
       "      <td>True</td>\n",
       "    </tr>\n",
       "    <tr>\n",
       "      <th>1</th>\n",
       "      <td>PP_0368_PP_0812_PP_0815-R1</td>\n",
       "      <td>713.6108</td>\n",
       "      <td>1</td>\n",
       "      <td>PP_0368_PP_0812_PP_0815</td>\n",
       "      <td>False</td>\n",
       "      <td>True</td>\n",
       "    </tr>\n",
       "    <tr>\n",
       "      <th>2</th>\n",
       "      <td>PP_0751_PP_0812_PP_0814-R1</td>\n",
       "      <td>410.4078</td>\n",
       "      <td>1</td>\n",
       "      <td>PP_0751_PP_0812_PP_0814</td>\n",
       "      <td>False</td>\n",
       "      <td>True</td>\n",
       "    </tr>\n",
       "  </tbody>\n",
       "</table>\n",
       "</div>"
      ],
      "text/plain": [
       "                    Line Name     Value  rep          line_name_norep  \\\n",
       "0  PP_0368_PP_0812_PP_0813-R1  458.8593    1  PP_0368_PP_0812_PP_0813   \n",
       "1  PP_0368_PP_0812_PP_0815-R1  713.6108    1  PP_0368_PP_0812_PP_0815   \n",
       "2  PP_0751_PP_0812_PP_0814-R1  410.4078    1  PP_0751_PP_0812_PP_0814   \n",
       "\n",
       "   is_control  has_rec  \n",
       "0       False     True  \n",
       "1       False     True  \n",
       "2       False     True  "
      ]
     },
     "execution_count": 16,
     "metadata": {},
     "output_type": "execute_result"
    }
   ],
   "source": [
    "def has_rec(line, all_rec_lines):\n",
    "    return any(line == all_rec_lines)\n",
    "\n",
    "data_df.loc[:,'has_rec'] = data_df['line_name_norep'].apply(lambda x: has_rec(x, rec_df['line_name'].unique()))\n",
    "data_df.head(3)"
   ]
  },
  {
   "cell_type": "code",
   "execution_count": 17,
   "id": "a78600af-d46a-4e73-b490-3ac426f97dbb",
   "metadata": {
    "tags": []
   },
   "outputs": [
    {
     "data": {
      "text/html": [
       "<div>\n",
       "<style scoped>\n",
       "    .dataframe tbody tr th:only-of-type {\n",
       "        vertical-align: middle;\n",
       "    }\n",
       "\n",
       "    .dataframe tbody tr th {\n",
       "        vertical-align: top;\n",
       "    }\n",
       "\n",
       "    .dataframe thead th {\n",
       "        text-align: right;\n",
       "    }\n",
       "</style>\n",
       "<table border=\"1\" class=\"dataframe\">\n",
       "  <thead>\n",
       "    <tr style=\"text-align: right;\">\n",
       "      <th></th>\n",
       "      <th>Line Name</th>\n",
       "      <th>Value</th>\n",
       "      <th>rep</th>\n",
       "      <th>line_name_norep</th>\n",
       "      <th>is_control</th>\n",
       "      <th>has_rec</th>\n",
       "    </tr>\n",
       "  </thead>\n",
       "  <tbody>\n",
       "    <tr>\n",
       "      <th>0</th>\n",
       "      <td>PP_0368_PP_0812_PP_0813-R1</td>\n",
       "      <td>458.8593</td>\n",
       "      <td>1</td>\n",
       "      <td>PP_0368_PP_0812_PP_0813</td>\n",
       "      <td>False</td>\n",
       "      <td>True</td>\n",
       "    </tr>\n",
       "    <tr>\n",
       "      <th>1</th>\n",
       "      <td>PP_0368_PP_0812_PP_0815-R1</td>\n",
       "      <td>713.6108</td>\n",
       "      <td>1</td>\n",
       "      <td>PP_0368_PP_0812_PP_0815</td>\n",
       "      <td>False</td>\n",
       "      <td>True</td>\n",
       "    </tr>\n",
       "    <tr>\n",
       "      <th>2</th>\n",
       "      <td>PP_0751_PP_0812_PP_0814-R1</td>\n",
       "      <td>410.4078</td>\n",
       "      <td>1</td>\n",
       "      <td>PP_0751_PP_0812_PP_0814</td>\n",
       "      <td>False</td>\n",
       "      <td>True</td>\n",
       "    </tr>\n",
       "    <tr>\n",
       "      <th>3</th>\n",
       "      <td>PP_0751_PP_0813_PP_0814-R1</td>\n",
       "      <td>313.9162</td>\n",
       "      <td>1</td>\n",
       "      <td>PP_0751_PP_0813_PP_0814</td>\n",
       "      <td>False</td>\n",
       "      <td>True</td>\n",
       "    </tr>\n",
       "    <tr>\n",
       "      <th>4</th>\n",
       "      <td>PP_0751_PP_0814_PP_4191-R1</td>\n",
       "      <td>351.5461</td>\n",
       "      <td>1</td>\n",
       "      <td>PP_0751_PP_0814_PP_4191</td>\n",
       "      <td>False</td>\n",
       "      <td>True</td>\n",
       "    </tr>\n",
       "    <tr>\n",
       "      <th>...</th>\n",
       "      <td>...</td>\n",
       "      <td>...</td>\n",
       "      <td>...</td>\n",
       "      <td>...</td>\n",
       "      <td>...</td>\n",
       "      <td>...</td>\n",
       "    </tr>\n",
       "    <tr>\n",
       "      <th>180</th>\n",
       "      <td>PP_0815_PP_4189-R3</td>\n",
       "      <td>552.4192</td>\n",
       "      <td>3</td>\n",
       "      <td>PP_0815_PP_4189</td>\n",
       "      <td>False</td>\n",
       "      <td>True</td>\n",
       "    </tr>\n",
       "    <tr>\n",
       "      <th>181</th>\n",
       "      <td>PP_1317_PP_4189-R3</td>\n",
       "      <td>236.1831</td>\n",
       "      <td>3</td>\n",
       "      <td>PP_1317_PP_4189</td>\n",
       "      <td>False</td>\n",
       "      <td>True</td>\n",
       "    </tr>\n",
       "    <tr>\n",
       "      <th>182</th>\n",
       "      <td>PP_1506_PP_4189-R3</td>\n",
       "      <td>330.6933</td>\n",
       "      <td>3</td>\n",
       "      <td>PP_1506_PP_4189</td>\n",
       "      <td>False</td>\n",
       "      <td>True</td>\n",
       "    </tr>\n",
       "    <tr>\n",
       "      <th>183</th>\n",
       "      <td>PP_4120_PP_4189-R3</td>\n",
       "      <td>16.9408</td>\n",
       "      <td>3</td>\n",
       "      <td>PP_4120_PP_4189</td>\n",
       "      <td>False</td>\n",
       "      <td>True</td>\n",
       "    </tr>\n",
       "    <tr>\n",
       "      <th>184</th>\n",
       "      <td>PP_4189_PP_4191-R3</td>\n",
       "      <td>310.2654</td>\n",
       "      <td>3</td>\n",
       "      <td>PP_4189_PP_4191</td>\n",
       "      <td>False</td>\n",
       "      <td>True</td>\n",
       "    </tr>\n",
       "  </tbody>\n",
       "</table>\n",
       "<p>174 rows × 6 columns</p>\n",
       "</div>"
      ],
      "text/plain": [
       "                      Line Name     Value  rep          line_name_norep  \\\n",
       "0    PP_0368_PP_0812_PP_0813-R1  458.8593    1  PP_0368_PP_0812_PP_0813   \n",
       "1    PP_0368_PP_0812_PP_0815-R1  713.6108    1  PP_0368_PP_0812_PP_0815   \n",
       "2    PP_0751_PP_0812_PP_0814-R1  410.4078    1  PP_0751_PP_0812_PP_0814   \n",
       "3    PP_0751_PP_0813_PP_0814-R1  313.9162    1  PP_0751_PP_0813_PP_0814   \n",
       "4    PP_0751_PP_0814_PP_4191-R1  351.5461    1  PP_0751_PP_0814_PP_4191   \n",
       "..                          ...       ...  ...                      ...   \n",
       "180          PP_0815_PP_4189-R3  552.4192    3          PP_0815_PP_4189   \n",
       "181          PP_1317_PP_4189-R3  236.1831    3          PP_1317_PP_4189   \n",
       "182          PP_1506_PP_4189-R3  330.6933    3          PP_1506_PP_4189   \n",
       "183          PP_4120_PP_4189-R3   16.9408    3          PP_4120_PP_4189   \n",
       "184          PP_4189_PP_4191-R3  310.2654    3          PP_4189_PP_4191   \n",
       "\n",
       "     is_control  has_rec  \n",
       "0         False     True  \n",
       "1         False     True  \n",
       "2         False     True  \n",
       "3         False     True  \n",
       "4         False     True  \n",
       "..          ...      ...  \n",
       "180       False     True  \n",
       "181       False     True  \n",
       "182       False     True  \n",
       "183       False     True  \n",
       "184       False     True  \n",
       "\n",
       "[174 rows x 6 columns]"
      ]
     },
     "execution_count": 17,
     "metadata": {},
     "output_type": "execute_result"
    }
   ],
   "source": [
    "data_df"
   ]
  },
  {
   "cell_type": "code",
   "execution_count": 18,
   "id": "f0a2fb86-f7b3-4eb6-b359-83f2b22349df",
   "metadata": {
    "tags": []
   },
   "outputs": [
    {
     "data": {
      "text/plain": [
       "(171, 6)"
      ]
     },
     "execution_count": 18,
     "metadata": {},
     "output_type": "execute_result"
    }
   ],
   "source": [
    "data_df = data_df[data_df['has_rec']]\n",
    "data_df.shape"
   ]
  },
  {
   "cell_type": "markdown",
   "id": "214eaf3b-9a35-4414-8e69-c0a8b5899d04",
   "metadata": {},
   "source": [
    "## make dataframe for predictions and data"
   ]
  },
  {
   "cell_type": "code",
   "execution_count": 19,
   "id": "cdb103b1-9f63-4588-b159-1241390b87dc",
   "metadata": {
    "tags": []
   },
   "outputs": [
    {
     "data": {
      "text/html": [
       "<div>\n",
       "<style scoped>\n",
       "    .dataframe tbody tr th:only-of-type {\n",
       "        vertical-align: middle;\n",
       "    }\n",
       "\n",
       "    .dataframe tbody tr th {\n",
       "        vertical-align: top;\n",
       "    }\n",
       "\n",
       "    .dataframe thead th {\n",
       "        text-align: right;\n",
       "    }\n",
       "</style>\n",
       "<table border=\"1\" class=\"dataframe\">\n",
       "  <thead>\n",
       "    <tr style=\"text-align: right;\">\n",
       "      <th></th>\n",
       "      <th>line</th>\n",
       "    </tr>\n",
       "  </thead>\n",
       "  <tbody>\n",
       "    <tr>\n",
       "      <th>0</th>\n",
       "      <td>PP_0368_PP_0812_PP_0813</td>\n",
       "    </tr>\n",
       "    <tr>\n",
       "      <th>1</th>\n",
       "      <td>PP_0368_PP_0812_PP_0815</td>\n",
       "    </tr>\n",
       "    <tr>\n",
       "      <th>2</th>\n",
       "      <td>PP_0751_PP_0812_PP_0814</td>\n",
       "    </tr>\n",
       "  </tbody>\n",
       "</table>\n",
       "</div>"
      ],
      "text/plain": [
       "                      line\n",
       "0  PP_0368_PP_0812_PP_0813\n",
       "1  PP_0368_PP_0812_PP_0815\n",
       "2  PP_0751_PP_0812_PP_0814"
      ]
     },
     "execution_count": 19,
     "metadata": {},
     "output_type": "execute_result"
    }
   ],
   "source": [
    "df = pd.DataFrame(columns = ['line'])\n",
    "df['line'] = data_df['line_name_norep'].unique()\n",
    "df.head(3)"
   ]
  },
  {
   "cell_type": "markdown",
   "id": "39affd86-498f-4535-89c9-d27363ef5d3f",
   "metadata": {},
   "source": [
    "### Add experimental data to df"
   ]
  },
  {
   "cell_type": "code",
   "execution_count": 20,
   "id": "b37194b6-22a1-4a93-a240-b00ebb1f842d",
   "metadata": {
    "tags": []
   },
   "outputs": [],
   "source": [
    "df.loc[:, 'mean'] = df['line'].apply(lambda x: \n",
    "                                     np.mean(\n",
    "                                         data_df.loc[data_df['line_name_norep'] == x, 'Value']\n",
    "                                     ))\n",
    "\n",
    "df.loc[:, 'std'] = df['line'].apply(lambda x: \n",
    "                                     np.std(\n",
    "                                         data_df.loc[data_df['line_name_norep'] == x, 'Value']\n",
    "                                     ))"
   ]
  },
  {
   "cell_type": "markdown",
   "id": "06d61494-6aa8-4354-ba36-a57c5ad621c1",
   "metadata": {},
   "source": [
    "### Add predictions to df"
   ]
  },
  {
   "cell_type": "code",
   "execution_count": 21,
   "id": "76170d32-ba0d-460a-8366-521fed9159f0",
   "metadata": {
    "tags": []
   },
   "outputs": [
    {
     "data": {
      "text/html": [
       "<div>\n",
       "<style scoped>\n",
       "    .dataframe tbody tr th:only-of-type {\n",
       "        vertical-align: middle;\n",
       "    }\n",
       "\n",
       "    .dataframe tbody tr th {\n",
       "        vertical-align: top;\n",
       "    }\n",
       "\n",
       "    .dataframe thead th {\n",
       "        text-align: right;\n",
       "    }\n",
       "</style>\n",
       "<table border=\"1\" class=\"dataframe\">\n",
       "  <thead>\n",
       "    <tr style=\"text-align: right;\">\n",
       "      <th></th>\n",
       "      <th>line_name</th>\n",
       "      <th>pp_mean</th>\n",
       "      <th>pp_std</th>\n",
       "      <th>number_of_grna</th>\n",
       "      <th>in_expt</th>\n",
       "      <th>to_rec</th>\n",
       "    </tr>\n",
       "  </thead>\n",
       "  <tbody>\n",
       "    <tr>\n",
       "      <th>0</th>\n",
       "      <td>PP_0751_PP_0814_PP_1506</td>\n",
       "      <td>419.292418</td>\n",
       "      <td>43.05764</td>\n",
       "      <td>3</td>\n",
       "      <td>0</td>\n",
       "      <td>1</td>\n",
       "    </tr>\n",
       "    <tr>\n",
       "      <th>1</th>\n",
       "      <td>PP_0751_PP_0814_PP_4120</td>\n",
       "      <td>419.292418</td>\n",
       "      <td>43.05764</td>\n",
       "      <td>3</td>\n",
       "      <td>0</td>\n",
       "      <td>1</td>\n",
       "    </tr>\n",
       "    <tr>\n",
       "      <th>2</th>\n",
       "      <td>PP_0751_PP_0814_PP_1506_PP_4120</td>\n",
       "      <td>418.369692</td>\n",
       "      <td>43.09122</td>\n",
       "      <td>4</td>\n",
       "      <td>0</td>\n",
       "      <td>1</td>\n",
       "    </tr>\n",
       "  </tbody>\n",
       "</table>\n",
       "</div>"
      ],
      "text/plain": [
       "                         line_name     pp_mean    pp_std  number_of_grna  \\\n",
       "0          PP_0751_PP_0814_PP_1506  419.292418  43.05764               3   \n",
       "1          PP_0751_PP_0814_PP_4120  419.292418  43.05764               3   \n",
       "2  PP_0751_PP_0814_PP_1506_PP_4120  418.369692  43.09122               4   \n",
       "\n",
       "   in_expt  to_rec  \n",
       "0        0       1  \n",
       "1        0       1  \n",
       "2        0       1  "
      ]
     },
     "execution_count": 21,
     "metadata": {},
     "output_type": "execute_result"
    }
   ],
   "source": [
    "rec_df.head(3)"
   ]
  },
  {
   "cell_type": "code",
   "execution_count": 24,
   "id": "f0d455bc-1343-49f8-bc22-abf963f9dccd",
   "metadata": {
    "tags": []
   },
   "outputs": [],
   "source": [
    "# rec_df.loc[rec_df['line_name'] == 'PP_0528_PP_0813_PP_0815_PP_1317', 'pp_mean'].values[0]"
   ]
  },
  {
   "cell_type": "code",
   "execution_count": 25,
   "id": "45500766-279c-42c2-bdfb-f5a1479287fd",
   "metadata": {
    "tags": []
   },
   "outputs": [],
   "source": [
    "df.loc[:, 'pred_mean'] = df['line'].apply(lambda x: \n",
    "                                         rec_df.loc[rec_df['line_name'] == x, 'pp_mean']\n",
    "                                     ).values[0]\n",
    "\n",
    "df.loc[:, 'pred_std'] = df['line'].apply(lambda x: \n",
    "                                         rec_df.loc[rec_df['line_name'] == x, 'pp_std']\n",
    "                                     ).values[0]\n"
   ]
  },
  {
   "cell_type": "code",
   "execution_count": 26,
   "id": "29060f14-91e0-470c-a3bf-9c92207a665d",
   "metadata": {
    "tags": []
   },
   "outputs": [],
   "source": [
    "for idx, srs in df.iterrows():\n",
    "    pred_mean_values = rec_df.loc[rec_df['line_name'] == srs['line'], 'pp_mean'].values\n",
    "    pred_std_values = rec_df.loc[rec_df['line_name'] == srs['line'], 'pp_std'].values\n",
    "\n",
    "    if len(pred_mean_values) == 1:\n",
    "        df.loc[idx, 'pred_mean'] = pred_mean_values[0]\n",
    "        df.loc[idx, 'pred_std'] = pred_std_values[0]\n",
    "        "
   ]
  },
  {
   "cell_type": "code",
   "execution_count": 27,
   "id": "97302018-a838-4ec9-8071-2e89d3333e43",
   "metadata": {
    "tags": []
   },
   "outputs": [
    {
     "data": {
      "text/html": [
       "<div>\n",
       "<style scoped>\n",
       "    .dataframe tbody tr th:only-of-type {\n",
       "        vertical-align: middle;\n",
       "    }\n",
       "\n",
       "    .dataframe tbody tr th {\n",
       "        vertical-align: top;\n",
       "    }\n",
       "\n",
       "    .dataframe thead th {\n",
       "        text-align: right;\n",
       "    }\n",
       "</style>\n",
       "<table border=\"1\" class=\"dataframe\">\n",
       "  <thead>\n",
       "    <tr style=\"text-align: right;\">\n",
       "      <th></th>\n",
       "      <th>line</th>\n",
       "      <th>mean</th>\n",
       "      <th>std</th>\n",
       "      <th>pred_mean</th>\n",
       "      <th>pred_std</th>\n",
       "    </tr>\n",
       "  </thead>\n",
       "  <tbody>\n",
       "    <tr>\n",
       "      <th>0</th>\n",
       "      <td>PP_0368_PP_0812_PP_0813</td>\n",
       "      <td>433.548333</td>\n",
       "      <td>17.942007</td>\n",
       "      <td>360.686524</td>\n",
       "      <td>43.029011</td>\n",
       "    </tr>\n",
       "    <tr>\n",
       "      <th>1</th>\n",
       "      <td>PP_0368_PP_0812_PP_0815</td>\n",
       "      <td>679.829500</td>\n",
       "      <td>23.913341</td>\n",
       "      <td>372.039564</td>\n",
       "      <td>43.639968</td>\n",
       "    </tr>\n",
       "    <tr>\n",
       "      <th>2</th>\n",
       "      <td>PP_0751_PP_0812_PP_0814</td>\n",
       "      <td>395.385000</td>\n",
       "      <td>11.018054</td>\n",
       "      <td>400.225735</td>\n",
       "      <td>43.471583</td>\n",
       "    </tr>\n",
       "  </tbody>\n",
       "</table>\n",
       "</div>"
      ],
      "text/plain": [
       "                      line        mean        std   pred_mean   pred_std\n",
       "0  PP_0368_PP_0812_PP_0813  433.548333  17.942007  360.686524  43.029011\n",
       "1  PP_0368_PP_0812_PP_0815  679.829500  23.913341  372.039564  43.639968\n",
       "2  PP_0751_PP_0812_PP_0814  395.385000  11.018054  400.225735  43.471583"
      ]
     },
     "execution_count": 27,
     "metadata": {},
     "output_type": "execute_result"
    }
   ],
   "source": [
    "df.head(3)"
   ]
  },
  {
   "cell_type": "code",
   "execution_count": 28,
   "id": "6357bdd6-c5c4-4c26-8c0c-dd1cefdc85d5",
   "metadata": {
    "tags": []
   },
   "outputs": [
    {
     "data": {
      "text/plain": [
       "<Axes: xlabel='mean', ylabel='pred_mean'>"
      ]
     },
     "execution_count": 28,
     "metadata": {},
     "output_type": "execute_result"
    },
    {
     "data": {
      "image/png": "[encoded data removed]",
      "text/plain": [
       "<Figure size 640x480 with 1 Axes>"
      ]
     },
     "metadata": {},
     "output_type": "display_data"
    }
   ],
   "source": [
    "sns.scatterplot(data = df, x = 'mean', y = 'pred_mean')"
   ]
  },
  {
   "cell_type": "code",
   "execution_count": 32,
   "id": "18fd8be4-8b6a-445a-b785-18da5fc73689",
   "metadata": {
    "tags": []
   },
   "outputs": [
    {
     "name": "stderr",
     "output_type": "stream",
     "text": [
      "/usr/local/art/.venv/lib/python3.11/site-packages/sklearn/utils/validation.py:605: FutureWarning: is_sparse is deprecated and will be removed in a future version. Check `isinstance(dtype, pd.SparseDtype)` instead.\n",
      "  if is_sparse(pd_dtype):\n",
      "/usr/local/art/.venv/lib/python3.11/site-packages/sklearn/utils/validation.py:614: FutureWarning: is_sparse is deprecated and will be removed in a future version. Check `isinstance(dtype, pd.SparseDtype)` instead.\n",
      "  if is_sparse(pd_dtype) or not is_extension_array_dtype(pd_dtype):\n",
      "/usr/local/art/.venv/lib/python3.11/site-packages/sklearn/utils/validation.py:605: FutureWarning: is_sparse is deprecated and will be removed in a future version. Check `isinstance(dtype, pd.SparseDtype)` instead.\n",
      "  if is_sparse(pd_dtype):\n",
      "/usr/local/art/.venv/lib/python3.11/site-packages/sklearn/utils/validation.py:614: FutureWarning: is_sparse is deprecated and will be removed in a future version. Check `isinstance(dtype, pd.SparseDtype)` instead.\n",
      "  if is_sparse(pd_dtype) or not is_extension_array_dtype(pd_dtype):\n",
      "/usr/local/art/.venv/lib/python3.11/site-packages/sklearn/utils/validation.py:605: FutureWarning: is_sparse is deprecated and will be removed in a future version. Check `isinstance(dtype, pd.SparseDtype)` instead.\n",
      "  if is_sparse(pd_dtype):\n",
      "/usr/local/art/.venv/lib/python3.11/site-packages/sklearn/utils/validation.py:614: FutureWarning: is_sparse is deprecated and will be removed in a future version. Check `isinstance(dtype, pd.SparseDtype)` instead.\n",
      "  if is_sparse(pd_dtype) or not is_extension_array_dtype(pd_dtype):\n",
      "/usr/local/art/.venv/lib/python3.11/site-packages/sklearn/utils/validation.py:605: FutureWarning: is_sparse is deprecated and will be removed in a future version. Check `isinstance(dtype, pd.SparseDtype)` instead.\n",
      "  if is_sparse(pd_dtype):\n",
      "/usr/local/art/.venv/lib/python3.11/site-packages/sklearn/utils/validation.py:614: FutureWarning: is_sparse is deprecated and will be removed in a future version. Check `isinstance(dtype, pd.SparseDtype)` instead.\n",
      "  if is_sparse(pd_dtype) or not is_extension_array_dtype(pd_dtype):\n"
     ]
    },
    {
     "data": {
      "text/plain": [
       "Text(200, 100, 'Pearson R = 0.012\\np = 0.927\\nR^2 = -0.080\\nMAE = 118.505')"
      ]
     },
     "execution_count": 32,
     "metadata": {},
     "output_type": "execute_result"
    },
    {
     "data": {
      "image/png": "[encoded data removed]",
      "text/plain": [
       "<Figure size 600x600 with 1 Axes>"
      ]
     },
     "metadata": {},
     "output_type": "display_data"
    }
   ],
   "source": [
    "from scipy.stats import pearsonr\n",
    "from sklearn.metrics import r2_score, mean_absolute_error\n",
    "\n",
    "\n",
    "fig, ax = plt.subplots(figsize = (6,6))\n",
    "plt.plot([0, 800], [0, 800], color = 'grey', linestyle = '--')\n",
    "\n",
    "plt.errorbar(x = df['mean'], xerr=df['std'], y = df['pred_mean'], yerr = df['pred_std'],\n",
    "             linestyle = '', marker = '.', markersize = 8, markerfacecolor = 'k', markeredgecolor = 'k', ecolor = 'k')\n",
    "ax.set_ylabel('ART predictions +/- stddev')\n",
    "ax.set_xlabel('Measured values +/- stddev')\n",
    "\n",
    "s,p = pearsonr(df['mean'], df['pred_mean'])\n",
    "r2 = r2_score(df['mean'], df['pred_mean'])\n",
    "mae = mean_absolute_error(df['mean'], df['pred_mean'])\n",
    "ax.set_title(f\"DBTL4 predictions vs. measurements\")\n",
    "ax.text(200, 100, f\"Pearson R = {s:.3f}\\np = {p:.3f}\\nR^2 = {r2:.3f}\\nMAE = {mae:.3f}\")"
   ]
  },
  {
   "cell_type": "markdown",
   "id": "fdc801b1-abd9-46b8-ad90-10398d8320d7",
   "metadata": {},
   "source": [
    "## Look at rank order of predictions"
   ]
  },
  {
   "cell_type": "code",
   "execution_count": 37,
   "id": "92d52e55-b073-43c4-875e-2246e5f9d9ac",
   "metadata": {
    "tags": []
   },
   "outputs": [],
   "source": [
    "df['pred_mean_rank'] = df['pred_mean'].rank().astype(int)"
   ]
  },
  {
   "cell_type": "code",
   "execution_count": 38,
   "id": "7a86ca50-1b1e-4f05-a090-57c1db3b2e36",
   "metadata": {
    "tags": []
   },
   "outputs": [
    {
     "data": {
      "text/plain": [
       "<Axes: xlabel='mean', ylabel='pred_mean_rank'>"
      ]
     },
     "execution_count": 38,
     "metadata": {},
     "output_type": "execute_result"
    },
    {
     "data": {
      "image/png": "[encoded data removed]",
      "text/plain": [
       "<Figure size 640x480 with 1 Axes>"
      ]
     },
     "metadata": {},
     "output_type": "display_data"
    }
   ],
   "source": [
    "sns.scatterplot(data = df, x = 'mean', y = 'pred_mean_rank')"
   ]
  }
 ],
 "metadata": {
  "kernelspec": {
   "display_name": "Python 3 (ipykernel)",
   "language": "python",
   "name": "python3"
  },
  "language_info": {
   "codemirror_mode": {
    "name": "ipython",
    "version": 3
   },
   "file_extension": ".py",
   "mimetype": "text/x-python",
   "name": "python",
   "nbconvert_exporter": "python",
   "pygments_lexer": "ipython3",
   "version": "3.11.9"
  }
 },
 "nbformat": 4,
 "nbformat_minor": 5
}
