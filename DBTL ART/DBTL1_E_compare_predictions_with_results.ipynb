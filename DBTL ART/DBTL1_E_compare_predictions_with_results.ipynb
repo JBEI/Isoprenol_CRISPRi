{
 "cells": [
  {
   "cell_type": "markdown",
   "id": "4599e4a3-ca3a-47d6-9f62-f86b913cac27",
   "metadata": {},
   "source": [
    "# Compare predictions and results\n",
    "After making recommendaitons and passing them to David, we can compare the predicted titer for our recommendations with their results (i.e. the data from DBTL2)."
   ]
  },
  {
   "cell_type": "code",
   "execution_count": 1,
   "id": "a647ba13-facf-4471-bb08-bc7e41f196a8",
   "metadata": {
    "tags": []
   },
   "outputs": [],
   "source": [
    "import edd_utils as eddu\n",
    "import pandas as pd\n",
    "import numpy as np\n",
    "import matplotlib.pyplot as plt\n",
    "import seaborn as sns\n",
    "import re \n",
    "import random\n",
    "random.seed(1)"
   ]
  },
  {
   "cell_type": "code",
   "execution_count": 2,
   "id": "f8978343-02c6-468c-9b67-21a7612f2295",
   "metadata": {
    "tags": []
   },
   "outputs": [],
   "source": [
    "fig_loc = './dbtl1_figures_and_analysis_filter/'"
   ]
  },
  {
   "cell_type": "markdown",
   "id": "e1b9b6d5-aec4-4208-ac4d-77f0424d5db4",
   "metadata": {},
   "source": [
    "## Import data and recommendations"
   ]
  },
  {
   "cell_type": "code",
   "execution_count": 3,
   "id": "437cde82-26e9-4eb0-8529-252178d6ac4c",
   "metadata": {
    "tags": []
   },
   "outputs": [
    {
     "data": {
      "text/html": [
       "<div>\n",
       "<style scoped>\n",
       "    .dataframe tbody tr th:only-of-type {\n",
       "        vertical-align: middle;\n",
       "    }\n",
       "\n",
       "    .dataframe tbody tr th {\n",
       "        vertical-align: top;\n",
       "    }\n",
       "\n",
       "    .dataframe thead th {\n",
       "        text-align: right;\n",
       "    }\n",
       "</style>\n",
       "<table border=\"1\" class=\"dataframe\">\n",
       "  <thead>\n",
       "    <tr style=\"text-align: right;\">\n",
       "      <th></th>\n",
       "      <th>line_name</th>\n",
       "      <th>pp_mean</th>\n",
       "      <th>pp_std</th>\n",
       "      <th>number_of_grna</th>\n",
       "      <th>in_expt</th>\n",
       "      <th>to_rec</th>\n",
       "    </tr>\n",
       "  </thead>\n",
       "  <tbody>\n",
       "    <tr>\n",
       "      <th>118077</th>\n",
       "      <td>PP_0528_PP_0815_PP_1317_PP_4191</td>\n",
       "      <td>522.647032</td>\n",
       "      <td>75.405264</td>\n",
       "      <td>4</td>\n",
       "      <td>0</td>\n",
       "      <td>1</td>\n",
       "    </tr>\n",
       "    <tr>\n",
       "      <th>112467</th>\n",
       "      <td>PP_0528_PP_0751_PP_0815_PP_1317</td>\n",
       "      <td>512.640343</td>\n",
       "      <td>73.305519</td>\n",
       "      <td>4</td>\n",
       "      <td>0</td>\n",
       "      <td>1</td>\n",
       "    </tr>\n",
       "    <tr>\n",
       "      <th>115852</th>\n",
       "      <td>PP_0528_PP_0813_PP_0815_PP_1317</td>\n",
       "      <td>505.477196</td>\n",
       "      <td>71.580319</td>\n",
       "      <td>4</td>\n",
       "      <td>0</td>\n",
       "      <td>1</td>\n",
       "    </tr>\n",
       "  </tbody>\n",
       "</table>\n",
       "</div>"
      ],
      "text/plain": [
       "                              line_name     pp_mean     pp_std  \\\n",
       "118077  PP_0528_PP_0815_PP_1317_PP_4191  522.647032  75.405264   \n",
       "112467  PP_0528_PP_0751_PP_0815_PP_1317  512.640343  73.305519   \n",
       "115852  PP_0528_PP_0813_PP_0815_PP_1317  505.477196  71.580319   \n",
       "\n",
       "        number_of_grna  in_expt  to_rec  \n",
       "118077               4        0       1  \n",
       "112467               4        0       1  \n",
       "115852               4        0       1  "
      ]
     },
     "execution_count": 3,
     "metadata": {},
     "output_type": "execute_result"
    }
   ],
   "source": [
    "rec_df = pd.read_csv('./dbtl1_figures_and_analysis_filter/filtered_recs_for_dbtl2.csv', index_col=0)\n",
    "rec_df.head(3)"
   ]
  },
  {
   "cell_type": "code",
   "execution_count": 4,
   "id": "8b9dbde1-e163-42ca-b086-1ec8ce3359e7",
   "metadata": {
    "tags": []
   },
   "outputs": [
    {
     "data": {
      "text/html": [
       "<div>\n",
       "<style scoped>\n",
       "    .dataframe tbody tr th:only-of-type {\n",
       "        vertical-align: middle;\n",
       "    }\n",
       "\n",
       "    .dataframe tbody tr th {\n",
       "        vertical-align: top;\n",
       "    }\n",
       "\n",
       "    .dataframe thead th {\n",
       "        text-align: right;\n",
       "    }\n",
       "</style>\n",
       "<table border=\"1\" class=\"dataframe\">\n",
       "  <thead>\n",
       "    <tr style=\"text-align: right;\">\n",
       "      <th></th>\n",
       "      <th>Study ID</th>\n",
       "      <th>Study Name</th>\n",
       "      <th>Line ID</th>\n",
       "      <th>Replicate Key</th>\n",
       "      <th>Line Name</th>\n",
       "      <th>Line Description</th>\n",
       "      <th>Protocol</th>\n",
       "      <th>Assay ID</th>\n",
       "      <th>Assay Name</th>\n",
       "      <th>Formal Type</th>\n",
       "      <th>Measurement Type</th>\n",
       "      <th>Compartment</th>\n",
       "      <th>Units</th>\n",
       "      <th>Value</th>\n",
       "      <th>Hours</th>\n",
       "    </tr>\n",
       "  </thead>\n",
       "  <tbody>\n",
       "    <tr>\n",
       "      <th>0</th>\n",
       "      <td>194881</td>\n",
       "      <td>CRISPRi automation for enhanced isoprenol prod...</td>\n",
       "      <td>194882</td>\n",
       "      <td>c86dfaf3-ec02-463c-96c8-f8fe122b02cc</td>\n",
       "      <td>PP_0528_PP_0815_PP_1317_PP_4191-R1</td>\n",
       "      <td>DBTL2_P1_001</td>\n",
       "      <td>GC-FID</td>\n",
       "      <td>195074</td>\n",
       "      <td>PP_0528_PP_0815_PP_1317_PP_4191-R1</td>\n",
       "      <td>cid:12988</td>\n",
       "      <td>3-METHYL-3-BUTEN-1-OL</td>\n",
       "      <td>0</td>\n",
       "      <td>mg/L</td>\n",
       "      <td>201.9179</td>\n",
       "      <td>48.0</td>\n",
       "    </tr>\n",
       "    <tr>\n",
       "      <th>1</th>\n",
       "      <td>194881</td>\n",
       "      <td>CRISPRi automation for enhanced isoprenol prod...</td>\n",
       "      <td>194883</td>\n",
       "      <td>c76bdfef-08b8-463c-8c1e-324e10fe5eee</td>\n",
       "      <td>PP_0528_PP_0813_PP_0815_PP_1317-R1</td>\n",
       "      <td>DBTL2_P1_002</td>\n",
       "      <td>GC-FID</td>\n",
       "      <td>195075</td>\n",
       "      <td>PP_0528_PP_0813_PP_0815_PP_1317-R1</td>\n",
       "      <td>cid:12988</td>\n",
       "      <td>3-METHYL-3-BUTEN-1-OL</td>\n",
       "      <td>0</td>\n",
       "      <td>mg/L</td>\n",
       "      <td>392.7469</td>\n",
       "      <td>48.0</td>\n",
       "    </tr>\n",
       "    <tr>\n",
       "      <th>2</th>\n",
       "      <td>194881</td>\n",
       "      <td>CRISPRi automation for enhanced isoprenol prod...</td>\n",
       "      <td>194884</td>\n",
       "      <td>0d59d68e-24f6-4d82-9235-787339f485bd</td>\n",
       "      <td>PP_0528_PP_0814_PP_0815_PP_1317-R1</td>\n",
       "      <td>DBTL2_P1_003</td>\n",
       "      <td>GC-FID</td>\n",
       "      <td>195076</td>\n",
       "      <td>PP_0528_PP_0814_PP_0815_PP_1317-R1</td>\n",
       "      <td>cid:12988</td>\n",
       "      <td>3-METHYL-3-BUTEN-1-OL</td>\n",
       "      <td>0</td>\n",
       "      <td>mg/L</td>\n",
       "      <td>457.0174</td>\n",
       "      <td>48.0</td>\n",
       "    </tr>\n",
       "  </tbody>\n",
       "</table>\n",
       "</div>"
      ],
      "text/plain": [
       "   Study ID                                         Study Name  Line ID  \\\n",
       "0    194881  CRISPRi automation for enhanced isoprenol prod...   194882   \n",
       "1    194881  CRISPRi automation for enhanced isoprenol prod...   194883   \n",
       "2    194881  CRISPRi automation for enhanced isoprenol prod...   194884   \n",
       "\n",
       "                          Replicate Key                           Line Name  \\\n",
       "0  c86dfaf3-ec02-463c-96c8-f8fe122b02cc  PP_0528_PP_0815_PP_1317_PP_4191-R1   \n",
       "1  c76bdfef-08b8-463c-8c1e-324e10fe5eee  PP_0528_PP_0813_PP_0815_PP_1317-R1   \n",
       "2  0d59d68e-24f6-4d82-9235-787339f485bd  PP_0528_PP_0814_PP_0815_PP_1317-R1   \n",
       "\n",
       "  Line Description Protocol  Assay ID                          Assay Name  \\\n",
       "0     DBTL2_P1_001   GC-FID    195074  PP_0528_PP_0815_PP_1317_PP_4191-R1   \n",
       "1     DBTL2_P1_002   GC-FID    195075  PP_0528_PP_0813_PP_0815_PP_1317-R1   \n",
       "2     DBTL2_P1_003   GC-FID    195076  PP_0528_PP_0814_PP_0815_PP_1317-R1   \n",
       "\n",
       "  Formal Type       Measurement Type  Compartment Units     Value  Hours  \n",
       "0   cid:12988  3-METHYL-3-BUTEN-1-OL            0  mg/L  201.9179   48.0  \n",
       "1   cid:12988  3-METHYL-3-BUTEN-1-OL            0  mg/L  392.7469   48.0  \n",
       "2   cid:12988  3-METHYL-3-BUTEN-1-OL            0  mg/L  457.0174   48.0  "
      ]
     },
     "execution_count": 4,
     "metadata": {},
     "output_type": "execute_result"
    }
   ],
   "source": [
    "data_df = pd.read_pickle('./isoprenol_data/dbtl2_isoprenol.pkl')\n",
    "data_df.head(3)"
   ]
  },
  {
   "cell_type": "markdown",
   "id": "bdea10d0-3cba-47b5-972f-d115ee2b2f68",
   "metadata": {},
   "source": [
    "## Format data "
   ]
  },
  {
   "cell_type": "markdown",
   "id": "f904f8db-6a8c-4933-97d4-425ed075ab84",
   "metadata": {},
   "source": [
    "### Drop unneeded columns"
   ]
  },
  {
   "cell_type": "code",
   "execution_count": 5,
   "id": "f9dff35c-2e4c-4d80-970c-45e88f87bc2a",
   "metadata": {
    "tags": []
   },
   "outputs": [
    {
     "data": {
      "text/html": [
       "<div>\n",
       "<style scoped>\n",
       "    .dataframe tbody tr th:only-of-type {\n",
       "        vertical-align: middle;\n",
       "    }\n",
       "\n",
       "    .dataframe tbody tr th {\n",
       "        vertical-align: top;\n",
       "    }\n",
       "\n",
       "    .dataframe thead th {\n",
       "        text-align: right;\n",
       "    }\n",
       "</style>\n",
       "<table border=\"1\" class=\"dataframe\">\n",
       "  <thead>\n",
       "    <tr style=\"text-align: right;\">\n",
       "      <th></th>\n",
       "      <th>Line Name</th>\n",
       "      <th>Value</th>\n",
       "    </tr>\n",
       "  </thead>\n",
       "  <tbody>\n",
       "    <tr>\n",
       "      <th>0</th>\n",
       "      <td>PP_0528_PP_0815_PP_1317_PP_4191-R1</td>\n",
       "      <td>201.9179</td>\n",
       "    </tr>\n",
       "    <tr>\n",
       "      <th>1</th>\n",
       "      <td>PP_0528_PP_0813_PP_0815_PP_1317-R1</td>\n",
       "      <td>392.7469</td>\n",
       "    </tr>\n",
       "    <tr>\n",
       "      <th>2</th>\n",
       "      <td>PP_0528_PP_0814_PP_0815_PP_1317-R1</td>\n",
       "      <td>457.0174</td>\n",
       "    </tr>\n",
       "    <tr>\n",
       "      <th>3</th>\n",
       "      <td>PP_0528_PP_0813_PP_4191-R1</td>\n",
       "      <td>361.4189</td>\n",
       "    </tr>\n",
       "    <tr>\n",
       "      <th>4</th>\n",
       "      <td>PP_0528_PP_0751_PP_4191-R1</td>\n",
       "      <td>321.5996</td>\n",
       "    </tr>\n",
       "    <tr>\n",
       "      <th>...</th>\n",
       "      <td>...</td>\n",
       "      <td>...</td>\n",
       "    </tr>\n",
       "    <tr>\n",
       "      <th>187</th>\n",
       "      <td>PP_1769_PP_4192-R3</td>\n",
       "      <td>253.1558</td>\n",
       "    </tr>\n",
       "    <tr>\n",
       "      <th>188</th>\n",
       "      <td>PP_0368_PP_0812-R3</td>\n",
       "      <td>297.0306</td>\n",
       "    </tr>\n",
       "    <tr>\n",
       "      <th>189</th>\n",
       "      <td>PP_1317-R3</td>\n",
       "      <td>451.4621</td>\n",
       "    </tr>\n",
       "    <tr>\n",
       "      <th>190</th>\n",
       "      <td>PP_0815_PP_1317-R3</td>\n",
       "      <td>455.1851</td>\n",
       "    </tr>\n",
       "    <tr>\n",
       "      <th>191</th>\n",
       "      <td>Control_P4-R3</td>\n",
       "      <td>152.6962</td>\n",
       "    </tr>\n",
       "  </tbody>\n",
       "</table>\n",
       "<p>192 rows × 2 columns</p>\n",
       "</div>"
      ],
      "text/plain": [
       "                              Line Name     Value\n",
       "0    PP_0528_PP_0815_PP_1317_PP_4191-R1  201.9179\n",
       "1    PP_0528_PP_0813_PP_0815_PP_1317-R1  392.7469\n",
       "2    PP_0528_PP_0814_PP_0815_PP_1317-R1  457.0174\n",
       "3            PP_0528_PP_0813_PP_4191-R1  361.4189\n",
       "4            PP_0528_PP_0751_PP_4191-R1  321.5996\n",
       "..                                  ...       ...\n",
       "187                  PP_1769_PP_4192-R3  253.1558\n",
       "188                  PP_0368_PP_0812-R3  297.0306\n",
       "189                          PP_1317-R3  451.4621\n",
       "190                  PP_0815_PP_1317-R3  455.1851\n",
       "191                       Control_P4-R3  152.6962\n",
       "\n",
       "[192 rows x 2 columns]"
      ]
     },
     "execution_count": 5,
     "metadata": {},
     "output_type": "execute_result"
    }
   ],
   "source": [
    "columns_to_keep = ['Line Name', 'Value']\n",
    "data_df = data_df[columns_to_keep]\n",
    "data_df"
   ]
  },
  {
   "cell_type": "markdown",
   "id": "8b25e2b6-83f2-42a3-9407-9c8338ab7257",
   "metadata": {},
   "source": [
    "### Add replicate column"
   ]
  },
  {
   "cell_type": "code",
   "execution_count": 6,
   "id": "9f25e998-1d8b-43c3-af5f-262520f6c839",
   "metadata": {
    "tags": []
   },
   "outputs": [],
   "source": [
    "data_df['rep'] = data_df['Line Name'].apply(lambda x: int(x[-1]))"
   ]
  },
  {
   "cell_type": "markdown",
   "id": "a3fd99dd-2afd-4b35-a15b-4a17d3941fc7",
   "metadata": {},
   "source": [
    "### Add line name with no rep"
   ]
  },
  {
   "cell_type": "code",
   "execution_count": 7,
   "id": "8e6fed73-3470-4958-aa8a-cb03f6fd8d25",
   "metadata": {
    "tags": []
   },
   "outputs": [],
   "source": [
    "data_df['line_name_norep'] = data_df['Line Name'].apply(lambda x: x.split('-')[0])"
   ]
  },
  {
   "cell_type": "markdown",
   "id": "a0c347bb-b996-4c94-ae10-49f7a7fac8be",
   "metadata": {},
   "source": [
    "### Identify and drop controls"
   ]
  },
  {
   "cell_type": "code",
   "execution_count": 8,
   "id": "04c84b7a-fe25-45ae-a4b7-7127cca0a563",
   "metadata": {},
   "outputs": [
    {
     "data": {
      "text/plain": [
       "(192, 4)"
      ]
     },
     "execution_count": 8,
     "metadata": {},
     "output_type": "execute_result"
    }
   ],
   "source": [
    "data_df.shape"
   ]
  },
  {
   "cell_type": "code",
   "execution_count": 9,
   "id": "89da8a05-b177-4bdf-a752-62f7f996c329",
   "metadata": {
    "tags": []
   },
   "outputs": [],
   "source": [
    "data_df['is_control'] = data_df['Line Name'].apply(lambda x: 'ontrol' in x)\n",
    "data_df = data_df[~data_df['is_control']]"
   ]
  },
  {
   "cell_type": "code",
   "execution_count": 10,
   "id": "7c656799-b3fa-4055-bea7-c549037853fd",
   "metadata": {
    "tags": []
   },
   "outputs": [
    {
     "data": {
      "text/plain": [
       "(180, 5)"
      ]
     },
     "execution_count": 10,
     "metadata": {},
     "output_type": "execute_result"
    }
   ],
   "source": [
    "data_df.shape"
   ]
  },
  {
   "cell_type": "code",
   "execution_count": 11,
   "id": "ae490e25-54ea-49b7-8090-d91868c1dcd1",
   "metadata": {
    "tags": []
   },
   "outputs": [
    {
     "data": {
      "text/html": [
       "<div>\n",
       "<style scoped>\n",
       "    .dataframe tbody tr th:only-of-type {\n",
       "        vertical-align: middle;\n",
       "    }\n",
       "\n",
       "    .dataframe tbody tr th {\n",
       "        vertical-align: top;\n",
       "    }\n",
       "\n",
       "    .dataframe thead th {\n",
       "        text-align: right;\n",
       "    }\n",
       "</style>\n",
       "<table border=\"1\" class=\"dataframe\">\n",
       "  <thead>\n",
       "    <tr style=\"text-align: right;\">\n",
       "      <th></th>\n",
       "      <th>Line Name</th>\n",
       "      <th>Value</th>\n",
       "      <th>rep</th>\n",
       "      <th>line_name_norep</th>\n",
       "      <th>is_control</th>\n",
       "    </tr>\n",
       "  </thead>\n",
       "  <tbody>\n",
       "    <tr>\n",
       "      <th>0</th>\n",
       "      <td>PP_0528_PP_0815_PP_1317_PP_4191-R1</td>\n",
       "      <td>201.9179</td>\n",
       "      <td>1</td>\n",
       "      <td>PP_0528_PP_0815_PP_1317_PP_4191</td>\n",
       "      <td>False</td>\n",
       "    </tr>\n",
       "    <tr>\n",
       "      <th>1</th>\n",
       "      <td>PP_0528_PP_0813_PP_0815_PP_1317-R1</td>\n",
       "      <td>392.7469</td>\n",
       "      <td>1</td>\n",
       "      <td>PP_0528_PP_0813_PP_0815_PP_1317</td>\n",
       "      <td>False</td>\n",
       "    </tr>\n",
       "    <tr>\n",
       "      <th>2</th>\n",
       "      <td>PP_0528_PP_0814_PP_0815_PP_1317-R1</td>\n",
       "      <td>457.0174</td>\n",
       "      <td>1</td>\n",
       "      <td>PP_0528_PP_0814_PP_0815_PP_1317</td>\n",
       "      <td>False</td>\n",
       "    </tr>\n",
       "  </tbody>\n",
       "</table>\n",
       "</div>"
      ],
      "text/plain": [
       "                            Line Name     Value  rep  \\\n",
       "0  PP_0528_PP_0815_PP_1317_PP_4191-R1  201.9179    1   \n",
       "1  PP_0528_PP_0813_PP_0815_PP_1317-R1  392.7469    1   \n",
       "2  PP_0528_PP_0814_PP_0815_PP_1317-R1  457.0174    1   \n",
       "\n",
       "                   line_name_norep  is_control  \n",
       "0  PP_0528_PP_0815_PP_1317_PP_4191       False  \n",
       "1  PP_0528_PP_0813_PP_0815_PP_1317       False  \n",
       "2  PP_0528_PP_0814_PP_0815_PP_1317       False  "
      ]
     },
     "execution_count": 11,
     "metadata": {},
     "output_type": "execute_result"
    }
   ],
   "source": [
    "data_df.head(3)"
   ]
  },
  {
   "cell_type": "markdown",
   "id": "3e8447f7-6cc4-4701-bef2-2718441527ef",
   "metadata": {},
   "source": [
    "### Drop lines w/ no predictions"
   ]
  },
  {
   "cell_type": "code",
   "execution_count": 12,
   "id": "db872fcc-6fde-4176-b9c3-d19d7b4b827f",
   "metadata": {
    "tags": []
   },
   "outputs": [
    {
     "data": {
      "text/plain": [
       "True"
      ]
     },
     "execution_count": 12,
     "metadata": {},
     "output_type": "execute_result"
    }
   ],
   "source": [
    "any('PP_0528_PP_0815_PP_1317_PP_4191' == rec_df['line_name'])"
   ]
  },
  {
   "cell_type": "code",
   "execution_count": 13,
   "id": "bd15ae43-d932-4b05-9738-7ed89fb6b78e",
   "metadata": {
    "tags": []
   },
   "outputs": [
    {
     "data": {
      "text/plain": [
       "False"
      ]
     },
     "execution_count": 13,
     "metadata": {},
     "output_type": "execute_result"
    }
   ],
   "source": [
    "'PP_0528_PP_0815_PP_1317_PP_4191' in rec_df['line_name']"
   ]
  },
  {
   "cell_type": "code",
   "execution_count": 14,
   "id": "3180679e-d141-43b8-95b2-5b77391500e9",
   "metadata": {
    "tags": []
   },
   "outputs": [
    {
     "name": "stderr",
     "output_type": "stream",
     "text": [
      "/tmp/ipykernel_54979/3146226239.py:4: SettingWithCopyWarning: \n",
      "A value is trying to be set on a copy of a slice from a DataFrame.\n",
      "Try using .loc[row_indexer,col_indexer] = value instead\n",
      "\n",
      "See the caveats in the documentation: https://pandas.pydata.org/pandas-docs/stable/user_guide/indexing.html#returning-a-view-versus-a-copy\n",
      "  data_df.loc[:,'has_rec'] = data_df['line_name_norep'].apply(lambda x: has_rec(x, rec_df['line_name'].unique()))\n"
     ]
    },
    {
     "data": {
      "text/html": [
       "<div>\n",
       "<style scoped>\n",
       "    .dataframe tbody tr th:only-of-type {\n",
       "        vertical-align: middle;\n",
       "    }\n",
       "\n",
       "    .dataframe tbody tr th {\n",
       "        vertical-align: top;\n",
       "    }\n",
       "\n",
       "    .dataframe thead th {\n",
       "        text-align: right;\n",
       "    }\n",
       "</style>\n",
       "<table border=\"1\" class=\"dataframe\">\n",
       "  <thead>\n",
       "    <tr style=\"text-align: right;\">\n",
       "      <th></th>\n",
       "      <th>Line Name</th>\n",
       "      <th>Value</th>\n",
       "      <th>rep</th>\n",
       "      <th>line_name_norep</th>\n",
       "      <th>is_control</th>\n",
       "      <th>has_rec</th>\n",
       "    </tr>\n",
       "  </thead>\n",
       "  <tbody>\n",
       "    <tr>\n",
       "      <th>0</th>\n",
       "      <td>PP_0528_PP_0815_PP_1317_PP_4191-R1</td>\n",
       "      <td>201.9179</td>\n",
       "      <td>1</td>\n",
       "      <td>PP_0528_PP_0815_PP_1317_PP_4191</td>\n",
       "      <td>False</td>\n",
       "      <td>True</td>\n",
       "    </tr>\n",
       "    <tr>\n",
       "      <th>1</th>\n",
       "      <td>PP_0528_PP_0813_PP_0815_PP_1317-R1</td>\n",
       "      <td>392.7469</td>\n",
       "      <td>1</td>\n",
       "      <td>PP_0528_PP_0813_PP_0815_PP_1317</td>\n",
       "      <td>False</td>\n",
       "      <td>True</td>\n",
       "    </tr>\n",
       "    <tr>\n",
       "      <th>2</th>\n",
       "      <td>PP_0528_PP_0814_PP_0815_PP_1317-R1</td>\n",
       "      <td>457.0174</td>\n",
       "      <td>1</td>\n",
       "      <td>PP_0528_PP_0814_PP_0815_PP_1317</td>\n",
       "      <td>False</td>\n",
       "      <td>True</td>\n",
       "    </tr>\n",
       "  </tbody>\n",
       "</table>\n",
       "</div>"
      ],
      "text/plain": [
       "                            Line Name     Value  rep  \\\n",
       "0  PP_0528_PP_0815_PP_1317_PP_4191-R1  201.9179    1   \n",
       "1  PP_0528_PP_0813_PP_0815_PP_1317-R1  392.7469    1   \n",
       "2  PP_0528_PP_0814_PP_0815_PP_1317-R1  457.0174    1   \n",
       "\n",
       "                   line_name_norep  is_control  has_rec  \n",
       "0  PP_0528_PP_0815_PP_1317_PP_4191       False     True  \n",
       "1  PP_0528_PP_0813_PP_0815_PP_1317       False     True  \n",
       "2  PP_0528_PP_0814_PP_0815_PP_1317       False     True  "
      ]
     },
     "execution_count": 14,
     "metadata": {},
     "output_type": "execute_result"
    }
   ],
   "source": [
    "def has_rec(line, all_rec_lines):\n",
    "    return any(line == all_rec_lines)\n",
    "\n",
    "data_df.loc[:,'has_rec'] = data_df['line_name_norep'].apply(lambda x: has_rec(x, rec_df['line_name'].unique()))\n",
    "data_df.head(3)"
   ]
  },
  {
   "cell_type": "code",
   "execution_count": 15,
   "id": "f0a2fb86-f7b3-4eb6-b359-83f2b22349df",
   "metadata": {
    "tags": []
   },
   "outputs": [
    {
     "data": {
      "text/plain": [
       "(174, 6)"
      ]
     },
     "execution_count": 15,
     "metadata": {},
     "output_type": "execute_result"
    }
   ],
   "source": [
    "data_df = data_df[data_df['has_rec']]\n",
    "data_df.shape"
   ]
  },
  {
   "cell_type": "markdown",
   "id": "214eaf3b-9a35-4414-8e69-c0a8b5899d04",
   "metadata": {},
   "source": [
    "## make dataframe for predictions and data"
   ]
  },
  {
   "cell_type": "code",
   "execution_count": 16,
   "id": "cdb103b1-9f63-4588-b159-1241390b87dc",
   "metadata": {
    "tags": []
   },
   "outputs": [
    {
     "data": {
      "text/html": [
       "<div>\n",
       "<style scoped>\n",
       "    .dataframe tbody tr th:only-of-type {\n",
       "        vertical-align: middle;\n",
       "    }\n",
       "\n",
       "    .dataframe tbody tr th {\n",
       "        vertical-align: top;\n",
       "    }\n",
       "\n",
       "    .dataframe thead th {\n",
       "        text-align: right;\n",
       "    }\n",
       "</style>\n",
       "<table border=\"1\" class=\"dataframe\">\n",
       "  <thead>\n",
       "    <tr style=\"text-align: right;\">\n",
       "      <th></th>\n",
       "      <th>line</th>\n",
       "    </tr>\n",
       "  </thead>\n",
       "  <tbody>\n",
       "    <tr>\n",
       "      <th>0</th>\n",
       "      <td>PP_0528_PP_0815_PP_1317_PP_4191</td>\n",
       "    </tr>\n",
       "    <tr>\n",
       "      <th>1</th>\n",
       "      <td>PP_0528_PP_0813_PP_0815_PP_1317</td>\n",
       "    </tr>\n",
       "    <tr>\n",
       "      <th>2</th>\n",
       "      <td>PP_0528_PP_0814_PP_0815_PP_1317</td>\n",
       "    </tr>\n",
       "  </tbody>\n",
       "</table>\n",
       "</div>"
      ],
      "text/plain": [
       "                              line\n",
       "0  PP_0528_PP_0815_PP_1317_PP_4191\n",
       "1  PP_0528_PP_0813_PP_0815_PP_1317\n",
       "2  PP_0528_PP_0814_PP_0815_PP_1317"
      ]
     },
     "execution_count": 16,
     "metadata": {},
     "output_type": "execute_result"
    }
   ],
   "source": [
    "df = pd.DataFrame(columns = ['line'])\n",
    "df['line'] = data_df['line_name_norep'].unique()\n",
    "df.head(3)"
   ]
  },
  {
   "cell_type": "markdown",
   "id": "39affd86-498f-4535-89c9-d27363ef5d3f",
   "metadata": {},
   "source": [
    "### Add experimental data to df"
   ]
  },
  {
   "cell_type": "code",
   "execution_count": 17,
   "id": "b37194b6-22a1-4a93-a240-b00ebb1f842d",
   "metadata": {
    "tags": []
   },
   "outputs": [],
   "source": [
    "df.loc[:, 'mean'] = df['line'].apply(lambda x: \n",
    "                                     np.mean(\n",
    "                                         data_df.loc[data_df['line_name_norep'] == x, 'Value']\n",
    "                                     ))\n",
    "\n",
    "df.loc[:, 'std'] = df['line'].apply(lambda x: \n",
    "                                     np.std(\n",
    "                                         data_df.loc[data_df['line_name_norep'] == x, 'Value']\n",
    "                                     ))"
   ]
  },
  {
   "cell_type": "markdown",
   "id": "06d61494-6aa8-4354-ba36-a57c5ad621c1",
   "metadata": {},
   "source": [
    "### Add predictions to df"
   ]
  },
  {
   "cell_type": "code",
   "execution_count": 18,
   "id": "76170d32-ba0d-460a-8366-521fed9159f0",
   "metadata": {
    "tags": []
   },
   "outputs": [
    {
     "data": {
      "text/html": [
       "<div>\n",
       "<style scoped>\n",
       "    .dataframe tbody tr th:only-of-type {\n",
       "        vertical-align: middle;\n",
       "    }\n",
       "\n",
       "    .dataframe tbody tr th {\n",
       "        vertical-align: top;\n",
       "    }\n",
       "\n",
       "    .dataframe thead th {\n",
       "        text-align: right;\n",
       "    }\n",
       "</style>\n",
       "<table border=\"1\" class=\"dataframe\">\n",
       "  <thead>\n",
       "    <tr style=\"text-align: right;\">\n",
       "      <th></th>\n",
       "      <th>line_name</th>\n",
       "      <th>pp_mean</th>\n",
       "      <th>pp_std</th>\n",
       "      <th>number_of_grna</th>\n",
       "      <th>in_expt</th>\n",
       "      <th>to_rec</th>\n",
       "    </tr>\n",
       "  </thead>\n",
       "  <tbody>\n",
       "    <tr>\n",
       "      <th>118077</th>\n",
       "      <td>PP_0528_PP_0815_PP_1317_PP_4191</td>\n",
       "      <td>522.647032</td>\n",
       "      <td>75.405264</td>\n",
       "      <td>4</td>\n",
       "      <td>0</td>\n",
       "      <td>1</td>\n",
       "    </tr>\n",
       "    <tr>\n",
       "      <th>112467</th>\n",
       "      <td>PP_0528_PP_0751_PP_0815_PP_1317</td>\n",
       "      <td>512.640343</td>\n",
       "      <td>73.305519</td>\n",
       "      <td>4</td>\n",
       "      <td>0</td>\n",
       "      <td>1</td>\n",
       "    </tr>\n",
       "    <tr>\n",
       "      <th>115852</th>\n",
       "      <td>PP_0528_PP_0813_PP_0815_PP_1317</td>\n",
       "      <td>505.477196</td>\n",
       "      <td>71.580319</td>\n",
       "      <td>4</td>\n",
       "      <td>0</td>\n",
       "      <td>1</td>\n",
       "    </tr>\n",
       "  </tbody>\n",
       "</table>\n",
       "</div>"
      ],
      "text/plain": [
       "                              line_name     pp_mean     pp_std  \\\n",
       "118077  PP_0528_PP_0815_PP_1317_PP_4191  522.647032  75.405264   \n",
       "112467  PP_0528_PP_0751_PP_0815_PP_1317  512.640343  73.305519   \n",
       "115852  PP_0528_PP_0813_PP_0815_PP_1317  505.477196  71.580319   \n",
       "\n",
       "        number_of_grna  in_expt  to_rec  \n",
       "118077               4        0       1  \n",
       "112467               4        0       1  \n",
       "115852               4        0       1  "
      ]
     },
     "execution_count": 18,
     "metadata": {},
     "output_type": "execute_result"
    }
   ],
   "source": [
    "rec_df.head(3)"
   ]
  },
  {
   "cell_type": "code",
   "execution_count": 19,
   "id": "f0d455bc-1343-49f8-bc22-abf963f9dccd",
   "metadata": {
    "tags": []
   },
   "outputs": [
    {
     "data": {
      "text/plain": [
       "505.4771961584421"
      ]
     },
     "execution_count": 19,
     "metadata": {},
     "output_type": "execute_result"
    }
   ],
   "source": [
    "rec_df.loc[rec_df['line_name'] == 'PP_0528_PP_0813_PP_0815_PP_1317', 'pp_mean'].values[0]"
   ]
  },
  {
   "cell_type": "code",
   "execution_count": 20,
   "id": "45500766-279c-42c2-bdfb-f5a1479287fd",
   "metadata": {
    "tags": []
   },
   "outputs": [],
   "source": [
    "df.loc[:, 'pred_mean'] = df['line'].apply(lambda x: \n",
    "                                         rec_df.loc[rec_df['line_name'] == x, 'pp_mean']\n",
    "                                     ).values[0]\n",
    "\n",
    "df.loc[:, 'pred_std'] = df['line'].apply(lambda x: \n",
    "                                         rec_df.loc[rec_df['line_name'] == x, 'pp_std']\n",
    "                                     ).values[0]\n"
   ]
  },
  {
   "cell_type": "code",
   "execution_count": 21,
   "id": "29060f14-91e0-470c-a3bf-9c92207a665d",
   "metadata": {
    "tags": []
   },
   "outputs": [],
   "source": [
    "for idx, srs in df.iterrows():\n",
    "    pred_mean_values = rec_df.loc[rec_df['line_name'] == srs['line'], 'pp_mean'].values\n",
    "    pred_std_values = rec_df.loc[rec_df['line_name'] == srs['line'], 'pp_std'].values\n",
    "\n",
    "    if len(pred_mean_values) == 1:\n",
    "        df.loc[idx, 'pred_mean'] = pred_mean_values[0]\n",
    "        df.loc[idx, 'pred_std'] = pred_std_values[0]\n",
    "        "
   ]
  },
  {
   "cell_type": "code",
   "execution_count": 22,
   "id": "97302018-a838-4ec9-8071-2e89d3333e43",
   "metadata": {
    "tags": []
   },
   "outputs": [
    {
     "data": {
      "text/html": [
       "<div>\n",
       "<style scoped>\n",
       "    .dataframe tbody tr th:only-of-type {\n",
       "        vertical-align: middle;\n",
       "    }\n",
       "\n",
       "    .dataframe tbody tr th {\n",
       "        vertical-align: top;\n",
       "    }\n",
       "\n",
       "    .dataframe thead th {\n",
       "        text-align: right;\n",
       "    }\n",
       "</style>\n",
       "<table border=\"1\" class=\"dataframe\">\n",
       "  <thead>\n",
       "    <tr style=\"text-align: right;\">\n",
       "      <th></th>\n",
       "      <th>line</th>\n",
       "      <th>mean</th>\n",
       "      <th>std</th>\n",
       "      <th>pred_mean</th>\n",
       "      <th>pred_std</th>\n",
       "    </tr>\n",
       "  </thead>\n",
       "  <tbody>\n",
       "    <tr>\n",
       "      <th>0</th>\n",
       "      <td>PP_0528_PP_0815_PP_1317_PP_4191</td>\n",
       "      <td>220.1254</td>\n",
       "      <td>12.983750</td>\n",
       "      <td>522.647032</td>\n",
       "      <td>75.405264</td>\n",
       "    </tr>\n",
       "    <tr>\n",
       "      <th>1</th>\n",
       "      <td>PP_0528_PP_0813_PP_0815_PP_1317</td>\n",
       "      <td>389.2000</td>\n",
       "      <td>6.828659</td>\n",
       "      <td>505.477196</td>\n",
       "      <td>71.580319</td>\n",
       "    </tr>\n",
       "    <tr>\n",
       "      <th>2</th>\n",
       "      <td>PP_0528_PP_0814_PP_0815_PP_1317</td>\n",
       "      <td>450.4765</td>\n",
       "      <td>12.536700</td>\n",
       "      <td>496.568803</td>\n",
       "      <td>73.066223</td>\n",
       "    </tr>\n",
       "  </tbody>\n",
       "</table>\n",
       "</div>"
      ],
      "text/plain": [
       "                              line      mean        std   pred_mean   pred_std\n",
       "0  PP_0528_PP_0815_PP_1317_PP_4191  220.1254  12.983750  522.647032  75.405264\n",
       "1  PP_0528_PP_0813_PP_0815_PP_1317  389.2000   6.828659  505.477196  71.580319\n",
       "2  PP_0528_PP_0814_PP_0815_PP_1317  450.4765  12.536700  496.568803  73.066223"
      ]
     },
     "execution_count": 22,
     "metadata": {},
     "output_type": "execute_result"
    }
   ],
   "source": [
    "df.head(3)"
   ]
  },
  {
   "cell_type": "code",
   "execution_count": 23,
   "id": "6357bdd6-c5c4-4c26-8c0c-dd1cefdc85d5",
   "metadata": {
    "tags": []
   },
   "outputs": [
    {
     "data": {
      "text/plain": [
       "<Axes: xlabel='mean', ylabel='pred_mean'>"
      ]
     },
     "execution_count": 23,
     "metadata": {},
     "output_type": "execute_result"
    },
    {
     "data": {
      "image/png": "[encoded data removed]",
      "text/plain": [
       "<Figure size 640x480 with 1 Axes>"
      ]
     },
     "metadata": {},
     "output_type": "display_data"
    }
   ],
   "source": [
    "sns.scatterplot(data = df, x = 'mean', y = 'pred_mean')"
   ]
  },
  {
   "cell_type": "code",
   "execution_count": 27,
   "id": "18fd8be4-8b6a-445a-b785-18da5fc73689",
   "metadata": {
    "tags": []
   },
   "outputs": [
    {
     "data": {
      "text/plain": [
       "Text(200, 100, 'Pearson R = 0.152\\np = 0.255\\nR^2 = -1.245\\nMAE = 97.637')"
      ]
     },
     "execution_count": 27,
     "metadata": {},
     "output_type": "execute_result"
    },
    {
     "data": {
      "image/png": "[encoded data removed]",
      "text/plain": [
       "<Figure size 600x600 with 1 Axes>"
      ]
     },
     "metadata": {},
     "output_type": "display_data"
    }
   ],
   "source": [
    "from scipy.stats import pearsonr\n",
    "from sklearn.metrics import r2_score, mean_absolute_error\n",
    "\n",
    "\n",
    "fig, ax = plt.subplots(figsize = (6,6))\n",
    "plt.plot([0, 600], [0, 600], color = 'grey', linestyle = '--')\n",
    "\n",
    "plt.errorbar(x = df['mean'], xerr=df['std'], y = df['pred_mean'], yerr = df['pred_std'],\n",
    "             linestyle = '', marker = '.', markersize = 8, markerfacecolor = 'k', markeredgecolor = 'k', ecolor = 'k')\n",
    "ax.set_ylabel('ART predictions +/- stddev')\n",
    "ax.set_xlabel('Measured values +/- stddev')\n",
    "\n",
    "s,p = pearsonr(df['mean'], df['pred_mean'])\n",
    "r2 = r2_score(df['mean'], df['pred_mean'])\n",
    "mae = mean_absolute_error(df['mean'], df['pred_mean'])\n",
    "ax.set_title(f\"DBTL2 predictions vs. measurements\")\n",
    "ax.text(200, 100, f\"Pearson R = {s:.3f}\\np = {p:.3f}\\nR^2 = {r2:.3f}\\nMAE = {mae:.3f}\")"
   ]
  }
 ],
 "metadata": {
  "kernelspec": {
   "display_name": "Python 3 (ipykernel)",
   "language": "python",
   "name": "python3"
  },
  "language_info": {
   "codemirror_mode": {
    "name": "ipython",
    "version": 3
   },
   "file_extension": ".py",
   "mimetype": "text/x-python",
   "name": "python",
   "nbconvert_exporter": "python",
   "pygments_lexer": "ipython3",
   "version": "3.11.6"
  }
 },
 "nbformat": 4,
 "nbformat_minor": 5
}
