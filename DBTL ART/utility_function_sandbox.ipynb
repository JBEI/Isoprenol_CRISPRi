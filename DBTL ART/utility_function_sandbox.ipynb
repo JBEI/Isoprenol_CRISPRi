{
 "cells": [
  {
   "cell_type": "markdown",
   "id": "62d57db2-575b-455d-bd4e-cffef6752b03",
   "metadata": {},
   "source": [
    "# Utility funciton sandbox\n",
    "EDD has a large amount of unnecessary data (biolecter and proteomics). Download studies, filter out everything but isoprenol, and save locally to save time."
   ]
  },
  {
   "cell_type": "code",
   "execution_count": 1,
   "id": "f1279105-432c-4f4b-906c-4f9676681535",
   "metadata": {
    "tags": []
   },
   "outputs": [],
   "source": [
    "import edd_utils as eddu\n",
    "import pandas as pd\n",
    "import numpy as np\n",
    "import seaborn as sns\n",
    "import matplotlib.pyplot as plt\n"
   ]
  },
  {
   "cell_type": "markdown",
   "id": "3446d11b-42d8-4fc9-b82b-48b8e3aa5668",
   "metadata": {},
   "source": [
    "## Download the data"
   ]
  },
  {
   "cell_type": "markdown",
   "id": "63539c11-670b-41c2-83eb-b9961267f4c9",
   "metadata": {},
   "source": [
    "These are the [Experiment Data Depot](https://pubs.acs.org/doi/full/10.1021/acssynbio.7b00204) server, the corresponding username and the slug (address) for the study to be downloaded:"
   ]
  },
  {
   "cell_type": "code",
   "execution_count": 2,
   "id": "939ecf39-3e56-41fb-bac0-ff44660c8b1e",
   "metadata": {
    "tags": []
   },
   "outputs": [],
   "source": [
    "study_slug_dbtl0 = 'corrected-crispri-automation-for-enhanced-isopreno'\n",
    "study_slug_dbtl1 = 'crispri-automation-for-enhanced-isoprenol-producti'\n",
    "study_slug_dbtl1 = 'crispri-automation-for-enhanced-isoprenol-pro-fca3'\n",
    "edd_server   = 'edd.jbei.org'\n",
    "username     = 'pckinnunen'"
   ]
  },
  {
   "cell_type": "markdown",
   "id": "9ea039f4-6fd3-42c2-b88e-c27c7dd6559c",
   "metadata": {},
   "source": [
    "We try connecting to the server with our login and password:"
   ]
  },
  {
   "cell_type": "code",
   "execution_count": 3,
   "id": "536bcf70-f726-45f1-b4cd-463e4784c952",
   "metadata": {
    "tags": []
   },
   "outputs": [
    {
     "name": "stdin",
     "output_type": "stream",
     "text": [
      "Password for pckinnunen:  ········\n"
     ]
    },
    {
     "name": "stdout",
     "output_type": "stream",
     "text": [
      "OK! Connection to EDD successful. We will try to load data from EDD...\n"
     ]
    }
   ],
   "source": [
    "try:\n",
    "    session = eddu.login(edd_server=edd_server, user=username)\n",
    "except:\n",
    "    print('ERROR! Connection to EDD failed. We will try to load data from disk...')\n",
    "else:\n",
    "    print('OK! Connection to EDD successful. We will try to load data from EDD...')"
   ]
  },
  {
   "cell_type": "markdown",
   "id": "66de6d6f-c37f-45cf-87d8-9d864bda4b0f",
   "metadata": {},
   "source": [
    "And then we try to export the study from the EDD instance:"
   ]
  },
  {
   "cell_type": "code",
   "execution_count": 4,
   "id": "bc49eabc-c4a2-40a5-b296-816a3824b261",
   "metadata": {
    "tags": []
   },
   "outputs": [
    {
     "data": {
      "application/vnd.jupyter.widget-view+json": {
       "model_id": "169148d231084be1b73e913d756db1c1",
       "version_major": 2,
       "version_minor": 0
      },
      "text/plain": [
       "  0%|          | 0/1166748 [00:00<?, ?it/s]"
      ]
     },
     "metadata": {},
     "output_type": "display_data"
    }
   ],
   "source": [
    "try:\n",
    "    df_dbtl0 = eddu.export_study(session, study_slug_dbtl0, edd_server=edd_server)\n",
    "except (NameError, AttributeError, KeyError):\n",
    "    print(f'ERROR! Not able to export DBTL0 study.')"
   ]
  },
  {
   "cell_type": "code",
   "execution_count": 5,
   "id": "3d59705b-7cb3-42fa-921b-82ddda357259",
   "metadata": {
    "tags": []
   },
   "outputs": [
    {
     "data": {
      "application/vnd.jupyter.widget-view+json": {
       "model_id": "4f0a053e2018440589947783cedd8f76",
       "version_major": 2,
       "version_minor": 0
      },
      "text/plain": [
       "  0%|          | 0/475488 [00:00<?, ?it/s]"
      ]
     },
     "metadata": {},
     "output_type": "display_data"
    }
   ],
   "source": [
    "try:\n",
    "    df_dbtl1 = eddu.export_study(session, study_slug_dbtl1, edd_server = edd_server)\n",
    "except (NameError, AttributeError, KeyError):\n",
    "    print(f'ERROR! Not able to export DBTL1 study.')    "
   ]
  },
  {
   "cell_type": "code",
   "execution_count": 8,
   "id": "b721ad5b-f37d-4dd4-99c0-c9aa322f382d",
   "metadata": {
    "tags": []
   },
   "outputs": [
    {
     "data": {
      "text/plain": [
       "Line Name\n",
       "Control-R1    1\n",
       "PP_4120-R1    1\n",
       "PP_4123-R2    1\n",
       "PP_4123-R1    1\n",
       "PP_4122-R3    1\n",
       "             ..\n",
       "PP_1394-R1    1\n",
       "PP_1319-R3    1\n",
       "PP_1319-R2    1\n",
       "PP_1319-R1    1\n",
       "PP_5420-R3    1\n",
       "Name: count, Length: 405, dtype: int64"
      ]
     },
     "execution_count": 8,
     "metadata": {},
     "output_type": "execute_result"
    }
   ],
   "source": [
    "df_dbtl0[df_dbtl0['Protocol'] == 'GC-FID']['Line Name'].value_counts()"
   ]
  }
 ],
 "metadata": {
  "kernelspec": {
   "display_name": "Python 3 (ipykernel)",
   "language": "python",
   "name": "python3"
  },
  "language_info": {
   "codemirror_mode": {
    "name": "ipython",
    "version": 3
   },
   "file_extension": ".py",
   "mimetype": "text/x-python",
   "name": "python",
   "nbconvert_exporter": "python",
   "pygments_lexer": "ipython3",
   "version": "3.11.9"
  }
 },
 "nbformat": 4,
 "nbformat_minor": 5
}
