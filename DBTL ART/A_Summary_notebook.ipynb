{
 "cells": [
  {
   "cell_type": "markdown",
   "id": "d92f8654-7533-47ab-ac18-4f882816f0bc",
   "metadata": {},
   "source": [
    "# Summary notebook"
   ]
  },
  {
   "cell_type": "markdown",
   "id": "f97a114b-e677-4ce0-8c74-abe171240370",
   "metadata": {},
   "source": [
    "This repository contains code and results for applying the [Automated Recommendation Tool](https://www.nature.com/articles/s41467-020-18008-4) to identify optimal CRISPRi combinations to increase isoprenol production in P. Putida. This project is in collaboration with David Carruthers and Taek Soon Lee. \n",
    "\n",
    "In each DBTL round, David has created CRISPRi strains and measured their isoprenol titer and proteomics."
   ]
  },
  {
   "cell_type": "markdown",
   "id": "897edfef-22b8-4982-930d-054cef548b53",
   "metadata": {},
   "source": [
    "## DBTL0\n",
    "DBTL0 consisted of single gRNA strains. For this cycle, we first filtered individual gRNA to identify those that successfully inhibited their target. Then we selected random combinations of the filtered gRNA with probabilities weighted by their isoprenol titer, generating the combinations for DBTL1.\n",
    "\n",
    "In DBTL0, ART could not be trained, because there were no multi-gRNA strains that ART could learn interactions from.\n",
    "\n",
    "Notebooks:\n",
    "- DBTL0_A_normalize_and_recommend.ipynb: Normalizing DBTL0 proteomics, filtering gRNA based on target expression, and generating combinations for DBTL1.\n",
    "- DBTL0_B_dcas9_analysis.ipynb: Plotting the expression of dCas9 in DBTL0 strains."
   ]
  },
  {
   "cell_type": "markdown",
   "id": "6440a5be-764d-4d2a-b944-94ae4945b680",
   "metadata": {},
   "source": [
    "## DBTL1\n",
    "In DBTL1 David generated and measured double- and triple-gRNA strains, once again measuring isoprenol titer and proteomics. In this iteration, we were able to train ART on the data from DBTL0 and DBTL1. We used ART to generate recommendations for DBTL2 consisting of 2-, 3-, and 4-gRNA combinations.\n",
    "\n",
    "Notebooks:\n",
    "- DBTL1_A_analyze_proteomics.ipynb: Analyze the strains from DBTL1 to look for dCas9 expression and target downregulation, and generate a list of strains with successful target inhibition.\n",
    "- DBTL1_B_art_modeling_and_recommend.ipynb: Train ART on the strains identified from proteomics analysis and the strains from DBTL0. Generate recommendations for all gRNA combinations up to length 5.\n",
    "- DBTL1_C_filter_recommendations.ipynb: Filter out recommendations to create a list for DBTL2.\n",
    "- DBTL1_D_analyze_recs.ipynb: Analyze the ART predictions and recommendations. "
   ]
  }
 ],
 "metadata": {
  "kernelspec": {
   "display_name": "Python 3 (ipykernel)",
   "language": "python",
   "name": "python3"
  },
  "language_info": {
   "codemirror_mode": {
    "name": "ipython",
    "version": 3
   },
   "file_extension": ".py",
   "mimetype": "text/x-python",
   "name": "python",
   "nbconvert_exporter": "python",
   "pygments_lexer": "ipython3",
   "version": "3.11.6"
  }
 },
 "nbformat": 4,
 "nbformat_minor": 5
}
