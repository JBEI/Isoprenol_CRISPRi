{
 "cells": [
  {
   "cell_type": "markdown",
   "id": "c0408484-6890-4aff-b2fc-d7ce235d3b71",
   "metadata": {},
   "source": [
    "I want to plot the best sgRNA combinations for isoprenol production from PCK df_all"
   ]
  },
  {
   "cell_type": "code",
   "execution_count": 11,
   "id": "3b0f93cd-9f3d-481d-bd5c-8e278eb59022",
   "metadata": {},
   "outputs": [],
   "source": [
    "import pandas as pd\n",
    "import numpy as np\n",
    "import matplotlib.pyplot as plt\n",
    "import seaborn as sns\n",
    "from scipy.stats import ttest_ind"
   ]
  },
  {
   "cell_type": "code",
   "execution_count": 13,
   "id": "6a769246-8397-47f0-b502-6a4358b5507a",
   "metadata": {},
   "outputs": [],
   "source": [
    "import warnings\n",
    "import pandas as pd\n",
    "import seaborn as sns\n",
    "import matplotlib.pyplot as plt\n",
    "import numpy as np\n",
    "from scipy import stats\n",
    "from textwrap import wrap\n",
    "from matplotlib.font_manager import FontProperties\n",
    "import re\n",
    "from scipy import stats\n",
    "from matplotlib.lines import Line2D \n",
    "\n",
    "line_size=0.5\n",
    "custom_params = {\n",
    "    'axes.facecolor': 'white',\n",
    "    'axes.edgecolor': 'black',\n",
    "    'axes.grid': False,\n",
    "    'axes.axisbelow': 'line',\n",
    "    'axes.labelcolor': 'black',\n",
    "    'figure.facecolor': 'white',\n",
    "    \"axes.spines.right\": True, \n",
    "    \"axes.spines.bottom\": True,\n",
    "    'xtick.direction': 'inout',\n",
    "    'ytick.direction': 'in',\n",
    "    'xtick.bottom': True,\n",
    "    'xtick.minor.visible': False,\n",
    "    'xtick.major.bottom':  True,\n",
    "    'xtick.minor.bottom':  True,\n",
    "    'xtick.major.pad':     7,     # distance to major tick label in points#\n",
    "    'xtick.minor.pad':     3.4,     # distance to the minor tick label in points#\n",
    "    'xtick.major.size':    10,\n",
    "    'ytick.major.size':    4,\n",
    "    'xtick.major.width':   line_size,\n",
    "    'ytick.major.width':   line_size,\n",
    "    'axes.linewidth': line_size,\n",
    "    'xtick.minor.size':    2,\n",
    "    'pdf.fonttype': 42}\n",
    "\n",
    "plt.rcParams.update(custom_params)\n",
    "sns.set_theme(style=\"ticks\", rc=custom_params, font=\"Arial\",font_scale=0.7)\n",
    "\n",
    "enmax_palette = [\"#648FFF\", \"#FE6100\", \"#785EF0\", \"#DC267F\", \"#FFB000\"]\n",
    "sns.set_palette(palette=enmax_palette)"
   ]
  },
  {
   "cell_type": "code",
   "execution_count": 46,
   "id": "19291532-af0e-4bdf-a319-c58d25071894",
   "metadata": {},
   "outputs": [
    {
     "name": "stdout",
     "output_type": "stream",
     "text": [
      "2.2\n"
     ]
    },
    {
     "data": {
      "image/png": "[encoded data removed]",
      "text/plain": [
       "<Figure size 220x250 with 1 Axes>"
      ]
     },
     "metadata": {},
     "output_type": "display_data"
    }
   ],
   "source": [
    "import pandas as pd\n",
    "import seaborn as sns\n",
    "import matplotlib.pyplot as plt\n",
    "\n",
    "# Define the filename\n",
    "filename = \"250228_Best_Performers_Isoprenol.csv\"\n",
    "\n",
    "# Load the CSV file into a dataframe\n",
    "df = pd.read_csv(f'Figure_Data/{filename}')\n",
    "\n",
    "# Define the figure name\n",
    "fig = \"Best_performing_combos\"\n",
    "data = df.copy()\n",
    "\n",
    "# Group by \"Line Name\" and calculate the mean \"Isoprenol\" values\n",
    "grouped_data = data.groupby(\"Line Name\")[\"Isoprenol\"].mean().reset_index()\n",
    "\n",
    "# Sort the grouped data by mean \"Isoprenol\" in descending order and select the top 10\n",
    "top10_grouped = grouped_data.sort_values(by=\"Isoprenol\", ascending=False).head(10)\n",
    "\n",
    "# Ensure the \"Control\" group is included\n",
    "control_group = grouped_data[grouped_data[\"Line Name\"] == \"Control\"]\n",
    "if not control_group.empty:\n",
    "    top10_grouped = pd.concat([top10_grouped, control_group]).drop_duplicates().reset_index(drop=True)\n",
    "\n",
    "# Filter the original data to include only the selected groups\n",
    "top10_data = data[data[\"Line Name\"].isin(top10_grouped[\"Line Name\"])]\n",
    "\n",
    "# Sort the selected data by \"Isoprenol\" in descending order\n",
    "top10_data = top10_data.sort_values(by=\"Isoprenol\", ascending=False)\n",
    "\n",
    "# Set the color palette to a single color (e.g., blue)\n",
    "single_color = \"#648FFF\"\n",
    "sns.set_palette([single_color])\n",
    "\n",
    "w = len(top10_grouped) / 5  # Adjust the width of the plot based on the number of bars\n",
    "print(w)\n",
    "plt.figure(figsize=(w, 2.5))\n",
    "\n",
    "# Plot stripplot overlaid on a barplot\n",
    "with sns.color_palette([single_color]):\n",
    "    ax = sns.stripplot(\n",
    "        data=top10_data, x=\"Line Name\", \n",
    "        y=\"Isoprenol\", \n",
    "        dodge=True, alpha=0.7, linewidth=line_size, edgecolor=\"0\", zorder=2, color=single_color)\n",
    "\n",
    "    ax = sns.barplot(\n",
    "        data=top10_data, x=\"Line Name\", \n",
    "        y=\"Isoprenol\", \n",
    "        errorbar=\"sd\", zorder=0, capsize=0.2, errcolor=\"0\", errwidth=line_size,\n",
    "        linewidth=line_size, edgecolor=\"0\", ax=ax, saturation=1, color=single_color)\n",
    "    legend_handles, labels = ax.get_legend_handles_labels()\n",
    "\n",
    "# Format axes and legend\n",
    "plt.xlabel('sgRNA combinations', labelpad=15)\n",
    "plt.ylabel('Titer (mg/L)', labelpad=10)\n",
    "# plt.legend(legend_handles, ['_','_','Non-Target','Target'], loc='upper right')\n",
    "\n",
    "plt.ylim(0,)\n",
    "plt.xticks(rotation='vertical', style='italic')\n",
    "\n",
    "ax.set_xlim(-0.65, None)\n",
    "\n",
    "plt.savefig(f'Figure_Export\\\\{fig}.svg', dpi=1200, bbox_inches='tight')\n",
    "plt.show()"
   ]
  },
  {
   "cell_type": "code",
   "execution_count": null,
   "id": "e7946746-dfbb-49cb-b3c8-d793d87f0426",
   "metadata": {},
   "outputs": [],
   "source": []
  }
 ],
 "metadata": {
  "kernelspec": {
   "display_name": "Python 3 (ipykernel)",
   "language": "python",
   "name": "python3"
  },
  "language_info": {
   "codemirror_mode": {
    "name": "ipython",
    "version": 3
   },
   "file_extension": ".py",
   "mimetype": "text/x-python",
   "name": "python",
   "nbconvert_exporter": "python",
   "pygments_lexer": "ipython3",
   "version": "3.10.6"
  }
 },
 "nbformat": 4,
 "nbformat_minor": 5
}
