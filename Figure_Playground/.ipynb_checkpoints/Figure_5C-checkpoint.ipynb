{
 "cells": [
  {
   "cell_type": "code",
   "execution_count": 1,
   "id": "a0aa20d1-a9ff-4768-bbf7-9744d0cdd874",
   "metadata": {},
   "outputs": [],
   "source": [
    "import pandas as pd\n",
    "import numpy as np\n",
    "from scipy.stats import ttest_ind\n",
    "import warnings\n",
    "import matplotlib.pyplot as plt\n",
    "import seaborn as sns\n",
    "import os"
   ]
  },
  {
   "cell_type": "code",
   "execution_count": 2,
   "id": "40978703-f6a9-4c02-8ede-54a2b3cc1798",
   "metadata": {},
   "outputs": [],
   "source": [
    "input_dir = r'Figure_Data'\n",
    "output_dir = r'Figure_Export'\n",
    "filename = f'df_all.csv'\n",
    "input_path = os.path.join(input_dir, filename)\n",
    "data = pd.read_csv(input_path)"
   ]
  },
  {
   "cell_type": "code",
   "execution_count": 22,
   "id": "f89d5e00-3490-41f6-8d18-471036dd9c61",
   "metadata": {},
   "outputs": [],
   "source": [
    "df = pd.DataFrame(data)\n",
    "\n",
    "# Filter data for cycle 0 and specific line_name_norep\n",
    "samples_of_interest = [\n",
    "    \"PP_0368\", \"PP_0437\", \"PP_0528\", \"PP_0751\",\"PP_0812\", \"PP_0813\", \"PP_0814\",\n",
    "    \"PP_0815\", \"PP_1317\", \"PP_1506\", \"PP_2136\", \"PP_4120\", \"PP_4189\",\n",
    "    \"PP_4191\", \"PP_4192\", \"Control\"]\n",
    "\n",
    "filtered_df = df[(df['cycle'] == 0) & (df['line_name_norep'].isin(samples_of_interest))]\n",
    "\n",
    "# Further filter for specific replicates for PP_0812 and PP_0813\n",
    "pp_0812_0813_filtered = filtered_df[\n",
    "    ((filtered_df['line_name_norep'] == 'PP_0812') | (filtered_df['line_name_norep'] == 'PP_0813')) & \n",
    "    (filtered_df['Line Name'].str[-2:].isin(['R4', 'R5', 'R6']))]\n",
    "\n",
    "# Combine the filtered data\n",
    "final_filtered_df = pd.concat([\n",
    "    filtered_df[~((filtered_df['line_name_norep'] == 'PP_0812') | (filtered_df['line_name_norep'] == 'PP_0813'))],\n",
    "    pp_0812_0813_filtered])\n",
    "\n",
    "# Create strip plot\n",
    "plt.figure(figsize=(6, 3))\n",
    "sns.stripplot(data=final_filtered_df, x='line_name_norep', y='isoprenol', jitter=True)\n",
    "sns.barplot(data=final_filtered_df, x='line_name_norep', y='isoprenol', ci=None)\n",
    "plt.title('Strip Plot of Isoprenol Values')\n",
    "plt.xlabel('sgRNA Target')\n",
    "plt.ylabel('Isoprenol')\n",
    "plt.xticks(rotation='vertical')\n",
    "plt.show()"
   ]
  },
  {
   "cell_type": "code",
   "execution_count": null,
   "id": "a3dc4e77-70b3-40a5-8fdb-3032987800bb",
   "metadata": {},
   "outputs": [],
   "source": []
  }
 ],
 "metadata": {
  "kernelspec": {
   "display_name": "Python 3 (ipykernel)",
   "language": "python",
   "name": "python3"
  },
  "language_info": {
   "codemirror_mode": {
    "name": "ipython",
    "version": 3
   },
   "file_extension": ".py",
   "mimetype": "text/x-python",
   "name": "python",
   "nbconvert_exporter": "python",
   "pygments_lexer": "ipython3",
   "version": "3.10.6"
  }
 },
 "nbformat": 4,
 "nbformat_minor": 5
}
