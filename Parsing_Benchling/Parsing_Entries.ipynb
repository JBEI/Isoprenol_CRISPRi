{
 "cells": [
  {
   "cell_type": "code",
   "execution_count": 1,
   "id": "6976da6e-c171-4511-9bb6-ae54be395f07",
   "metadata": {},
   "outputs": [],
   "source": [
    "import re"
   ]
  },
  {
   "cell_type": "code",
   "execution_count": 2,
   "id": "ba036695-a4f8-4ae3-83ca-3a386ec9109c",
   "metadata": {},
   "outputs": [
    {
     "name": "stdout",
     "output_type": "stream",
     "text": [
      "Parsing complete. Matching lines have been written to parsed_output.txt\n"
     ]
    }
   ],
   "source": [
    "# Define the input and output file paths\n",
    "input_file_path = 'All_Sequences.gb'\n",
    "output_file_path = 'parsed_output.txt'\n",
    "\n",
    "# Define the patterns to search for\n",
    "patterns = [\n",
    "    re.compile(r'^LOCUS\\s+DBTL'),\n",
    "    re.compile(r'/label=\"PP_'),\n",
    "    re.compile(r'/label=\"J23119\"')\n",
    "]\n",
    "\n",
    "# Define the pattern to ignore\n",
    "ignore_patterns = [\n",
    "    re.compile(r'/label=\"PP_RS'),\n",
    "    re.compile(r'/label=\"PP_dCas9_gRNA_Array_F')\n",
    "]\n",
    "\n",
    "\n",
    "# Open the input file and the output file\n",
    "with open(input_file_path, 'r') as infile, open(output_file_path, 'w') as outfile:\n",
    "    for line in infile:\n",
    "        # Check if the line matches the ignore pattern\n",
    "        if any(ignore_pattern.search(line) for ignore_pattern in ignore_patterns):\n",
    "            continue\n",
    "        # Check if the line matches any of the patterns\n",
    "        if any(pattern.search(line) for pattern in patterns):\n",
    "            outfile.write(line)\n",
    "\n",
    "print(f'Parsing complete. Matching lines have been written to {output_file_path}')"
   ]
  },
  {
   "cell_type": "code",
   "execution_count": 4,
   "id": "f3c2800a-1958-4f52-ae3a-a40260d7b01f",
   "metadata": {},
   "outputs": [
    {
     "name": "stdout",
     "output_type": "stream",
     "text": [
      "Formatting complete. Output has been written to formatted_output.csv\n"
     ]
    }
   ],
   "source": [
    "import re\n",
    "import csv\n",
    "\n",
    "# Define the input and output file paths\n",
    "input_file_path = 'parsed_output.txt'\n",
    "output_file_path = 'formatted_output.csv'\n",
    "\n",
    "# Initialize variables\n",
    "entries = []\n",
    "current_entry = {'dbtl': None, 'pp_numbers': [], 'j23119_count': 0}\n",
    "\n",
    "# Define the patterns to search for\n",
    "dbtl_pattern = re.compile(r'^LOCUS\\s+(DBTL\\S*)')\n",
    "pp_pattern = re.compile(r'/label=\"(PP_[^\"]*)\"')\n",
    "j23119_pattern = re.compile(r'/label=\"(J23119[^\"]*)\"')\n",
    "\n",
    "# Open the input file\n",
    "with open(input_file_path, 'r') as infile:\n",
    "    for line in infile:\n",
    "        # Check for DBTL entry\n",
    "        dbtl_match = dbtl_pattern.search(line)\n",
    "        if dbtl_match:\n",
    "            # Save the current entry if it exists\n",
    "            if current_entry['dbtl']:\n",
    "                entries.append(current_entry)\n",
    "            # Start a new entry\n",
    "            current_entry = {'dbtl': dbtl_match.group(1), 'pp_numbers': [], 'j23119_count': 0}\n",
    "            continue\n",
    "\n",
    "        # Check for PP_ entry\n",
    "        pp_match = pp_pattern.search(line)\n",
    "        if pp_match:\n",
    "            current_entry['pp_numbers'].append(pp_match.group(1))\n",
    "            continue\n",
    "\n",
    "        # Check for J23119 entry\n",
    "        j23119_match = j23119_pattern.search(line)\n",
    "        if j23119_match:\n",
    "            current_entry['j23119_count'] += 1\n",
    "            continue\n",
    "\n",
    "# Add the last entry if it exists\n",
    "if current_entry['dbtl']:\n",
    "    entries.append(current_entry)\n",
    "\n",
    "# Write the formatted output as a CSV file\n",
    "with open(output_file_path, 'w', newline='') as csvfile:\n",
    "    csvwriter = csv.writer(csvfile)\n",
    "    # Write the header\n",
    "    csvwriter.writerow(['DBTL', 'PP_Numbers', 'J23119_Count'])\n",
    "    # Write the entries\n",
    "    for entry in entries:\n",
    "        row = [entry['dbtl']]\n",
    "        row.extend(entry['pp_numbers'])\n",
    "        row.append(entry['j23119_count'])\n",
    "        csvwriter.writerow(row)\n",
    "\n",
    "print(f'Formatting complete. Output has been written to {output_file_path}')"
   ]
  },
  {
   "cell_type": "code",
   "execution_count": null,
   "id": "c47c8803-fde2-4790-9d02-a0e362feb837",
   "metadata": {},
   "outputs": [],
   "source": []
  }
 ],
 "metadata": {
  "kernelspec": {
   "display_name": "Python 3 (ipykernel)",
   "language": "python",
   "name": "python3"
  },
  "language_info": {
   "codemirror_mode": {
    "name": "ipython",
    "version": 3
   },
   "file_extension": ".py",
   "mimetype": "text/x-python",
   "name": "python",
   "nbconvert_exporter": "python",
   "pygments_lexer": "ipython3",
   "version": "3.10.6"
  }
 },
 "nbformat": 4,
 "nbformat_minor": 5
}
