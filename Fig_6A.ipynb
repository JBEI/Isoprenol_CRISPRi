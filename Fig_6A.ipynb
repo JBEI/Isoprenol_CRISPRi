{
 "cells": [
  {
   "cell_type": "code",
   "execution_count": 1,
   "id": "ff880571-37ae-415d-a7a8-e0e785216f5b",
   "metadata": {
    "tags": []
   },
   "outputs": [],
   "source": [
    "import warnings\n",
    "import pandas as pd\n",
    "import seaborn as sns\n",
    "import matplotlib.pyplot as plt\n",
    "import numpy as np\n",
    "from scipy import stats\n",
    "from textwrap import wrap\n",
    "from matplotlib.font_manager import FontProperties\n",
    "import re\n",
    "from scipy import stats\n",
    "from matplotlib.lines import Line2D \n",
    "\n",
    "line_size=0.5\n",
    "custom_params = {\n",
    "    'axes.facecolor': 'white',\n",
    "    'axes.edgecolor': 'black',\n",
    "    'axes.grid': False,\n",
    "    'axes.axisbelow': 'line',\n",
    "    'axes.labelcolor': 'black',\n",
    "    'figure.facecolor': 'white',\n",
    "    \"axes.spines.right\": True, \n",
    "    \"axes.spines.bottom\": True,\n",
    "    'xtick.direction': 'inout',\n",
    "    'ytick.direction': 'in',\n",
    "    'xtick.bottom': True,\n",
    "    'xtick.minor.visible': False,\n",
    "    'xtick.major.bottom':  True,\n",
    "    'xtick.minor.bottom':  True,\n",
    "    'xtick.major.pad':     7,     # distance to major tick label in points#\n",
    "    'xtick.minor.pad':     3.4,     # distance to the minor tick label in points#\n",
    "    'xtick.major.size':    10,\n",
    "    'ytick.major.size':    4,\n",
    "    'xtick.major.width':   line_size,\n",
    "    'ytick.major.width':   line_size,\n",
    "    'axes.linewidth': line_size,\n",
    "    'xtick.minor.size':    2,\n",
    "    'pdf.fonttype': 42}\n",
    "\n",
    "sns.set_theme(style=\"ticks\", rc=custom_params, font=\"Arial\",font_scale=0.7)\n",
    "\n",
    "enmax_palette = [\"#648FFF\", \"#FE6100\", \"#785EF0\", \"#DC267F\", \"#FFB000\"]\n",
    "sns.set_palette(palette=enmax_palette)"
   ]
  },
  {
   "cell_type": "code",
   "execution_count": 2,
   "id": "27b7bf33-d946-4e96-a711-915e73b36b01",
   "metadata": {},
   "outputs": [
    {
     "name": "stdout",
     "output_type": "stream",
     "text": [
      "3.0\n"
     ]
    },
    {
     "data": {
      "image/png": "[encoded data removed]",
      "text/plain": [
       "<Figure size 300x200 with 1 Axes>"
      ]
     },
     "metadata": {},
     "output_type": "display_data"
    }
   ],
   "source": [
    "import pandas as pd\n",
    "import numpy as np\n",
    "import seaborn as sns\n",
    "import matplotlib.pyplot as plt\n",
    "\n",
    "# Load and prepare the data\n",
    "fig = \"KOs_KDs\"\n",
    "df = pd.read_csv('Figure_Data/250226_dCas9_Amalgam_Trunc.csv')\n",
    "\n",
    "# Define the specific order of strains\n",
    "strain_order = ['PP_0368', 'PP_0751', 'PP_1317', 'PP_2136', 'PP_4120', 'PP_4189', 'PP_4191', 'PP_0812', 'PP_0813', 'PP_0814', 'PP_0815', 'PP_0812-15']  # Add all your strains in the desired order\n",
    "\n",
    "# Convert the 'Strain' column to a categorical type with the specified order\n",
    "df['Strain'] = pd.Categorical(df['Strain'], categories=strain_order, ordered=True)\n",
    "\n",
    "# Calculate mean and standard deviation for target and non-target values for each strain\n",
    "means = df.groupby(['Strain', 'Type'])['Titer'].mean().unstack()\n",
    "stds = df.groupby(['Strain', 'Type'])['Titer'].std().unstack()\n",
    "\n",
    "# Calculate the difference and the propagated error\n",
    "diffs = means['Target'] - means['Non-target']\n",
    "errors = np.sqrt(stds['Target']**2 + stds['Non-target']**2)\n",
    "\n",
    "# Create a new DataFrame for plotting\n",
    "plot_data = pd.DataFrame({'Strain': strain_order, 'Difference': diffs, 'Error': errors})\n",
    "\n",
    "# Plot the fractional differences with error bars\n",
    "w = len(plot_data) / 4\n",
    "print(w)\n",
    "plt.figure(figsize=(w, 2))\n",
    "\n",
    "bar_color = \"#648FFF\"\n",
    "\n",
    "ax = sns.barplot(data=plot_data, x='Strain', y='Difference', color=bar_color, edgecolor=\"0\", linewidth=line_size)\n",
    "\n",
    "# Add error bars with caps\n",
    "for i in range(len(plot_data)):\n",
    "    plt.errorbar(x=i, y=plot_data['Difference'][i], yerr=plot_data['Error'][i], fmt='none', c='black', capsize=3, capthick=line_size, elinewidth=line_size, zorder=3)\n",
    "\n",
    "# Format axes and legend\n",
    "plt.xlabel('Gene of interest', labelpad=15)\n",
    "plt.ylabel('Difference in Titer (mg/L)', labelpad=10)\n",
    "plt.ylim(min(plot_data['Difference'] - plot_data['Error']) * 1.1, max(plot_data['Difference'] + plot_data['Error']) * 1.1)\n",
    "plt.xticks(rotation='vertical', style='italic')\n",
    "\n",
    "plt.savefig(f'Figure_Export/{fig}_Difference_Target_Non-target.pdf', dpi=1200, bbox_inches='tight')\n",
    "plt.show()"
   ]
  }
 ],
 "metadata": {
  "kernelspec": {
   "display_name": "Python 3 (ipykernel)",
   "language": "python",
   "name": "python3"
  },
  "language_info": {
   "codemirror_mode": {
    "name": "ipython",
    "version": 3
   },
   "file_extension": ".py",
   "mimetype": "text/x-python",
   "name": "python",
   "nbconvert_exporter": "python",
   "pygments_lexer": "ipython3",
   "version": "3.10.6"
  }
 },
 "nbformat": 4,
 "nbformat_minor": 5
}
