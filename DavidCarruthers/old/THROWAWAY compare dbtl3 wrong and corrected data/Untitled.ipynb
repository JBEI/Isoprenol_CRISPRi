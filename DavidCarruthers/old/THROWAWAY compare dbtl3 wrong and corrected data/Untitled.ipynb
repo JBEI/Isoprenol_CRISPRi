{
 "cells": [
  {
   "cell_type": "markdown",
   "id": "e8046f2b-ab38-4f64-aba4-a6d659cf9e66",
   "metadata": {},
   "source": [
    "# Import, filter, and save EDD data\n",
    "EDD has a large amount of unnecessary data (biolecter and proteomics). Download studies, filter out everything but isoprenol, and save locally to save time."
   ]
  },
  {
   "cell_type": "code",
   "execution_count": 1,
   "id": "bcbc733d-90eb-468e-a3e8-728adcd03ec3",
   "metadata": {
    "tags": []
   },
   "outputs": [],
   "source": [
    "import edd_utils as eddu\n",
    "import pandas as pd"
   ]
  },
  {
   "cell_type": "markdown",
   "id": "8aa952c3-955b-4b79-bdb2-063d24879a68",
   "metadata": {},
   "source": [
    "## Download the data"
   ]
  },
  {
   "cell_type": "markdown",
   "id": "e73b7b28-beb2-4c75-b264-6924777b5e12",
   "metadata": {},
   "source": [
    "These are the [Experiment Data Depot](https://pubs.acs.org/doi/full/10.1021/acssynbio.7b00204) server, the corresponding username and the slug (address) for the study to be downloaded:"
   ]
  },
  {
   "cell_type": "code",
   "execution_count": 2,
   "id": "d504074d-8104-4fef-8e19-fe7c8676fda3",
   "metadata": {
    "tags": []
   },
   "outputs": [],
   "source": [
    "study_slug_dbtl3_wrong = \n",
    "study_slug_dbtl3_right = 'crispri-automation-for-enhanced-isoprenol-pro-a97b'\n",
    "edd_server   = 'edd.jbei.org'\n",
    "username     = 'pckinnunen'"
   ]
  },
  {
   "cell_type": "markdown",
   "id": "9bc224a8-406e-4ed0-8cba-7d8798fabd54",
   "metadata": {},
   "source": [
    "We try connecting to the server with our login and password:"
   ]
  },
  {
   "cell_type": "code",
   "execution_count": 3,
   "id": "9b1ee0c8-9c95-4ba3-a678-536efec74faa",
   "metadata": {
    "tags": []
   },
   "outputs": [
    {
     "name": "stdin",
     "output_type": "stream",
     "text": [
      "Password for pckinnunen:  ········\n"
     ]
    },
    {
     "name": "stdout",
     "output_type": "stream",
     "text": [
      "OK! Connection to EDD successful. We will try to load data from EDD...\n"
     ]
    }
   ],
   "source": [
    "try:\n",
    "    session = eddu.login(edd_server=edd_server, user=username)\n",
    "except:\n",
    "    print('ERROR! Connection to EDD failed. We will try to load data from disk...')\n",
    "else:\n",
    "    print('OK! Connection to EDD successful. We will try to load data from EDD...')"
   ]
  },
  {
   "cell_type": "markdown",
   "id": "369a76b7-49c0-4682-bf5f-106c3638a806",
   "metadata": {},
   "source": [
    "And then we try to export the study from the EDD instance:"
   ]
  },
  {
   "cell_type": "code",
   "execution_count": 4,
   "id": "65b1d53f-4bde-4756-9492-f3d138599d46",
   "metadata": {
    "tags": []
   },
   "outputs": [],
   "source": [
    "# try:\n",
    "#     df_dbtl0 = eddu.export_study(session, study_slug_dbtl0, edd_server=edd_server)\n",
    "# except (NameError, AttributeError, KeyError):\n",
    "#     print(f'ERROR! Not able to export DBTL0 study.')"
   ]
  },
  {
   "cell_type": "code",
   "execution_count": 5,
   "id": "063306f2-7e6c-43ed-a1f4-4c00a4c007f3",
   "metadata": {},
   "outputs": [],
   "source": [
    "# try:\n",
    "#     df_dbtl1 = eddu.export_study(session, study_slug_dbtl1, edd_server = edd_server)\n",
    "# except (NameError, AttributeError, KeyError):\n",
    "#     print(f'ERROR! Not able to export DBTL1 study.')    "
   ]
  },
  {
   "cell_type": "code",
   "execution_count": 6,
   "id": "44b723ab-4491-46ae-b58f-9eb46d542b6b",
   "metadata": {},
   "outputs": [
    {
     "data": {
      "application/vnd.jupyter.widget-view+json": {
       "model_id": "515bf19d01fb4c55bf8aa1750cb8bbaa",
       "version_major": 2,
       "version_minor": 0
      },
      "text/plain": [
       "  0%|          | 0/420288 [00:00<?, ?it/s]"
      ]
     },
     "metadata": {},
     "output_type": "display_data"
    }
   ],
   "source": [
    "try:\n",
    "    df_dbtl2 = eddu.export_study(session, study_slug_dbtl2, edd_server = edd_server)\n",
    "except (NameError, AttributeError, KeyError):\n",
    "    print(f'ERROR! Not able to export DBTL2 study.')   "
   ]
  },
  {
   "cell_type": "code",
   "execution_count": 7,
   "id": "f432c5aa-68d6-4b44-bbaf-1fc55c1a3d42",
   "metadata": {},
   "outputs": [
    {
     "data": {
      "application/vnd.jupyter.widget-view+json": {
       "model_id": "2ec9ed40ceb24625af8f33d62cd7dacc",
       "version_major": 2,
       "version_minor": 0
      },
      "text/plain": [
       "  0%|          | 0/411567 [00:00<?, ?it/s]"
      ]
     },
     "metadata": {},
     "output_type": "display_data"
    }
   ],
   "source": [
    "try:\n",
    "    df_dbtl3 = eddu.export_study(session, study_slug_dbtl3, edd_server = edd_server)\n",
    "except (NameError, AttributeError, KeyError):\n",
    "    print(f'ERROR! Not able to export DBTL3 study.')   "
   ]
  },
  {
   "cell_type": "markdown",
   "id": "0c285040-4721-4396-82c9-ede96c59aa49",
   "metadata": {},
   "source": [
    "There are lots of data here (particularly the biolector data takes a lot of space):"
   ]
  },
  {
   "cell_type": "markdown",
   "id": "9bd3fbf0-ce27-4b3d-9706-d8e6f9e8f14e",
   "metadata": {
    "tags": []
   },
   "source": [
    "Let's have a look at the different protocols (types of data) that are includeed in the study:"
   ]
  },
  {
   "cell_type": "code",
   "execution_count": 8,
   "id": "2b99a594-2189-423c-b9a7-9bbde8f81226",
   "metadata": {
    "tags": []
   },
   "outputs": [],
   "source": [
    "# df_dbtl0['Protocol'].unique()"
   ]
  },
  {
   "cell_type": "code",
   "execution_count": 9,
   "id": "1436f64c-a0a2-4138-aaa4-be797193183e",
   "metadata": {},
   "outputs": [],
   "source": [
    "# df_dbtl1['Protocol'].unique()"
   ]
  },
  {
   "cell_type": "code",
   "execution_count": 10,
   "id": "e5aebc57-32e1-4c8c-9d78-389d00dc18ce",
   "metadata": {},
   "outputs": [
    {
     "data": {
      "text/plain": [
       "array(['GC-FID', 'Global Proteomics'], dtype=object)"
      ]
     },
     "execution_count": 10,
     "metadata": {},
     "output_type": "execute_result"
    }
   ],
   "source": [
    "df_dbtl2['Protocol'].unique()"
   ]
  },
  {
   "cell_type": "code",
   "execution_count": 11,
   "id": "34b56632-511f-4910-8578-e92ddd920379",
   "metadata": {},
   "outputs": [
    {
     "data": {
      "text/plain": [
       "array(['Global Proteomics', 'GC-FID'], dtype=object)"
      ]
     },
     "execution_count": 11,
     "metadata": {},
     "output_type": "execute_result"
    }
   ],
   "source": [
    "df_dbtl3['Protocol'].unique()"
   ]
  }
 ],
 "metadata": {
  "kernelspec": {
   "display_name": "Python 3 (ipykernel)",
   "language": "python",
   "name": "python3"
  },
  "language_info": {
   "codemirror_mode": {
    "name": "ipython",
    "version": 3
   },
   "file_extension": ".py",
   "mimetype": "text/x-python",
   "name": "python",
   "nbconvert_exporter": "python",
   "pygments_lexer": "ipython3",
   "version": "3.11.6"
  }
 },
 "nbformat": 4,
 "nbformat_minor": 5
}
