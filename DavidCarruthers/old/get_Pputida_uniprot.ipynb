{
 "cells": [
  {
   "cell_type": "markdown",
   "id": "7a699642-4768-4cb1-a3a4-5bf8a8888691",
   "metadata": {},
   "source": [
    "**Testing the uniprot API**\n",
    "To do CRISPRi experiments we have to associate a gene target (via accession number) with a proteomics measurement (via uniprot ID). The goal is to create a dictionary for conversion between them.\n",
    "\n",
    "To do so, we will use the uniprot API to download all data for a particular organism.\n",
    "\n",
    "This workbook tests out some functionality.\n",
    "\n",
    "Starting from: https://www.uniprot.org/help/api_queries\n",
    "\n",
    "Generated ppURL by searching for PP KT2240 on uniprot advanced search, then filtering for reviewed entries, then selecting download."
   ]
  },
  {
   "cell_type": "code",
   "execution_count": 1,
   "id": "43ad2cb5-a8c6-4ba1-8cf4-94e7fa765234",
   "metadata": {},
   "outputs": [],
   "source": [
    "import requests\n",
    "import re\n",
    "import io\n",
    "import pandas as pd\n",
    "import os\n",
    "import numpy as np"
   ]
  },
  {
   "cell_type": "code",
   "execution_count": 2,
   "id": "f01a2591-6f67-410b-ba7d-4c63a4ebe0b8",
   "metadata": {},
   "outputs": [
    {
     "data": {
      "text/html": [
       "<div>\n",
       "<style scoped>\n",
       "    .dataframe tbody tr th:only-of-type {\n",
       "        vertical-align: middle;\n",
       "    }\n",
       "\n",
       "    .dataframe tbody tr th {\n",
       "        vertical-align: top;\n",
       "    }\n",
       "\n",
       "    .dataframe thead th {\n",
       "        text-align: right;\n",
       "    }\n",
       "</style>\n",
       "<table border=\"1\" class=\"dataframe\">\n",
       "  <thead>\n",
       "    <tr style=\"text-align: right;\">\n",
       "      <th></th>\n",
       "      <th>Entry</th>\n",
       "      <th>Entry Name</th>\n",
       "      <th>Gene Names</th>\n",
       "    </tr>\n",
       "  </thead>\n",
       "  <tbody>\n",
       "    <tr>\n",
       "      <th>0</th>\n",
       "      <td>Q88E10</td>\n",
       "      <td>MCPS_PSEPK</td>\n",
       "      <td>mcpS PP_4658</td>\n",
       "    </tr>\n",
       "    <tr>\n",
       "      <th>1</th>\n",
       "      <td>Q88E47</td>\n",
       "      <td>HGD_PSEPK</td>\n",
       "      <td>hmgA PP_4621</td>\n",
       "    </tr>\n",
       "    <tr>\n",
       "      <th>2</th>\n",
       "      <td>Q88FF8</td>\n",
       "      <td>CHRR_PSEPK</td>\n",
       "      <td>chrR PP_4138</td>\n",
       "    </tr>\n",
       "    <tr>\n",
       "      <th>3</th>\n",
       "      <td>Q88FY2</td>\n",
       "      <td>6HN3M_PSEPK</td>\n",
       "      <td>nicC PP_3944</td>\n",
       "    </tr>\n",
       "    <tr>\n",
       "      <th>4</th>\n",
       "      <td>Q88GJ9</td>\n",
       "      <td>BSR_PSEPK</td>\n",
       "      <td>alr PP_3722</td>\n",
       "    </tr>\n",
       "    <tr>\n",
       "      <th>...</th>\n",
       "      <td>...</td>\n",
       "      <td>...</td>\n",
       "      <td>...</td>\n",
       "    </tr>\n",
       "    <tr>\n",
       "      <th>724</th>\n",
       "      <td>Q88Q16</td>\n",
       "      <td>Y682_PSEPK</td>\n",
       "      <td>PP_0682</td>\n",
       "    </tr>\n",
       "    <tr>\n",
       "      <th>725</th>\n",
       "      <td>Q88QJ9</td>\n",
       "      <td>FDHE_PSEPK</td>\n",
       "      <td>fdhE PP_0492</td>\n",
       "    </tr>\n",
       "    <tr>\n",
       "      <th>726</th>\n",
       "      <td>Q88QT7</td>\n",
       "      <td>APAG_PSEPK</td>\n",
       "      <td>apaG PP_0400</td>\n",
       "    </tr>\n",
       "    <tr>\n",
       "      <th>727</th>\n",
       "      <td>Q88R49</td>\n",
       "      <td>FETP_PSEPK</td>\n",
       "      <td>PP_0285</td>\n",
       "    </tr>\n",
       "    <tr>\n",
       "      <th>728</th>\n",
       "      <td>Q88RJ4</td>\n",
       "      <td>Y135_PSEPK</td>\n",
       "      <td>PP_0135</td>\n",
       "    </tr>\n",
       "  </tbody>\n",
       "</table>\n",
       "<p>729 rows × 3 columns</p>\n",
       "</div>"
      ],
      "text/plain": [
       "      Entry   Entry Name    Gene Names\n",
       "0    Q88E10   MCPS_PSEPK  mcpS PP_4658\n",
       "1    Q88E47    HGD_PSEPK  hmgA PP_4621\n",
       "2    Q88FF8   CHRR_PSEPK  chrR PP_4138\n",
       "3    Q88FY2  6HN3M_PSEPK  nicC PP_3944\n",
       "4    Q88GJ9    BSR_PSEPK   alr PP_3722\n",
       "..      ...          ...           ...\n",
       "724  Q88Q16   Y682_PSEPK       PP_0682\n",
       "725  Q88QJ9   FDHE_PSEPK  fdhE PP_0492\n",
       "726  Q88QT7   APAG_PSEPK  apaG PP_0400\n",
       "727  Q88R49   FETP_PSEPK       PP_0285\n",
       "728  Q88RJ4   Y135_PSEPK       PP_0135\n",
       "\n",
       "[729 rows x 3 columns]"
      ]
     },
     "execution_count": 2,
     "metadata": {},
     "output_type": "execute_result"
    }
   ],
   "source": [
    "#Get all PP (KT2240 strain) proteins that have been reviewed. \n",
    "ppUrl = 'https://rest.uniprot.org/uniprotkb/stream?fields=accession%2Cid%2Cgene_names&format=tsv&query=%28%28organism_id%3A160488%29%29%20AND%20%28reviewed%3Atrue%29'\n",
    "r = requests.get(ppUrl).text\n",
    "df = pd.read_csv(io.StringIO(r),sep='\\t')\n",
    "df"
   ]
  },
  {
   "cell_type": "code",
   "execution_count": null,
   "id": "9f9aab80-ba92-44bb-9072-2e4f14ad5d8f",
   "metadata": {},
   "outputs": [],
   "source": []
  },
  {
   "cell_type": "markdown",
   "id": "d0fb4d5d-46c3-46b2-bc15-9800a5ad544e",
   "metadata": {},
   "source": [
    "Now that we have data, see how to filter the \"gene name\" column"
   ]
  },
  {
   "cell_type": "code",
   "execution_count": 3,
   "id": "5b812505-aed2-4120-b562-c2027dfe686c",
   "metadata": {},
   "outputs": [
    {
     "name": "stdout",
     "output_type": "stream",
     "text": [
      "Do all gene names contain PP? True\n",
      "These are the lengths of the gene names from uniprot: [12 11 18 16 17 20  7 13 19 21 25 22 23]\n"
     ]
    }
   ],
   "source": [
    "df['PP'] = None\n",
    "df\n",
    "findPP = lambda x: 1 if x.find('PP') >=0 else 0\n",
    "df['PP']=df['Gene Names'].apply(findPP)\n",
    "print(f'Do all gene names contain PP? {df.PP.all()}')\n",
    "#filter by whether they contain PP\n",
    "df = df[df.PP==True]\n",
    "\n",
    "print(f\"These are the lengths of the gene names from uniprot: {df['Gene Names'].apply(len).unique()}\")\n"
   ]
  },
  {
   "cell_type": "markdown",
   "id": "8c03926c-35a0-4667-afa2-f9d09d1da75c",
   "metadata": {},
   "source": [
    "Print out some examples of gene names with different lengths to determine how to filter them properly:\n"
   ]
  },
  {
   "cell_type": "code",
   "execution_count": 4,
   "id": "71af8aa9-1262-4e98-a2c0-4e4aaa2bb605",
   "metadata": {},
   "outputs": [
    {
     "name": "stdout",
     "output_type": "stream",
     "text": [
      "[ 7 11 12 13 16 17 18 19 20 21 22 23 25]\n",
      "length is 7\n",
      "      Entry   Entry Name Gene Names  PP\n",
      "15   Q88CT0  IXTPA_PSEPK    PP_5100   1\n",
      "20   Q88EI9     AK_PSEPK    PP_4473   1\n",
      "210  Q88L12   YEGS_PSEPK    PP_2125   1\n",
      "215  Q88L51  RRAAH_PSEPK    PP_2084   1\n",
      "216  Q88L54   PSRP_PSEPK    PP_2081   1\n",
      "length is 11\n",
      "     Entry   Entry Name   Gene Names  PP\n",
      "4   Q88GJ9    BSR_PSEPK  alr PP_3722   1\n",
      "30  Q88H32    OCD_PSEPK  ocd PP_3533   1\n",
      "38  Q88NN6  URODH_PSEPK  udh PP_1171   1\n",
      "51  P0A136    KAD_PSEPK  adk PP_1506   1\n",
      "72  Q88C89   RNPH_PSEPK  rph PP_5294   1\n",
      "length is 12\n",
      "    Entry   Entry Name    Gene Names  PP\n",
      "0  Q88E10   MCPS_PSEPK  mcpS PP_4658   1\n",
      "1  Q88E47    HGD_PSEPK  hmgA PP_4621   1\n",
      "2  Q88FF8   CHRR_PSEPK  chrR PP_4138   1\n",
      "3  Q88FY2  6HN3M_PSEPK  nicC PP_3944   1\n",
      "5  Q88JK6   PCAY_PSEPK  pcaY PP_2643   1\n",
      "length is 13\n",
      "      Entry   Entry Name     Gene Names  PP\n",
      "16   Q88CT3  METXS_PSEPK  metXS PP_5097   1\n",
      "55   P0A181   QADG_PSEPK  qhnDH PP_3460   1\n",
      "69   Q88C57  PSTB2_PSEPK  pstB2 PP_5326   1\n",
      "140  Q88EC8  AZOR2_PSEPK  azoR2 PP_4538   1\n",
      "141  Q88EH6  ACSA1_PSEPK  acsA1 PP_4487   1\n",
      "length is 16\n",
      "     Entry  Entry Name        Gene Names  PP\n",
      "9   Q88M11  MUPP_PSEPK  mupP gph PP_1764   1\n",
      "41  Q88PP0   HMP_PSEPK  hmp hmpA PP_0808   1\n",
      "42  Q88PX6  KPRS_PSEPK  prs prsA PP_0722   1\n",
      "67  Q88C19  CLSA_PSEPK  clsA cls PP_5364   1\n",
      "84  Q88CQ5   FPG_PSEPK  mutM fpg PP_5125   1\n",
      "length is 17\n",
      "     Entry  Entry Name         Gene Names  PP\n",
      "12  P0A171  RP54_PSEPK  rpoN ntrA PP_0952   1\n",
      "19  Q88D93  HLDE_PSEPK  hldE rfaE PP_4934   1\n",
      "25  Q88FX8  NICB_PSEPK  nicB ndhL PP_3948   1\n",
      "26  Q88FX9  NICA_PSEPK  nicA ndhS PP_3947   1\n",
      "46  Q88RA3  TAUD_PSEPK  tauD atsK PP_0230   1\n",
      "length is 18\n",
      "      Entry   Entry Name          Gene Names  PP\n",
      "6    Q88JU3    DSD_PSEPK  quiC1 quiC PP_2554   1\n",
      "92   Q88CW4  NHAP2_PSEPK  nhaP2 cvrA PP_5066   1\n",
      "130  Q88DW6  ACSA2_PSEPK  acsA2 acsB PP_4702   1\n",
      "131  Q88DW7  G6PI2_PSEPK  pgi2 pgi-2 PP_4701   1\n",
      "231  Q88LW9  G6PI1_PSEPK  pgi1 pgi-1 PP_1808   1\n",
      "length is 19\n",
      "      Entry  Entry Name           Gene Names  PP\n",
      "24   Q88FT3  CYSG_PSEPK  cysG cobA-2 PP_3999   1\n",
      "62   Q88BW9  ATPL_PSEPK  atpE PP_5418 PP5418   1\n",
      "153  Q88FB2  SUCC_PSEPK  sucC PP_4186 PP4186   1\n",
      "155  Q88FF3  GLO2_PSEPK  gloB PP_4144 PP4144   1\n",
      "161  Q88FH6  NUOB_PSEPK  nuoB PP_4120 PP4120   1\n",
      "length is 20\n",
      "      Entry   Entry Name            Gene Names  PP\n",
      "13   P59479  LEXA2_PSEPK  lexA2 lexA-2 PP_3116   1\n",
      "79   Q88CI9  GCSP2_PSEPK  gcvP2 gcvP-2 PP_5192   1\n",
      "199  Q88K84  AROQ2_PSEPK  aroQ2 aroQ-2 PP_2407   1\n",
      "201  Q88KM5  FOLD2_PSEPK  folD2 folD-2 PP_2265   1\n",
      "224  Q88LI7  FOLD1_PSEPK  folD1 folD-1 PP_1945   1\n",
      "length is 21\n",
      "      Entry   Entry Name             Gene Names  PP\n",
      "52   P0A138    PAL_PSEPK  pal oprL pal1 PP_1223   1\n",
      "185  Q88IY7   UPPP_PSEPK  uppP bacA upk PP_2862   1\n",
      "189  Q88JD1  ARSR2_PSEPK  arsR2 arsR-II PP_2718   1\n",
      "375  Q88RR3   RSMB_PSEPK  rsmB rrmB sun PP_0066   1\n",
      "length is 22\n",
      "      Entry  Entry Name              Gene Names  PP\n",
      "54   P0A175  MNME_PSEPK  mnmE thdF trmE PP_0005   1\n",
      "126  Q88DV0  RLME_PSEPK  rlmE ftsJ rrmJ PP_4719   1\n",
      "length is 23\n",
      "      Entry   Entry Name               Gene Names  PP\n",
      "160  Q88FH5  NUOCD_PSEPK  nuoC nuoCD nuoD PP_4121   1\n",
      "length is 25\n",
      "     Entry   Entry Name                 Gene Names  PP\n",
      "53  P0A153  LEXA1_PSEPK  lexA1 lexA lexA-1 PP_2143   1\n"
     ]
    }
   ],
   "source": [
    "unique_name_lengths = np.sort(df['Gene Names'].apply(len).unique())\n",
    "print(unique_name_lengths)\n",
    "for n in unique_name_lengths:\n",
    "    print(f'length is {n}')\n",
    "    print(df[df['Gene Names'].apply(len) == n].head())"
   ]
  },
  {
   "cell_type": "markdown",
   "id": "45bcc6cc-5c14-448d-a45d-06eca3d1b5f3",
   "metadata": {},
   "source": [
    "filter out the extra text around the gene name:\n",
    "gene names have varying lengths. \n",
    "\n",
    "'PP_' is not always the last part of gene names\n",
    "\n",
    "we can find it using str.find('PP_') and then get the following 7 characters. Could also use str.split(' ') and then find the substring with 'PP_'."
   ]
  },
  {
   "cell_type": "code",
   "execution_count": 5,
   "id": "2a823f30-09a0-44c1-9d04-f522fb6de3d6",
   "metadata": {},
   "outputs": [
    {
     "name": "stdout",
     "output_type": "stream",
     "text": [
      "Sample name: atpE PP_5418 PP5418 applying filterPP: PP_5418\n",
      "    Entry trimmed_name\n",
      "0  Q88E10      PP_4658\n",
      "1  Q88E47      PP_4621\n",
      "2  Q88FF8      PP_4138\n",
      "3  Q88FY2      PP_3944\n",
      "4  Q88GJ9      PP_3722\n"
     ]
    }
   ],
   "source": [
    "filterPP = lambda x: x[x.find('PP'):(x.find('PP') + 7)]\n",
    "print(f\"Sample name: {df.iloc[62,2]} applying filterPP: {filterPP(df.iloc[62,2 ])}\")\n",
    "df['trimmed_name'] = None\n",
    "df['trimmed_name'] = df['Gene Names'].apply(filterPP)\n",
    "df_final = df.drop(columns = ['Entry Name', 'Gene Names', 'PP'])\n",
    "print(df_final.head())\n",
    "pkl_name = os.path.join('data','uniprot_PPutida_reviewed.pkl')\n",
    "\n",
    "pkl_name\n",
    "df_final.to_pickle(pkl_name)"
   ]
  },
  {
   "cell_type": "code",
   "execution_count": null,
   "id": "ba67a3cf-a112-4ed0-a59f-d51ba81023bc",
   "metadata": {},
   "outputs": [],
   "source": []
  }
 ],
 "metadata": {
  "kernelspec": {
   "display_name": "ART Prod v.master.5e5f34c",
   "language": "python",
   "name": "python3"
  },
  "language_info": {
   "codemirror_mode": {
    "name": "ipython",
    "version": 3
   },
   "file_extension": ".py",
   "mimetype": "text/x-python",
   "name": "python",
   "nbconvert_exporter": "python",
   "pygments_lexer": "ipython3",
   "version": "3.10.6"
  }
 },
 "nbformat": 4,
 "nbformat_minor": 5
}
