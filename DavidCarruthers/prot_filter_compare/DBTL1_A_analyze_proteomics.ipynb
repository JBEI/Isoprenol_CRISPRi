{
 "cells": [
  {
   "cell_type": "markdown",
   "id": "ae828fc6-52aa-4cfa-a26d-d00ac10cc495",
   "metadata": {
    "tags": []
   },
   "source": [
    "# Analyze DBTL1 proteomics"
   ]
  },
  {
   "cell_type": "markdown",
   "id": "783ccce5-e1ec-4d43-b46e-afa21d3a7580",
   "metadata": {},
   "source": [
    "For DBTL1, we produced 2- and 3-gRNA P.Putida strains and did global proteomics. Here we analyze the proteomics data in order to filter strains by dCas9 expression and target inhibition."
   ]
  },
  {
   "cell_type": "markdown",
   "id": "a890c851-2464-45fc-99d6-83b8dda1d495",
   "metadata": {},
   "source": [
    "## Input and output"
   ]
  },
  {
   "cell_type": "markdown",
   "id": "0133fee7-a4b1-4c81-949a-6a8f961db0c1",
   "metadata": {},
   "source": [
    "## 1. Setup"
   ]
  },
  {
   "cell_type": "markdown",
   "id": "e2da56f9-9627-4c61-a5bf-9680d4bd5511",
   "metadata": {},
   "source": [
    "### 1.1 Imports"
   ]
  },
  {
   "cell_type": "code",
   "execution_count": 1,
   "id": "37bcb418-69fb-4b59-9087-0bd509d09279",
   "metadata": {
    "tags": []
   },
   "outputs": [],
   "source": [
    "import edd_utils as eddu\n",
    "import pandas as pd\n",
    "import numpy as np\n",
    "import matplotlib.pyplot as plt\n",
    "import seaborn as sns\n",
    "import re \n",
    "import random\n",
    "random.seed(1)"
   ]
  },
  {
   "cell_type": "markdown",
   "id": "a6b31223-8fd2-47c4-abb9-8456f79bf4ac",
   "metadata": {},
   "source": [
    "Define function for identifying if tests pass throughout the workbook: "
   ]
  },
  {
   "cell_type": "markdown",
   "id": "a84e07d9-c70c-44b2-9dcb-2f11549faad0",
   "metadata": {
    "tags": []
   },
   "source": [
    "### 1.2 User parameters"
   ]
  },
  {
   "cell_type": "code",
   "execution_count": 2,
   "id": "ff03eb64-75e2-4b7b-a245-8571f3603de0",
   "metadata": {},
   "outputs": [],
   "source": [
    "user_params = {\n",
    "    'output_dir'  : './dbtl1_new_filter_diff_seed/',\n",
    "    'protein_map' : './Sample name, CRISPRi target gene, Uniprot ID v2.xlsx',\n",
    "}"
   ]
  },
  {
   "cell_type": "markdown",
   "id": "f87cc41a-02f5-4e9b-b680-eead3e079cc2",
   "metadata": {},
   "source": [
    "### 1.3 Download the data"
   ]
  },
  {
   "cell_type": "markdown",
   "id": "c1c29bce-3043-4185-bc00-f5067e1fd1b0",
   "metadata": {},
   "source": [
    "These are the [Experiment Data Depot](https://pubs.acs.org/doi/full/10.1021/acssynbio.7b00204) server, the corresponding username and the slug (address) for the study to be downloaded:"
   ]
  },
  {
   "cell_type": "code",
   "execution_count": 3,
   "id": "4879799b-5f55-42b4-b543-5f60dcc05ce7",
   "metadata": {},
   "outputs": [],
   "source": [
    "study_slug_1 = 'crispri-automation-for-enhanced-isoprenol-pro-fca3'\n",
    "edd_server   = 'edd.jbei.org'\n",
    "username     = 'pckinnunen'"
   ]
  },
  {
   "cell_type": "markdown",
   "id": "9921c87e-40db-42d9-a803-a592cee70c96",
   "metadata": {},
   "source": [
    "We try connecting to the server with our login and password:"
   ]
  },
  {
   "cell_type": "code",
   "execution_count": 4,
   "id": "41a878f0-cc1b-418a-8b4b-7391588a9f57",
   "metadata": {},
   "outputs": [
    {
     "name": "stdin",
     "output_type": "stream",
     "text": [
      "Password for pckinnunen:  ········\n"
     ]
    },
    {
     "name": "stdout",
     "output_type": "stream",
     "text": [
      "OK! Connection to EDD successful. We will try to load data from EDD...\n"
     ]
    }
   ],
   "source": [
    "try:\n",
    "    session = eddu.login(edd_server=edd_server, user=username)\n",
    "except:\n",
    "    print('ERROR! Connection to EDD failed. We will try to load data from disk...')\n",
    "else:\n",
    "    print('OK! Connection to EDD successful. We will try to load data from EDD...')"
   ]
  },
  {
   "cell_type": "markdown",
   "id": "c8add644-cc5b-4747-8c22-b6f71aef9dcc",
   "metadata": {},
   "source": [
    "And then we try to export the study from the EDD instance:"
   ]
  },
  {
   "cell_type": "code",
   "execution_count": 5,
   "id": "681b067a-78f0-4277-a38a-54c3a2238811",
   "metadata": {},
   "outputs": [
    {
     "data": {
      "application/vnd.jupyter.widget-view+json": {
       "model_id": "28f35bab04a14590a933051650b6b98b",
       "version_major": 2,
       "version_minor": 0
      },
      "text/plain": [
       "  0%|          | 0/475488 [00:00<?, ?it/s]"
      ]
     },
     "metadata": {},
     "output_type": "display_data"
    }
   ],
   "source": [
    "try:\n",
    "    df = eddu.export_study(session, study_slug_1, edd_server=edd_server)\n",
    "except (NameError, AttributeError, KeyError):\n",
    "    print(f'ERROR! Not able to export the study.')"
   ]
  },
  {
   "cell_type": "markdown",
   "id": "dee6459d-2445-4a91-b16b-d1ca00d43c0d",
   "metadata": {},
   "source": [
    "There are lots of data here (particularly the biolector data takes a lot of space):"
   ]
  },
  {
   "cell_type": "markdown",
   "id": "55e4d3d3-fe2a-4c0f-8b0a-da37864b622c",
   "metadata": {},
   "source": [
    "Let's have a look at the different protocols (types of data) that are includeed in the study:"
   ]
  },
  {
   "cell_type": "code",
   "execution_count": 6,
   "id": "a9f9c254-60d6-4899-8353-d0cc25fd906c",
   "metadata": {
    "tags": []
   },
   "outputs": [
    {
     "data": {
      "text/plain": [
       "array(['GC-FID', 'Global Proteomics', 'Biolector'], dtype=object)"
      ]
     },
     "execution_count": 6,
     "metadata": {},
     "output_type": "execute_result"
    }
   ],
   "source": [
    "df['Protocol'].unique()"
   ]
  },
  {
   "cell_type": "markdown",
   "id": "2d7ea37a-687e-4732-998c-b955a19879a0",
   "metadata": {},
   "source": [
    "## 2. Preprocess and inspect data"
   ]
  },
  {
   "cell_type": "markdown",
   "id": "da2fabdf-dd24-417c-a2c4-0fab55c965c9",
   "metadata": {},
   "source": [
    "### 2.1 Useful functions - preprocessing"
   ]
  },
  {
   "cell_type": "code",
   "execution_count": 7,
   "id": "f1c65c8f-3c2f-49c1-b1d9-b6d53ac9d25a",
   "metadata": {
    "tags": []
   },
   "outputs": [],
   "source": [
    "def create_strain_names(df: pd.DataFrame):\n",
    "    \"Creates strain names by reading Line Description and eliminating Biolector culture info.\"\n",
    "    strains = [\n",
    "        line_name.split('_')[1] for line_name in df[\"Line Description\"].to_list()\n",
    "    ]\n",
    "    return strains"
   ]
  },
  {
   "cell_type": "markdown",
   "id": "0cf75fa9-8a77-4d3f-9843-978e441b04f8",
   "metadata": {},
   "source": [
    "### 2.2 Eliminate biolector data"
   ]
  },
  {
   "cell_type": "markdown",
   "id": "7a1753ef-2be1-486c-90e7-11ca2c430036",
   "metadata": {},
   "source": [
    "For our current purposes, we don't need the biolector data, so let's get rid of it (we can always recover it later):"
   ]
  },
  {
   "cell_type": "code",
   "execution_count": 8,
   "id": "f133a090-e27a-4dc1-ad1d-0af7bdcac9cb",
   "metadata": {
    "tags": []
   },
   "outputs": [
    {
     "data": {
      "text/html": [
       "<div>\n",
       "<style scoped>\n",
       "    .dataframe tbody tr th:only-of-type {\n",
       "        vertical-align: middle;\n",
       "    }\n",
       "\n",
       "    .dataframe tbody tr th {\n",
       "        vertical-align: top;\n",
       "    }\n",
       "\n",
       "    .dataframe thead th {\n",
       "        text-align: right;\n",
       "    }\n",
       "</style>\n",
       "<table border=\"1\" class=\"dataframe\">\n",
       "  <thead>\n",
       "    <tr style=\"text-align: right;\">\n",
       "      <th></th>\n",
       "      <th>Study ID</th>\n",
       "      <th>Study Name</th>\n",
       "      <th>Line ID</th>\n",
       "      <th>Replicate Key</th>\n",
       "      <th>Line Name</th>\n",
       "      <th>Line Description</th>\n",
       "      <th>Protocol</th>\n",
       "      <th>Assay ID</th>\n",
       "      <th>Assay Name</th>\n",
       "      <th>Formal Type</th>\n",
       "      <th>Measurement Type</th>\n",
       "      <th>Compartment</th>\n",
       "      <th>Units</th>\n",
       "      <th>Value</th>\n",
       "      <th>Hours</th>\n",
       "    </tr>\n",
       "  </thead>\n",
       "  <tbody>\n",
       "    <tr>\n",
       "      <th>0</th>\n",
       "      <td>191107</td>\n",
       "      <td>CRISPRi automation for enhanced isoprenol prod...</td>\n",
       "      <td>191108</td>\n",
       "      <td>5ccffc96-15ea-4e75-89cc-e198de3bab69</td>\n",
       "      <td>PP_0226_PP_0897_PP_5288-R1</td>\n",
       "      <td>DBTL1_P1_001</td>\n",
       "      <td>GC-FID</td>\n",
       "      <td>191300</td>\n",
       "      <td>PP_0226_PP_0897_PP_5288-R1</td>\n",
       "      <td>cid:12988</td>\n",
       "      <td>3-METHYL-3-BUTEN-1-OL</td>\n",
       "      <td>0</td>\n",
       "      <td>mg/L</td>\n",
       "      <td>173.9811</td>\n",
       "      <td>48.00000</td>\n",
       "    </tr>\n",
       "    <tr>\n",
       "      <th>1</th>\n",
       "      <td>191107</td>\n",
       "      <td>CRISPRi automation for enhanced isoprenol prod...</td>\n",
       "      <td>191109</td>\n",
       "      <td>82a2ac64-9ac2-46db-a26d-0325b57e876e</td>\n",
       "      <td>PP_1319_PP_1457_PP_4192-R1</td>\n",
       "      <td>DBTL1_P1_002</td>\n",
       "      <td>GC-FID</td>\n",
       "      <td>191301</td>\n",
       "      <td>PP_1319_PP_1457_PP_4192-R1</td>\n",
       "      <td>cid:12988</td>\n",
       "      <td>3-METHYL-3-BUTEN-1-OL</td>\n",
       "      <td>0</td>\n",
       "      <td>mg/L</td>\n",
       "      <td>268.6526</td>\n",
       "      <td>48.00000</td>\n",
       "    </tr>\n",
       "    <tr>\n",
       "      <th>2</th>\n",
       "      <td>191107</td>\n",
       "      <td>CRISPRi automation for enhanced isoprenol prod...</td>\n",
       "      <td>191110</td>\n",
       "      <td>620d107d-a643-4f69-82ae-a11916dfda58</td>\n",
       "      <td>PP_2213_PP_2471_PP_4266-R1</td>\n",
       "      <td>DBTL1_P1_003</td>\n",
       "      <td>GC-FID</td>\n",
       "      <td>191302</td>\n",
       "      <td>PP_2213_PP_2471_PP_4266-R1</td>\n",
       "      <td>cid:12988</td>\n",
       "      <td>3-METHYL-3-BUTEN-1-OL</td>\n",
       "      <td>0</td>\n",
       "      <td>mg/L</td>\n",
       "      <td>182.8489</td>\n",
       "      <td>48.00000</td>\n",
       "    </tr>\n",
       "    <tr>\n",
       "      <th>3</th>\n",
       "      <td>191107</td>\n",
       "      <td>CRISPRi automation for enhanced isoprenol prod...</td>\n",
       "      <td>191111</td>\n",
       "      <td>22e396ed-81f5-450c-a279-edb237b08008</td>\n",
       "      <td>PP_3123_PP_4862_PP_5186-R1</td>\n",
       "      <td>DBTL1_P1_004</td>\n",
       "      <td>GC-FID</td>\n",
       "      <td>191303</td>\n",
       "      <td>PP_3123_PP_4862_PP_5186-R1</td>\n",
       "      <td>cid:12988</td>\n",
       "      <td>3-METHYL-3-BUTEN-1-OL</td>\n",
       "      <td>0</td>\n",
       "      <td>mg/L</td>\n",
       "      <td>165.8082</td>\n",
       "      <td>48.00000</td>\n",
       "    </tr>\n",
       "    <tr>\n",
       "      <th>4</th>\n",
       "      <td>191107</td>\n",
       "      <td>CRISPRi automation for enhanced isoprenol prod...</td>\n",
       "      <td>191112</td>\n",
       "      <td>ebb85028-ca43-4492-8d70-df4ad3cbc762</td>\n",
       "      <td>PP_2137_PP_4116_PP_4187-R1</td>\n",
       "      <td>DBTL1_P1_005</td>\n",
       "      <td>GC-FID</td>\n",
       "      <td>191304</td>\n",
       "      <td>PP_2137_PP_4116_PP_4187-R1</td>\n",
       "      <td>cid:12988</td>\n",
       "      <td>3-METHYL-3-BUTEN-1-OL</td>\n",
       "      <td>0</td>\n",
       "      <td>mg/L</td>\n",
       "      <td>222.7008</td>\n",
       "      <td>48.00000</td>\n",
       "    </tr>\n",
       "    <tr>\n",
       "      <th>...</th>\n",
       "      <td>...</td>\n",
       "      <td>...</td>\n",
       "      <td>...</td>\n",
       "      <td>...</td>\n",
       "      <td>...</td>\n",
       "      <td>...</td>\n",
       "      <td>...</td>\n",
       "      <td>...</td>\n",
       "      <td>...</td>\n",
       "      <td>...</td>\n",
       "      <td>...</td>\n",
       "      <td>...</td>\n",
       "      <td>...</td>\n",
       "      <td>...</td>\n",
       "      <td>...</td>\n",
       "    </tr>\n",
       "    <tr>\n",
       "      <th>475483</th>\n",
       "      <td>191107</td>\n",
       "      <td>CRISPRi automation for enhanced isoprenol prod...</td>\n",
       "      <td>191299</td>\n",
       "      <td>88aa4439-21a1-4c97-8855-b89578924982</td>\n",
       "      <td>Control_P2-R3</td>\n",
       "      <td>DBTL1_P1_048</td>\n",
       "      <td>Biolector</td>\n",
       "      <td>191875</td>\n",
       "      <td>Control_P2-R3</td>\n",
       "      <td>NaN</td>\n",
       "      <td>Optical Density</td>\n",
       "      <td>0</td>\n",
       "      <td>NaN</td>\n",
       "      <td>16.4600</td>\n",
       "      <td>47.34472</td>\n",
       "    </tr>\n",
       "    <tr>\n",
       "      <th>475484</th>\n",
       "      <td>191107</td>\n",
       "      <td>CRISPRi automation for enhanced isoprenol prod...</td>\n",
       "      <td>191299</td>\n",
       "      <td>88aa4439-21a1-4c97-8855-b89578924982</td>\n",
       "      <td>Control_P2-R3</td>\n",
       "      <td>DBTL1_P1_048</td>\n",
       "      <td>Biolector</td>\n",
       "      <td>191875</td>\n",
       "      <td>Control_P2-R3</td>\n",
       "      <td>NaN</td>\n",
       "      <td>Optical Density</td>\n",
       "      <td>0</td>\n",
       "      <td>NaN</td>\n",
       "      <td>16.2800</td>\n",
       "      <td>47.51139</td>\n",
       "    </tr>\n",
       "    <tr>\n",
       "      <th>475485</th>\n",
       "      <td>191107</td>\n",
       "      <td>CRISPRi automation for enhanced isoprenol prod...</td>\n",
       "      <td>191299</td>\n",
       "      <td>88aa4439-21a1-4c97-8855-b89578924982</td>\n",
       "      <td>Control_P2-R3</td>\n",
       "      <td>DBTL1_P1_048</td>\n",
       "      <td>Biolector</td>\n",
       "      <td>191875</td>\n",
       "      <td>Control_P2-R3</td>\n",
       "      <td>NaN</td>\n",
       "      <td>Optical Density</td>\n",
       "      <td>0</td>\n",
       "      <td>NaN</td>\n",
       "      <td>16.0400</td>\n",
       "      <td>47.67806</td>\n",
       "    </tr>\n",
       "    <tr>\n",
       "      <th>475486</th>\n",
       "      <td>191107</td>\n",
       "      <td>CRISPRi automation for enhanced isoprenol prod...</td>\n",
       "      <td>191299</td>\n",
       "      <td>88aa4439-21a1-4c97-8855-b89578924982</td>\n",
       "      <td>Control_P2-R3</td>\n",
       "      <td>DBTL1_P1_048</td>\n",
       "      <td>Biolector</td>\n",
       "      <td>191875</td>\n",
       "      <td>Control_P2-R3</td>\n",
       "      <td>NaN</td>\n",
       "      <td>Optical Density</td>\n",
       "      <td>0</td>\n",
       "      <td>NaN</td>\n",
       "      <td>15.8700</td>\n",
       "      <td>47.84472</td>\n",
       "    </tr>\n",
       "    <tr>\n",
       "      <th>475487</th>\n",
       "      <td>191107</td>\n",
       "      <td>CRISPRi automation for enhanced isoprenol prod...</td>\n",
       "      <td>191299</td>\n",
       "      <td>88aa4439-21a1-4c97-8855-b89578924982</td>\n",
       "      <td>Control_P2-R3</td>\n",
       "      <td>DBTL1_P1_048</td>\n",
       "      <td>Biolector</td>\n",
       "      <td>191875</td>\n",
       "      <td>Control_P2-R3</td>\n",
       "      <td>NaN</td>\n",
       "      <td>Optical Density</td>\n",
       "      <td>0</td>\n",
       "      <td>NaN</td>\n",
       "      <td>15.5900</td>\n",
       "      <td>48.01139</td>\n",
       "    </tr>\n",
       "  </tbody>\n",
       "</table>\n",
       "<p>475488 rows × 15 columns</p>\n",
       "</div>"
      ],
      "text/plain": [
       "        Study ID                                         Study Name  Line ID  \\\n",
       "0         191107  CRISPRi automation for enhanced isoprenol prod...   191108   \n",
       "1         191107  CRISPRi automation for enhanced isoprenol prod...   191109   \n",
       "2         191107  CRISPRi automation for enhanced isoprenol prod...   191110   \n",
       "3         191107  CRISPRi automation for enhanced isoprenol prod...   191111   \n",
       "4         191107  CRISPRi automation for enhanced isoprenol prod...   191112   \n",
       "...          ...                                                ...      ...   \n",
       "475483    191107  CRISPRi automation for enhanced isoprenol prod...   191299   \n",
       "475484    191107  CRISPRi automation for enhanced isoprenol prod...   191299   \n",
       "475485    191107  CRISPRi automation for enhanced isoprenol prod...   191299   \n",
       "475486    191107  CRISPRi automation for enhanced isoprenol prod...   191299   \n",
       "475487    191107  CRISPRi automation for enhanced isoprenol prod...   191299   \n",
       "\n",
       "                               Replicate Key                   Line Name  \\\n",
       "0       5ccffc96-15ea-4e75-89cc-e198de3bab69  PP_0226_PP_0897_PP_5288-R1   \n",
       "1       82a2ac64-9ac2-46db-a26d-0325b57e876e  PP_1319_PP_1457_PP_4192-R1   \n",
       "2       620d107d-a643-4f69-82ae-a11916dfda58  PP_2213_PP_2471_PP_4266-R1   \n",
       "3       22e396ed-81f5-450c-a279-edb237b08008  PP_3123_PP_4862_PP_5186-R1   \n",
       "4       ebb85028-ca43-4492-8d70-df4ad3cbc762  PP_2137_PP_4116_PP_4187-R1   \n",
       "...                                      ...                         ...   \n",
       "475483  88aa4439-21a1-4c97-8855-b89578924982               Control_P2-R3   \n",
       "475484  88aa4439-21a1-4c97-8855-b89578924982               Control_P2-R3   \n",
       "475485  88aa4439-21a1-4c97-8855-b89578924982               Control_P2-R3   \n",
       "475486  88aa4439-21a1-4c97-8855-b89578924982               Control_P2-R3   \n",
       "475487  88aa4439-21a1-4c97-8855-b89578924982               Control_P2-R3   \n",
       "\n",
       "       Line Description   Protocol  Assay ID                  Assay Name  \\\n",
       "0          DBTL1_P1_001     GC-FID    191300  PP_0226_PP_0897_PP_5288-R1   \n",
       "1          DBTL1_P1_002     GC-FID    191301  PP_1319_PP_1457_PP_4192-R1   \n",
       "2          DBTL1_P1_003     GC-FID    191302  PP_2213_PP_2471_PP_4266-R1   \n",
       "3          DBTL1_P1_004     GC-FID    191303  PP_3123_PP_4862_PP_5186-R1   \n",
       "4          DBTL1_P1_005     GC-FID    191304  PP_2137_PP_4116_PP_4187-R1   \n",
       "...                 ...        ...       ...                         ...   \n",
       "475483     DBTL1_P1_048  Biolector    191875               Control_P2-R3   \n",
       "475484     DBTL1_P1_048  Biolector    191875               Control_P2-R3   \n",
       "475485     DBTL1_P1_048  Biolector    191875               Control_P2-R3   \n",
       "475486     DBTL1_P1_048  Biolector    191875               Control_P2-R3   \n",
       "475487     DBTL1_P1_048  Biolector    191875               Control_P2-R3   \n",
       "\n",
       "       Formal Type       Measurement Type  Compartment Units     Value  \\\n",
       "0        cid:12988  3-METHYL-3-BUTEN-1-OL            0  mg/L  173.9811   \n",
       "1        cid:12988  3-METHYL-3-BUTEN-1-OL            0  mg/L  268.6526   \n",
       "2        cid:12988  3-METHYL-3-BUTEN-1-OL            0  mg/L  182.8489   \n",
       "3        cid:12988  3-METHYL-3-BUTEN-1-OL            0  mg/L  165.8082   \n",
       "4        cid:12988  3-METHYL-3-BUTEN-1-OL            0  mg/L  222.7008   \n",
       "...            ...                    ...          ...   ...       ...   \n",
       "475483         NaN        Optical Density            0   NaN   16.4600   \n",
       "475484         NaN        Optical Density            0   NaN   16.2800   \n",
       "475485         NaN        Optical Density            0   NaN   16.0400   \n",
       "475486         NaN        Optical Density            0   NaN   15.8700   \n",
       "475487         NaN        Optical Density            0   NaN   15.5900   \n",
       "\n",
       "           Hours  \n",
       "0       48.00000  \n",
       "1       48.00000  \n",
       "2       48.00000  \n",
       "3       48.00000  \n",
       "4       48.00000  \n",
       "...          ...  \n",
       "475483  47.34472  \n",
       "475484  47.51139  \n",
       "475485  47.67806  \n",
       "475486  47.84472  \n",
       "475487  48.01139  \n",
       "\n",
       "[475488 rows x 15 columns]"
      ]
     },
     "execution_count": 8,
     "metadata": {},
     "output_type": "execute_result"
    }
   ],
   "source": [
    "df"
   ]
  },
  {
   "cell_type": "code",
   "execution_count": 9,
   "id": "238a81eb-f626-4e38-afc4-c7a56420942d",
   "metadata": {
    "tags": []
   },
   "outputs": [
    {
     "data": {
      "text/plain": [
       "0         False\n",
       "1         False\n",
       "2         False\n",
       "3         False\n",
       "4         False\n",
       "          ...  \n",
       "475483     True\n",
       "475484     True\n",
       "475485     True\n",
       "475486     True\n",
       "475487     True\n",
       "Name: Protocol, Length: 475488, dtype: bool"
      ]
     },
     "execution_count": 9,
     "metadata": {},
     "output_type": "execute_result"
    }
   ],
   "source": [
    "df['Protocol']=='Biolector'"
   ]
  },
  {
   "cell_type": "code",
   "execution_count": 10,
   "id": "98955db2-a10d-4b4f-a5c5-307bd6476880",
   "metadata": {
    "tags": []
   },
   "outputs": [],
   "source": [
    "df2 = df.loc[df['Protocol']!='Biolector']"
   ]
  },
  {
   "cell_type": "code",
   "execution_count": 11,
   "id": "a4807a35-39e8-4557-b921-ab1e84095054",
   "metadata": {
    "tags": []
   },
   "outputs": [
    {
     "data": {
      "text/plain": [
       "(420096, 15)"
      ]
     },
     "execution_count": 11,
     "metadata": {},
     "output_type": "execute_result"
    }
   ],
   "source": [
    "df2.shape"
   ]
  },
  {
   "cell_type": "markdown",
   "id": "f9616d29-d18c-43ad-96b3-8cb1e42b0190",
   "metadata": {},
   "source": [
    "Let's just keep the basic data types:"
   ]
  },
  {
   "cell_type": "code",
   "execution_count": 12,
   "id": "b797827d-d61c-4c47-9f68-69211b35a893",
   "metadata": {
    "tags": []
   },
   "outputs": [],
   "source": [
    "df2 = df2.loc[:,['Line Name', 'Line Description', 'Protocol','Formal Type', 'Measurement Type', 'Value']]"
   ]
  },
  {
   "cell_type": "markdown",
   "id": "83224eb5-adb1-4e7a-8c99-4610271a5609",
   "metadata": {},
   "source": [
    "Let's have a look a the lines we have here:"
   ]
  },
  {
   "cell_type": "code",
   "execution_count": 13,
   "id": "c4e83741-c882-47a2-8f94-c6110f6a5b56",
   "metadata": {
    "tags": []
   },
   "outputs": [
    {
     "data": {
      "text/plain": [
       "(144,\n",
       " array(['DBTL1_P1_001', 'DBTL1_P1_002', 'DBTL1_P1_003', 'DBTL1_P1_004',\n",
       "        'DBTL1_P1_005', 'DBTL1_P1_006', 'DBTL1_P1_007', 'DBTL1_P1_008',\n",
       "        'DBTL1_P1_009', 'DBTL1_P1_010', 'DBTL1_P1_011', 'DBTL1_P1_012',\n",
       "        'DBTL1_P1_013', 'DBTL1_P1_014', 'DBTL1_P1_015', 'DBTL1_P1_016',\n",
       "        'DBTL1_P1_017', 'DBTL1_P1_018', 'DBTL1_P1_019', 'DBTL1_P1_020',\n",
       "        'DBTL1_P1_021', 'DBTL1_P1_022', 'DBTL1_P1_023', 'DBTL1_P1_024',\n",
       "        'DBTL1_P1_025', 'DBTL1_P1_026', 'DBTL1_P1_027', 'DBTL1_P1_028',\n",
       "        'DBTL1_P1_029', 'DBTL1_P1_030', 'DBTL1_P1_031', 'DBTL1_P1_032',\n",
       "        'DBTL1_P1_033', 'DBTL1_P1_034', 'DBTL1_P1_035', 'DBTL1_P1_036',\n",
       "        'DBTL1_P1_037', 'DBTL1_P1_038', 'DBTL1_P1_039', 'DBTL1_P1_040',\n",
       "        'DBTL1_P1_041', 'DBTL1_P1_042', 'DBTL1_P1_043', 'DBTL1_P1_044',\n",
       "        'DBTL1_P1_045', 'DBTL1_P1_046', 'DBTL1_P1_047', 'DBTL1_P1_048',\n",
       "        'DBTL1_P3_048', 'DBTL1_P3_049', 'DBTL1_P3_050', 'DBTL1_P3_051',\n",
       "        'DBTL1_P3_052', 'DBTL1_P3_053', 'DBTL1_P3_054', 'DBTL1_P3_055',\n",
       "        'DBTL1_P3_056', 'DBTL1_P3_057', 'DBTL1_P3_058', 'DBTL1_P3_059',\n",
       "        'DBTL1_P3_060', 'DBTL1_P3_061', 'DBTL1_P3_062', 'DBTL1_P3_063',\n",
       "        'DBTL1_P3_064', 'DBTL1_P3_065', 'DBTL1_P3_066', 'DBTL1_P3_067',\n",
       "        'DBTL1_P3_068', 'DBTL1_P3_069', 'DBTL1_P3_070', 'DBTL1_P3_071',\n",
       "        'DBTL1_P3_072', 'DBTL1_P3_073', 'DBTL1_P3_074', 'DBTL1_P3_075',\n",
       "        'DBTL1_P3_076', 'DBTL1_P3_077', 'DBTL1_P3_078', 'DBTL1_P3_079',\n",
       "        'DBTL1_P3_080', 'DBTL1_P3_081', 'DBTL1_P3_082', 'DBTL1_P3_083',\n",
       "        'DBTL1_P3_084', 'DBTL1_P3_085', 'DBTL1_P3_086', 'DBTL1_P3_087',\n",
       "        'DBTL1_P3_088', 'DBTL1_P3_089', 'DBTL1_P3_090', 'DBTL1_P3_091',\n",
       "        'DBTL1_P3_092', 'DBTL1_P3_093', 'DBTL1_P3_094', 'DBTL1_P3_095',\n",
       "        'DBTL1_P4_001', 'DBTL1_P4_002', 'DBTL1_P4_003', 'DBTL1_P4_004',\n",
       "        'DBTL1_P4_005', 'DBTL1_P4_006', 'DBTL1_P4_007', 'DBTL1_P4_008',\n",
       "        'DBTL1_P4_009', 'DBTL1_P4_010', 'DBTL1_P4_011', 'DBTL1_P4_012',\n",
       "        'DBTL1_P4_013', 'DBTL1_P4_014', 'DBTL1_P4_015', 'DBTL1_P4_016',\n",
       "        'DBTL1_P4_017', 'DBTL1_P4_018', 'DBTL1_P4_019', 'DBTL1_P4_020',\n",
       "        'DBTL1_P4_021', 'DBTL1_P4_022', 'DBTL1_P4_023', 'DBTL1_P4_024',\n",
       "        'DBTL1_P4_025', 'DBTL1_P4_026', 'DBTL1_P4_027', 'DBTL1_P4_028',\n",
       "        'DBTL1_P4_029', 'DBTL1_P4_030', 'DBTL1_P4_031', 'DBTL1_P4_032',\n",
       "        'DBTL1_P4_033', 'DBTL1_P4_034', 'DBTL1_P4_035', 'DBTL1_P4_036',\n",
       "        'DBTL1_P4_037', 'DBTL1_P4_038', 'DBTL1_P4_039', 'DBTL1_P4_040',\n",
       "        'DBTL1_P4_041', 'DBTL1_P4_042', 'DBTL1_P4_043', 'DBTL1_P4_044',\n",
       "        'DBTL1_P4_045', 'DBTL1_P4_046', 'DBTL1_P4_047', 'DBTL1_P4_048'],\n",
       "       dtype=object))"
      ]
     },
     "execution_count": 13,
     "metadata": {},
     "output_type": "execute_result"
    }
   ],
   "source": [
    "line_desc = df2['Line Description'].unique()\n",
    "len(line_desc), line_desc"
   ]
  },
  {
   "cell_type": "code",
   "execution_count": 14,
   "id": "a32f8ba1-f9f1-409b-b502-cb7969a85854",
   "metadata": {
    "tags": []
   },
   "outputs": [
    {
     "data": {
      "text/plain": [
       "(192,\n",
       " array(['PP_0226_PP_0897_PP_5288-R1', 'PP_1319_PP_1457_PP_4192-R1',\n",
       "        'PP_2213_PP_2471_PP_4266-R1', 'PP_3123_PP_4862_PP_5186-R1',\n",
       "        'PP_2137_PP_4116_PP_4187-R1', 'PP_4189_PP_4550_PP_4862-R1',\n",
       "        'PP_0813_PP_1769_PP_4191-R1', 'PP_0368_PP_4191_PP_4192-R1',\n",
       "        'PP_0226_PP_0897_PP_5288-R2', 'PP_1319_PP_1457_PP_4192-R2',\n",
       "        'PP_2213_PP_2471_PP_4266-R2', 'PP_3123_PP_4862_PP_5186-R2',\n",
       "        'PP_2137_PP_4116_PP_4187-R2', 'PP_4189_PP_4550_PP_4862-R2',\n",
       "        'PP_0813_PP_1769_PP_4191-R2', 'PP_0368_PP_4191_PP_4192-R2',\n",
       "        'PP_0226_PP_0897_PP_5288-R3', 'PP_1319_PP_1457_PP_4192-R3',\n",
       "        'PP_2213_PP_2471_PP_4266-R3', 'PP_3123_PP_4862_PP_5186-R3',\n",
       "        'PP_2137_PP_4116_PP_4187-R3', 'PP_4189_PP_4550_PP_4862-R3',\n",
       "        'PP_0813_PP_1769_PP_4191-R3', 'PP_0368_PP_4191_PP_4192-R3',\n",
       "        'PP_0751_PP_1620_PP_4678-R1', 'PP_0813_PP_4549_PP_5288-R1',\n",
       "        'PP_2112_PP_2136_PP_4678-R1', 'PP_0368_PP_0812_PP_0944-R1',\n",
       "        'PP_0999_PP_3578_PP_5186-R1', 'PP_2137_PP_4011_PP_4120-R1',\n",
       "        'PP_0658_PP_1506_PP_3071-R1', 'Control_P1-R1',\n",
       "        'PP_0751_PP_1620_PP_4678-R2', 'PP_0813_PP_4549_PP_5288-R2',\n",
       "        'PP_2112_PP_2136_PP_4678-R2', 'PP_0368_PP_0812_PP_0944-R2',\n",
       "        'PP_0999_PP_3578_PP_5186-R2', 'PP_2137_PP_4011_PP_4120-R2',\n",
       "        'PP_0658_PP_1506_PP_3071-R2', 'Control_P1-R2',\n",
       "        'PP_0751_PP_1620_PP_4678-R3', 'PP_0813_PP_4549_PP_5288-R3',\n",
       "        'PP_2112_PP_2136_PP_4678-R3', 'PP_0368_PP_0812_PP_0944-R3',\n",
       "        'PP_0999_PP_3578_PP_5186-R3', 'PP_2137_PP_4011_PP_4120-R3',\n",
       "        'PP_0658_PP_1506_PP_3071-R3', 'Control_P1-R3',\n",
       "        'PP_2471_PP_3754_PP_4667-R1', 'PP_0437_PP_0528_PP_3578-R1',\n",
       "        'PP_2112_PP_4189_PP_5186-R1', 'PP_0999_PP_4120_PP_4191-R1',\n",
       "        'PP_0226_PP_0597_PP_4678-R1', 'PP_0226_PP_0437_PP_0751-R1',\n",
       "        'PP_0774_PP_1607_PP_3578-R1', 'PP_0597_PP_1769_PP_4862-R1',\n",
       "        'PP_2471_PP_3754_PP_4667-R2', 'PP_0437_PP_0528_PP_3578-R2',\n",
       "        'PP_2112_PP_4189_PP_5186-R2', 'PP_0999_PP_4120_PP_4191-R2',\n",
       "        'PP_0226_PP_0597_PP_4678-R2', 'PP_0226_PP_0437_PP_0751-R2',\n",
       "        'PP_0774_PP_1607_PP_3578-R2', 'PP_0597_PP_1769_PP_4862-R2',\n",
       "        'PP_2471_PP_3754_PP_4667-R3', 'PP_0437_PP_0528_PP_3578-R3',\n",
       "        'PP_2112_PP_4189_PP_5186-R3', 'PP_0999_PP_4120_PP_4191-R3',\n",
       "        'PP_0226_PP_0597_PP_4678-R3', 'PP_0226_PP_0437_PP_0751-R3',\n",
       "        'PP_0774_PP_1607_PP_3578-R3', 'PP_0597_PP_1769_PP_4862-R3',\n",
       "        'PP_0226_PP_2339_PP_3365-R1', 'PP_2112_PP_4188_PP_4862-R1',\n",
       "        'PP_0658_PP_0815_PP_4187-R1', 'PP_0774_PP_2213_PP_5288-R1',\n",
       "        'PP_1444_PP_4189_PP_4191-R1', 'PP_1506_PP_4651_PP_4862-R1',\n",
       "        'PP_0814_PP_4192-R4', 'Control_P2-R1',\n",
       "        'PP_0226_PP_2339_PP_3365-R2', 'PP_2112_PP_4188_PP_4862-R2',\n",
       "        'PP_0658_PP_0815_PP_4187-R2', 'PP_0774_PP_2213_PP_5288-R2',\n",
       "        'PP_1444_PP_4189_PP_4191-R2', 'PP_1506_PP_4651_PP_4862-R2',\n",
       "        'PP_0814_PP_4192-R5', 'Control_P2-R2',\n",
       "        'PP_0226_PP_2339_PP_3365-R3', 'PP_2112_PP_4188_PP_4862-R3',\n",
       "        'PP_0658_PP_0815_PP_4187-R3', 'PP_0774_PP_2213_PP_5288-R3',\n",
       "        'PP_1444_PP_4189_PP_4191-R3', 'PP_1506_PP_4651_PP_4862-R3',\n",
       "        'PP_0814_PP_4192-R6', 'Control_P2-R3', 'PP_0814_PP_5288-R1',\n",
       "        'PP_0774_PP_1769-R1', 'PP_0658_PP_2136-R1', 'PP_3123_PP_5288-R1',\n",
       "        'PP_2339_PP_4186-R1', 'PP_4122_PP_4188-R1', 'PP_0814_PP_3123-R1',\n",
       "        'PP_1607_PP_4550-R1', 'PP_0814_PP_5288-R2', 'PP_0774_PP_1769-R2',\n",
       "        'PP_0658_PP_2136-R2', 'PP_3123_PP_5288-R2', 'PP_2339_PP_4186-R2',\n",
       "        'PP_4122_PP_4188-R2', 'PP_0814_PP_3123-R2', 'PP_1607_PP_4550-R2',\n",
       "        'PP_0814_PP_5288-R3', 'PP_0774_PP_1769-R3', 'PP_0658_PP_2136-R3',\n",
       "        'PP_3123_PP_5288-R3', 'PP_2339_PP_4186-R3', 'PP_4122_PP_4188-R3',\n",
       "        'PP_0814_PP_3123-R3', 'PP_1607_PP_4550-R3', 'PP_0814_PP_1769-R1',\n",
       "        'PP_0368_PP_0597-R1', 'PP_0528_PP_5288-R1', 'PP_0813_PP_4120-R1',\n",
       "        'PP_1620_PP_4116-R1', 'PP_2137_PP_4189-R1', 'PP_0814_PP_4862-R1',\n",
       "        'Control_P3-R1', 'PP_0814_PP_1769-R2', 'PP_0368_PP_0597-R2',\n",
       "        'PP_0528_PP_5288-R2', 'PP_0813_PP_4120-R2', 'PP_1620_PP_4116-R2',\n",
       "        'PP_2137_PP_4189-R2', 'PP_0814_PP_4862-R2', 'Control_P3-R2',\n",
       "        'PP_0814_PP_1769-R3', 'PP_0368_PP_0597-R3', 'PP_0528_PP_5288-R3',\n",
       "        'PP_0813_PP_4120-R3', 'PP_1620_PP_4116-R3', 'PP_2137_PP_4189-R3',\n",
       "        'PP_0814_PP_4862-R3', 'Control_P3-R3', 'PP_2137_PP_4189-R4',\n",
       "        'PP_0814_PP_4862-R4', 'PP_0812_PP_2095-R1', 'PP_0437_PP_4116-R1',\n",
       "        'PP_0815_PP_1317-R1', 'PP_1319_PP_4678-R1', 'PP_3123_PP_4667-R1',\n",
       "        'PP_3365_PP_3754-R1', 'PP_2137_PP_4189-R5', 'PP_0814_PP_4862-R5',\n",
       "        'PP_0812_PP_2095-R2', 'PP_0437_PP_4116-R2', 'PP_0815_PP_1317-R2',\n",
       "        'PP_1319_PP_4678-R2', 'PP_3123_PP_4667-R2', 'PP_3365_PP_3754-R2',\n",
       "        'PP_2137_PP_4189-R6', 'PP_0814_PP_4862-R6', 'PP_0812_PP_2095-R3',\n",
       "        'PP_0437_PP_4116-R3', 'PP_0815_PP_1317-R3', 'PP_1319_PP_4678-R3',\n",
       "        'PP_3123_PP_4667-R3', 'PP_3365_PP_3754-R3', 'PP_3123_PP_3755-R1',\n",
       "        'PP_0813_PP_4189-R1', 'PP_0999_PP_4679-R1', 'PP_0437_PP_3365-R1',\n",
       "        'PP_1319_PP_4121_PP_4667-R1', 'PP_0814_PP_4192-R1',\n",
       "        'PP_0812_PP_4121-R1', 'Control_P4-R1', 'PP_3123_PP_3755-R2',\n",
       "        'PP_0813_PP_4189-R2', 'PP_0999_PP_4679-R2', 'PP_0437_PP_3365-R2',\n",
       "        'PP_1319_PP_4121_PP_4667-R2', 'PP_0814_PP_4192-R2',\n",
       "        'PP_0812_PP_4121-R2', 'Control_P4-R2', 'PP_3123_PP_3755-R3',\n",
       "        'PP_0813_PP_4189-R3', 'PP_0999_PP_4679-R3', 'PP_0437_PP_3365-R3',\n",
       "        'PP_1319_PP_4121_PP_4667-R3', 'PP_0814_PP_4192-R3',\n",
       "        'PP_0812_PP_4121-R3', 'Control_P4-R3'], dtype=object))"
      ]
     },
     "execution_count": 14,
     "metadata": {},
     "output_type": "execute_result"
    }
   ],
   "source": [
    "line_name = df2['Line Name'].unique()\n",
    "len(line_name), line_name"
   ]
  },
  {
   "cell_type": "code",
   "execution_count": 15,
   "id": "a3003d8b-ef55-49c4-bf5e-220723103516",
   "metadata": {
    "tags": []
   },
   "outputs": [
    {
     "data": {
      "text/plain": [
       "array(['cid:12988', 'sp|A9GAJ9|A9GAJ9_SORC5 Mcm', 'sp|O77727', ...,\n",
       "       'sp|Q9FD71|HMGCS_ENTFL', 'sp|Q9NSB2', 'sp|Q9Z408|CSD_PSEPK Csda'],\n",
       "      dtype=object)"
      ]
     },
     "execution_count": 15,
     "metadata": {},
     "output_type": "execute_result"
    }
   ],
   "source": [
    "df2['Formal Type'].unique()"
   ]
  },
  {
   "cell_type": "code",
   "execution_count": 16,
   "id": "c9acae09-4934-42e5-a0f8-b57d8900c3ec",
   "metadata": {
    "tags": []
   },
   "outputs": [
    {
     "data": {
      "text/plain": [
       "array(['GC-FID', 'Global Proteomics'], dtype=object)"
      ]
     },
     "execution_count": 16,
     "metadata": {},
     "output_type": "execute_result"
    }
   ],
   "source": [
    "df2['Protocol'].unique()"
   ]
  },
  {
   "cell_type": "code",
   "execution_count": 17,
   "id": "8b9cbd42-3195-42c7-8812-fc7e4f8e1cbe",
   "metadata": {
    "tags": []
   },
   "outputs": [
    {
     "data": {
      "text/plain": [
       "array(['3-METHYL-3-BUTEN-1-OL'], dtype=object)"
      ]
     },
     "execution_count": 17,
     "metadata": {},
     "output_type": "execute_result"
    }
   ],
   "source": [
    "df2[df2['Protocol']=='GC-FID']['Measurement Type'].unique()"
   ]
  },
  {
   "cell_type": "markdown",
   "id": "e53de3e3-d202-443a-97ef-1fed727026c5",
   "metadata": {
    "tags": []
   },
   "source": [
    "### 2.2 Add strain name to dataframe using prebuilt function."
   ]
  },
  {
   "cell_type": "code",
   "execution_count": 18,
   "id": "5a05f7d1-ca00-4131-9ef1-fca97add6a64",
   "metadata": {
    "tags": []
   },
   "outputs": [
    {
     "name": "stdout",
     "output_type": "stream",
     "text": [
      "(420096, 7)\n"
     ]
    }
   ],
   "source": [
    "df2[\"Strain\"] = create_strain_names(df2)\n",
    "print(df2.shape)"
   ]
  },
  {
   "cell_type": "markdown",
   "id": "e1f97ec8-9c39-49e5-b981-1854328846a9",
   "metadata": {},
   "source": [
    "### 2.3 Bring out Uniprot names"
   ]
  },
  {
   "cell_type": "code",
   "execution_count": 19,
   "id": "74556f01-bd79-4f01-a297-3f8be32cea08",
   "metadata": {
    "tags": []
   },
   "outputs": [
    {
     "name": "stdout",
     "output_type": "stream",
     "text": [
      "test string to extract uniprot: sp|Q9Z408|CSD_PSEPK Csda \n",
      "function output: Q9Z408\n"
     ]
    }
   ],
   "source": [
    "get_Uniprot = lambda x: re.sub('.*\\|(.*)\\|.*', r'\\1', x)\n",
    "get_uniprot_teststring = 'sp|Q9Z408|CSD_PSEPK Csda'\n",
    "print(f'test string to extract uniprot: {get_uniprot_teststring} \\nfunction output: {get_Uniprot(get_uniprot_teststring)}')"
   ]
  },
  {
   "cell_type": "code",
   "execution_count": 20,
   "id": "6a94b204-17c2-4d4a-a63c-288cfc5d47fe",
   "metadata": {
    "tags": []
   },
   "outputs": [
    {
     "data": {
      "text/html": [
       "<div>\n",
       "<style scoped>\n",
       "    .dataframe tbody tr th:only-of-type {\n",
       "        vertical-align: middle;\n",
       "    }\n",
       "\n",
       "    .dataframe tbody tr th {\n",
       "        vertical-align: top;\n",
       "    }\n",
       "\n",
       "    .dataframe thead th {\n",
       "        text-align: right;\n",
       "    }\n",
       "</style>\n",
       "<table border=\"1\" class=\"dataframe\">\n",
       "  <thead>\n",
       "    <tr style=\"text-align: right;\">\n",
       "      <th></th>\n",
       "      <th>Line Name</th>\n",
       "      <th>Line Description</th>\n",
       "      <th>Protocol</th>\n",
       "      <th>Formal Type</th>\n",
       "      <th>Measurement Type</th>\n",
       "      <th>Value</th>\n",
       "      <th>Strain</th>\n",
       "    </tr>\n",
       "  </thead>\n",
       "  <tbody>\n",
       "    <tr>\n",
       "      <th>0</th>\n",
       "      <td>PP_0226_PP_0897_PP_5288-R1</td>\n",
       "      <td>DBTL1_P1_001</td>\n",
       "      <td>GC-FID</td>\n",
       "      <td>cid:12988</td>\n",
       "      <td>3-METHYL-3-BUTEN-1-OL</td>\n",
       "      <td>173.9811</td>\n",
       "      <td>P1</td>\n",
       "    </tr>\n",
       "    <tr>\n",
       "      <th>1</th>\n",
       "      <td>PP_1319_PP_1457_PP_4192-R1</td>\n",
       "      <td>DBTL1_P1_002</td>\n",
       "      <td>GC-FID</td>\n",
       "      <td>cid:12988</td>\n",
       "      <td>3-METHYL-3-BUTEN-1-OL</td>\n",
       "      <td>268.6526</td>\n",
       "      <td>P1</td>\n",
       "    </tr>\n",
       "    <tr>\n",
       "      <th>2</th>\n",
       "      <td>PP_2213_PP_2471_PP_4266-R1</td>\n",
       "      <td>DBTL1_P1_003</td>\n",
       "      <td>GC-FID</td>\n",
       "      <td>cid:12988</td>\n",
       "      <td>3-METHYL-3-BUTEN-1-OL</td>\n",
       "      <td>182.8489</td>\n",
       "      <td>P1</td>\n",
       "    </tr>\n",
       "    <tr>\n",
       "      <th>3</th>\n",
       "      <td>PP_3123_PP_4862_PP_5186-R1</td>\n",
       "      <td>DBTL1_P1_004</td>\n",
       "      <td>GC-FID</td>\n",
       "      <td>cid:12988</td>\n",
       "      <td>3-METHYL-3-BUTEN-1-OL</td>\n",
       "      <td>165.8082</td>\n",
       "      <td>P1</td>\n",
       "    </tr>\n",
       "    <tr>\n",
       "      <th>4</th>\n",
       "      <td>PP_2137_PP_4116_PP_4187-R1</td>\n",
       "      <td>DBTL1_P1_005</td>\n",
       "      <td>GC-FID</td>\n",
       "      <td>cid:12988</td>\n",
       "      <td>3-METHYL-3-BUTEN-1-OL</td>\n",
       "      <td>222.7008</td>\n",
       "      <td>P1</td>\n",
       "    </tr>\n",
       "  </tbody>\n",
       "</table>\n",
       "</div>"
      ],
      "text/plain": [
       "                    Line Name Line Description Protocol Formal Type  \\\n",
       "0  PP_0226_PP_0897_PP_5288-R1     DBTL1_P1_001   GC-FID   cid:12988   \n",
       "1  PP_1319_PP_1457_PP_4192-R1     DBTL1_P1_002   GC-FID   cid:12988   \n",
       "2  PP_2213_PP_2471_PP_4266-R1     DBTL1_P1_003   GC-FID   cid:12988   \n",
       "3  PP_3123_PP_4862_PP_5186-R1     DBTL1_P1_004   GC-FID   cid:12988   \n",
       "4  PP_2137_PP_4116_PP_4187-R1     DBTL1_P1_005   GC-FID   cid:12988   \n",
       "\n",
       "        Measurement Type     Value Strain  \n",
       "0  3-METHYL-3-BUTEN-1-OL  173.9811     P1  \n",
       "1  3-METHYL-3-BUTEN-1-OL  268.6526     P1  \n",
       "2  3-METHYL-3-BUTEN-1-OL  182.8489     P1  \n",
       "3  3-METHYL-3-BUTEN-1-OL  165.8082     P1  \n",
       "4  3-METHYL-3-BUTEN-1-OL  222.7008     P1  "
      ]
     },
     "execution_count": 20,
     "metadata": {},
     "output_type": "execute_result"
    }
   ],
   "source": [
    "df2['Formal Type'] = df2['Formal Type'].apply(get_Uniprot)\n",
    "df2.head()"
   ]
  },
  {
   "cell_type": "code",
   "execution_count": 21,
   "id": "433aa51b-763a-4d36-83df-5b3b8e9f41a4",
   "metadata": {
    "tags": []
   },
   "outputs": [
    {
     "name": "stdout",
     "output_type": "stream",
     "text": [
      "(420096, 7)\n"
     ]
    }
   ],
   "source": [
    "print(df2.shape)"
   ]
  },
  {
   "cell_type": "markdown",
   "id": "4c068c26-5023-4357-ba41-f0b90a1dcf34",
   "metadata": {},
   "source": [
    "### 2.4 Limit protein data to target genes. \n",
    "Since we only need the proteomics data for the target genes, we will only keep that. To figure out the target genes, we need to get the file mapping Uniprot IDs to PPxx names for the target genes:"
   ]
  },
  {
   "cell_type": "code",
   "execution_count": 22,
   "id": "1ec7bb19-8fcf-470d-b2ee-1b570fd48578",
   "metadata": {
    "tags": []
   },
   "outputs": [
    {
     "data": {
      "text/html": [
       "<div>\n",
       "<style scoped>\n",
       "    .dataframe tbody tr th:only-of-type {\n",
       "        vertical-align: middle;\n",
       "    }\n",
       "\n",
       "    .dataframe tbody tr th {\n",
       "        vertical-align: top;\n",
       "    }\n",
       "\n",
       "    .dataframe thead th {\n",
       "        text-align: right;\n",
       "    }\n",
       "</style>\n",
       "<table border=\"1\" class=\"dataframe\">\n",
       "  <thead>\n",
       "    <tr style=\"text-align: right;\">\n",
       "      <th></th>\n",
       "      <th>Sample name</th>\n",
       "      <th>CRISPRi target gene</th>\n",
       "      <th>UNIPROT ID</th>\n",
       "    </tr>\n",
       "  </thead>\n",
       "  <tbody>\n",
       "    <tr>\n",
       "      <th>0</th>\n",
       "      <td>IY1452_pIY1079</td>\n",
       "      <td>PP_1607_NT2</td>\n",
       "      <td>Q88MG4</td>\n",
       "    </tr>\n",
       "    <tr>\n",
       "      <th>1</th>\n",
       "      <td>IY1452_pIY1080</td>\n",
       "      <td>PP_1607_NT3</td>\n",
       "      <td>Q88MG4</td>\n",
       "    </tr>\n",
       "    <tr>\n",
       "      <th>2</th>\n",
       "      <td>IY1452_pIY1081</td>\n",
       "      <td>PP_1607_NT4_R1</td>\n",
       "      <td>Q88MG4</td>\n",
       "    </tr>\n",
       "    <tr>\n",
       "      <th>3</th>\n",
       "      <td>IY1452b_pIY1081</td>\n",
       "      <td>PP_1607_NT4_R2</td>\n",
       "      <td>Q88MG4</td>\n",
       "    </tr>\n",
       "    <tr>\n",
       "      <th>4</th>\n",
       "      <td>IY1452c_pIY1081</td>\n",
       "      <td>PP_1607_NT4_R3</td>\n",
       "      <td>Q88MG4</td>\n",
       "    </tr>\n",
       "  </tbody>\n",
       "</table>\n",
       "</div>"
      ],
      "text/plain": [
       "       Sample name CRISPRi target gene UNIPROT ID\n",
       "0   IY1452_pIY1079         PP_1607_NT2     Q88MG4\n",
       "1   IY1452_pIY1080         PP_1607_NT3     Q88MG4\n",
       "2   IY1452_pIY1081      PP_1607_NT4_R1     Q88MG4\n",
       "3  IY1452b_pIY1081      PP_1607_NT4_R2     Q88MG4\n",
       "4  IY1452c_pIY1081      PP_1607_NT4_R3     Q88MG4"
      ]
     },
     "execution_count": 22,
     "metadata": {},
     "output_type": "execute_result"
    }
   ],
   "source": [
    "ProtMapping_df = pd.read_excel(user_params['protein_map'])\n",
    "ProtMapping_df.head()"
   ]
  },
  {
   "cell_type": "markdown",
   "id": "26d43d53-64b4-43e5-81b5-6ee3dd04fa57",
   "metadata": {},
   "source": [
    "We will limit CRISPRi target gene name to standard names (e.g. we will convert 'PP_1607_NT2' to 'PP_1607')"
   ]
  },
  {
   "cell_type": "code",
   "execution_count": 23,
   "id": "77118168-c981-4868-a408-ef221ce2a047",
   "metadata": {
    "tags": []
   },
   "outputs": [],
   "source": [
    "ProtMapping_df[\"CRISPRi target gene\"] = ProtMapping_df[\"CRISPRi target gene\"].apply(lambda x: x[0:7])"
   ]
  },
  {
   "cell_type": "markdown",
   "id": "3b183743-3b4f-4300-84fb-94ecbb77a971",
   "metadata": {},
   "source": [
    "#### 2.4.1 Protein-gene mapping sanity check\n",
    "Need to check: is there a 1 to 1 correspondence between target genes and uniprot IDs?\n",
    "\n",
    "There should be several targets and genes that have multiple entries due to trying multiple guide RNAs/constructs, but the number of duplicate target genes and duplicate UNIPROT IDs should match and have the same number of duplicates. Note also that according to uniprot, UPID Q877U6 is associated with genes PP1157 and PP3365. https://www.uniprot.org/uniprotkb/Q877U6/entry"
   ]
  },
  {
   "cell_type": "code",
   "execution_count": 24,
   "id": "fa9ba5a6-42bb-4fdf-9724-89d97635e19c",
   "metadata": {
    "tags": []
   },
   "outputs": [
    {
     "name": "stdout",
     "output_type": "stream",
     "text": [
      "In the Protein Mapping spreadsheet, there are 123 unique target genes and 122 unique uniprot IDs\n",
      "These targets show up multiple times in the uniprot list:\n",
      "CRISPRi target gene\n",
      "PP_1607    10\n",
      "PP_0528     3\n",
      "PP_0548     3\n",
      "PP_4679     3\n",
      "PP_4194     2\n",
      "Name: count, dtype: int64\n",
      "These Uniprot IDs show up multiple times in the target list\n",
      "UNIPROT ID\n",
      "Q88MG4    10\n",
      "Q88DY9     3\n",
      "Q88QG6     3\n",
      "Q88QE6     3\n",
      "Q88FA4     2\n",
      "Q877U6     2\n",
      "Name: count, dtype: int64\n"
     ]
    }
   ],
   "source": [
    "number_crispr_target_genes = len(ProtMapping_df[\"CRISPRi target gene\"].unique())\n",
    "number_uniprot_id = len(ProtMapping_df[\"UNIPROT ID\"].unique())\n",
    "target_value_counts = ProtMapping_df[\"CRISPRi target gene\"].value_counts()\n",
    "upid_value_counts = ProtMapping_df['UNIPROT ID'].value_counts()\n",
    "\n",
    "print(f'In the Protein Mapping spreadsheet, there are {number_crispr_target_genes} unique target genes and {number_uniprot_id} unique uniprot IDs')\n",
    "print('These targets show up multiple times in the uniprot list:')\n",
    "print(target_value_counts[target_value_counts>1])\n",
    "print('These Uniprot IDs show up multiple times in the target list')\n",
    "print(upid_value_counts[upid_value_counts>1])\n"
   ]
  },
  {
   "cell_type": "markdown",
   "id": "da2f55ab-cfaf-492d-96ef-a52a467d7cbb",
   "metadata": {},
   "source": [
    "### 2.5 Drop non-target proteins"
   ]
  },
  {
   "cell_type": "markdown",
   "id": "88862384-e7bf-4dfe-a687-893d52f0a5af",
   "metadata": {},
   "source": [
    "Add dCas9 to the Protein mapping dataframe"
   ]
  },
  {
   "cell_type": "code",
   "execution_count": 25,
   "id": "ae6d5827-3875-46aa-943c-6aad90760f99",
   "metadata": {
    "tags": []
   },
   "outputs": [],
   "source": [
    "ProtMapping_df.loc[len(ProtMapping_df), ['CRISPRi target gene', 'UNIPROT ID']] = 'dCas9', 'Q99ZW2'"
   ]
  },
  {
   "cell_type": "markdown",
   "id": "ff83d58c-17b7-4862-abba-39d5066bc302",
   "metadata": {},
   "source": [
    "Make list of proteins"
   ]
  },
  {
   "cell_type": "code",
   "execution_count": 26,
   "id": "52aac044-7a2d-4ec1-aeb2-77685e6da0df",
   "metadata": {
    "tags": []
   },
   "outputs": [],
   "source": [
    "targets_in_mapping = ProtMapping_df['UNIPROT ID'].unique().tolist()"
   ]
  },
  {
   "cell_type": "markdown",
   "id": "58219093-c47c-41c1-b458-bea7fa09d74a",
   "metadata": {},
   "source": [
    "We want to keep dCas9, so add it ot the list."
   ]
  },
  {
   "cell_type": "code",
   "execution_count": 27,
   "id": "0f274e62-222f-45b1-8dfb-717bf5f0c31e",
   "metadata": {
    "tags": []
   },
   "outputs": [
    {
     "name": "stdout",
     "output_type": "stream",
     "text": [
      "(19392, 7)\n"
     ]
    }
   ],
   "source": [
    "targets_in_mapping = ProtMapping_df['UNIPROT ID'].unique().tolist()\n",
    "df2 = df2.drop(\n",
    "                    index=df2[(~df2['Formal Type'].isin(targets_in_mapping)) &\n",
    "                                  (df2['Protocol']=='Global Proteomics')].index)\n",
    "print(df2.shape)"
   ]
  },
  {
   "cell_type": "code",
   "execution_count": 28,
   "id": "e4a72fa4-41ee-4aa6-9493-37e01b010b56",
   "metadata": {
    "tags": []
   },
   "outputs": [
    {
     "data": {
      "text/plain": [
       "123"
      ]
     },
     "execution_count": 28,
     "metadata": {},
     "output_type": "execute_result"
    }
   ],
   "source": [
    "len(targets_in_mapping)"
   ]
  },
  {
   "cell_type": "markdown",
   "id": "11fa3e36-4071-41b7-b1b6-1bed0cd13f75",
   "metadata": {},
   "source": [
    "### 2.6 Change names from Uniprot to PP_ names\n",
    "Create a protein mapping dictionary that translates from Uniprot to PP names:"
   ]
  },
  {
   "cell_type": "code",
   "execution_count": 29,
   "id": "b373aeaa-260d-4463-8c99-ee99ac316fc7",
   "metadata": {
    "tags": []
   },
   "outputs": [],
   "source": [
    "uniprot_to_pp = {}\n",
    "for index in ProtMapping_df.index:\n",
    "    uniprot_to_pp[ProtMapping_df.loc[index,\"UNIPROT ID\"]] = ProtMapping_df.loc[index,\"CRISPRi target gene\"]"
   ]
  },
  {
   "cell_type": "markdown",
   "id": "411384a8-4e3f-4519-bb5e-490d5fdaf516",
   "metadata": {},
   "source": [
    "Do the translation:"
   ]
  },
  {
   "cell_type": "code",
   "execution_count": 30,
   "id": "3caa8cc4-5ecb-417b-b7e5-243d43a285dc",
   "metadata": {
    "tags": []
   },
   "outputs": [],
   "source": [
    "proteomics_ind = df2['Protocol']=='Global Proteomics'\n",
    "df2.loc[proteomics_ind,'Formal Type'] = df2.loc[proteomics_ind,'Formal Type'].apply(lambda x: uniprot_to_pp[x])"
   ]
  },
  {
   "cell_type": "markdown",
   "id": "b6dc26db-8c7e-40d8-8341-d695aa0115a2",
   "metadata": {},
   "source": [
    "### 2.7 Add correct control value to each row in dataframe"
   ]
  },
  {
   "cell_type": "code",
   "execution_count": 31,
   "id": "af567c92-a184-4886-bde1-a76195ecf0c7",
   "metadata": {},
   "outputs": [],
   "source": [
    "find_control   = lambda x: True if 'ontrol' in x else False \n",
    "df2['Control'] =  df2['Line Name'].apply(find_control).astype(bool)"
   ]
  },
  {
   "cell_type": "code",
   "execution_count": 32,
   "id": "8dc0c2ea-226b-429a-8890-e78b1516e5fe",
   "metadata": {
    "tags": []
   },
   "outputs": [
    {
     "data": {
      "text/plain": [
       "2354989.0900000003"
      ]
     },
     "execution_count": 32,
     "metadata": {},
     "output_type": "execute_result"
    }
   ],
   "source": [
    "control_mean_df = df2[df2['Control']]\n",
    "control_mean_df = control_mean_df[['Formal Type', 'Value']].groupby('Formal Type').mean()\n",
    "control_mean_df.loc['PP_0001', 'Value']"
   ]
  },
  {
   "cell_type": "code",
   "execution_count": 33,
   "id": "f2ef9224-b54a-438f-8358-0fb6b00ab791",
   "metadata": {
    "tags": []
   },
   "outputs": [],
   "source": [
    "add_control_value = lambda x: control_mean_df.loc[x, 'Value']\n",
    "df2['control_value'] = df2['Formal Type'].apply(add_control_value)\n",
    "df2['norm_value'] = df2['Value']/df2['control_value']"
   ]
  },
  {
   "cell_type": "markdown",
   "id": "22c3d63a-0590-4741-86a9-ebce640fd3df",
   "metadata": {},
   "source": [
    "## 3. Format data to look at dCas9 and target expression vs controls\n",
    "\n",
    "- Create a dataframe `df_target` where each row is a different line\n",
    "- From proteomics, get dCas9 levels and target levels for each target in that line\n",
    "- Get correct control measurements\n",
    "- Calculate dCas9 and target levels relative to control. "
   ]
  },
  {
   "cell_type": "markdown",
   "id": "922283e1-5564-4610-8fc8-356ba75f0b70",
   "metadata": {},
   "source": [
    "### 3.1 Make a new dataframe for each strain to add target and control expression\n",
    "Dataframe will have proteomics measurements for dCas9 and target proteins only."
   ]
  },
  {
   "cell_type": "code",
   "execution_count": 34,
   "id": "fe5f0bb4-47f1-4d03-a250-50d6d2333308",
   "metadata": {
    "tags": []
   },
   "outputs": [],
   "source": [
    "df_target = pd.DataFrame(data = df2['Line Name'].unique(), columns = ['Line Name'])"
   ]
  },
  {
   "cell_type": "code",
   "execution_count": 35,
   "id": "87702778-d096-426a-9b46-bdddf449067e",
   "metadata": {
    "tags": []
   },
   "outputs": [
    {
     "data": {
      "text/html": [
       "<div>\n",
       "<style scoped>\n",
       "    .dataframe tbody tr th:only-of-type {\n",
       "        vertical-align: middle;\n",
       "    }\n",
       "\n",
       "    .dataframe tbody tr th {\n",
       "        vertical-align: top;\n",
       "    }\n",
       "\n",
       "    .dataframe thead th {\n",
       "        text-align: right;\n",
       "    }\n",
       "</style>\n",
       "<table border=\"1\" class=\"dataframe\">\n",
       "  <thead>\n",
       "    <tr style=\"text-align: right;\">\n",
       "      <th></th>\n",
       "      <th>Line Name</th>\n",
       "    </tr>\n",
       "  </thead>\n",
       "  <tbody>\n",
       "    <tr>\n",
       "      <th>0</th>\n",
       "      <td>PP_0226_PP_0897_PP_5288-R1</td>\n",
       "    </tr>\n",
       "    <tr>\n",
       "      <th>1</th>\n",
       "      <td>PP_1319_PP_1457_PP_4192-R1</td>\n",
       "    </tr>\n",
       "    <tr>\n",
       "      <th>2</th>\n",
       "      <td>PP_2213_PP_2471_PP_4266-R1</td>\n",
       "    </tr>\n",
       "    <tr>\n",
       "      <th>3</th>\n",
       "      <td>PP_3123_PP_4862_PP_5186-R1</td>\n",
       "    </tr>\n",
       "    <tr>\n",
       "      <th>4</th>\n",
       "      <td>PP_2137_PP_4116_PP_4187-R1</td>\n",
       "    </tr>\n",
       "    <tr>\n",
       "      <th>...</th>\n",
       "      <td>...</td>\n",
       "    </tr>\n",
       "    <tr>\n",
       "      <th>187</th>\n",
       "      <td>PP_0437_PP_3365-R3</td>\n",
       "    </tr>\n",
       "    <tr>\n",
       "      <th>188</th>\n",
       "      <td>PP_1319_PP_4121_PP_4667-R3</td>\n",
       "    </tr>\n",
       "    <tr>\n",
       "      <th>189</th>\n",
       "      <td>PP_0814_PP_4192-R3</td>\n",
       "    </tr>\n",
       "    <tr>\n",
       "      <th>190</th>\n",
       "      <td>PP_0812_PP_4121-R3</td>\n",
       "    </tr>\n",
       "    <tr>\n",
       "      <th>191</th>\n",
       "      <td>Control_P4-R3</td>\n",
       "    </tr>\n",
       "  </tbody>\n",
       "</table>\n",
       "<p>192 rows × 1 columns</p>\n",
       "</div>"
      ],
      "text/plain": [
       "                      Line Name\n",
       "0    PP_0226_PP_0897_PP_5288-R1\n",
       "1    PP_1319_PP_1457_PP_4192-R1\n",
       "2    PP_2213_PP_2471_PP_4266-R1\n",
       "3    PP_3123_PP_4862_PP_5186-R1\n",
       "4    PP_2137_PP_4116_PP_4187-R1\n",
       "..                          ...\n",
       "187          PP_0437_PP_3365-R3\n",
       "188  PP_1319_PP_4121_PP_4667-R3\n",
       "189          PP_0814_PP_4192-R3\n",
       "190          PP_0812_PP_4121-R3\n",
       "191               Control_P4-R3\n",
       "\n",
       "[192 rows x 1 columns]"
      ]
     },
     "execution_count": 35,
     "metadata": {},
     "output_type": "execute_result"
    }
   ],
   "source": [
    "df_target"
   ]
  },
  {
   "cell_type": "markdown",
   "id": "3e76af5f-382a-442e-a05d-2f7a7fd4bb30",
   "metadata": {},
   "source": [
    "Format `df_target` to contain replicate and control information and the line name without replicate information."
   ]
  },
  {
   "cell_type": "code",
   "execution_count": 36,
   "id": "4b88ccbd-fd3d-419d-b906-4d0276286325",
   "metadata": {
    "tags": []
   },
   "outputs": [],
   "source": [
    "df_target = pd.DataFrame(data = df2['Line Name'].unique(), columns = ['Line Name'])\n",
    "df_target['rep'] = df_target['Line Name'].apply(lambda x: int(x[-1]))\n",
    "df_target['is_control'] = df_target['Line Name'].apply(find_control).astype(bool)"
   ]
  },
  {
   "cell_type": "markdown",
   "id": "492c21bc-0678-4150-8f0d-1ea302065a9f",
   "metadata": {},
   "source": [
    "Replace all `line_name_norep` with 'Control' for controls, drop replicate information from non-control lines."
   ]
  },
  {
   "cell_type": "code",
   "execution_count": 37,
   "id": "7ea42ba0-7d39-41a5-9de6-c10386a7605d",
   "metadata": {},
   "outputs": [
    {
     "data": {
      "text/html": [
       "<div>\n",
       "<style scoped>\n",
       "    .dataframe tbody tr th:only-of-type {\n",
       "        vertical-align: middle;\n",
       "    }\n",
       "\n",
       "    .dataframe tbody tr th {\n",
       "        vertical-align: top;\n",
       "    }\n",
       "\n",
       "    .dataframe thead th {\n",
       "        text-align: right;\n",
       "    }\n",
       "</style>\n",
       "<table border=\"1\" class=\"dataframe\">\n",
       "  <thead>\n",
       "    <tr style=\"text-align: right;\">\n",
       "      <th></th>\n",
       "      <th>Line Name</th>\n",
       "      <th>rep</th>\n",
       "      <th>is_control</th>\n",
       "      <th>line_name_norep</th>\n",
       "    </tr>\n",
       "  </thead>\n",
       "  <tbody>\n",
       "    <tr>\n",
       "      <th>0</th>\n",
       "      <td>PP_0226_PP_0897_PP_5288-R1</td>\n",
       "      <td>1</td>\n",
       "      <td>False</td>\n",
       "      <td>PP_0226_PP_0897_PP_5288</td>\n",
       "    </tr>\n",
       "    <tr>\n",
       "      <th>1</th>\n",
       "      <td>PP_1319_PP_1457_PP_4192-R1</td>\n",
       "      <td>1</td>\n",
       "      <td>False</td>\n",
       "      <td>PP_1319_PP_1457_PP_4192</td>\n",
       "    </tr>\n",
       "    <tr>\n",
       "      <th>2</th>\n",
       "      <td>PP_2213_PP_2471_PP_4266-R1</td>\n",
       "      <td>1</td>\n",
       "      <td>False</td>\n",
       "      <td>PP_2213_PP_2471_PP_4266</td>\n",
       "    </tr>\n",
       "    <tr>\n",
       "      <th>3</th>\n",
       "      <td>PP_3123_PP_4862_PP_5186-R1</td>\n",
       "      <td>1</td>\n",
       "      <td>False</td>\n",
       "      <td>PP_3123_PP_4862_PP_5186</td>\n",
       "    </tr>\n",
       "    <tr>\n",
       "      <th>4</th>\n",
       "      <td>PP_2137_PP_4116_PP_4187-R1</td>\n",
       "      <td>1</td>\n",
       "      <td>False</td>\n",
       "      <td>PP_2137_PP_4116_PP_4187</td>\n",
       "    </tr>\n",
       "    <tr>\n",
       "      <th>...</th>\n",
       "      <td>...</td>\n",
       "      <td>...</td>\n",
       "      <td>...</td>\n",
       "      <td>...</td>\n",
       "    </tr>\n",
       "    <tr>\n",
       "      <th>187</th>\n",
       "      <td>PP_0437_PP_3365-R3</td>\n",
       "      <td>3</td>\n",
       "      <td>False</td>\n",
       "      <td>PP_0437_PP_3365</td>\n",
       "    </tr>\n",
       "    <tr>\n",
       "      <th>188</th>\n",
       "      <td>PP_1319_PP_4121_PP_4667-R3</td>\n",
       "      <td>3</td>\n",
       "      <td>False</td>\n",
       "      <td>PP_1319_PP_4121_PP_4667</td>\n",
       "    </tr>\n",
       "    <tr>\n",
       "      <th>189</th>\n",
       "      <td>PP_0814_PP_4192-R3</td>\n",
       "      <td>3</td>\n",
       "      <td>False</td>\n",
       "      <td>PP_0814_PP_4192</td>\n",
       "    </tr>\n",
       "    <tr>\n",
       "      <th>190</th>\n",
       "      <td>PP_0812_PP_4121-R3</td>\n",
       "      <td>3</td>\n",
       "      <td>False</td>\n",
       "      <td>PP_0812_PP_4121</td>\n",
       "    </tr>\n",
       "    <tr>\n",
       "      <th>191</th>\n",
       "      <td>Control_P4-R3</td>\n",
       "      <td>3</td>\n",
       "      <td>True</td>\n",
       "      <td>Control</td>\n",
       "    </tr>\n",
       "  </tbody>\n",
       "</table>\n",
       "<p>192 rows × 4 columns</p>\n",
       "</div>"
      ],
      "text/plain": [
       "                      Line Name  rep  is_control          line_name_norep\n",
       "0    PP_0226_PP_0897_PP_5288-R1    1       False  PP_0226_PP_0897_PP_5288\n",
       "1    PP_1319_PP_1457_PP_4192-R1    1       False  PP_1319_PP_1457_PP_4192\n",
       "2    PP_2213_PP_2471_PP_4266-R1    1       False  PP_2213_PP_2471_PP_4266\n",
       "3    PP_3123_PP_4862_PP_5186-R1    1       False  PP_3123_PP_4862_PP_5186\n",
       "4    PP_2137_PP_4116_PP_4187-R1    1       False  PP_2137_PP_4116_PP_4187\n",
       "..                          ...  ...         ...                      ...\n",
       "187          PP_0437_PP_3365-R3    3       False          PP_0437_PP_3365\n",
       "188  PP_1319_PP_4121_PP_4667-R3    3       False  PP_1319_PP_4121_PP_4667\n",
       "189          PP_0814_PP_4192-R3    3       False          PP_0814_PP_4192\n",
       "190          PP_0812_PP_4121-R3    3       False          PP_0812_PP_4121\n",
       "191               Control_P4-R3    3        True                  Control\n",
       "\n",
       "[192 rows x 4 columns]"
      ]
     },
     "execution_count": 37,
     "metadata": {},
     "output_type": "execute_result"
    }
   ],
   "source": [
    "df_target.loc[df_target['is_control'], 'line_name_norep'] = 'Control'\n",
    "df_target.loc[~df_target['is_control'] , 'line_name_norep'] = df_target.loc[~df_target['is_control'] , 'Line Name'].apply(lambda x: x[:-3])\n",
    "df_target"
   ]
  },
  {
   "cell_type": "markdown",
   "id": "97cbeb14-18d8-43aa-a7cd-2a3784691699",
   "metadata": {},
   "source": [
    "Add number of gRNA to dataframe"
   ]
  },
  {
   "cell_type": "code",
   "execution_count": 38,
   "id": "900e4543-e4cc-4b08-958f-ad7e5bfcfe79",
   "metadata": {
    "tags": []
   },
   "outputs": [],
   "source": [
    "count_grna = lambda x: x.count('PP_')\n",
    "df_target['number_of_grna'] = df2['Line Name'].apply(count_grna)"
   ]
  },
  {
   "cell_type": "markdown",
   "id": "4d14b382-cb89-4ae0-af1f-2bc4af0c6e25",
   "metadata": {},
   "source": [
    "Define function to get specific fields from the full edd dataframe `df2` based on Line Names, check to see for missing or multiple values. "
   ]
  },
  {
   "cell_type": "code",
   "execution_count": 39,
   "id": "677ab5ce-9c82-4710-9c94-dce9da5029ab",
   "metadata": {
    "tags": []
   },
   "outputs": [],
   "source": [
    "def get_edd_value_by_linename(x, df_edd, df_edd_field, df_edd_value):\n",
    "    \"\"\"\n",
    "    Return value from EDD-formatted dataframe for a specific line name (x['Line Name']) and a specific other field/value combination (df_edd_field/df_edd_value).\n",
    "    x: dataframe\n",
    "    df_edd: EDD formatted dataframe\n",
    "    df_edd_field: field within df_edd to filter values\n",
    "    df_edd_value: entry in df_edd[df_edd_field]\n",
    "    \n",
    "    Function also provides checks for length of 'value'\n",
    "    \"\"\"\n",
    "    index = (df_edd['Line Name'] == x['Line Name']) & (df_edd[df_edd_field] == df_edd_value)\n",
    "    value = df_edd.loc[index, 'Value'].values\n",
    "    if len(value) == 1:\n",
    "        return value[0]\n",
    "    elif len(value) == 0:\n",
    "        print(f\"Line Name: {x['Line Name']}\\t field: {df_edd_field}\\t value: {df_edd_value} has missing value\")\n",
    "        return None\n",
    "    else:\n",
    "        return value\n",
    "        print(f\"Line Name: {x['Line Name']}\\t field: {df_edd_field}\\t value: {df_edd_value} has >1 values\")"
   ]
  },
  {
   "cell_type": "markdown",
   "id": "02b6e9ff-9e72-4976-a39a-68fded2a8613",
   "metadata": {},
   "source": [
    "Fill in isoprenol, dCas9, and normalized dCas9 columns"
   ]
  },
  {
   "cell_type": "code",
   "execution_count": 40,
   "id": "7deff49d-fff5-4428-9fc2-35315983cb0f",
   "metadata": {
    "tags": []
   },
   "outputs": [],
   "source": [
    "df_target['isoprenol'] =df_target.apply(lambda x: get_edd_value_by_linename(x, df2, 'Formal Type', 'cid:12988'), axis = 1)"
   ]
  },
  {
   "cell_type": "code",
   "execution_count": 41,
   "id": "5d1f8166-5bb4-4556-9d07-c64e3074e37a",
   "metadata": {
    "tags": []
   },
   "outputs": [],
   "source": [
    "df_target['dCas9'] = df_target.apply(lambda x: get_edd_value_by_linename(x, df2, 'Formal Type', 'dCas9'), axis = 1)\n",
    "df_target['dCas9_normtocontrol'] = df_target['dCas9']/np.mean(df_target.loc[df_target['is_control'], 'dCas9'])"
   ]
  },
  {
   "cell_type": "markdown",
   "id": "b5318d8c-b011-491a-ba76-71841a05c87f",
   "metadata": {},
   "source": [
    "Define function to parse gene lists using regex or return None if there isn't a gene at that position. "
   ]
  },
  {
   "cell_type": "code",
   "execution_count": 42,
   "id": "99cbbd72-70de-466c-9366-15d2b3ffde1d",
   "metadata": {
    "tags": []
   },
   "outputs": [],
   "source": [
    "def find_nth_gene_target(line_name, n):\n",
    "    \"\"\"\n",
    "    line_name: a line name from a dataframe\n",
    "    n: the n-th target gene to look for in the line name\n",
    "    \"\"\"\n",
    "    gene_target_list = re.findall('PP_[0-9]{4}', line_name)\n",
    "    #If target list is too short or empty, return None\n",
    "    if n>=len(gene_target_list) or len(gene_target_list) == 0:\n",
    "        return None\n",
    "    else:\n",
    "        return(gene_target_list[n])"
   ]
  },
  {
   "cell_type": "markdown",
   "id": "ccdbb55e-ab7b-447b-9bb6-a5f715b96883",
   "metadata": {},
   "source": [
    "Fill in target columns - function will return None for 'target_3' for 2-gRNA lines."
   ]
  },
  {
   "cell_type": "code",
   "execution_count": 43,
   "id": "aa7507e7-119a-4c99-91b2-525f0f11d72c",
   "metadata": {
    "tags": []
   },
   "outputs": [],
   "source": [
    "df_target['target_1'] = df_target['Line Name'].apply(lambda x: find_nth_gene_target(x, 0))\n",
    "df_target['target_2'] = df_target['Line Name'].apply(lambda x: find_nth_gene_target(x, 1))\n",
    "df_target['target_3'] = df_target['Line Name'].apply(lambda x: find_nth_gene_target(x, 2))"
   ]
  },
  {
   "cell_type": "markdown",
   "id": "9cb2a8be-2ce3-4c59-ada6-1f06a2c61489",
   "metadata": {},
   "source": [
    "Get list of unique targets and check to see that they're in control"
   ]
  },
  {
   "cell_type": "code",
   "execution_count": 44,
   "id": "6cc7d9e5-6202-4d50-961a-edb20900215d",
   "metadata": {
    "tags": []
   },
   "outputs": [
    {
     "data": {
      "text/plain": [
       "array(['PP_0226', 'PP_0368', 'PP_0437', 'PP_0528', 'PP_0597', 'PP_0658',\n",
       "       'PP_0751', 'PP_0774', 'PP_0812', 'PP_0813', 'PP_0814', 'PP_0815',\n",
       "       'PP_0897', 'PP_0944', 'PP_0999', 'PP_1317', 'PP_1319', 'PP_1444',\n",
       "       'PP_1457', 'PP_1506', 'PP_1607', 'PP_1620', 'PP_1769', 'PP_2095',\n",
       "       'PP_2112', 'PP_2136', 'PP_2137', 'PP_2213', 'PP_2339', 'PP_2471',\n",
       "       'PP_3071', 'PP_3123', 'PP_3365', 'PP_3578', 'PP_3754', 'PP_3755',\n",
       "       'PP_4011', 'PP_4116', 'PP_4120', 'PP_4121', 'PP_4122', 'PP_4186',\n",
       "       'PP_4187', 'PP_4188', 'PP_4189', 'PP_4191', 'PP_4192', 'PP_4266',\n",
       "       'PP_4549', 'PP_4550', 'PP_4651', 'PP_4667', 'PP_4678', 'PP_4679',\n",
       "       'PP_4862', 'PP_5186', 'PP_5288'], dtype=object)"
      ]
     },
     "execution_count": 44,
     "metadata": {},
     "output_type": "execute_result"
    }
   ],
   "source": [
    "all_targets = np.concatenate(df_target[['target_1', 'target_2', 'target_3']].values)\n",
    "all_unique_targets = np.unique(all_targets[all_targets != None])\n",
    "all_unique_targets"
   ]
  },
  {
   "cell_type": "code",
   "execution_count": 45,
   "id": "87d88262-65a3-4bcf-8940-df84d00c4189",
   "metadata": {
    "tags": []
   },
   "outputs": [],
   "source": [
    "all_control_measurements = df2.loc[df2['Control'], 'Formal Type'].unique()"
   ]
  },
  {
   "cell_type": "code",
   "execution_count": 46,
   "id": "6c1b5659-37f3-4c56-90ad-b1f67e65e2e2",
   "metadata": {
    "tags": []
   },
   "outputs": [
    {
     "data": {
      "text/plain": [
       "array(['cid:12988', 'PP_2471', 'PP_1506', 'PP_0001', 'PP_3365', 'PP_5419',\n",
       "       'PP_5417', 'PP_5416', 'PP_5335', 'PP_5288', 'PP_5203', 'PP_5186',\n",
       "       'PP_5128', 'PP_5064', 'PP_4894', 'PP_4862', 'PP_4702', 'PP_4679',\n",
       "       'PP_4678', 'PP_4667', 'PP_4651', 'PP_4650', 'PP_4636', 'PP_4635',\n",
       "       'PP_4549', 'PP_4487', 'PP_4266', 'PP_4194', 'PP_4193', 'PP_4192',\n",
       "       'PP_4191', 'PP_4190', 'PP_4189', 'PP_4188', 'PP_4187', 'PP_4186',\n",
       "       'PP_4185', 'PP_4175', 'PP_4174', 'PP_4130', 'PP_4129', 'PP_4128',\n",
       "       'PP_4123', 'PP_4122', 'PP_4121', 'PP_4120', 'PP_4119', 'PP_4116',\n",
       "       'PP_4012', 'PP_4011', 'PP_3755', 'PP_3754', 'PP_3578', 'PP_3123',\n",
       "       'PP_3122', 'PP_3071', 'PP_2925', 'PP_2339', 'PP_2137', 'PP_2136',\n",
       "       'PP_2112', 'PP_2095', 'PP_1777', 'PP_1770', 'PP_1769', 'PP_1755',\n",
       "       'PP_1664', 'PP_1620', 'PP_1610', 'PP_1607', 'PP_1457', 'PP_1444',\n",
       "       'PP_1319', 'PP_1318', 'PP_1317', 'PP_1251', 'PP_1240', 'PP_1031',\n",
       "       'PP_1023', 'PP_0999', 'PP_0944', 'PP_0897', 'PP_0814', 'PP_0813',\n",
       "       'PP_0812', 'PP_0774', 'PP_0751', 'PP_0691', 'PP_0658', 'PP_0654',\n",
       "       'PP_0597', 'PP_0582', 'PP_0548', 'PP_0528', 'PP_0437', 'PP_0368',\n",
       "       'PP_0338', 'PP_0226', 'PP_0168', 'PP_0103', 'dCas9'], dtype=object)"
      ]
     },
     "execution_count": 46,
     "metadata": {},
     "output_type": "execute_result"
    }
   ],
   "source": [
    "all_control_measurements"
   ]
  },
  {
   "cell_type": "code",
   "execution_count": 47,
   "id": "603b4b49-7a61-4426-af6d-79cc2c1af648",
   "metadata": {
    "tags": []
   },
   "outputs": [
    {
     "data": {
      "text/plain": [
       "['PP_0815', 'PP_2213', 'PP_4550']"
      ]
     },
     "execution_count": 47,
     "metadata": {},
     "output_type": "execute_result"
    }
   ],
   "source": [
    "targets_missing_from_control = [target for target in all_unique_targets if target not in all_control_measurements]\n",
    "targets_missing_from_control"
   ]
  },
  {
   "cell_type": "markdown",
   "id": "ecac545a-d803-4771-b4e4-c7ea4f1de596",
   "metadata": {},
   "source": [
    "Use target identity to add target value to dataframe"
   ]
  },
  {
   "cell_type": "code",
   "execution_count": 48,
   "id": "b501d626-bea8-411f-b3a0-596402472230",
   "metadata": {
    "tags": []
   },
   "outputs": [
    {
     "name": "stdout",
     "output_type": "stream",
     "text": [
      "~~~~~~~~target 1~~~~~~~~\n",
      "Line Name: PP_2213_PP_2471_PP_4266-R1\t field: Formal Type\t value: PP_2213 has missing value\n",
      "Line Name: PP_2213_PP_2471_PP_4266-R2\t field: Formal Type\t value: PP_2213 has missing value\n",
      "Line Name: PP_2213_PP_2471_PP_4266-R3\t field: Formal Type\t value: PP_2213 has missing value\n",
      "Line Name: Control_P1-R1\t field: Formal Type\t value: None has missing value\n",
      "Line Name: Control_P1-R2\t field: Formal Type\t value: None has missing value\n",
      "Line Name: Control_P1-R3\t field: Formal Type\t value: None has missing value\n",
      "Line Name: Control_P2-R1\t field: Formal Type\t value: None has missing value\n",
      "Line Name: Control_P2-R2\t field: Formal Type\t value: None has missing value\n",
      "Line Name: Control_P2-R3\t field: Formal Type\t value: None has missing value\n",
      "Line Name: Control_P3-R1\t field: Formal Type\t value: None has missing value\n",
      "Line Name: Control_P3-R2\t field: Formal Type\t value: None has missing value\n",
      "Line Name: Control_P3-R3\t field: Formal Type\t value: None has missing value\n",
      "Line Name: PP_0815_PP_1317-R1\t field: Formal Type\t value: PP_0815 has missing value\n",
      "Line Name: PP_0815_PP_1317-R2\t field: Formal Type\t value: PP_0815 has missing value\n",
      "Line Name: PP_0815_PP_1317-R3\t field: Formal Type\t value: PP_0815 has missing value\n",
      "Line Name: Control_P4-R1\t field: Formal Type\t value: None has missing value\n",
      "Line Name: Control_P4-R2\t field: Formal Type\t value: None has missing value\n",
      "Line Name: Control_P4-R3\t field: Formal Type\t value: None has missing value\n",
      "~~~~~~~~target 2~~~~~~~~\n",
      "Line Name: PP_4189_PP_4550_PP_4862-R1\t field: Formal Type\t value: PP_4550 has missing value\n",
      "Line Name: PP_4189_PP_4550_PP_4862-R2\t field: Formal Type\t value: PP_4550 has missing value\n",
      "Line Name: PP_4189_PP_4550_PP_4862-R3\t field: Formal Type\t value: PP_4550 has missing value\n",
      "Line Name: Control_P1-R1\t field: Formal Type\t value: None has missing value\n",
      "Line Name: Control_P1-R2\t field: Formal Type\t value: None has missing value\n",
      "Line Name: Control_P1-R3\t field: Formal Type\t value: None has missing value\n",
      "Line Name: PP_0658_PP_0815_PP_4187-R1\t field: Formal Type\t value: PP_0815 has missing value\n",
      "Line Name: PP_0774_PP_2213_PP_5288-R1\t field: Formal Type\t value: PP_2213 has missing value\n",
      "Line Name: Control_P2-R1\t field: Formal Type\t value: None has missing value\n",
      "Line Name: PP_0658_PP_0815_PP_4187-R2\t field: Formal Type\t value: PP_0815 has missing value\n",
      "Line Name: PP_0774_PP_2213_PP_5288-R2\t field: Formal Type\t value: PP_2213 has missing value\n",
      "Line Name: Control_P2-R2\t field: Formal Type\t value: None has missing value\n",
      "Line Name: PP_0658_PP_0815_PP_4187-R3\t field: Formal Type\t value: PP_0815 has missing value\n",
      "Line Name: PP_0774_PP_2213_PP_5288-R3\t field: Formal Type\t value: PP_2213 has missing value\n",
      "Line Name: Control_P2-R3\t field: Formal Type\t value: None has missing value\n",
      "Line Name: PP_1607_PP_4550-R1\t field: Formal Type\t value: PP_4550 has missing value\n",
      "Line Name: PP_1607_PP_4550-R2\t field: Formal Type\t value: PP_4550 has missing value\n",
      "Line Name: PP_1607_PP_4550-R3\t field: Formal Type\t value: PP_4550 has missing value\n",
      "Line Name: Control_P3-R1\t field: Formal Type\t value: None has missing value\n",
      "Line Name: Control_P3-R2\t field: Formal Type\t value: None has missing value\n",
      "Line Name: Control_P3-R3\t field: Formal Type\t value: None has missing value\n",
      "Line Name: Control_P4-R1\t field: Formal Type\t value: None has missing value\n",
      "Line Name: Control_P4-R2\t field: Formal Type\t value: None has missing value\n",
      "Line Name: Control_P4-R3\t field: Formal Type\t value: None has missing value\n",
      "~~~~~~~~target 3~~~~~~~~\n",
      "Line Name: Control_P1-R1\t field: Formal Type\t value: None has missing value\n",
      "Line Name: Control_P1-R2\t field: Formal Type\t value: None has missing value\n",
      "Line Name: Control_P1-R3\t field: Formal Type\t value: None has missing value\n",
      "Line Name: PP_0814_PP_4192-R4\t field: Formal Type\t value: None has missing value\n",
      "Line Name: Control_P2-R1\t field: Formal Type\t value: None has missing value\n",
      "Line Name: PP_0814_PP_4192-R5\t field: Formal Type\t value: None has missing value\n",
      "Line Name: Control_P2-R2\t field: Formal Type\t value: None has missing value\n",
      "Line Name: PP_0814_PP_4192-R6\t field: Formal Type\t value: None has missing value\n",
      "Line Name: Control_P2-R3\t field: Formal Type\t value: None has missing value\n",
      "Line Name: PP_0814_PP_5288-R1\t field: Formal Type\t value: None has missing value\n",
      "Line Name: PP_0774_PP_1769-R1\t field: Formal Type\t value: None has missing value\n",
      "Line Name: PP_0658_PP_2136-R1\t field: Formal Type\t value: None has missing value\n",
      "Line Name: PP_3123_PP_5288-R1\t field: Formal Type\t value: None has missing value\n",
      "Line Name: PP_2339_PP_4186-R1\t field: Formal Type\t value: None has missing value\n",
      "Line Name: PP_4122_PP_4188-R1\t field: Formal Type\t value: None has missing value\n",
      "Line Name: PP_0814_PP_3123-R1\t field: Formal Type\t value: None has missing value\n",
      "Line Name: PP_1607_PP_4550-R1\t field: Formal Type\t value: None has missing value\n",
      "Line Name: PP_0814_PP_5288-R2\t field: Formal Type\t value: None has missing value\n",
      "Line Name: PP_0774_PP_1769-R2\t field: Formal Type\t value: None has missing value\n",
      "Line Name: PP_0658_PP_2136-R2\t field: Formal Type\t value: None has missing value\n",
      "Line Name: PP_3123_PP_5288-R2\t field: Formal Type\t value: None has missing value\n",
      "Line Name: PP_2339_PP_4186-R2\t field: Formal Type\t value: None has missing value\n",
      "Line Name: PP_4122_PP_4188-R2\t field: Formal Type\t value: None has missing value\n",
      "Line Name: PP_0814_PP_3123-R2\t field: Formal Type\t value: None has missing value\n",
      "Line Name: PP_1607_PP_4550-R2\t field: Formal Type\t value: None has missing value\n",
      "Line Name: PP_0814_PP_5288-R3\t field: Formal Type\t value: None has missing value\n",
      "Line Name: PP_0774_PP_1769-R3\t field: Formal Type\t value: None has missing value\n",
      "Line Name: PP_0658_PP_2136-R3\t field: Formal Type\t value: None has missing value\n",
      "Line Name: PP_3123_PP_5288-R3\t field: Formal Type\t value: None has missing value\n",
      "Line Name: PP_2339_PP_4186-R3\t field: Formal Type\t value: None has missing value\n",
      "Line Name: PP_4122_PP_4188-R3\t field: Formal Type\t value: None has missing value\n",
      "Line Name: PP_0814_PP_3123-R3\t field: Formal Type\t value: None has missing value\n",
      "Line Name: PP_1607_PP_4550-R3\t field: Formal Type\t value: None has missing value\n",
      "Line Name: PP_0814_PP_1769-R1\t field: Formal Type\t value: None has missing value\n",
      "Line Name: PP_0368_PP_0597-R1\t field: Formal Type\t value: None has missing value\n",
      "Line Name: PP_0528_PP_5288-R1\t field: Formal Type\t value: None has missing value\n",
      "Line Name: PP_0813_PP_4120-R1\t field: Formal Type\t value: None has missing value\n",
      "Line Name: PP_1620_PP_4116-R1\t field: Formal Type\t value: None has missing value\n",
      "Line Name: PP_2137_PP_4189-R1\t field: Formal Type\t value: None has missing value\n",
      "Line Name: PP_0814_PP_4862-R1\t field: Formal Type\t value: None has missing value\n",
      "Line Name: Control_P3-R1\t field: Formal Type\t value: None has missing value\n",
      "Line Name: PP_0814_PP_1769-R2\t field: Formal Type\t value: None has missing value\n",
      "Line Name: PP_0368_PP_0597-R2\t field: Formal Type\t value: None has missing value\n",
      "Line Name: PP_0528_PP_5288-R2\t field: Formal Type\t value: None has missing value\n",
      "Line Name: PP_0813_PP_4120-R2\t field: Formal Type\t value: None has missing value\n",
      "Line Name: PP_1620_PP_4116-R2\t field: Formal Type\t value: None has missing value\n",
      "Line Name: PP_2137_PP_4189-R2\t field: Formal Type\t value: None has missing value\n",
      "Line Name: PP_0814_PP_4862-R2\t field: Formal Type\t value: None has missing value\n",
      "Line Name: Control_P3-R2\t field: Formal Type\t value: None has missing value\n",
      "Line Name: PP_0814_PP_1769-R3\t field: Formal Type\t value: None has missing value\n",
      "Line Name: PP_0368_PP_0597-R3\t field: Formal Type\t value: None has missing value\n",
      "Line Name: PP_0528_PP_5288-R3\t field: Formal Type\t value: None has missing value\n",
      "Line Name: PP_0813_PP_4120-R3\t field: Formal Type\t value: None has missing value\n",
      "Line Name: PP_1620_PP_4116-R3\t field: Formal Type\t value: None has missing value\n",
      "Line Name: PP_2137_PP_4189-R3\t field: Formal Type\t value: None has missing value\n",
      "Line Name: PP_0814_PP_4862-R3\t field: Formal Type\t value: None has missing value\n",
      "Line Name: Control_P3-R3\t field: Formal Type\t value: None has missing value\n",
      "Line Name: PP_2137_PP_4189-R4\t field: Formal Type\t value: None has missing value\n",
      "Line Name: PP_0814_PP_4862-R4\t field: Formal Type\t value: None has missing value\n",
      "Line Name: PP_0812_PP_2095-R1\t field: Formal Type\t value: None has missing value\n",
      "Line Name: PP_0437_PP_4116-R1\t field: Formal Type\t value: None has missing value\n",
      "Line Name: PP_0815_PP_1317-R1\t field: Formal Type\t value: None has missing value\n",
      "Line Name: PP_1319_PP_4678-R1\t field: Formal Type\t value: None has missing value\n",
      "Line Name: PP_3123_PP_4667-R1\t field: Formal Type\t value: None has missing value\n",
      "Line Name: PP_3365_PP_3754-R1\t field: Formal Type\t value: None has missing value\n",
      "Line Name: PP_2137_PP_4189-R5\t field: Formal Type\t value: None has missing value\n",
      "Line Name: PP_0814_PP_4862-R5\t field: Formal Type\t value: None has missing value\n",
      "Line Name: PP_0812_PP_2095-R2\t field: Formal Type\t value: None has missing value\n",
      "Line Name: PP_0437_PP_4116-R2\t field: Formal Type\t value: None has missing value\n",
      "Line Name: PP_0815_PP_1317-R2\t field: Formal Type\t value: None has missing value\n",
      "Line Name: PP_1319_PP_4678-R2\t field: Formal Type\t value: None has missing value\n",
      "Line Name: PP_3123_PP_4667-R2\t field: Formal Type\t value: None has missing value\n",
      "Line Name: PP_3365_PP_3754-R2\t field: Formal Type\t value: None has missing value\n",
      "Line Name: PP_2137_PP_4189-R6\t field: Formal Type\t value: None has missing value\n",
      "Line Name: PP_0814_PP_4862-R6\t field: Formal Type\t value: None has missing value\n",
      "Line Name: PP_0812_PP_2095-R3\t field: Formal Type\t value: None has missing value\n",
      "Line Name: PP_0437_PP_4116-R3\t field: Formal Type\t value: None has missing value\n",
      "Line Name: PP_0815_PP_1317-R3\t field: Formal Type\t value: None has missing value\n",
      "Line Name: PP_1319_PP_4678-R3\t field: Formal Type\t value: None has missing value\n",
      "Line Name: PP_3123_PP_4667-R3\t field: Formal Type\t value: None has missing value\n",
      "Line Name: PP_3365_PP_3754-R3\t field: Formal Type\t value: None has missing value\n",
      "Line Name: PP_3123_PP_3755-R1\t field: Formal Type\t value: None has missing value\n",
      "Line Name: PP_0813_PP_4189-R1\t field: Formal Type\t value: None has missing value\n",
      "Line Name: PP_0999_PP_4679-R1\t field: Formal Type\t value: None has missing value\n",
      "Line Name: PP_0437_PP_3365-R1\t field: Formal Type\t value: None has missing value\n",
      "Line Name: PP_0814_PP_4192-R1\t field: Formal Type\t value: None has missing value\n",
      "Line Name: PP_0812_PP_4121-R1\t field: Formal Type\t value: None has missing value\n",
      "Line Name: Control_P4-R1\t field: Formal Type\t value: None has missing value\n",
      "Line Name: PP_3123_PP_3755-R2\t field: Formal Type\t value: None has missing value\n",
      "Line Name: PP_0813_PP_4189-R2\t field: Formal Type\t value: None has missing value\n",
      "Line Name: PP_0999_PP_4679-R2\t field: Formal Type\t value: None has missing value\n",
      "Line Name: PP_0437_PP_3365-R2\t field: Formal Type\t value: None has missing value\n",
      "Line Name: PP_0814_PP_4192-R2\t field: Formal Type\t value: None has missing value\n",
      "Line Name: PP_0812_PP_4121-R2\t field: Formal Type\t value: None has missing value\n",
      "Line Name: Control_P4-R2\t field: Formal Type\t value: None has missing value\n",
      "Line Name: PP_3123_PP_3755-R3\t field: Formal Type\t value: None has missing value\n",
      "Line Name: PP_0813_PP_4189-R3\t field: Formal Type\t value: None has missing value\n",
      "Line Name: PP_0999_PP_4679-R3\t field: Formal Type\t value: None has missing value\n",
      "Line Name: PP_0437_PP_3365-R3\t field: Formal Type\t value: None has missing value\n",
      "Line Name: PP_0814_PP_4192-R3\t field: Formal Type\t value: None has missing value\n",
      "Line Name: PP_0812_PP_4121-R3\t field: Formal Type\t value: None has missing value\n",
      "Line Name: Control_P4-R3\t field: Formal Type\t value: None has missing value\n"
     ]
    }
   ],
   "source": [
    "print('~~~~~~~~target 1~~~~~~~~')\n",
    "df_target['target_1_value'] = df_target.apply(lambda x: get_edd_value_by_linename(x, df2, 'Formal Type', x['target_1']), axis = 1)\n",
    "print('~~~~~~~~target 2~~~~~~~~')\n",
    "df_target['target_2_value'] = df_target.apply(lambda x: get_edd_value_by_linename(x, df2, 'Formal Type', x['target_2']), axis = 1)\n",
    "print('~~~~~~~~target 3~~~~~~~~')\n",
    "df_target['target_3_value'] = df_target.apply(lambda x: get_edd_value_by_linename(x, df2, 'Formal Type', x['target_3']), axis = 1)"
   ]
  },
  {
   "cell_type": "markdown",
   "id": "8323f213-44d2-40cb-9531-417e3358fc02",
   "metadata": {},
   "source": [
    "Define function to get the control value for each target"
   ]
  },
  {
   "cell_type": "code",
   "execution_count": 49,
   "id": "2496d7fa-abd5-444d-981a-e102fc102e4a",
   "metadata": {
    "tags": []
   },
   "outputs": [],
   "source": [
    "def get_target_control_mean(x, df_edd):\n",
    "    \"\"\"\n",
    "    Get the control mean for a specific target.\n",
    "    x: Measurement type (protein ID) to look for in EDD dataframe\n",
    "    df_edd: EDD-formatted dataframe of proteomics measurements with a 'Control' field\n",
    "    \"\"\"\n",
    "    control_idx = (df_edd['Formal Type'] == x) & df_edd['Control']\n",
    "    control_mean = np.mean(df_edd.loc[control_idx, 'Value'])\n",
    "    if any(control_idx):\n",
    "        return control_mean\n",
    "    else:\n",
    "        if x is not None:\n",
    "            print(f\"formal type: {x}\\t missing control values\")\n",
    "        return None"
   ]
  },
  {
   "cell_type": "markdown",
   "id": "d51a6045-e433-44ea-b0ab-771eadbfee62",
   "metadata": {},
   "source": [
    "Get the value of the control for each target"
   ]
  },
  {
   "cell_type": "code",
   "execution_count": 50,
   "id": "96f0babe-8764-4193-826f-63e68ebbfa42",
   "metadata": {
    "tags": []
   },
   "outputs": [
    {
     "name": "stdout",
     "output_type": "stream",
     "text": [
      "formal type: PP_2213\t missing control values\n",
      "formal type: PP_2213\t missing control values\n",
      "formal type: PP_2213\t missing control values\n",
      "formal type: PP_0815\t missing control values\n",
      "formal type: PP_0815\t missing control values\n",
      "formal type: PP_0815\t missing control values\n",
      "formal type: PP_4550\t missing control values\n",
      "formal type: PP_4550\t missing control values\n",
      "formal type: PP_4550\t missing control values\n",
      "formal type: PP_0815\t missing control values\n",
      "formal type: PP_2213\t missing control values\n",
      "formal type: PP_0815\t missing control values\n",
      "formal type: PP_2213\t missing control values\n",
      "formal type: PP_0815\t missing control values\n",
      "formal type: PP_2213\t missing control values\n",
      "formal type: PP_4550\t missing control values\n",
      "formal type: PP_4550\t missing control values\n",
      "formal type: PP_4550\t missing control values\n"
     ]
    }
   ],
   "source": [
    "df_target['target_1_control'] = df_target['target_1'].apply(lambda x: get_target_control_mean(x, df2))\n",
    "df_target['target_2_control'] = df_target['target_2'].apply(lambda x: get_target_control_mean(x, df2))\n",
    "df_target['target_3_control'] = df_target['target_3'].apply(lambda x: get_target_control_mean(x, df2))"
   ]
  },
  {
   "cell_type": "markdown",
   "id": "735cdf5c-fead-4e24-9b8c-9ed57575c7e6",
   "metadata": {},
   "source": [
    "Fill in dataframe with target values normalized to control by division and subtraction. "
   ]
  },
  {
   "cell_type": "code",
   "execution_count": 51,
   "id": "29e90cb3-e942-4117-b54c-082fd1555a1d",
   "metadata": {},
   "outputs": [],
   "source": [
    "df_target['target_1_norm'] = df_target['target_1_value']/df_target['target_1_control']\n",
    "df_target['target_2_norm'] = df_target['target_2_value']/df_target['target_2_control']\n",
    "df_target['target_3_norm'] = df_target['target_3_value']/df_target['target_3_control']\n",
    "df_target['target_1_subtract'] = df_target['target_1_value']-df_target['target_1_control']\n",
    "df_target['target_2_subtract'] = df_target['target_2_value']-df_target['target_2_control']\n",
    "df_target['target_3_subtract'] = df_target['target_3_value']-df_target['target_3_control']"
   ]
  },
  {
   "cell_type": "markdown",
   "id": "71e292a5-f423-4b94-8625-ed7438d388e6",
   "metadata": {},
   "source": [
    "Add a field in the dataframe for whether one or more of the controls is missing due to low proteomics."
   ]
  },
  {
   "cell_type": "code",
   "execution_count": 52,
   "id": "7a3dca2c-6d77-411a-aa9f-b7e4c7ada8e2",
   "metadata": {
    "tags": []
   },
   "outputs": [
    {
     "data": {
      "text/plain": [
       "18"
      ]
     },
     "execution_count": 52,
     "metadata": {},
     "output_type": "execute_result"
    }
   ],
   "source": [
    "check_missing_control_list = lambda x: any([missing_target in x for missing_target in targets_missing_from_control])\n",
    "df_target['has_missing_control'] = df_target['line_name_norep'].apply(check_missing_control_list)\n",
    "df_target['has_missing_control'].sum()"
   ]
  },
  {
   "cell_type": "markdown",
   "id": "7359f4c9-8863-414f-8c34-ca5c41bda796",
   "metadata": {},
   "source": [
    "### 3.2 Add dCas9 and target threshold filter to dataframe"
   ]
  },
  {
   "cell_type": "code",
   "execution_count": 53,
   "id": "f2587493-e899-4133-a47e-b87b691ae858",
   "metadata": {
    "tags": []
   },
   "outputs": [
    {
     "data": {
      "text/html": [
       "<div>\n",
       "<style scoped>\n",
       "    .dataframe tbody tr th:only-of-type {\n",
       "        vertical-align: middle;\n",
       "    }\n",
       "\n",
       "    .dataframe tbody tr th {\n",
       "        vertical-align: top;\n",
       "    }\n",
       "\n",
       "    .dataframe thead th {\n",
       "        text-align: right;\n",
       "    }\n",
       "</style>\n",
       "<table border=\"1\" class=\"dataframe\">\n",
       "  <thead>\n",
       "    <tr style=\"text-align: right;\">\n",
       "      <th></th>\n",
       "      <th>Line Name</th>\n",
       "      <th>rep</th>\n",
       "      <th>is_control</th>\n",
       "      <th>line_name_norep</th>\n",
       "      <th>number_of_grna</th>\n",
       "      <th>isoprenol</th>\n",
       "      <th>dCas9</th>\n",
       "      <th>dCas9_normtocontrol</th>\n",
       "      <th>target_1</th>\n",
       "      <th>target_2</th>\n",
       "      <th>...</th>\n",
       "      <th>target_1_control</th>\n",
       "      <th>target_2_control</th>\n",
       "      <th>target_3_control</th>\n",
       "      <th>target_1_norm</th>\n",
       "      <th>target_2_norm</th>\n",
       "      <th>target_3_norm</th>\n",
       "      <th>target_1_subtract</th>\n",
       "      <th>target_2_subtract</th>\n",
       "      <th>target_3_subtract</th>\n",
       "      <th>has_missing_control</th>\n",
       "    </tr>\n",
       "  </thead>\n",
       "  <tbody>\n",
       "    <tr>\n",
       "      <th>0</th>\n",
       "      <td>PP_0226_PP_0897_PP_5288-R1</td>\n",
       "      <td>1</td>\n",
       "      <td>False</td>\n",
       "      <td>PP_0226_PP_0897_PP_5288</td>\n",
       "      <td>3</td>\n",
       "      <td>173.9811</td>\n",
       "      <td>4446120.70</td>\n",
       "      <td>0.513739</td>\n",
       "      <td>PP_0226</td>\n",
       "      <td>PP_0897</td>\n",
       "      <td>...</td>\n",
       "      <td>7.663091e+04</td>\n",
       "      <td>2.422607e+07</td>\n",
       "      <td>1502583.085</td>\n",
       "      <td>0.364876</td>\n",
       "      <td>0.259329</td>\n",
       "      <td>0.102347</td>\n",
       "      <td>-4.867011e+04</td>\n",
       "      <td>-1.794354e+07</td>\n",
       "      <td>-1348798.685</td>\n",
       "      <td>False</td>\n",
       "    </tr>\n",
       "    <tr>\n",
       "      <th>1</th>\n",
       "      <td>PP_1319_PP_1457_PP_4192-R1</td>\n",
       "      <td>1</td>\n",
       "      <td>False</td>\n",
       "      <td>PP_1319_PP_1457_PP_4192</td>\n",
       "      <td>3</td>\n",
       "      <td>268.6526</td>\n",
       "      <td>6229968.25</td>\n",
       "      <td>0.719859</td>\n",
       "      <td>PP_1319</td>\n",
       "      <td>PP_1457</td>\n",
       "      <td>...</td>\n",
       "      <td>1.179418e+06</td>\n",
       "      <td>7.211756e+06</td>\n",
       "      <td>2780583.380</td>\n",
       "      <td>0.115387</td>\n",
       "      <td>0.634680</td>\n",
       "      <td>0.208580</td>\n",
       "      <td>-1.043328e+06</td>\n",
       "      <td>-2.634598e+06</td>\n",
       "      <td>-2200610.480</td>\n",
       "      <td>False</td>\n",
       "    </tr>\n",
       "    <tr>\n",
       "      <th>2</th>\n",
       "      <td>PP_2213_PP_2471_PP_4266-R1</td>\n",
       "      <td>1</td>\n",
       "      <td>False</td>\n",
       "      <td>PP_2213_PP_2471_PP_4266</td>\n",
       "      <td>3</td>\n",
       "      <td>182.8489</td>\n",
       "      <td>5220820.10</td>\n",
       "      <td>0.603254</td>\n",
       "      <td>PP_2213</td>\n",
       "      <td>PP_2471</td>\n",
       "      <td>...</td>\n",
       "      <td>NaN</td>\n",
       "      <td>2.687260e+06</td>\n",
       "      <td>1571733.815</td>\n",
       "      <td>NaN</td>\n",
       "      <td>0.106415</td>\n",
       "      <td>0.029203</td>\n",
       "      <td>NaN</td>\n",
       "      <td>-2.401294e+06</td>\n",
       "      <td>-1525834.815</td>\n",
       "      <td>True</td>\n",
       "    </tr>\n",
       "  </tbody>\n",
       "</table>\n",
       "<p>3 rows × 24 columns</p>\n",
       "</div>"
      ],
      "text/plain": [
       "                    Line Name  rep  is_control          line_name_norep  \\\n",
       "0  PP_0226_PP_0897_PP_5288-R1    1       False  PP_0226_PP_0897_PP_5288   \n",
       "1  PP_1319_PP_1457_PP_4192-R1    1       False  PP_1319_PP_1457_PP_4192   \n",
       "2  PP_2213_PP_2471_PP_4266-R1    1       False  PP_2213_PP_2471_PP_4266   \n",
       "\n",
       "   number_of_grna  isoprenol       dCas9  dCas9_normtocontrol target_1  \\\n",
       "0               3   173.9811  4446120.70             0.513739  PP_0226   \n",
       "1               3   268.6526  6229968.25             0.719859  PP_1319   \n",
       "2               3   182.8489  5220820.10             0.603254  PP_2213   \n",
       "\n",
       "  target_2  ... target_1_control  target_2_control  target_3_control  \\\n",
       "0  PP_0897  ...     7.663091e+04      2.422607e+07       1502583.085   \n",
       "1  PP_1457  ...     1.179418e+06      7.211756e+06       2780583.380   \n",
       "2  PP_2471  ...              NaN      2.687260e+06       1571733.815   \n",
       "\n",
       "   target_1_norm  target_2_norm  target_3_norm  target_1_subtract  \\\n",
       "0       0.364876       0.259329       0.102347      -4.867011e+04   \n",
       "1       0.115387       0.634680       0.208580      -1.043328e+06   \n",
       "2            NaN       0.106415       0.029203                NaN   \n",
       "\n",
       "   target_2_subtract  target_3_subtract  has_missing_control  \n",
       "0      -1.794354e+07       -1348798.685                False  \n",
       "1      -2.634598e+06       -2200610.480                False  \n",
       "2      -2.401294e+06       -1525834.815                 True  \n",
       "\n",
       "[3 rows x 24 columns]"
      ]
     },
     "execution_count": 53,
     "metadata": {},
     "output_type": "execute_result"
    }
   ],
   "source": [
    "df_target.head(3)"
   ]
  },
  {
   "cell_type": "markdown",
   "id": "ae2f9316-a588-4afe-8ba6-bf4bb0d43bbc",
   "metadata": {},
   "source": [
    "Add a boolean filter for whether each Line is above the dCas9 threshold."
   ]
  },
  {
   "cell_type": "code",
   "execution_count": 54,
   "id": "2a471007-75da-40c6-bc69-dce1b29d7069",
   "metadata": {
    "tags": []
   },
   "outputs": [],
   "source": [
    "DCAS9_THRESH = 0.25"
   ]
  },
  {
   "cell_type": "code",
   "execution_count": 55,
   "id": "2dd31e2f-f694-4db8-9abf-4ef8c6d4a518",
   "metadata": {
    "tags": []
   },
   "outputs": [],
   "source": [
    "df_target['above_dcas9_thresh'] = df_target['dCas9_normtocontrol']>DCAS9_THRESH\n",
    "df_target['above_dcas9_thresh'] = df_target['above_dcas9_thresh'].astype(bool)"
   ]
  },
  {
   "cell_type": "markdown",
   "id": "22555537-dbfb-4976-93a6-6e338823ff38",
   "metadata": {},
   "source": [
    "Add a boolean filter for whether each Line is below the target threshold."
   ]
  },
  {
   "cell_type": "code",
   "execution_count": 56,
   "id": "e6590a94-b283-4332-88f5-922fe15b3f62",
   "metadata": {
    "tags": []
   },
   "outputs": [],
   "source": [
    "TARGET_THRESH = 0.5"
   ]
  },
  {
   "cell_type": "code",
   "execution_count": 57,
   "id": "b660239e-4b79-4f1e-956c-92cb80d3f57d",
   "metadata": {
    "tags": []
   },
   "outputs": [],
   "source": [
    "df_target['target_1_belowthresh'] = (df_target['target_1_norm']<TARGET_THRESH).astype(bool)\n",
    "df_target['target_2_belowthresh'] = (df_target['target_2_norm']<TARGET_THRESH).astype(bool)\n",
    "df_target['target_3_belowthresh'] = (df_target['target_3_norm']<TARGET_THRESH).astype(bool)"
   ]
  },
  {
   "cell_type": "code",
   "execution_count": 58,
   "id": "18e1d575-d125-44c1-920f-06fe27d64529",
   "metadata": {},
   "outputs": [
    {
     "data": {
      "text/html": [
       "<div>\n",
       "<style scoped>\n",
       "    .dataframe tbody tr th:only-of-type {\n",
       "        vertical-align: middle;\n",
       "    }\n",
       "\n",
       "    .dataframe tbody tr th {\n",
       "        vertical-align: top;\n",
       "    }\n",
       "\n",
       "    .dataframe thead th {\n",
       "        text-align: right;\n",
       "    }\n",
       "</style>\n",
       "<table border=\"1\" class=\"dataframe\">\n",
       "  <thead>\n",
       "    <tr style=\"text-align: right;\">\n",
       "      <th></th>\n",
       "      <th>target_1</th>\n",
       "      <th>target_1_norm</th>\n",
       "      <th>target_1_belowthresh</th>\n",
       "      <th>target_2</th>\n",
       "      <th>target_2_norm</th>\n",
       "      <th>target_2_belowthresh</th>\n",
       "    </tr>\n",
       "  </thead>\n",
       "  <tbody>\n",
       "    <tr>\n",
       "      <th>148</th>\n",
       "      <td>PP_0815</td>\n",
       "      <td>NaN</td>\n",
       "      <td>False</td>\n",
       "      <td>PP_1317</td>\n",
       "      <td>0.012326</td>\n",
       "      <td>True</td>\n",
       "    </tr>\n",
       "    <tr>\n",
       "      <th>156</th>\n",
       "      <td>PP_0815</td>\n",
       "      <td>NaN</td>\n",
       "      <td>False</td>\n",
       "      <td>PP_1317</td>\n",
       "      <td>0.009889</td>\n",
       "      <td>True</td>\n",
       "    </tr>\n",
       "    <tr>\n",
       "      <th>164</th>\n",
       "      <td>PP_0815</td>\n",
       "      <td>NaN</td>\n",
       "      <td>False</td>\n",
       "      <td>PP_1317</td>\n",
       "      <td>0.012407</td>\n",
       "      <td>True</td>\n",
       "    </tr>\n",
       "  </tbody>\n",
       "</table>\n",
       "</div>"
      ],
      "text/plain": [
       "    target_1  target_1_norm  target_1_belowthresh target_2  target_2_norm  \\\n",
       "148  PP_0815            NaN                 False  PP_1317       0.012326   \n",
       "156  PP_0815            NaN                 False  PP_1317       0.009889   \n",
       "164  PP_0815            NaN                 False  PP_1317       0.012407   \n",
       "\n",
       "     target_2_belowthresh  \n",
       "148                  True  \n",
       "156                  True  \n",
       "164                  True  "
      ]
     },
     "execution_count": 58,
     "metadata": {},
     "output_type": "execute_result"
    }
   ],
   "source": [
    "df_target.loc[df_target['line_name_norep'] == 'PP_0815_PP_1317',['target_1', 'target_1_norm','target_1_belowthresh', 'target_2', 'target_2_norm', 'target_2_belowthresh']]"
   ]
  },
  {
   "cell_type": "code",
   "execution_count": 59,
   "id": "9f2db0f7-6fe8-4571-9cac-83663e8a2b9d",
   "metadata": {},
   "outputs": [
    {
     "name": "stdout",
     "output_type": "stream",
     "text": [
      "PP_0815\n",
      "Target 2 missing: idx = 74\tLine Name: PP_0658_PP_0815_PP_4187-R1\n",
      "Target 2 missing: idx = 82\tLine Name: PP_0658_PP_0815_PP_4187-R2\n",
      "Target 2 missing: idx = 90\tLine Name: PP_0658_PP_0815_PP_4187-R3\n",
      "Target 1 missing: idx = 148\tLine Name: PP_0815_PP_1317-R1\n",
      "Target 1 missing: idx = 156\tLine Name: PP_0815_PP_1317-R2\n",
      "Target 1 missing: idx = 164\tLine Name: PP_0815_PP_1317-R3\n",
      "PP_2213\n",
      "Target 1 missing: idx = 2\tLine Name: PP_2213_PP_2471_PP_4266-R1\n",
      "Target 1 missing: idx = 10\tLine Name: PP_2213_PP_2471_PP_4266-R2\n",
      "Target 1 missing: idx = 18\tLine Name: PP_2213_PP_2471_PP_4266-R3\n",
      "Target 2 missing: idx = 75\tLine Name: PP_0774_PP_2213_PP_5288-R1\n",
      "Target 2 missing: idx = 83\tLine Name: PP_0774_PP_2213_PP_5288-R2\n",
      "Target 2 missing: idx = 91\tLine Name: PP_0774_PP_2213_PP_5288-R3\n",
      "PP_4550\n",
      "Target 2 missing: idx = 5\tLine Name: PP_4189_PP_4550_PP_4862-R1\n",
      "Target 2 missing: idx = 13\tLine Name: PP_4189_PP_4550_PP_4862-R2\n",
      "Target 2 missing: idx = 21\tLine Name: PP_4189_PP_4550_PP_4862-R3\n",
      "Target 2 missing: idx = 103\tLine Name: PP_1607_PP_4550-R1\n",
      "Target 2 missing: idx = 111\tLine Name: PP_1607_PP_4550-R2\n",
      "Target 2 missing: idx = 119\tLine Name: PP_1607_PP_4550-R3\n"
     ]
    }
   ],
   "source": [
    "for target in targets_missing_from_control:\n",
    "    print(target)\n",
    "    for idx, series in df_target.iterrows():\n",
    "        if series['target_1'] == target:\n",
    "            print(f\"Target 1 missing: idx = {idx}\\tLine Name: {df_target.loc[idx, 'Line Name']}\")\n",
    "            df_target.loc[idx,'target_1_belowthresh'] = True\n",
    "        if series['target_2'] == target:\n",
    "            print(f\"Target 2 missing: idx = {idx}\\tLine Name: {df_target.loc[idx, 'Line Name']}\")\n",
    "            df_target.loc[idx,'target_2_belowthresh'] = True\n",
    "        if series['target_3'] == target:\n",
    "            print(f\"Target 3 missing: idx = {idx}\\tLine Name: {df_target.loc[idx, 'Line Name']}\")\n",
    "            df_target.loc[idx,'target_3_belowthresh'] = True"
   ]
  },
  {
   "cell_type": "code",
   "execution_count": 60,
   "id": "acbaea02-55f4-4b86-9568-7a3303f4a048",
   "metadata": {},
   "outputs": [
    {
     "data": {
      "text/html": [
       "<div>\n",
       "<style scoped>\n",
       "    .dataframe tbody tr th:only-of-type {\n",
       "        vertical-align: middle;\n",
       "    }\n",
       "\n",
       "    .dataframe tbody tr th {\n",
       "        vertical-align: top;\n",
       "    }\n",
       "\n",
       "    .dataframe thead th {\n",
       "        text-align: right;\n",
       "    }\n",
       "</style>\n",
       "<table border=\"1\" class=\"dataframe\">\n",
       "  <thead>\n",
       "    <tr style=\"text-align: right;\">\n",
       "      <th></th>\n",
       "      <th>target_1</th>\n",
       "      <th>target_1_norm</th>\n",
       "      <th>target_1_belowthresh</th>\n",
       "      <th>target_2</th>\n",
       "      <th>target_2_norm</th>\n",
       "      <th>target_2_belowthresh</th>\n",
       "    </tr>\n",
       "  </thead>\n",
       "  <tbody>\n",
       "    <tr>\n",
       "      <th>148</th>\n",
       "      <td>PP_0815</td>\n",
       "      <td>NaN</td>\n",
       "      <td>True</td>\n",
       "      <td>PP_1317</td>\n",
       "      <td>0.012326</td>\n",
       "      <td>True</td>\n",
       "    </tr>\n",
       "    <tr>\n",
       "      <th>156</th>\n",
       "      <td>PP_0815</td>\n",
       "      <td>NaN</td>\n",
       "      <td>True</td>\n",
       "      <td>PP_1317</td>\n",
       "      <td>0.009889</td>\n",
       "      <td>True</td>\n",
       "    </tr>\n",
       "    <tr>\n",
       "      <th>164</th>\n",
       "      <td>PP_0815</td>\n",
       "      <td>NaN</td>\n",
       "      <td>True</td>\n",
       "      <td>PP_1317</td>\n",
       "      <td>0.012407</td>\n",
       "      <td>True</td>\n",
       "    </tr>\n",
       "  </tbody>\n",
       "</table>\n",
       "</div>"
      ],
      "text/plain": [
       "    target_1  target_1_norm  target_1_belowthresh target_2  target_2_norm  \\\n",
       "148  PP_0815            NaN                  True  PP_1317       0.012326   \n",
       "156  PP_0815            NaN                  True  PP_1317       0.009889   \n",
       "164  PP_0815            NaN                  True  PP_1317       0.012407   \n",
       "\n",
       "     target_2_belowthresh  \n",
       "148                  True  \n",
       "156                  True  \n",
       "164                  True  "
      ]
     },
     "execution_count": 60,
     "metadata": {},
     "output_type": "execute_result"
    }
   ],
   "source": [
    "df_target.loc[df_target['line_name_norep'] == 'PP_0815_PP_1317',['target_1', 'target_1_norm','target_1_belowthresh', 'target_2', 'target_2_norm', 'target_2_belowthresh']]"
   ]
  },
  {
   "cell_type": "markdown",
   "id": "7c5441fa-1adf-49ba-9280-84a97a6885ad",
   "metadata": {},
   "source": [
    "Add a boolean field for whether all targets are below the target threshold"
   ]
  },
  {
   "cell_type": "code",
   "execution_count": 61,
   "id": "7b1910b8-d40c-4e3b-a3c5-4d2625477450",
   "metadata": {
    "tags": []
   },
   "outputs": [],
   "source": [
    "two_grna_idx = df_target['number_of_grna'] == 2\n",
    "three_grna_idx = df_target['number_of_grna'] == 3\n",
    "\n",
    "df_target.loc[two_grna_idx, 'all_targets_belowthresh'] = np.all(\n",
    "    df_target.loc[two_grna_idx, ['target_1_belowthresh', 'target_2_belowthresh']], \n",
    "    axis = 1).astype(bool)\n",
    "\n",
    "df_target.loc[three_grna_idx, 'all_targets_belowthresh'] = np.all(\n",
    "    df_target.loc[three_grna_idx, ['target_1_belowthresh', 'target_2_belowthresh', 'target_3_belowthresh']],\n",
    "    axis = 1).astype(bool)"
   ]
  },
  {
   "cell_type": "markdown",
   "id": "b6d1b502-64e9-4602-abfe-22850cd32521",
   "metadata": {},
   "source": [
    "Set `all_targets_belowthresh` to `True` for controls."
   ]
  },
  {
   "cell_type": "code",
   "execution_count": 62,
   "id": "3bc2dad5-c4af-40a9-af1a-9769b148b2e1",
   "metadata": {
    "tags": []
   },
   "outputs": [],
   "source": [
    "df_target.loc[df_target['is_control'], 'all_targets_belowthresh'] = True"
   ]
  },
  {
   "cell_type": "markdown",
   "id": "c66fe319-094a-4418-97c0-d74be103644f",
   "metadata": {},
   "source": [
    "Print results of filtering by target threshold."
   ]
  },
  {
   "cell_type": "code",
   "execution_count": 63,
   "id": "57c225eb-17c0-4a39-8fb8-9760121c9171",
   "metadata": {
    "tags": []
   },
   "outputs": [
    {
     "name": "stdout",
     "output_type": "stream",
     "text": [
      "There are N = 103 strains with all targets below threshold out of N = 180 total strains\n"
     ]
    }
   ],
   "source": [
    "sum(df_target.loc[~df_target['is_control'], 'all_targets_belowthresh'])\n",
    "len(df_target.loc[~df_target['is_control'], 'all_targets_belowthresh'])\n",
    "print(f\"There are N = {sum(df_target.loc[~df_target['is_control'], 'all_targets_belowthresh'])} strains \"\n",
    "      f\"with all targets below threshold out of N = {len(df_target.loc[~df_target['is_control'], 'all_targets_belowthresh'])} total strains\")"
   ]
  },
  {
   "cell_type": "code",
   "execution_count": 64,
   "id": "a5a9357f-3e3e-42ee-b045-68aa2d409a47",
   "metadata": {
    "tags": []
   },
   "outputs": [
    {
     "data": {
      "text/html": [
       "<div>\n",
       "<style scoped>\n",
       "    .dataframe tbody tr th:only-of-type {\n",
       "        vertical-align: middle;\n",
       "    }\n",
       "\n",
       "    .dataframe tbody tr th {\n",
       "        vertical-align: top;\n",
       "    }\n",
       "\n",
       "    .dataframe thead th {\n",
       "        text-align: right;\n",
       "    }\n",
       "</style>\n",
       "<table border=\"1\" class=\"dataframe\">\n",
       "  <thead>\n",
       "    <tr style=\"text-align: right;\">\n",
       "      <th></th>\n",
       "      <th>Line Name</th>\n",
       "      <th>rep</th>\n",
       "      <th>is_control</th>\n",
       "      <th>line_name_norep</th>\n",
       "      <th>number_of_grna</th>\n",
       "      <th>isoprenol</th>\n",
       "      <th>dCas9</th>\n",
       "      <th>dCas9_normtocontrol</th>\n",
       "      <th>target_1</th>\n",
       "      <th>target_2</th>\n",
       "      <th>...</th>\n",
       "      <th>target_3_norm</th>\n",
       "      <th>target_1_subtract</th>\n",
       "      <th>target_2_subtract</th>\n",
       "      <th>target_3_subtract</th>\n",
       "      <th>has_missing_control</th>\n",
       "      <th>above_dcas9_thresh</th>\n",
       "      <th>target_1_belowthresh</th>\n",
       "      <th>target_2_belowthresh</th>\n",
       "      <th>target_3_belowthresh</th>\n",
       "      <th>all_targets_belowthresh</th>\n",
       "    </tr>\n",
       "  </thead>\n",
       "  <tbody>\n",
       "    <tr>\n",
       "      <th>0</th>\n",
       "      <td>PP_0226_PP_0897_PP_5288-R1</td>\n",
       "      <td>1</td>\n",
       "      <td>False</td>\n",
       "      <td>PP_0226_PP_0897_PP_5288</td>\n",
       "      <td>3</td>\n",
       "      <td>173.9811</td>\n",
       "      <td>4446120.70</td>\n",
       "      <td>0.513739</td>\n",
       "      <td>PP_0226</td>\n",
       "      <td>PP_0897</td>\n",
       "      <td>...</td>\n",
       "      <td>0.102347</td>\n",
       "      <td>-4.867011e+04</td>\n",
       "      <td>-1.794354e+07</td>\n",
       "      <td>-1348798.685</td>\n",
       "      <td>False</td>\n",
       "      <td>True</td>\n",
       "      <td>True</td>\n",
       "      <td>True</td>\n",
       "      <td>True</td>\n",
       "      <td>True</td>\n",
       "    </tr>\n",
       "    <tr>\n",
       "      <th>1</th>\n",
       "      <td>PP_1319_PP_1457_PP_4192-R1</td>\n",
       "      <td>1</td>\n",
       "      <td>False</td>\n",
       "      <td>PP_1319_PP_1457_PP_4192</td>\n",
       "      <td>3</td>\n",
       "      <td>268.6526</td>\n",
       "      <td>6229968.25</td>\n",
       "      <td>0.719859</td>\n",
       "      <td>PP_1319</td>\n",
       "      <td>PP_1457</td>\n",
       "      <td>...</td>\n",
       "      <td>0.208580</td>\n",
       "      <td>-1.043328e+06</td>\n",
       "      <td>-2.634598e+06</td>\n",
       "      <td>-2200610.480</td>\n",
       "      <td>False</td>\n",
       "      <td>True</td>\n",
       "      <td>True</td>\n",
       "      <td>False</td>\n",
       "      <td>True</td>\n",
       "      <td>False</td>\n",
       "    </tr>\n",
       "    <tr>\n",
       "      <th>2</th>\n",
       "      <td>PP_2213_PP_2471_PP_4266-R1</td>\n",
       "      <td>1</td>\n",
       "      <td>False</td>\n",
       "      <td>PP_2213_PP_2471_PP_4266</td>\n",
       "      <td>3</td>\n",
       "      <td>182.8489</td>\n",
       "      <td>5220820.10</td>\n",
       "      <td>0.603254</td>\n",
       "      <td>PP_2213</td>\n",
       "      <td>PP_2471</td>\n",
       "      <td>...</td>\n",
       "      <td>0.029203</td>\n",
       "      <td>NaN</td>\n",
       "      <td>-2.401294e+06</td>\n",
       "      <td>-1525834.815</td>\n",
       "      <td>True</td>\n",
       "      <td>True</td>\n",
       "      <td>True</td>\n",
       "      <td>True</td>\n",
       "      <td>True</td>\n",
       "      <td>True</td>\n",
       "    </tr>\n",
       "  </tbody>\n",
       "</table>\n",
       "<p>3 rows × 29 columns</p>\n",
       "</div>"
      ],
      "text/plain": [
       "                    Line Name  rep  is_control          line_name_norep  \\\n",
       "0  PP_0226_PP_0897_PP_5288-R1    1       False  PP_0226_PP_0897_PP_5288   \n",
       "1  PP_1319_PP_1457_PP_4192-R1    1       False  PP_1319_PP_1457_PP_4192   \n",
       "2  PP_2213_PP_2471_PP_4266-R1    1       False  PP_2213_PP_2471_PP_4266   \n",
       "\n",
       "   number_of_grna  isoprenol       dCas9  dCas9_normtocontrol target_1  \\\n",
       "0               3   173.9811  4446120.70             0.513739  PP_0226   \n",
       "1               3   268.6526  6229968.25             0.719859  PP_1319   \n",
       "2               3   182.8489  5220820.10             0.603254  PP_2213   \n",
       "\n",
       "  target_2  ... target_3_norm  target_1_subtract  target_2_subtract  \\\n",
       "0  PP_0897  ...      0.102347      -4.867011e+04      -1.794354e+07   \n",
       "1  PP_1457  ...      0.208580      -1.043328e+06      -2.634598e+06   \n",
       "2  PP_2471  ...      0.029203                NaN      -2.401294e+06   \n",
       "\n",
       "   target_3_subtract  has_missing_control  above_dcas9_thresh  \\\n",
       "0       -1348798.685                False                True   \n",
       "1       -2200610.480                False                True   \n",
       "2       -1525834.815                 True                True   \n",
       "\n",
       "   target_1_belowthresh  target_2_belowthresh  target_3_belowthresh  \\\n",
       "0                  True                  True                  True   \n",
       "1                  True                 False                  True   \n",
       "2                  True                  True                  True   \n",
       "\n",
       "   all_targets_belowthresh  \n",
       "0                     True  \n",
       "1                    False  \n",
       "2                     True  \n",
       "\n",
       "[3 rows x 29 columns]"
      ]
     },
     "execution_count": 64,
     "metadata": {},
     "output_type": "execute_result"
    }
   ],
   "source": [
    "df_target.head(3)"
   ]
  },
  {
   "cell_type": "markdown",
   "id": "4aa5dc20-c7fe-4314-bb1e-8d95fb714db4",
   "metadata": {},
   "source": [
    "### 3.3 Visualize results of filtering"
   ]
  },
  {
   "cell_type": "markdown",
   "id": "c753f936-c0eb-4a7c-bb15-cc4c62c06bb1",
   "metadata": {},
   "source": [
    "Scatter-plot of normalized protein expression for target 1 and target 2 with the thresholds included."
   ]
  },
  {
   "cell_type": "code",
   "execution_count": 65,
   "id": "f09a1b8c-b9a4-48c9-b218-69f6d670ec03",
   "metadata": {
    "tags": []
   },
   "outputs": [
    {
     "data": {
      "text/plain": [
       "<matplotlib.lines.Line2D at 0xffff6b252290>"
      ]
     },
     "execution_count": 65,
     "metadata": {},
     "output_type": "execute_result"
    },
    {
     "data": {
      "image/png": "[encoded data removed]",
      "text/plain": [
       "<Figure size 1000x1000 with 1 Axes>"
      ]
     },
     "metadata": {},
     "output_type": "display_data"
    }
   ],
   "source": [
    "fig, ax = plt.subplots(figsize = (10,10))\n",
    "sns.scatterplot(df_target, x = 'target_1_norm', y = 'target_2_norm', size = 'isoprenol', hue = 'all_targets_belowthresh')\n",
    "ax.axhline(TARGET_THRESH, color = 'k', linestyle = '--')\n",
    "ax.axvline(TARGET_THRESH, color = 'k', linestyle = '--')"
   ]
  },
  {
   "cell_type": "markdown",
   "id": "fdcabd48-1f00-483c-ba5f-180a8b498f08",
   "metadata": {},
   "source": [
    "Isoprenol distribution based on whether all targets are above or below the threshold. "
   ]
  },
  {
   "cell_type": "code",
   "execution_count": 66,
   "id": "2c2a6897-9751-4083-9332-d7f8b1c36727",
   "metadata": {
    "tags": []
   },
   "outputs": [
    {
     "data": {
      "text/plain": [
       "<Axes: xlabel='all_targets_belowthresh', ylabel='isoprenol'>"
      ]
     },
     "execution_count": 66,
     "metadata": {},
     "output_type": "execute_result"
    },
    {
     "data": {
      "image/png": "[encoded data removed]",
      "text/plain": [
       "<Figure size 640x480 with 1 Axes>"
      ]
     },
     "metadata": {},
     "output_type": "display_data"
    }
   ],
   "source": [
    "sns.swarmplot(df_target, y = 'isoprenol', x = 'all_targets_belowthresh')"
   ]
  },
  {
   "cell_type": "markdown",
   "id": "89307e19-8e81-446f-84fc-7e3263c3f3b2",
   "metadata": {},
   "source": [
    "### 3.4. Check whether all replicates are below threshold. "
   ]
  },
  {
   "cell_type": "markdown",
   "id": "89efbab5-aab8-427f-b47a-81efa996adb8",
   "metadata": {},
   "source": [
    "Make a dataframe with Line Names as rows and group by whether all replicates for that line are below the threshold"
   ]
  },
  {
   "cell_type": "code",
   "execution_count": 67,
   "id": "a34fe1da-262a-477f-9447-278182baa2af",
   "metadata": {
    "tags": []
   },
   "outputs": [
    {
     "data": {
      "text/plain": [
       "True"
      ]
     },
     "execution_count": 67,
     "metadata": {},
     "output_type": "execute_result"
    }
   ],
   "source": [
    "df_target_grouped = df_target[['line_name_norep','all_targets_belowthresh']].groupby('line_name_norep').all()\n",
    "df_target_grouped.loc['Control','all_targets_belowthresh']"
   ]
  },
  {
   "cell_type": "code",
   "execution_count": 68,
   "id": "5d2e44e1-a95c-4957-be65-0ea54dd3874c",
   "metadata": {
    "tags": []
   },
   "outputs": [
    {
     "name": "stdout",
     "output_type": "stream",
     "text": [
      "There are N = 30 strains out of N = 58 total strains with all targets below threshold\n"
     ]
    }
   ],
   "source": [
    "print(f'There are N = {df_target_grouped[\"all_targets_belowthresh\"].sum()} strains out of N = {len(df_target_grouped)} total strains with all targets below threshold')"
   ]
  },
  {
   "cell_type": "markdown",
   "id": "b0d4b3f6-4085-454b-8ec6-b1cbf279a7a5",
   "metadata": {},
   "source": [
    "Add field for whether all replicates are below the threshold. "
   ]
  },
  {
   "cell_type": "code",
   "execution_count": 69,
   "id": "d481f216-8c28-48bf-b6a6-656eaea296cd",
   "metadata": {
    "tags": []
   },
   "outputs": [],
   "source": [
    "df_target['all_reps_belowthresh'] = df_target['line_name_norep'].apply(lambda x: df_target_grouped.loc[x, 'all_targets_belowthresh']).astype(bool)"
   ]
  },
  {
   "cell_type": "markdown",
   "id": "0b3bc6f3-4660-45fa-823d-d8d7c0088a20",
   "metadata": {},
   "source": [
    "Plot isoprenol distribution for Lines with all replicates below threshold."
   ]
  },
  {
   "cell_type": "code",
   "execution_count": 70,
   "id": "073f8ff6-4d08-4f60-9e52-df6ed7ac018c",
   "metadata": {
    "tags": []
   },
   "outputs": [
    {
     "data": {
      "text/plain": [
       "<Axes: xlabel='all_reps_belowthresh', ylabel='isoprenol'>"
      ]
     },
     "execution_count": 70,
     "metadata": {},
     "output_type": "execute_result"
    },
    {
     "data": {
      "image/png": "[encoded data removed]",
      "text/plain": [
       "<Figure size 640x480 with 1 Axes>"
      ]
     },
     "metadata": {},
     "output_type": "display_data"
    }
   ],
   "source": [
    "sns.swarmplot(df_target, y = 'isoprenol', x = 'all_reps_belowthresh')"
   ]
  },
  {
   "cell_type": "markdown",
   "id": "933a9a67-efa5-4013-b2a4-9e13c0c01542",
   "metadata": {},
   "source": [
    "### 3.5 Apply filters to lines based on target expression, dcas9 expression, and missing controls"
   ]
  },
  {
   "cell_type": "code",
   "execution_count": 71,
   "id": "ad29994e-c57e-4d99-8450-4240ff138dcc",
   "metadata": {
    "tags": []
   },
   "outputs": [],
   "source": [
    "df_target['to_keep'] = (df_target['all_reps_belowthresh'] | df_target['has_missing_control']) & df_target['above_dcas9_thresh']\n",
    "df_target['to_keep_improved'] = (df_target['all_reps_belowthresh']) & (df_target['above_dcas9_thresh'])"
   ]
  },
  {
   "cell_type": "code",
   "execution_count": 72,
   "id": "79869a1e-393f-49ca-a3d5-a05318e11397",
   "metadata": {
    "tags": []
   },
   "outputs": [
    {
     "data": {
      "text/plain": [
       "array(['PP_0658_PP_0815_PP_4187'], dtype=object)"
      ]
     },
     "execution_count": 72,
     "metadata": {},
     "output_type": "execute_result"
    }
   ],
   "source": [
    "df_target.loc[(df_target['to_keep']) & (~df_target['to_keep_improved']),'line_name_norep'].unique()"
   ]
  },
  {
   "cell_type": "code",
   "execution_count": 73,
   "id": "1c9b8142-0a51-4f63-8b4b-d912128cdf7d",
   "metadata": {
    "tags": []
   },
   "outputs": [
    {
     "data": {
      "text/html": [
       "<div>\n",
       "<style scoped>\n",
       "    .dataframe tbody tr th:only-of-type {\n",
       "        vertical-align: middle;\n",
       "    }\n",
       "\n",
       "    .dataframe tbody tr th {\n",
       "        vertical-align: top;\n",
       "    }\n",
       "\n",
       "    .dataframe thead th {\n",
       "        text-align: right;\n",
       "    }\n",
       "</style>\n",
       "<table border=\"1\" class=\"dataframe\">\n",
       "  <thead>\n",
       "    <tr style=\"text-align: right;\">\n",
       "      <th></th>\n",
       "      <th>target_1</th>\n",
       "      <th>target_1_norm</th>\n",
       "      <th>target_1_belowthresh</th>\n",
       "      <th>target_2</th>\n",
       "      <th>target_2_norm</th>\n",
       "      <th>target_2_belowthresh</th>\n",
       "      <th>all_targets_belowthresh</th>\n",
       "    </tr>\n",
       "  </thead>\n",
       "  <tbody>\n",
       "    <tr>\n",
       "      <th>148</th>\n",
       "      <td>PP_0815</td>\n",
       "      <td>NaN</td>\n",
       "      <td>True</td>\n",
       "      <td>PP_1317</td>\n",
       "      <td>0.012326</td>\n",
       "      <td>True</td>\n",
       "      <td>True</td>\n",
       "    </tr>\n",
       "    <tr>\n",
       "      <th>156</th>\n",
       "      <td>PP_0815</td>\n",
       "      <td>NaN</td>\n",
       "      <td>True</td>\n",
       "      <td>PP_1317</td>\n",
       "      <td>0.009889</td>\n",
       "      <td>True</td>\n",
       "      <td>True</td>\n",
       "    </tr>\n",
       "    <tr>\n",
       "      <th>164</th>\n",
       "      <td>PP_0815</td>\n",
       "      <td>NaN</td>\n",
       "      <td>True</td>\n",
       "      <td>PP_1317</td>\n",
       "      <td>0.012407</td>\n",
       "      <td>True</td>\n",
       "      <td>True</td>\n",
       "    </tr>\n",
       "  </tbody>\n",
       "</table>\n",
       "</div>"
      ],
      "text/plain": [
       "    target_1  target_1_norm  target_1_belowthresh target_2  target_2_norm  \\\n",
       "148  PP_0815            NaN                  True  PP_1317       0.012326   \n",
       "156  PP_0815            NaN                  True  PP_1317       0.009889   \n",
       "164  PP_0815            NaN                  True  PP_1317       0.012407   \n",
       "\n",
       "     target_2_belowthresh all_targets_belowthresh  \n",
       "148                  True                    True  \n",
       "156                  True                    True  \n",
       "164                  True                    True  "
      ]
     },
     "execution_count": 73,
     "metadata": {},
     "output_type": "execute_result"
    }
   ],
   "source": [
    "df_target.loc[df_target['line_name_norep'] == 'PP_0815_PP_1317',['target_1', 'target_1_norm','target_1_belowthresh', 'target_2', 'target_2_norm', 'target_2_belowthresh', 'all_targets_belowthresh']]"
   ]
  },
  {
   "cell_type": "code",
   "execution_count": 74,
   "id": "096bc86c-de3b-4f2c-a8f3-09a237a2eb46",
   "metadata": {
    "tags": []
   },
   "outputs": [
    {
     "data": {
      "text/html": [
       "<div>\n",
       "<style scoped>\n",
       "    .dataframe tbody tr th:only-of-type {\n",
       "        vertical-align: middle;\n",
       "    }\n",
       "\n",
       "    .dataframe tbody tr th {\n",
       "        vertical-align: top;\n",
       "    }\n",
       "\n",
       "    .dataframe thead th {\n",
       "        text-align: right;\n",
       "    }\n",
       "</style>\n",
       "<table border=\"1\" class=\"dataframe\">\n",
       "  <thead>\n",
       "    <tr style=\"text-align: right;\">\n",
       "      <th></th>\n",
       "      <th>Line Name</th>\n",
       "      <th>rep</th>\n",
       "      <th>is_control</th>\n",
       "      <th>line_name_norep</th>\n",
       "      <th>number_of_grna</th>\n",
       "      <th>isoprenol</th>\n",
       "      <th>dCas9</th>\n",
       "      <th>dCas9_normtocontrol</th>\n",
       "      <th>target_1</th>\n",
       "      <th>target_2</th>\n",
       "      <th>...</th>\n",
       "      <th>target_3_subtract</th>\n",
       "      <th>has_missing_control</th>\n",
       "      <th>above_dcas9_thresh</th>\n",
       "      <th>target_1_belowthresh</th>\n",
       "      <th>target_2_belowthresh</th>\n",
       "      <th>target_3_belowthresh</th>\n",
       "      <th>all_targets_belowthresh</th>\n",
       "      <th>all_reps_belowthresh</th>\n",
       "      <th>to_keep</th>\n",
       "      <th>to_keep_improved</th>\n",
       "    </tr>\n",
       "  </thead>\n",
       "  <tbody>\n",
       "    <tr>\n",
       "      <th>0</th>\n",
       "      <td>PP_0226_PP_0897_PP_5288-R1</td>\n",
       "      <td>1</td>\n",
       "      <td>False</td>\n",
       "      <td>PP_0226_PP_0897_PP_5288</td>\n",
       "      <td>3</td>\n",
       "      <td>173.9811</td>\n",
       "      <td>4446120.70</td>\n",
       "      <td>0.513739</td>\n",
       "      <td>PP_0226</td>\n",
       "      <td>PP_0897</td>\n",
       "      <td>...</td>\n",
       "      <td>-1348798.685</td>\n",
       "      <td>False</td>\n",
       "      <td>True</td>\n",
       "      <td>True</td>\n",
       "      <td>True</td>\n",
       "      <td>True</td>\n",
       "      <td>True</td>\n",
       "      <td>True</td>\n",
       "      <td>True</td>\n",
       "      <td>True</td>\n",
       "    </tr>\n",
       "    <tr>\n",
       "      <th>1</th>\n",
       "      <td>PP_1319_PP_1457_PP_4192-R1</td>\n",
       "      <td>1</td>\n",
       "      <td>False</td>\n",
       "      <td>PP_1319_PP_1457_PP_4192</td>\n",
       "      <td>3</td>\n",
       "      <td>268.6526</td>\n",
       "      <td>6229968.25</td>\n",
       "      <td>0.719859</td>\n",
       "      <td>PP_1319</td>\n",
       "      <td>PP_1457</td>\n",
       "      <td>...</td>\n",
       "      <td>-2200610.480</td>\n",
       "      <td>False</td>\n",
       "      <td>True</td>\n",
       "      <td>True</td>\n",
       "      <td>False</td>\n",
       "      <td>True</td>\n",
       "      <td>False</td>\n",
       "      <td>False</td>\n",
       "      <td>False</td>\n",
       "      <td>False</td>\n",
       "    </tr>\n",
       "    <tr>\n",
       "      <th>2</th>\n",
       "      <td>PP_2213_PP_2471_PP_4266-R1</td>\n",
       "      <td>1</td>\n",
       "      <td>False</td>\n",
       "      <td>PP_2213_PP_2471_PP_4266</td>\n",
       "      <td>3</td>\n",
       "      <td>182.8489</td>\n",
       "      <td>5220820.10</td>\n",
       "      <td>0.603254</td>\n",
       "      <td>PP_2213</td>\n",
       "      <td>PP_2471</td>\n",
       "      <td>...</td>\n",
       "      <td>-1525834.815</td>\n",
       "      <td>True</td>\n",
       "      <td>True</td>\n",
       "      <td>True</td>\n",
       "      <td>True</td>\n",
       "      <td>True</td>\n",
       "      <td>True</td>\n",
       "      <td>True</td>\n",
       "      <td>True</td>\n",
       "      <td>True</td>\n",
       "    </tr>\n",
       "  </tbody>\n",
       "</table>\n",
       "<p>3 rows × 32 columns</p>\n",
       "</div>"
      ],
      "text/plain": [
       "                    Line Name  rep  is_control          line_name_norep  \\\n",
       "0  PP_0226_PP_0897_PP_5288-R1    1       False  PP_0226_PP_0897_PP_5288   \n",
       "1  PP_1319_PP_1457_PP_4192-R1    1       False  PP_1319_PP_1457_PP_4192   \n",
       "2  PP_2213_PP_2471_PP_4266-R1    1       False  PP_2213_PP_2471_PP_4266   \n",
       "\n",
       "   number_of_grna  isoprenol       dCas9  dCas9_normtocontrol target_1  \\\n",
       "0               3   173.9811  4446120.70             0.513739  PP_0226   \n",
       "1               3   268.6526  6229968.25             0.719859  PP_1319   \n",
       "2               3   182.8489  5220820.10             0.603254  PP_2213   \n",
       "\n",
       "  target_2  ... target_3_subtract  has_missing_control  above_dcas9_thresh  \\\n",
       "0  PP_0897  ...      -1348798.685                False                True   \n",
       "1  PP_1457  ...      -2200610.480                False                True   \n",
       "2  PP_2471  ...      -1525834.815                 True                True   \n",
       "\n",
       "   target_1_belowthresh  target_2_belowthresh  target_3_belowthresh  \\\n",
       "0                  True                  True                  True   \n",
       "1                  True                 False                  True   \n",
       "2                  True                  True                  True   \n",
       "\n",
       "   all_targets_belowthresh  all_reps_belowthresh  to_keep  to_keep_improved  \n",
       "0                     True                  True     True              True  \n",
       "1                    False                 False    False             False  \n",
       "2                     True                  True     True              True  \n",
       "\n",
       "[3 rows x 32 columns]"
      ]
     },
     "execution_count": 74,
     "metadata": {},
     "output_type": "execute_result"
    }
   ],
   "source": [
    "df_target.head(3)"
   ]
  },
  {
   "cell_type": "code",
   "execution_count": 75,
   "id": "f47f4123-194f-4b72-b821-fc7a592bf5eb",
   "metadata": {
    "tags": []
   },
   "outputs": [
    {
     "data": {
      "text/plain": [
       "Text(0.5, 1.0, 'Titer by final filter - dCas9 thresh = 0.25 - target thresh = 0.5')"
      ]
     },
     "execution_count": 75,
     "metadata": {},
     "output_type": "execute_result"
    },
    {
     "data": {
      "image/png": "[encoded data removed]",
      "text/plain": [
       "<Figure size 640x480 with 1 Axes>"
      ]
     },
     "metadata": {},
     "output_type": "display_data"
    },
    {
     "data": {
      "image/png": "[encoded data removed]",
      "text/plain": [
       "<Figure size 640x480 with 1 Axes>"
      ]
     },
     "metadata": {},
     "output_type": "display_data"
    }
   ],
   "source": [
    "plt.figure()\n",
    "sns.swarmplot(df_target, x = 'to_keep', y = 'isoprenol')\n",
    "plt.title(f'Titer by final filter - dCas9 thresh = {DCAS9_THRESH} - target thresh = {TARGET_THRESH}')\n",
    "plt.figure()\n",
    "sns.swarmplot(df_target, x = 'to_keep_improved', y = 'isoprenol')\n",
    "plt.title(f'Titer by final filter - dCas9 thresh = {DCAS9_THRESH} - target thresh = {TARGET_THRESH}')"
   ]
  },
  {
   "cell_type": "markdown",
   "id": "499ee0e0-fde6-46d2-94fa-596d938e25b7",
   "metadata": {},
   "source": [
    "Save csv with the lines to keep"
   ]
  },
  {
   "cell_type": "code",
   "execution_count": 77,
   "id": "b004a730-126d-4068-92f7-793d60ef07df",
   "metadata": {
    "tags": []
   },
   "outputs": [],
   "source": [
    "lines_to_keep_fname_old = f'./dbtl1_old_filter/filtered_lines_df_dcas9thresh_{DCAS9_THRESH}_targetthresh_{TARGET_THRESH}.csv'\n",
    "lines_to_keep_fname_new = f'./dbtl1_new_filter/filtered_lines_df_dcas9thresh_{DCAS9_THRESH}_targetthresh_{TARGET_THRESH}.csv'\n",
    "lines_to_keep_fname_seed = f'./dbtl1_new_filter_diff_seed/filtered_lines_df_dcas9thresh_{DCAS9_THRESH}_targetthresh_{TARGET_THRESH}.csv'\n",
    "\n",
    "df_target.loc[df_target['to_keep'], ['Line Name', 'line_name_norep','to_keep']].to_csv(lines_to_keep_fname_old)\n",
    "df_target.loc[df_target['to_keep_improved'], ['Line Name', 'line_name_norep','to_keep_improved']].to_csv(lines_to_keep_fname_new)\n",
    "df_target.loc[df_target['to_keep_improved'], ['Line Name', 'line_name_norep','to_keep_improved']].to_csv(lines_to_keep_fname_seed)\n"
   ]
  },
  {
   "cell_type": "code",
   "execution_count": null,
   "id": "4cf8fea7-948e-45f8-b576-f6cabd27ee90",
   "metadata": {
    "tags": []
   },
   "outputs": [],
   "source": [
    "print(f\"After filtering, keeping N = {len(df_target.loc[df_target['to_keep'], 'line_name_norep'].unique())} lines out of N = {len(df_target.loc[~df_target['to_keep'], 'line_name_norep'].unique())} total lines\")"
   ]
  },
  {
   "cell_type": "markdown",
   "id": "0b6cab4a-09f5-4f6c-bfc4-3e67898454af",
   "metadata": {},
   "source": [
    "## 4. Proteomics plots"
   ]
  },
  {
   "cell_type": "markdown",
   "id": "995f70ca-59bf-47ea-a5a1-88446852481c",
   "metadata": {},
   "source": [
    "Plot dCas9 expression against target expression and filter by whether the proteins are above or below the threshold."
   ]
  },
  {
   "cell_type": "code",
   "execution_count": null,
   "id": "ba973fc7-a279-4c89-94b6-93898b80ff82",
   "metadata": {
    "tags": []
   },
   "outputs": [],
   "source": [
    "fig, ax = plt.subplots(nrows =1, ncols = 3, figsize = (12,4), sharex=True, sharey=True)\n",
    "sns.scatterplot(df_target, x = 'dCas9_normtocontrol', y = 'target_1_norm', hue = 'above_dcas9_thresh', ax = ax[0], palette = 'mako')\n",
    "sns.scatterplot(df_target, x = 'dCas9_normtocontrol', y = 'target_2_norm', hue = 'above_dcas9_thresh', ax = ax[1], palette = 'mako')\n",
    "sns.scatterplot(df_target, x = 'dCas9_normtocontrol', y = 'target_3_norm', hue = 'above_dcas9_thresh', ax = ax[2], palette = 'mako')\n",
    "fig.tight_layout()\n",
    "fig.savefig('./dCas9_vs_target_normalized_scatter.png')"
   ]
  },
  {
   "cell_type": "code",
   "execution_count": null,
   "id": "7ada9438-35d6-44f3-aa4b-9714e0d8d70e",
   "metadata": {
    "tags": []
   },
   "outputs": [],
   "source": [
    "fig, ax = plt.subplots(nrows =1, ncols = 3, figsize = (12,4), sharex=True, sharey=True)\n",
    "sns.scatterplot(df_target, x = 'dCas9_normtocontrol', y = 'target_1_norm', hue = 'to_keep', ax = ax[0], palette = 'mako')\n",
    "sns.scatterplot(df_target, x = 'dCas9_normtocontrol', y = 'target_2_norm', hue = 'to_keep', ax = ax[1], palette = 'mako')\n",
    "sns.scatterplot(df_target, x = 'dCas9_normtocontrol', y = 'target_3_norm', hue = 'to_keep', ax = ax[2], palette = 'mako')\n",
    "plt.suptitle('Old Filter')\n",
    "fig.tight_layout()\n",
    "# fig.savefig('dbtl1_proteomics_analysis/dCas9_vs_target_normalized_scatter.png')"
   ]
  },
  {
   "cell_type": "code",
   "execution_count": null,
   "id": "1edb6b56-6085-461c-a38a-4929232bf704",
   "metadata": {
    "tags": []
   },
   "outputs": [],
   "source": [
    "fig, ax = plt.subplots(nrows =1, ncols = 3, figsize = (12,4), sharex=True, sharey=True)\n",
    "sns.scatterplot(df_target, x = 'dCas9_normtocontrol', y = 'target_1_norm', hue = 'to_keep_improved', ax = ax[0], palette = 'mako')\n",
    "sns.scatterplot(df_target, x = 'dCas9_normtocontrol', y = 'target_2_norm', hue = 'to_keep_improved', ax = ax[1], palette = 'mako')\n",
    "sns.scatterplot(df_target, x = 'dCas9_normtocontrol', y = 'target_3_norm', hue = 'to_keep_improved', ax = ax[2], palette = 'mako')\n",
    "plt.suptitle('Corrected Filter')\n",
    "fig.tight_layout()\n",
    "# fig.savefig('dbtl1_proteomics_analysis/dCas9_vs_target_normalized_scatter.png')"
   ]
  },
  {
   "cell_type": "markdown",
   "id": "7fd69857-5ebd-4312-9e70-56a61ae9a244",
   "metadata": {},
   "source": [
    "Plot normalized target expression vs total target expression."
   ]
  },
  {
   "cell_type": "code",
   "execution_count": null,
   "id": "e6ad75be-6df5-4563-be03-8f314b864dc9",
   "metadata": {
    "tags": []
   },
   "outputs": [],
   "source": [
    "fig, ax = plt.subplots(nrows =1, ncols = 3, figsize = (12,4), sharex=True, sharey=True)\n",
    "sns.scatterplot(df_target, x = 'target_1_value', y = 'target_1_norm', hue = 'above_dcas9_thresh', ax = ax[0], palette = 'mako')\n",
    "sns.scatterplot(df_target, x = 'target_2_value', y = 'target_2_norm', hue = 'above_dcas9_thresh', ax = ax[1], palette = 'mako')\n",
    "sns.scatterplot(df_target, x = 'target_3_value', y = 'target_3_norm', hue = 'above_dcas9_thresh', ax = ax[2], palette = 'mako')\n",
    "[axis.set_xscale('log') for axis in ax]\n",
    "[axis.axhline(1, color = 'k', linestyle = '--') for axis in ax]\n",
    "fig.tight_layout()\n",
    "fig.savefig('dbtl1_proteomics_analysis/target_vs_target_normalized_scatter.png')"
   ]
  },
  {
   "cell_type": "markdown",
   "id": "3ff755f6-3507-4d41-bcd6-5e80d5ff3a9f",
   "metadata": {},
   "source": [
    "Plot the measurement of each target in the targeted strain vs the measurement of that protein in the control."
   ]
  },
  {
   "cell_type": "code",
   "execution_count": null,
   "id": "bb241054-63db-4315-8687-30dfcefde02b",
   "metadata": {
    "tags": []
   },
   "outputs": [],
   "source": [
    "fig, ax = plt.subplots(nrows =1, ncols = 3, figsize = (12,4), sharex=True, sharey=True)\n",
    "sns.scatterplot(df_target, x = 'target_1_value', y = 'target_1_control', hue = 'above_dcas9_thresh', ax = ax[0], palette = 'mako')\n",
    "sns.scatterplot(df_target, x = 'target_2_value', y = 'target_2_control', hue = 'above_dcas9_thresh', ax = ax[1], palette = 'mako')\n",
    "sns.scatterplot(df_target, x = 'target_3_value', y = 'target_3_control', hue = 'above_dcas9_thresh', ax = ax[2], palette = 'mako')\n",
    "[axis.set_xscale('log') for axis in ax]\n",
    "[axis.set_yscale('log') for axis in ax]\n",
    "[axis.plot([0,1e8], [0, 1e8], 'k') for axis in ax]\n",
    "fig.tight_layout()\n",
    "# fig.savefig('dbtl1_proteomics_analysis/target_vs_target_normalized_scatter.png')"
   ]
  },
  {
   "cell_type": "markdown",
   "id": "e916fcca-f1cf-4435-b63c-6b7653daf0b3",
   "metadata": {},
   "source": [
    "Add normalized isoprenol to plot"
   ]
  },
  {
   "cell_type": "code",
   "execution_count": null,
   "id": "aadfa134-ad1e-454e-90b9-bb6996160e26",
   "metadata": {
    "tags": []
   },
   "outputs": [],
   "source": [
    "mean_control_isoprenol = np.mean(df_target.loc[df_target['is_control'], 'isoprenol'])\n",
    "df_target['isoprenol_norm'] = df_target['isoprenol']/mean_control_isoprenol"
   ]
  },
  {
   "cell_type": "markdown",
   "id": "309200b7-5398-45ae-86be-8da4d04352a8",
   "metadata": {},
   "source": [
    "Melt dataframe to plot bargraph."
   ]
  },
  {
   "cell_type": "code",
   "execution_count": null,
   "id": "66105994-71fe-49a5-8e8d-5a0937f03ba3",
   "metadata": {
    "tags": []
   },
   "outputs": [],
   "source": [
    "df_bar = pd.melt(df_target[~df_target['above_dcas9_thresh']].sort_values(by= 'Line Name'), id_vars = ['Line Name', 'line_name_norep'], value_vars=['target_1_norm', 'target_2_norm', 'dCas9_normtocontrol'])\n",
    "df_bar"
   ]
  },
  {
   "cell_type": "markdown",
   "id": "4cc383fe-46ed-4bb0-a8f6-8b0179267bce",
   "metadata": {},
   "source": [
    "Bar graph of normalized dCas9 and target 1 and 2 expression for strains that failed filter."
   ]
  },
  {
   "cell_type": "code",
   "execution_count": null,
   "id": "91958f6c-189b-4652-bc0f-6276ed9fdb75",
   "metadata": {
    "tags": []
   },
   "outputs": [],
   "source": [
    "fig, ax = plt.subplots(figsize = (8,12))\n",
    "sns.barplot(df_bar, y = 'Line Name', x = 'value', hue = 'variable', ax = ax)\n",
    "ax.axvline(0.25, color = 'k')\n",
    "ax.axvline(1, color = 'k', linestyle = '--')\n",
    "# fig.legend(['target 1 norm', 'dCas9 norm', 'target 2 norm', 'dCas9 threshold', '1'])\n",
    "fig.tight_layout()\n",
    "fig.savefig('dbtl1_proteomics_analysis/bar_graph_for_failing_strains_sortbyname.png')"
   ]
  },
  {
   "cell_type": "code",
   "execution_count": null,
   "id": "d131517f-dab7-4dec-bbd6-8ff71adcf10d",
   "metadata": {
    "tags": []
   },
   "outputs": [],
   "source": [
    "fig, ax = plt.subplots(figsize = (15,8))\n",
    "bp = sns.barplot(df_bar, x = 'Line Name', y = 'value', hue = 'variable', ax = ax)\n",
    "ax.axhline(0.25, color = 'k')\n",
    "ax.axhline(1, color = 'k', linestyle = '--')\n",
    "bp.set_xticklabels(bp.get_xticklabels(), \n",
    "                          rotation=45, \n",
    "                          horizontalalignment='right')\n",
    "fig.tight_layout()\n",
    "fig.savefig('dbtl1_proteomics_analysis/bar_graph_for_failing_strains_sortbyname_rotate.png')"
   ]
  },
  {
   "cell_type": "markdown",
   "id": "38344d4a-8396-4f99-b760-8f78a7e86140",
   "metadata": {},
   "source": [
    "Plot distribution of isoprenol based on passing dCas9 threshold."
   ]
  },
  {
   "cell_type": "code",
   "execution_count": null,
   "id": "73352164-74ed-458c-a3cf-c70e8a726a8b",
   "metadata": {
    "tags": []
   },
   "outputs": [],
   "source": [
    "fig, ax = plt.subplots(figsize = (5,8))\n",
    "sns.swarmplot(df_target, y = 'isoprenol_norm', x = 'above_dcas9_thresh', hue = 'above_dcas9_thresh', palette= 'mako')"
   ]
  },
  {
   "cell_type": "markdown",
   "id": "23feb8f9-b3a3-489d-b38c-f574141159d4",
   "metadata": {},
   "source": [
    "Scatter plot of normalized target expression with information on dCas9 levels (size and color)"
   ]
  },
  {
   "cell_type": "code",
   "execution_count": null,
   "id": "bd322f81-0d90-4e59-9301-cd4c7faec75b",
   "metadata": {
    "tags": []
   },
   "outputs": [],
   "source": [
    "fig, ax = plt.subplots(figsize = (10,10))\n",
    "sns.scatterplot(df_target, x = 'target_1_norm', y = 'target_2_norm', size = 'dCas9_normtocontrol', hue = 'above_dcas9_thresh', palette = 'mako')\n",
    "fig.savefig('Crispri_dcas9_eval.png')"
   ]
  },
  {
   "cell_type": "markdown",
   "id": "35879a2b-d71d-46cf-aa0e-4aef35b0994d",
   "metadata": {},
   "source": [
    "Scatter plot of non-normalized target expression with information on dCas9 levels (size and color)"
   ]
  },
  {
   "cell_type": "code",
   "execution_count": null,
   "id": "274828bd-f4b4-4951-a898-29409dfdce88",
   "metadata": {
    "tags": []
   },
   "outputs": [],
   "source": [
    "fig, ax = plt.subplots(figsize = (10,10))\n",
    "sns.scatterplot(df_target, x = 'target_1_value', y = 'target_2_value', size = 'dCas9_normtocontrol', hue = 'above_dcas9_thresh', palette = 'mako')\n",
    "ax.set_xscale('log')\n",
    "ax.set_yscale('log')"
   ]
  },
  {
   "cell_type": "code",
   "execution_count": null,
   "id": "6302cdf1-0e60-4eb1-8838-07009b67dd70",
   "metadata": {
    "tags": []
   },
   "outputs": [],
   "source": [
    "fig, ax = plt.subplots(figsize = (6,3))\n",
    "ax.set_yscale('log')\n",
    "sns.swarmplot(data = df_target, y = 'dCas9',x = 'number_of_grna', ax = ax)\n",
    "# ax.set_ylim([-1e6, 1e6])\n",
    "ax.axhline(0, color = 'k')\n",
    "print(df_target['dCas9'].min())"
   ]
  }
 ],
 "metadata": {
  "kernelspec": {
   "display_name": "Python 3 (ipykernel)",
   "language": "python",
   "name": "python3"
  },
  "language_info": {
   "codemirror_mode": {
    "name": "ipython",
    "version": 3
   },
   "file_extension": ".py",
   "mimetype": "text/x-python",
   "name": "python",
   "nbconvert_exporter": "python",
   "pygments_lexer": "ipython3",
   "version": "3.11.6"
  }
 },
 "nbformat": 4,
 "nbformat_minor": 5
}
