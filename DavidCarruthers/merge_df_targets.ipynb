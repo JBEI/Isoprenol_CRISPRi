{
 "cells": [
  {
   "cell_type": "markdown",
   "id": "cb5caaa9-f5c0-4ff0-9f4b-37dd0f47e709",
   "metadata": {},
   "source": [
    "# Merge filter files\n",
    "Each DBTL file proteomics analysis (DBTL[1-6]_A_analyze_proteomics.ipynb) generates a file containing the filtering criteria and results for each strain from that cycle.  In this notebook I merge them to generate plots of all cycles."
   ]
  },
  {
   "cell_type": "code",
   "execution_count": 1,
   "id": "6230c512-ffdb-43a7-8e35-f4d6ebeda4c1",
   "metadata": {},
   "outputs": [],
   "source": [
    "import pandas as pd\n",
    "import numpy as np\n",
    "import seaborn as sns\n",
    "import matplotlib.pyplot as plt"
   ]
  },
  {
   "cell_type": "code",
   "execution_count": 3,
   "id": "e0e0c018-56b8-4a1b-97f4-e7938fdef6bb",
   "metadata": {},
   "outputs": [],
   "source": [
    "file_names = [\n",
    "    './DBTL0_results/dbtl0_df_target.csv',\n",
    "    'dbtl1_figures_and_analysis/dbtl1_df_target.csv',\n",
    "    'dbtl2_figures_and_analysis/dbtl2_df_target.csv', \n",
    "    'dbtl3_figures_and_analysis/dbtl3_df_target.csv',\n",
    "    'dbtl4_figures_and_analysis/dbtl4_df_target.csv', \n",
    "    'dbtl5_figures_and_analysis/dbtl5_df_target.csv',\n",
    "    'dbtl6_figures_and_analysis/dbtl6_df_target.csv'\n",
    "]\n",
    "dfs = []\n",
    "c = []\n",
    "for i, f in enumerate(file_names):\n",
    "    df = pd.read_csv(f, index_col = 0)\n",
    "    df['cycle'] = i\n",
    "    dfs.append(df)\n",
    "    c.append(df.columns)"
   ]
  },
  {
   "cell_type": "code",
   "execution_count": 4,
   "id": "8d1db4c6-6d28-493a-a43f-176f80a7459b",
   "metadata": {},
   "outputs": [],
   "source": [
    "for ci in c:\n",
    "    assert all(ci == c[0]), 'ERROR: one column set is not the same'"
   ]
  },
  {
   "cell_type": "code",
   "execution_count": 5,
   "id": "429bf1ae-d2e7-4fc3-9d38-67c824fcfbf6",
   "metadata": {},
   "outputs": [
    {
     "data": {
      "text/plain": [
       "Index(['Line Name', 'rep', 'is_control', 'line_name_norep', 'number_of_grna',\n",
       "       'isoprenol', 'dCas9', 'dCas9_normtocontrol', 'target_1', 'target_2',\n",
       "       'target_3', 'target_4', 'target_1_value', 'target_2_value',\n",
       "       'target_3_value', 'target_4_value', 'target_1_control',\n",
       "       'target_2_control', 'target_3_control', 'target_4_control',\n",
       "       'target_1_norm', 'target_2_norm', 'target_3_norm', 'target_4_norm',\n",
       "       'has_missing_control', 'above_dcas9_thresh', 'target_1_belowthresh',\n",
       "       'target_2_belowthresh', 'target_3_belowthresh', 'target_4_belowthresh',\n",
       "       'all_targets_belowthresh', 'all_reps_belowthresh',\n",
       "       'all_reps_above_dcas9_thresh', 'to_keep', 'to_keep_improved', 'cycle'],\n",
       "      dtype='object')"
      ]
     },
     "execution_count": 5,
     "metadata": {},
     "output_type": "execute_result"
    }
   ],
   "source": [
    "c[0]"
   ]
  },
  {
   "cell_type": "code",
   "execution_count": 6,
   "id": "822f4152-f131-4e69-bda0-e4153a872d1e",
   "metadata": {},
   "outputs": [
    {
     "name": "stdout",
     "output_type": "stream",
     "text": [
      "Concat df shape: (1506, 36)\n"
     ]
    }
   ],
   "source": [
    "df = pd.concat(dfs, axis = 0, ignore_index = True)\n",
    "print(f'Concat df shape: {df.shape}')"
   ]
  },
  {
   "cell_type": "markdown",
   "id": "6f2e2bae-b43a-4f88-9c20-cb9bdbad7d98",
   "metadata": {},
   "source": [
    "Reorder the columns to put the 'cycle' column near the front and drop unneeded columns."
   ]
  },
  {
   "cell_type": "code",
   "execution_count": 7,
   "id": "15dedaef-7f0d-4313-ad93-3ca568b21867",
   "metadata": {},
   "outputs": [
    {
     "data": {
      "text/html": [
       "<div>\n",
       "<style scoped>\n",
       "    .dataframe tbody tr th:only-of-type {\n",
       "        vertical-align: middle;\n",
       "    }\n",
       "\n",
       "    .dataframe tbody tr th {\n",
       "        vertical-align: top;\n",
       "    }\n",
       "\n",
       "    .dataframe thead th {\n",
       "        text-align: right;\n",
       "    }\n",
       "</style>\n",
       "<table border=\"1\" class=\"dataframe\">\n",
       "  <thead>\n",
       "    <tr style=\"text-align: right;\">\n",
       "      <th></th>\n",
       "      <th>Line Name</th>\n",
       "      <th>cycle</th>\n",
       "      <th>is_control</th>\n",
       "      <th>line_name_norep</th>\n",
       "      <th>number_of_grna</th>\n",
       "      <th>isoprenol</th>\n",
       "      <th>dCas9</th>\n",
       "      <th>dCas9_normtocontrol</th>\n",
       "      <th>target_1</th>\n",
       "      <th>target_2</th>\n",
       "      <th>...</th>\n",
       "      <th>above_dcas9_thresh</th>\n",
       "      <th>target_1_belowthresh</th>\n",
       "      <th>target_2_belowthresh</th>\n",
       "      <th>target_3_belowthresh</th>\n",
       "      <th>target_4_belowthresh</th>\n",
       "      <th>all_targets_belowthresh</th>\n",
       "      <th>all_reps_belowthresh</th>\n",
       "      <th>all_reps_above_dcas9_thresh</th>\n",
       "      <th>to_keep</th>\n",
       "      <th>to_keep_improved</th>\n",
       "    </tr>\n",
       "  </thead>\n",
       "  <tbody>\n",
       "    <tr>\n",
       "      <th>0</th>\n",
       "      <td>Control-R1</td>\n",
       "      <td>0</td>\n",
       "      <td>True</td>\n",
       "      <td>Control</td>\n",
       "      <td>0</td>\n",
       "      <td>177.33700</td>\n",
       "      <td>23396190.6</td>\n",
       "      <td>1.007405</td>\n",
       "      <td>NaN</td>\n",
       "      <td>NaN</td>\n",
       "      <td>...</td>\n",
       "      <td>True</td>\n",
       "      <td>False</td>\n",
       "      <td>False</td>\n",
       "      <td>False</td>\n",
       "      <td>False</td>\n",
       "      <td>True</td>\n",
       "      <td>True</td>\n",
       "      <td>True</td>\n",
       "      <td>NaN</td>\n",
       "      <td>True</td>\n",
       "    </tr>\n",
       "    <tr>\n",
       "      <th>1</th>\n",
       "      <td>Control-R10</td>\n",
       "      <td>0</td>\n",
       "      <td>True</td>\n",
       "      <td>Control</td>\n",
       "      <td>0</td>\n",
       "      <td>176.13507</td>\n",
       "      <td>28115139.4</td>\n",
       "      <td>1.275427</td>\n",
       "      <td>NaN</td>\n",
       "      <td>NaN</td>\n",
       "      <td>...</td>\n",
       "      <td>True</td>\n",
       "      <td>False</td>\n",
       "      <td>False</td>\n",
       "      <td>False</td>\n",
       "      <td>False</td>\n",
       "      <td>True</td>\n",
       "      <td>True</td>\n",
       "      <td>True</td>\n",
       "      <td>NaN</td>\n",
       "      <td>True</td>\n",
       "    </tr>\n",
       "    <tr>\n",
       "      <th>2</th>\n",
       "      <td>Control-R11</td>\n",
       "      <td>0</td>\n",
       "      <td>True</td>\n",
       "      <td>Control</td>\n",
       "      <td>0</td>\n",
       "      <td>192.63713</td>\n",
       "      <td>24151481.4</td>\n",
       "      <td>1.095618</td>\n",
       "      <td>NaN</td>\n",
       "      <td>NaN</td>\n",
       "      <td>...</td>\n",
       "      <td>True</td>\n",
       "      <td>False</td>\n",
       "      <td>False</td>\n",
       "      <td>False</td>\n",
       "      <td>False</td>\n",
       "      <td>True</td>\n",
       "      <td>True</td>\n",
       "      <td>True</td>\n",
       "      <td>NaN</td>\n",
       "      <td>True</td>\n",
       "    </tr>\n",
       "  </tbody>\n",
       "</table>\n",
       "<p>3 rows × 35 columns</p>\n",
       "</div>"
      ],
      "text/plain": [
       "     Line Name  cycle  is_control line_name_norep  number_of_grna  isoprenol  \\\n",
       "0   Control-R1      0        True         Control               0  177.33700   \n",
       "1  Control-R10      0        True         Control               0  176.13507   \n",
       "2  Control-R11      0        True         Control               0  192.63713   \n",
       "\n",
       "        dCas9  dCas9_normtocontrol target_1 target_2  ... above_dcas9_thresh  \\\n",
       "0  23396190.6             1.007405      NaN      NaN  ...               True   \n",
       "1  28115139.4             1.275427      NaN      NaN  ...               True   \n",
       "2  24151481.4             1.095618      NaN      NaN  ...               True   \n",
       "\n",
       "  target_1_belowthresh  target_2_belowthresh  target_3_belowthresh  \\\n",
       "0                False                 False                 False   \n",
       "1                False                 False                 False   \n",
       "2                False                 False                 False   \n",
       "\n",
       "   target_4_belowthresh  all_targets_belowthresh  all_reps_belowthresh  \\\n",
       "0                 False                     True                  True   \n",
       "1                 False                     True                  True   \n",
       "2                 False                     True                  True   \n",
       "\n",
       "   all_reps_above_dcas9_thresh  to_keep  to_keep_improved  \n",
       "0                         True      NaN              True  \n",
       "1                         True      NaN              True  \n",
       "2                         True      NaN              True  \n",
       "\n",
       "[3 rows x 35 columns]"
      ]
     },
     "execution_count": 7,
     "metadata": {},
     "output_type": "execute_result"
    }
   ],
   "source": [
    "old_cols = list(df.columns)\n",
    "new_cols = old_cols[0:1] + [old_cols[-1]] + old_cols[2:-1]\n",
    "df = df[new_cols]\n",
    "df.head(3)"
   ]
  },
  {
   "cell_type": "code",
   "execution_count": 8,
   "id": "62bfc53b-c42a-487d-b15c-fad28e2cfbfa",
   "metadata": {},
   "outputs": [],
   "source": [
    "df.to_csv('df_target_all.csv')"
   ]
  }
 ],
 "metadata": {
  "kernelspec": {
   "display_name": "Python 3 (ipykernel)",
   "language": "python",
   "name": "python3"
  },
  "language_info": {
   "codemirror_mode": {
    "name": "ipython",
    "version": 3
   },
   "file_extension": ".py",
   "mimetype": "text/x-python",
   "name": "python",
   "nbconvert_exporter": "python",
   "pygments_lexer": "ipython3",
   "version": "3.12.6"
  }
 },
 "nbformat": 4,
 "nbformat_minor": 5
}
