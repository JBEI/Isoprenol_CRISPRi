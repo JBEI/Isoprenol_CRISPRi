{
 "cells": [
  {
   "cell_type": "markdown",
   "id": "86ee50b3",
   "metadata": {},
   "source": [
    "**Chose targets sandbox**\n",
    "For checking how the choose_targets code works with some sample data"
   ]
  },
  {
   "cell_type": "code",
   "execution_count": 30,
   "id": "cd862b1a",
   "metadata": {},
   "outputs": [],
   "source": [
    "import numpy as np\n",
    "import random\n",
    "import matplotlib.pyplot as plt"
   ]
  },
  {
   "cell_type": "code",
   "execution_count": 1,
   "id": "875a9ba8",
   "metadata": {},
   "outputs": [],
   "source": [
    "def choose_targets(df_targets, size, n_instances, weighting=True, verbose=0):\n",
    "    \"Choose recommended double and triple targets for CRISPRi knockdown\"\n",
    "\n",
    "    targets_list = list(df_targets['Target'])\n",
    "    targets = set()\n",
    "    tries = 0\n",
    "    if weighting:\n",
    "        weights = df_targets['Weight']\n",
    "    else:\n",
    "        weights = None\n",
    "    \n",
    "    while len(targets) < n_instances:\n",
    "        new_target = tuple(sorted(random.sample(\n",
    "            targets_list, counts=weights, k=size\n",
    "        ))) # random sampling without replacement\n",
    "        # new_target = sorted(random.choices(targets_list, weights=weights, k=size))\n",
    "        # Check that the targets are not the same (sample function could provide repeated targets)\n",
    "        # and if the combination was already chosen\n",
    "        if len(set(new_target)) == size and new_target not in targets:\n",
    "            targets.add(new_target)\n",
    "        tries += 1\n",
    "        \n",
    "    if verbose:\n",
    "        print(tries)\n",
    "        \n",
    "    return list(targets)"
   ]
  },
  {
   "cell_type": "code",
   "execution_count": null,
   "id": "820c2a01",
   "metadata": {},
   "outputs": [],
   "source": []
  },
  {
   "cell_type": "code",
   "execution_count": 33,
   "id": "41438019",
   "metadata": {},
   "outputs": [
    {
     "name": "stdout",
     "output_type": "stream",
     "text": [
      "[1, 11, 21, 31, 41, 51, 61]\n"
     ]
    },
    {
     "data": {
      "text/plain": [
       "<matplotlib.collections.PathCollection at 0x134ce2a50>"
      ]
     },
     "execution_count": 33,
     "metadata": {},
     "output_type": "execute_result"
    },
    {
     "data": {
      "image/png": "[encoded data removed]",
      "text/plain": [
       "<Figure size 640x480 with 1 Axes>"
      ]
     },
     "metadata": {},
     "output_type": "display_data"
    }
   ],
   "source": [
    "gene = ['a', 'b', 'c', 'd', 'e', 'f', 'g']\n",
    "wts = np.ones((len(gene),1)).astype(int)\n",
    "wts = [1]*len(gene)\n",
    "wts = [1+(ii*10) for ii in range(len(gene))]\n",
    "\n",
    "print(wts)\n",
    "targets = set()\n",
    "tries = 0\n",
    "n_samples = 100\n",
    "all_samples = []\n",
    "for ii in range(n_samples):\n",
    "    new_target = tuple(sorted(random.sample(gene, counts = wts, k=2)))\n",
    "    all_samples.append(new_target[0])\n",
    "    all_samples.append(new_target[1])\n",
    "all_samples.index('a')\n",
    "sample_counts = [all_samples.index(g) for g in gene]\n",
    "#Plot\n",
    "plt.figure()\n",
    "plt.scatter(wts, sample_counts)\n",
    "\n",
    "\n",
    "\n"
   ]
  },
  {
   "cell_type": "code",
   "execution_count": 35,
   "id": "2ab09fac",
   "metadata": {},
   "outputs": [
    {
     "name": "stdout",
     "output_type": "stream",
     "text": [
      "['a', 'b']\n",
      "['a', 'b']\n"
     ]
    }
   ],
   "source": [
    "#Check if current code chooses between ['a', 'b'] and ['b', 'a']\n",
    "\n",
    "c1 = ['a', 'b']\n",
    "c2 = ['b','a']\n",
    "\n",
    "sorted1 = sorted(c1)\n",
    "print(sorted1)\n",
    "sorted2 = sorted(c2)\n",
    "print(sorted2)"
   ]
  }
 ],
 "metadata": {
  "kernelspec": {
   "display_name": "Python 3 (ipykernel)",
   "language": "python",
   "name": "python3"
  },
  "language_info": {
   "codemirror_mode": {
    "name": "ipython",
    "version": 3
   },
   "file_extension": ".py",
   "mimetype": "text/x-python",
   "name": "python",
   "nbconvert_exporter": "python",
   "pygments_lexer": "ipython3",
   "version": "3.11.3"
  }
 },
 "nbformat": 4,
 "nbformat_minor": 5
}
