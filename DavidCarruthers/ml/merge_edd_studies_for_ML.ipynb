{
 "cells": [
  {
   "cell_type": "markdown",
   "id": "d0ca04fe-f24b-44a1-bb83-09508e1a6e43",
   "metadata": {},
   "source": [
    "# Import EDD data for ML\n",
    "This workbook is meant to import proteomics/isoprenol data from EDD for CRISPRi DBTL cycles and format it for ML e.g. a wide matrix where each row is a different line and columns are different features. Dataframe should be formatted as:\n",
    "\n",
    "[metadata (line name, targets) | Proteomics data | isoprenol]"
   ]
  },
  {
   "cell_type": "markdown",
   "id": "212521a3-c3a4-4dbd-9739-8950315902fa",
   "metadata": {},
   "source": [
    "Import packages"
   ]
  },
  {
   "cell_type": "code",
   "execution_count": 1,
   "id": "6d71a92a-634b-4141-97dd-01089271e0e7",
   "metadata": {
    "tags": []
   },
   "outputs": [],
   "source": [
    "import edd_utils as eddu\n",
    "import pandas as pd\n",
    "import numpy as np\n",
    "import matplotlib.pyplot as plt\n",
    "import seaborn as sns\n",
    "import re \n",
    "import random\n",
    "random.seed(1)"
   ]
  },
  {
   "cell_type": "markdown",
   "id": "ecbdd09a-7158-4b9b-bfea-8ed5c3f01bec",
   "metadata": {},
   "source": [
    "## Import data from EDD"
   ]
  },
  {
   "cell_type": "markdown",
   "id": "34e45ba8-e158-45eb-b972-a37651724e47",
   "metadata": {},
   "source": [
    "Define EDD import data"
   ]
  },
  {
   "cell_type": "code",
   "execution_count": 2,
   "id": "d15d0615-4fd1-4ff6-819a-d604160bdd38",
   "metadata": {},
   "outputs": [],
   "source": [
    "study_slug_1 = 'crispri-automation-for-enhanced-isoprenol-pro-096d'\n",
    "study_slug_2 = 'crispri-automation-for-enhanced-isoprenol-pro-fca3'\n",
    "study_slug_3 = 'crispri-automation-for-enhanced-isoprenol-pro-05e7'\n",
    "study_slug_4 = 'crispri-automation-for-enhanced-isoprenol-pro-a97b'\n",
    "study_slug_5 = 'crispri-automation-for-enhanced-isoprenol-pro-9d3d'\n",
    "edd_server   = 'edd.jbei.org'\n",
    "username     = 'pckinnunen'"
   ]
  },
  {
   "cell_type": "markdown",
   "id": "a7defa96-60ce-49a3-b364-50ca9d709b38",
   "metadata": {},
   "source": [
    "Open EDD session"
   ]
  },
  {
   "cell_type": "code",
   "execution_count": 3,
   "id": "bc21b754-b24b-42ef-8530-31e990c320fc",
   "metadata": {},
   "outputs": [
    {
     "name": "stdin",
     "output_type": "stream",
     "text": [
      "Password for pckinnunen:  ········\n"
     ]
    },
    {
     "name": "stdout",
     "output_type": "stream",
     "text": [
      "OK! Connection to EDD successful. We will try to load data from EDD...\n"
     ]
    }
   ],
   "source": [
    "try:\n",
    "    session = eddu.login(edd_server=edd_server, user=username)\n",
    "except:\n",
    "    print('ERROR! Connection to EDD failed. We will try to load data from disk...')\n",
    "else:\n",
    "    print('OK! Connection to EDD successful. We will try to load data from EDD...')"
   ]
  },
  {
   "cell_type": "markdown",
   "id": "60c527ee-07b6-4726-b72e-c775a3c2e4d9",
   "metadata": {},
   "source": [
    "Import data"
   ]
  },
  {
   "cell_type": "code",
   "execution_count": 4,
   "id": "1999eba7-aa23-47f3-9286-c10eb8183527",
   "metadata": {
    "tags": []
   },
   "outputs": [
    {
     "data": {
      "application/vnd.jupyter.widget-view+json": {
       "model_id": "5592b12a18a34b31aea7f4055eb32c3b",
       "version_major": 2,
       "version_minor": 0
      },
      "text/plain": [
       "  0%|          | 0/1033140 [00:00<?, ?it/s]"
      ]
     },
     "metadata": {},
     "output_type": "display_data"
    },
    {
     "data": {
      "application/vnd.jupyter.widget-view+json": {
       "model_id": "11fcfafe919442bfa27628342bda0fcf",
       "version_major": 2,
       "version_minor": 0
      },
      "text/plain": [
       "  0%|          | 0/475488 [00:00<?, ?it/s]"
      ]
     },
     "metadata": {},
     "output_type": "display_data"
    },
    {
     "data": {
      "application/vnd.jupyter.widget-view+json": {
       "model_id": "fa812a6817874850b0dadca3ca2c5ea9",
       "version_major": 2,
       "version_minor": 0
      },
      "text/plain": [
       "  0%|          | 0/420288 [00:00<?, ?it/s]"
      ]
     },
     "metadata": {},
     "output_type": "display_data"
    },
    {
     "data": {
      "application/vnd.jupyter.widget-view+json": {
       "model_id": "2eeee2f244f141f89bfccba33e03f269",
       "version_major": 2,
       "version_minor": 0
      },
      "text/plain": [
       "  0%|          | 0/411567 [00:00<?, ?it/s]"
      ]
     },
     "metadata": {},
     "output_type": "display_data"
    },
    {
     "data": {
      "application/vnd.jupyter.widget-view+json": {
       "model_id": "843b0a07d61545139728766bea331c75",
       "version_major": 2,
       "version_minor": 0
      },
      "text/plain": [
       "  0%|          | 0/345774 [00:00<?, ?it/s]"
      ]
     },
     "metadata": {},
     "output_type": "display_data"
    }
   ],
   "source": [
    "try:\n",
    "    df1 = eddu.export_study(session, study_slug_1, edd_server=edd_server)\n",
    "except (NameError, AttributeError, KeyError):\n",
    "    print(f'ERROR! Not able to export study 1.')\n",
    "    \n",
    "try:\n",
    "    df2 = eddu.export_study(session, study_slug_2, edd_server=edd_server)\n",
    "except (NameError, AttributeError, KeyError):\n",
    "    print(f'ERROR! Not able to export study 2.')\n",
    "    \n",
    "try:\n",
    "    df3 = eddu.export_study(session, study_slug_3, edd_server=edd_server)\n",
    "except (NameError, AttributeError, KeyError):\n",
    "    print(f'ERROR! Not able to export study 3.')\n",
    "    \n",
    "try:\n",
    "    df4 = eddu.export_study(session, study_slug_4, edd_server=edd_server)\n",
    "except (NameError, AttributeError, KeyError):\n",
    "    print(f'ERROR! Not able to export study 4.')\n",
    "    \n",
    "try:\n",
    "    df5 = eddu.export_study(session, study_slug_5, edd_server=edd_server)\n",
    "except (NameError, AttributeError, KeyError):\n",
    "    print(f'ERROR! Not able to export study 5.')"
   ]
  },
  {
   "cell_type": "markdown",
   "id": "e5c7a45f-e6f2-4574-a029-2e7c993bb5d1",
   "metadata": {},
   "source": [
    "## Check correspondence between dataframes"
   ]
  },
  {
   "cell_type": "code",
   "execution_count": 5,
   "id": "80a4a076-906f-4308-ad32-06a71e1620ce",
   "metadata": {
    "tags": []
   },
   "outputs": [
    {
     "name": "stdout",
     "output_type": "stream",
     "text": [
      "Shape of df1: (1033140, 15)\t shape of d2: (475488, 15)\tshape of d3: (420288, 15)\tshape of d4: (411567, 15)\n"
     ]
    }
   ],
   "source": [
    "print(f\"Shape of df1: {df1.shape}\\t shape of d2: {df2.shape}\\tshape of d3: {df3.shape}\\tshape of d4: {df4.shape}\")"
   ]
  },
  {
   "cell_type": "code",
   "execution_count": 6,
   "id": "1ba583bd-b358-4a25-ac97-493d8742f9c0",
   "metadata": {
    "tags": []
   },
   "outputs": [
    {
     "data": {
      "text/html": [
       "<div>\n",
       "<style scoped>\n",
       "    .dataframe tbody tr th:only-of-type {\n",
       "        vertical-align: middle;\n",
       "    }\n",
       "\n",
       "    .dataframe tbody tr th {\n",
       "        vertical-align: top;\n",
       "    }\n",
       "\n",
       "    .dataframe thead th {\n",
       "        text-align: right;\n",
       "    }\n",
       "</style>\n",
       "<table border=\"1\" class=\"dataframe\">\n",
       "  <thead>\n",
       "    <tr style=\"text-align: right;\">\n",
       "      <th></th>\n",
       "      <th>Study ID</th>\n",
       "      <th>Study Name</th>\n",
       "      <th>Line ID</th>\n",
       "      <th>Replicate Key</th>\n",
       "      <th>Line Name</th>\n",
       "      <th>Line Description</th>\n",
       "      <th>Protocol</th>\n",
       "      <th>Assay ID</th>\n",
       "      <th>Assay Name</th>\n",
       "      <th>Formal Type</th>\n",
       "      <th>Measurement Type</th>\n",
       "      <th>Compartment</th>\n",
       "      <th>Units</th>\n",
       "      <th>Value</th>\n",
       "      <th>Hours</th>\n",
       "    </tr>\n",
       "  </thead>\n",
       "  <tbody>\n",
       "    <tr>\n",
       "      <th>0</th>\n",
       "      <td>197035</td>\n",
       "      <td>CRISPRi automation for enhanced isoprenol prod...</td>\n",
       "      <td>197036</td>\n",
       "      <td>25cc36fe-78f8-4fd3-98ef-bcb2be779d3c</td>\n",
       "      <td>Control-R1</td>\n",
       "      <td>BL1A1_NT</td>\n",
       "      <td>GC-FID</td>\n",
       "      <td>197456</td>\n",
       "      <td>Control-R1</td>\n",
       "      <td>cid:12988</td>\n",
       "      <td>3-METHYL-3-BUTEN-1-OL</td>\n",
       "      <td>0</td>\n",
       "      <td>mg/L</td>\n",
       "      <td>177.33700</td>\n",
       "      <td>48.0</td>\n",
       "    </tr>\n",
       "    <tr>\n",
       "      <th>1</th>\n",
       "      <td>197035</td>\n",
       "      <td>CRISPRi automation for enhanced isoprenol prod...</td>\n",
       "      <td>197174</td>\n",
       "      <td>8a86f0dd-cdde-4cba-bd78-816062eea3d6</td>\n",
       "      <td>Control-R10</td>\n",
       "      <td>BL4A1_NT</td>\n",
       "      <td>GC-FID</td>\n",
       "      <td>197457</td>\n",
       "      <td>Control-R10</td>\n",
       "      <td>cid:12988</td>\n",
       "      <td>3-METHYL-3-BUTEN-1-OL</td>\n",
       "      <td>0</td>\n",
       "      <td>mg/L</td>\n",
       "      <td>176.13507</td>\n",
       "      <td>48.0</td>\n",
       "    </tr>\n",
       "    <tr>\n",
       "      <th>2</th>\n",
       "      <td>197035</td>\n",
       "      <td>CRISPRi automation for enhanced isoprenol prod...</td>\n",
       "      <td>197182</td>\n",
       "      <td>53139a40-c4a9-4094-8cf2-aed9cf3833ab</td>\n",
       "      <td>Control-R11</td>\n",
       "      <td>BL4B1_NT</td>\n",
       "      <td>GC-FID</td>\n",
       "      <td>197458</td>\n",
       "      <td>Control-R11</td>\n",
       "      <td>cid:12988</td>\n",
       "      <td>3-METHYL-3-BUTEN-1-OL</td>\n",
       "      <td>0</td>\n",
       "      <td>mg/L</td>\n",
       "      <td>192.63713</td>\n",
       "      <td>48.0</td>\n",
       "    </tr>\n",
       "  </tbody>\n",
       "</table>\n",
       "</div>"
      ],
      "text/plain": [
       "   Study ID                                         Study Name  Line ID  \\\n",
       "0    197035  CRISPRi automation for enhanced isoprenol prod...   197036   \n",
       "1    197035  CRISPRi automation for enhanced isoprenol prod...   197174   \n",
       "2    197035  CRISPRi automation for enhanced isoprenol prod...   197182   \n",
       "\n",
       "                          Replicate Key    Line Name Line Description  \\\n",
       "0  25cc36fe-78f8-4fd3-98ef-bcb2be779d3c   Control-R1         BL1A1_NT   \n",
       "1  8a86f0dd-cdde-4cba-bd78-816062eea3d6  Control-R10         BL4A1_NT   \n",
       "2  53139a40-c4a9-4094-8cf2-aed9cf3833ab  Control-R11         BL4B1_NT   \n",
       "\n",
       "  Protocol  Assay ID   Assay Name Formal Type       Measurement Type  \\\n",
       "0   GC-FID    197456   Control-R1   cid:12988  3-METHYL-3-BUTEN-1-OL   \n",
       "1   GC-FID    197457  Control-R10   cid:12988  3-METHYL-3-BUTEN-1-OL   \n",
       "2   GC-FID    197458  Control-R11   cid:12988  3-METHYL-3-BUTEN-1-OL   \n",
       "\n",
       "   Compartment Units      Value  Hours  \n",
       "0            0  mg/L  177.33700   48.0  \n",
       "1            0  mg/L  176.13507   48.0  \n",
       "2            0  mg/L  192.63713   48.0  "
      ]
     },
     "execution_count": 6,
     "metadata": {},
     "output_type": "execute_result"
    }
   ],
   "source": [
    "df1.head(3)"
   ]
  },
  {
   "cell_type": "code",
   "execution_count": 7,
   "id": "4e585210-bc8b-4961-8b84-b6eecee3a86a",
   "metadata": {
    "tags": []
   },
   "outputs": [
    {
     "data": {
      "text/html": [
       "<div>\n",
       "<style scoped>\n",
       "    .dataframe tbody tr th:only-of-type {\n",
       "        vertical-align: middle;\n",
       "    }\n",
       "\n",
       "    .dataframe tbody tr th {\n",
       "        vertical-align: top;\n",
       "    }\n",
       "\n",
       "    .dataframe thead th {\n",
       "        text-align: right;\n",
       "    }\n",
       "</style>\n",
       "<table border=\"1\" class=\"dataframe\">\n",
       "  <thead>\n",
       "    <tr style=\"text-align: right;\">\n",
       "      <th></th>\n",
       "      <th>Study ID</th>\n",
       "      <th>Study Name</th>\n",
       "      <th>Line ID</th>\n",
       "      <th>Replicate Key</th>\n",
       "      <th>Line Name</th>\n",
       "      <th>Line Description</th>\n",
       "      <th>Protocol</th>\n",
       "      <th>Assay ID</th>\n",
       "      <th>Assay Name</th>\n",
       "      <th>Formal Type</th>\n",
       "      <th>Measurement Type</th>\n",
       "      <th>Compartment</th>\n",
       "      <th>Units</th>\n",
       "      <th>Value</th>\n",
       "      <th>Hours</th>\n",
       "    </tr>\n",
       "  </thead>\n",
       "  <tbody>\n",
       "    <tr>\n",
       "      <th>0</th>\n",
       "      <td>191107</td>\n",
       "      <td>CRISPRi automation for enhanced isoprenol prod...</td>\n",
       "      <td>191108</td>\n",
       "      <td>5ccffc96-15ea-4e75-89cc-e198de3bab69</td>\n",
       "      <td>PP_0226_PP_0897_PP_5288-R1</td>\n",
       "      <td>DBTL1_P1_001</td>\n",
       "      <td>GC-FID</td>\n",
       "      <td>191300</td>\n",
       "      <td>PP_0226_PP_0897_PP_5288-R1</td>\n",
       "      <td>cid:12988</td>\n",
       "      <td>3-METHYL-3-BUTEN-1-OL</td>\n",
       "      <td>0</td>\n",
       "      <td>mg/L</td>\n",
       "      <td>173.9811</td>\n",
       "      <td>48.0</td>\n",
       "    </tr>\n",
       "    <tr>\n",
       "      <th>1</th>\n",
       "      <td>191107</td>\n",
       "      <td>CRISPRi automation for enhanced isoprenol prod...</td>\n",
       "      <td>191109</td>\n",
       "      <td>82a2ac64-9ac2-46db-a26d-0325b57e876e</td>\n",
       "      <td>PP_1319_PP_1457_PP_4192-R1</td>\n",
       "      <td>DBTL1_P1_002</td>\n",
       "      <td>GC-FID</td>\n",
       "      <td>191301</td>\n",
       "      <td>PP_1319_PP_1457_PP_4192-R1</td>\n",
       "      <td>cid:12988</td>\n",
       "      <td>3-METHYL-3-BUTEN-1-OL</td>\n",
       "      <td>0</td>\n",
       "      <td>mg/L</td>\n",
       "      <td>268.6526</td>\n",
       "      <td>48.0</td>\n",
       "    </tr>\n",
       "    <tr>\n",
       "      <th>2</th>\n",
       "      <td>191107</td>\n",
       "      <td>CRISPRi automation for enhanced isoprenol prod...</td>\n",
       "      <td>191110</td>\n",
       "      <td>620d107d-a643-4f69-82ae-a11916dfda58</td>\n",
       "      <td>PP_2213_PP_2471_PP_4266-R1</td>\n",
       "      <td>DBTL1_P1_003</td>\n",
       "      <td>GC-FID</td>\n",
       "      <td>191302</td>\n",
       "      <td>PP_2213_PP_2471_PP_4266-R1</td>\n",
       "      <td>cid:12988</td>\n",
       "      <td>3-METHYL-3-BUTEN-1-OL</td>\n",
       "      <td>0</td>\n",
       "      <td>mg/L</td>\n",
       "      <td>182.8489</td>\n",
       "      <td>48.0</td>\n",
       "    </tr>\n",
       "  </tbody>\n",
       "</table>\n",
       "</div>"
      ],
      "text/plain": [
       "   Study ID                                         Study Name  Line ID  \\\n",
       "0    191107  CRISPRi automation for enhanced isoprenol prod...   191108   \n",
       "1    191107  CRISPRi automation for enhanced isoprenol prod...   191109   \n",
       "2    191107  CRISPRi automation for enhanced isoprenol prod...   191110   \n",
       "\n",
       "                          Replicate Key                   Line Name  \\\n",
       "0  5ccffc96-15ea-4e75-89cc-e198de3bab69  PP_0226_PP_0897_PP_5288-R1   \n",
       "1  82a2ac64-9ac2-46db-a26d-0325b57e876e  PP_1319_PP_1457_PP_4192-R1   \n",
       "2  620d107d-a643-4f69-82ae-a11916dfda58  PP_2213_PP_2471_PP_4266-R1   \n",
       "\n",
       "  Line Description Protocol  Assay ID                  Assay Name Formal Type  \\\n",
       "0     DBTL1_P1_001   GC-FID    191300  PP_0226_PP_0897_PP_5288-R1   cid:12988   \n",
       "1     DBTL1_P1_002   GC-FID    191301  PP_1319_PP_1457_PP_4192-R1   cid:12988   \n",
       "2     DBTL1_P1_003   GC-FID    191302  PP_2213_PP_2471_PP_4266-R1   cid:12988   \n",
       "\n",
       "        Measurement Type  Compartment Units     Value  Hours  \n",
       "0  3-METHYL-3-BUTEN-1-OL            0  mg/L  173.9811   48.0  \n",
       "1  3-METHYL-3-BUTEN-1-OL            0  mg/L  268.6526   48.0  \n",
       "2  3-METHYL-3-BUTEN-1-OL            0  mg/L  182.8489   48.0  "
      ]
     },
     "execution_count": 7,
     "metadata": {},
     "output_type": "execute_result"
    }
   ],
   "source": [
    "df2.head(3)"
   ]
  },
  {
   "cell_type": "code",
   "execution_count": 8,
   "id": "9eb8a82d-2c19-45fd-9b77-544e60c6458a",
   "metadata": {},
   "outputs": [
    {
     "data": {
      "text/html": [
       "<div>\n",
       "<style scoped>\n",
       "    .dataframe tbody tr th:only-of-type {\n",
       "        vertical-align: middle;\n",
       "    }\n",
       "\n",
       "    .dataframe tbody tr th {\n",
       "        vertical-align: top;\n",
       "    }\n",
       "\n",
       "    .dataframe thead th {\n",
       "        text-align: right;\n",
       "    }\n",
       "</style>\n",
       "<table border=\"1\" class=\"dataframe\">\n",
       "  <thead>\n",
       "    <tr style=\"text-align: right;\">\n",
       "      <th></th>\n",
       "      <th>Study ID</th>\n",
       "      <th>Study Name</th>\n",
       "      <th>Line ID</th>\n",
       "      <th>Replicate Key</th>\n",
       "      <th>Line Name</th>\n",
       "      <th>Line Description</th>\n",
       "      <th>Protocol</th>\n",
       "      <th>Assay ID</th>\n",
       "      <th>Assay Name</th>\n",
       "      <th>Formal Type</th>\n",
       "      <th>Measurement Type</th>\n",
       "      <th>Compartment</th>\n",
       "      <th>Units</th>\n",
       "      <th>Value</th>\n",
       "      <th>Hours</th>\n",
       "    </tr>\n",
       "  </thead>\n",
       "  <tbody>\n",
       "    <tr>\n",
       "      <th>0</th>\n",
       "      <td>194881</td>\n",
       "      <td>CRISPRi automation for enhanced isoprenol prod...</td>\n",
       "      <td>194882</td>\n",
       "      <td>c86dfaf3-ec02-463c-96c8-f8fe122b02cc</td>\n",
       "      <td>PP_0528_PP_0815_PP_1317_PP_4191-R1</td>\n",
       "      <td>DBTL2_P1_001</td>\n",
       "      <td>GC-FID</td>\n",
       "      <td>195074</td>\n",
       "      <td>PP_0528_PP_0815_PP_1317_PP_4191-R1</td>\n",
       "      <td>cid:12988</td>\n",
       "      <td>3-METHYL-3-BUTEN-1-OL</td>\n",
       "      <td>0</td>\n",
       "      <td>mg/L</td>\n",
       "      <td>201.9179</td>\n",
       "      <td>48.0</td>\n",
       "    </tr>\n",
       "    <tr>\n",
       "      <th>1</th>\n",
       "      <td>194881</td>\n",
       "      <td>CRISPRi automation for enhanced isoprenol prod...</td>\n",
       "      <td>194883</td>\n",
       "      <td>c76bdfef-08b8-463c-8c1e-324e10fe5eee</td>\n",
       "      <td>PP_0528_PP_0813_PP_0815_PP_1317-R1</td>\n",
       "      <td>DBTL2_P1_002</td>\n",
       "      <td>GC-FID</td>\n",
       "      <td>195075</td>\n",
       "      <td>PP_0528_PP_0813_PP_0815_PP_1317-R1</td>\n",
       "      <td>cid:12988</td>\n",
       "      <td>3-METHYL-3-BUTEN-1-OL</td>\n",
       "      <td>0</td>\n",
       "      <td>mg/L</td>\n",
       "      <td>392.7469</td>\n",
       "      <td>48.0</td>\n",
       "    </tr>\n",
       "    <tr>\n",
       "      <th>2</th>\n",
       "      <td>194881</td>\n",
       "      <td>CRISPRi automation for enhanced isoprenol prod...</td>\n",
       "      <td>194884</td>\n",
       "      <td>0d59d68e-24f6-4d82-9235-787339f485bd</td>\n",
       "      <td>PP_0528_PP_0814_PP_0815_PP_1317-R1</td>\n",
       "      <td>DBTL2_P1_003</td>\n",
       "      <td>GC-FID</td>\n",
       "      <td>195076</td>\n",
       "      <td>PP_0528_PP_0814_PP_0815_PP_1317-R1</td>\n",
       "      <td>cid:12988</td>\n",
       "      <td>3-METHYL-3-BUTEN-1-OL</td>\n",
       "      <td>0</td>\n",
       "      <td>mg/L</td>\n",
       "      <td>457.0174</td>\n",
       "      <td>48.0</td>\n",
       "    </tr>\n",
       "  </tbody>\n",
       "</table>\n",
       "</div>"
      ],
      "text/plain": [
       "   Study ID                                         Study Name  Line ID  \\\n",
       "0    194881  CRISPRi automation for enhanced isoprenol prod...   194882   \n",
       "1    194881  CRISPRi automation for enhanced isoprenol prod...   194883   \n",
       "2    194881  CRISPRi automation for enhanced isoprenol prod...   194884   \n",
       "\n",
       "                          Replicate Key                           Line Name  \\\n",
       "0  c86dfaf3-ec02-463c-96c8-f8fe122b02cc  PP_0528_PP_0815_PP_1317_PP_4191-R1   \n",
       "1  c76bdfef-08b8-463c-8c1e-324e10fe5eee  PP_0528_PP_0813_PP_0815_PP_1317-R1   \n",
       "2  0d59d68e-24f6-4d82-9235-787339f485bd  PP_0528_PP_0814_PP_0815_PP_1317-R1   \n",
       "\n",
       "  Line Description Protocol  Assay ID                          Assay Name  \\\n",
       "0     DBTL2_P1_001   GC-FID    195074  PP_0528_PP_0815_PP_1317_PP_4191-R1   \n",
       "1     DBTL2_P1_002   GC-FID    195075  PP_0528_PP_0813_PP_0815_PP_1317-R1   \n",
       "2     DBTL2_P1_003   GC-FID    195076  PP_0528_PP_0814_PP_0815_PP_1317-R1   \n",
       "\n",
       "  Formal Type       Measurement Type  Compartment Units     Value  Hours  \n",
       "0   cid:12988  3-METHYL-3-BUTEN-1-OL            0  mg/L  201.9179   48.0  \n",
       "1   cid:12988  3-METHYL-3-BUTEN-1-OL            0  mg/L  392.7469   48.0  \n",
       "2   cid:12988  3-METHYL-3-BUTEN-1-OL            0  mg/L  457.0174   48.0  "
      ]
     },
     "execution_count": 8,
     "metadata": {},
     "output_type": "execute_result"
    }
   ],
   "source": [
    "df3.head(3)"
   ]
  },
  {
   "cell_type": "code",
   "execution_count": 9,
   "id": "d2ec3444-1931-4b4c-959a-8064f3eeceb6",
   "metadata": {},
   "outputs": [
    {
     "data": {
      "text/html": [
       "<div>\n",
       "<style scoped>\n",
       "    .dataframe tbody tr th:only-of-type {\n",
       "        vertical-align: middle;\n",
       "    }\n",
       "\n",
       "    .dataframe tbody tr th {\n",
       "        vertical-align: top;\n",
       "    }\n",
       "\n",
       "    .dataframe thead th {\n",
       "        text-align: right;\n",
       "    }\n",
       "</style>\n",
       "<table border=\"1\" class=\"dataframe\">\n",
       "  <thead>\n",
       "    <tr style=\"text-align: right;\">\n",
       "      <th></th>\n",
       "      <th>Study ID</th>\n",
       "      <th>Study Name</th>\n",
       "      <th>Line ID</th>\n",
       "      <th>Replicate Key</th>\n",
       "      <th>Line Name</th>\n",
       "      <th>Line Description</th>\n",
       "      <th>Protocol</th>\n",
       "      <th>Assay ID</th>\n",
       "      <th>Assay Name</th>\n",
       "      <th>Formal Type</th>\n",
       "      <th>Measurement Type</th>\n",
       "      <th>Compartment</th>\n",
       "      <th>Units</th>\n",
       "      <th>Value</th>\n",
       "      <th>Hours</th>\n",
       "    </tr>\n",
       "  </thead>\n",
       "  <tbody>\n",
       "    <tr>\n",
       "      <th>0</th>\n",
       "      <td>209320</td>\n",
       "      <td>CRISPRi automation for enhanced isoprenol prod...</td>\n",
       "      <td>209352</td>\n",
       "      <td>2ad8492a-e7b3-4ad2-a068-c657bb19aad8</td>\n",
       "      <td>Control_P1-R1</td>\n",
       "      <td>DBTL3_P1_032</td>\n",
       "      <td>Global Proteomics</td>\n",
       "      <td>209504</td>\n",
       "      <td>Control_P1-R1</td>\n",
       "      <td>sp|A0A0M4F6K2</td>\n",
       "      <td>Phenylalanine ammonia lyase</td>\n",
       "      <td>0</td>\n",
       "      <td>counts</td>\n",
       "      <td>2000000.0</td>\n",
       "      <td>48.0</td>\n",
       "    </tr>\n",
       "    <tr>\n",
       "      <th>1</th>\n",
       "      <td>209320</td>\n",
       "      <td>CRISPRi automation for enhanced isoprenol prod...</td>\n",
       "      <td>209360</td>\n",
       "      <td>b1e167e7-8b73-419e-8683-2dc66ac9f698</td>\n",
       "      <td>Control_P1-R2</td>\n",
       "      <td>DBTL3_P1_040</td>\n",
       "      <td>Global Proteomics</td>\n",
       "      <td>209505</td>\n",
       "      <td>Control_P1-R2</td>\n",
       "      <td>sp|A0A0M4F6K2</td>\n",
       "      <td>Phenylalanine ammonia lyase</td>\n",
       "      <td>0</td>\n",
       "      <td>counts</td>\n",
       "      <td>2050000.0</td>\n",
       "      <td>48.0</td>\n",
       "    </tr>\n",
       "    <tr>\n",
       "      <th>2</th>\n",
       "      <td>209320</td>\n",
       "      <td>CRISPRi automation for enhanced isoprenol prod...</td>\n",
       "      <td>209368</td>\n",
       "      <td>94ab83a2-bd2a-47bf-81e2-3528b3a0100b</td>\n",
       "      <td>Control_P1-R3</td>\n",
       "      <td>DBTL3_P1_048</td>\n",
       "      <td>Global Proteomics</td>\n",
       "      <td>209506</td>\n",
       "      <td>Control_P1-R3</td>\n",
       "      <td>sp|A0A0M4F6K2</td>\n",
       "      <td>Phenylalanine ammonia lyase</td>\n",
       "      <td>0</td>\n",
       "      <td>counts</td>\n",
       "      <td>1320000.0</td>\n",
       "      <td>48.0</td>\n",
       "    </tr>\n",
       "  </tbody>\n",
       "</table>\n",
       "</div>"
      ],
      "text/plain": [
       "   Study ID                                         Study Name  Line ID  \\\n",
       "0    209320  CRISPRi automation for enhanced isoprenol prod...   209352   \n",
       "1    209320  CRISPRi automation for enhanced isoprenol prod...   209360   \n",
       "2    209320  CRISPRi automation for enhanced isoprenol prod...   209368   \n",
       "\n",
       "                          Replicate Key      Line Name Line Description  \\\n",
       "0  2ad8492a-e7b3-4ad2-a068-c657bb19aad8  Control_P1-R1     DBTL3_P1_032   \n",
       "1  b1e167e7-8b73-419e-8683-2dc66ac9f698  Control_P1-R2     DBTL3_P1_040   \n",
       "2  94ab83a2-bd2a-47bf-81e2-3528b3a0100b  Control_P1-R3     DBTL3_P1_048   \n",
       "\n",
       "            Protocol  Assay ID     Assay Name    Formal Type  \\\n",
       "0  Global Proteomics    209504  Control_P1-R1  sp|A0A0M4F6K2   \n",
       "1  Global Proteomics    209505  Control_P1-R2  sp|A0A0M4F6K2   \n",
       "2  Global Proteomics    209506  Control_P1-R3  sp|A0A0M4F6K2   \n",
       "\n",
       "              Measurement Type  Compartment   Units      Value  Hours  \n",
       "0  Phenylalanine ammonia lyase            0  counts  2000000.0   48.0  \n",
       "1  Phenylalanine ammonia lyase            0  counts  2050000.0   48.0  \n",
       "2  Phenylalanine ammonia lyase            0  counts  1320000.0   48.0  "
      ]
     },
     "execution_count": 9,
     "metadata": {},
     "output_type": "execute_result"
    }
   ],
   "source": [
    "df4.head(3)"
   ]
  },
  {
   "cell_type": "code",
   "execution_count": 10,
   "id": "713ad4ad-ff52-4f5b-8f5c-099c74304b9d",
   "metadata": {},
   "outputs": [
    {
     "data": {
      "text/html": [
       "<div>\n",
       "<style scoped>\n",
       "    .dataframe tbody tr th:only-of-type {\n",
       "        vertical-align: middle;\n",
       "    }\n",
       "\n",
       "    .dataframe tbody tr th {\n",
       "        vertical-align: top;\n",
       "    }\n",
       "\n",
       "    .dataframe thead th {\n",
       "        text-align: right;\n",
       "    }\n",
       "</style>\n",
       "<table border=\"1\" class=\"dataframe\">\n",
       "  <thead>\n",
       "    <tr style=\"text-align: right;\">\n",
       "      <th></th>\n",
       "      <th>Study ID</th>\n",
       "      <th>Study Name</th>\n",
       "      <th>Line ID</th>\n",
       "      <th>Replicate Key</th>\n",
       "      <th>Line Name</th>\n",
       "      <th>Line Description</th>\n",
       "      <th>Protocol</th>\n",
       "      <th>Assay ID</th>\n",
       "      <th>Assay Name</th>\n",
       "      <th>Formal Type</th>\n",
       "      <th>Measurement Type</th>\n",
       "      <th>Compartment</th>\n",
       "      <th>Units</th>\n",
       "      <th>Value</th>\n",
       "      <th>Hours</th>\n",
       "    </tr>\n",
       "  </thead>\n",
       "  <tbody>\n",
       "    <tr>\n",
       "      <th>0</th>\n",
       "      <td>211976</td>\n",
       "      <td>CRISPRi automation for enhanced isoprenol prod...</td>\n",
       "      <td>211977</td>\n",
       "      <td>4d3d53db-7352-42aa-8303-91a28fcda44b</td>\n",
       "      <td>PP_0368_PP_0812_PP_0813-R1</td>\n",
       "      <td>DBTL4_P1_001</td>\n",
       "      <td>GC-FID</td>\n",
       "      <td>212307</td>\n",
       "      <td>PP_0368_PP_0812_PP_0813-R1</td>\n",
       "      <td>cid:12988</td>\n",
       "      <td>3-METHYL-3-BUTEN-1-OL</td>\n",
       "      <td>0</td>\n",
       "      <td>mg/L</td>\n",
       "      <td>458.8593</td>\n",
       "      <td>48.0</td>\n",
       "    </tr>\n",
       "    <tr>\n",
       "      <th>1</th>\n",
       "      <td>211976</td>\n",
       "      <td>CRISPRi automation for enhanced isoprenol prod...</td>\n",
       "      <td>211978</td>\n",
       "      <td>a9309f66-2c5f-462b-8c8c-1df3b0152a8d</td>\n",
       "      <td>PP_0368_PP_0812_PP_0815-R1</td>\n",
       "      <td>DBTL4_P1_002</td>\n",
       "      <td>GC-FID</td>\n",
       "      <td>212308</td>\n",
       "      <td>PP_0368_PP_0812_PP_0815-R1</td>\n",
       "      <td>cid:12988</td>\n",
       "      <td>3-METHYL-3-BUTEN-1-OL</td>\n",
       "      <td>0</td>\n",
       "      <td>mg/L</td>\n",
       "      <td>713.6108</td>\n",
       "      <td>48.0</td>\n",
       "    </tr>\n",
       "    <tr>\n",
       "      <th>2</th>\n",
       "      <td>211976</td>\n",
       "      <td>CRISPRi automation for enhanced isoprenol prod...</td>\n",
       "      <td>211979</td>\n",
       "      <td>6daab9e9-3647-47c9-93dc-d5aa33dc7f2f</td>\n",
       "      <td>PP_0751_PP_0812_PP_0814-R1</td>\n",
       "      <td>DBTL4_P1_003</td>\n",
       "      <td>GC-FID</td>\n",
       "      <td>212309</td>\n",
       "      <td>PP_0751_PP_0812_PP_0814-R1</td>\n",
       "      <td>cid:12988</td>\n",
       "      <td>3-METHYL-3-BUTEN-1-OL</td>\n",
       "      <td>0</td>\n",
       "      <td>mg/L</td>\n",
       "      <td>410.4078</td>\n",
       "      <td>48.0</td>\n",
       "    </tr>\n",
       "  </tbody>\n",
       "</table>\n",
       "</div>"
      ],
      "text/plain": [
       "   Study ID                                         Study Name  Line ID  \\\n",
       "0    211976  CRISPRi automation for enhanced isoprenol prod...   211977   \n",
       "1    211976  CRISPRi automation for enhanced isoprenol prod...   211978   \n",
       "2    211976  CRISPRi automation for enhanced isoprenol prod...   211979   \n",
       "\n",
       "                          Replicate Key                   Line Name  \\\n",
       "0  4d3d53db-7352-42aa-8303-91a28fcda44b  PP_0368_PP_0812_PP_0813-R1   \n",
       "1  a9309f66-2c5f-462b-8c8c-1df3b0152a8d  PP_0368_PP_0812_PP_0815-R1   \n",
       "2  6daab9e9-3647-47c9-93dc-d5aa33dc7f2f  PP_0751_PP_0812_PP_0814-R1   \n",
       "\n",
       "  Line Description Protocol  Assay ID                  Assay Name Formal Type  \\\n",
       "0     DBTL4_P1_001   GC-FID    212307  PP_0368_PP_0812_PP_0813-R1   cid:12988   \n",
       "1     DBTL4_P1_002   GC-FID    212308  PP_0368_PP_0812_PP_0815-R1   cid:12988   \n",
       "2     DBTL4_P1_003   GC-FID    212309  PP_0751_PP_0812_PP_0814-R1   cid:12988   \n",
       "\n",
       "        Measurement Type  Compartment Units     Value  Hours  \n",
       "0  3-METHYL-3-BUTEN-1-OL            0  mg/L  458.8593   48.0  \n",
       "1  3-METHYL-3-BUTEN-1-OL            0  mg/L  713.6108   48.0  \n",
       "2  3-METHYL-3-BUTEN-1-OL            0  mg/L  410.4078   48.0  "
      ]
     },
     "execution_count": 10,
     "metadata": {},
     "output_type": "execute_result"
    }
   ],
   "source": [
    "df5.head(3)"
   ]
  },
  {
   "cell_type": "code",
   "execution_count": 11,
   "id": "cb715435-06e5-4c51-b5d7-cb595c6da315",
   "metadata": {
    "tags": []
   },
   "outputs": [
    {
     "name": "stdout",
     "output_type": "stream",
     "text": [
      "All columns matching - d1/d2: True\n",
      "All columns matching - d1/d3: True\n",
      "All columns matching - d1/d4: True\n",
      "All columns matching - d1/d5: True\n"
     ]
    }
   ],
   "source": [
    "print(f\"All columns matching - d1/d2: {all(df1.columns == df2.columns)}\")\n",
    "print(f\"All columns matching - d1/d3: {all(df1.columns == df3.columns)}\")\n",
    "print(f\"All columns matching - d1/d4: {all(df1.columns == df4.columns)}\")\n",
    "print(f\"All columns matching - d1/d5: {all(df1.columns == df5.columns)}\")"
   ]
  },
  {
   "cell_type": "markdown",
   "id": "91961763-eb05-48ce-99c5-e38d1762ff45",
   "metadata": {},
   "source": [
    "Print different types of protocols:"
   ]
  },
  {
   "cell_type": "code",
   "execution_count": 12,
   "id": "0420f57f-abb5-4460-9f6f-077c661f7f26",
   "metadata": {
    "tags": []
   },
   "outputs": [
    {
     "name": "stdout",
     "output_type": "stream",
     "text": [
      "df1 protocols: Protocol\n",
      "Global Proteomics    1032720\n",
      "GC-FID                   420\n",
      "Name: count, dtype: int64\n",
      "df2 protocols: Protocol\n",
      "Global Proteomics    419904\n",
      "Biolector             55392\n",
      "GC-FID                  192\n",
      "Name: count, dtype: int64\n",
      "df3 protocols: Protocol\n",
      "Global Proteomics    420096\n",
      "GC-FID                  192\n",
      "Name: count, dtype: int64\n",
      "df4 protocols: Protocol\n",
      "Global Proteomics    411384\n",
      "GC-FID                  183\n",
      "Name: count, dtype: int64\n",
      "df5 protocols: Protocol\n",
      "Shotgun (Discovery) Proteomics    345588\n",
      "GC-FID                               186\n",
      "Name: count, dtype: int64\n"
     ]
    }
   ],
   "source": [
    "print(f\"df1 protocols: {df1['Protocol'].value_counts()}\")\n",
    "print(f\"df2 protocols: {df2['Protocol'].value_counts()}\")\n",
    "print(f\"df3 protocols: {df3['Protocol'].value_counts()}\")\n",
    "print(f\"df4 protocols: {df4['Protocol'].value_counts()}\")\n",
    "print(f\"df5 protocols: {df5['Protocol'].value_counts()}\")"
   ]
  },
  {
   "cell_type": "markdown",
   "id": "9791893e-8aac-4572-8ba2-3e7cc320c9e7",
   "metadata": {},
   "source": [
    "Update Protocol name for proteomics in df5"
   ]
  },
  {
   "cell_type": "code",
   "execution_count": 13,
   "id": "9fab5d14-1029-45dc-8345-669b735e81e2",
   "metadata": {
    "tags": []
   },
   "outputs": [],
   "source": [
    "df5.loc[\n",
    "    df5['Protocol'] == 'Shotgun (Discovery) Proteomics',\n",
    "    'Protocol'\n",
    "] = 'Global Proteomics'"
   ]
  },
  {
   "cell_type": "markdown",
   "id": "d67cd03b-0515-4b26-8e26-5f0e57bef638",
   "metadata": {},
   "source": [
    "We don't need the biolector data, so I'll drop it from the second dataframe:"
   ]
  },
  {
   "cell_type": "code",
   "execution_count": 14,
   "id": "fb501f32-ad75-4d4a-a701-f86361e8baae",
   "metadata": {
    "tags": []
   },
   "outputs": [
    {
     "data": {
      "text/plain": [
       "Protocol\n",
       "Global Proteomics    419904\n",
       "GC-FID                  192\n",
       "Name: count, dtype: int64"
      ]
     },
     "execution_count": 14,
     "metadata": {},
     "output_type": "execute_result"
    }
   ],
   "source": [
    "df2.drop(index = df2.loc[df2['Protocol'] == 'Biolector'].index,axis = 0, inplace=True)\n",
    "df2['Protocol'].value_counts()"
   ]
  },
  {
   "cell_type": "markdown",
   "id": "0c7e93b8-4984-4442-9f93-50a329f1c428",
   "metadata": {},
   "source": [
    "Add boolean column for whetether each line is a control or not."
   ]
  },
  {
   "cell_type": "code",
   "execution_count": 15,
   "id": "06e378b6-f8e5-4234-9b6f-497028a8ca22",
   "metadata": {
    "tags": []
   },
   "outputs": [],
   "source": [
    "check_control_string = lambda x: True if 'ontrol' in x else False\n",
    "df1['is_control'] = df1['Line Name'].apply(check_control_string)\n",
    "df2['is_control'] = df2['Line Name'].apply(check_control_string)\n",
    "df3['is_control'] = df3['Line Name'].apply(check_control_string)\n",
    "df4['is_control'] = df4['Line Name'].apply(check_control_string)\n",
    "df5['is_control'] = df5['Line Name'].apply(check_control_string)"
   ]
  },
  {
   "cell_type": "markdown",
   "id": "3ccee2c8-8b7e-4013-8543-815bb22dff7a",
   "metadata": {},
   "source": [
    "Look at the control line names"
   ]
  },
  {
   "cell_type": "code",
   "execution_count": 16,
   "id": "a86939d2-7676-4a44-9170-9bbe937b5fc2",
   "metadata": {
    "tags": []
   },
   "outputs": [
    {
     "data": {
      "text/plain": [
       "array(['Control-R1', 'Control-R10', 'Control-R11', 'Control-R12',\n",
       "       'Control-R13', 'Control-R14', 'Control-R15', 'Control-R16',\n",
       "       'Control-R17', 'Control-R18', 'Control-R2', 'Control-R3',\n",
       "       'Control-R4', 'Control-R5', 'Control-R6', 'Control-R7',\n",
       "       'Control-R8', 'Control-R9'], dtype=object)"
      ]
     },
     "execution_count": 16,
     "metadata": {},
     "output_type": "execute_result"
    }
   ],
   "source": [
    "df1[df1['is_control']]['Line Name'].unique()"
   ]
  },
  {
   "cell_type": "code",
   "execution_count": 17,
   "id": "a0e15461-c0ed-4218-9549-5c6fd44a5f11",
   "metadata": {
    "tags": []
   },
   "outputs": [
    {
     "data": {
      "text/plain": [
       "array(['Control_P1-R1', 'Control_P1-R2', 'Control_P1-R3', 'Control_P2-R1',\n",
       "       'Control_P2-R2', 'Control_P2-R3', 'Control_P3-R1', 'Control_P3-R2',\n",
       "       'Control_P3-R3', 'Control_P4-R1', 'Control_P4-R2', 'Control_P4-R3'],\n",
       "      dtype=object)"
      ]
     },
     "execution_count": 17,
     "metadata": {},
     "output_type": "execute_result"
    }
   ],
   "source": [
    "df2[df2['is_control']]['Line Name'].unique()"
   ]
  },
  {
   "cell_type": "code",
   "execution_count": 18,
   "id": "c5e97c4d-85bb-4c3c-9f3b-f5624aaaad53",
   "metadata": {
    "tags": []
   },
   "outputs": [
    {
     "data": {
      "text/plain": [
       "array(['Control_P1-R1', 'Control_P1-R2', 'Control_P1-R3', 'Control_P2-R1',\n",
       "       'Control_P2-R2', 'Control_P2-R3', 'Control_P3-R1', 'Control_P3-R2',\n",
       "       'Control_P3-R3', 'Control_P4-R1', 'Control_P4-R2', 'Control_P4-R3'],\n",
       "      dtype=object)"
      ]
     },
     "execution_count": 18,
     "metadata": {},
     "output_type": "execute_result"
    }
   ],
   "source": [
    "df3[df3['is_control']]['Line Name'].unique()"
   ]
  },
  {
   "cell_type": "code",
   "execution_count": 19,
   "id": "ea7c7b62-0b10-436e-b246-1288502404cd",
   "metadata": {
    "tags": []
   },
   "outputs": [
    {
     "data": {
      "text/plain": [
       "array(['Control_P1-R1', 'Control_P1-R2', 'Control_P1-R3', 'Control_P2-R1',\n",
       "       'Control_P2-R2', 'Control_P2-R3', 'Control_P3-R1', 'Control_P3-R2',\n",
       "       'Control_P3-R3', 'Control_P4-R1', 'Control_P4-R2', 'Control_P4-R3'],\n",
       "      dtype=object)"
      ]
     },
     "execution_count": 19,
     "metadata": {},
     "output_type": "execute_result"
    }
   ],
   "source": [
    "df4[df4['is_control']]['Line Name'].unique()"
   ]
  },
  {
   "cell_type": "code",
   "execution_count": 20,
   "id": "b8ecf562-2207-4b7b-8927-28771d0be99e",
   "metadata": {
    "tags": []
   },
   "outputs": [
    {
     "data": {
      "text/plain": [
       "array(['Control_P1-R1', 'Control_P1-R2', 'Control_P1-R3', 'Control_P2-R1',\n",
       "       'Control_P2-R2', 'Control_P2-R3', 'Control_P3-R1', 'Control_P3-R2',\n",
       "       'Control_P3-R3', 'Control_P4-R1', 'Control_P4-R2', 'Control_P4-R3'],\n",
       "      dtype=object)"
      ]
     },
     "execution_count": 20,
     "metadata": {},
     "output_type": "execute_result"
    }
   ],
   "source": [
    "df5[df5['is_control']]['Line Name'].unique()"
   ]
  },
  {
   "cell_type": "markdown",
   "id": "870cb2a1-d268-4c21-a28f-25636fc7f0da",
   "metadata": {},
   "source": [
    "### Format line names separately"
   ]
  },
  {
   "cell_type": "markdown",
   "id": "f825d0b5-04d6-467d-aa48-848eff28a8b0",
   "metadata": {},
   "source": [
    "#### Remove NT lines from df1\n",
    "NT lines had different gRNA that we want to exclude from analysis."
   ]
  },
  {
   "cell_type": "code",
   "execution_count": 21,
   "id": "215a6eb1-76e4-4536-81d2-e2f624b1a08e",
   "metadata": {
    "tags": []
   },
   "outputs": [],
   "source": [
    "df1['has_nt'] = df1['Line Name'].apply(lambda x: True if 'NT' in x else False)\n",
    "df1 = df1.drop(index = df1.loc[df1['has_nt']].index, axis = 0)\n",
    "df1 = df1.drop(columns=['has_nt'])                                    "
   ]
  },
  {
   "cell_type": "markdown",
   "id": "5b008bc9-48fe-4e73-8765-51ed7fa0dff2",
   "metadata": {},
   "source": [
    "#### Add column for replicate number"
   ]
  },
  {
   "cell_type": "code",
   "execution_count": 22,
   "id": "cb9e2a33-a1a9-4c65-b8a0-e9d3a99e960c",
   "metadata": {
    "tags": []
   },
   "outputs": [],
   "source": [
    "def get_rep_number(line_name):\n",
    "    r_index = line_name.index('-R')\n",
    "    return int(line_name[(r_index+2):])\n",
    "\n",
    "df1['rep'] = df1['Line Name'].apply(get_rep_number)\n",
    "df2.loc[~df2['is_control'], 'rep'] = df2.loc[~df2['is_control'], 'Line Name'].apply(get_rep_number)"
   ]
  },
  {
   "cell_type": "markdown",
   "id": "57bc09b2-2c8c-4c73-abaa-335f848e5eea",
   "metadata": {},
   "source": [
    "#### Update df2/df3 control rep number\n",
    "Get replicate number for df2 controls based on the plate number and rep number.\n",
    "\n",
    "Define function to get a single replicate number based on the plate number and the replicate. There were 3 replicates in each of 4 plates, so 12 total."
   ]
  },
  {
   "cell_type": "code",
   "execution_count": 23,
   "id": "0791e9c3-287d-4f12-9f33-77dcfa69ff10",
   "metadata": {
    "tags": []
   },
   "outputs": [
    {
     "name": "stdout",
     "output_type": "stream",
     "text": [
      "Test string = Control_P1-R1, rep = 1\n",
      "Test string = Control_P1-R3, rep = 3\n",
      "Test string = Control_P3-R3, rep = 9\n"
     ]
    }
   ],
   "source": [
    "def get_rep_number_with_plate(line_name):\n",
    "    r_index = line_name.index('-R')\n",
    "    p_index = line_name.index('_P')\n",
    "    r = int(line_name[r_index+2])\n",
    "    p = int(line_name[p_index+2])\n",
    "    return (p-1)*3 + r\n",
    "\n",
    "test_strings = ['Control_P1-R1', 'Control_P1-R3', 'Control_P3-R3']\n",
    "for ts in test_strings:\n",
    "    print(f'Test string = {ts}, rep = {get_rep_number_with_plate(ts)}')"
   ]
  },
  {
   "cell_type": "markdown",
   "id": "9b65e6e7-0de5-4bae-bde5-75b605d5f8eb",
   "metadata": {},
   "source": [
    "Apply function"
   ]
  },
  {
   "cell_type": "code",
   "execution_count": 24,
   "id": "b0e92149-5b8b-48a3-b522-0b563051cbf5",
   "metadata": {
    "tags": []
   },
   "outputs": [],
   "source": [
    "df2.loc[df2['is_control'], 'rep'] = df2.loc[df2['is_control'], 'Line Name'].apply(get_rep_number_with_plate)\n",
    "df3.loc[df3['is_control'], 'rep'] = df3.loc[df3['is_control'], 'Line Name'].apply(get_rep_number_with_plate)\n",
    "df4.loc[df4['is_control'], 'rep'] = df4.loc[df4['is_control'], 'Line Name'].apply(get_rep_number_with_plate)\n",
    "df5.loc[df5['is_control'], 'rep'] = df5.loc[df5['is_control'], 'Line Name'].apply(get_rep_number_with_plate)"
   ]
  },
  {
   "cell_type": "code",
   "execution_count": 25,
   "id": "a8c10de0-0427-4db0-98c9-01bc41606c20",
   "metadata": {
    "tags": []
   },
   "outputs": [],
   "source": [
    "def get_line_name_norep(line_name):\n",
    "    r_index = line_name.index('-R')\n",
    "    return line_name[:r_index]\n",
    "df1['line_name_norep'] = df1['Line Name'].apply(get_line_name_norep)\n",
    "df2['line_name_norep'] = df2['Line Name'].apply(get_line_name_norep)\n",
    "df3['line_name_norep'] = df3['Line Name'].apply(get_line_name_norep)\n",
    "df4['line_name_norep'] = df4['Line Name'].apply(get_line_name_norep)\n",
    "df5['line_name_norep'] = df5['Line Name'].apply(get_line_name_norep)"
   ]
  },
  {
   "cell_type": "code",
   "execution_count": 26,
   "id": "d8295bb2-f288-45e8-b5b4-879a084bc3f7",
   "metadata": {
    "tags": []
   },
   "outputs": [
    {
     "data": {
      "text/plain": [
       "array(['Control', 'PP_0001', 'PP_0103', 'PP_0104', 'PP_0105', 'PP_0106',\n",
       "       'PP_0168', 'PP_0225', 'PP_0226', 'PP_0277', 'PP_0338', 'PP_0362',\n",
       "       'PP_0368', 'PP_0437', 'PP_0528', 'PP_0548', 'PP_0582', 'PP_0597',\n",
       "       'PP_0654', 'PP_0658', 'PP_0691', 'PP_0751', 'PP_0774', 'PP_0806',\n",
       "       'PP_0812', 'PP_0813', 'PP_0814', 'PP_0815', 'PP_0897', 'PP_0944',\n",
       "       'PP_0999', 'PP_1023', 'PP_1031', 'PP_1157', 'PP_1240', 'PP_1251',\n",
       "       'PP_1317', 'PP_1318', 'PP_1319', 'PP_1394', 'PP_1444', 'PP_1457',\n",
       "       'PP_1506', 'PP_1610', 'PP_1620', 'PP_1664', 'PP_1755', 'PP_1769',\n",
       "       'PP_1770', 'PP_1777', 'PP_2095', 'PP_2112', 'PP_2136', 'PP_2137',\n",
       "       'PP_2213', 'PP_2339', 'PP_2471', 'PP_2589', 'PP_2925', 'PP_3071',\n",
       "       'PP_3122', 'PP_3123', 'PP_3280', 'PP_3282', 'PP_3355', 'PP_3365',\n",
       "       'PP_3394', 'PP_3578', 'PP_3744', 'PP_3754', 'PP_3755', 'PP_4011',\n",
       "       'PP_4012', 'PP_4043', 'PP_4116', 'PP_4119', 'PP_4120', 'PP_4121',\n",
       "       'PP_4122', 'PP_4123', 'PP_4128', 'PP_4130', 'PP_4159', 'PP_4160',\n",
       "       'PP_4161', 'PP_4174', 'PP_4175', 'PP_4185', 'PP_4186', 'PP_4187',\n",
       "       'PP_4188', 'PP_4189', 'PP_4191', 'PP_4192', 'PP_4193', 'PP_4266',\n",
       "       'PP_4487', 'PP_4549', 'PP_4550', 'PP_4635', 'PP_4636', 'PP_4650',\n",
       "       'PP_4651', 'PP_4667', 'PP_4678', 'PP_4679', 'PP_4702', 'PP_4737',\n",
       "       'PP_4862', 'PP_4894', 'PP_5064', 'PP_5128', 'PP_5186', 'PP_5203',\n",
       "       'PP_5288', 'PP_5335', 'PP_5416', 'PP_5417', 'PP_5419', 'PP_5420'],\n",
       "      dtype=object)"
      ]
     },
     "execution_count": 26,
     "metadata": {},
     "output_type": "execute_result"
    }
   ],
   "source": [
    "df1['line_name_norep'].unique()"
   ]
  },
  {
   "cell_type": "code",
   "execution_count": 27,
   "id": "8ca77c48-3956-41dc-a0c5-82f1b0cffb30",
   "metadata": {
    "tags": []
   },
   "outputs": [
    {
     "data": {
      "text/plain": [
       "array(['PP_0226_PP_0897_PP_5288', 'PP_1319_PP_1457_PP_4192',\n",
       "       'PP_2213_PP_2471_PP_4266', 'PP_3123_PP_4862_PP_5186',\n",
       "       'PP_2137_PP_4116_PP_4187', 'PP_4189_PP_4550_PP_4862',\n",
       "       'PP_0813_PP_1769_PP_4191', 'PP_0368_PP_4191_PP_4192',\n",
       "       'PP_0751_PP_1620_PP_4678', 'PP_0813_PP_4549_PP_5288',\n",
       "       'PP_2112_PP_2136_PP_4678', 'PP_0368_PP_0812_PP_0944',\n",
       "       'PP_0999_PP_3578_PP_5186', 'PP_2137_PP_4011_PP_4120',\n",
       "       'PP_0658_PP_1506_PP_3071', 'Control_P1', 'PP_2471_PP_3754_PP_4667',\n",
       "       'PP_0437_PP_0528_PP_3578', 'PP_2112_PP_4189_PP_5186',\n",
       "       'PP_0999_PP_4120_PP_4191', 'PP_0226_PP_0597_PP_4678',\n",
       "       'PP_0226_PP_0437_PP_0751', 'PP_0774_PP_1607_PP_3578',\n",
       "       'PP_0597_PP_1769_PP_4862', 'PP_0226_PP_2339_PP_3365',\n",
       "       'PP_2112_PP_4188_PP_4862', 'PP_0658_PP_0815_PP_4187',\n",
       "       'PP_0774_PP_2213_PP_5288', 'PP_1444_PP_4189_PP_4191',\n",
       "       'PP_1506_PP_4651_PP_4862', 'PP_0814_PP_4192', 'Control_P2',\n",
       "       'PP_0814_PP_5288', 'PP_0774_PP_1769', 'PP_0658_PP_2136',\n",
       "       'PP_3123_PP_5288', 'PP_2339_PP_4186', 'PP_4122_PP_4188',\n",
       "       'PP_0814_PP_3123', 'PP_1607_PP_4550', 'PP_0814_PP_1769',\n",
       "       'PP_0368_PP_0597', 'PP_0528_PP_5288', 'PP_0813_PP_4120',\n",
       "       'PP_1620_PP_4116', 'PP_2137_PP_4189', 'PP_0814_PP_4862',\n",
       "       'Control_P3', 'PP_0812_PP_2095', 'PP_0437_PP_4116',\n",
       "       'PP_0815_PP_1317', 'PP_1319_PP_4678', 'PP_3123_PP_4667',\n",
       "       'PP_3365_PP_3754', 'PP_3123_PP_3755', 'PP_0813_PP_4189',\n",
       "       'PP_0999_PP_4679', 'PP_0437_PP_3365', 'PP_1319_PP_4121_PP_4667',\n",
       "       'PP_0812_PP_4121', 'Control_P4'], dtype=object)"
      ]
     },
     "execution_count": 27,
     "metadata": {},
     "output_type": "execute_result"
    }
   ],
   "source": [
    "df2['line_name_norep'].unique()"
   ]
  },
  {
   "cell_type": "markdown",
   "id": "e8570e6b-f0da-46f4-be3d-f79e1b3c774b",
   "metadata": {},
   "source": [
    "#### Drop plate information from control"
   ]
  },
  {
   "cell_type": "code",
   "execution_count": 28,
   "id": "672043ee-166a-426d-a71f-21756c2346b7",
   "metadata": {
    "tags": []
   },
   "outputs": [
    {
     "data": {
      "text/plain": [
       "array(['PP_0226_PP_0897_PP_5288', 'PP_1319_PP_1457_PP_4192',\n",
       "       'PP_2213_PP_2471_PP_4266', 'PP_3123_PP_4862_PP_5186',\n",
       "       'PP_2137_PP_4116_PP_4187', 'PP_4189_PP_4550_PP_4862',\n",
       "       'PP_0813_PP_1769_PP_4191', 'PP_0368_PP_4191_PP_4192',\n",
       "       'PP_0751_PP_1620_PP_4678', 'PP_0813_PP_4549_PP_5288',\n",
       "       'PP_2112_PP_2136_PP_4678', 'PP_0368_PP_0812_PP_0944',\n",
       "       'PP_0999_PP_3578_PP_5186', 'PP_2137_PP_4011_PP_4120',\n",
       "       'PP_0658_PP_1506_PP_3071', 'Control', 'PP_2471_PP_3754_PP_4667',\n",
       "       'PP_0437_PP_0528_PP_3578', 'PP_2112_PP_4189_PP_5186',\n",
       "       'PP_0999_PP_4120_PP_4191', 'PP_0226_PP_0597_PP_4678',\n",
       "       'PP_0226_PP_0437_PP_0751', 'PP_0774_PP_1607_PP_3578',\n",
       "       'PP_0597_PP_1769_PP_4862', 'PP_0226_PP_2339_PP_3365',\n",
       "       'PP_2112_PP_4188_PP_4862', 'PP_0658_PP_0815_PP_4187',\n",
       "       'PP_0774_PP_2213_PP_5288', 'PP_1444_PP_4189_PP_4191',\n",
       "       'PP_1506_PP_4651_PP_4862', 'PP_0814_PP_4192', 'PP_0814_PP_5288',\n",
       "       'PP_0774_PP_1769', 'PP_0658_PP_2136', 'PP_3123_PP_5288',\n",
       "       'PP_2339_PP_4186', 'PP_4122_PP_4188', 'PP_0814_PP_3123',\n",
       "       'PP_1607_PP_4550', 'PP_0814_PP_1769', 'PP_0368_PP_0597',\n",
       "       'PP_0528_PP_5288', 'PP_0813_PP_4120', 'PP_1620_PP_4116',\n",
       "       'PP_2137_PP_4189', 'PP_0814_PP_4862', 'PP_0812_PP_2095',\n",
       "       'PP_0437_PP_4116', 'PP_0815_PP_1317', 'PP_1319_PP_4678',\n",
       "       'PP_3123_PP_4667', 'PP_3365_PP_3754', 'PP_3123_PP_3755',\n",
       "       'PP_0813_PP_4189', 'PP_0999_PP_4679', 'PP_0437_PP_3365',\n",
       "       'PP_1319_PP_4121_PP_4667', 'PP_0812_PP_4121'], dtype=object)"
      ]
     },
     "execution_count": 28,
     "metadata": {},
     "output_type": "execute_result"
    }
   ],
   "source": [
    "df2.loc[df2['is_control'], 'line_name_norep'] = 'Control'\n",
    "df3.loc[df3['is_control'], 'line_name_norep'] = 'Control'\n",
    "df4.loc[df4['is_control'], 'line_name_norep'] = 'Control'\n",
    "df5.loc[df5['is_control'], 'line_name_norep'] = 'Control'\n",
    "df2['line_name_norep'].unique()"
   ]
  },
  {
   "cell_type": "markdown",
   "id": "54439ef2-8bc7-4e7a-a833-03ebbe06c5ee",
   "metadata": {},
   "source": [
    "### Add plate information to column\n",
    "For DBTL0, one plate had very low expression compared to the other two. We will include DBTL0 plate information and normalize by plate-specific controls. For DBTL1, all plates had similar controls, so we will set all plates equal to 1 for cycle=2."
   ]
  },
  {
   "cell_type": "markdown",
   "id": "3cd5851b-65b2-41ba-ad35-97b9015caefc",
   "metadata": {},
   "source": [
    "#### Import plate-control information for DBTL0"
   ]
  },
  {
   "cell_type": "code",
   "execution_count": 29,
   "id": "ec96b9ff-4d6a-4700-8f34-65f04316e09e",
   "metadata": {
    "tags": []
   },
   "outputs": [
    {
     "data": {
      "text/plain": [
       "Batch number\n",
       "3    228\n",
       "1     96\n",
       "2     96\n",
       "Name: count, dtype: int64"
      ]
     },
     "execution_count": 29,
     "metadata": {},
     "output_type": "execute_result"
    }
   ],
   "source": [
    "plate_mapping_df = pd.read_excel('./data/sample injection order.xlsx')\n",
    "plate_mapping_df['Batch number'].value_counts()"
   ]
  },
  {
   "cell_type": "markdown",
   "id": "1fb070ad-6a70-4a7f-8ea8-b84f35edaaa1",
   "metadata": {},
   "source": [
    "#### Add plate column to dataframe"
   ]
  },
  {
   "cell_type": "code",
   "execution_count": 30,
   "id": "2f26b0b1-be24-4904-b812-32c76947a155",
   "metadata": {
    "tags": []
   },
   "outputs": [],
   "source": [
    "plate_mapping_dict = dict(zip(list(plate_mapping_df['Sample Name in order injected']), list(plate_mapping_df['Batch number'])))"
   ]
  },
  {
   "cell_type": "code",
   "execution_count": 31,
   "id": "8886bb73-9d3c-473d-baf8-07fa051f3d4f",
   "metadata": {
    "tags": []
   },
   "outputs": [
    {
     "data": {
      "text/plain": [
       "plate_number\n",
       "3    564525\n",
       "2    224160\n",
       "1    162888\n",
       "Name: count, dtype: int64"
      ]
     },
     "execution_count": 31,
     "metadata": {},
     "output_type": "execute_result"
    }
   ],
   "source": [
    "df1['plate_number'] = df1['Line Name'].apply(lambda x: plate_mapping_dict[x])\n",
    "df1['plate_number'].value_counts()"
   ]
  },
  {
   "cell_type": "markdown",
   "id": "fb13ad21-57d4-4579-96a7-52e0b277fb4c",
   "metadata": {},
   "source": [
    "#### Add constant plate number to other dataframes"
   ]
  },
  {
   "cell_type": "code",
   "execution_count": 32,
   "id": "5a88adde-a985-48f8-9b59-5428a5eb03dc",
   "metadata": {
    "tags": []
   },
   "outputs": [],
   "source": [
    "df2['plate_number'] = 1\n",
    "df3['plate_number'] = 1\n",
    "df4['plate_number'] = 1\n",
    "df5['plate_number'] = 1"
   ]
  },
  {
   "cell_type": "markdown",
   "id": "fe06f3e0-9157-4a33-9a42-3454c3c4df04",
   "metadata": {},
   "source": [
    "### Compare proteins measured in each experiment"
   ]
  },
  {
   "cell_type": "markdown",
   "id": "2b444831-2b43-4451-9978-88c7001fc6aa",
   "metadata": {},
   "source": [
    "#### Compare proteins between plate in df1"
   ]
  },
  {
   "cell_type": "code",
   "execution_count": 33,
   "id": "86a2f9cd-49d8-4f49-afa2-9fdf16db5139",
   "metadata": {
    "tags": []
   },
   "outputs": [],
   "source": [
    "df1_control_proteins_by_plate = [\n",
    "    df1.loc[(df1['is_control']) & (df1['Protocol'] == 'Global Proteomics') & (df1['plate_number'] == x), 'Formal Type'].unique()\n",
    "    for x in [1, 2, 3]]\n",
    "df1_noncontrol_proteins_by_plate = [\n",
    "    df1.loc[(~df1['is_control']) & (df1['Protocol'] == 'Global Proteomics') & (df1['plate_number'] == x), 'Formal Type'].unique()\n",
    "    for x in [1, 2, 3]]"
   ]
  },
  {
   "cell_type": "code",
   "execution_count": 34,
   "id": "7eb67242-c5ae-4c0f-9754-0dabc532565a",
   "metadata": {
    "tags": []
   },
   "outputs": [
    {
     "name": "stdout",
     "output_type": "stream",
     "text": [
      "Number of unique control proteins in each plate for DBTL0: [2467, 2334, 2508]\n",
      "Number of unique proteins in each plate for DBTL0: [2467, 2334, 2508]\n"
     ]
    }
   ],
   "source": [
    "print(f\"Number of unique control proteins in each plate for DBTL0: {[len(x) for x in df1_control_proteins_by_plate]}\")\n",
    "print(f\"Number of unique proteins in each plate for DBTL0: {[len(x) for x in df1_noncontrol_proteins_by_plate]}\")"
   ]
  },
  {
   "cell_type": "markdown",
   "id": "c3630718-84f3-4f8c-95e7-2f8f658f19e8",
   "metadata": {},
   "source": [
    "#### Get list of proteins present in all 3 controls"
   ]
  },
  {
   "cell_type": "code",
   "execution_count": 35,
   "id": "ccdd9913-9802-44b0-91df-c85b1014c67a",
   "metadata": {
    "tags": []
   },
   "outputs": [],
   "source": [
    "# set(a) & set(b) & set(c)\n",
    "df1_proteins_cont = np.array(\n",
    "    list(\n",
    "        set(df1_control_proteins_by_plate[0])\n",
    "        & set(df1_control_proteins_by_plate[1])\n",
    "        & set(df1_control_proteins_by_plate[2])))\n",
    "\n",
    "df1_proteins_nc = np.array(\n",
    "    list(\n",
    "        set(df1_noncontrol_proteins_by_plate[0])\n",
    "        & set(df1_noncontrol_proteins_by_plate[1])\n",
    "        & set(df1_noncontrol_proteins_by_plate[2])))"
   ]
  },
  {
   "cell_type": "markdown",
   "id": "1faadbf2-3073-4aef-88c0-eb9fcb986c55",
   "metadata": {},
   "source": [
    "## Update protein for dbtl4 with incorrect name"
   ]
  },
  {
   "cell_type": "code",
   "execution_count": 36,
   "id": "85d9e478-134b-4fba-9919-586656b6b4b0",
   "metadata": {
    "tags": []
   },
   "outputs": [],
   "source": [
    "incorrect_protein_formal_type = 'sp|Q835L4|Q835L4_ENTFA EF_1363'\n",
    "correct_protein_formal_type = 'tr|Q835L3|Q835L3_ENTFA'\n",
    "\n",
    "df5.loc[df5['Formal Type'] == incorrect_protein_formal_type, 'Formal Type'] = correct_protein_formal_type"
   ]
  },
  {
   "cell_type": "code",
   "execution_count": 37,
   "id": "e3148459-53bf-4cfb-9099-97684d37de29",
   "metadata": {
    "tags": []
   },
   "outputs": [],
   "source": [
    "# df1_proteins_nc = df1.loc[(~df1['is_control']) & (df1['Protocol'] == 'Global Proteomics'), 'Formal Type'].unique()\n",
    "# df1_proteins_cont = df1.loc[(df1['is_control']) & (df1['Protocol'] == 'Global Proteomics'), 'Formal Type'].unique()\n",
    "\n",
    "df2_proteins_nc = df2.loc[(~df2['is_control']) & (df2['Protocol'] == 'Global Proteomics'), 'Formal Type'].unique()\n",
    "df2_proteins_cont = df2.loc[(df2['is_control']) & (df2['Protocol'] == 'Global Proteomics'), 'Formal Type'].unique()\n",
    "\n",
    "df3_proteins_nc = df3.loc[(~df3['is_control']) & (df3['Protocol'] == 'Global Proteomics'), 'Formal Type'].unique()\n",
    "df3_proteins_cont = df3.loc[(df3['is_control']) & (df3['Protocol'] == 'Global Proteomics'), 'Formal Type'].unique()\n",
    "\n",
    "df4_proteins_nc = df4.loc[(~df4['is_control']) & (df4['Protocol'] == 'Global Proteomics'), 'Formal Type'].unique()\n",
    "df4_proteins_cont = df4.loc[(df4['is_control']) & (df4['Protocol'] == 'Global Proteomics'), 'Formal Type'].unique()\n",
    "\n",
    "df5_proteins_nc = df5.loc[(~df5['is_control']) & (df5['Protocol'] == 'Global Proteomics'), 'Formal Type'].unique()\n",
    "df5_proteins_cont = df5.loc[(df5['is_control']) & (df5['Protocol'] == 'Global Proteomics'), 'Formal Type'].unique()"
   ]
  },
  {
   "cell_type": "code",
   "execution_count": 38,
   "id": "f3cd915f-8115-46a5-a63d-9e1674a8e228",
   "metadata": {
    "tags": []
   },
   "outputs": [
    {
     "name": "stdout",
     "output_type": "stream",
     "text": [
      "length of each set of proteins:\n",
      "df1 noncontrol: 2208\t df1 control: 2208\n",
      "df2 noncontrol: 2187\t df2 control: 2187\n",
      "df3 noncontrol: 2188\t df3 control: 2188\n",
      "df4 noncontrol: 2248\t df4 control: 2248\n",
      "df5 noncontrol: 1858\t df4 control: 1858\n",
      "\n",
      "All control and non-control proteins same?\n",
      "\n",
      "df1: True\n",
      "\n",
      "df2: True\n",
      "\n",
      "df3: True\n",
      "\n",
      "df4: True\n",
      "\n",
      "df5: True\n"
     ]
    }
   ],
   "source": [
    "print(f\"\"\"length of each set of proteins:\\ndf1 noncontrol: {len(df1_proteins_cont)}\\t df1 control: {len(df1_proteins_nc)}\n",
    "df2 noncontrol: {len(df2_proteins_cont)}\\t df2 control: {len(df2_proteins_nc)}\n",
    "df3 noncontrol: {len(df3_proteins_cont)}\\t df3 control: {len(df3_proteins_nc)}\n",
    "df4 noncontrol: {len(df4_proteins_cont)}\\t df4 control: {len(df4_proteins_nc)}\n",
    "df5 noncontrol: {len(df5_proteins_cont)}\\t df4 control: {len(df5_proteins_nc)}\n",
    "\"\"\")\n",
    "print(f\"\"\"All control and non-control proteins same?\\n\n",
    "df1: {all(df1_proteins_cont == df1_proteins_nc)}\\n\n",
    "df2: {all(df2_proteins_cont == df2_proteins_nc)}\\n\n",
    "df3: {all(df3_proteins_cont == df3_proteins_nc)}\\n\n",
    "df4: {all(df4_proteins_cont == df4_proteins_nc)}\\n\n",
    "df5: {all(df5_proteins_cont == df5_proteins_nc)}\"\"\")"
   ]
  },
  {
   "cell_type": "code",
   "execution_count": 39,
   "id": "013d2f68-5c92-4547-9472-fa9f94bb9707",
   "metadata": {
    "tags": []
   },
   "outputs": [
    {
     "data": {
      "text/plain": [
       "1694"
      ]
     },
     "execution_count": 39,
     "metadata": {},
     "output_type": "execute_result"
    }
   ],
   "source": [
    "all_shared_proteins = list(\n",
    "    (\n",
    "        set(df1_proteins_cont).intersection(\n",
    "            set(df2_proteins_cont)).intersection(\n",
    "            set(df3_proteins_cont)).intersection(\n",
    "            set(df4_proteins_cont)).intersection(\n",
    "            set(df5_proteins_cont))\n",
    "    )\n",
    ")\n",
    "# df2_df3_shared_proteins = list(\n",
    "#     set(df2_proteins_cont).intersection(set(df3_proteins_cont))\n",
    "# )\n",
    "len(all_shared_proteins)\n",
    "# len(df2_df3_shared_proteins)"
   ]
  },
  {
   "cell_type": "markdown",
   "id": "bcc42ebc-5403-4560-838f-2ceecf3e549e",
   "metadata": {},
   "source": [
    "## Merge dataframes and format"
   ]
  },
  {
   "cell_type": "markdown",
   "id": "2100e7de-2dd1-4d9c-be42-ae715ea1f1bb",
   "metadata": {},
   "source": [
    "Add a column for the dbtl cycle"
   ]
  },
  {
   "cell_type": "code",
   "execution_count": 40,
   "id": "56a76ec2-7eb2-42ae-ab69-42efd6ecfc9f",
   "metadata": {
    "tags": []
   },
   "outputs": [],
   "source": [
    "df1['cycle'] = 0\n",
    "df2['cycle'] = 1\n",
    "df3['cycle'] = 2\n",
    "df4['cycle'] = 3\n",
    "df5['cycle'] = 4"
   ]
  },
  {
   "cell_type": "code",
   "execution_count": 41,
   "id": "5a379b72-7d61-4be5-9aeb-de4bbd01ce42",
   "metadata": {
    "tags": []
   },
   "outputs": [],
   "source": [
    "df = pd.concat([df1, df2, df3, df4, df5], axis = 0).reset_index()"
   ]
  },
  {
   "cell_type": "code",
   "execution_count": 42,
   "id": "7918eef4-a0ed-4e1b-bbe6-fe5314a66b47",
   "metadata": {
    "tags": []
   },
   "outputs": [
    {
     "data": {
      "text/html": [
       "<div>\n",
       "<style scoped>\n",
       "    .dataframe tbody tr th:only-of-type {\n",
       "        vertical-align: middle;\n",
       "    }\n",
       "\n",
       "    .dataframe tbody tr th {\n",
       "        vertical-align: top;\n",
       "    }\n",
       "\n",
       "    .dataframe thead th {\n",
       "        text-align: right;\n",
       "    }\n",
       "</style>\n",
       "<table border=\"1\" class=\"dataframe\">\n",
       "  <thead>\n",
       "    <tr style=\"text-align: right;\">\n",
       "      <th></th>\n",
       "      <th>index</th>\n",
       "      <th>Study ID</th>\n",
       "      <th>Study Name</th>\n",
       "      <th>Line ID</th>\n",
       "      <th>Replicate Key</th>\n",
       "      <th>Line Name</th>\n",
       "      <th>Line Description</th>\n",
       "      <th>Protocol</th>\n",
       "      <th>Assay ID</th>\n",
       "      <th>Assay Name</th>\n",
       "      <th>...</th>\n",
       "      <th>Measurement Type</th>\n",
       "      <th>Compartment</th>\n",
       "      <th>Units</th>\n",
       "      <th>Value</th>\n",
       "      <th>Hours</th>\n",
       "      <th>is_control</th>\n",
       "      <th>rep</th>\n",
       "      <th>line_name_norep</th>\n",
       "      <th>plate_number</th>\n",
       "      <th>cycle</th>\n",
       "    </tr>\n",
       "  </thead>\n",
       "  <tbody>\n",
       "    <tr>\n",
       "      <th>0</th>\n",
       "      <td>0</td>\n",
       "      <td>197035</td>\n",
       "      <td>CRISPRi automation for enhanced isoprenol prod...</td>\n",
       "      <td>197036</td>\n",
       "      <td>25cc36fe-78f8-4fd3-98ef-bcb2be779d3c</td>\n",
       "      <td>Control-R1</td>\n",
       "      <td>BL1A1_NT</td>\n",
       "      <td>GC-FID</td>\n",
       "      <td>197456</td>\n",
       "      <td>Control-R1</td>\n",
       "      <td>...</td>\n",
       "      <td>3-METHYL-3-BUTEN-1-OL</td>\n",
       "      <td>0</td>\n",
       "      <td>mg/L</td>\n",
       "      <td>177.33700</td>\n",
       "      <td>48.0</td>\n",
       "      <td>True</td>\n",
       "      <td>1.0</td>\n",
       "      <td>Control</td>\n",
       "      <td>1</td>\n",
       "      <td>0</td>\n",
       "    </tr>\n",
       "    <tr>\n",
       "      <th>1</th>\n",
       "      <td>1</td>\n",
       "      <td>197035</td>\n",
       "      <td>CRISPRi automation for enhanced isoprenol prod...</td>\n",
       "      <td>197174</td>\n",
       "      <td>8a86f0dd-cdde-4cba-bd78-816062eea3d6</td>\n",
       "      <td>Control-R10</td>\n",
       "      <td>BL4A1_NT</td>\n",
       "      <td>GC-FID</td>\n",
       "      <td>197457</td>\n",
       "      <td>Control-R10</td>\n",
       "      <td>...</td>\n",
       "      <td>3-METHYL-3-BUTEN-1-OL</td>\n",
       "      <td>0</td>\n",
       "      <td>mg/L</td>\n",
       "      <td>176.13507</td>\n",
       "      <td>48.0</td>\n",
       "      <td>True</td>\n",
       "      <td>10.0</td>\n",
       "      <td>Control</td>\n",
       "      <td>2</td>\n",
       "      <td>0</td>\n",
       "    </tr>\n",
       "    <tr>\n",
       "      <th>2</th>\n",
       "      <td>2</td>\n",
       "      <td>197035</td>\n",
       "      <td>CRISPRi automation for enhanced isoprenol prod...</td>\n",
       "      <td>197182</td>\n",
       "      <td>53139a40-c4a9-4094-8cf2-aed9cf3833ab</td>\n",
       "      <td>Control-R11</td>\n",
       "      <td>BL4B1_NT</td>\n",
       "      <td>GC-FID</td>\n",
       "      <td>197458</td>\n",
       "      <td>Control-R11</td>\n",
       "      <td>...</td>\n",
       "      <td>3-METHYL-3-BUTEN-1-OL</td>\n",
       "      <td>0</td>\n",
       "      <td>mg/L</td>\n",
       "      <td>192.63713</td>\n",
       "      <td>48.0</td>\n",
       "      <td>True</td>\n",
       "      <td>11.0</td>\n",
       "      <td>Control</td>\n",
       "      <td>2</td>\n",
       "      <td>0</td>\n",
       "    </tr>\n",
       "  </tbody>\n",
       "</table>\n",
       "<p>3 rows × 21 columns</p>\n",
       "</div>"
      ],
      "text/plain": [
       "   index  Study ID                                         Study Name  \\\n",
       "0      0    197035  CRISPRi automation for enhanced isoprenol prod...   \n",
       "1      1    197035  CRISPRi automation for enhanced isoprenol prod...   \n",
       "2      2    197035  CRISPRi automation for enhanced isoprenol prod...   \n",
       "\n",
       "   Line ID                         Replicate Key    Line Name  \\\n",
       "0   197036  25cc36fe-78f8-4fd3-98ef-bcb2be779d3c   Control-R1   \n",
       "1   197174  8a86f0dd-cdde-4cba-bd78-816062eea3d6  Control-R10   \n",
       "2   197182  53139a40-c4a9-4094-8cf2-aed9cf3833ab  Control-R11   \n",
       "\n",
       "  Line Description Protocol  Assay ID   Assay Name  ...  \\\n",
       "0         BL1A1_NT   GC-FID    197456   Control-R1  ...   \n",
       "1         BL4A1_NT   GC-FID    197457  Control-R10  ...   \n",
       "2         BL4B1_NT   GC-FID    197458  Control-R11  ...   \n",
       "\n",
       "        Measurement Type Compartment  Units      Value  Hours  is_control  \\\n",
       "0  3-METHYL-3-BUTEN-1-OL           0   mg/L  177.33700   48.0        True   \n",
       "1  3-METHYL-3-BUTEN-1-OL           0   mg/L  176.13507   48.0        True   \n",
       "2  3-METHYL-3-BUTEN-1-OL           0   mg/L  192.63713   48.0        True   \n",
       "\n",
       "    rep  line_name_norep plate_number  cycle  \n",
       "0   1.0          Control            1      0  \n",
       "1  10.0          Control            2      0  \n",
       "2  11.0          Control            2      0  \n",
       "\n",
       "[3 rows x 21 columns]"
      ]
     },
     "execution_count": 42,
     "metadata": {},
     "output_type": "execute_result"
    }
   ],
   "source": [
    "df.head(3)"
   ]
  },
  {
   "cell_type": "code",
   "execution_count": 43,
   "id": "edf2233d-02f5-40eb-9b1f-bb3bb30cf0c6",
   "metadata": {
    "tags": []
   },
   "outputs": [
    {
     "data": {
      "text/plain": [
       "array(['cid:12988', 'sp|O85207|PHAG_PSEPK Phag',\n",
       "       'sp|P00552|KKA2_KLEPN Neo', ..., 'sp|Q88KP7', 'sp|Q88NR9',\n",
       "       'tr|Q9FD70|Q9FD70_ENTFL'], dtype=object)"
      ]
     },
     "execution_count": 43,
     "metadata": {},
     "output_type": "execute_result"
    }
   ],
   "source": [
    "df['Formal Type'].unique()"
   ]
  },
  {
   "cell_type": "code",
   "execution_count": 44,
   "id": "ba2765ce-8061-465d-bf9e-728d2d97872e",
   "metadata": {
    "tags": []
   },
   "outputs": [
    {
     "data": {
      "text/plain": [
       "cycle\n",
       "0    951573\n",
       "2    420288\n",
       "1    420096\n",
       "3    411567\n",
       "4    345774\n",
       "Name: count, dtype: int64"
      ]
     },
     "execution_count": 44,
     "metadata": {},
     "output_type": "execute_result"
    }
   ],
   "source": [
    "df['cycle'].value_counts()"
   ]
  },
  {
   "cell_type": "markdown",
   "id": "4c62f80b-4aee-4454-ad2b-dfdcacb23b55",
   "metadata": {},
   "source": [
    "### Drop proteins that aren't in both cycles"
   ]
  },
  {
   "cell_type": "code",
   "execution_count": 45,
   "id": "4745c36f-e4dc-4a49-8e67-2b0097e0073c",
   "metadata": {
    "tags": []
   },
   "outputs": [],
   "source": [
    "idx_to_keep = (df['Formal Type'] == 'cid:12988') | (df['Formal Type'].isin(all_shared_proteins))\n",
    "df = df.loc[idx_to_keep, :]"
   ]
  },
  {
   "cell_type": "code",
   "execution_count": 46,
   "id": "204c75ae-dfc6-4a7a-83bd-2e9523235d0d",
   "metadata": {
    "tags": []
   },
   "outputs": [
    {
     "data": {
      "text/plain": [
       "cycle\n",
       "0    655965\n",
       "1    325440\n",
       "2    325440\n",
       "4    315270\n",
       "3    310185\n",
       "Name: count, dtype: int64"
      ]
     },
     "execution_count": 46,
     "metadata": {},
     "output_type": "execute_result"
    }
   ],
   "source": [
    "df['cycle'].value_counts()"
   ]
  },
  {
   "cell_type": "markdown",
   "id": "c75b3a93-313f-4cce-9328-0f60b69b7f8b",
   "metadata": {},
   "source": [
    "### Save unique proteins\n",
    "Save unique proteins to get PP numbers and letter names of proteins"
   ]
  },
  {
   "cell_type": "code",
   "execution_count": 47,
   "id": "19b57874-aa68-4ae9-b2f7-7c2906a935c1",
   "metadata": {
    "tags": []
   },
   "outputs": [],
   "source": [
    "formal_type_df = pd.DataFrame(df['Formal Type'].unique())\n",
    "formal_type_df.to_csv('./data/formal_types_merged.csv', header = False, index = False)"
   ]
  },
  {
   "cell_type": "markdown",
   "id": "69dac6d2-e0a2-491e-82cb-8449a587bc68",
   "metadata": {},
   "source": [
    "### Drop unnecessary columns "
   ]
  },
  {
   "cell_type": "code",
   "execution_count": 48,
   "id": "a88996c8-1e54-496a-bb3e-c34d1a4a2d20",
   "metadata": {
    "tags": []
   },
   "outputs": [
    {
     "data": {
      "text/html": [
       "<div>\n",
       "<style scoped>\n",
       "    .dataframe tbody tr th:only-of-type {\n",
       "        vertical-align: middle;\n",
       "    }\n",
       "\n",
       "    .dataframe tbody tr th {\n",
       "        vertical-align: top;\n",
       "    }\n",
       "\n",
       "    .dataframe thead th {\n",
       "        text-align: right;\n",
       "    }\n",
       "</style>\n",
       "<table border=\"1\" class=\"dataframe\">\n",
       "  <thead>\n",
       "    <tr style=\"text-align: right;\">\n",
       "      <th></th>\n",
       "      <th>Line Name</th>\n",
       "      <th>Protocol</th>\n",
       "      <th>Formal Type</th>\n",
       "      <th>Measurement Type</th>\n",
       "      <th>Value</th>\n",
       "      <th>is_control</th>\n",
       "      <th>rep</th>\n",
       "      <th>line_name_norep</th>\n",
       "      <th>cycle</th>\n",
       "      <th>plate_number</th>\n",
       "    </tr>\n",
       "  </thead>\n",
       "  <tbody>\n",
       "    <tr>\n",
       "      <th>0</th>\n",
       "      <td>Control-R1</td>\n",
       "      <td>GC-FID</td>\n",
       "      <td>cid:12988</td>\n",
       "      <td>3-METHYL-3-BUTEN-1-OL</td>\n",
       "      <td>177.33700</td>\n",
       "      <td>True</td>\n",
       "      <td>1.0</td>\n",
       "      <td>Control</td>\n",
       "      <td>0</td>\n",
       "      <td>1</td>\n",
       "    </tr>\n",
       "    <tr>\n",
       "      <th>1</th>\n",
       "      <td>Control-R10</td>\n",
       "      <td>GC-FID</td>\n",
       "      <td>cid:12988</td>\n",
       "      <td>3-METHYL-3-BUTEN-1-OL</td>\n",
       "      <td>176.13507</td>\n",
       "      <td>True</td>\n",
       "      <td>10.0</td>\n",
       "      <td>Control</td>\n",
       "      <td>0</td>\n",
       "      <td>2</td>\n",
       "    </tr>\n",
       "    <tr>\n",
       "      <th>2</th>\n",
       "      <td>Control-R11</td>\n",
       "      <td>GC-FID</td>\n",
       "      <td>cid:12988</td>\n",
       "      <td>3-METHYL-3-BUTEN-1-OL</td>\n",
       "      <td>192.63713</td>\n",
       "      <td>True</td>\n",
       "      <td>11.0</td>\n",
       "      <td>Control</td>\n",
       "      <td>0</td>\n",
       "      <td>2</td>\n",
       "    </tr>\n",
       "  </tbody>\n",
       "</table>\n",
       "</div>"
      ],
      "text/plain": [
       "     Line Name Protocol Formal Type       Measurement Type      Value  \\\n",
       "0   Control-R1   GC-FID   cid:12988  3-METHYL-3-BUTEN-1-OL  177.33700   \n",
       "1  Control-R10   GC-FID   cid:12988  3-METHYL-3-BUTEN-1-OL  176.13507   \n",
       "2  Control-R11   GC-FID   cid:12988  3-METHYL-3-BUTEN-1-OL  192.63713   \n",
       "\n",
       "   is_control   rep line_name_norep  cycle  plate_number  \n",
       "0        True   1.0         Control      0             1  \n",
       "1        True  10.0         Control      0             2  \n",
       "2        True  11.0         Control      0             2  "
      ]
     },
     "execution_count": 48,
     "metadata": {},
     "output_type": "execute_result"
    }
   ],
   "source": [
    "columns_to_keep = ['Line Name', 'Protocol', 'Formal Type', 'Measurement Type', 'Value', 'is_control', 'rep', 'line_name_norep', 'cycle', 'plate_number']\n",
    "df = df[columns_to_keep]\n",
    "df.head(3)"
   ]
  },
  {
   "cell_type": "markdown",
   "id": "2e7c4130-41ac-428e-bc5b-7dce165c2f9e",
   "metadata": {},
   "source": [
    "### Add PP names and 4 letter codes to dataframe"
   ]
  },
  {
   "cell_type": "code",
   "execution_count": 49,
   "id": "d23d55fc-8631-4b01-82e3-53c383a2d748",
   "metadata": {
    "tags": []
   },
   "outputs": [
    {
     "data": {
      "text/html": [
       "<div>\n",
       "<style scoped>\n",
       "    .dataframe tbody tr th:only-of-type {\n",
       "        vertical-align: middle;\n",
       "    }\n",
       "\n",
       "    .dataframe tbody tr th {\n",
       "        vertical-align: top;\n",
       "    }\n",
       "\n",
       "    .dataframe thead th {\n",
       "        text-align: right;\n",
       "    }\n",
       "</style>\n",
       "<table border=\"1\" class=\"dataframe\">\n",
       "  <thead>\n",
       "    <tr style=\"text-align: right;\">\n",
       "      <th></th>\n",
       "      <th>original</th>\n",
       "      <th>extracted</th>\n",
       "      <th>locus</th>\n",
       "      <th>primary_name</th>\n",
       "      <th>organism</th>\n",
       "      <th>is_putida</th>\n",
       "    </tr>\n",
       "  </thead>\n",
       "  <tbody>\n",
       "    <tr>\n",
       "      <th>0</th>\n",
       "      <td>sp|Q9A9Z2</td>\n",
       "      <td>Q9A9Z2</td>\n",
       "      <td>CC_0819</td>\n",
       "      <td>xylD</td>\n",
       "      <td>Caulobacter vibrioides (strain ATCC 19089 / CB...</td>\n",
       "      <td>False</td>\n",
       "    </tr>\n",
       "    <tr>\n",
       "      <th>1</th>\n",
       "      <td>tr|Q835L3|Q835L3_ENTFA</td>\n",
       "      <td>Q835L3</td>\n",
       "      <td>EF_1364</td>\n",
       "      <td>mvaE</td>\n",
       "      <td>Enterococcus faecalis (strain ATCC 700802 / V583)</td>\n",
       "      <td>False</td>\n",
       "    </tr>\n",
       "    <tr>\n",
       "      <th>2</th>\n",
       "      <td>sp|Q9FD71|HMGCS_ENTFL</td>\n",
       "      <td>Q9FD71</td>\n",
       "      <td>NaN</td>\n",
       "      <td>mvaS</td>\n",
       "      <td>Enterococcus faecalis (Streptococcus faecalis)</td>\n",
       "      <td>False</td>\n",
       "    </tr>\n",
       "    <tr>\n",
       "      <th>3</th>\n",
       "      <td>P0AE22</td>\n",
       "      <td>P0AE22</td>\n",
       "      <td>b4055 JW4015</td>\n",
       "      <td>aphA</td>\n",
       "      <td>Escherichia coli (strain K12)</td>\n",
       "      <td>False</td>\n",
       "    </tr>\n",
       "    <tr>\n",
       "      <th>4</th>\n",
       "      <td>sp|P00698|LYSC_CHICK Lysozyme C</td>\n",
       "      <td>P00698</td>\n",
       "      <td>NaN</td>\n",
       "      <td>LYZ</td>\n",
       "      <td>Gallus gallus (Chicken)</td>\n",
       "      <td>False</td>\n",
       "    </tr>\n",
       "  </tbody>\n",
       "</table>\n",
       "</div>"
      ],
      "text/plain": [
       "                          original extracted         locus primary_name  \\\n",
       "0                        sp|Q9A9Z2    Q9A9Z2       CC_0819         xylD   \n",
       "1           tr|Q835L3|Q835L3_ENTFA    Q835L3       EF_1364         mvaE   \n",
       "2            sp|Q9FD71|HMGCS_ENTFL    Q9FD71           NaN         mvaS   \n",
       "3                           P0AE22    P0AE22  b4055 JW4015         aphA   \n",
       "4  sp|P00698|LYSC_CHICK Lysozyme C    P00698           NaN          LYZ   \n",
       "\n",
       "                                            organism  is_putida  \n",
       "0  Caulobacter vibrioides (strain ATCC 19089 / CB...      False  \n",
       "1  Enterococcus faecalis (strain ATCC 700802 / V583)      False  \n",
       "2     Enterococcus faecalis (Streptococcus faecalis)      False  \n",
       "3                      Escherichia coli (strain K12)      False  \n",
       "4                            Gallus gallus (Chicken)      False  "
      ]
     },
     "execution_count": 49,
     "metadata": {},
     "output_type": "execute_result"
    }
   ],
   "source": [
    "translation_df = pd.read_csv('./data/proteomics_id_translator.csv', header = 0, index_col= False)\n",
    "translation_df.head(5)"
   ]
  },
  {
   "cell_type": "code",
   "execution_count": 50,
   "id": "5c6b16f1-b54b-465a-805b-6cdee994efa4",
   "metadata": {
    "tags": []
   },
   "outputs": [],
   "source": [
    "ft_to_organism = dict(translation_df[['original', 'organism']].values)\n",
    "ft_to_locus = dict(translation_df[['original', 'locus']].values)\n",
    "ft_to_primary = dict(translation_df[['original', 'primary_name']].values)"
   ]
  },
  {
   "cell_type": "code",
   "execution_count": 51,
   "id": "b225f628-5628-435b-a427-ebdb3127441c",
   "metadata": {
    "tags": []
   },
   "outputs": [
    {
     "data": {
      "text/plain": [
       "True"
      ]
     },
     "execution_count": 51,
     "metadata": {},
     "output_type": "execute_result"
    }
   ],
   "source": [
    "'putida' in 'Pseudomonas putida (strain ATCC 47054 / DSM 61...'"
   ]
  },
  {
   "cell_type": "code",
   "execution_count": 52,
   "id": "e27ecd86-5cd7-47ca-bc78-b2e4395c4489",
   "metadata": {
    "tags": []
   },
   "outputs": [],
   "source": [
    "df.loc[df['Formal Type'] != 'cid:12988', 'organism'] = df.loc[df['Formal Type'] != 'cid:12988', 'Formal Type'].apply(lambda x: ft_to_organism[x])\n",
    "df.loc[df['Formal Type'] != 'cid:12988', 'locus'] = df.loc[df['Formal Type'] != 'cid:12988', 'Formal Type'].apply(lambda x: ft_to_locus[x])\n",
    "df.loc[df['Formal Type'] != 'cid:12988', 'primary'] = df.loc[df['Formal Type'] != 'cid:12988', 'Formal Type'].apply(lambda x: ft_to_primary[x])\n",
    "df.loc[df['Formal Type'] != 'cid:12988', 'is_putida'] = df.loc[df['Formal Type'] != 'cid:12988', 'organism'].apply(lambda x: x == 'Pseudomonas putida (strain ATCC 47054 / DSM 6125 / CFBP 8728 / NCIMB 11950 / KT2440)')"
   ]
  },
  {
   "cell_type": "code",
   "execution_count": 53,
   "id": "129da7e4-50fa-4529-8ea7-346fc6646cd9",
   "metadata": {
    "tags": []
   },
   "outputs": [
    {
     "data": {
      "text/html": [
       "<div>\n",
       "<style scoped>\n",
       "    .dataframe tbody tr th:only-of-type {\n",
       "        vertical-align: middle;\n",
       "    }\n",
       "\n",
       "    .dataframe tbody tr th {\n",
       "        vertical-align: top;\n",
       "    }\n",
       "\n",
       "    .dataframe thead th {\n",
       "        text-align: right;\n",
       "    }\n",
       "</style>\n",
       "<table border=\"1\" class=\"dataframe\">\n",
       "  <thead>\n",
       "    <tr style=\"text-align: right;\">\n",
       "      <th></th>\n",
       "      <th>Line Name</th>\n",
       "      <th>Protocol</th>\n",
       "      <th>Formal Type</th>\n",
       "      <th>Measurement Type</th>\n",
       "      <th>Value</th>\n",
       "      <th>is_control</th>\n",
       "      <th>rep</th>\n",
       "      <th>line_name_norep</th>\n",
       "      <th>cycle</th>\n",
       "      <th>plate_number</th>\n",
       "      <th>organism</th>\n",
       "      <th>locus</th>\n",
       "      <th>primary</th>\n",
       "      <th>is_putida</th>\n",
       "    </tr>\n",
       "  </thead>\n",
       "  <tbody>\n",
       "    <tr>\n",
       "      <th>0</th>\n",
       "      <td>Control-R1</td>\n",
       "      <td>GC-FID</td>\n",
       "      <td>cid:12988</td>\n",
       "      <td>3-METHYL-3-BUTEN-1-OL</td>\n",
       "      <td>177.33700</td>\n",
       "      <td>True</td>\n",
       "      <td>1.0</td>\n",
       "      <td>Control</td>\n",
       "      <td>0</td>\n",
       "      <td>1</td>\n",
       "      <td>NaN</td>\n",
       "      <td>NaN</td>\n",
       "      <td>NaN</td>\n",
       "      <td>NaN</td>\n",
       "    </tr>\n",
       "    <tr>\n",
       "      <th>1</th>\n",
       "      <td>Control-R10</td>\n",
       "      <td>GC-FID</td>\n",
       "      <td>cid:12988</td>\n",
       "      <td>3-METHYL-3-BUTEN-1-OL</td>\n",
       "      <td>176.13507</td>\n",
       "      <td>True</td>\n",
       "      <td>10.0</td>\n",
       "      <td>Control</td>\n",
       "      <td>0</td>\n",
       "      <td>2</td>\n",
       "      <td>NaN</td>\n",
       "      <td>NaN</td>\n",
       "      <td>NaN</td>\n",
       "      <td>NaN</td>\n",
       "    </tr>\n",
       "    <tr>\n",
       "      <th>2</th>\n",
       "      <td>Control-R11</td>\n",
       "      <td>GC-FID</td>\n",
       "      <td>cid:12988</td>\n",
       "      <td>3-METHYL-3-BUTEN-1-OL</td>\n",
       "      <td>192.63713</td>\n",
       "      <td>True</td>\n",
       "      <td>11.0</td>\n",
       "      <td>Control</td>\n",
       "      <td>0</td>\n",
       "      <td>2</td>\n",
       "      <td>NaN</td>\n",
       "      <td>NaN</td>\n",
       "      <td>NaN</td>\n",
       "      <td>NaN</td>\n",
       "    </tr>\n",
       "  </tbody>\n",
       "</table>\n",
       "</div>"
      ],
      "text/plain": [
       "     Line Name Protocol Formal Type       Measurement Type      Value  \\\n",
       "0   Control-R1   GC-FID   cid:12988  3-METHYL-3-BUTEN-1-OL  177.33700   \n",
       "1  Control-R10   GC-FID   cid:12988  3-METHYL-3-BUTEN-1-OL  176.13507   \n",
       "2  Control-R11   GC-FID   cid:12988  3-METHYL-3-BUTEN-1-OL  192.63713   \n",
       "\n",
       "   is_control   rep line_name_norep  cycle  plate_number organism locus  \\\n",
       "0        True   1.0         Control      0             1      NaN   NaN   \n",
       "1        True  10.0         Control      0             2      NaN   NaN   \n",
       "2        True  11.0         Control      0             2      NaN   NaN   \n",
       "\n",
       "  primary is_putida  \n",
       "0     NaN       NaN  \n",
       "1     NaN       NaN  \n",
       "2     NaN       NaN  "
      ]
     },
     "execution_count": 53,
     "metadata": {},
     "output_type": "execute_result"
    }
   ],
   "source": [
    "df.head(3)"
   ]
  },
  {
   "cell_type": "code",
   "execution_count": 54,
   "id": "189c86e5-c6e4-409a-8be1-f39cb98ca87c",
   "metadata": {
    "tags": []
   },
   "outputs": [
    {
     "data": {
      "text/plain": [
       "cycle\n",
       "0    655965\n",
       "1    325440\n",
       "2    325440\n",
       "4    315270\n",
       "3    310185\n",
       "Name: count, dtype: int64"
      ]
     },
     "execution_count": 54,
     "metadata": {},
     "output_type": "execute_result"
    }
   ],
   "source": [
    "df['cycle'].value_counts()"
   ]
  },
  {
   "cell_type": "markdown",
   "id": "a29a7538-5434-4be8-8b26-c778e6796db7",
   "metadata": {},
   "source": [
    "### Examine non-putida proteins"
   ]
  },
  {
   "cell_type": "code",
   "execution_count": 55,
   "id": "457c5926-834a-4a95-8fcf-fb630b062bad",
   "metadata": {
    "tags": []
   },
   "outputs": [
    {
     "data": {
      "text/plain": [
       "Formal Type                Measurement Type                                                               locus         primary\n",
       "P0AE22                     Class B acid phosphatase                                                       b4055 JW4015  aphA       1140\n",
       "sp|P32377|MVD1_YEAST       Diphosphomevalonate decarboxylase                                              YNR043W       MVD1       1140\n",
       "sp|Q99ZW2|CAS9_STRP1 Cas9  CRISPR-associated endonuclease Cas9/Csn1                                       SPy_1046      cas9       1140\n",
       "tr|Q8PW39|Q8PW39_METMA     Mevalonate kinase                                                              MM_1762       mvk        1140\n",
       "tr|Q835L3|Q835L3_ENTFA     Acetyl-CoA acetyltransferase/hydroxymethylglutaryl-CoA reductase, degradative  EF_1364       mvaE        954\n",
       "                           Hydroxymethylglutaryl-CoA synthase                                             EF_1364       mvaE        186\n",
       "Name: count, dtype: int64"
      ]
     },
     "execution_count": 55,
     "metadata": {},
     "output_type": "execute_result"
    }
   ],
   "source": [
    "df.loc[df['is_putida']==False, ['Formal Type', 'Measurement Type', 'locus', 'primary']].value_counts()"
   ]
  },
  {
   "cell_type": "markdown",
   "id": "fd8ed626-d621-4b7a-917b-f248f474eeea",
   "metadata": {},
   "source": [
    "Drop non-putida proteins other than intentionally expressed ones."
   ]
  },
  {
   "cell_type": "code",
   "execution_count": 56,
   "id": "c4f05e3f-3918-4102-83fc-3ef73a52f635",
   "metadata": {
    "tags": []
   },
   "outputs": [],
   "source": [
    "proteins_to_keep_primary = ['neo', 'aacC1', 'mvaS', 'mcm', 'aphA', 'MVD1', 'mvk', 'cas9', 'mvaE']\n",
    "df = df[(df['primary'].isin(proteins_to_keep_primary)) | (df['is_putida']) | (df['Protocol'] == 'GC-FID')]"
   ]
  },
  {
   "cell_type": "code",
   "execution_count": 57,
   "id": "04cd393b-b864-4844-8134-68ab6e1ccd4e",
   "metadata": {
    "tags": []
   },
   "outputs": [
    {
     "data": {
      "text/html": [
       "<div>\n",
       "<style scoped>\n",
       "    .dataframe tbody tr th:only-of-type {\n",
       "        vertical-align: middle;\n",
       "    }\n",
       "\n",
       "    .dataframe tbody tr th {\n",
       "        vertical-align: top;\n",
       "    }\n",
       "\n",
       "    .dataframe thead th {\n",
       "        text-align: right;\n",
       "    }\n",
       "</style>\n",
       "<table border=\"1\" class=\"dataframe\">\n",
       "  <thead>\n",
       "    <tr style=\"text-align: right;\">\n",
       "      <th></th>\n",
       "      <th>Line Name</th>\n",
       "      <th>Protocol</th>\n",
       "      <th>Formal Type</th>\n",
       "      <th>Measurement Type</th>\n",
       "      <th>Value</th>\n",
       "      <th>is_control</th>\n",
       "      <th>rep</th>\n",
       "      <th>line_name_norep</th>\n",
       "      <th>cycle</th>\n",
       "      <th>plate_number</th>\n",
       "      <th>organism</th>\n",
       "      <th>locus</th>\n",
       "      <th>primary</th>\n",
       "      <th>is_putida</th>\n",
       "    </tr>\n",
       "  </thead>\n",
       "  <tbody>\n",
       "    <tr>\n",
       "      <th>453</th>\n",
       "      <td>Control-R1</td>\n",
       "      <td>Global Proteomics</td>\n",
       "      <td>sp|P00552|KKA2_KLEPN Neo</td>\n",
       "      <td>Aminoglycoside 3'-phosphotransferase</td>\n",
       "      <td>5.341811e+08</td>\n",
       "      <td>True</td>\n",
       "      <td>1.0</td>\n",
       "      <td>Control</td>\n",
       "      <td>0</td>\n",
       "      <td>1</td>\n",
       "      <td>Klebsiella pneumoniae</td>\n",
       "      <td>NaN</td>\n",
       "      <td>neo</td>\n",
       "      <td>False</td>\n",
       "    </tr>\n",
       "    <tr>\n",
       "      <th>454</th>\n",
       "      <td>Control-R2</td>\n",
       "      <td>Global Proteomics</td>\n",
       "      <td>sp|P00552|KKA2_KLEPN Neo</td>\n",
       "      <td>Aminoglycoside 3'-phosphotransferase</td>\n",
       "      <td>6.467078e+08</td>\n",
       "      <td>True</td>\n",
       "      <td>2.0</td>\n",
       "      <td>Control</td>\n",
       "      <td>0</td>\n",
       "      <td>1</td>\n",
       "      <td>Klebsiella pneumoniae</td>\n",
       "      <td>NaN</td>\n",
       "      <td>neo</td>\n",
       "      <td>False</td>\n",
       "    </tr>\n",
       "    <tr>\n",
       "      <th>455</th>\n",
       "      <td>Control-R3</td>\n",
       "      <td>Global Proteomics</td>\n",
       "      <td>sp|P00552|KKA2_KLEPN Neo</td>\n",
       "      <td>Aminoglycoside 3'-phosphotransferase</td>\n",
       "      <td>6.684408e+08</td>\n",
       "      <td>True</td>\n",
       "      <td>3.0</td>\n",
       "      <td>Control</td>\n",
       "      <td>0</td>\n",
       "      <td>1</td>\n",
       "      <td>Klebsiella pneumoniae</td>\n",
       "      <td>NaN</td>\n",
       "      <td>neo</td>\n",
       "      <td>False</td>\n",
       "    </tr>\n",
       "    <tr>\n",
       "      <th>456</th>\n",
       "      <td>Control-R4</td>\n",
       "      <td>Global Proteomics</td>\n",
       "      <td>sp|P00552|KKA2_KLEPN Neo</td>\n",
       "      <td>Aminoglycoside 3'-phosphotransferase</td>\n",
       "      <td>4.428832e+08</td>\n",
       "      <td>True</td>\n",
       "      <td>4.0</td>\n",
       "      <td>Control</td>\n",
       "      <td>0</td>\n",
       "      <td>1</td>\n",
       "      <td>Klebsiella pneumoniae</td>\n",
       "      <td>NaN</td>\n",
       "      <td>neo</td>\n",
       "      <td>False</td>\n",
       "    </tr>\n",
       "    <tr>\n",
       "      <th>457</th>\n",
       "      <td>Control-R5</td>\n",
       "      <td>Global Proteomics</td>\n",
       "      <td>sp|P00552|KKA2_KLEPN Neo</td>\n",
       "      <td>Aminoglycoside 3'-phosphotransferase</td>\n",
       "      <td>5.232355e+08</td>\n",
       "      <td>True</td>\n",
       "      <td>5.0</td>\n",
       "      <td>Control</td>\n",
       "      <td>0</td>\n",
       "      <td>1</td>\n",
       "      <td>Klebsiella pneumoniae</td>\n",
       "      <td>NaN</td>\n",
       "      <td>neo</td>\n",
       "      <td>False</td>\n",
       "    </tr>\n",
       "    <tr>\n",
       "      <th>...</th>\n",
       "      <td>...</td>\n",
       "      <td>...</td>\n",
       "      <td>...</td>\n",
       "      <td>...</td>\n",
       "      <td>...</td>\n",
       "      <td>...</td>\n",
       "      <td>...</td>\n",
       "      <td>...</td>\n",
       "      <td>...</td>\n",
       "      <td>...</td>\n",
       "      <td>...</td>\n",
       "      <td>...</td>\n",
       "      <td>...</td>\n",
       "      <td>...</td>\n",
       "    </tr>\n",
       "    <tr>\n",
       "      <th>2549287</th>\n",
       "      <td>PP_0751_PP_0814_PP_4120_P4-R2</td>\n",
       "      <td>Global Proteomics</td>\n",
       "      <td>sp|Q99ZW2|CAS9_STRP1 Cas9</td>\n",
       "      <td>CRISPR-associated endonuclease Cas9/Csn1</td>\n",
       "      <td>0.000000e+00</td>\n",
       "      <td>False</td>\n",
       "      <td>NaN</td>\n",
       "      <td>PP_0751_PP_0814_PP_4120_P4</td>\n",
       "      <td>4</td>\n",
       "      <td>1</td>\n",
       "      <td>Streptococcus pyogenes serotype M1</td>\n",
       "      <td>SPy_1046</td>\n",
       "      <td>cas9</td>\n",
       "      <td>False</td>\n",
       "    </tr>\n",
       "    <tr>\n",
       "      <th>2549288</th>\n",
       "      <td>PP_0751_PP_0814_PP_4120_P4-R3</td>\n",
       "      <td>Global Proteomics</td>\n",
       "      <td>sp|Q99ZW2|CAS9_STRP1 Cas9</td>\n",
       "      <td>CRISPR-associated endonuclease Cas9/Csn1</td>\n",
       "      <td>1.307429e+05</td>\n",
       "      <td>False</td>\n",
       "      <td>NaN</td>\n",
       "      <td>PP_0751_PP_0814_PP_4120_P4</td>\n",
       "      <td>4</td>\n",
       "      <td>1</td>\n",
       "      <td>Streptococcus pyogenes serotype M1</td>\n",
       "      <td>SPy_1046</td>\n",
       "      <td>cas9</td>\n",
       "      <td>False</td>\n",
       "    </tr>\n",
       "    <tr>\n",
       "      <th>2549292</th>\n",
       "      <td>PP_0751_PP_0814_PP_4120_P4-R1</td>\n",
       "      <td>Global Proteomics</td>\n",
       "      <td>sp|Q9FD71|HMGCS_ENTFL</td>\n",
       "      <td>Hydroxymethylglutaryl-CoA synthase</td>\n",
       "      <td>2.446165e+07</td>\n",
       "      <td>False</td>\n",
       "      <td>NaN</td>\n",
       "      <td>PP_0751_PP_0814_PP_4120_P4</td>\n",
       "      <td>4</td>\n",
       "      <td>1</td>\n",
       "      <td>Enterococcus faecalis (Streptococcus faecalis)</td>\n",
       "      <td>NaN</td>\n",
       "      <td>mvaS</td>\n",
       "      <td>False</td>\n",
       "    </tr>\n",
       "    <tr>\n",
       "      <th>2549293</th>\n",
       "      <td>PP_0751_PP_0814_PP_4120_P4-R2</td>\n",
       "      <td>Global Proteomics</td>\n",
       "      <td>sp|Q9FD71|HMGCS_ENTFL</td>\n",
       "      <td>Hydroxymethylglutaryl-CoA synthase</td>\n",
       "      <td>3.871369e+07</td>\n",
       "      <td>False</td>\n",
       "      <td>NaN</td>\n",
       "      <td>PP_0751_PP_0814_PP_4120_P4</td>\n",
       "      <td>4</td>\n",
       "      <td>1</td>\n",
       "      <td>Enterococcus faecalis (Streptococcus faecalis)</td>\n",
       "      <td>NaN</td>\n",
       "      <td>mvaS</td>\n",
       "      <td>False</td>\n",
       "    </tr>\n",
       "    <tr>\n",
       "      <th>2549294</th>\n",
       "      <td>PP_0751_PP_0814_PP_4120_P4-R3</td>\n",
       "      <td>Global Proteomics</td>\n",
       "      <td>sp|Q9FD71|HMGCS_ENTFL</td>\n",
       "      <td>Hydroxymethylglutaryl-CoA synthase</td>\n",
       "      <td>3.115950e+07</td>\n",
       "      <td>False</td>\n",
       "      <td>NaN</td>\n",
       "      <td>PP_0751_PP_0814_PP_4120_P4</td>\n",
       "      <td>4</td>\n",
       "      <td>1</td>\n",
       "      <td>Enterococcus faecalis (Streptococcus faecalis)</td>\n",
       "      <td>NaN</td>\n",
       "      <td>mvaS</td>\n",
       "      <td>False</td>\n",
       "    </tr>\n",
       "  </tbody>\n",
       "</table>\n",
       "<p>9120 rows × 14 columns</p>\n",
       "</div>"
      ],
      "text/plain": [
       "                             Line Name           Protocol  \\\n",
       "453                         Control-R1  Global Proteomics   \n",
       "454                         Control-R2  Global Proteomics   \n",
       "455                         Control-R3  Global Proteomics   \n",
       "456                         Control-R4  Global Proteomics   \n",
       "457                         Control-R5  Global Proteomics   \n",
       "...                                ...                ...   \n",
       "2549287  PP_0751_PP_0814_PP_4120_P4-R2  Global Proteomics   \n",
       "2549288  PP_0751_PP_0814_PP_4120_P4-R3  Global Proteomics   \n",
       "2549292  PP_0751_PP_0814_PP_4120_P4-R1  Global Proteomics   \n",
       "2549293  PP_0751_PP_0814_PP_4120_P4-R2  Global Proteomics   \n",
       "2549294  PP_0751_PP_0814_PP_4120_P4-R3  Global Proteomics   \n",
       "\n",
       "                       Formal Type                          Measurement Type  \\\n",
       "453       sp|P00552|KKA2_KLEPN Neo      Aminoglycoside 3'-phosphotransferase   \n",
       "454       sp|P00552|KKA2_KLEPN Neo      Aminoglycoside 3'-phosphotransferase   \n",
       "455       sp|P00552|KKA2_KLEPN Neo      Aminoglycoside 3'-phosphotransferase   \n",
       "456       sp|P00552|KKA2_KLEPN Neo      Aminoglycoside 3'-phosphotransferase   \n",
       "457       sp|P00552|KKA2_KLEPN Neo      Aminoglycoside 3'-phosphotransferase   \n",
       "...                            ...                                       ...   \n",
       "2549287  sp|Q99ZW2|CAS9_STRP1 Cas9  CRISPR-associated endonuclease Cas9/Csn1   \n",
       "2549288  sp|Q99ZW2|CAS9_STRP1 Cas9  CRISPR-associated endonuclease Cas9/Csn1   \n",
       "2549292      sp|Q9FD71|HMGCS_ENTFL        Hydroxymethylglutaryl-CoA synthase   \n",
       "2549293      sp|Q9FD71|HMGCS_ENTFL        Hydroxymethylglutaryl-CoA synthase   \n",
       "2549294      sp|Q9FD71|HMGCS_ENTFL        Hydroxymethylglutaryl-CoA synthase   \n",
       "\n",
       "                Value  is_control  rep             line_name_norep  cycle  \\\n",
       "453      5.341811e+08        True  1.0                     Control      0   \n",
       "454      6.467078e+08        True  2.0                     Control      0   \n",
       "455      6.684408e+08        True  3.0                     Control      0   \n",
       "456      4.428832e+08        True  4.0                     Control      0   \n",
       "457      5.232355e+08        True  5.0                     Control      0   \n",
       "...               ...         ...  ...                         ...    ...   \n",
       "2549287  0.000000e+00       False  NaN  PP_0751_PP_0814_PP_4120_P4      4   \n",
       "2549288  1.307429e+05       False  NaN  PP_0751_PP_0814_PP_4120_P4      4   \n",
       "2549292  2.446165e+07       False  NaN  PP_0751_PP_0814_PP_4120_P4      4   \n",
       "2549293  3.871369e+07       False  NaN  PP_0751_PP_0814_PP_4120_P4      4   \n",
       "2549294  3.115950e+07       False  NaN  PP_0751_PP_0814_PP_4120_P4      4   \n",
       "\n",
       "         plate_number                                        organism  \\\n",
       "453                 1                           Klebsiella pneumoniae   \n",
       "454                 1                           Klebsiella pneumoniae   \n",
       "455                 1                           Klebsiella pneumoniae   \n",
       "456                 1                           Klebsiella pneumoniae   \n",
       "457                 1                           Klebsiella pneumoniae   \n",
       "...               ...                                             ...   \n",
       "2549287             1              Streptococcus pyogenes serotype M1   \n",
       "2549288             1              Streptococcus pyogenes serotype M1   \n",
       "2549292             1  Enterococcus faecalis (Streptococcus faecalis)   \n",
       "2549293             1  Enterococcus faecalis (Streptococcus faecalis)   \n",
       "2549294             1  Enterococcus faecalis (Streptococcus faecalis)   \n",
       "\n",
       "            locus primary is_putida  \n",
       "453           NaN     neo     False  \n",
       "454           NaN     neo     False  \n",
       "455           NaN     neo     False  \n",
       "456           NaN     neo     False  \n",
       "457           NaN     neo     False  \n",
       "...           ...     ...       ...  \n",
       "2549287  SPy_1046    cas9     False  \n",
       "2549288  SPy_1046    cas9     False  \n",
       "2549292       NaN    mvaS     False  \n",
       "2549293       NaN    mvaS     False  \n",
       "2549294       NaN    mvaS     False  \n",
       "\n",
       "[9120 rows x 14 columns]"
      ]
     },
     "execution_count": 57,
     "metadata": {},
     "output_type": "execute_result"
    }
   ],
   "source": [
    "df.loc[df['is_putida']==False, :]"
   ]
  },
  {
   "cell_type": "code",
   "execution_count": 58,
   "id": "e16c5ee7-86d6-4062-8b0f-27897e20833c",
   "metadata": {
    "tags": []
   },
   "outputs": [
    {
     "data": {
      "text/plain": [
       "Formal Type                Measurement Type                                                               primary  locus       \n",
       "P0AE22                     Class B acid phosphatase                                                       aphA     b4055 JW4015    1140\n",
       "sp|P32377|MVD1_YEAST       Diphosphomevalonate decarboxylase                                              MVD1     YNR043W         1140\n",
       "sp|Q99ZW2|CAS9_STRP1 Cas9  CRISPR-associated endonuclease Cas9/Csn1                                       cas9     SPy_1046        1140\n",
       "tr|Q8PW39|Q8PW39_METMA     Mevalonate kinase                                                              mvk      MM_1762         1140\n",
       "tr|Q835L3|Q835L3_ENTFA     Acetyl-CoA acetyltransferase/hydroxymethylglutaryl-CoA reductase, degradative  mvaE     EF_1364          954\n",
       "                           Hydroxymethylglutaryl-CoA synthase                                             mvaE     EF_1364          186\n",
       "Name: count, dtype: int64"
      ]
     },
     "execution_count": 58,
     "metadata": {},
     "output_type": "execute_result"
    }
   ],
   "source": [
    "df.loc[df['is_putida']==False, ['Formal Type', 'Measurement Type', 'primary', 'locus']].value_counts()"
   ]
  },
  {
   "cell_type": "code",
   "execution_count": 59,
   "id": "8b4fdf0f-286a-4a69-bda1-15a8bc6f5d9e",
   "metadata": {
    "tags": []
   },
   "outputs": [
    {
     "data": {
      "text/plain": [
       "Protocol\n",
       "Global Proteomics    1926600\n",
       "GC-FID                  1140\n",
       "Name: count, dtype: int64"
      ]
     },
     "execution_count": 59,
     "metadata": {},
     "output_type": "execute_result"
    }
   ],
   "source": [
    "df.Protocol.value_counts()"
   ]
  },
  {
   "cell_type": "markdown",
   "id": "6ff719a4-c598-4683-a8fd-bff8e3fa02c9",
   "metadata": {},
   "source": [
    "### Add column name based on locus number or primary name"
   ]
  },
  {
   "cell_type": "code",
   "execution_count": 60,
   "id": "99877ef6-96c0-44b6-888a-838bce4110d0",
   "metadata": {
    "tags": []
   },
   "outputs": [],
   "source": [
    "def column_name_from_locus_or_primary(df_row):\n",
    "    if not pd.isna(df_row['locus']):\n",
    "        return df_row['locus']\n",
    "    else:\n",
    "        return df_row['primary']"
   ]
  },
  {
   "cell_type": "code",
   "execution_count": 61,
   "id": "d9a75f83-3940-4650-8342-8955b0cd763c",
   "metadata": {
    "tags": []
   },
   "outputs": [],
   "source": [
    "df.loc[:,'column_name'] = None\n",
    "df.loc[df['Protocol'] == 'GC-FID', 'column_name'] = 'isoprenol'\n",
    "df.loc[df['Protocol'] == 'Global Proteomics', 'column_name'] = df.loc[df['Protocol'] == 'Global Proteomics', :].apply(column_name_from_locus_or_primary, axis = 1)"
   ]
  },
  {
   "cell_type": "markdown",
   "id": "9e6f8fd7-bc1c-4fd2-a9d4-0fb814682e31",
   "metadata": {},
   "source": [
    "### add cycle name to line names\n",
    "Pivoting the dataframes relies on different lines having different names - adding the cycle number ensures that there are no duplicates (especially for controls)."
   ]
  },
  {
   "cell_type": "code",
   "execution_count": 62,
   "id": "d5bf9c79-607a-4c69-be25-21bca7953aef",
   "metadata": {
    "tags": []
   },
   "outputs": [],
   "source": [
    "df.loc[:, 'line_name_rep_cycle'] = None\n",
    "df.loc[df['cycle'] == 0, 'line_name_rep_cycle'] = df.loc[df['cycle'] == 0, 'Line Name'].apply(lambda x: x + '_c0')\n",
    "df.loc[df['cycle'] == 1, 'line_name_rep_cycle'] = df.loc[df['cycle'] == 1, 'Line Name'].apply(lambda x: x + '_c1')\n",
    "df.loc[df['cycle'] == 2, 'line_name_rep_cycle'] = df.loc[df['cycle'] == 2, 'Line Name'].apply(lambda x: x + '_c2')\n",
    "df.loc[df['cycle'] == 3, 'line_name_rep_cycle'] = df.loc[df['cycle'] == 3, 'Line Name'].apply(lambda x: x + '_c3')\n",
    "df.loc[df['cycle'] == 4, 'line_name_rep_cycle'] = df.loc[df['cycle'] == 4, 'Line Name'].apply(lambda x: x + '_c4')"
   ]
  },
  {
   "cell_type": "code",
   "execution_count": 63,
   "id": "6c236f4b-7aed-46ac-8795-82edf4163851",
   "metadata": {
    "tags": []
   },
   "outputs": [
    {
     "name": "stdout",
     "output_type": "stream",
     "text": [
      "cycle 0 unique meas types: ['3-METHYL-3-BUTEN-1-OL' \"Aminoglycoside 3'-phosphotransferase\"\n",
      " 'Amino-acid acetyltransferase'\n",
      " 'Chromosomal replication initiator protein DnaA' 'Beta sliding clamp']\n",
      "cycle 1 unique meas types: ['3-METHYL-3-BUTEN-1-OL' \"Aminoglycoside 3'-phosphotransferase\"\n",
      " 'Amino-acid acetyltransferase'\n",
      " 'Chromosomal replication initiator protein DnaA' 'Beta sliding clamp']\n",
      "cycle 2 unique meas types: ['3-METHYL-3-BUTEN-1-OL' \"Aminoglycoside 3'-phosphotransferase\"\n",
      " 'Amino-acid acetyltransferase'\n",
      " 'Chromosomal replication initiator protein DnaA' 'Beta sliding clamp']\n",
      "cycle 3 unique meas types: [\"Aminoglycoside 3'-phosphotransferase\" 'Amino-acid acetyltransferase'\n",
      " 'Chromosomal replication initiator protein DnaA' 'Beta sliding clamp'\n",
      " 'Ferredoxin 1']\n",
      "cycle 4 unique meas types: ['3-METHYL-3-BUTEN-1-OL' \"Aminoglycoside 3'-phosphotransferase\"\n",
      " 'Amino-acid acetyltransferase'\n",
      " 'Chromosomal replication initiator protein DnaA' 'Beta sliding clamp']\n"
     ]
    }
   ],
   "source": [
    "print(f\"cycle 0 unique meas types: {df.loc[df['cycle'] == 0, 'Measurement Type'].unique()[:5]}\")\n",
    "print(f\"cycle 1 unique meas types: {df.loc[df['cycle'] == 1, 'Measurement Type'].unique()[:5]}\")\n",
    "print(f\"cycle 2 unique meas types: {df.loc[df['cycle'] == 2, 'Measurement Type'].unique()[:5]}\")\n",
    "print(f\"cycle 3 unique meas types: {df.loc[df['cycle'] == 3, 'Measurement Type'].unique()[:5]}\")\n",
    "print(f\"cycle 4 unique meas types: {df.loc[df['cycle'] == 4, 'Measurement Type'].unique()[:5]}\")\n"
   ]
  },
  {
   "cell_type": "code",
   "execution_count": 64,
   "id": "d755cdd7-5d38-4b69-9444-bed3a699550f",
   "metadata": {
    "tags": []
   },
   "outputs": [
    {
     "name": "stdout",
     "output_type": "stream",
     "text": [
      "1394\n",
      "1394\n",
      "1394\n",
      "1394\n",
      "1393\n"
     ]
    }
   ],
   "source": [
    "cycle0mt = list(df.loc[df['cycle'] == 0, 'Measurement Type'].unique())\n",
    "print(len(cycle0mt))\n",
    "cycle1mt = list(df.loc[df['cycle'] == 1, 'Measurement Type'].unique())\n",
    "print(len(cycle1mt))\n",
    "cycle2mt = list(df.loc[df['cycle'] == 2, 'Measurement Type'].unique())\n",
    "print(len(cycle2mt))\n",
    "cycle3mt = list(df.loc[df['cycle'] == 3, 'Measurement Type'].unique())\n",
    "print(len(cycle3mt))\n",
    "cycle4mt = list(df.loc[df['cycle'] == 4, 'Measurement Type'].unique())\n",
    "print(len(cycle4mt))"
   ]
  },
  {
   "cell_type": "code",
   "execution_count": 65,
   "id": "da0595c6-e29d-461e-90bb-004014228783",
   "metadata": {
    "tags": []
   },
   "outputs": [
    {
     "data": {
      "text/html": [
       "<div>\n",
       "<style scoped>\n",
       "    .dataframe tbody tr th:only-of-type {\n",
       "        vertical-align: middle;\n",
       "    }\n",
       "\n",
       "    .dataframe tbody tr th {\n",
       "        vertical-align: top;\n",
       "    }\n",
       "\n",
       "    .dataframe thead th {\n",
       "        text-align: right;\n",
       "    }\n",
       "</style>\n",
       "<table border=\"1\" class=\"dataframe\">\n",
       "  <thead>\n",
       "    <tr style=\"text-align: right;\">\n",
       "      <th></th>\n",
       "      <th>Line Name</th>\n",
       "      <th>Protocol</th>\n",
       "      <th>Formal Type</th>\n",
       "      <th>Measurement Type</th>\n",
       "      <th>Value</th>\n",
       "      <th>is_control</th>\n",
       "      <th>rep</th>\n",
       "      <th>line_name_norep</th>\n",
       "      <th>cycle</th>\n",
       "      <th>plate_number</th>\n",
       "      <th>organism</th>\n",
       "      <th>locus</th>\n",
       "      <th>primary</th>\n",
       "      <th>is_putida</th>\n",
       "      <th>column_name</th>\n",
       "      <th>line_name_rep_cycle</th>\n",
       "    </tr>\n",
       "  </thead>\n",
       "  <tbody>\n",
       "    <tr>\n",
       "      <th>0</th>\n",
       "      <td>Control-R1</td>\n",
       "      <td>GC-FID</td>\n",
       "      <td>cid:12988</td>\n",
       "      <td>3-METHYL-3-BUTEN-1-OL</td>\n",
       "      <td>177.33700</td>\n",
       "      <td>True</td>\n",
       "      <td>1.0</td>\n",
       "      <td>Control</td>\n",
       "      <td>0</td>\n",
       "      <td>1</td>\n",
       "      <td>NaN</td>\n",
       "      <td>NaN</td>\n",
       "      <td>NaN</td>\n",
       "      <td>NaN</td>\n",
       "      <td>isoprenol</td>\n",
       "      <td>Control-R1_c0</td>\n",
       "    </tr>\n",
       "    <tr>\n",
       "      <th>1</th>\n",
       "      <td>Control-R10</td>\n",
       "      <td>GC-FID</td>\n",
       "      <td>cid:12988</td>\n",
       "      <td>3-METHYL-3-BUTEN-1-OL</td>\n",
       "      <td>176.13507</td>\n",
       "      <td>True</td>\n",
       "      <td>10.0</td>\n",
       "      <td>Control</td>\n",
       "      <td>0</td>\n",
       "      <td>2</td>\n",
       "      <td>NaN</td>\n",
       "      <td>NaN</td>\n",
       "      <td>NaN</td>\n",
       "      <td>NaN</td>\n",
       "      <td>isoprenol</td>\n",
       "      <td>Control-R10_c0</td>\n",
       "    </tr>\n",
       "    <tr>\n",
       "      <th>2</th>\n",
       "      <td>Control-R11</td>\n",
       "      <td>GC-FID</td>\n",
       "      <td>cid:12988</td>\n",
       "      <td>3-METHYL-3-BUTEN-1-OL</td>\n",
       "      <td>192.63713</td>\n",
       "      <td>True</td>\n",
       "      <td>11.0</td>\n",
       "      <td>Control</td>\n",
       "      <td>0</td>\n",
       "      <td>2</td>\n",
       "      <td>NaN</td>\n",
       "      <td>NaN</td>\n",
       "      <td>NaN</td>\n",
       "      <td>NaN</td>\n",
       "      <td>isoprenol</td>\n",
       "      <td>Control-R11_c0</td>\n",
       "    </tr>\n",
       "  </tbody>\n",
       "</table>\n",
       "</div>"
      ],
      "text/plain": [
       "     Line Name Protocol Formal Type       Measurement Type      Value  \\\n",
       "0   Control-R1   GC-FID   cid:12988  3-METHYL-3-BUTEN-1-OL  177.33700   \n",
       "1  Control-R10   GC-FID   cid:12988  3-METHYL-3-BUTEN-1-OL  176.13507   \n",
       "2  Control-R11   GC-FID   cid:12988  3-METHYL-3-BUTEN-1-OL  192.63713   \n",
       "\n",
       "   is_control   rep line_name_norep  cycle  plate_number organism locus  \\\n",
       "0        True   1.0         Control      0             1      NaN   NaN   \n",
       "1        True  10.0         Control      0             2      NaN   NaN   \n",
       "2        True  11.0         Control      0             2      NaN   NaN   \n",
       "\n",
       "  primary is_putida column_name line_name_rep_cycle  \n",
       "0     NaN       NaN   isoprenol       Control-R1_c0  \n",
       "1     NaN       NaN   isoprenol      Control-R10_c0  \n",
       "2     NaN       NaN   isoprenol      Control-R11_c0  "
      ]
     },
     "execution_count": 65,
     "metadata": {},
     "output_type": "execute_result"
    }
   ],
   "source": [
    "df.head(3)"
   ]
  },
  {
   "cell_type": "code",
   "execution_count": 66,
   "id": "639f3936-66a3-4213-bee0-4bf5354713e1",
   "metadata": {
    "tags": []
   },
   "outputs": [
    {
     "data": {
      "text/plain": [
       "line_name_rep_cycle\n",
       "Control-R1_c0                    1691\n",
       "PP_1769_PP_4192-R2_c2            1691\n",
       "PP_1769_PP_2136-R3_c2            1691\n",
       "PP_0368_PP_1769-R3_c2            1691\n",
       "Control_P4-R2_c2                 1691\n",
       "                                 ... \n",
       "PP_5420-R2_c0                    1691\n",
       "PP_5420-R3_c0                    1691\n",
       "PP_0226_PP_0897_PP_5288-R1_c1    1691\n",
       "PP_1319_PP_1457_PP_4192-R1_c1    1691\n",
       "Control_P4-R3_c4                 1691\n",
       "Name: count, Length: 1140, dtype: int64"
      ]
     },
     "execution_count": 66,
     "metadata": {},
     "output_type": "execute_result"
    }
   ],
   "source": [
    "df['line_name_rep_cycle'].value_counts()"
   ]
  },
  {
   "cell_type": "code",
   "execution_count": 67,
   "id": "63f2f8bd-ea93-410c-a804-fe359812e73e",
   "metadata": {
    "tags": []
   },
   "outputs": [
    {
     "data": {
      "text/html": [
       "<div>\n",
       "<style scoped>\n",
       "    .dataframe tbody tr th:only-of-type {\n",
       "        vertical-align: middle;\n",
       "    }\n",
       "\n",
       "    .dataframe tbody tr th {\n",
       "        vertical-align: top;\n",
       "    }\n",
       "\n",
       "    .dataframe thead th {\n",
       "        text-align: right;\n",
       "    }\n",
       "</style>\n",
       "<table border=\"1\" class=\"dataframe\">\n",
       "  <thead>\n",
       "    <tr style=\"text-align: right;\">\n",
       "      <th></th>\n",
       "      <th>Line Name</th>\n",
       "      <th>Protocol</th>\n",
       "      <th>Formal Type</th>\n",
       "      <th>Measurement Type</th>\n",
       "      <th>Value</th>\n",
       "      <th>is_control</th>\n",
       "      <th>rep</th>\n",
       "      <th>line_name_norep</th>\n",
       "      <th>cycle</th>\n",
       "      <th>plate_number</th>\n",
       "      <th>organism</th>\n",
       "      <th>locus</th>\n",
       "      <th>primary</th>\n",
       "      <th>is_putida</th>\n",
       "      <th>column_name</th>\n",
       "      <th>line_name_rep_cycle</th>\n",
       "    </tr>\n",
       "  </thead>\n",
       "  <tbody>\n",
       "  </tbody>\n",
       "</table>\n",
       "</div>"
      ],
      "text/plain": [
       "Empty DataFrame\n",
       "Columns: [Line Name, Protocol, Formal Type, Measurement Type, Value, is_control, rep, line_name_norep, cycle, plate_number, organism, locus, primary, is_putida, column_name, line_name_rep_cycle]\n",
       "Index: []"
      ]
     },
     "execution_count": 67,
     "metadata": {},
     "output_type": "execute_result"
    }
   ],
   "source": [
    "df.loc[(df['column_name'] == 'PP_1529') & (df['line_name_rep_cycle'] == 'PP_4189-R2_c1')]"
   ]
  },
  {
   "cell_type": "code",
   "execution_count": 68,
   "id": "8cf4a57a-b3cc-41fc-9fe1-23c2be4f5376",
   "metadata": {
    "tags": []
   },
   "outputs": [
    {
     "name": "stdout",
     "output_type": "stream",
     "text": [
      "(0, 16)\n",
      "(0, 16)\n",
      "(1691, 16)\n"
     ]
    }
   ],
   "source": [
    "print(df.loc[(df['line_name_rep_cycle'] == 'PP_4189-R2_c1')].shape)\n",
    "print(df.loc[(df['line_name_rep_cycle'] == 'PP_1319_PP_1457_PP_4192-R1_c2')].shape)\n",
    "print(df.loc[(df['line_name_rep_cycle'] == 'PP_0528_PP_0815_PP_1317_PP_4191-R1_c2')].shape)"
   ]
  },
  {
   "cell_type": "code",
   "execution_count": 69,
   "id": "6d4ffa64-4008-4977-a2b8-a73b6c24256b",
   "metadata": {
    "tags": []
   },
   "outputs": [
    {
     "data": {
      "text/plain": [
       "cycle\n",
       "0    654417\n",
       "1    324672\n",
       "2    324672\n",
       "4    314526\n",
       "3    309453\n",
       "Name: count, dtype: int64"
      ]
     },
     "execution_count": 69,
     "metadata": {},
     "output_type": "execute_result"
    }
   ],
   "source": [
    "df['cycle'].value_counts()"
   ]
  },
  {
   "cell_type": "markdown",
   "id": "25997e1c-9ffa-4bc9-b7c0-3816c722a463",
   "metadata": {},
   "source": [
    "## Add normalized values to df"
   ]
  },
  {
   "cell_type": "code",
   "execution_count": 70,
   "id": "3c686a1e-616f-4208-ad1f-5ff6737d4b3d",
   "metadata": {
    "tags": []
   },
   "outputs": [],
   "source": [
    "control_mean_df = df.loc[df['is_control'], ['Formal Type', 'Value', 'cycle', 'plate_number']].groupby(['Formal Type', 'cycle', 'plate_number']).mean()\n",
    "# control_mean_df.loc['P0AE22', 1]"
   ]
  },
  {
   "cell_type": "code",
   "execution_count": 71,
   "id": "a0a278f1-3704-414d-8b6e-c54dd0d17a78",
   "metadata": {
    "tags": []
   },
   "outputs": [
    {
     "data": {
      "text/html": [
       "<div>\n",
       "<style scoped>\n",
       "    .dataframe tbody tr th:only-of-type {\n",
       "        vertical-align: middle;\n",
       "    }\n",
       "\n",
       "    .dataframe tbody tr th {\n",
       "        vertical-align: top;\n",
       "    }\n",
       "\n",
       "    .dataframe thead th {\n",
       "        text-align: right;\n",
       "    }\n",
       "</style>\n",
       "<table border=\"1\" class=\"dataframe\">\n",
       "  <thead>\n",
       "    <tr style=\"text-align: right;\">\n",
       "      <th></th>\n",
       "      <th></th>\n",
       "      <th></th>\n",
       "      <th>Value</th>\n",
       "    </tr>\n",
       "    <tr>\n",
       "      <th>Formal Type</th>\n",
       "      <th>cycle</th>\n",
       "      <th>plate_number</th>\n",
       "      <th></th>\n",
       "    </tr>\n",
       "  </thead>\n",
       "  <tbody>\n",
       "    <tr>\n",
       "      <th rowspan=\"5\" valign=\"top\">P0AE22</th>\n",
       "      <th rowspan=\"3\" valign=\"top\">0</th>\n",
       "      <th>1</th>\n",
       "      <td>7.785538e+07</td>\n",
       "    </tr>\n",
       "    <tr>\n",
       "      <th>2</th>\n",
       "      <td>7.313769e+07</td>\n",
       "    </tr>\n",
       "    <tr>\n",
       "      <th>3</th>\n",
       "      <td>6.489270e+07</td>\n",
       "    </tr>\n",
       "    <tr>\n",
       "      <th>1</th>\n",
       "      <th>1</th>\n",
       "      <td>6.912507e+07</td>\n",
       "    </tr>\n",
       "    <tr>\n",
       "      <th>2</th>\n",
       "      <th>1</th>\n",
       "      <td>3.157739e+07</td>\n",
       "    </tr>\n",
       "    <tr>\n",
       "      <th>...</th>\n",
       "      <th>...</th>\n",
       "      <th>...</th>\n",
       "      <td>...</td>\n",
       "    </tr>\n",
       "    <tr>\n",
       "      <th rowspan=\"5\" valign=\"top\">tr|Q8PW39|Q8PW39_METMA</th>\n",
       "      <th>0</th>\n",
       "      <th>3</th>\n",
       "      <td>1.199272e+08</td>\n",
       "    </tr>\n",
       "    <tr>\n",
       "      <th>1</th>\n",
       "      <th>1</th>\n",
       "      <td>8.746541e+07</td>\n",
       "    </tr>\n",
       "    <tr>\n",
       "      <th>2</th>\n",
       "      <th>1</th>\n",
       "      <td>3.820415e+07</td>\n",
       "    </tr>\n",
       "    <tr>\n",
       "      <th>3</th>\n",
       "      <th>1</th>\n",
       "      <td>8.321961e+07</td>\n",
       "    </tr>\n",
       "    <tr>\n",
       "      <th>4</th>\n",
       "      <th>1</th>\n",
       "      <td>5.321477e+07</td>\n",
       "    </tr>\n",
       "  </tbody>\n",
       "</table>\n",
       "<p>11837 rows × 1 columns</p>\n",
       "</div>"
      ],
      "text/plain": [
       "                                                  Value\n",
       "Formal Type            cycle plate_number              \n",
       "P0AE22                 0     1             7.785538e+07\n",
       "                             2             7.313769e+07\n",
       "                             3             6.489270e+07\n",
       "                       1     1             6.912507e+07\n",
       "                       2     1             3.157739e+07\n",
       "...                                                 ...\n",
       "tr|Q8PW39|Q8PW39_METMA 0     3             1.199272e+08\n",
       "                       1     1             8.746541e+07\n",
       "                       2     1             3.820415e+07\n",
       "                       3     1             8.321961e+07\n",
       "                       4     1             5.321477e+07\n",
       "\n",
       "[11837 rows x 1 columns]"
      ]
     },
     "execution_count": 71,
     "metadata": {},
     "output_type": "execute_result"
    }
   ],
   "source": [
    "control_mean_df"
   ]
  },
  {
   "cell_type": "markdown",
   "id": "80912496-7464-452c-8665-af9195bdcdac",
   "metadata": {},
   "source": [
    "### Divide by control mean dataframe to normalize values"
   ]
  },
  {
   "cell_type": "code",
   "execution_count": 72,
   "id": "da7220fe-2d1d-4d4f-ae99-6946e801742a",
   "metadata": {
    "tags": []
   },
   "outputs": [
    {
     "data": {
      "text/plain": [
       "Value    402452.868333\n",
       "Name: (tr|Q88QV2|Q88QV2_PSEPK, 2, 1), dtype: float64"
      ]
     },
     "execution_count": 72,
     "metadata": {},
     "output_type": "execute_result"
    }
   ],
   "source": [
    "control_mean_df.loc['tr|Q88QV2|Q88QV2_PSEPK', 2, 1]"
   ]
  },
  {
   "cell_type": "code",
   "execution_count": 73,
   "id": "a7b6fb12-c440-43a5-b620-b1804ea3d40c",
   "metadata": {
    "tags": []
   },
   "outputs": [],
   "source": [
    "divide_by_control = lambda x: x['Value']/control_mean_df.loc[x['Formal Type'], x['cycle'], x['plate_number']].values[0]\n",
    "df.loc[:, 'normalized_value'] = df.apply(divide_by_control, axis = 1)"
   ]
  },
  {
   "cell_type": "markdown",
   "id": "b947dfac-b2cf-454b-aeae-5083361bc469",
   "metadata": {},
   "source": [
    "### Check control values - `normalized_value` should be around 1"
   ]
  },
  {
   "cell_type": "code",
   "execution_count": 74,
   "id": "e2acbfd2-dfbc-4e9f-9418-2fccd7ac67fa",
   "metadata": {
    "tags": []
   },
   "outputs": [
    {
     "data": {
      "text/html": [
       "<div>\n",
       "<style scoped>\n",
       "    .dataframe tbody tr th:only-of-type {\n",
       "        vertical-align: middle;\n",
       "    }\n",
       "\n",
       "    .dataframe tbody tr th {\n",
       "        vertical-align: top;\n",
       "    }\n",
       "\n",
       "    .dataframe thead th {\n",
       "        text-align: right;\n",
       "    }\n",
       "</style>\n",
       "<table border=\"1\" class=\"dataframe\">\n",
       "  <thead>\n",
       "    <tr style=\"text-align: right;\">\n",
       "      <th></th>\n",
       "      <th>Line Name</th>\n",
       "      <th>Protocol</th>\n",
       "      <th>Formal Type</th>\n",
       "      <th>Measurement Type</th>\n",
       "      <th>Value</th>\n",
       "      <th>is_control</th>\n",
       "      <th>rep</th>\n",
       "      <th>line_name_norep</th>\n",
       "      <th>cycle</th>\n",
       "      <th>plate_number</th>\n",
       "      <th>organism</th>\n",
       "      <th>locus</th>\n",
       "      <th>primary</th>\n",
       "      <th>is_putida</th>\n",
       "      <th>column_name</th>\n",
       "      <th>line_name_rep_cycle</th>\n",
       "      <th>normalized_value</th>\n",
       "    </tr>\n",
       "  </thead>\n",
       "  <tbody>\n",
       "    <tr>\n",
       "      <th>0</th>\n",
       "      <td>Control-R1</td>\n",
       "      <td>GC-FID</td>\n",
       "      <td>cid:12988</td>\n",
       "      <td>3-METHYL-3-BUTEN-1-OL</td>\n",
       "      <td>177.33700</td>\n",
       "      <td>True</td>\n",
       "      <td>1.0</td>\n",
       "      <td>Control</td>\n",
       "      <td>0</td>\n",
       "      <td>1</td>\n",
       "      <td>NaN</td>\n",
       "      <td>NaN</td>\n",
       "      <td>NaN</td>\n",
       "      <td>NaN</td>\n",
       "      <td>isoprenol</td>\n",
       "      <td>Control-R1_c0</td>\n",
       "      <td>1.078340</td>\n",
       "    </tr>\n",
       "    <tr>\n",
       "      <th>1</th>\n",
       "      <td>Control-R10</td>\n",
       "      <td>GC-FID</td>\n",
       "      <td>cid:12988</td>\n",
       "      <td>3-METHYL-3-BUTEN-1-OL</td>\n",
       "      <td>176.13507</td>\n",
       "      <td>True</td>\n",
       "      <td>10.0</td>\n",
       "      <td>Control</td>\n",
       "      <td>0</td>\n",
       "      <td>2</td>\n",
       "      <td>NaN</td>\n",
       "      <td>NaN</td>\n",
       "      <td>NaN</td>\n",
       "      <td>NaN</td>\n",
       "      <td>isoprenol</td>\n",
       "      <td>Control-R10_c0</td>\n",
       "      <td>1.024392</td>\n",
       "    </tr>\n",
       "    <tr>\n",
       "      <th>2</th>\n",
       "      <td>Control-R11</td>\n",
       "      <td>GC-FID</td>\n",
       "      <td>cid:12988</td>\n",
       "      <td>3-METHYL-3-BUTEN-1-OL</td>\n",
       "      <td>192.63713</td>\n",
       "      <td>True</td>\n",
       "      <td>11.0</td>\n",
       "      <td>Control</td>\n",
       "      <td>0</td>\n",
       "      <td>2</td>\n",
       "      <td>NaN</td>\n",
       "      <td>NaN</td>\n",
       "      <td>NaN</td>\n",
       "      <td>NaN</td>\n",
       "      <td>isoprenol</td>\n",
       "      <td>Control-R11_c0</td>\n",
       "      <td>1.120367</td>\n",
       "    </tr>\n",
       "    <tr>\n",
       "      <th>3</th>\n",
       "      <td>Control-R12</td>\n",
       "      <td>GC-FID</td>\n",
       "      <td>cid:12988</td>\n",
       "      <td>3-METHYL-3-BUTEN-1-OL</td>\n",
       "      <td>202.70480</td>\n",
       "      <td>True</td>\n",
       "      <td>12.0</td>\n",
       "      <td>Control</td>\n",
       "      <td>0</td>\n",
       "      <td>2</td>\n",
       "      <td>NaN</td>\n",
       "      <td>NaN</td>\n",
       "      <td>NaN</td>\n",
       "      <td>NaN</td>\n",
       "      <td>isoprenol</td>\n",
       "      <td>Control-R12_c0</td>\n",
       "      <td>1.178920</td>\n",
       "    </tr>\n",
       "    <tr>\n",
       "      <th>4</th>\n",
       "      <td>Control-R13</td>\n",
       "      <td>GC-FID</td>\n",
       "      <td>cid:12988</td>\n",
       "      <td>3-METHYL-3-BUTEN-1-OL</td>\n",
       "      <td>123.84653</td>\n",
       "      <td>True</td>\n",
       "      <td>13.0</td>\n",
       "      <td>Control</td>\n",
       "      <td>0</td>\n",
       "      <td>2</td>\n",
       "      <td>NaN</td>\n",
       "      <td>NaN</td>\n",
       "      <td>NaN</td>\n",
       "      <td>NaN</td>\n",
       "      <td>isoprenol</td>\n",
       "      <td>Control-R13_c0</td>\n",
       "      <td>0.720284</td>\n",
       "    </tr>\n",
       "  </tbody>\n",
       "</table>\n",
       "</div>"
      ],
      "text/plain": [
       "     Line Name Protocol Formal Type       Measurement Type      Value  \\\n",
       "0   Control-R1   GC-FID   cid:12988  3-METHYL-3-BUTEN-1-OL  177.33700   \n",
       "1  Control-R10   GC-FID   cid:12988  3-METHYL-3-BUTEN-1-OL  176.13507   \n",
       "2  Control-R11   GC-FID   cid:12988  3-METHYL-3-BUTEN-1-OL  192.63713   \n",
       "3  Control-R12   GC-FID   cid:12988  3-METHYL-3-BUTEN-1-OL  202.70480   \n",
       "4  Control-R13   GC-FID   cid:12988  3-METHYL-3-BUTEN-1-OL  123.84653   \n",
       "\n",
       "   is_control   rep line_name_norep  cycle  plate_number organism locus  \\\n",
       "0        True   1.0         Control      0             1      NaN   NaN   \n",
       "1        True  10.0         Control      0             2      NaN   NaN   \n",
       "2        True  11.0         Control      0             2      NaN   NaN   \n",
       "3        True  12.0         Control      0             2      NaN   NaN   \n",
       "4        True  13.0         Control      0             2      NaN   NaN   \n",
       "\n",
       "  primary is_putida column_name line_name_rep_cycle  normalized_value  \n",
       "0     NaN       NaN   isoprenol       Control-R1_c0          1.078340  \n",
       "1     NaN       NaN   isoprenol      Control-R10_c0          1.024392  \n",
       "2     NaN       NaN   isoprenol      Control-R11_c0          1.120367  \n",
       "3     NaN       NaN   isoprenol      Control-R12_c0          1.178920  \n",
       "4     NaN       NaN   isoprenol      Control-R13_c0          0.720284  "
      ]
     },
     "execution_count": 74,
     "metadata": {},
     "output_type": "execute_result"
    }
   ],
   "source": [
    "df[df['is_control']].head(5)"
   ]
  },
  {
   "cell_type": "markdown",
   "id": "9bb14e6e-e5f3-438f-b912-fdc9dfec2f7a",
   "metadata": {},
   "source": [
    "### Test normalization\n",
    "Manually calculate the control means for a couple strains and test that they equal the dataframe results."
   ]
  },
  {
   "cell_type": "code",
   "execution_count": 75,
   "id": "2bb3d046-b151-4bd8-a908-dadc73a54bcf",
   "metadata": {
    "tags": []
   },
   "outputs": [
    {
     "data": {
      "text/html": [
       "<div>\n",
       "<style scoped>\n",
       "    .dataframe tbody tr th:only-of-type {\n",
       "        vertical-align: middle;\n",
       "    }\n",
       "\n",
       "    .dataframe tbody tr th {\n",
       "        vertical-align: top;\n",
       "    }\n",
       "\n",
       "    .dataframe thead th {\n",
       "        text-align: right;\n",
       "    }\n",
       "</style>\n",
       "<table border=\"1\" class=\"dataframe\">\n",
       "  <thead>\n",
       "    <tr style=\"text-align: right;\">\n",
       "      <th></th>\n",
       "      <th>Line Name</th>\n",
       "      <th>Protocol</th>\n",
       "      <th>Formal Type</th>\n",
       "      <th>Measurement Type</th>\n",
       "      <th>Value</th>\n",
       "      <th>is_control</th>\n",
       "      <th>rep</th>\n",
       "      <th>line_name_norep</th>\n",
       "      <th>cycle</th>\n",
       "      <th>plate_number</th>\n",
       "      <th>organism</th>\n",
       "      <th>locus</th>\n",
       "      <th>primary</th>\n",
       "      <th>is_putida</th>\n",
       "      <th>column_name</th>\n",
       "      <th>line_name_rep_cycle</th>\n",
       "      <th>normalized_value</th>\n",
       "    </tr>\n",
       "  </thead>\n",
       "  <tbody>\n",
       "    <tr>\n",
       "      <th>1372268</th>\n",
       "      <td>PP_0368_PP_1769-R3</td>\n",
       "      <td>Global Proteomics</td>\n",
       "      <td>sp|P00552|KKA2_KLEPN Neo</td>\n",
       "      <td>Aminoglycoside 3'-phosphotransferase</td>\n",
       "      <td>129194194.1</td>\n",
       "      <td>False</td>\n",
       "      <td>NaN</td>\n",
       "      <td>PP_0368_PP_1769</td>\n",
       "      <td>2</td>\n",
       "      <td>1</td>\n",
       "      <td>Klebsiella pneumoniae</td>\n",
       "      <td>NaN</td>\n",
       "      <td>neo</td>\n",
       "      <td>False</td>\n",
       "      <td>neo</td>\n",
       "      <td>PP_0368_PP_1769-R3_c2</td>\n",
       "      <td>0.809593</td>\n",
       "    </tr>\n",
       "  </tbody>\n",
       "</table>\n",
       "</div>"
      ],
      "text/plain": [
       "                  Line Name           Protocol               Formal Type  \\\n",
       "1372268  PP_0368_PP_1769-R3  Global Proteomics  sp|P00552|KKA2_KLEPN Neo   \n",
       "\n",
       "                             Measurement Type        Value  is_control  rep  \\\n",
       "1372268  Aminoglycoside 3'-phosphotransferase  129194194.1       False  NaN   \n",
       "\n",
       "         line_name_norep  cycle  plate_number               organism locus  \\\n",
       "1372268  PP_0368_PP_1769      2             1  Klebsiella pneumoniae   NaN   \n",
       "\n",
       "        primary is_putida column_name    line_name_rep_cycle  normalized_value  \n",
       "1372268     neo     False         neo  PP_0368_PP_1769-R3_c2          0.809593  "
      ]
     },
     "execution_count": 75,
     "metadata": {},
     "output_type": "execute_result"
    }
   ],
   "source": [
    "test_ft = 'sp|P00552|KKA2_KLEPN Neo'\n",
    "test_line = 'PP_0368_PP_1769-R3'\n",
    "test_series = df.loc[(df['Line Name'] == test_line) & (df['Formal Type'] == test_ft) & (df['cycle'] == 2), :]\n",
    "test_series"
   ]
  },
  {
   "cell_type": "code",
   "execution_count": 76,
   "id": "c492e2dd-141e-460b-b862-2efb9d02dd0f",
   "metadata": {
    "tags": []
   },
   "outputs": [],
   "source": [
    "test_cntrl_val = df.loc[(df['is_control']) & (df['Formal Type'] == test_ft) & (df['cycle'] == 2), 'Value'].values\n",
    "test_cntrl_mean = np.mean(test_cntrl_val)"
   ]
  },
  {
   "cell_type": "code",
   "execution_count": 77,
   "id": "e2df4f4d-1587-4aa0-9728-b254e1f9b0e7",
   "metadata": {
    "tags": []
   },
   "outputs": [
    {
     "name": "stdout",
     "output_type": "stream",
     "text": [
      "Normalized value from lambda function: [0.80959293]\n",
      "Normalized value from checking: [0.80959293]\n"
     ]
    }
   ],
   "source": [
    "print(f\"Normalized value from lambda function: {test_series['normalized_value'].values}\")\n",
    "print(f\"Normalized value from checking: {test_series['Value'].values/test_cntrl_mean}\")\n",
    "assert np.abs(test_series['normalized_value'].values[0] - test_series['Value'].values[0]/test_cntrl_mean) < 1e-10, 'Normalization from cycle 2 did not work'"
   ]
  },
  {
   "cell_type": "code",
   "execution_count": 78,
   "id": "c87646f3-0e48-4f25-9f19-c3bb9cec7a96",
   "metadata": {
    "tags": []
   },
   "outputs": [
    {
     "data": {
      "text/html": [
       "<div>\n",
       "<style scoped>\n",
       "    .dataframe tbody tr th:only-of-type {\n",
       "        vertical-align: middle;\n",
       "    }\n",
       "\n",
       "    .dataframe tbody tr th {\n",
       "        vertical-align: top;\n",
       "    }\n",
       "\n",
       "    .dataframe thead th {\n",
       "        text-align: right;\n",
       "    }\n",
       "</style>\n",
       "<table border=\"1\" class=\"dataframe\">\n",
       "  <thead>\n",
       "    <tr style=\"text-align: right;\">\n",
       "      <th></th>\n",
       "      <th>Line Name</th>\n",
       "      <th>Protocol</th>\n",
       "      <th>Formal Type</th>\n",
       "      <th>Measurement Type</th>\n",
       "      <th>Value</th>\n",
       "      <th>is_control</th>\n",
       "      <th>rep</th>\n",
       "      <th>line_name_norep</th>\n",
       "      <th>cycle</th>\n",
       "      <th>plate_number</th>\n",
       "      <th>organism</th>\n",
       "      <th>locus</th>\n",
       "      <th>primary</th>\n",
       "      <th>is_putida</th>\n",
       "      <th>column_name</th>\n",
       "      <th>line_name_rep_cycle</th>\n",
       "      <th>normalized_value</th>\n",
       "    </tr>\n",
       "  </thead>\n",
       "  <tbody>\n",
       "    <tr>\n",
       "      <th>1371463</th>\n",
       "      <td>PP_0813_PP_4189-R2</td>\n",
       "      <td>Global Proteomics</td>\n",
       "      <td>sp|Q9FD71|HMGCS_ENTFL</td>\n",
       "      <td>Hydroxymethylglutaryl-CoA synthase</td>\n",
       "      <td>94215218.55</td>\n",
       "      <td>False</td>\n",
       "      <td>2.0</td>\n",
       "      <td>PP_0813_PP_4189</td>\n",
       "      <td>1</td>\n",
       "      <td>1</td>\n",
       "      <td>Enterococcus faecalis (Streptococcus faecalis)</td>\n",
       "      <td>NaN</td>\n",
       "      <td>mvaS</td>\n",
       "      <td>False</td>\n",
       "      <td>mvaS</td>\n",
       "      <td>PP_0813_PP_4189-R2_c1</td>\n",
       "      <td>1.262698</td>\n",
       "    </tr>\n",
       "  </tbody>\n",
       "</table>\n",
       "</div>"
      ],
      "text/plain": [
       "                  Line Name           Protocol            Formal Type  \\\n",
       "1371463  PP_0813_PP_4189-R2  Global Proteomics  sp|Q9FD71|HMGCS_ENTFL   \n",
       "\n",
       "                           Measurement Type        Value  is_control  rep  \\\n",
       "1371463  Hydroxymethylglutaryl-CoA synthase  94215218.55       False  2.0   \n",
       "\n",
       "         line_name_norep  cycle  plate_number  \\\n",
       "1371463  PP_0813_PP_4189      1             1   \n",
       "\n",
       "                                               organism locus primary  \\\n",
       "1371463  Enterococcus faecalis (Streptococcus faecalis)   NaN    mvaS   \n",
       "\n",
       "        is_putida column_name    line_name_rep_cycle  normalized_value  \n",
       "1371463     False        mvaS  PP_0813_PP_4189-R2_c1          1.262698  "
      ]
     },
     "execution_count": 78,
     "metadata": {},
     "output_type": "execute_result"
    }
   ],
   "source": [
    "test_ft = 'sp|Q9FD71|HMGCS_ENTFL'\n",
    "test_line = 'PP_0813_PP_4189-R2'\n",
    "test_plate = 1\n",
    "test_series = df.loc[(df['Line Name'] == test_line) & (df['Formal Type'] == test_ft) & (df['cycle'] == 1), :]\n",
    "test_series"
   ]
  },
  {
   "cell_type": "code",
   "execution_count": 79,
   "id": "b6969dcd-1bce-4038-9f2e-aa27cf198b09",
   "metadata": {
    "tags": []
   },
   "outputs": [],
   "source": [
    "test_cntrl_val = df.loc[(df['is_control']) & (df['Formal Type'] == test_ft) & (df['cycle'] == 1) & (df['plate_number'] == test_plate), 'Value'].values\n",
    "test_cntrl_mean = np.mean(test_cntrl_val)"
   ]
  },
  {
   "cell_type": "code",
   "execution_count": 80,
   "id": "ed651411-226d-4e7d-876f-55165820d966",
   "metadata": {
    "tags": []
   },
   "outputs": [
    {
     "name": "stdout",
     "output_type": "stream",
     "text": [
      "Normalized value from lambda function: [1.26269774]\n",
      "Normalized value from checking: [1.26269774]\n"
     ]
    }
   ],
   "source": [
    "print(f\"Normalized value from lambda function: {test_series['normalized_value'].values}\")\n",
    "print(f\"Normalized value from checking: {test_series['Value'].values/test_cntrl_mean}\")\n",
    "assert np.abs(test_series['normalized_value'].values[0] - test_series['Value'].values[0]/test_cntrl_mean) < 1e-10, 'Normalization from cycle 1 did not work'"
   ]
  },
  {
   "cell_type": "markdown",
   "id": "6fbea2ff-e893-468c-94b3-d562b34b93bd",
   "metadata": {
    "tags": []
   },
   "source": [
    "## Transform dataframe into matrix"
   ]
  },
  {
   "cell_type": "code",
   "execution_count": 81,
   "id": "76820033-9916-46be-81ae-8028829fe2e9",
   "metadata": {
    "tags": []
   },
   "outputs": [
    {
     "data": {
      "text/html": [
       "<div>\n",
       "<style scoped>\n",
       "    .dataframe tbody tr th:only-of-type {\n",
       "        vertical-align: middle;\n",
       "    }\n",
       "\n",
       "    .dataframe tbody tr th {\n",
       "        vertical-align: top;\n",
       "    }\n",
       "\n",
       "    .dataframe thead th {\n",
       "        text-align: right;\n",
       "    }\n",
       "</style>\n",
       "<table border=\"1\" class=\"dataframe\">\n",
       "  <thead>\n",
       "    <tr style=\"text-align: right;\">\n",
       "      <th></th>\n",
       "      <th>Line Name</th>\n",
       "      <th>Protocol</th>\n",
       "      <th>Formal Type</th>\n",
       "      <th>Measurement Type</th>\n",
       "      <th>Value</th>\n",
       "      <th>is_control</th>\n",
       "      <th>rep</th>\n",
       "      <th>line_name_norep</th>\n",
       "      <th>cycle</th>\n",
       "      <th>plate_number</th>\n",
       "      <th>organism</th>\n",
       "      <th>locus</th>\n",
       "      <th>primary</th>\n",
       "      <th>is_putida</th>\n",
       "      <th>column_name</th>\n",
       "      <th>line_name_rep_cycle</th>\n",
       "      <th>normalized_value</th>\n",
       "    </tr>\n",
       "  </thead>\n",
       "  <tbody>\n",
       "    <tr>\n",
       "      <th>0</th>\n",
       "      <td>Control-R1</td>\n",
       "      <td>GC-FID</td>\n",
       "      <td>cid:12988</td>\n",
       "      <td>3-METHYL-3-BUTEN-1-OL</td>\n",
       "      <td>177.33700</td>\n",
       "      <td>True</td>\n",
       "      <td>1.0</td>\n",
       "      <td>Control</td>\n",
       "      <td>0</td>\n",
       "      <td>1</td>\n",
       "      <td>NaN</td>\n",
       "      <td>NaN</td>\n",
       "      <td>NaN</td>\n",
       "      <td>NaN</td>\n",
       "      <td>isoprenol</td>\n",
       "      <td>Control-R1_c0</td>\n",
       "      <td>1.078340</td>\n",
       "    </tr>\n",
       "    <tr>\n",
       "      <th>1</th>\n",
       "      <td>Control-R10</td>\n",
       "      <td>GC-FID</td>\n",
       "      <td>cid:12988</td>\n",
       "      <td>3-METHYL-3-BUTEN-1-OL</td>\n",
       "      <td>176.13507</td>\n",
       "      <td>True</td>\n",
       "      <td>10.0</td>\n",
       "      <td>Control</td>\n",
       "      <td>0</td>\n",
       "      <td>2</td>\n",
       "      <td>NaN</td>\n",
       "      <td>NaN</td>\n",
       "      <td>NaN</td>\n",
       "      <td>NaN</td>\n",
       "      <td>isoprenol</td>\n",
       "      <td>Control-R10_c0</td>\n",
       "      <td>1.024392</td>\n",
       "    </tr>\n",
       "    <tr>\n",
       "      <th>2</th>\n",
       "      <td>Control-R11</td>\n",
       "      <td>GC-FID</td>\n",
       "      <td>cid:12988</td>\n",
       "      <td>3-METHYL-3-BUTEN-1-OL</td>\n",
       "      <td>192.63713</td>\n",
       "      <td>True</td>\n",
       "      <td>11.0</td>\n",
       "      <td>Control</td>\n",
       "      <td>0</td>\n",
       "      <td>2</td>\n",
       "      <td>NaN</td>\n",
       "      <td>NaN</td>\n",
       "      <td>NaN</td>\n",
       "      <td>NaN</td>\n",
       "      <td>isoprenol</td>\n",
       "      <td>Control-R11_c0</td>\n",
       "      <td>1.120367</td>\n",
       "    </tr>\n",
       "  </tbody>\n",
       "</table>\n",
       "</div>"
      ],
      "text/plain": [
       "     Line Name Protocol Formal Type       Measurement Type      Value  \\\n",
       "0   Control-R1   GC-FID   cid:12988  3-METHYL-3-BUTEN-1-OL  177.33700   \n",
       "1  Control-R10   GC-FID   cid:12988  3-METHYL-3-BUTEN-1-OL  176.13507   \n",
       "2  Control-R11   GC-FID   cid:12988  3-METHYL-3-BUTEN-1-OL  192.63713   \n",
       "\n",
       "   is_control   rep line_name_norep  cycle  plate_number organism locus  \\\n",
       "0        True   1.0         Control      0             1      NaN   NaN   \n",
       "1        True  10.0         Control      0             2      NaN   NaN   \n",
       "2        True  11.0         Control      0             2      NaN   NaN   \n",
       "\n",
       "  primary is_putida column_name line_name_rep_cycle  normalized_value  \n",
       "0     NaN       NaN   isoprenol       Control-R1_c0          1.078340  \n",
       "1     NaN       NaN   isoprenol      Control-R10_c0          1.024392  \n",
       "2     NaN       NaN   isoprenol      Control-R11_c0          1.120367  "
      ]
     },
     "execution_count": 81,
     "metadata": {},
     "output_type": "execute_result"
    }
   ],
   "source": [
    "df.head(3)"
   ]
  },
  {
   "cell_type": "code",
   "execution_count": 82,
   "id": "3ddee4ec-611b-4942-8565-75c64bf08a68",
   "metadata": {
    "tags": []
   },
   "outputs": [
    {
     "data": {
      "text/plain": [
       "array([1691])"
      ]
     },
     "execution_count": 82,
     "metadata": {},
     "output_type": "execute_result"
    }
   ],
   "source": [
    "df['line_name_rep_cycle'].value_counts().unique()"
   ]
  },
  {
   "cell_type": "markdown",
   "id": "8cb1fb03-4f2f-45bb-934e-df7ebf62349c",
   "metadata": {},
   "source": [
    "# TODO: Figure out where dupe entries come from!!"
   ]
  },
  {
   "cell_type": "code",
   "execution_count": 83,
   "id": "d79dccb0-4cb8-484d-920d-c9e2da1faa49",
   "metadata": {
    "tags": []
   },
   "outputs": [
    {
     "data": {
      "text/html": [
       "<div>\n",
       "<style scoped>\n",
       "    .dataframe tbody tr th:only-of-type {\n",
       "        vertical-align: middle;\n",
       "    }\n",
       "\n",
       "    .dataframe tbody tr th {\n",
       "        vertical-align: top;\n",
       "    }\n",
       "\n",
       "    .dataframe thead th {\n",
       "        text-align: right;\n",
       "    }\n",
       "</style>\n",
       "<table border=\"1\" class=\"dataframe\">\n",
       "  <thead>\n",
       "    <tr style=\"text-align: right;\">\n",
       "      <th>column_name</th>\n",
       "      <th>EF_1364</th>\n",
       "      <th>MM_1762</th>\n",
       "      <th>PP_0001</th>\n",
       "      <th>PP_0002</th>\n",
       "      <th>PP_0003</th>\n",
       "      <th>PP_0004</th>\n",
       "      <th>PP_0005</th>\n",
       "      <th>PP_0006</th>\n",
       "      <th>PP_0009</th>\n",
       "      <th>PP_0010</th>\n",
       "      <th>...</th>\n",
       "      <th>PP_5416</th>\n",
       "      <th>PP_5417</th>\n",
       "      <th>PP_5418</th>\n",
       "      <th>SPy_1046</th>\n",
       "      <th>YNR043W</th>\n",
       "      <th>aacC1</th>\n",
       "      <th>b4055 JW4015</th>\n",
       "      <th>isoprenol</th>\n",
       "      <th>mvaS</th>\n",
       "      <th>neo</th>\n",
       "    </tr>\n",
       "    <tr>\n",
       "      <th>line_name_rep_cycle</th>\n",
       "      <th></th>\n",
       "      <th></th>\n",
       "      <th></th>\n",
       "      <th></th>\n",
       "      <th></th>\n",
       "      <th></th>\n",
       "      <th></th>\n",
       "      <th></th>\n",
       "      <th></th>\n",
       "      <th></th>\n",
       "      <th></th>\n",
       "      <th></th>\n",
       "      <th></th>\n",
       "      <th></th>\n",
       "      <th></th>\n",
       "      <th></th>\n",
       "      <th></th>\n",
       "      <th></th>\n",
       "      <th></th>\n",
       "      <th></th>\n",
       "      <th></th>\n",
       "    </tr>\n",
       "  </thead>\n",
       "  <tbody>\n",
       "    <tr>\n",
       "      <th>Control-R10_c0</th>\n",
       "      <td>6.568999e+08</td>\n",
       "      <td>204555498.0</td>\n",
       "      <td>4191160.00</td>\n",
       "      <td>1726479.00</td>\n",
       "      <td>3373951.00</td>\n",
       "      <td>2173503.20</td>\n",
       "      <td>738448.20</td>\n",
       "      <td>9799845.60</td>\n",
       "      <td>3990000.00</td>\n",
       "      <td>7383747.00</td>\n",
       "      <td>...</td>\n",
       "      <td>7783568.00</td>\n",
       "      <td>26338335.00</td>\n",
       "      <td>0.00</td>\n",
       "      <td>28115139.40</td>\n",
       "      <td>582841585.4</td>\n",
       "      <td>3.540011e+08</td>\n",
       "      <td>78695480.00</td>\n",
       "      <td>176.13507</td>\n",
       "      <td>1.748806e+08</td>\n",
       "      <td>611368325.0</td>\n",
       "    </tr>\n",
       "    <tr>\n",
       "      <th>Control-R11_c0</th>\n",
       "      <td>6.336656e+08</td>\n",
       "      <td>225083958.1</td>\n",
       "      <td>2954944.60</td>\n",
       "      <td>1519673.10</td>\n",
       "      <td>2999362.20</td>\n",
       "      <td>2068667.90</td>\n",
       "      <td>745762.90</td>\n",
       "      <td>11322391.80</td>\n",
       "      <td>3840000.00</td>\n",
       "      <td>6756559.10</td>\n",
       "      <td>...</td>\n",
       "      <td>8560711.10</td>\n",
       "      <td>29120542.00</td>\n",
       "      <td>22439.40</td>\n",
       "      <td>24151481.40</td>\n",
       "      <td>628324289.0</td>\n",
       "      <td>3.715957e+08</td>\n",
       "      <td>89522940.50</td>\n",
       "      <td>192.63713</td>\n",
       "      <td>1.855450e+08</td>\n",
       "      <td>583198798.1</td>\n",
       "    </tr>\n",
       "    <tr>\n",
       "      <th>Control-R12_c0</th>\n",
       "      <td>6.537668e+08</td>\n",
       "      <td>226726387.0</td>\n",
       "      <td>4756032.40</td>\n",
       "      <td>891103.00</td>\n",
       "      <td>3438064.90</td>\n",
       "      <td>2201048.00</td>\n",
       "      <td>1559719.40</td>\n",
       "      <td>10431480.00</td>\n",
       "      <td>3490000.00</td>\n",
       "      <td>6141182.00</td>\n",
       "      <td>...</td>\n",
       "      <td>8744373.00</td>\n",
       "      <td>26427577.00</td>\n",
       "      <td>6920000.00</td>\n",
       "      <td>26008612.70</td>\n",
       "      <td>604150115.0</td>\n",
       "      <td>3.712542e+08</td>\n",
       "      <td>66224677.00</td>\n",
       "      <td>202.70480</td>\n",
       "      <td>1.838732e+08</td>\n",
       "      <td>622874642.0</td>\n",
       "    </tr>\n",
       "    <tr>\n",
       "      <th>Control-R13_c0</th>\n",
       "      <td>6.366289e+08</td>\n",
       "      <td>200667947.6</td>\n",
       "      <td>4025175.40</td>\n",
       "      <td>2821506.40</td>\n",
       "      <td>2777374.50</td>\n",
       "      <td>2254175.60</td>\n",
       "      <td>933420.60</td>\n",
       "      <td>10625799.20</td>\n",
       "      <td>4560000.00</td>\n",
       "      <td>7289281.70</td>\n",
       "      <td>...</td>\n",
       "      <td>9898680.20</td>\n",
       "      <td>28681508.40</td>\n",
       "      <td>21364.80</td>\n",
       "      <td>18057997.40</td>\n",
       "      <td>598017284.4</td>\n",
       "      <td>3.228457e+08</td>\n",
       "      <td>66120646.40</td>\n",
       "      <td>123.84653</td>\n",
       "      <td>1.635552e+08</td>\n",
       "      <td>493564402.8</td>\n",
       "    </tr>\n",
       "    <tr>\n",
       "      <th>Control-R14_c0</th>\n",
       "      <td>5.698250e+08</td>\n",
       "      <td>197817740.0</td>\n",
       "      <td>4954802.00</td>\n",
       "      <td>1928740.00</td>\n",
       "      <td>3060918.70</td>\n",
       "      <td>1873130.60</td>\n",
       "      <td>820983.00</td>\n",
       "      <td>10869912.00</td>\n",
       "      <td>4270000.00</td>\n",
       "      <td>5371024.00</td>\n",
       "      <td>...</td>\n",
       "      <td>9738552.00</td>\n",
       "      <td>24870124.00</td>\n",
       "      <td>45745.40</td>\n",
       "      <td>19880408.70</td>\n",
       "      <td>617297176.0</td>\n",
       "      <td>3.000795e+08</td>\n",
       "      <td>72990757.00</td>\n",
       "      <td>177.18560</td>\n",
       "      <td>1.498090e+08</td>\n",
       "      <td>596946095.0</td>\n",
       "    </tr>\n",
       "    <tr>\n",
       "      <th>...</th>\n",
       "      <td>...</td>\n",
       "      <td>...</td>\n",
       "      <td>...</td>\n",
       "      <td>...</td>\n",
       "      <td>...</td>\n",
       "      <td>...</td>\n",
       "      <td>...</td>\n",
       "      <td>...</td>\n",
       "      <td>...</td>\n",
       "      <td>...</td>\n",
       "      <td>...</td>\n",
       "      <td>...</td>\n",
       "      <td>...</td>\n",
       "      <td>...</td>\n",
       "      <td>...</td>\n",
       "      <td>...</td>\n",
       "      <td>...</td>\n",
       "      <td>...</td>\n",
       "      <td>...</td>\n",
       "      <td>...</td>\n",
       "      <td>...</td>\n",
       "    </tr>\n",
       "    <tr>\n",
       "      <th>PP_5419-R2_c0</th>\n",
       "      <td>6.014404e+08</td>\n",
       "      <td>178768404.0</td>\n",
       "      <td>4131963.00</td>\n",
       "      <td>71770.00</td>\n",
       "      <td>1760021.40</td>\n",
       "      <td>984214.40</td>\n",
       "      <td>1492928.00</td>\n",
       "      <td>6667854.10</td>\n",
       "      <td>1900000.00</td>\n",
       "      <td>4177118.00</td>\n",
       "      <td>...</td>\n",
       "      <td>6189417.00</td>\n",
       "      <td>24107160.00</td>\n",
       "      <td>28708.00</td>\n",
       "      <td>803824.00</td>\n",
       "      <td>573320625.0</td>\n",
       "      <td>1.128065e+07</td>\n",
       "      <td>89442492.00</td>\n",
       "      <td>370.25140</td>\n",
       "      <td>1.830121e+08</td>\n",
       "      <td>555565357.0</td>\n",
       "    </tr>\n",
       "    <tr>\n",
       "      <th>PP_5419-R3_c0</th>\n",
       "      <td>6.272613e+08</td>\n",
       "      <td>183746539.3</td>\n",
       "      <td>4255756.50</td>\n",
       "      <td>553067.80</td>\n",
       "      <td>1974287.30</td>\n",
       "      <td>1515129.60</td>\n",
       "      <td>2234677.10</td>\n",
       "      <td>6523522.30</td>\n",
       "      <td>2310000.00</td>\n",
       "      <td>7489820.90</td>\n",
       "      <td>...</td>\n",
       "      <td>5855244.50</td>\n",
       "      <td>21230302.70</td>\n",
       "      <td>29217.40</td>\n",
       "      <td>818087.20</td>\n",
       "      <td>553088857.8</td>\n",
       "      <td>3.242957e+06</td>\n",
       "      <td>79550335.50</td>\n",
       "      <td>412.20373</td>\n",
       "      <td>1.897306e+08</td>\n",
       "      <td>594267176.7</td>\n",
       "    </tr>\n",
       "    <tr>\n",
       "      <th>PP_5420-R1_c0</th>\n",
       "      <td>6.450008e+06</td>\n",
       "      <td>120504898.3</td>\n",
       "      <td>3028443.34</td>\n",
       "      <td>498753.70</td>\n",
       "      <td>1467967.58</td>\n",
       "      <td>402468.14</td>\n",
       "      <td>1433527.48</td>\n",
       "      <td>1677480.10</td>\n",
       "      <td>850904.94</td>\n",
       "      <td>2992267.08</td>\n",
       "      <td>...</td>\n",
       "      <td>4832609.94</td>\n",
       "      <td>17318943.76</td>\n",
       "      <td>272428.88</td>\n",
       "      <td>238334.18</td>\n",
       "      <td>292583031.3</td>\n",
       "      <td>9.634786e+04</td>\n",
       "      <td>47392281.16</td>\n",
       "      <td>84.91467</td>\n",
       "      <td>1.269587e+07</td>\n",
       "      <td>683034233.3</td>\n",
       "    </tr>\n",
       "    <tr>\n",
       "      <th>PP_5420-R2_c0</th>\n",
       "      <td>7.544047e+06</td>\n",
       "      <td>137604193.6</td>\n",
       "      <td>2246888.40</td>\n",
       "      <td>383562.70</td>\n",
       "      <td>1180315.18</td>\n",
       "      <td>342419.88</td>\n",
       "      <td>1770609.48</td>\n",
       "      <td>1817571.10</td>\n",
       "      <td>629595.74</td>\n",
       "      <td>2804491.62</td>\n",
       "      <td>...</td>\n",
       "      <td>5430974.74</td>\n",
       "      <td>18937184.70</td>\n",
       "      <td>1374643.74</td>\n",
       "      <td>296369.78</td>\n",
       "      <td>341006219.3</td>\n",
       "      <td>1.765076e+06</td>\n",
       "      <td>28653211.36</td>\n",
       "      <td>92.38133</td>\n",
       "      <td>1.529941e+07</td>\n",
       "      <td>575740435.4</td>\n",
       "    </tr>\n",
       "    <tr>\n",
       "      <th>PP_5420-R3_c0</th>\n",
       "      <td>8.953790e+06</td>\n",
       "      <td>138330826.7</td>\n",
       "      <td>2416307.50</td>\n",
       "      <td>517691.25</td>\n",
       "      <td>1306895.35</td>\n",
       "      <td>267155.60</td>\n",
       "      <td>965912.25</td>\n",
       "      <td>2141291.05</td>\n",
       "      <td>1854756.05</td>\n",
       "      <td>2450097.50</td>\n",
       "      <td>...</td>\n",
       "      <td>4122734.15</td>\n",
       "      <td>19700842.25</td>\n",
       "      <td>212346.10</td>\n",
       "      <td>223534.35</td>\n",
       "      <td>360838611.0</td>\n",
       "      <td>9.036495e+04</td>\n",
       "      <td>39320982.65</td>\n",
       "      <td>97.51600</td>\n",
       "      <td>1.666375e+07</td>\n",
       "      <td>784956270.6</td>\n",
       "    </tr>\n",
       "  </tbody>\n",
       "</table>\n",
       "<p>1140 rows × 1691 columns</p>\n",
       "</div>"
      ],
      "text/plain": [
       "column_name               EF_1364      MM_1762     PP_0001     PP_0002  \\\n",
       "line_name_rep_cycle                                                      \n",
       "Control-R10_c0       6.568999e+08  204555498.0  4191160.00  1726479.00   \n",
       "Control-R11_c0       6.336656e+08  225083958.1  2954944.60  1519673.10   \n",
       "Control-R12_c0       6.537668e+08  226726387.0  4756032.40   891103.00   \n",
       "Control-R13_c0       6.366289e+08  200667947.6  4025175.40  2821506.40   \n",
       "Control-R14_c0       5.698250e+08  197817740.0  4954802.00  1928740.00   \n",
       "...                           ...          ...         ...         ...   \n",
       "PP_5419-R2_c0        6.014404e+08  178768404.0  4131963.00    71770.00   \n",
       "PP_5419-R3_c0        6.272613e+08  183746539.3  4255756.50   553067.80   \n",
       "PP_5420-R1_c0        6.450008e+06  120504898.3  3028443.34   498753.70   \n",
       "PP_5420-R2_c0        7.544047e+06  137604193.6  2246888.40   383562.70   \n",
       "PP_5420-R3_c0        8.953790e+06  138330826.7  2416307.50   517691.25   \n",
       "\n",
       "column_name             PP_0003     PP_0004     PP_0005      PP_0006  \\\n",
       "line_name_rep_cycle                                                    \n",
       "Control-R10_c0       3373951.00  2173503.20   738448.20   9799845.60   \n",
       "Control-R11_c0       2999362.20  2068667.90   745762.90  11322391.80   \n",
       "Control-R12_c0       3438064.90  2201048.00  1559719.40  10431480.00   \n",
       "Control-R13_c0       2777374.50  2254175.60   933420.60  10625799.20   \n",
       "Control-R14_c0       3060918.70  1873130.60   820983.00  10869912.00   \n",
       "...                         ...         ...         ...          ...   \n",
       "PP_5419-R2_c0        1760021.40   984214.40  1492928.00   6667854.10   \n",
       "PP_5419-R3_c0        1974287.30  1515129.60  2234677.10   6523522.30   \n",
       "PP_5420-R1_c0        1467967.58   402468.14  1433527.48   1677480.10   \n",
       "PP_5420-R2_c0        1180315.18   342419.88  1770609.48   1817571.10   \n",
       "PP_5420-R3_c0        1306895.35   267155.60   965912.25   2141291.05   \n",
       "\n",
       "column_name             PP_0009     PP_0010  ...     PP_5416      PP_5417  \\\n",
       "line_name_rep_cycle                          ...                            \n",
       "Control-R10_c0       3990000.00  7383747.00  ...  7783568.00  26338335.00   \n",
       "Control-R11_c0       3840000.00  6756559.10  ...  8560711.10  29120542.00   \n",
       "Control-R12_c0       3490000.00  6141182.00  ...  8744373.00  26427577.00   \n",
       "Control-R13_c0       4560000.00  7289281.70  ...  9898680.20  28681508.40   \n",
       "Control-R14_c0       4270000.00  5371024.00  ...  9738552.00  24870124.00   \n",
       "...                         ...         ...  ...         ...          ...   \n",
       "PP_5419-R2_c0        1900000.00  4177118.00  ...  6189417.00  24107160.00   \n",
       "PP_5419-R3_c0        2310000.00  7489820.90  ...  5855244.50  21230302.70   \n",
       "PP_5420-R1_c0         850904.94  2992267.08  ...  4832609.94  17318943.76   \n",
       "PP_5420-R2_c0         629595.74  2804491.62  ...  5430974.74  18937184.70   \n",
       "PP_5420-R3_c0        1854756.05  2450097.50  ...  4122734.15  19700842.25   \n",
       "\n",
       "column_name             PP_5418     SPy_1046      YNR043W         aacC1  \\\n",
       "line_name_rep_cycle                                                       \n",
       "Control-R10_c0             0.00  28115139.40  582841585.4  3.540011e+08   \n",
       "Control-R11_c0         22439.40  24151481.40  628324289.0  3.715957e+08   \n",
       "Control-R12_c0       6920000.00  26008612.70  604150115.0  3.712542e+08   \n",
       "Control-R13_c0         21364.80  18057997.40  598017284.4  3.228457e+08   \n",
       "Control-R14_c0         45745.40  19880408.70  617297176.0  3.000795e+08   \n",
       "...                         ...          ...          ...           ...   \n",
       "PP_5419-R2_c0          28708.00    803824.00  573320625.0  1.128065e+07   \n",
       "PP_5419-R3_c0          29217.40    818087.20  553088857.8  3.242957e+06   \n",
       "PP_5420-R1_c0         272428.88    238334.18  292583031.3  9.634786e+04   \n",
       "PP_5420-R2_c0        1374643.74    296369.78  341006219.3  1.765076e+06   \n",
       "PP_5420-R3_c0         212346.10    223534.35  360838611.0  9.036495e+04   \n",
       "\n",
       "column_name          b4055 JW4015  isoprenol          mvaS          neo  \n",
       "line_name_rep_cycle                                                      \n",
       "Control-R10_c0        78695480.00  176.13507  1.748806e+08  611368325.0  \n",
       "Control-R11_c0        89522940.50  192.63713  1.855450e+08  583198798.1  \n",
       "Control-R12_c0        66224677.00  202.70480  1.838732e+08  622874642.0  \n",
       "Control-R13_c0        66120646.40  123.84653  1.635552e+08  493564402.8  \n",
       "Control-R14_c0        72990757.00  177.18560  1.498090e+08  596946095.0  \n",
       "...                           ...        ...           ...          ...  \n",
       "PP_5419-R2_c0         89442492.00  370.25140  1.830121e+08  555565357.0  \n",
       "PP_5419-R3_c0         79550335.50  412.20373  1.897306e+08  594267176.7  \n",
       "PP_5420-R1_c0         47392281.16   84.91467  1.269587e+07  683034233.3  \n",
       "PP_5420-R2_c0         28653211.36   92.38133  1.529941e+07  575740435.4  \n",
       "PP_5420-R3_c0         39320982.65   97.51600  1.666375e+07  784956270.6  \n",
       "\n",
       "[1140 rows x 1691 columns]"
      ]
     },
     "execution_count": 83,
     "metadata": {},
     "output_type": "execute_result"
    }
   ],
   "source": [
    "df_pivot = df.pivot(columns = 'column_name', index = 'line_name_rep_cycle', values='Value')\n",
    "df_pivot"
   ]
  },
  {
   "cell_type": "code",
   "execution_count": 84,
   "id": "45b5ca9d-abfe-479c-af03-42ef5c40da9e",
   "metadata": {},
   "outputs": [
    {
     "data": {
      "text/html": [
       "<div>\n",
       "<style scoped>\n",
       "    .dataframe tbody tr th:only-of-type {\n",
       "        vertical-align: middle;\n",
       "    }\n",
       "\n",
       "    .dataframe tbody tr th {\n",
       "        vertical-align: top;\n",
       "    }\n",
       "\n",
       "    .dataframe thead th {\n",
       "        text-align: right;\n",
       "    }\n",
       "</style>\n",
       "<table border=\"1\" class=\"dataframe\">\n",
       "  <thead>\n",
       "    <tr style=\"text-align: right;\">\n",
       "      <th>column_name</th>\n",
       "      <th>EF_1364</th>\n",
       "      <th>MM_1762</th>\n",
       "      <th>PP_0001</th>\n",
       "      <th>PP_0002</th>\n",
       "      <th>PP_0003</th>\n",
       "      <th>PP_0004</th>\n",
       "      <th>PP_0005</th>\n",
       "      <th>PP_0006</th>\n",
       "      <th>PP_0009</th>\n",
       "      <th>PP_0010</th>\n",
       "      <th>...</th>\n",
       "      <th>PP_5416</th>\n",
       "      <th>PP_5417</th>\n",
       "      <th>PP_5418</th>\n",
       "      <th>SPy_1046</th>\n",
       "      <th>YNR043W</th>\n",
       "      <th>aacC1</th>\n",
       "      <th>b4055 JW4015</th>\n",
       "      <th>isoprenol</th>\n",
       "      <th>mvaS</th>\n",
       "      <th>neo</th>\n",
       "    </tr>\n",
       "    <tr>\n",
       "      <th>line_name_rep_cycle</th>\n",
       "      <th></th>\n",
       "      <th></th>\n",
       "      <th></th>\n",
       "      <th></th>\n",
       "      <th></th>\n",
       "      <th></th>\n",
       "      <th></th>\n",
       "      <th></th>\n",
       "      <th></th>\n",
       "      <th></th>\n",
       "      <th></th>\n",
       "      <th></th>\n",
       "      <th></th>\n",
       "      <th></th>\n",
       "      <th></th>\n",
       "      <th></th>\n",
       "      <th></th>\n",
       "      <th></th>\n",
       "      <th></th>\n",
       "      <th></th>\n",
       "      <th></th>\n",
       "    </tr>\n",
       "  </thead>\n",
       "  <tbody>\n",
       "    <tr>\n",
       "      <th>Control-R10_c0</th>\n",
       "      <td>1.039569</td>\n",
       "      <td>0.951793</td>\n",
       "      <td>1.094915</td>\n",
       "      <td>0.970530</td>\n",
       "      <td>1.133319</td>\n",
       "      <td>0.957359</td>\n",
       "      <td>0.787047</td>\n",
       "      <td>0.934429</td>\n",
       "      <td>1.095724</td>\n",
       "      <td>1.152434</td>\n",
       "      <td>...</td>\n",
       "      <td>0.792854</td>\n",
       "      <td>0.952586</td>\n",
       "      <td>0.000000</td>\n",
       "      <td>1.275427</td>\n",
       "      <td>0.988950</td>\n",
       "      <td>1.042664</td>\n",
       "      <td>1.075991</td>\n",
       "      <td>1.024392</td>\n",
       "      <td>0.995796</td>\n",
       "      <td>1.110129</td>\n",
       "    </tr>\n",
       "    <tr>\n",
       "      <th>Control-R11_c0</th>\n",
       "      <td>1.002800</td>\n",
       "      <td>1.047312</td>\n",
       "      <td>0.771961</td>\n",
       "      <td>0.854275</td>\n",
       "      <td>1.007493</td>\n",
       "      <td>0.911182</td>\n",
       "      <td>0.794843</td>\n",
       "      <td>1.079606</td>\n",
       "      <td>1.054531</td>\n",
       "      <td>1.054544</td>\n",
       "      <td>...</td>\n",
       "      <td>0.872016</td>\n",
       "      <td>1.053211</td>\n",
       "      <td>0.022315</td>\n",
       "      <td>1.095618</td>\n",
       "      <td>1.066124</td>\n",
       "      <td>1.094487</td>\n",
       "      <td>1.224033</td>\n",
       "      <td>1.120367</td>\n",
       "      <td>1.056521</td>\n",
       "      <td>1.058979</td>\n",
       "    </tr>\n",
       "    <tr>\n",
       "      <th>Control-R12_c0</th>\n",
       "      <td>1.034610</td>\n",
       "      <td>1.054954</td>\n",
       "      <td>1.242484</td>\n",
       "      <td>0.500928</td>\n",
       "      <td>1.154855</td>\n",
       "      <td>0.969491</td>\n",
       "      <td>1.662368</td>\n",
       "      <td>0.994657</td>\n",
       "      <td>0.958415</td>\n",
       "      <td>0.958498</td>\n",
       "      <td>...</td>\n",
       "      <td>0.890724</td>\n",
       "      <td>0.955814</td>\n",
       "      <td>6.881715</td>\n",
       "      <td>1.179865</td>\n",
       "      <td>1.025106</td>\n",
       "      <td>1.093481</td>\n",
       "      <td>0.905480</td>\n",
       "      <td>1.178920</td>\n",
       "      <td>1.047002</td>\n",
       "      <td>1.131022</td>\n",
       "    </tr>\n",
       "    <tr>\n",
       "      <th>Control-R13_c0</th>\n",
       "      <td>1.007489</td>\n",
       "      <td>0.933705</td>\n",
       "      <td>1.051552</td>\n",
       "      <td>1.586093</td>\n",
       "      <td>0.932927</td>\n",
       "      <td>0.992892</td>\n",
       "      <td>0.994851</td>\n",
       "      <td>1.013185</td>\n",
       "      <td>1.252256</td>\n",
       "      <td>1.137690</td>\n",
       "      <td>...</td>\n",
       "      <td>1.008304</td>\n",
       "      <td>1.037332</td>\n",
       "      <td>0.021247</td>\n",
       "      <td>0.819190</td>\n",
       "      <td>1.014700</td>\n",
       "      <td>0.950900</td>\n",
       "      <td>0.904057</td>\n",
       "      <td>0.720284</td>\n",
       "      <td>0.931308</td>\n",
       "      <td>0.896219</td>\n",
       "    </tr>\n",
       "    <tr>\n",
       "      <th>Control-R14_c0</th>\n",
       "      <td>0.901769</td>\n",
       "      <td>0.920443</td>\n",
       "      <td>1.294411</td>\n",
       "      <td>1.084229</td>\n",
       "      <td>1.028170</td>\n",
       "      <td>0.825054</td>\n",
       "      <td>0.875014</td>\n",
       "      <td>1.036462</td>\n",
       "      <td>1.172617</td>\n",
       "      <td>0.838294</td>\n",
       "      <td>...</td>\n",
       "      <td>0.991993</td>\n",
       "      <td>0.899485</td>\n",
       "      <td>0.045492</td>\n",
       "      <td>0.901863</td>\n",
       "      <td>1.047413</td>\n",
       "      <td>0.883845</td>\n",
       "      <td>0.997991</td>\n",
       "      <td>1.030501</td>\n",
       "      <td>0.853035</td>\n",
       "      <td>1.083941</td>\n",
       "    </tr>\n",
       "    <tr>\n",
       "      <th>...</th>\n",
       "      <td>...</td>\n",
       "      <td>...</td>\n",
       "      <td>...</td>\n",
       "      <td>...</td>\n",
       "      <td>...</td>\n",
       "      <td>...</td>\n",
       "      <td>...</td>\n",
       "      <td>...</td>\n",
       "      <td>...</td>\n",
       "      <td>...</td>\n",
       "      <td>...</td>\n",
       "      <td>...</td>\n",
       "      <td>...</td>\n",
       "      <td>...</td>\n",
       "      <td>...</td>\n",
       "      <td>...</td>\n",
       "      <td>...</td>\n",
       "      <td>...</td>\n",
       "      <td>...</td>\n",
       "      <td>...</td>\n",
       "      <td>...</td>\n",
       "    </tr>\n",
       "    <tr>\n",
       "      <th>PP_5419-R2_c0</th>\n",
       "      <td>0.951802</td>\n",
       "      <td>0.831806</td>\n",
       "      <td>1.079450</td>\n",
       "      <td>0.040345</td>\n",
       "      <td>0.591196</td>\n",
       "      <td>0.433515</td>\n",
       "      <td>1.591181</td>\n",
       "      <td>0.635789</td>\n",
       "      <td>0.521773</td>\n",
       "      <td>0.651952</td>\n",
       "      <td>...</td>\n",
       "      <td>0.630470</td>\n",
       "      <td>0.871891</td>\n",
       "      <td>0.028549</td>\n",
       "      <td>0.036465</td>\n",
       "      <td>0.972795</td>\n",
       "      <td>0.033226</td>\n",
       "      <td>1.222933</td>\n",
       "      <td>2.153361</td>\n",
       "      <td>1.042099</td>\n",
       "      <td>1.008801</td>\n",
       "    </tr>\n",
       "    <tr>\n",
       "      <th>PP_5419-R3_c0</th>\n",
       "      <td>0.992665</td>\n",
       "      <td>0.854970</td>\n",
       "      <td>1.111790</td>\n",
       "      <td>0.310904</td>\n",
       "      <td>0.663168</td>\n",
       "      <td>0.667366</td>\n",
       "      <td>2.381747</td>\n",
       "      <td>0.622027</td>\n",
       "      <td>0.634366</td>\n",
       "      <td>1.168989</td>\n",
       "      <td>...</td>\n",
       "      <td>0.596430</td>\n",
       "      <td>0.767842</td>\n",
       "      <td>0.029056</td>\n",
       "      <td>0.037112</td>\n",
       "      <td>0.938466</td>\n",
       "      <td>0.009552</td>\n",
       "      <td>1.087679</td>\n",
       "      <td>2.397354</td>\n",
       "      <td>1.080355</td>\n",
       "      <td>1.079077</td>\n",
       "    </tr>\n",
       "    <tr>\n",
       "      <th>PP_5420-R1_c0</th>\n",
       "      <td>0.145406</td>\n",
       "      <td>1.004817</td>\n",
       "      <td>1.104894</td>\n",
       "      <td>0.442635</td>\n",
       "      <td>0.748915</td>\n",
       "      <td>0.337878</td>\n",
       "      <td>1.798357</td>\n",
       "      <td>0.237874</td>\n",
       "      <td>0.392700</td>\n",
       "      <td>0.869069</td>\n",
       "      <td>...</td>\n",
       "      <td>0.726382</td>\n",
       "      <td>0.892056</td>\n",
       "      <td>0.084788</td>\n",
       "      <td>0.030160</td>\n",
       "      <td>0.705855</td>\n",
       "      <td>0.000445</td>\n",
       "      <td>0.730318</td>\n",
       "      <td>0.484521</td>\n",
       "      <td>0.143453</td>\n",
       "      <td>1.447907</td>\n",
       "    </tr>\n",
       "    <tr>\n",
       "      <th>PP_5420-R2_c0</th>\n",
       "      <td>0.170069</td>\n",
       "      <td>1.147398</td>\n",
       "      <td>0.819752</td>\n",
       "      <td>0.340405</td>\n",
       "      <td>0.602163</td>\n",
       "      <td>0.287466</td>\n",
       "      <td>2.221226</td>\n",
       "      <td>0.257740</td>\n",
       "      <td>0.290564</td>\n",
       "      <td>0.814532</td>\n",
       "      <td>...</td>\n",
       "      <td>0.816321</td>\n",
       "      <td>0.975408</td>\n",
       "      <td>0.427833</td>\n",
       "      <td>0.037505</td>\n",
       "      <td>0.822675</td>\n",
       "      <td>0.008155</td>\n",
       "      <td>0.441548</td>\n",
       "      <td>0.527125</td>\n",
       "      <td>0.172871</td>\n",
       "      <td>1.220464</td>\n",
       "    </tr>\n",
       "    <tr>\n",
       "      <th>PP_5420-R3_c0</th>\n",
       "      <td>0.201850</td>\n",
       "      <td>1.153457</td>\n",
       "      <td>0.881563</td>\n",
       "      <td>0.459441</td>\n",
       "      <td>0.666740</td>\n",
       "      <td>0.224281</td>\n",
       "      <td>1.211735</td>\n",
       "      <td>0.303645</td>\n",
       "      <td>0.855985</td>\n",
       "      <td>0.711602</td>\n",
       "      <td>...</td>\n",
       "      <td>0.619682</td>\n",
       "      <td>1.014742</td>\n",
       "      <td>0.066089</td>\n",
       "      <td>0.028287</td>\n",
       "      <td>0.870521</td>\n",
       "      <td>0.000418</td>\n",
       "      <td>0.605938</td>\n",
       "      <td>0.556424</td>\n",
       "      <td>0.188287</td>\n",
       "      <td>1.663963</td>\n",
       "    </tr>\n",
       "  </tbody>\n",
       "</table>\n",
       "<p>1140 rows × 1691 columns</p>\n",
       "</div>"
      ],
      "text/plain": [
       "column_name           EF_1364   MM_1762   PP_0001   PP_0002   PP_0003  \\\n",
       "line_name_rep_cycle                                                     \n",
       "Control-R10_c0       1.039569  0.951793  1.094915  0.970530  1.133319   \n",
       "Control-R11_c0       1.002800  1.047312  0.771961  0.854275  1.007493   \n",
       "Control-R12_c0       1.034610  1.054954  1.242484  0.500928  1.154855   \n",
       "Control-R13_c0       1.007489  0.933705  1.051552  1.586093  0.932927   \n",
       "Control-R14_c0       0.901769  0.920443  1.294411  1.084229  1.028170   \n",
       "...                       ...       ...       ...       ...       ...   \n",
       "PP_5419-R2_c0        0.951802  0.831806  1.079450  0.040345  0.591196   \n",
       "PP_5419-R3_c0        0.992665  0.854970  1.111790  0.310904  0.663168   \n",
       "PP_5420-R1_c0        0.145406  1.004817  1.104894  0.442635  0.748915   \n",
       "PP_5420-R2_c0        0.170069  1.147398  0.819752  0.340405  0.602163   \n",
       "PP_5420-R3_c0        0.201850  1.153457  0.881563  0.459441  0.666740   \n",
       "\n",
       "column_name           PP_0004   PP_0005   PP_0006   PP_0009   PP_0010  ...  \\\n",
       "line_name_rep_cycle                                                    ...   \n",
       "Control-R10_c0       0.957359  0.787047  0.934429  1.095724  1.152434  ...   \n",
       "Control-R11_c0       0.911182  0.794843  1.079606  1.054531  1.054544  ...   \n",
       "Control-R12_c0       0.969491  1.662368  0.994657  0.958415  0.958498  ...   \n",
       "Control-R13_c0       0.992892  0.994851  1.013185  1.252256  1.137690  ...   \n",
       "Control-R14_c0       0.825054  0.875014  1.036462  1.172617  0.838294  ...   \n",
       "...                       ...       ...       ...       ...       ...  ...   \n",
       "PP_5419-R2_c0        0.433515  1.591181  0.635789  0.521773  0.651952  ...   \n",
       "PP_5419-R3_c0        0.667366  2.381747  0.622027  0.634366  1.168989  ...   \n",
       "PP_5420-R1_c0        0.337878  1.798357  0.237874  0.392700  0.869069  ...   \n",
       "PP_5420-R2_c0        0.287466  2.221226  0.257740  0.290564  0.814532  ...   \n",
       "PP_5420-R3_c0        0.224281  1.211735  0.303645  0.855985  0.711602  ...   \n",
       "\n",
       "column_name           PP_5416   PP_5417   PP_5418  SPy_1046   YNR043W  \\\n",
       "line_name_rep_cycle                                                     \n",
       "Control-R10_c0       0.792854  0.952586  0.000000  1.275427  0.988950   \n",
       "Control-R11_c0       0.872016  1.053211  0.022315  1.095618  1.066124   \n",
       "Control-R12_c0       0.890724  0.955814  6.881715  1.179865  1.025106   \n",
       "Control-R13_c0       1.008304  1.037332  0.021247  0.819190  1.014700   \n",
       "Control-R14_c0       0.991993  0.899485  0.045492  0.901863  1.047413   \n",
       "...                       ...       ...       ...       ...       ...   \n",
       "PP_5419-R2_c0        0.630470  0.871891  0.028549  0.036465  0.972795   \n",
       "PP_5419-R3_c0        0.596430  0.767842  0.029056  0.037112  0.938466   \n",
       "PP_5420-R1_c0        0.726382  0.892056  0.084788  0.030160  0.705855   \n",
       "PP_5420-R2_c0        0.816321  0.975408  0.427833  0.037505  0.822675   \n",
       "PP_5420-R3_c0        0.619682  1.014742  0.066089  0.028287  0.870521   \n",
       "\n",
       "column_name             aacC1  b4055 JW4015  isoprenol      mvaS       neo  \n",
       "line_name_rep_cycle                                                         \n",
       "Control-R10_c0       1.042664      1.075991   1.024392  0.995796  1.110129  \n",
       "Control-R11_c0       1.094487      1.224033   1.120367  1.056521  1.058979  \n",
       "Control-R12_c0       1.093481      0.905480   1.178920  1.047002  1.131022  \n",
       "Control-R13_c0       0.950900      0.904057   0.720284  0.931308  0.896219  \n",
       "Control-R14_c0       0.883845      0.997991   1.030501  0.853035  1.083941  \n",
       "...                       ...           ...        ...       ...       ...  \n",
       "PP_5419-R2_c0        0.033226      1.222933   2.153361  1.042099  1.008801  \n",
       "PP_5419-R3_c0        0.009552      1.087679   2.397354  1.080355  1.079077  \n",
       "PP_5420-R1_c0        0.000445      0.730318   0.484521  0.143453  1.447907  \n",
       "PP_5420-R2_c0        0.008155      0.441548   0.527125  0.172871  1.220464  \n",
       "PP_5420-R3_c0        0.000418      0.605938   0.556424  0.188287  1.663963  \n",
       "\n",
       "[1140 rows x 1691 columns]"
      ]
     },
     "execution_count": 84,
     "metadata": {},
     "output_type": "execute_result"
    }
   ],
   "source": [
    "df_pivot_norm = df.pivot(columns = 'column_name', index = 'line_name_rep_cycle', values = 'normalized_value')\n",
    "df_pivot_norm"
   ]
  },
  {
   "cell_type": "markdown",
   "id": "6c43ed67-bf36-456c-982f-13ea411757ec",
   "metadata": {},
   "source": [
    "Reorder columns to put isoprenol at the end"
   ]
  },
  {
   "cell_type": "code",
   "execution_count": 85,
   "id": "b428c51c-152c-45fb-a026-8bfc2a35aaab",
   "metadata": {},
   "outputs": [
    {
     "data": {
      "text/html": [
       "<div>\n",
       "<style scoped>\n",
       "    .dataframe tbody tr th:only-of-type {\n",
       "        vertical-align: middle;\n",
       "    }\n",
       "\n",
       "    .dataframe tbody tr th {\n",
       "        vertical-align: top;\n",
       "    }\n",
       "\n",
       "    .dataframe thead th {\n",
       "        text-align: right;\n",
       "    }\n",
       "</style>\n",
       "<table border=\"1\" class=\"dataframe\">\n",
       "  <thead>\n",
       "    <tr style=\"text-align: right;\">\n",
       "      <th>column_name</th>\n",
       "      <th>EF_1364</th>\n",
       "      <th>MM_1762</th>\n",
       "      <th>PP_0001</th>\n",
       "      <th>PP_0002</th>\n",
       "      <th>PP_0003</th>\n",
       "      <th>PP_0004</th>\n",
       "      <th>PP_0005</th>\n",
       "      <th>PP_0006</th>\n",
       "      <th>PP_0009</th>\n",
       "      <th>PP_0010</th>\n",
       "      <th>...</th>\n",
       "      <th>PP_5416</th>\n",
       "      <th>PP_5417</th>\n",
       "      <th>PP_5418</th>\n",
       "      <th>SPy_1046</th>\n",
       "      <th>YNR043W</th>\n",
       "      <th>aacC1</th>\n",
       "      <th>b4055 JW4015</th>\n",
       "      <th>mvaS</th>\n",
       "      <th>neo</th>\n",
       "      <th>isoprenol</th>\n",
       "    </tr>\n",
       "    <tr>\n",
       "      <th>line_name_rep_cycle</th>\n",
       "      <th></th>\n",
       "      <th></th>\n",
       "      <th></th>\n",
       "      <th></th>\n",
       "      <th></th>\n",
       "      <th></th>\n",
       "      <th></th>\n",
       "      <th></th>\n",
       "      <th></th>\n",
       "      <th></th>\n",
       "      <th></th>\n",
       "      <th></th>\n",
       "      <th></th>\n",
       "      <th></th>\n",
       "      <th></th>\n",
       "      <th></th>\n",
       "      <th></th>\n",
       "      <th></th>\n",
       "      <th></th>\n",
       "      <th></th>\n",
       "      <th></th>\n",
       "    </tr>\n",
       "  </thead>\n",
       "  <tbody>\n",
       "    <tr>\n",
       "      <th>Control-R10_c0</th>\n",
       "      <td>6.568999e+08</td>\n",
       "      <td>204555498.0</td>\n",
       "      <td>4191160.00</td>\n",
       "      <td>1726479.00</td>\n",
       "      <td>3373951.00</td>\n",
       "      <td>2173503.20</td>\n",
       "      <td>738448.20</td>\n",
       "      <td>9799845.60</td>\n",
       "      <td>3990000.00</td>\n",
       "      <td>7383747.00</td>\n",
       "      <td>...</td>\n",
       "      <td>7783568.00</td>\n",
       "      <td>26338335.00</td>\n",
       "      <td>0.00</td>\n",
       "      <td>28115139.40</td>\n",
       "      <td>582841585.4</td>\n",
       "      <td>3.540011e+08</td>\n",
       "      <td>78695480.00</td>\n",
       "      <td>1.748806e+08</td>\n",
       "      <td>611368325.0</td>\n",
       "      <td>176.13507</td>\n",
       "    </tr>\n",
       "    <tr>\n",
       "      <th>Control-R11_c0</th>\n",
       "      <td>6.336656e+08</td>\n",
       "      <td>225083958.1</td>\n",
       "      <td>2954944.60</td>\n",
       "      <td>1519673.10</td>\n",
       "      <td>2999362.20</td>\n",
       "      <td>2068667.90</td>\n",
       "      <td>745762.90</td>\n",
       "      <td>11322391.80</td>\n",
       "      <td>3840000.00</td>\n",
       "      <td>6756559.10</td>\n",
       "      <td>...</td>\n",
       "      <td>8560711.10</td>\n",
       "      <td>29120542.00</td>\n",
       "      <td>22439.40</td>\n",
       "      <td>24151481.40</td>\n",
       "      <td>628324289.0</td>\n",
       "      <td>3.715957e+08</td>\n",
       "      <td>89522940.50</td>\n",
       "      <td>1.855450e+08</td>\n",
       "      <td>583198798.1</td>\n",
       "      <td>192.63713</td>\n",
       "    </tr>\n",
       "    <tr>\n",
       "      <th>Control-R12_c0</th>\n",
       "      <td>6.537668e+08</td>\n",
       "      <td>226726387.0</td>\n",
       "      <td>4756032.40</td>\n",
       "      <td>891103.00</td>\n",
       "      <td>3438064.90</td>\n",
       "      <td>2201048.00</td>\n",
       "      <td>1559719.40</td>\n",
       "      <td>10431480.00</td>\n",
       "      <td>3490000.00</td>\n",
       "      <td>6141182.00</td>\n",
       "      <td>...</td>\n",
       "      <td>8744373.00</td>\n",
       "      <td>26427577.00</td>\n",
       "      <td>6920000.00</td>\n",
       "      <td>26008612.70</td>\n",
       "      <td>604150115.0</td>\n",
       "      <td>3.712542e+08</td>\n",
       "      <td>66224677.00</td>\n",
       "      <td>1.838732e+08</td>\n",
       "      <td>622874642.0</td>\n",
       "      <td>202.70480</td>\n",
       "    </tr>\n",
       "    <tr>\n",
       "      <th>Control-R13_c0</th>\n",
       "      <td>6.366289e+08</td>\n",
       "      <td>200667947.6</td>\n",
       "      <td>4025175.40</td>\n",
       "      <td>2821506.40</td>\n",
       "      <td>2777374.50</td>\n",
       "      <td>2254175.60</td>\n",
       "      <td>933420.60</td>\n",
       "      <td>10625799.20</td>\n",
       "      <td>4560000.00</td>\n",
       "      <td>7289281.70</td>\n",
       "      <td>...</td>\n",
       "      <td>9898680.20</td>\n",
       "      <td>28681508.40</td>\n",
       "      <td>21364.80</td>\n",
       "      <td>18057997.40</td>\n",
       "      <td>598017284.4</td>\n",
       "      <td>3.228457e+08</td>\n",
       "      <td>66120646.40</td>\n",
       "      <td>1.635552e+08</td>\n",
       "      <td>493564402.8</td>\n",
       "      <td>123.84653</td>\n",
       "    </tr>\n",
       "    <tr>\n",
       "      <th>Control-R14_c0</th>\n",
       "      <td>5.698250e+08</td>\n",
       "      <td>197817740.0</td>\n",
       "      <td>4954802.00</td>\n",
       "      <td>1928740.00</td>\n",
       "      <td>3060918.70</td>\n",
       "      <td>1873130.60</td>\n",
       "      <td>820983.00</td>\n",
       "      <td>10869912.00</td>\n",
       "      <td>4270000.00</td>\n",
       "      <td>5371024.00</td>\n",
       "      <td>...</td>\n",
       "      <td>9738552.00</td>\n",
       "      <td>24870124.00</td>\n",
       "      <td>45745.40</td>\n",
       "      <td>19880408.70</td>\n",
       "      <td>617297176.0</td>\n",
       "      <td>3.000795e+08</td>\n",
       "      <td>72990757.00</td>\n",
       "      <td>1.498090e+08</td>\n",
       "      <td>596946095.0</td>\n",
       "      <td>177.18560</td>\n",
       "    </tr>\n",
       "    <tr>\n",
       "      <th>...</th>\n",
       "      <td>...</td>\n",
       "      <td>...</td>\n",
       "      <td>...</td>\n",
       "      <td>...</td>\n",
       "      <td>...</td>\n",
       "      <td>...</td>\n",
       "      <td>...</td>\n",
       "      <td>...</td>\n",
       "      <td>...</td>\n",
       "      <td>...</td>\n",
       "      <td>...</td>\n",
       "      <td>...</td>\n",
       "      <td>...</td>\n",
       "      <td>...</td>\n",
       "      <td>...</td>\n",
       "      <td>...</td>\n",
       "      <td>...</td>\n",
       "      <td>...</td>\n",
       "      <td>...</td>\n",
       "      <td>...</td>\n",
       "      <td>...</td>\n",
       "    </tr>\n",
       "    <tr>\n",
       "      <th>PP_5419-R2_c0</th>\n",
       "      <td>6.014404e+08</td>\n",
       "      <td>178768404.0</td>\n",
       "      <td>4131963.00</td>\n",
       "      <td>71770.00</td>\n",
       "      <td>1760021.40</td>\n",
       "      <td>984214.40</td>\n",
       "      <td>1492928.00</td>\n",
       "      <td>6667854.10</td>\n",
       "      <td>1900000.00</td>\n",
       "      <td>4177118.00</td>\n",
       "      <td>...</td>\n",
       "      <td>6189417.00</td>\n",
       "      <td>24107160.00</td>\n",
       "      <td>28708.00</td>\n",
       "      <td>803824.00</td>\n",
       "      <td>573320625.0</td>\n",
       "      <td>1.128065e+07</td>\n",
       "      <td>89442492.00</td>\n",
       "      <td>1.830121e+08</td>\n",
       "      <td>555565357.0</td>\n",
       "      <td>370.25140</td>\n",
       "    </tr>\n",
       "    <tr>\n",
       "      <th>PP_5419-R3_c0</th>\n",
       "      <td>6.272613e+08</td>\n",
       "      <td>183746539.3</td>\n",
       "      <td>4255756.50</td>\n",
       "      <td>553067.80</td>\n",
       "      <td>1974287.30</td>\n",
       "      <td>1515129.60</td>\n",
       "      <td>2234677.10</td>\n",
       "      <td>6523522.30</td>\n",
       "      <td>2310000.00</td>\n",
       "      <td>7489820.90</td>\n",
       "      <td>...</td>\n",
       "      <td>5855244.50</td>\n",
       "      <td>21230302.70</td>\n",
       "      <td>29217.40</td>\n",
       "      <td>818087.20</td>\n",
       "      <td>553088857.8</td>\n",
       "      <td>3.242957e+06</td>\n",
       "      <td>79550335.50</td>\n",
       "      <td>1.897306e+08</td>\n",
       "      <td>594267176.7</td>\n",
       "      <td>412.20373</td>\n",
       "    </tr>\n",
       "    <tr>\n",
       "      <th>PP_5420-R1_c0</th>\n",
       "      <td>6.450008e+06</td>\n",
       "      <td>120504898.3</td>\n",
       "      <td>3028443.34</td>\n",
       "      <td>498753.70</td>\n",
       "      <td>1467967.58</td>\n",
       "      <td>402468.14</td>\n",
       "      <td>1433527.48</td>\n",
       "      <td>1677480.10</td>\n",
       "      <td>850904.94</td>\n",
       "      <td>2992267.08</td>\n",
       "      <td>...</td>\n",
       "      <td>4832609.94</td>\n",
       "      <td>17318943.76</td>\n",
       "      <td>272428.88</td>\n",
       "      <td>238334.18</td>\n",
       "      <td>292583031.3</td>\n",
       "      <td>9.634786e+04</td>\n",
       "      <td>47392281.16</td>\n",
       "      <td>1.269587e+07</td>\n",
       "      <td>683034233.3</td>\n",
       "      <td>84.91467</td>\n",
       "    </tr>\n",
       "    <tr>\n",
       "      <th>PP_5420-R2_c0</th>\n",
       "      <td>7.544047e+06</td>\n",
       "      <td>137604193.6</td>\n",
       "      <td>2246888.40</td>\n",
       "      <td>383562.70</td>\n",
       "      <td>1180315.18</td>\n",
       "      <td>342419.88</td>\n",
       "      <td>1770609.48</td>\n",
       "      <td>1817571.10</td>\n",
       "      <td>629595.74</td>\n",
       "      <td>2804491.62</td>\n",
       "      <td>...</td>\n",
       "      <td>5430974.74</td>\n",
       "      <td>18937184.70</td>\n",
       "      <td>1374643.74</td>\n",
       "      <td>296369.78</td>\n",
       "      <td>341006219.3</td>\n",
       "      <td>1.765076e+06</td>\n",
       "      <td>28653211.36</td>\n",
       "      <td>1.529941e+07</td>\n",
       "      <td>575740435.4</td>\n",
       "      <td>92.38133</td>\n",
       "    </tr>\n",
       "    <tr>\n",
       "      <th>PP_5420-R3_c0</th>\n",
       "      <td>8.953790e+06</td>\n",
       "      <td>138330826.7</td>\n",
       "      <td>2416307.50</td>\n",
       "      <td>517691.25</td>\n",
       "      <td>1306895.35</td>\n",
       "      <td>267155.60</td>\n",
       "      <td>965912.25</td>\n",
       "      <td>2141291.05</td>\n",
       "      <td>1854756.05</td>\n",
       "      <td>2450097.50</td>\n",
       "      <td>...</td>\n",
       "      <td>4122734.15</td>\n",
       "      <td>19700842.25</td>\n",
       "      <td>212346.10</td>\n",
       "      <td>223534.35</td>\n",
       "      <td>360838611.0</td>\n",
       "      <td>9.036495e+04</td>\n",
       "      <td>39320982.65</td>\n",
       "      <td>1.666375e+07</td>\n",
       "      <td>784956270.6</td>\n",
       "      <td>97.51600</td>\n",
       "    </tr>\n",
       "  </tbody>\n",
       "</table>\n",
       "<p>1140 rows × 1691 columns</p>\n",
       "</div>"
      ],
      "text/plain": [
       "column_name               EF_1364      MM_1762     PP_0001     PP_0002  \\\n",
       "line_name_rep_cycle                                                      \n",
       "Control-R10_c0       6.568999e+08  204555498.0  4191160.00  1726479.00   \n",
       "Control-R11_c0       6.336656e+08  225083958.1  2954944.60  1519673.10   \n",
       "Control-R12_c0       6.537668e+08  226726387.0  4756032.40   891103.00   \n",
       "Control-R13_c0       6.366289e+08  200667947.6  4025175.40  2821506.40   \n",
       "Control-R14_c0       5.698250e+08  197817740.0  4954802.00  1928740.00   \n",
       "...                           ...          ...         ...         ...   \n",
       "PP_5419-R2_c0        6.014404e+08  178768404.0  4131963.00    71770.00   \n",
       "PP_5419-R3_c0        6.272613e+08  183746539.3  4255756.50   553067.80   \n",
       "PP_5420-R1_c0        6.450008e+06  120504898.3  3028443.34   498753.70   \n",
       "PP_5420-R2_c0        7.544047e+06  137604193.6  2246888.40   383562.70   \n",
       "PP_5420-R3_c0        8.953790e+06  138330826.7  2416307.50   517691.25   \n",
       "\n",
       "column_name             PP_0003     PP_0004     PP_0005      PP_0006  \\\n",
       "line_name_rep_cycle                                                    \n",
       "Control-R10_c0       3373951.00  2173503.20   738448.20   9799845.60   \n",
       "Control-R11_c0       2999362.20  2068667.90   745762.90  11322391.80   \n",
       "Control-R12_c0       3438064.90  2201048.00  1559719.40  10431480.00   \n",
       "Control-R13_c0       2777374.50  2254175.60   933420.60  10625799.20   \n",
       "Control-R14_c0       3060918.70  1873130.60   820983.00  10869912.00   \n",
       "...                         ...         ...         ...          ...   \n",
       "PP_5419-R2_c0        1760021.40   984214.40  1492928.00   6667854.10   \n",
       "PP_5419-R3_c0        1974287.30  1515129.60  2234677.10   6523522.30   \n",
       "PP_5420-R1_c0        1467967.58   402468.14  1433527.48   1677480.10   \n",
       "PP_5420-R2_c0        1180315.18   342419.88  1770609.48   1817571.10   \n",
       "PP_5420-R3_c0        1306895.35   267155.60   965912.25   2141291.05   \n",
       "\n",
       "column_name             PP_0009     PP_0010  ...     PP_5416      PP_5417  \\\n",
       "line_name_rep_cycle                          ...                            \n",
       "Control-R10_c0       3990000.00  7383747.00  ...  7783568.00  26338335.00   \n",
       "Control-R11_c0       3840000.00  6756559.10  ...  8560711.10  29120542.00   \n",
       "Control-R12_c0       3490000.00  6141182.00  ...  8744373.00  26427577.00   \n",
       "Control-R13_c0       4560000.00  7289281.70  ...  9898680.20  28681508.40   \n",
       "Control-R14_c0       4270000.00  5371024.00  ...  9738552.00  24870124.00   \n",
       "...                         ...         ...  ...         ...          ...   \n",
       "PP_5419-R2_c0        1900000.00  4177118.00  ...  6189417.00  24107160.00   \n",
       "PP_5419-R3_c0        2310000.00  7489820.90  ...  5855244.50  21230302.70   \n",
       "PP_5420-R1_c0         850904.94  2992267.08  ...  4832609.94  17318943.76   \n",
       "PP_5420-R2_c0         629595.74  2804491.62  ...  5430974.74  18937184.70   \n",
       "PP_5420-R3_c0        1854756.05  2450097.50  ...  4122734.15  19700842.25   \n",
       "\n",
       "column_name             PP_5418     SPy_1046      YNR043W         aacC1  \\\n",
       "line_name_rep_cycle                                                       \n",
       "Control-R10_c0             0.00  28115139.40  582841585.4  3.540011e+08   \n",
       "Control-R11_c0         22439.40  24151481.40  628324289.0  3.715957e+08   \n",
       "Control-R12_c0       6920000.00  26008612.70  604150115.0  3.712542e+08   \n",
       "Control-R13_c0         21364.80  18057997.40  598017284.4  3.228457e+08   \n",
       "Control-R14_c0         45745.40  19880408.70  617297176.0  3.000795e+08   \n",
       "...                         ...          ...          ...           ...   \n",
       "PP_5419-R2_c0          28708.00    803824.00  573320625.0  1.128065e+07   \n",
       "PP_5419-R3_c0          29217.40    818087.20  553088857.8  3.242957e+06   \n",
       "PP_5420-R1_c0         272428.88    238334.18  292583031.3  9.634786e+04   \n",
       "PP_5420-R2_c0        1374643.74    296369.78  341006219.3  1.765076e+06   \n",
       "PP_5420-R3_c0         212346.10    223534.35  360838611.0  9.036495e+04   \n",
       "\n",
       "column_name          b4055 JW4015          mvaS          neo  isoprenol  \n",
       "line_name_rep_cycle                                                      \n",
       "Control-R10_c0        78695480.00  1.748806e+08  611368325.0  176.13507  \n",
       "Control-R11_c0        89522940.50  1.855450e+08  583198798.1  192.63713  \n",
       "Control-R12_c0        66224677.00  1.838732e+08  622874642.0  202.70480  \n",
       "Control-R13_c0        66120646.40  1.635552e+08  493564402.8  123.84653  \n",
       "Control-R14_c0        72990757.00  1.498090e+08  596946095.0  177.18560  \n",
       "...                           ...           ...          ...        ...  \n",
       "PP_5419-R2_c0         89442492.00  1.830121e+08  555565357.0  370.25140  \n",
       "PP_5419-R3_c0         79550335.50  1.897306e+08  594267176.7  412.20373  \n",
       "PP_5420-R1_c0         47392281.16  1.269587e+07  683034233.3   84.91467  \n",
       "PP_5420-R2_c0         28653211.36  1.529941e+07  575740435.4   92.38133  \n",
       "PP_5420-R3_c0         39320982.65  1.666375e+07  784956270.6   97.51600  \n",
       "\n",
       "[1140 rows x 1691 columns]"
      ]
     },
     "execution_count": 85,
     "metadata": {},
     "output_type": "execute_result"
    }
   ],
   "source": [
    "df_pivot = df_pivot[[column for column in df_pivot if column not in ['isoprenol']]\n",
    "                    + ['isoprenol']]\n",
    "\n",
    "df_pivot_norm = df_pivot_norm[[column for column in df_pivot_norm if column not in ['isoprenol']]\n",
    "                    + ['isoprenol']]\n",
    "df_pivot"
   ]
  },
  {
   "cell_type": "code",
   "execution_count": 86,
   "id": "89a36fa7-c07a-463d-b611-a7b8542fd6b3",
   "metadata": {
    "tags": []
   },
   "outputs": [],
   "source": [
    "df_pivot.to_csv('./data/unnormalized_proteomics_pivot_c0-c4.csv')\n",
    "df_pivot_norm.to_csv('./data/normalized_proteomics_pivot_c0-c4.csv')"
   ]
  }
 ],
 "metadata": {
  "kernelspec": {
   "display_name": "Python 3 (ipykernel)",
   "language": "python",
   "name": "python3"
  },
  "language_info": {
   "codemirror_mode": {
    "name": "ipython",
    "version": 3
   },
   "file_extension": ".py",
   "mimetype": "text/x-python",
   "name": "python",
   "nbconvert_exporter": "python",
   "pygments_lexer": "ipython3",
   "version": "3.11.9"
  },
  "toc-autonumbering": false,
  "toc-showcode": false,
  "toc-showmarkdowntxt": false
 },
 "nbformat": 4,
 "nbformat_minor": 5
}
