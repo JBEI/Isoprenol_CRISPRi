{
 "cells": [
  {
   "cell_type": "markdown",
   "id": "acc1a9cf-29d2-4e19-88ab-1681cb047d15",
   "metadata": {},
   "source": [
    "# Get protein list from EDD\n",
    "EDD databases for DBTL0 and DBTL1 have proteins listed in UNIPROT format. I want to use this tool to convert to PP_XXXX/4 letter codes: https://www.uniprot.org/id-mapping "
   ]
  },
  {
   "cell_type": "code",
   "execution_count": 1,
   "id": "8c404ec5-e791-44e1-86e8-5663db57a572",
   "metadata": {
    "tags": []
   },
   "outputs": [],
   "source": [
    "import edd_utils as eddu\n",
    "import pandas as pd\n",
    "import numpy as np\n",
    "import matplotlib.pyplot as plt\n",
    "import seaborn as sns\n",
    "import re \n",
    "import random\n",
    "random.seed(1)"
   ]
  },
  {
   "cell_type": "markdown",
   "id": "772a28a6-dcab-480a-b8a9-18af944ea4e5",
   "metadata": {},
   "source": [
    "## Import data from EDD"
   ]
  },
  {
   "cell_type": "markdown",
   "id": "07050b43-aae3-47c6-b16a-509015df6f3f",
   "metadata": {},
   "source": [
    "Define EDD import data"
   ]
  },
  {
   "cell_type": "code",
   "execution_count": 2,
   "id": "b6682699-afb3-48d3-a68f-0fba00368f44",
   "metadata": {},
   "outputs": [],
   "source": [
    "study_slug_1 = 'crispri-p-putida-dbtl-0-final'\n",
    "study_slug_2 = 'crispri-automation-for-enhanced-isoprenol-pro-fca3'\n",
    "edd_server   = 'edd.jbei.org'\n",
    "username     = 'pckinnunen'"
   ]
  },
  {
   "cell_type": "markdown",
   "id": "14a83810-28b1-410e-a7ff-9d01ccf13481",
   "metadata": {},
   "source": [
    "Open EDD session"
   ]
  },
  {
   "cell_type": "code",
   "execution_count": 3,
   "id": "0ba8237e-ddd0-40c6-9f29-d0ab56bb9a61",
   "metadata": {},
   "outputs": [
    {
     "name": "stdin",
     "output_type": "stream",
     "text": [
      "Password for pckinnunen:  ········\n"
     ]
    },
    {
     "name": "stdout",
     "output_type": "stream",
     "text": [
      "OK! Connection to EDD successful. We will try to load data from EDD...\n"
     ]
    }
   ],
   "source": [
    "try:\n",
    "    session = eddu.login(edd_server=edd_server, user=username)\n",
    "except:\n",
    "    print('ERROR! Connection to EDD failed. We will try to load data from disk...')\n",
    "else:\n",
    "    print('OK! Connection to EDD successful. We will try to load data from EDD...')"
   ]
  },
  {
   "cell_type": "markdown",
   "id": "7fc394f8-5e1f-416d-9e73-97cf19fd8e24",
   "metadata": {},
   "source": [
    "Import data"
   ]
  },
  {
   "cell_type": "code",
   "execution_count": 4,
   "id": "e400f85c-1dda-4ac2-8c79-cfd1c6ffd35b",
   "metadata": {
    "tags": []
   },
   "outputs": [
    {
     "data": {
      "application/vnd.jupyter.widget-view+json": {
       "model_id": "8dae752d05284544ae2d4fd5eaf62ae1",
       "version_major": 2,
       "version_minor": 0
      },
      "text/plain": [
       "  0%|          | 0/1033125 [00:00<?, ?it/s]"
      ]
     },
     "metadata": {},
     "output_type": "display_data"
    },
    {
     "data": {
      "application/vnd.jupyter.widget-view+json": {
       "model_id": "16c4fab2d70c46a38c679ab00764897f",
       "version_major": 2,
       "version_minor": 0
      },
      "text/plain": [
       "  0%|          | 0/475488 [00:00<?, ?it/s]"
      ]
     },
     "metadata": {},
     "output_type": "display_data"
    }
   ],
   "source": [
    "try:\n",
    "    df1 = eddu.export_study(session, study_slug_1, edd_server=edd_server)\n",
    "except (NameError, AttributeError, KeyError):\n",
    "    print(f'ERROR! Not able to export study 1.')\n",
    "    \n",
    "try:\n",
    "    df2 = eddu.export_study(session, study_slug_2, edd_server=edd_server)\n",
    "except (NameError, AttributeError, KeyError):\n",
    "    print(f'ERROR! Not able to export study 2.')"
   ]
  },
  {
   "cell_type": "markdown",
   "id": "0a7554de-840f-4e7b-afe5-979e361e0944",
   "metadata": {},
   "source": [
    "## Get unique proteins"
   ]
  },
  {
   "cell_type": "code",
   "execution_count": 15,
   "id": "77ac2da4-17e2-4f8a-bf17-c8f3235262f3",
   "metadata": {
    "tags": []
   },
   "outputs": [
    {
     "data": {
      "text/plain": [
       "array(['P0AE22', 'sp|A9GAJ9|A9GAJ9_SORC5 Mcm',\n",
       "       'sp|K4JH65|K4JH65_9ACTN Gdnd', 'sp|O77727', 'sp|O82803'],\n",
       "      dtype=object)"
      ]
     },
     "execution_count": 15,
     "metadata": {},
     "output_type": "execute_result"
    }
   ],
   "source": [
    "df1_proteins = df1.loc[df1['Protocol'] == 'Global Proteomics', 'Formal Type'].unique()\n",
    "df2_proteins = df2.loc[df2['Protocol'] == 'Global Proteomics', 'Formal Type'].unique()\n",
    "\n",
    "unique_proteins = np.unique(np.concatenate([df1_proteins, df2_proteins]))\n",
    "unique_proteins[:5]"
   ]
  },
  {
   "cell_type": "markdown",
   "id": "953186b0-dde6-44fe-95ba-551f824100c3",
   "metadata": {},
   "source": [
    "## Split each protein entry by delimiter `|`\n",
    "\n",
    "Protein entries look like: `sp|A9GAJ9|A9GAJ9_SORC5 Mcm` but have variable number of entries. \n",
    "\n",
    "Goal is to isolate the 6-character code. First, create a list of lists where each sublist is a single protein entry split along the delimiter."
   ]
  },
  {
   "cell_type": "code",
   "execution_count": 27,
   "id": "077b7e65-dacb-49ad-9214-ddf80380b84d",
   "metadata": {
    "tags": []
   },
   "outputs": [
    {
     "name": "stdout",
     "output_type": "stream",
     "text": [
      "For N = 2738 total proteins, N = 2738 have an entry with length six\n"
     ]
    }
   ],
   "source": [
    "proteins_split = [p.split('|') for p in unique_proteins]\n",
    "proteins_split"
   ]
  },
  {
   "cell_type": "markdown",
   "id": "ca19e6e3-c426-43bf-9b48-3422deab93f0",
   "metadata": {},
   "source": [
    "Get the length of each string in each sublist using a nested list comprehension"
   ]
  },
  {
   "cell_type": "code",
   "execution_count": null,
   "id": "fd931bd5-7a2a-45a8-9648-86f99238c2cf",
   "metadata": {},
   "outputs": [],
   "source": [
    "proteins_split_length = [np.array([len(single_entry) for single_entry in single_protein]) \n",
    "                         for single_protein in proteins_split]"
   ]
  },
  {
   "cell_type": "markdown",
   "id": "de96383d-29ba-4116-a4a7-19e997b41f99",
   "metadata": {},
   "source": [
    "Check if any of the split strings have length 6:"
   ]
  },
  {
   "cell_type": "code",
   "execution_count": null,
   "id": "992c93ad-008e-4753-95b6-ce7d1f13e66b",
   "metadata": {},
   "outputs": [],
   "source": [
    "any_split_length_6 = [sum(protein_string_lengths==6)==1 for protein_string_lengths in proteins_split_length]\n",
    "print(f\"For N = {len(any_split_length_6)} total proteins, N = {sum(any_split_length_6)} have exactly one entry with length six\")"
   ]
  },
  {
   "cell_type": "markdown",
   "id": "9c3a69ff-07d6-4986-8a68-833d2e7ee91c",
   "metadata": {},
   "source": [
    "Iterate through split proteins, identify which index in sublist to save, and append that string to the list of protein ids"
   ]
  },
  {
   "cell_type": "code",
   "execution_count": 45,
   "id": "d59491ef-748d-4b30-a9e2-8d9cb8c06542",
   "metadata": {
    "tags": []
   },
   "outputs": [],
   "source": [
    "protein_ids_for_uniprot = []\n",
    "for idx, protein_ids in enumerate(proteins_split):\n",
    "    split_to_save = np.where(proteins_split_length[idx] == 6)[0]\n",
    "    assert len(split_to_save) == 1, \"Wrong number of protein IDs have the correct length\"\n",
    "    protein_ids_for_uniprot.append(protein_ids[split_to_save[0]])"
   ]
  },
  {
   "cell_type": "markdown",
   "id": "648e2870-f240-40a7-8ed2-1a647d61e2c1",
   "metadata": {},
   "source": [
    "convert list to dataframe and export to CSV"
   ]
  },
  {
   "cell_type": "code",
   "execution_count": 46,
   "id": "8ea13ed7-8158-4462-b473-29b6092bff65",
   "metadata": {
    "tags": []
   },
   "outputs": [],
   "source": [
    "protein_ids_for_uniprot_df = pd.DataFrame(protein_ids_for_uniprot)\n",
    "protein_ids_for_uniprot_df.to_csv('protein_ids_for_uniprot_tool.csv', index = False, header = False)"
   ]
  },
  {
   "cell_type": "markdown",
   "id": "11661139-f3d6-477a-b8f3-dba511ea7d96",
   "metadata": {},
   "source": [
    "Save dataframe consisting of original protein string (from EDD) and extracted protein ID"
   ]
  },
  {
   "cell_type": "code",
   "execution_count": 58,
   "id": "b9c128d8-363e-4a21-b8e9-ddb2cecb465a",
   "metadata": {
    "tags": []
   },
   "outputs": [
    {
     "data": {
      "text/html": [
       "<div>\n",
       "<style scoped>\n",
       "    .dataframe tbody tr th:only-of-type {\n",
       "        vertical-align: middle;\n",
       "    }\n",
       "\n",
       "    .dataframe tbody tr th {\n",
       "        vertical-align: top;\n",
       "    }\n",
       "\n",
       "    .dataframe thead th {\n",
       "        text-align: right;\n",
       "    }\n",
       "</style>\n",
       "<table border=\"1\" class=\"dataframe\">\n",
       "  <thead>\n",
       "    <tr style=\"text-align: right;\">\n",
       "      <th></th>\n",
       "      <th>original</th>\n",
       "      <th>extracted</th>\n",
       "    </tr>\n",
       "  </thead>\n",
       "  <tbody>\n",
       "    <tr>\n",
       "      <th>0</th>\n",
       "      <td>P0AE22</td>\n",
       "      <td>P0AE22</td>\n",
       "    </tr>\n",
       "    <tr>\n",
       "      <th>1</th>\n",
       "      <td>sp|A9GAJ9|A9GAJ9_SORC5 Mcm</td>\n",
       "      <td>A9GAJ9</td>\n",
       "    </tr>\n",
       "    <tr>\n",
       "      <th>2</th>\n",
       "      <td>sp|K4JH65|K4JH65_9ACTN Gdnd</td>\n",
       "      <td>K4JH65</td>\n",
       "    </tr>\n",
       "    <tr>\n",
       "      <th>3</th>\n",
       "      <td>sp|O77727</td>\n",
       "      <td>O77727</td>\n",
       "    </tr>\n",
       "    <tr>\n",
       "      <th>4</th>\n",
       "      <td>sp|O82803</td>\n",
       "      <td>O82803</td>\n",
       "    </tr>\n",
       "    <tr>\n",
       "      <th>...</th>\n",
       "      <td>...</td>\n",
       "      <td>...</td>\n",
       "    </tr>\n",
       "    <tr>\n",
       "      <th>2733</th>\n",
       "      <td>tr|Q88QV1|Q88QV1_PSEPK</td>\n",
       "      <td>Q88QV1</td>\n",
       "    </tr>\n",
       "    <tr>\n",
       "      <th>2734</th>\n",
       "      <td>tr|Q88QV2|Q88QV2_PSEPK</td>\n",
       "      <td>Q88QV2</td>\n",
       "    </tr>\n",
       "    <tr>\n",
       "      <th>2735</th>\n",
       "      <td>tr|Q88RH1|Q88RH1_PSEPK</td>\n",
       "      <td>Q88RH1</td>\n",
       "    </tr>\n",
       "    <tr>\n",
       "      <th>2736</th>\n",
       "      <td>tr|Q88RH2|Q88RH2_PSEPK</td>\n",
       "      <td>Q88RH2</td>\n",
       "    </tr>\n",
       "    <tr>\n",
       "      <th>2737</th>\n",
       "      <td>tr|Q8PW39|Q8PW39_METMA</td>\n",
       "      <td>Q8PW39</td>\n",
       "    </tr>\n",
       "  </tbody>\n",
       "</table>\n",
       "<p>2738 rows × 2 columns</p>\n",
       "</div>"
      ],
      "text/plain": [
       "                         original extracted\n",
       "0                          P0AE22    P0AE22\n",
       "1      sp|A9GAJ9|A9GAJ9_SORC5 Mcm    A9GAJ9\n",
       "2     sp|K4JH65|K4JH65_9ACTN Gdnd    K4JH65\n",
       "3                       sp|O77727    O77727\n",
       "4                       sp|O82803    O82803\n",
       "...                           ...       ...\n",
       "2733       tr|Q88QV1|Q88QV1_PSEPK    Q88QV1\n",
       "2734       tr|Q88QV2|Q88QV2_PSEPK    Q88QV2\n",
       "2735       tr|Q88RH1|Q88RH1_PSEPK    Q88RH1\n",
       "2736       tr|Q88RH2|Q88RH2_PSEPK    Q88RH2\n",
       "2737       tr|Q8PW39|Q8PW39_METMA    Q8PW39\n",
       "\n",
       "[2738 rows x 2 columns]"
      ]
     },
     "execution_count": 58,
     "metadata": {},
     "output_type": "execute_result"
    }
   ],
   "source": [
    "protein_id_conversion_df = pd.DataFrame(data = np.transpose(np.vstack([unique_proteins, np.array(protein_ids_for_uniprot)])), columns = ['original', 'extracted'])\n",
    "protein_id_conversion_df"
   ]
  },
  {
   "cell_type": "code",
   "execution_count": 60,
   "id": "4bc87b98-d767-4977-9fef-6fd832597ade",
   "metadata": {
    "tags": []
   },
   "outputs": [],
   "source": [
    "protein_id_conversion_df.to_csv('./data/protein_id_conversion_df_init.csv', index = False, header = True)"
   ]
  }
 ],
 "metadata": {
  "kernelspec": {
   "display_name": "Python 3 (ipykernel)",
   "language": "python",
   "name": "python3"
  },
  "language_info": {
   "codemirror_mode": {
    "name": "ipython",
    "version": 3
   },
   "file_extension": ".py",
   "mimetype": "text/x-python",
   "name": "python",
   "nbconvert_exporter": "python",
   "pygments_lexer": "ipython3",
   "version": "3.11.6"
  }
 },
 "nbformat": 4,
 "nbformat_minor": 5
}
