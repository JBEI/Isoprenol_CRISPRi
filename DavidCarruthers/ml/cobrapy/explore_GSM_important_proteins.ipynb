{
 "cells": [
  {
   "cell_type": "code",
   "execution_count": 1,
   "id": "b904bf05-35bf-49db-b979-8297bec1769c",
   "metadata": {
    "tags": []
   },
   "outputs": [
    {
     "name": "stdout",
     "output_type": "stream",
     "text": [
      "Collecting cobra\n",
      "  Downloading cobra-0.29.0-py2.py3-none-any.whl.metadata (9.3 kB)\n",
      "Collecting appdirs~=1.4 (from cobra)\n",
      "  Downloading appdirs-1.4.4-py2.py3-none-any.whl.metadata (9.0 kB)\n",
      "Collecting depinfo~=2.2 (from cobra)\n",
      "  Downloading depinfo-2.2.0-py3-none-any.whl.metadata (3.8 kB)\n",
      "Collecting diskcache~=5.0 (from cobra)\n",
      "  Downloading diskcache-5.6.3-py3-none-any.whl.metadata (20 kB)\n",
      "Collecting future (from cobra)\n",
      "  Downloading future-1.0.0-py3-none-any.whl.metadata (4.0 kB)\n",
      "Collecting httpx~=0.24 (from cobra)\n",
      "  Downloading httpx-0.27.0-py3-none-any.whl.metadata (7.2 kB)\n",
      "Collecting importlib-resources (from cobra)\n",
      "  Downloading importlib_resources-6.4.2-py3-none-any.whl.metadata (3.9 kB)\n",
      "Requirement already satisfied: numpy>=1.13 in /usr/local/art/.venv/lib/python3.11/site-packages (from cobra) (1.23.5)\n",
      "Collecting optlang~=1.8 (from cobra)\n",
      "  Downloading optlang-1.8.2-py2.py3-none-any.whl.metadata (8.1 kB)\n",
      "Requirement already satisfied: pandas<3.0,>=1.0 in /usr/local/art/.venv/lib/python3.11/site-packages (from cobra) (2.1.1)\n",
      "Requirement already satisfied: pydantic>=1.6 in /usr/local/art/.venv/lib/python3.11/site-packages (from cobra) (2.4.2)\n",
      "Collecting python-libsbml~=5.19 (from cobra)\n",
      "  Downloading python_libsbml-5.20.4-cp311-cp311-manylinux_2_17_aarch64.manylinux2014_aarch64.whl.metadata (532 bytes)\n",
      "Collecting rich>=8.0 (from cobra)\n",
      "  Downloading rich-13.7.1-py3-none-any.whl.metadata (18 kB)\n",
      "Collecting ruamel.yaml~=0.16 (from cobra)\n",
      "  Downloading ruamel.yaml-0.18.6-py3-none-any.whl.metadata (23 kB)\n",
      "Collecting swiglpk (from cobra)\n",
      "  Downloading swiglpk-5.0.10-cp311-cp311-manylinux_2_17_aarch64.manylinux2014_aarch64.whl.metadata (5.5 kB)\n",
      "Requirement already satisfied: anyio in /usr/local/art/.venv/lib/python3.11/site-packages (from httpx~=0.24->cobra) (4.0.0)\n",
      "Requirement already satisfied: certifi in /usr/local/art/.venv/lib/python3.11/site-packages (from httpx~=0.24->cobra) (2023.7.22)\n",
      "Collecting httpcore==1.* (from httpx~=0.24->cobra)\n",
      "  Downloading httpcore-1.0.5-py3-none-any.whl.metadata (20 kB)\n",
      "Requirement already satisfied: idna in /usr/local/art/.venv/lib/python3.11/site-packages (from httpx~=0.24->cobra) (3.4)\n",
      "Requirement already satisfied: sniffio in /usr/local/art/.venv/lib/python3.11/site-packages (from httpx~=0.24->cobra) (1.3.0)\n",
      "Collecting h11<0.15,>=0.13 (from httpcore==1.*->httpx~=0.24->cobra)\n",
      "  Downloading h11-0.14.0-py3-none-any.whl.metadata (8.2 kB)\n",
      "Collecting sympy>=1.12.0 (from optlang~=1.8->cobra)\n",
      "  Downloading sympy-1.13.2-py3-none-any.whl.metadata (12 kB)\n",
      "Requirement already satisfied: python-dateutil>=2.8.2 in /usr/local/art/.venv/lib/python3.11/site-packages (from pandas<3.0,>=1.0->cobra) (2.8.2)\n",
      "Requirement already satisfied: pytz>=2020.1 in /usr/local/art/.venv/lib/python3.11/site-packages (from pandas<3.0,>=1.0->cobra) (2023.3.post1)\n",
      "Requirement already satisfied: tzdata>=2022.1 in /usr/local/art/.venv/lib/python3.11/site-packages (from pandas<3.0,>=1.0->cobra) (2023.3)\n",
      "Requirement already satisfied: annotated-types>=0.4.0 in /usr/local/art/.venv/lib/python3.11/site-packages (from pydantic>=1.6->cobra) (0.6.0)\n",
      "Requirement already satisfied: pydantic-core==2.10.1 in /usr/local/art/.venv/lib/python3.11/site-packages (from pydantic>=1.6->cobra) (2.10.1)\n",
      "Requirement already satisfied: typing-extensions>=4.6.1 in /usr/local/art/.venv/lib/python3.11/site-packages (from pydantic>=1.6->cobra) (4.8.0)\n",
      "Collecting markdown-it-py>=2.2.0 (from rich>=8.0->cobra)\n",
      "  Downloading markdown_it_py-3.0.0-py3-none-any.whl.metadata (6.9 kB)\n",
      "Requirement already satisfied: pygments<3.0.0,>=2.13.0 in /usr/local/art/.venv/lib/python3.11/site-packages (from rich>=8.0->cobra) (2.16.1)\n",
      "Collecting ruamel.yaml.clib>=0.2.7 (from ruamel.yaml~=0.16->cobra)\n",
      "  Downloading ruamel.yaml.clib-0.2.8-cp311-cp311-manylinux_2_24_aarch64.whl.metadata (2.2 kB)\n",
      "Collecting mdurl~=0.1 (from markdown-it-py>=2.2.0->rich>=8.0->cobra)\n",
      "  Downloading mdurl-0.1.2-py3-none-any.whl.metadata (1.6 kB)\n",
      "Requirement already satisfied: six>=1.5 in /usr/local/art/.venv/lib/python3.11/site-packages (from python-dateutil>=2.8.2->pandas<3.0,>=1.0->cobra) (1.16.0)\n",
      "Collecting mpmath<1.4,>=1.1.0 (from sympy>=1.12.0->optlang~=1.8->cobra)\n",
      "  Downloading mpmath-1.3.0-py3-none-any.whl.metadata (8.6 kB)\n",
      "Downloading cobra-0.29.0-py2.py3-none-any.whl (1.2 MB)\n",
      "\u001b[2K   \u001b[90m━━━━━━━━━━━━━━━━━━━━━━━━━━━━━━━━━━━━━━━━\u001b[0m \u001b[32m1.2/1.2 MB\u001b[0m \u001b[31m1.4 MB/s\u001b[0m eta \u001b[36m0:00:00\u001b[0m00:01\u001b[0m00:01\u001b[0m0m\n",
      "\u001b[?25hDownloading appdirs-1.4.4-py2.py3-none-any.whl (9.6 kB)\n",
      "Downloading depinfo-2.2.0-py3-none-any.whl (24 kB)\n",
      "Downloading diskcache-5.6.3-py3-none-any.whl (45 kB)\n",
      "\u001b[2K   \u001b[90m━━━━━━━━━━━━━━━━━━━━━━━━━━━━━━━━━━━━━━━━\u001b[0m \u001b[32m45.5/45.5 kB\u001b[0m \u001b[31m6.4 MB/s\u001b[0m eta \u001b[36m0:00:00\u001b[0m\n",
      "\u001b[?25hDownloading httpx-0.27.0-py3-none-any.whl (75 kB)\n",
      "\u001b[2K   \u001b[90m━━━━━━━━━━━━━━━━━━━━━━━━━━━━━━━━━━━━━━━━\u001b[0m \u001b[32m75.6/75.6 kB\u001b[0m \u001b[31m4.8 MB/s\u001b[0m eta \u001b[36m0:00:00\u001b[0m\n",
      "\u001b[?25hDownloading httpcore-1.0.5-py3-none-any.whl (77 kB)\n",
      "\u001b[2K   \u001b[90m━━━━━━━━━━━━━━━━━━━━━━━━━━━━━━━━━━━━━━━━\u001b[0m \u001b[32m77.9/77.9 kB\u001b[0m \u001b[31m4.7 MB/s\u001b[0m eta \u001b[36m0:00:00\u001b[0m\n",
      "\u001b[?25hDownloading optlang-1.8.2-py2.py3-none-any.whl (141 kB)\n",
      "\u001b[2K   \u001b[90m━━━━━━━━━━━━━━━━━━━━━━━━━━━━━━━━━━━━━━━━\u001b[0m \u001b[32m141.8/141.8 kB\u001b[0m \u001b[31m6.0 MB/s\u001b[0m eta \u001b[36m0:00:00\u001b[0m\n",
      "\u001b[?25hDownloading python_libsbml-5.20.4-cp311-cp311-manylinux_2_17_aarch64.manylinux2014_aarch64.whl (7.4 MB)\n",
      "\u001b[2K   \u001b[90m━━━━━━━━━━━━━━━━━━━━━━━━━━━━━━━━━━━━━━━━\u001b[0m \u001b[32m7.4/7.4 MB\u001b[0m \u001b[31m5.9 MB/s\u001b[0m eta \u001b[36m0:00:00\u001b[0m00:01\u001b[0m00:01\u001b[0mm\n",
      "\u001b[?25hDownloading rich-13.7.1-py3-none-any.whl (240 kB)\n",
      "\u001b[2K   \u001b[90m━━━━━━━━━━━━━━━━━━━━━━━━━━━━━━━━━━━━━━━━\u001b[0m \u001b[32m240.7/240.7 kB\u001b[0m \u001b[31m5.0 MB/s\u001b[0m eta \u001b[36m0:00:00\u001b[0ma \u001b[36m0:00:01\u001b[0m\n",
      "\u001b[?25hDownloading ruamel.yaml-0.18.6-py3-none-any.whl (117 kB)\n",
      "\u001b[2K   \u001b[90m━━━━━━━━━━━━━━━━━━━━━━━━━━━━━━━━━━━━━━━━\u001b[0m \u001b[32m117.8/117.8 kB\u001b[0m \u001b[31m5.1 MB/s\u001b[0m eta \u001b[36m0:00:00\u001b[0m\n",
      "\u001b[?25hDownloading swiglpk-5.0.10-cp311-cp311-manylinux_2_17_aarch64.manylinux2014_aarch64.whl (2.2 MB)\n",
      "\u001b[2K   \u001b[90m━━━━━━━━━━━━━━━━━━━━━━━━━━━━━━━━━━━━━━━━\u001b[0m \u001b[32m2.2/2.2 MB\u001b[0m \u001b[31m6.1 MB/s\u001b[0m eta \u001b[36m0:00:00\u001b[0m00:01\u001b[0m00:01\u001b[0mm\n",
      "\u001b[?25hDownloading future-1.0.0-py3-none-any.whl (491 kB)\n",
      "\u001b[2K   \u001b[90m━━━━━━━━━━━━━━━━━━━━━━━━━━━━━━━━━━━━━━━━\u001b[0m \u001b[32m491.3/491.3 kB\u001b[0m \u001b[31m9.5 MB/s\u001b[0m eta \u001b[36m0:00:00\u001b[0mta \u001b[36m0:00:01\u001b[0m\n",
      "\u001b[?25hDownloading importlib_resources-6.4.2-py3-none-any.whl (34 kB)\n",
      "Downloading markdown_it_py-3.0.0-py3-none-any.whl (87 kB)\n",
      "\u001b[2K   \u001b[90m━━━━━━━━━━━━━━━━━━━━━━━━━━━━━━━━━━━━━━━━\u001b[0m \u001b[32m87.5/87.5 kB\u001b[0m \u001b[31m5.7 MB/s\u001b[0m eta \u001b[36m0:00:00\u001b[0m\n",
      "\u001b[?25hDownloading ruamel.yaml.clib-0.2.8-cp311-cp311-manylinux_2_24_aarch64.whl (642 kB)\n",
      "\u001b[2K   \u001b[90m━━━━━━━━━━━━━━━━━━━━━━━━━━━━━━━━━━━━━━━━\u001b[0m \u001b[32m642.6/642.6 kB\u001b[0m \u001b[31m5.0 MB/s\u001b[0m eta \u001b[36m0:00:00\u001b[0ma \u001b[36m0:00:01\u001b[0m\n",
      "\u001b[?25hDownloading sympy-1.13.2-py3-none-any.whl (6.2 MB)\n",
      "\u001b[2K   \u001b[90m━━━━━━━━━━━━━━━━━━━━━━━━━━━━━━━━━━━━━━━━\u001b[0m \u001b[32m6.2/6.2 MB\u001b[0m \u001b[31m6.0 MB/s\u001b[0m eta \u001b[36m0:00:00\u001b[0m00:01\u001b[0m00:01\u001b[0m\n",
      "\u001b[?25hDownloading h11-0.14.0-py3-none-any.whl (58 kB)\n",
      "\u001b[2K   \u001b[90m━━━━━━━━━━━━━━━━━━━━━━━━━━━━━━━━━━━━━━━━\u001b[0m \u001b[32m58.3/58.3 kB\u001b[0m \u001b[31m4.2 MB/s\u001b[0m eta \u001b[36m0:00:00\u001b[0m\n",
      "\u001b[?25hDownloading mdurl-0.1.2-py3-none-any.whl (10.0 kB)\n",
      "Downloading mpmath-1.3.0-py3-none-any.whl (536 kB)\n",
      "\u001b[2K   \u001b[90m━━━━━━━━━━━━━━━━━━━━━━━━━━━━━━━━━━━━━━━━\u001b[0m \u001b[32m536.2/536.2 kB\u001b[0m \u001b[31m6.4 MB/s\u001b[0m eta \u001b[36m0:00:00\u001b[0mta \u001b[36m0:00:01\u001b[0m\n",
      "\u001b[?25hInstalling collected packages: swiglpk, python-libsbml, mpmath, appdirs, sympy, ruamel.yaml.clib, mdurl, importlib-resources, h11, future, diskcache, depinfo, ruamel.yaml, optlang, markdown-it-py, httpcore, rich, httpx, cobra\n",
      "Successfully installed appdirs-1.4.4 cobra-0.29.0 depinfo-2.2.0 diskcache-5.6.3 future-1.0.0 h11-0.14.0 httpcore-1.0.5 httpx-0.27.0 importlib-resources-6.4.2 markdown-it-py-3.0.0 mdurl-0.1.2 mpmath-1.3.0 optlang-1.8.2 python-libsbml-5.20.4 rich-13.7.1 ruamel.yaml-0.18.6 ruamel.yaml.clib-0.2.8 swiglpk-5.0.10 sympy-1.13.2\n",
      "\n",
      "\u001b[1m[\u001b[0m\u001b[34;49mnotice\u001b[0m\u001b[1;39;49m]\u001b[0m\u001b[39;49m A new release of pip is available: \u001b[0m\u001b[31;49m24.1\u001b[0m\u001b[39;49m -> \u001b[0m\u001b[32;49m24.2\u001b[0m\n",
      "\u001b[1m[\u001b[0m\u001b[34;49mnotice\u001b[0m\u001b[1;39;49m]\u001b[0m\u001b[39;49m To update, run: \u001b[0m\u001b[32;49mpip install --upgrade pip\u001b[0m\n",
      "Note: you may need to restart the kernel to use updated packages.\n"
     ]
    }
   ],
   "source": [
    "%pip install cobra"
   ]
  },
  {
   "cell_type": "code",
   "execution_count": 2,
   "id": "3c56cb59-f219-443a-8ef2-041a85c6a8b4",
   "metadata": {
    "tags": []
   },
   "outputs": [],
   "source": [
    "import cobra\n",
    "import pandas as pd\n",
    "import numpy as np\n",
    "\n",
    "import sys\n",
    "\n",
    "source_dir = './src_isoprenol'\n",
    "sys.path.append(source_dir)\n",
    "\n",
    "from utils import *\n",
    "from cobra_functions import get_EFlux2_solution\n",
    "from plot import *\n",
    "\n",
    "import importlib\n",
    "import p_to_f_functions\n"
   ]
  },
  {
   "cell_type": "code",
   "execution_count": 3,
   "id": "181fd55a-51e2-4556-ba25-6ead4f56a444",
   "metadata": {
    "tags": []
   },
   "outputs": [],
   "source": [
    "model = cobra.io.load_json_model('./data/iJN1463_IPP_bypass.json')\n",
    "model.solver = 'glpk'"
   ]
  },
  {
   "cell_type": "code",
   "execution_count": 4,
   "id": "9da9b11e-c785-424a-a090-b28c16c13100",
   "metadata": {
    "tags": []
   },
   "outputs": [
    {
     "data": {
      "text/html": [
       "\n",
       "        <table>\n",
       "            <tr>\n",
       "                <td><strong>Name</strong></td>\n",
       "                <td>iJN1463</td>\n",
       "            </tr><tr>\n",
       "                <td><strong>Memory address</strong></td>\n",
       "                <td>ffff44a59890</td>\n",
       "            </tr><tr>\n",
       "                <td><strong>Number of metabolites</strong></td>\n",
       "                <td>2158</td>\n",
       "            </tr><tr>\n",
       "                <td><strong>Number of reactions</strong></td>\n",
       "                <td>2895</td>\n",
       "            </tr><tr>\n",
       "                <td><strong>Number of genes</strong></td>\n",
       "                <td>1450</td>\n",
       "            </tr><tr>\n",
       "                <td><strong>Number of groups</strong></td>\n",
       "                <td>0</td>\n",
       "            </tr><tr>\n",
       "                <td><strong>Objective expression</strong></td>\n",
       "                <td>1.0*BIOMASS_KT2440_Core2 - 1.0*BIOMASS_KT2440_Core2_reverse_22c67</td>\n",
       "            </tr><tr>\n",
       "                <td><strong>Compartments</strong></td>\n",
       "                <td>cytosol, extracellular space, periplasm</td>\n",
       "            </tr>\n",
       "          </table>"
      ],
      "text/plain": [
       "<Model iJN1463 at 0xffff44a59890>"
      ]
     },
     "execution_count": 4,
     "metadata": {},
     "output_type": "execute_result"
    }
   ],
   "source": [
    "model"
   ]
  },
  {
   "cell_type": "markdown",
   "id": "99d99797-e12e-4ab2-b6b9-b8155a0dc0c5",
   "metadata": {
    "tags": []
   },
   "source": [
    "## PP_2209 stuff"
   ]
  },
  {
   "cell_type": "code",
   "execution_count": 5,
   "id": "1095bd96-6f98-4207-bf2e-dab65e55a2bd",
   "metadata": {
    "tags": []
   },
   "outputs": [
    {
     "data": {
      "text/html": [
       "\n",
       "        <table>\n",
       "            <tr>\n",
       "                <td><strong>Gene identifier</strong></td><td>PP_2209</td>\n",
       "            </tr><tr>\n",
       "                <td><strong>Name</strong></td><td>phnW</td>\n",
       "            </tr><tr>\n",
       "                <td><strong>Memory address</strong></td>\n",
       "                <td>0xffff3f35b450</td>\n",
       "            </tr><tr>\n",
       "                <td><strong>Functional</strong></td><td>True</td>\n",
       "            </tr><tr>\n",
       "                <td><strong>In 1 reaction(s)</strong></td><td>\n",
       "                    AEPTA\n",
       "                    </td>\n",
       "            </tr>\n",
       "        </table>"
      ],
      "text/plain": [
       "<Gene PP_2209 at 0xffff3f35b450>"
      ]
     },
     "execution_count": 5,
     "metadata": {},
     "output_type": "execute_result"
    }
   ],
   "source": [
    "g  = model.genes.get_by_id('PP_2209')\n",
    "g"
   ]
  },
  {
   "cell_type": "code",
   "execution_count": 6,
   "id": "31c8d312-5ac4-4ce5-b7c7-de2d7ef1a204",
   "metadata": {
    "tags": []
   },
   "outputs": [
    {
     "data": {
      "text/html": [
       "\n",
       "        <table>\n",
       "            <tr>\n",
       "                <td><strong>Metabolite identifier</strong></td><td>2ameph_c</td>\n",
       "            </tr><tr>\n",
       "                <td><strong>Name</strong></td><td>2-Aminoethylphosphonate</td>\n",
       "            </tr><tr>\n",
       "                <td><strong>Memory address</strong></td>\n",
       "                <td>0xffff3f419010</td>\n",
       "            </tr><tr>\n",
       "                <td><strong>Formula</strong></td><td>C2H7NO3P</td>\n",
       "            </tr><tr>\n",
       "                <td><strong>Compartment</strong></td><td>c</td>\n",
       "            </tr><tr>\n",
       "                <td><strong>In 2 reaction(s)</strong></td><td>\n",
       "                    AEPabcpp, AEPTA\n",
       "                    </td>\n",
       "            </tr>\n",
       "        </table>"
      ],
      "text/plain": [
       "<Metabolite 2ameph_c at 0xffff3f419010>"
      ]
     },
     "execution_count": 6,
     "metadata": {},
     "output_type": "execute_result"
    }
   ],
   "source": [
    "model.metabolites.get_by_id('2ameph_c')"
   ]
  },
  {
   "cell_type": "code",
   "execution_count": 7,
   "id": "cec5ee39-7cfa-434c-9585-3f5aea8c9ed6",
   "metadata": {
    "tags": []
   },
   "outputs": [
    {
     "data": {
      "text/plain": [
       "frozenset({<Reaction AEPTA at 0xffff3dcd5dd0>,\n",
       "           <Reaction AEPabcpp at 0xffff3d81f290>})"
      ]
     },
     "execution_count": 7,
     "metadata": {},
     "output_type": "execute_result"
    }
   ],
   "source": [
    "list(g.reactions)[0].reactants[0].reactions"
   ]
  },
  {
   "cell_type": "code",
   "execution_count": 8,
   "id": "99ee350b-49b8-4524-8059-e6cdc91b5118",
   "metadata": {
    "tags": []
   },
   "outputs": [
    {
     "data": {
      "text/html": [
       "\n",
       "        <table>\n",
       "            <tr>\n",
       "                <td><strong>Reaction identifier</strong></td><td>AEPabcpp</td>\n",
       "            </tr><tr>\n",
       "                <td><strong>Name</strong></td><td>AEP transport via ABC system periplasm</td>\n",
       "            </tr><tr>\n",
       "                <td><strong>Memory address</strong></td>\n",
       "                <td>0xffff3d81f290</td>\n",
       "            </tr><tr>\n",
       "                <td><strong>Stoichiometry</strong></td>\n",
       "                <td>\n",
       "                    <p style='text-align:right'>2ameph_p + atp_c + h2o_c --> 2ameph_c + adp_c + h_c + pi_c</p>\n",
       "                    <p style='text-align:right'>2-Aminoethylphosphonate + ATP C10H12N5O13P3 + H2O H2O --> 2-Aminoethylphosphonate + ADP C10H12N5O10P2 + H+ + Phosphate</p>\n",
       "                </td>\n",
       "            </tr><tr>\n",
       "                <td><strong>GPR</strong></td><td>(PP_0825 and PP_0824 and PP_0826 and PP_0827) or (PP_5135 and PP_5137 and PP_5136)</td>\n",
       "            </tr><tr>\n",
       "                <td><strong>Lower bound</strong></td><td>0.0</td>\n",
       "            </tr><tr>\n",
       "                <td><strong>Upper bound</strong></td><td>1000.0</td>\n",
       "            </tr>\n",
       "        </table>\n",
       "        "
      ],
      "text/plain": [
       "<Reaction AEPabcpp at 0xffff3d81f290>"
      ]
     },
     "execution_count": 8,
     "metadata": {},
     "output_type": "execute_result"
    }
   ],
   "source": [
    "model.reactions.get_by_id('AEPabcpp')"
   ]
  },
  {
   "cell_type": "code",
   "execution_count": 9,
   "id": "9da23cab-7481-4390-b8e8-256432beaa9a",
   "metadata": {
    "tags": []
   },
   "outputs": [
    {
     "data": {
      "text/html": [
       "\n",
       "        <table>\n",
       "            <tr>\n",
       "                <td><strong>Reaction identifier</strong></td><td>AEPTA</td>\n",
       "            </tr><tr>\n",
       "                <td><strong>Name</strong></td><td>2 aminoethylphosphonate pyruvate transaminase</td>\n",
       "            </tr><tr>\n",
       "                <td><strong>Memory address</strong></td>\n",
       "                <td>0xffff3dcd5dd0</td>\n",
       "            </tr><tr>\n",
       "                <td><strong>Stoichiometry</strong></td>\n",
       "                <td>\n",
       "                    <p style='text-align:right'>2ameph_c + pyr_c <=> ala__L_c + pald_c</p>\n",
       "                    <p style='text-align:right'>2-Aminoethylphosphonate + Pyruvate <=> L-Alanine + Phosphonoacetaldehyde</p>\n",
       "                </td>\n",
       "            </tr><tr>\n",
       "                <td><strong>GPR</strong></td><td>PP_2209</td>\n",
       "            </tr><tr>\n",
       "                <td><strong>Lower bound</strong></td><td>-1000.0</td>\n",
       "            </tr><tr>\n",
       "                <td><strong>Upper bound</strong></td><td>1000.0</td>\n",
       "            </tr>\n",
       "        </table>\n",
       "        "
      ],
      "text/plain": [
       "<Reaction AEPTA at 0xffff3dcd5dd0>"
      ]
     },
     "execution_count": 9,
     "metadata": {},
     "output_type": "execute_result"
    }
   ],
   "source": [
    "model.reactions.get_by_id('AEPTA')"
   ]
  },
  {
   "cell_type": "code",
   "execution_count": 10,
   "id": "d38c6867-cf3d-4c07-ad31-eebe189ebbd4",
   "metadata": {
    "tags": []
   },
   "outputs": [
    {
     "data": {
      "text/html": [
       "\n",
       "        <table>\n",
       "            <tr>\n",
       "                <td><strong>Metabolite identifier</strong></td><td>2ameph_p</td>\n",
       "            </tr><tr>\n",
       "                <td><strong>Name</strong></td><td>2-Aminoethylphosphonate</td>\n",
       "            </tr><tr>\n",
       "                <td><strong>Memory address</strong></td>\n",
       "                <td>0xffff3f4191d0</td>\n",
       "            </tr><tr>\n",
       "                <td><strong>Formula</strong></td><td>C2H7NO3P</td>\n",
       "            </tr><tr>\n",
       "                <td><strong>Compartment</strong></td><td>p</td>\n",
       "            </tr><tr>\n",
       "                <td><strong>In 2 reaction(s)</strong></td><td>\n",
       "                    AEPabcpp, AEPtex\n",
       "                    </td>\n",
       "            </tr>\n",
       "        </table>"
      ],
      "text/plain": [
       "<Metabolite 2ameph_p at 0xffff3f4191d0>"
      ]
     },
     "execution_count": 10,
     "metadata": {},
     "output_type": "execute_result"
    }
   ],
   "source": [
    "model.metabolites.get_by_id('2ameph_p')"
   ]
  },
  {
   "cell_type": "code",
   "execution_count": 11,
   "id": "ed3e0a08-eb45-4e27-9106-4cb02b514427",
   "metadata": {
    "tags": []
   },
   "outputs": [
    {
     "data": {
      "text/html": [
       "\n",
       "        <table>\n",
       "            <tr>\n",
       "                <td><strong>Reaction identifier</strong></td><td>AEPtex</td>\n",
       "            </tr><tr>\n",
       "                <td><strong>Name</strong></td><td>AEP transport via diffusion extracellular to periplasm</td>\n",
       "            </tr><tr>\n",
       "                <td><strong>Memory address</strong></td>\n",
       "                <td>0xffff3d826b90</td>\n",
       "            </tr><tr>\n",
       "                <td><strong>Stoichiometry</strong></td>\n",
       "                <td>\n",
       "                    <p style='text-align:right'>2ameph_e <=> 2ameph_p</p>\n",
       "                    <p style='text-align:right'>2-Aminoethylphosphonate <=> 2-Aminoethylphosphonate</p>\n",
       "                </td>\n",
       "            </tr><tr>\n",
       "                <td><strong>GPR</strong></td><td></td>\n",
       "            </tr><tr>\n",
       "                <td><strong>Lower bound</strong></td><td>-1000.0</td>\n",
       "            </tr><tr>\n",
       "                <td><strong>Upper bound</strong></td><td>1000.0</td>\n",
       "            </tr>\n",
       "        </table>\n",
       "        "
      ],
      "text/plain": [
       "<Reaction AEPtex at 0xffff3d826b90>"
      ]
     },
     "execution_count": 11,
     "metadata": {},
     "output_type": "execute_result"
    }
   ],
   "source": [
    "model.reactions.get_by_id('AEPtex')"
   ]
  },
  {
   "cell_type": "code",
   "execution_count": 12,
   "id": "75476123-09ad-46e3-bfb0-e740887992c8",
   "metadata": {
    "tags": []
   },
   "outputs": [
    {
     "data": {
      "text/html": [
       "\n",
       "        <table>\n",
       "            <tr>\n",
       "                <td><strong>Metabolite identifier</strong></td><td>2ameph_e</td>\n",
       "            </tr><tr>\n",
       "                <td><strong>Name</strong></td><td>2-Aminoethylphosphonate</td>\n",
       "            </tr><tr>\n",
       "                <td><strong>Memory address</strong></td>\n",
       "                <td>0xffff3f419150</td>\n",
       "            </tr><tr>\n",
       "                <td><strong>Formula</strong></td><td>C2H7NO3P</td>\n",
       "            </tr><tr>\n",
       "                <td><strong>Compartment</strong></td><td>e</td>\n",
       "            </tr><tr>\n",
       "                <td><strong>In 2 reaction(s)</strong></td><td>\n",
       "                    EX_AEP_e, AEPtex\n",
       "                    </td>\n",
       "            </tr>\n",
       "        </table>"
      ],
      "text/plain": [
       "<Metabolite 2ameph_e at 0xffff3f419150>"
      ]
     },
     "execution_count": 12,
     "metadata": {},
     "output_type": "execute_result"
    }
   ],
   "source": [
    "model.metabolites.get_by_id('2ameph_e')"
   ]
  },
  {
   "cell_type": "code",
   "execution_count": 13,
   "id": "badf6ea1-8e3b-4c17-8e42-1587f28758c3",
   "metadata": {
    "tags": []
   },
   "outputs": [
    {
     "data": {
      "text/html": [
       "\n",
       "        <table>\n",
       "            <tr>\n",
       "                <td><strong>Metabolite identifier</strong></td><td>2ameph_c</td>\n",
       "            </tr><tr>\n",
       "                <td><strong>Name</strong></td><td>2-Aminoethylphosphonate</td>\n",
       "            </tr><tr>\n",
       "                <td><strong>Memory address</strong></td>\n",
       "                <td>0xffff3f419010</td>\n",
       "            </tr><tr>\n",
       "                <td><strong>Formula</strong></td><td>C2H7NO3P</td>\n",
       "            </tr><tr>\n",
       "                <td><strong>Compartment</strong></td><td>c</td>\n",
       "            </tr><tr>\n",
       "                <td><strong>In 2 reaction(s)</strong></td><td>\n",
       "                    AEPabcpp, AEPTA\n",
       "                    </td>\n",
       "            </tr>\n",
       "        </table>"
      ],
      "text/plain": [
       "<Metabolite 2ameph_c at 0xffff3f419010>"
      ]
     },
     "execution_count": 13,
     "metadata": {},
     "output_type": "execute_result"
    }
   ],
   "source": [
    "model.metabolites.get_by_id('2ameph_c')"
   ]
  },
  {
   "cell_type": "code",
   "execution_count": 14,
   "id": "abc4b85a-4848-4be8-8012-8e51e5edc6f9",
   "metadata": {
    "tags": []
   },
   "outputs": [
    {
     "data": {
      "text/plain": [
       "frozenset({<Reaction AEPTA at 0xffff3dcd5dd0>,\n",
       "           <Reaction PALDO2 at 0xffff3e28de90>,\n",
       "           <Reaction PALDP at 0xffff3e28f510>})"
      ]
     },
     "execution_count": 14,
     "metadata": {},
     "output_type": "execute_result"
    }
   ],
   "source": [
    "model.metabolites.get_by_id('pald_c').reactions"
   ]
  },
  {
   "cell_type": "code",
   "execution_count": 16,
   "id": "79560995-96cd-4a58-9504-6daaa3bdadc1",
   "metadata": {
    "tags": []
   },
   "outputs": [],
   "source": [
    "pald_rxns = model.metabolites.get_by_id('pald_c').reactions\n",
    "pald_genes = [list(r.genes) for r in list(pald_rxns)]"
   ]
  },
  {
   "cell_type": "code",
   "execution_count": 17,
   "id": "2b6dc914-3c93-41f0-83f9-071ce89f69d6",
   "metadata": {
    "tags": []
   },
   "outputs": [
    {
     "data": {
      "text/plain": [
       "[[<Gene PP_2208 at 0xffff3f39d110>], [], [<Gene PP_2209 at 0xffff3f35b450>]]"
      ]
     },
     "execution_count": 17,
     "metadata": {},
     "output_type": "execute_result"
    }
   ],
   "source": [
    "pald_genes"
   ]
  },
  {
   "cell_type": "markdown",
   "id": "24d7f36f-6082-4f43-af4c-b85263b573bb",
   "metadata": {},
   "source": [
    "## PP_279(1/2/3) stuff"
   ]
  },
  {
   "cell_type": "code",
   "execution_count": 18,
   "id": "7b1f0481-60b7-43e2-ad9c-0179468487fa",
   "metadata": {},
   "outputs": [],
   "source": [
    "genes = [f'PP_279{x}' for x in [1,2,3]]"
   ]
  },
  {
   "cell_type": "code",
   "execution_count": 23,
   "id": "a9160a01-f2d7-43f2-ae06-569618ca15e0",
   "metadata": {
    "tags": []
   },
   "outputs": [
    {
     "name": "stdout",
     "output_type": "stream",
     "text": [
      "[frozenset({<Reaction 4HPTNCOAK at 0xffff3dcf0690>}), frozenset({<Reaction 4HPTNCOAK at 0xffff3dcf0690>}), frozenset({<Reaction 4POPCOAM3 at 0xffff3daa6410>, <Reaction 4POPCOAM2 at 0xffff3daa6210>, <Reaction 4POPCOAM at 0xffff3e3c5950>})]\n"
     ]
    }
   ],
   "source": [
    "print([model.genes.get_by_id(g).reactions for g in genes])\n"
   ]
  },
  {
   "cell_type": "code",
   "execution_count": 24,
   "id": "8a57e5cd-4cad-4347-9353-7cd5b2238680",
   "metadata": {
    "tags": []
   },
   "outputs": [
    {
     "data": {
      "text/html": [
       "\n",
       "        <table>\n",
       "            <tr>\n",
       "                <td><strong>Gene identifier</strong></td><td>PP_2791</td>\n",
       "            </tr><tr>\n",
       "                <td><strong>Name</strong></td><td></td>\n",
       "            </tr><tr>\n",
       "                <td><strong>Memory address</strong></td>\n",
       "                <td>0xffff3f3b58d0</td>\n",
       "            </tr><tr>\n",
       "                <td><strong>Functional</strong></td><td>True</td>\n",
       "            </tr><tr>\n",
       "                <td><strong>In 1 reaction(s)</strong></td><td>\n",
       "                    4HPTNCOAK\n",
       "                    </td>\n",
       "            </tr>\n",
       "        </table>"
      ],
      "text/plain": [
       "<Gene PP_2791 at 0xffff3f3b58d0>"
      ]
     },
     "execution_count": 24,
     "metadata": {},
     "output_type": "execute_result"
    }
   ],
   "source": [
    "model.genes.get_by_id(genes[0])"
   ]
  },
  {
   "cell_type": "code",
   "execution_count": 25,
   "id": "b5b3462a-a10d-4a51-94ae-1bbfd55ebb34",
   "metadata": {
    "tags": []
   },
   "outputs": [
    {
     "data": {
      "text/html": [
       "\n",
       "        <table>\n",
       "            <tr>\n",
       "                <td><strong>Reaction identifier</strong></td><td>4HPTNCOAK</td>\n",
       "            </tr><tr>\n",
       "                <td><strong>Name</strong></td><td>4 Hydroxypentanoyl CoA kinase</td>\n",
       "            </tr><tr>\n",
       "                <td><strong>Memory address</strong></td>\n",
       "                <td>0xffff3dcf0690</td>\n",
       "            </tr><tr>\n",
       "                <td><strong>Stoichiometry</strong></td>\n",
       "                <td>\n",
       "                    <p style='text-align:right'>4hptcoa_c + atp_c --> 4poptcoa_c + adp_c + h_c</p>\n",
       "                    <p style='text-align:right'>4 Hydroxypentanoyl CoA + ATP C10H12N5O13P3 --> 4 Phosphooxypentanoyl CoA + ADP C10H12N5O10P2 + H+</p>\n",
       "                </td>\n",
       "            </tr><tr>\n",
       "                <td><strong>GPR</strong></td><td>PP_2791 and PP_2792</td>\n",
       "            </tr><tr>\n",
       "                <td><strong>Lower bound</strong></td><td>0.0</td>\n",
       "            </tr><tr>\n",
       "                <td><strong>Upper bound</strong></td><td>1000.0</td>\n",
       "            </tr>\n",
       "        </table>\n",
       "        "
      ],
      "text/plain": [
       "<Reaction 4HPTNCOAK at 0xffff3dcf0690>"
      ]
     },
     "execution_count": 25,
     "metadata": {},
     "output_type": "execute_result"
    }
   ],
   "source": [
    "model.reactions.get_by_id('4HPTNCOAK')"
   ]
  }
 ],
 "metadata": {
  "kernelspec": {
   "display_name": "Python 3 (ipykernel)",
   "language": "python",
   "name": "python3"
  },
  "language_info": {
   "codemirror_mode": {
    "name": "ipython",
    "version": 3
   },
   "file_extension": ".py",
   "mimetype": "text/x-python",
   "name": "python",
   "nbconvert_exporter": "python",
   "pygments_lexer": "ipython3",
   "version": "3.11.9"
  }
 },
 "nbformat": 4,
 "nbformat_minor": 5
}
