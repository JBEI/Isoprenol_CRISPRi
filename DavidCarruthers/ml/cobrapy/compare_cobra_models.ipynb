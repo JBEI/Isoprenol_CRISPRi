{
 "cells": [
  {
   "cell_type": "code",
   "execution_count": 27,
   "id": "e878209f-9a60-436a-8535-38fb306e23ca",
   "metadata": {},
   "outputs": [],
   "source": [
    "import cobra"
   ]
  },
  {
   "cell_type": "code",
   "execution_count": 28,
   "id": "a1df34ae-29e3-482d-bf07-b8e82933a6c8",
   "metadata": {},
   "outputs": [],
   "source": [
    "base = cobra.io.load_json_model('./data/iJN1463.json')\n",
    "ipp = cobra.io.load_json_model('./data/iJN1463_IPP_bypass.json')"
   ]
  },
  {
   "cell_type": "code",
   "execution_count": 29,
   "id": "c758c0b5-6446-4dd3-a3a4-b45c2cce3ed5",
   "metadata": {},
   "outputs": [
    {
     "data": {
      "text/html": [
       "\n",
       "        <table>\n",
       "            <tr>\n",
       "                <td><strong>Name</strong></td>\n",
       "                <td>iJN1463</td>\n",
       "            </tr><tr>\n",
       "                <td><strong>Memory address</strong></td>\n",
       "                <td>0x07f56aea362e0</td>\n",
       "            </tr><tr>\n",
       "                <td><strong>Number of metabolites</strong></td>\n",
       "                <td>2153</td>\n",
       "            </tr><tr>\n",
       "                <td><strong>Number of reactions</strong></td>\n",
       "                <td>2927</td>\n",
       "            </tr><tr>\n",
       "                <td><strong>Number of groups</strong></td>\n",
       "                <td>0</td>\n",
       "            </tr><tr>\n",
       "                <td><strong>Objective expression</strong></td>\n",
       "                <td>1.0*BIOMASS_KT2440_WT3 - 1.0*BIOMASS_KT2440_WT3_reverse_d86d5</td>\n",
       "            </tr><tr>\n",
       "                <td><strong>Compartments</strong></td>\n",
       "                <td>cytosol, extracellular space, periplasm</td>\n",
       "            </tr>\n",
       "          </table>"
      ],
      "text/plain": [
       "<Model iJN1463 at 0x7f56aea362e0>"
      ]
     },
     "execution_count": 29,
     "metadata": {},
     "output_type": "execute_result"
    }
   ],
   "source": [
    "base"
   ]
  },
  {
   "cell_type": "code",
   "execution_count": 30,
   "id": "3e6c6c59-8076-4dcc-ba5d-14924962fe4f",
   "metadata": {},
   "outputs": [
    {
     "data": {
      "text/html": [
       "\n",
       "        <table>\n",
       "            <tr>\n",
       "                <td><strong>Metabolite identifier</strong></td><td>10fthf_c</td>\n",
       "            </tr><tr>\n",
       "                <td><strong>Name</strong></td><td>10-Formyltetrahydrofolate</td>\n",
       "            </tr><tr>\n",
       "                <td><strong>Memory address</strong></td>\n",
       "                <td>0x7f56ad5249d0</td>\n",
       "            </tr><tr>\n",
       "                <td><strong>Formula</strong></td><td>C20H21N7O7</td>\n",
       "            </tr><tr>\n",
       "                <td><strong>Compartment</strong></td><td>c</td>\n",
       "            </tr><tr>\n",
       "                <td><strong>In 7 reaction(s)</strong></td><td>\n",
       "                    BIOMASS_KT2440_Core2, FMETTRS, GARFT, MTHFC, FTHFD, BIOMASS_KT2440_WT3, AICART\n",
       "                    </td>\n",
       "            </tr>\n",
       "        </table>"
      ],
      "text/plain": [
       "<Metabolite 10fthf_c at 0x7f56ad5249d0>"
      ]
     },
     "execution_count": 30,
     "metadata": {},
     "output_type": "execute_result"
    }
   ],
   "source": [
    "ipp.metabolites[0]"
   ]
  },
  {
   "cell_type": "code",
   "execution_count": 31,
   "id": "c6e7d018-e4b6-4309-8932-8f0d744ae2a4",
   "metadata": {},
   "outputs": [
    {
     "data": {
      "text/html": [
       "\n",
       "        <table>\n",
       "            <tr>\n",
       "                <td><strong>Name</strong></td>\n",
       "                <td>iJN1463</td>\n",
       "            </tr><tr>\n",
       "                <td><strong>Memory address</strong></td>\n",
       "                <td>0x07f56aea0d400</td>\n",
       "            </tr><tr>\n",
       "                <td><strong>Number of metabolites</strong></td>\n",
       "                <td>2158</td>\n",
       "            </tr><tr>\n",
       "                <td><strong>Number of reactions</strong></td>\n",
       "                <td>2895</td>\n",
       "            </tr><tr>\n",
       "                <td><strong>Number of groups</strong></td>\n",
       "                <td>0</td>\n",
       "            </tr><tr>\n",
       "                <td><strong>Objective expression</strong></td>\n",
       "                <td>1.0*BIOMASS_KT2440_Core2 - 1.0*BIOMASS_KT2440_Core2_reverse_22c67</td>\n",
       "            </tr><tr>\n",
       "                <td><strong>Compartments</strong></td>\n",
       "                <td>cytosol, extracellular space, periplasm</td>\n",
       "            </tr>\n",
       "          </table>"
      ],
      "text/plain": [
       "<Model iJN1463 at 0x7f56aea0d400>"
      ]
     },
     "execution_count": 31,
     "metadata": {},
     "output_type": "execute_result"
    }
   ],
   "source": [
    "ipp"
   ]
  },
  {
   "cell_type": "code",
   "execution_count": 32,
   "id": "5d51704d-9b9c-4ad2-998d-54b8f91e700b",
   "metadata": {},
   "outputs": [
    {
     "name": "stdout",
     "output_type": "stream",
     "text": [
      "1450\n"
     ]
    }
   ],
   "source": [
    "g_ipp = [g for g in ipp.genes]\n",
    "g_id_ipp = [g.id for g in g_ipp]\n",
    "print(len(g_ipp))"
   ]
  },
  {
   "cell_type": "code",
   "execution_count": 33,
   "id": "0b09aa2b-c2c0-4407-b41e-6ca9c43a99af",
   "metadata": {},
   "outputs": [
    {
     "name": "stdout",
     "output_type": "stream",
     "text": [
      "1462\n"
     ]
    }
   ],
   "source": [
    "g_base = [g for g in base.genes]\n",
    "g_id_base = [g.id for g in g_base]\n",
    "\n",
    "print(len(g_base))"
   ]
  },
  {
   "cell_type": "code",
   "execution_count": 34,
   "id": "e4aa6e64-1341-41f5-a8a9-417305e33ae0",
   "metadata": {},
   "outputs": [
    {
     "data": {
      "text/plain": [
       "'PP_s0001'"
      ]
     },
     "execution_count": 34,
     "metadata": {},
     "output_type": "execute_result"
    }
   ],
   "source": [
    "g_ipp[0].id"
   ]
  },
  {
   "cell_type": "code",
   "execution_count": 35,
   "id": "3dc9f2cf-35ab-4a23-90dc-d6104aebae48",
   "metadata": {},
   "outputs": [
    {
     "data": {
      "text/plain": [
       "['PP_1389', 'HMGS', 'HMGR', 'MK', 'PMD', 'AphA']"
      ]
     },
     "execution_count": 35,
     "metadata": {},
     "output_type": "execute_result"
    }
   ],
   "source": [
    "new_genes = [g for g in g_id_ipp if g not in g_id_base]\n",
    "new_genes"
   ]
  },
  {
   "cell_type": "code",
   "execution_count": 36,
   "id": "816156a7-55f0-49d8-9e06-bc0483bbccb6",
   "metadata": {
    "tags": []
   },
   "outputs": [
    {
     "data": {
      "text/plain": [
       "[' R  Mevalonate C6H11O4',\n",
       " ' R  5 Phosphomevalonate C6H10O7P',\n",
       " ' R  5 Diphosphomevalonate C6H10O10P2',\n",
       " 'Isopentenyl monophosphate',\n",
       " 'Isoprenol',\n",
       " 'Isoprenol',\n",
       " 'Isoprenol']"
      ]
     },
     "execution_count": 36,
     "metadata": {},
     "output_type": "execute_result"
    }
   ],
   "source": [
    "met_ipp_name = [m.name for m in ipp.metabolites]\n",
    "met_base_name = [m.name for m in base.metabolites]\n",
    "\n",
    "new_metabolites = [m for m in met_ipp_name if m not in met_base_name]\n",
    "new_metabolites"
   ]
  },
  {
   "cell_type": "code",
   "execution_count": 37,
   "id": "cfead55b-685f-451a-aee7-f2745b0a5535",
   "metadata": {},
   "outputs": [
    {
     "data": {
      "text/plain": [
       "['S-Acetyldihydrolipoamide', 'S Succinyldihydrolipoamide C12H20NO4S2']"
      ]
     },
     "execution_count": 37,
     "metadata": {},
     "output_type": "execute_result"
    }
   ],
   "source": [
    "old_metabolites = [m for m in met_base_name if m not in met_ipp_name]\n",
    "old_metabolites"
   ]
  },
  {
   "cell_type": "code",
   "execution_count": 38,
   "id": "675d066c-1313-40f2-8bd1-f02ad21356e0",
   "metadata": {},
   "outputs": [
    {
     "data": {
      "text/plain": [
       "['HMGCOAS',\n",
       " 'HMGCOAR',\n",
       " 'MEVK1',\n",
       " 'PMD',\n",
       " 'IPMPP',\n",
       " 'IPOHtrpp',\n",
       " 'IPOHtex',\n",
       " 'EX_isoprenol_e']"
      ]
     },
     "execution_count": 38,
     "metadata": {},
     "output_type": "execute_result"
    }
   ],
   "source": [
    "rxn_ipp_name = [r.id for r in ipp.reactions]\n",
    "rxn_base_name = [r.id for r in base.reactions]\n",
    "\n",
    "new_rxns = [r for r in rxn_ipp_name if r not in rxn_base_name]\n",
    "new_rxns"
   ]
  },
  {
   "cell_type": "code",
   "execution_count": 39,
   "id": "783e455b-283e-4c01-882c-6654a6f3e048",
   "metadata": {},
   "outputs": [
    {
     "data": {
      "text/plain": [
       "[<Reaction HMGCOAS at 0x7f56aa893ee0>,\n",
       " <Reaction HMGCOAR at 0x7f56aa893c70>,\n",
       " <Reaction MEVK1 at 0x7f56aa893f10>,\n",
       " <Reaction PMD at 0x7f56aa8a66d0>,\n",
       " <Reaction IPMPP at 0x7f56aa8a6880>,\n",
       " <Reaction IPOHtrpp at 0x7f56aa8a6b80>,\n",
       " <Reaction IPOHtex at 0x7f56aa8a6e50>,\n",
       " <Reaction EX_isoprenol_e at 0x7f56aa8a6d60>]"
      ]
     },
     "execution_count": 39,
     "metadata": {},
     "output_type": "execute_result"
    }
   ],
   "source": [
    "new_rxn_obj = [ipp.reactions.get_by_id(r_id) for r_id in new_rxns]\n",
    "new_rxn_obj"
   ]
  },
  {
   "cell_type": "code",
   "execution_count": 40,
   "id": "e25e3f8f-6764-4470-b9fe-1ff3f7b5b6de",
   "metadata": {},
   "outputs": [
    {
     "data": {
      "text/plain": [
       "frozenset({<Gene HMGS at 0x7f56ac2552b0>})"
      ]
     },
     "execution_count": 40,
     "metadata": {},
     "output_type": "execute_result"
    }
   ],
   "source": [
    "new_rxn_obj[0].genes"
   ]
  },
  {
   "cell_type": "code",
   "execution_count": 41,
   "id": "0e4fe51f-7d49-4877-a8e3-522810987887",
   "metadata": {},
   "outputs": [
    {
     "data": {
      "text/plain": [
       "[[<Gene HMGS at 0x7f56ac2552b0>],\n",
       " [<Gene HMGR at 0x7f56ac2552e0>],\n",
       " [<Gene MK at 0x7f56ac255310>],\n",
       " [<Gene PMD at 0x7f56ac255340>],\n",
       " [<Gene AphA at 0x7f56ac255370>],\n",
       " [],\n",
       " [],\n",
       " []]"
      ]
     },
     "execution_count": 41,
     "metadata": {},
     "output_type": "execute_result"
    }
   ],
   "source": [
    "new_rxn_genes = [list(rxn.genes) for rxn in new_rxn_obj]\n",
    "new_rxn_genes"
   ]
  },
  {
   "cell_type": "code",
   "execution_count": 42,
   "id": "571c1f0d-935a-4f86-95b7-5c990b295140",
   "metadata": {},
   "outputs": [
    {
     "data": {
      "text/html": [
       "\n",
       "        <table>\n",
       "            <tr>\n",
       "                <td><strong>Gene identifier</strong></td><td>HMGS</td>\n",
       "            </tr><tr>\n",
       "                <td><strong>Name</strong></td><td></td>\n",
       "            </tr><tr>\n",
       "                <td><strong>Memory address</strong></td>\n",
       "                <td>0x7f56ac2552b0</td>\n",
       "            </tr><tr>\n",
       "                <td><strong>Functional</strong></td><td>True</td>\n",
       "            </tr><tr>\n",
       "                <td><strong>In 1 reaction(s)</strong></td><td>\n",
       "                    HMGCOAS\n",
       "                    </td>\n",
       "            </tr>\n",
       "        </table>"
      ],
      "text/plain": [
       "<Gene HMGS at 0x7f56ac2552b0>"
      ]
     },
     "execution_count": 42,
     "metadata": {},
     "output_type": "execute_result"
    }
   ],
   "source": [
    "ipp.genes.get_by_id('HMGS')"
   ]
  },
  {
   "cell_type": "code",
   "execution_count": null,
   "id": "9421079d-c5de-49ea-805a-ae84918d5822",
   "metadata": {},
   "outputs": [],
   "source": []
  }
 ],
 "metadata": {
  "kernelspec": {
   "display_name": "rhodo_venv",
   "language": "python",
   "name": "rhodo_venv"
  },
  "language_info": {
   "codemirror_mode": {
    "name": "ipython",
    "version": 3
   },
   "file_extension": ".py",
   "mimetype": "text/x-python",
   "name": "python",
   "nbconvert_exporter": "python",
   "pygments_lexer": "ipython3",
   "version": "3.9.2"
  }
 },
 "nbformat": 4,
 "nbformat_minor": 5
}
