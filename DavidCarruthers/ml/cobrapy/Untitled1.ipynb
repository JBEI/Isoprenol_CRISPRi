{
 "cells": [
  {
   "cell_type": "markdown",
   "id": "fb25f37b-6f94-4230-ab97-89cab66b13de",
   "metadata": {},
   "source": [
    "# FVA"
   ]
  },
  {
   "cell_type": "code",
   "execution_count": null,
   "id": "421f17f3-e019-4d50-975d-da8de52dc4c6",
   "metadata": {},
   "outputs": [],
   "source": []
  }
 ],
 "metadata": {
  "kernelspec": {
   "display_name": "Python 3 (ipykernel)",
   "language": "python",
   "name": "python3"
  },
  "language_info": {
   "codemirror_mode": {
    "name": "ipython",
    "version": 3
   },
   "file_extension": ".py",
   "mimetype": "text/x-python",
   "name": "python",
   "nbconvert_exporter": "python",
   "pygments_lexer": "ipython3",
   "version": "3.11.10"
  }
 },
 "nbformat": 4,
 "nbformat_minor": 5
}
