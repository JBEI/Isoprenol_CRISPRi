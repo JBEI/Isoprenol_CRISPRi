{
 "cells": [
  {
   "cell_type": "markdown",
   "id": "7a699642-4768-4cb1-a3a4-5bf8a8888691",
   "metadata": {},
   "source": [
    "**Testing the uniprot API**\n",
    "To do CRISPRi experiments we have to associate a gene target (via accession number) with a proteomics measurement (via uniprot ID). The goal is to create a dictionary for conversion between them.\n",
    "\n",
    "To do so, we will use the uniprot API to download all data for a particular organism.\n",
    "\n",
    "This workbook tests out some functionality.\n",
    "\n",
    "Starting from: https://www.uniprot.org/help/api_queries\n",
    "\n",
    "Generated ppURL by searching for PP KT2240 on uniprot advanced search, then filtering for reviewed entries, then selecting download."
   ]
  },
  {
   "cell_type": "code",
   "execution_count": 40,
   "id": "43ad2cb5-a8c6-4ba1-8cf4-94e7fa765234",
   "metadata": {},
   "outputs": [],
   "source": [
    "import requests\n",
    "import re\n",
    "import io\n",
    "import pandas as pd\n",
    "import os"
   ]
  },
  {
   "cell_type": "code",
   "execution_count": 11,
   "id": "f01a2591-6f67-410b-ba7d-4c63a4ebe0b8",
   "metadata": {},
   "outputs": [],
   "source": [
    "#Get all PP (KT2240 strain) proteins that have been reviewed. \n",
    "ppUrl = 'https://rest.uniprot.org/uniprotkb/stream?fields=accession%2Cid%2Cgene_names&format=tsv&query=%28%28organism_id%3A160488%29%29%20AND%20%28reviewed%3Atrue%29'\n",
    "r = requests.get(ppUrl).text\n",
    "df = pd.read_csv(io.StringIO(r),sep='\\t')\n",
    "df"
   ]
  },
  {
   "cell_type": "code",
   "execution_count": 11,
   "id": "9f9aab80-ba92-44bb-9072-2e4f14ad5d8f",
   "metadata": {},
   "outputs": [
    {
     "data": {
      "text/html": [
       "<div>\n",
       "<style scoped>\n",
       "    .dataframe tbody tr th:only-of-type {\n",
       "        vertical-align: middle;\n",
       "    }\n",
       "\n",
       "    .dataframe tbody tr th {\n",
       "        vertical-align: top;\n",
       "    }\n",
       "\n",
       "    .dataframe thead th {\n",
       "        text-align: right;\n",
       "    }\n",
       "</style>\n",
       "<table border=\"1\" class=\"dataframe\">\n",
       "  <thead>\n",
       "    <tr style=\"text-align: right;\">\n",
       "      <th></th>\n",
       "      <th>Entry</th>\n",
       "      <th>Entry Name</th>\n",
       "      <th>Gene Names</th>\n",
       "    </tr>\n",
       "  </thead>\n",
       "  <tbody>\n",
       "    <tr>\n",
       "      <th>0</th>\n",
       "      <td>Q88E10</td>\n",
       "      <td>MCPS_PSEPK</td>\n",
       "      <td>mcpS PP_4658</td>\n",
       "    </tr>\n",
       "    <tr>\n",
       "      <th>1</th>\n",
       "      <td>Q88E47</td>\n",
       "      <td>HGD_PSEPK</td>\n",
       "      <td>hmgA PP_4621</td>\n",
       "    </tr>\n",
       "    <tr>\n",
       "      <th>2</th>\n",
       "      <td>Q88FF8</td>\n",
       "      <td>CHRR_PSEPK</td>\n",
       "      <td>chrR PP_4138</td>\n",
       "    </tr>\n",
       "    <tr>\n",
       "      <th>3</th>\n",
       "      <td>Q88FY2</td>\n",
       "      <td>6HN3M_PSEPK</td>\n",
       "      <td>nicC PP_3944</td>\n",
       "    </tr>\n",
       "    <tr>\n",
       "      <th>4</th>\n",
       "      <td>Q88GJ9</td>\n",
       "      <td>BSR_PSEPK</td>\n",
       "      <td>alr PP_3722</td>\n",
       "    </tr>\n",
       "    <tr>\n",
       "      <th>...</th>\n",
       "      <td>...</td>\n",
       "      <td>...</td>\n",
       "      <td>...</td>\n",
       "    </tr>\n",
       "    <tr>\n",
       "      <th>724</th>\n",
       "      <td>Q88Q16</td>\n",
       "      <td>Y682_PSEPK</td>\n",
       "      <td>PP_0682</td>\n",
       "    </tr>\n",
       "    <tr>\n",
       "      <th>725</th>\n",
       "      <td>Q88QJ9</td>\n",
       "      <td>FDHE_PSEPK</td>\n",
       "      <td>fdhE PP_0492</td>\n",
       "    </tr>\n",
       "    <tr>\n",
       "      <th>726</th>\n",
       "      <td>Q88QT7</td>\n",
       "      <td>APAG_PSEPK</td>\n",
       "      <td>apaG PP_0400</td>\n",
       "    </tr>\n",
       "    <tr>\n",
       "      <th>727</th>\n",
       "      <td>Q88R49</td>\n",
       "      <td>FETP_PSEPK</td>\n",
       "      <td>PP_0285</td>\n",
       "    </tr>\n",
       "    <tr>\n",
       "      <th>728</th>\n",
       "      <td>Q88RJ4</td>\n",
       "      <td>Y135_PSEPK</td>\n",
       "      <td>PP_0135</td>\n",
       "    </tr>\n",
       "  </tbody>\n",
       "</table>\n",
       "<p>729 rows × 3 columns</p>\n",
       "</div>"
      ],
      "text/plain": [
       "      Entry   Entry Name    Gene Names\n",
       "0    Q88E10   MCPS_PSEPK  mcpS PP_4658\n",
       "1    Q88E47    HGD_PSEPK  hmgA PP_4621\n",
       "2    Q88FF8   CHRR_PSEPK  chrR PP_4138\n",
       "3    Q88FY2  6HN3M_PSEPK  nicC PP_3944\n",
       "4    Q88GJ9    BSR_PSEPK   alr PP_3722\n",
       "..      ...          ...           ...\n",
       "724  Q88Q16   Y682_PSEPK       PP_0682\n",
       "725  Q88QJ9   FDHE_PSEPK  fdhE PP_0492\n",
       "726  Q88QT7   APAG_PSEPK  apaG PP_0400\n",
       "727  Q88R49   FETP_PSEPK       PP_0285\n",
       "728  Q88RJ4   Y135_PSEPK       PP_0135\n",
       "\n",
       "[729 rows x 3 columns]"
      ]
     },
     "execution_count": 11,
     "metadata": {},
     "output_type": "execute_result"
    }
   ],
   "source": []
  },
  {
   "cell_type": "markdown",
   "id": "d0fb4d5d-46c3-46b2-bc15-9800a5ad544e",
   "metadata": {},
   "source": [
    "Now that we have data, see how to filter the \"gene name\" column"
   ]
  },
  {
   "cell_type": "code",
   "execution_count": 20,
   "id": "5b812505-aed2-4120-b562-c2027dfe686c",
   "metadata": {},
   "outputs": [
    {
     "name": "stdout",
     "output_type": "stream",
     "text": [
      "Do all gene names contain PP? True\n"
     ]
    }
   ],
   "source": [
    "df['PP'] = None\n",
    "df\n",
    "findPP = lambda x: 1 if x.find('PP') >=0 else 0\n",
    "df['PP']=df['Gene Names'].apply(findPP)\n",
    "print(f'Do all gene names contain PP? {df.PP.all()}')\n",
    "#filter by whether they contain PP\n",
    "df = df[df.PP==True]"
   ]
  },
  {
   "cell_type": "markdown",
   "id": "45bcc6cc-5c14-448d-a45d-06eca3d1b5f3",
   "metadata": {},
   "source": [
    "filter out the extra text around the gene name"
   ]
  },
  {
   "cell_type": "code",
   "execution_count": 43,
   "id": "2a823f30-09a0-44c1-9d04-f522fb6de3d6",
   "metadata": {},
   "outputs": [
    {
     "name": "stdout",
     "output_type": "stream",
     "text": [
      "    Entry trimmed_name\n",
      "0  Q88E10      PP_4658\n",
      "1  Q88E47      PP_4621\n",
      "2  Q88FF8      PP_4138\n",
      "3  Q88FY2      PP_3944\n",
      "4  Q88GJ9      PP_3722\n"
     ]
    }
   ],
   "source": [
    "filterPP = lambda x: x[x.find('PP'):]\n",
    "df['trimmed_name'] = None\n",
    "df['trimmed_name'] = df['Gene Names'].apply(filterPP)\n",
    "df_final = df.drop(columns = ['Entry Name', 'Gene Names', 'PP'])\n",
    "print(df_final.head())\n",
    "pkl_name = os.path.join('data','uniprot_PPutida_reviewed.pkl')\n",
    "#pkl_name = os.filesep() + 'data' +os.filesep() + 'uniprot_PPutida_reviewed.pkl'\n",
    "\n",
    "pkl_name\n",
    "df_final.to_pickle(pkl_name)"
   ]
  }
 ],
 "metadata": {
  "kernelspec": {
   "display_name": "ART Prod v.master.5e5f34c",
   "language": "python",
   "name": "python3"
  },
  "language_info": {
   "codemirror_mode": {
    "name": "ipython",
    "version": 3
   },
   "file_extension": ".py",
   "mimetype": "text/x-python",
   "name": "python",
   "nbconvert_exporter": "python",
   "pygments_lexer": "ipython3",
   "version": "3.10.6"
  }
 },
 "nbformat": 4,
 "nbformat_minor": 5
}
