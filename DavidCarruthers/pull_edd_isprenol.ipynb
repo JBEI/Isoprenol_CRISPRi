{
 "cells": [
  {
   "cell_type": "markdown",
   "id": "7e76dd71-db80-4343-9cfe-da42be3faf7b",
   "metadata": {},
   "source": [
    "# Import, filter, and save EDD data\n",
    "EDD has a large amount of unnecessary data (biolecter and proteomics). Download studies, filter out everything but isoprenol, and save locally to save time."
   ]
  },
  {
   "cell_type": "code",
   "execution_count": 1,
   "id": "de4781c8-d192-47f3-a7d9-00c227c9f572",
   "metadata": {
    "tags": []
   },
   "outputs": [
    {
     "name": "stderr",
     "output_type": "stream",
     "text": [
      "/opt/conda/lib/python3.10/site-packages/tqdm/auto.py:22: TqdmWarning: IProgress not found. Please update jupyter and ipywidgets. See https://ipywidgets.readthedocs.io/en/stable/user_install.html\n",
      "  from .autonotebook import tqdm as notebook_tqdm\n"
     ]
    }
   ],
   "source": [
    "import edd_utils as eddu\n",
    "import pandas as pd"
   ]
  },
  {
   "cell_type": "markdown",
   "id": "e91d8da3-8a4c-47a7-b33d-8523add5b480",
   "metadata": {},
   "source": [
    "## Download the data"
   ]
  },
  {
   "cell_type": "markdown",
   "id": "ef142d6d-ff46-4148-acf3-df8982aab75b",
   "metadata": {},
   "source": [
    "These are the [Experiment Data Depot](https://pubs.acs.org/doi/full/10.1021/acssynbio.7b00204) server, the corresponding username and the slug (address) for the study to be downloaded:"
   ]
  },
  {
   "cell_type": "code",
   "execution_count": 2,
   "id": "73c76eb1-b1d2-4be6-ab08-6a4f63f65dfe",
   "metadata": {},
   "outputs": [],
   "source": [
    "study_slug_dbtl0 = 'corrected-crispri-automation-for-enhanced-isopreno'\n",
    "study_slug_dbtl1 = 'crispri-automation-for-enhanced-isoprenol-producti'\n",
    "edd_server   = 'edd.jbei.org'\n",
    "username     = 'pckinnunen'"
   ]
  },
  {
   "cell_type": "markdown",
   "id": "77d1a8f2-961d-4f85-ad12-81ddf4804d79",
   "metadata": {},
   "source": [
    "We try connecting to the server with our login and password:"
   ]
  },
  {
   "cell_type": "code",
   "execution_count": 3,
   "id": "eb384f33-ec15-4391-b51d-b3e9370f4020",
   "metadata": {},
   "outputs": [
    {
     "name": "stdin",
     "output_type": "stream",
     "text": [
      "Password for pckinnunen:  ········\n"
     ]
    },
    {
     "name": "stdout",
     "output_type": "stream",
     "text": [
      "OK! Connection to EDD successful. We will try to load data from EDD...\n"
     ]
    }
   ],
   "source": [
    "try:\n",
    "    session = eddu.login(edd_server=edd_server, user=username)\n",
    "except:\n",
    "    print('ERROR! Connection to EDD failed. We will try to load data from disk...')\n",
    "else:\n",
    "    print('OK! Connection to EDD successful. We will try to load data from EDD...')"
   ]
  },
  {
   "cell_type": "markdown",
   "id": "3717da8b-3f56-4197-b182-11590da0d6e3",
   "metadata": {},
   "source": [
    "And then we try to export the study from the EDD instance:"
   ]
  },
  {
   "cell_type": "code",
   "execution_count": 4,
   "id": "cf298952-9f45-4aeb-936c-b25bb7b8f0b7",
   "metadata": {},
   "outputs": [
    {
     "name": "stderr",
     "output_type": "stream",
     "text": [
      "100%|██████████| 1166748/1166748 [01:01<00:00, 18998.94it/s]\n"
     ]
    }
   ],
   "source": [
    "try:\n",
    "    df_dbtl0 = eddu.export_study(session, study_slug_dbtl0, edd_server=edd_server)\n",
    "except (NameError, AttributeError, KeyError):\n",
    "    print(f'ERROR! Not able to export DBTL0 study.')"
   ]
  },
  {
   "cell_type": "code",
   "execution_count": 5,
   "id": "fb8c3ffc-a938-4fd6-b92a-c7abee28464a",
   "metadata": {},
   "outputs": [
    {
     "name": "stderr",
     "output_type": "stream",
     "text": [
      "100%|██████████| 55584/55584 [00:03<00:00, 16442.04it/s]\n"
     ]
    }
   ],
   "source": [
    "try:\n",
    "    df_dbtl1 = eddu.export_study(session, study_slug_dbtl1, edd_server = edd_server)\n",
    "except (NameError, AttributeError, KeyError):\n",
    "    print(f'ERROR! Not able to export DBTL1 study.')    "
   ]
  },
  {
   "cell_type": "markdown",
   "id": "5f82f2f9-470b-4757-9a98-1d7e3174b7fc",
   "metadata": {},
   "source": [
    "There are lots of data here (particularly the biolector data takes a lot of space):"
   ]
  },
  {
   "cell_type": "markdown",
   "id": "f3487c2c-deee-42fc-b063-9c8518f38302",
   "metadata": {
    "tags": []
   },
   "source": [
    "Let's have a look at the different protocols (types of data) that are includeed in the study:"
   ]
  },
  {
   "cell_type": "code",
   "execution_count": 6,
   "id": "26555bbc-d117-440d-b4f8-92766e3da9c6",
   "metadata": {
    "tags": []
   },
   "outputs": [
    {
     "data": {
      "text/plain": [
       "array(['Global Proteomics', 'Biolector', 'GC-FID'], dtype=object)"
      ]
     },
     "execution_count": 6,
     "metadata": {},
     "output_type": "execute_result"
    }
   ],
   "source": [
    "df_dbtl0['Protocol'].unique()"
   ]
  },
  {
   "cell_type": "code",
   "execution_count": 7,
   "id": "25a43cf5-5b91-4215-b6cf-7001bfd3c042",
   "metadata": {},
   "outputs": [
    {
     "data": {
      "text/plain": [
       "array(['GC-FID', 'Biolector'], dtype=object)"
      ]
     },
     "execution_count": 7,
     "metadata": {},
     "output_type": "execute_result"
    }
   ],
   "source": [
    "df_dbtl1['Protocol'].unique()"
   ]
  },
  {
   "cell_type": "code",
   "execution_count": 8,
   "id": "c882480f-cafa-4922-8ff7-1d43fe493d69",
   "metadata": {},
   "outputs": [],
   "source": [
    "df_dbtl0_isoprenol = df_dbtl0[df_dbtl0['Protocol'] == 'GC-FID']\n",
    "df_dbtl1_isoprenol = df_dbtl1[df_dbtl1['Protocol'] == 'GC-FID']"
   ]
  },
  {
   "cell_type": "code",
   "execution_count": 9,
   "id": "bd2d2c2a-47c3-4f35-875e-1ccf94d7c0f1",
   "metadata": {},
   "outputs": [],
   "source": [
    "df_dbtl0_isoprenol.to_pickle('./isoprenol_data/dbtl0_isoprenol.pkl')\n",
    "df_dbtl1_isoprenol.to_pickle('./isoprenol_data/dbtl1_isoprenol.pkl')"
   ]
  }
 ],
 "metadata": {
  "kernelspec": {
   "display_name": "ART (master.7398457)",
   "language": "python",
   "name": "python3"
  },
  "language_info": {
   "codemirror_mode": {
    "name": "ipython",
    "version": 3
   },
   "file_extension": ".py",
   "mimetype": "text/x-python",
   "name": "python",
   "nbconvert_exporter": "python",
   "pygments_lexer": "ipython3",
   "version": "3.10.6"
  }
 },
 "nbformat": 4,
 "nbformat_minor": 5
}
