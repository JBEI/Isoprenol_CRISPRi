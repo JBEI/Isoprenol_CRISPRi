{
 "cells": [
  {
   "cell_type": "markdown",
   "id": "a5b59398-a0ab-465c-9d45-d1f61e6a9a2d",
   "metadata": {},
   "source": [
    "## Visualize recommendations:\n",
    "Make violin plots of the most common recommendations and all of the potential recommendations.\n"
   ]
  },
  {
   "cell_type": "code",
   "execution_count": null,
   "id": "5b8362b2-eb96-4208-91b8-eabf25b6af66",
   "metadata": {},
   "outputs": [],
   "source": [
    "sorted_filtered_targets = df_targets2.loc[:, ['Isoprenol mean', 'Target']].dropna().sort_values('Isoprenol mean', ascending = False)\n",
    "high_producers = list(sorted_filtered_targets.loc[:, 'Target'].values[:20])\n",
    "#Alter the save_name so that we don't overwrite the other image\n",
    "save_name_highprod = f\"{user_params['output_dir']}/crispri_high_producers.png\"\n",
    "plot_crispr_library(df_norm, df_targets_norm, high_producers, save = True, violin_field = 'norm_value', save_name = save_name_highprod)\n"
   ]
  },
  {
   "cell_type": "markdown",
   "id": "1ba49fca-bff3-4d57-b9d8-1943b0172a24",
   "metadata": {},
   "source": [
    "### Visualize some of the highest producers that got filtered out\n",
    "\n",
    "Look at targets in df_filtering and NOT in df_selection with high titer"
   ]
  },
  {
   "cell_type": "code",
   "execution_count": null,
   "id": "6d46524f-c03b-4349-a947-c06ec8b843bc",
   "metadata": {},
   "outputs": [],
   "source": []
  },
  {
   "cell_type": "code",
   "execution_count": null,
   "id": "8bda8d29-ef02-4daf-9b1c-bfae74332475",
   "metadata": {},
   "outputs": [],
   "source": [
    "targets_not_selected = [ii for ii in df_filtering['Target'].values if ii not in df_selection['Target'].values]\n",
    "print(f'length of all targets: {len(df_filtering[\"Target\"].values)}\\nlength of selected targets: {len(df_selection[\"Target\"].values)}\\nlength of targets not selected: {len(targets_not_selected)}')"
   ]
  },
  {
   "cell_type": "code",
   "execution_count": null,
   "id": "d443b789-9336-4f18-b1e8-1f862906f481",
   "metadata": {},
   "outputs": [],
   "source": [
    "targets_not_selected\n",
    "df_not_selected = df_filtering.loc[df_filtering['Target'].isin(targets_not_selected), :]\n",
    "df_not_selected.head()"
   ]
  },
  {
   "cell_type": "markdown",
   "id": "722ca5d7-6a62-4321-ad86-0c37e735410f",
   "metadata": {},
   "source": [
    "Sort targets by titer"
   ]
  },
  {
   "cell_type": "code",
   "execution_count": null,
   "id": "9b488899-6ed9-4e0d-bf04-5be25d7c5874",
   "metadata": {},
   "outputs": [],
   "source": [
    "df_not_selected = df_not_selected.sort_values('Isoprenol mean', ascending=False)\n",
    "df_not_selected.head()"
   ]
  },
  {
   "cell_type": "code",
   "execution_count": null,
   "id": "47f96b8d-478a-4903-a32a-79a040e16dfd",
   "metadata": {},
   "outputs": [],
   "source": [
    "df_norm[df_norm['Target'] == 'PP_0814']"
   ]
  },
  {
   "cell_type": "code",
   "execution_count": null,
   "id": "1fca7528-73ea-41e7-b510-7695ead71230",
   "metadata": {},
   "outputs": [],
   "source": [
    "df_norm[(df_norm['Control']) & (df_norm['Formal Type'] == 'PP_0813')]\n",
    "\n",
    "df2[(df2['Control']) & (df2['Formal Type'] == 'PP_0813')]\n"
   ]
  },
  {
   "cell_type": "markdown",
   "id": "28629fd0-e51f-4299-89b3-22578a8498b9",
   "metadata": {},
   "source": [
    "Want to visualize the targets that are dropped at various phases of the filtering:\n",
    "\n",
    "- Missing controls\n",
    "- Filtered out due to CRISPRi performance\n"
   ]
  },
  {
   "cell_type": "code",
   "execution_count": null,
   "id": "b8658ab1-b115-4c86-8c1c-6315f31d9ed3",
   "metadata": {},
   "outputs": [],
   "source": [
    "print(f'There are {len(ProtMapping_df[\"CRISPRi target gene\"].dropna().unique())} unique targets in protein mapping')"
   ]
  },
  {
   "cell_type": "code",
   "execution_count": null,
   "id": "dc66d49b-e4b9-4e91-aac2-4f65087a4941",
   "metadata": {},
   "outputs": [],
   "source": [
    "print(f'There are {len(df2.Target.dropna().unique())} unique targets in df2')"
   ]
  },
  {
   "cell_type": "code",
   "execution_count": null,
   "id": "f21d644d-4cec-45ef-b9e4-3c3a5c80e067",
   "metadata": {},
   "outputs": [],
   "source": [
    "print(f'There are {len(df_targets_norm.Target.dropna().unique())} unique targets in df_targets_norm')"
   ]
  },
  {
   "cell_type": "code",
   "execution_count": null,
   "id": "b4ca88ce-c253-44ca-9327-667e9f063d7b",
   "metadata": {},
   "outputs": [],
   "source": [
    "ProtMapping_df['CRISPRi target gene'].sort_values().dropna().unique()"
   ]
  },
  {
   "cell_type": "code",
   "execution_count": null,
   "id": "6628cfc8-a813-4660-8c28-73c03d6846a3",
   "metadata": {},
   "outputs": [],
   "source": [
    "print(df2.Target.sort_values().dropna().unique())"
   ]
  },
  {
   "cell_type": "code",
   "execution_count": null,
   "id": "df9617f2-56d6-43c3-9561-604600705cb8",
   "metadata": {},
   "outputs": [],
   "source": [
    "df2_targets_list = df2.Target.sort_values().dropna().unique()\n",
    "pmdf_targets_list = ProtMapping_df['CRISPRi target gene'].sort_values().dropna().unique()\n",
    "print(f'len(df2 targets) = {len(df2_targets_list)} len(pmdf_targets) = {len(pmdf_targets_list)}')\n",
    "\n",
    "print('Not in prot map df - should just be \"control\"')\n",
    "for df2t in df2_targets_list:\n",
    "    print(df2t) if df2t not in pmdf_targets_list else None\n",
    "\n",
    "print('Not in df2')\n",
    "for pmdft in pmdf_targets_list:\n",
    "    print(pmdft) if pmdft not in df2_targets_list else None\n"
   ]
  },
  {
   "cell_type": "markdown",
   "id": "b42c24ea-b735-45ae-bd58-2cab89efceb7",
   "metadata": {},
   "source": [
    "All proteins I want to measure are contained in the protmapping_df. I remove a subset of protein measurements in each filter."
   ]
  },
  {
   "cell_type": "code",
   "execution_count": null,
   "id": "06c4685b-ff0e-4160-8974-74190355e4ba",
   "metadata": {},
   "outputs": [],
   "source": [
    "all_prot_targets = pmdf_targets_list"
   ]
  },
  {
   "cell_type": "code",
   "execution_count": null,
   "id": "bd21ab3c-cf8b-4191-b0e2-c862a8381780",
   "metadata": {},
   "outputs": [],
   "source": [
    "df2_targets = df2['Formal Type'].sort_values().dropna().unique()"
   ]
  },
  {
   "cell_type": "code",
   "execution_count": null,
   "id": "b6f34806-e5ff-4fc7-a323-d1830f65eeab",
   "metadata": {},
   "outputs": [],
   "source": [
    "print(f'There are: {len(all_prot_targets)} protein targets in excel sheet and: {len(df2_targets)} unique measurements')"
   ]
  },
  {
   "cell_type": "code",
   "execution_count": null,
   "id": "943e8ad1-e626-4f7a-9645-a91fcc0d7118",
   "metadata": {},
   "outputs": [],
   "source": [
    "df_isoprenol"
   ]
  },
  {
   "cell_type": "code",
   "execution_count": null,
   "id": "3c8c6416-0a29-4673-af9e-a848bc08afdc",
   "metadata": {},
   "outputs": [],
   "source": [
    "df_isoprenol_check = df_isoprenol.copy()\n",
    "df_isoprenol_check['check'] = np.nan\n",
    "check_if_norm = lambda x: 1 if x in df_targets_norm.columns else 0\n",
    "df_isoprenol_check['check']=df_isoprenol_check['Target'].apply(check_if_norm)\n",
    "df_isoprenol_check['check'].values\n"
   ]
  },
  {
   "cell_type": "code",
   "execution_count": null,
   "id": "7300cf85-6991-41dc-b089-fa0f4c514058",
   "metadata": {},
   "outputs": [],
   "source": [
    "sns.stripplot(data=df_isoprenol_check, y = 'Isoprenol', x = 'check')"
   ]
  },
  {
   "cell_type": "markdown",
   "id": "b8ccdbef-04b0-4625-bfee-77a7d6ca2a81",
   "metadata": {},
   "source": [
    "From V1"
   ]
  }
 ],
 "metadata": {
  "kernelspec": {
   "display_name": "ART Prod v.master.5e5f34c",
   "language": "python",
   "name": "python3"
  },
  "language_info": {
   "codemirror_mode": {
    "name": "ipython",
    "version": 3
   },
   "file_extension": ".py",
   "mimetype": "text/x-python",
   "name": "python",
   "nbconvert_exporter": "python",
   "pygments_lexer": "ipython3",
   "version": "3.10.6"
  }
 },
 "nbformat": 4,
 "nbformat_minor": 5
}
