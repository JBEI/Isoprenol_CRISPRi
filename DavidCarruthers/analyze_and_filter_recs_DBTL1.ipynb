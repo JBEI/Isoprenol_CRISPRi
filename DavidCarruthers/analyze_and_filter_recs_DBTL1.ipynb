{
 "cells": [
  {
   "cell_type": "markdown",
   "id": "67b07d8c-a51d-4e10-8df3-9dff3ffa6d66",
   "metadata": {},
   "source": [
    "# Analyze and filter DBTL1 recommendations\n",
    "Filter the recommendations for DBTL1. `art_modeling_and_recommend_DBTL1` produced a dataframe consisting of every combination of 5 gRNAs, along with ART-predicted mean and std predictions for titer. Here, I'll filter and sort the recommendations based on a few criteria:\n",
    "- changing exploration vs exploitation - Different recommendations will look better or worse based on whether we want to priorities exploration or exploitation\n",
    "- Different requested numbers of 2-, 3-, 4-, and 5-gRNA recommendations - Experimental collaborators may want different numbers of each.\n",
    "- Different levels of variety in gRNA - It's possible that ART identified two gRNAs (A and B, for instance) that it considers optimal, and every high-ranking recommendation for 3-gRNA strains will look like A + B + X. In this case, we may want to filter out some of these recommendations."
   ]
  }
 ],
 "metadata": {
  "kernelspec": {
   "display_name": "Python 3 (ipykernel)",
   "language": "python",
   "name": "python3"
  },
  "language_info": {
   "codemirror_mode": {
    "name": "ipython",
    "version": 3
   },
   "file_extension": ".py",
   "mimetype": "text/x-python",
   "name": "python",
   "nbconvert_exporter": "python",
   "pygments_lexer": "ipython3",
   "version": "3.11.5"
  }
 },
 "nbformat": 4,
 "nbformat_minor": 5
}
