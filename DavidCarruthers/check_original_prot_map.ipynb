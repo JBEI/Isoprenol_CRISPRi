{
 "cells": [
  {
   "cell_type": "markdown",
   "id": "f9ddd495-7da0-4e30-8f60-d03a00bbe524",
   "metadata": {},
   "source": [
    "**Test uniprot data compared with given excel file**\n",
    "Steps:\n",
    "1) Create dictionary from excel file\n",
    "2) Create dictionary from uniprot api\n",
    "3) Put each key from excel file into api dictionary, check output matching\n",
    "\n"
   ]
  },
  {
   "cell_type": "code",
   "execution_count": 13,
   "id": "f621c035-f956-414f-956a-05cbf29e9f7d",
   "metadata": {},
   "outputs": [],
   "source": [
    "import pandas as pd\n",
    "import os"
   ]
  },
  {
   "cell_type": "code",
   "execution_count": 14,
   "id": "5c744815-ce94-4f76-bc6a-db27bd7b8abb",
   "metadata": {},
   "outputs": [
    {
     "name": "stdout",
     "output_type": "stream",
     "text": [
      "Uniprot API head\n",
      "    Entry trimmed_name\n",
      "0  Q88E10      PP_4658\n",
      "1  Q88E47      PP_4621\n",
      "2  Q88FF8      PP_4138\n",
      "3  Q88FY2      PP_3944\n",
      "4  Q88GJ9      PP_3722\n",
      "excel head\n",
      "  CRISPRi target gene UNIPROT ID\n",
      "0         PP_1607_NT2     Q88MG4\n",
      "1         PP_1607_NT3     Q88MG4\n",
      "2         PP_1607_NT4     Q88MG4\n",
      "3             PP_4549     Q88EB7\n",
      "4             PP_4550     Q88EB6\n"
     ]
    }
   ],
   "source": [
    "#Import and display dataframes\n",
    "api_path = os.path.join('data', 'uniprot_PPutida_reviewed.pkl')\n",
    "xl_path = os.path.join('data', 'Sample name, CRISPRi target gene, Uniprot ID.xlsx')\n",
    "df_api = pd.read_pickle(api_path)\n",
    "print('Uniprot API head')\n",
    "print(df_api.head())\n",
    "df_xl = pd.read_excel(xl_path)\n",
    "print('excel head')\n",
    "print(df_xl.head())\n",
    "\n"
   ]
  },
  {
   "cell_type": "markdown",
   "id": "96bc0ab7-6f68-4e93-8d65-87dfc16611cd",
   "metadata": {},
   "source": [
    "Check the entries in the uniprot dataframe to see how they're formatted\n"
   ]
  },
  {
   "cell_type": "code",
   "execution_count": 16,
   "id": "81cee0b0-f760-44ec-81c0-31aa0840dff2",
   "metadata": {},
   "outputs": [
    {
     "name": "stdout",
     "output_type": "stream",
     "text": [
      "For API dataframe:\n",
      "These are the lengths of strings in the \"entry\" column: [6]\n",
      "These are the lengths of strings in the \"trimmed_name\" column: [7]\n"
     ]
    }
   ],
   "source": [
    "print('For API dataframe:')\n",
    "print(f'These are the lengths of strings in the \"entry\" column: {df_api.Entry.apply(len).unique()}')\n",
    "print(f'These are the lengths of strings in the \"trimmed_name\" column: {df_api.trimmed_name.apply(len).unique()}')\n"
   ]
  },
  {
   "cell_type": "markdown",
   "id": "3e28700c-db76-49ca-a739-dda082ebf048",
   "metadata": {},
   "source": [
    "Edit the excel dataframe to match the API"
   ]
  },
  {
   "cell_type": "code",
   "execution_count": 17,
   "id": "534857e7-840b-4502-84b7-e6c5b8c04821",
   "metadata": {},
   "outputs": [
    {
     "name": "stdout",
     "output_type": "stream",
     "text": [
      "  CRISPRi target gene UNIPROT ID trimmed_name\n",
      "0         PP_1607_NT2     Q88MG4         None\n",
      "1         PP_1607_NT3     Q88MG4         None\n",
      "2         PP_1607_NT4     Q88MG4         None\n",
      "3             PP_4549     Q88EB7         None\n",
      "4             PP_4550     Q88EB6         None\n"
     ]
    },
    {
     "data": {
      "text/html": [
       "<div>\n",
       "<style scoped>\n",
       "    .dataframe tbody tr th:only-of-type {\n",
       "        vertical-align: middle;\n",
       "    }\n",
       "\n",
       "    .dataframe tbody tr th {\n",
       "        vertical-align: top;\n",
       "    }\n",
       "\n",
       "    .dataframe thead th {\n",
       "        text-align: right;\n",
       "    }\n",
       "</style>\n",
       "<table border=\"1\" class=\"dataframe\">\n",
       "  <thead>\n",
       "    <tr style=\"text-align: right;\">\n",
       "      <th></th>\n",
       "      <th>CRISPRi target gene</th>\n",
       "      <th>UNIPROT ID</th>\n",
       "      <th>trimmed_name</th>\n",
       "    </tr>\n",
       "  </thead>\n",
       "  <tbody>\n",
       "    <tr>\n",
       "      <th>0</th>\n",
       "      <td>PP_1607_NT2</td>\n",
       "      <td>Q88MG4</td>\n",
       "      <td>PP_1607</td>\n",
       "    </tr>\n",
       "    <tr>\n",
       "      <th>1</th>\n",
       "      <td>PP_1607_NT3</td>\n",
       "      <td>Q88MG4</td>\n",
       "      <td>PP_1607</td>\n",
       "    </tr>\n",
       "    <tr>\n",
       "      <th>2</th>\n",
       "      <td>PP_1607_NT4</td>\n",
       "      <td>Q88MG4</td>\n",
       "      <td>PP_1607</td>\n",
       "    </tr>\n",
       "    <tr>\n",
       "      <th>3</th>\n",
       "      <td>PP_4549</td>\n",
       "      <td>Q88EB7</td>\n",
       "      <td>PP_4549</td>\n",
       "    </tr>\n",
       "    <tr>\n",
       "      <th>4</th>\n",
       "      <td>PP_4550</td>\n",
       "      <td>Q88EB6</td>\n",
       "      <td>PP_4550</td>\n",
       "    </tr>\n",
       "  </tbody>\n",
       "</table>\n",
       "</div>"
      ],
      "text/plain": [
       "  CRISPRi target gene UNIPROT ID trimmed_name\n",
       "0         PP_1607_NT2     Q88MG4      PP_1607\n",
       "1         PP_1607_NT3     Q88MG4      PP_1607\n",
       "2         PP_1607_NT4     Q88MG4      PP_1607\n",
       "3             PP_4549     Q88EB7      PP_4549\n",
       "4             PP_4550     Q88EB6      PP_4550"
      ]
     },
     "execution_count": 17,
     "metadata": {},
     "output_type": "execute_result"
    }
   ],
   "source": [
    "df_xl['trimmed_name'] = None\n",
    "print(df_xl.head())\n",
    "trim_name = lambda x: x[x.find('PP'):(x.find('PP')+7)]\n",
    "df_xl['trimmed_name'] = df_xl['CRISPRi target gene'].apply(trim_name)\n",
    "df_xl.head()\n"
   ]
  },
  {
   "cell_type": "markdown",
   "id": "0adc4601-0066-4b0c-9e93-fb8347c41a3b",
   "metadata": {},
   "source": [
    "I now have dataframes comprising a large set of genes and UPIDs from uniprot API and a smaller set of genes and UPIDs from the provided excel notebook. In an ideal world:\n",
    "* Every gene-protein connection would be the same in each dataframe\n",
    "* Every gene and protein that are in the provided excel notebook would show up in the uniprot API query. \n",
    "\n",
    "In this world that probably won't happen, but lets check. Note: I think what I'm trying to do is basically some super basic SQL queries (unions of sets, etc), so probably easier ways to do it.\n",
    "\n",
    "Make a dictionary of each"
   ]
  },
  {
   "cell_type": "code",
   "execution_count": 19,
   "id": "17057922-9083-41c6-a261-b924a1812819",
   "metadata": {},
   "outputs": [
    {
     "name": "stdout",
     "output_type": "stream",
     "text": [
      "Q88EB7\n",
      "Q88E10\n"
     ]
    }
   ],
   "source": [
    "dict_xl = dict(zip(df_xl['trimmed_name'], df_xl['UNIPROT ID']))\n",
    "print(dict_xl['PP_4549'])\n",
    "dict_api = dict(zip(df_api['trimmed_name'], df_api['Entry']))\n",
    "print(dict_api['PP_4658'])\n"
   ]
  },
  {
   "cell_type": "markdown",
   "id": "8dc80802-e0e2-40a9-a440-51615ebe570b",
   "metadata": {},
   "source": [
    "Check membership for each set of dict keys in the other.\n"
   ]
  },
  {
   "cell_type": "code",
   "execution_count": 22,
   "id": "7b29ee9e-427a-46c4-90c2-5da994a84b96",
   "metadata": {},
   "outputs": [
    {
     "name": "stdout",
     "output_type": "stream",
     "text": [
      "There are 729 total api keys and 123 total xl keys\n",
      "there are 689 keys in API but not excel\n",
      "there are 83 keys in excel but not api\n"
     ]
    }
   ],
   "source": [
    "api_keys = list(dict_api.keys())\n",
    "xl_keys = list(dict_xl.keys()) \n",
    "\n",
    "print(f'There are {len(api_keys)} total api keys and {len(xl_keys)} total xl keys')\n",
    "\n",
    "in_api_not_xl = []\n",
    "for k in api_keys:\n",
    "    if k not in xl_keys:\n",
    "        #print(k)\n",
    "        in_api_not_xl.append(k)\n",
    "print(f'there are {len(in_api_not_xl)} keys in API but not excel')        \n",
    " \n",
    "in_xl_not_api = []\n",
    "for k in xl_keys:\n",
    "    if k not in api_keys:\n",
    "        #print(k)\n",
    "        in_xl_not_api.append(k)\n",
    "print(f'there are {len(in_xl_not_api)} keys in excel but not api')        \n",
    "        \n",
    "        \n"
   ]
  },
  {
   "cell_type": "code",
   "execution_count": null,
   "id": "d59ca2b9-b4e5-4cdd-b4f5-4b5d2355fdb1",
   "metadata": {},
   "outputs": [],
   "source": []
  }
 ],
 "metadata": {
  "kernelspec": {
   "display_name": "ART Prod v.master.5e5f34c",
   "language": "python",
   "name": "python3"
  },
  "language_info": {
   "codemirror_mode": {
    "name": "ipython",
    "version": 3
   },
   "file_extension": ".py",
   "mimetype": "text/x-python",
   "name": "python",
   "nbconvert_exporter": "python",
   "pygments_lexer": "ipython3",
   "version": "3.10.6"
  }
 },
 "nbformat": 4,
 "nbformat_minor": 5
}
