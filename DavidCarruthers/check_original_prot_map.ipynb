{
 "cells": [
  {
   "cell_type": "markdown",
   "id": "f9ddd495-7da0-4e30-8f60-d03a00bbe524",
   "metadata": {},
   "source": [
    "**Test uniprot data compared with given excel file**\n",
    "Steps:\n",
    "1) Create dictionary from excel file\n",
    "2) Create dictionary from uniprot api\n",
    "3) Put each key from excel file into api dictionary, check output matching\n",
    "\n"
   ]
  },
  {
   "cell_type": "code",
   "execution_count": 17,
   "id": "f621c035-f956-414f-956a-05cbf29e9f7d",
   "metadata": {},
   "outputs": [],
   "source": [
    "import pandas as pd\n",
    "import os"
   ]
  },
  {
   "cell_type": "code",
   "execution_count": 18,
   "id": "5c744815-ce94-4f76-bc6a-db27bd7b8abb",
   "metadata": {},
   "outputs": [
    {
     "name": "stdout",
     "output_type": "stream",
     "text": [
      "data/uniprot_PPutida_reviewed.pkl\n",
      "    Entry trimmed_name\n",
      "0  Q88E10      PP_4658\n",
      "1  Q88E47      PP_4621\n",
      "2  Q88FF8      PP_4138\n",
      "3  Q88FY2      PP_3944\n",
      "4  Q88GJ9      PP_3722\n",
      "  CRISPRi target gene UNIPROT ID\n",
      "0         PP_1607_NT2     Q88MG4\n",
      "1         PP_1607_NT3     Q88MG4\n",
      "2         PP_1607_NT4     Q88MG4\n",
      "3             PP_4549     Q88EB7\n",
      "4             PP_4550     Q88EB6\n"
     ]
    }
   ],
   "source": [
    "#Import and display dataframes\n",
    "api_path = os.path.join('data', 'uniprot_PPutida_reviewed.pkl')\n",
    "xl_path = os.path.join('data', 'Sample name, CRISPRi target gene, Uniprot ID.xlsx')\n",
    "print(api_path)\n",
    "df_api = pd.read_pickle(api_path)\n",
    "print(df_api.head())\n",
    "df_xl = pd.read_excel(xl_path)\n",
    "print(df_xl.head())"
   ]
  },
  {
   "cell_type": "markdown",
   "id": "3e28700c-db76-49ca-a739-dda082ebf048",
   "metadata": {},
   "source": [
    "Edit the excel dataframe to match the API"
   ]
  },
  {
   "cell_type": "code",
   "execution_count": 22,
   "id": "534857e7-840b-4502-84b7-e6c5b8c04821",
   "metadata": {},
   "outputs": [
    {
     "name": "stdout",
     "output_type": "stream",
     "text": [
      "  CRISPRi target gene UNIPROT ID trimmed_name\n",
      "0         PP_1607_NT2     Q88MG4         None\n",
      "1         PP_1607_NT3     Q88MG4         None\n",
      "2         PP_1607_NT4     Q88MG4         None\n",
      "3             PP_4549     Q88EB7         None\n",
      "4             PP_4550     Q88EB6         None\n"
     ]
    },
    {
     "data": {
      "text/html": [
       "<div>\n",
       "<style scoped>\n",
       "    .dataframe tbody tr th:only-of-type {\n",
       "        vertical-align: middle;\n",
       "    }\n",
       "\n",
       "    .dataframe tbody tr th {\n",
       "        vertical-align: top;\n",
       "    }\n",
       "\n",
       "    .dataframe thead th {\n",
       "        text-align: right;\n",
       "    }\n",
       "</style>\n",
       "<table border=\"1\" class=\"dataframe\">\n",
       "  <thead>\n",
       "    <tr style=\"text-align: right;\">\n",
       "      <th></th>\n",
       "      <th>CRISPRi target gene</th>\n",
       "      <th>UNIPROT ID</th>\n",
       "      <th>trimmed_name</th>\n",
       "    </tr>\n",
       "  </thead>\n",
       "  <tbody>\n",
       "    <tr>\n",
       "      <th>0</th>\n",
       "      <td>PP_1607_NT2</td>\n",
       "      <td>Q88MG4</td>\n",
       "      <td>PP_1607</td>\n",
       "    </tr>\n",
       "    <tr>\n",
       "      <th>1</th>\n",
       "      <td>PP_1607_NT3</td>\n",
       "      <td>Q88MG4</td>\n",
       "      <td>PP_1607</td>\n",
       "    </tr>\n",
       "    <tr>\n",
       "      <th>2</th>\n",
       "      <td>PP_1607_NT4</td>\n",
       "      <td>Q88MG4</td>\n",
       "      <td>PP_1607</td>\n",
       "    </tr>\n",
       "    <tr>\n",
       "      <th>3</th>\n",
       "      <td>PP_4549</td>\n",
       "      <td>Q88EB7</td>\n",
       "      <td>PP_4549</td>\n",
       "    </tr>\n",
       "    <tr>\n",
       "      <th>4</th>\n",
       "      <td>PP_4550</td>\n",
       "      <td>Q88EB6</td>\n",
       "      <td>PP_4550</td>\n",
       "    </tr>\n",
       "  </tbody>\n",
       "</table>\n",
       "</div>"
      ],
      "text/plain": [
       "  CRISPRi target gene UNIPROT ID trimmed_name\n",
       "0         PP_1607_NT2     Q88MG4      PP_1607\n",
       "1         PP_1607_NT3     Q88MG4      PP_1607\n",
       "2         PP_1607_NT4     Q88MG4      PP_1607\n",
       "3             PP_4549     Q88EB7      PP_4549\n",
       "4             PP_4550     Q88EB6      PP_4550"
      ]
     },
     "execution_count": 22,
     "metadata": {},
     "output_type": "execute_result"
    }
   ],
   "source": [
    "df_xl['trimmed_name'] = None\n",
    "print(df_xl.head())\n",
    "trim_name = lambda x: x[x.find('PP'):(x.find('PP')+7)]\n",
    "df_xl['trimmed_name'] = df_xl['CRISPRi target gene'].apply(trim_name)\n",
    "df_xl.head()\n"
   ]
  },
  {
   "cell_type": "markdown",
   "id": "0adc4601-0066-4b0c-9e93-fb8347c41a3b",
   "metadata": {},
   "source": [
    "Make a dictionary of each"
   ]
  },
  {
   "cell_type": "code",
   "execution_count": 27,
   "id": "17057922-9083-41c6-a261-b924a1812819",
   "metadata": {},
   "outputs": [
    {
     "name": "stdout",
     "output_type": "stream",
     "text": [
      "Q88EB7\n",
      "Q88E10\n"
     ]
    }
   ],
   "source": [
    "dict_xl = dict(zip(df_xl['trimmed_name'], df_xl['UNIPROT ID']))\n",
    "print(dict_xl['PP_4549'])\n",
    "dict_api = dict(zip(df_api['trimmed_name'], df_api['Entry']))\n",
    "print(dict_api['PP_4658'])\n"
   ]
  },
  {
   "cell_type": "markdown",
   "id": "8dc80802-e0e2-40a9-a440-51615ebe570b",
   "metadata": {},
   "source": [
    "Check membership for each set of dict keys in the other.\n"
   ]
  },
  {
   "cell_type": "code",
   "execution_count": 33,
   "id": "7b29ee9e-427a-46c4-90c2-5da994a84b96",
   "metadata": {},
   "outputs": [
    {
     "name": "stdout",
     "output_type": "stream",
     "text": [
      "PP_4549\n",
      "PP_4550\n",
      "PP_0368\n",
      "PP_0362\n",
      "PP_0437\n",
      "PP_2589\n",
      "PP_3744\n",
      "PP_4194\n",
      "PP_1444\n",
      "PP_0338\n",
      "PP_3394\n",
      "PP_3071\n",
      "PP_0582\n",
      "PP_3355\n",
      "PP_3754\n",
      "PP_3282\n",
      "PP_3755\n",
      "PP_1157\n",
      "PP_1394\n",
      "PP_3365\n",
      "PP_4679\n",
      "PP_1777\n",
      "PP_3578\n",
      "PP_0597\n",
      "PP_4667\n",
      "PP_3122\n",
      "PP_3123\n",
      "PP_3280\n",
      "PP_4737\n",
      "PP_2213\n",
      "PP_0528\n",
      "PP_0548\n",
      "PP_4636\n",
      "PP_5416\n",
      "PP_0806\n",
      "PP_0168\n",
      "PP_4120\n",
      "PP_4122\n",
      "PP_4123\n",
      "PP_4129\n",
      "PP_4130\n",
      "PP_0999\n",
      "PP_1031\n",
      "PP_1664\n",
      "PP_4189\n",
      "PP_4188\n",
      "PP_4116\n",
      "PP_4043\n",
      "PP_4862\n",
      "PP_0103\n",
      "PP_0104\n",
      "PP_0105\n",
      "PP_0106\n",
      "PP_1317\n",
      "PP_1318\n",
      "PP_5335\n",
      "PP_1770\n",
      "PP_4175\n",
      "PP_4187\n",
      "PP_1319\n",
      "PP_0812\n",
      "PP_0813\n",
      "PP_0814\n",
      "PP_0815\n",
      "PP_1769\n",
      "PP_5186\n",
      "PP_4160\n",
      "PP_0658\n",
      "PP_5203\n",
      "PP_0277\n",
      "PP_0226\n",
      "PP_4651\n",
      "PP_4650\n",
      "PP_4193\n",
      "PP_4192\n",
      "PP_4191\n",
      "PP_4090\n",
      "PP_0897\n",
      "PP_0944\n",
      "PP_2112\n",
      "PP_2339\n",
      "PP_4011\n",
      "PP_4012\n",
      "PP_4185\n",
      "PP_4186\n",
      "PP_1023\n",
      "PP_0225\n"
     ]
    }
   ],
   "source": [
    "api_keys = list(dict_api.keys())\n",
    "xl_keys = list(dict_xl.keys()) \n",
    "\n",
    "in_api_not_xl = []\n",
    "for k in api_keys:\n",
    "    if k not in xl_keys:\n",
    "        #print(k)\n",
    "        in_api_not_xl.append(k)\n",
    "        \n",
    "        \n",
    "in_xl_not_api = []\n",
    "for k in xl_keys:\n",
    "    if k not in api_keys:\n",
    "        print(k)\n",
    "        in_xl_not_api.append(k)"
   ]
  }
 ],
 "metadata": {
  "kernelspec": {
   "display_name": "ART Prod v.master.5e5f34c",
   "language": "python",
   "name": "python3"
  },
  "language_info": {
   "codemirror_mode": {
    "name": "ipython",
    "version": 3
   },
   "file_extension": ".py",
   "mimetype": "text/x-python",
   "name": "python",
   "nbconvert_exporter": "python",
   "pygments_lexer": "ipython3",
   "version": "3.10.6"
  }
 },
 "nbformat": 4,
 "nbformat_minor": 5
}
