{
 "cells": [
  {
   "cell_type": "markdown",
   "id": "30848fe9-838f-4b8c-977b-e2b4e942471e",
   "metadata": {},
   "source": [
    "#### Dispensing plasmid according to nanodrop concentration\n",
    "\n",
    "* Accounting for differences in plasmid concentration and aiming for 100 ng of plasmid per reaction\n",
    "* Easier to dilute on the ECHO\n",
    "* Overall process is to generate a .csv file of the individual unique gRNAs used in the above, then enter the plasmid concentrations of each plasmid from the nanodrop to dilute to 100 ng/uL or use a maximum volume of 4.0 uL if the plasmid concentration is too low"
   ]
  },
  {
   "cell_type": "code",
   "execution_count": 1,
   "id": "9752200b-19f2-424b-8df4-2b37f9e834f5",
   "metadata": {
    "tags": []
   },
   "outputs": [
    {
     "ename": "NameError",
     "evalue": "name 'dest_df' is not defined",
     "output_type": "error",
     "traceback": [
      "\u001b[1;31m---------------------------------------------------------------------------\u001b[0m",
      "\u001b[1;31mNameError\u001b[0m                                 Traceback (most recent call last)",
      "Cell \u001b[1;32mIn[1], line 2\u001b[0m\n\u001b[0;32m      1\u001b[0m \u001b[38;5;66;03m# Generate a .csv file of \u001b[39;00m\n\u001b[1;32m----> 2\u001b[0m unique_values \u001b[38;5;241m=\u001b[39m \u001b[43mdest_df\u001b[49m[\u001b[38;5;124m'\u001b[39m\u001b[38;5;124mgRNA_Target\u001b[39m\u001b[38;5;124m'\u001b[39m]\u001b[38;5;241m.\u001b[39munique()\n\u001b[0;32m      3\u001b[0m unique_df \u001b[38;5;241m=\u001b[39m pd\u001b[38;5;241m.\u001b[39mDataFrame(unique_values, columns\u001b[38;5;241m=\u001b[39m[\u001b[38;5;124m'\u001b[39m\u001b[38;5;124mgRNA_Target\u001b[39m\u001b[38;5;124m'\u001b[39m])\n\u001b[0;32m      4\u001b[0m unique_df\u001b[38;5;241m.\u001b[39mto_csv(\u001b[38;5;124m'\u001b[39m\u001b[38;5;124mgRNAs.csv\u001b[39m\u001b[38;5;124m'\u001b[39m, index\u001b[38;5;241m=\u001b[39m\u001b[38;5;28;01mFalse\u001b[39;00m)\n",
      "\u001b[1;31mNameError\u001b[0m: name 'dest_df' is not defined"
     ]
    }
   ],
   "source": [
    "# Generate a .csv file of \n",
    "unique_values = dest_df['gRNA_Target'].unique()\n",
    "unique_df = pd.DataFrame(unique_values, columns=['gRNA_Target'])\n",
    "unique_df.to_csv('gRNAs.csv', index=False)"
   ]
  },
  {
   "cell_type": "code",
   "execution_count": null,
   "id": "7e895fa8-26e1-4b81-8f23-1c571f8171ec",
   "metadata": {
    "tags": []
   },
   "outputs": [],
   "source": [
    "plasmid_conc =pd.read_csv('plasmid_conc.csv')\n",
    "plasmid_df=pd.DataFrame(plasmid_conc, columns=['gRNA_Target', 'conc'])\n",
    "plasmid_df.head()"
   ]
  },
  {
   "cell_type": "code",
   "execution_count": 2,
   "id": "2bac6fdb-88a7-4a4d-a266-1ad57740cb37",
   "metadata": {
    "tags": []
   },
   "outputs": [
    {
     "ename": "NameError",
     "evalue": "name 'plasmid_df' is not defined",
     "output_type": "error",
     "traceback": [
      "\u001b[1;31m---------------------------------------------------------------------------\u001b[0m",
      "\u001b[1;31mNameError\u001b[0m                                 Traceback (most recent call last)",
      "Cell \u001b[1;32mIn[2], line 4\u001b[0m\n\u001b[0;32m      1\u001b[0m target_concentration \u001b[38;5;241m=\u001b[39m \u001b[38;5;241m100\u001b[39m  \u001b[38;5;66;03m# Target concentration in units\u001b[39;00m\n\u001b[0;32m      2\u001b[0m target_volume \u001b[38;5;241m=\u001b[39m \u001b[38;5;241m4\u001b[39m  \u001b[38;5;66;03m# Target volume in uL\u001b[39;00m\n\u001b[1;32m----> 4\u001b[0m plasmid_df[\u001b[38;5;124m'\u001b[39m\u001b[38;5;124mplasmid\u001b[39m\u001b[38;5;124m'\u001b[39m] \u001b[38;5;241m=\u001b[39m target_volume \u001b[38;5;241m*\u001b[39m (target_concentration \u001b[38;5;241m/\u001b[39m \u001b[43mplasmid_df\u001b[49m[\u001b[38;5;124m'\u001b[39m\u001b[38;5;124mconc\u001b[39m\u001b[38;5;124m'\u001b[39m])\n\u001b[0;32m      6\u001b[0m \u001b[38;5;66;03m# Adjust volumes if they exceed 4 uL or if concentration is too high (> 100 units)\u001b[39;00m\n\u001b[0;32m      7\u001b[0m plasmid_df\u001b[38;5;241m.\u001b[39mloc[plasmid_df[\u001b[38;5;124m'\u001b[39m\u001b[38;5;124mplasmid\u001b[39m\u001b[38;5;124m'\u001b[39m] \u001b[38;5;241m>\u001b[39m target_volume, \u001b[38;5;124m'\u001b[39m\u001b[38;5;124mplasmid\u001b[39m\u001b[38;5;124m'\u001b[39m] \u001b[38;5;241m=\u001b[39m target_volume\n",
      "\u001b[1;31mNameError\u001b[0m: name 'plasmid_df' is not defined"
     ]
    }
   ],
   "source": [
    "target_concentration = 100  # Target concentration in units\n",
    "target_volume = 4  # Target volume in uL\n",
    "\n",
    "plasmid_df['plasmid'] = target_volume * (target_concentration / plasmid_df['conc'])\n",
    "\n",
    "# Adjust volumes if they exceed 4 uL or if concentration is too high (> 100 units)\n",
    "plasmid_df.loc[plasmid_df['plasmid'] > target_volume, 'plasmid'] = target_volume\n",
    "plasmid_df.loc[plasmid_df['conc'] > target_concentration, 'plasmid'] = target_volume * (target_concentration / plasmid_df['conc'])\n",
    "\n",
    "# Round volumes to 2 decimal places for clarity\n",
    "plasmid_df['plasmid'] = plasmid_df['plasmid'].round(1)\n",
    "plasmid_df['water']= target_volume-plasmid_df['plasmid'].round(1)\n",
    "plasmid_df.head()"
   ]
  },
  {
   "cell_type": "code",
   "execution_count": null,
   "id": "7dd37aae-b298-4216-a02a-9c28e8322793",
   "metadata": {},
   "outputs": [],
   "source": []
  }
 ],
 "metadata": {
  "kernelspec": {
   "display_name": "Python 3 (ipykernel)",
   "language": "python",
   "name": "python3"
  },
  "language_info": {
   "codemirror_mode": {
    "name": "ipython",
    "version": 3
   },
   "file_extension": ".py",
   "mimetype": "text/x-python",
   "name": "python",
   "nbconvert_exporter": "python",
   "pygments_lexer": "ipython3",
   "version": "3.10.6"
  }
 },
 "nbformat": 4,
 "nbformat_minor": 5
}
