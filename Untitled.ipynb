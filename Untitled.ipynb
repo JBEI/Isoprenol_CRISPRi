{
 "cells": [
  {
   "cell_type": "code",
   "execution_count": 6,
   "id": "2f60789d-4642-4892-ab67-78f22cb9566d",
   "metadata": {
    "tags": []
   },
   "outputs": [
    {
     "name": "stdout",
     "output_type": "stream",
     "text": [
      "Collecting goatools\n",
      "  Downloading goatools-1.4.12-py3-none-any.whl.metadata (14 kB)\n",
      "Collecting docopt (from goatools)\n",
      "  Downloading docopt-0.6.2.tar.gz (25 kB)\n",
      "  Preparing metadata (setup.py): started\n",
      "  Preparing metadata (setup.py): finished with status 'done'\n",
      "Collecting ftpretty (from goatools)\n",
      "  Downloading ftpretty-0.4.0-py2.py3-none-any.whl.metadata (6.6 kB)\n",
      "Requirement already satisfied: numpy in c:\\users\\dcarruth\\appdata\\local\\programs\\python\\python311\\lib\\site-packages (from goatools) (1.23.5)\n",
      "Requirement already satisfied: openpyxl in c:\\users\\dcarruth\\appdata\\local\\programs\\python\\python311\\lib\\site-packages (from goatools) (3.1.5)\n",
      "Requirement already satisfied: pandas in c:\\users\\dcarruth\\appdata\\local\\programs\\python\\python311\\lib\\site-packages (from goatools) (2.2.2)\n",
      "Collecting pydot (from goatools)\n",
      "  Downloading pydot-3.0.2-py3-none-any.whl.metadata (10 kB)\n",
      "Requirement already satisfied: requests in c:\\users\\dcarruth\\appdata\\local\\programs\\python\\python311\\lib\\site-packages (from goatools) (2.28.2)\n",
      "Requirement already satisfied: rich in c:\\users\\dcarruth\\appdata\\local\\programs\\python\\python311\\lib\\site-packages (from goatools) (13.7.1)\n",
      "Requirement already satisfied: scipy in c:\\users\\dcarruth\\appdata\\local\\programs\\python\\python311\\lib\\site-packages (from goatools) (1.10.1)\n",
      "Requirement already satisfied: setuptools in c:\\users\\dcarruth\\appdata\\local\\programs\\python\\python311\\lib\\site-packages (from goatools) (65.5.0)\n",
      "Requirement already satisfied: statsmodels in c:\\users\\dcarruth\\appdata\\local\\programs\\python\\python311\\lib\\site-packages (from goatools) (0.14.0)\n",
      "Collecting xlsxwriter (from goatools)\n",
      "  Downloading XlsxWriter-3.2.0-py3-none-any.whl.metadata (2.6 kB)\n",
      "Requirement already satisfied: python-dateutil in c:\\users\\dcarruth\\appdata\\local\\programs\\python\\python311\\lib\\site-packages (from ftpretty->goatools) (2.8.2)\n",
      "Requirement already satisfied: et-xmlfile in c:\\users\\dcarruth\\appdata\\local\\programs\\python\\python311\\lib\\site-packages (from openpyxl->goatools) (1.1.0)\n",
      "Requirement already satisfied: pytz>=2020.1 in c:\\users\\dcarruth\\appdata\\local\\programs\\python\\python311\\lib\\site-packages (from pandas->goatools) (2023.2)\n",
      "Requirement already satisfied: tzdata>=2022.7 in c:\\users\\dcarruth\\appdata\\local\\programs\\python\\python311\\lib\\site-packages (from pandas->goatools) (2024.1)\n",
      "Requirement already satisfied: pyparsing>=3.0.9 in c:\\users\\dcarruth\\appdata\\local\\programs\\python\\python311\\lib\\site-packages (from pydot->goatools) (3.0.9)\n",
      "Requirement already satisfied: charset-normalizer<4,>=2 in c:\\users\\dcarruth\\appdata\\local\\programs\\python\\python311\\lib\\site-packages (from requests->goatools) (3.1.0)\n",
      "Requirement already satisfied: idna<4,>=2.5 in c:\\users\\dcarruth\\appdata\\local\\programs\\python\\python311\\lib\\site-packages (from requests->goatools) (3.4)\n",
      "Requirement already satisfied: urllib3<1.27,>=1.21.1 in c:\\users\\dcarruth\\appdata\\local\\programs\\python\\python311\\lib\\site-packages (from requests->goatools) (1.26.15)\n",
      "Requirement already satisfied: certifi>=2017.4.17 in c:\\users\\dcarruth\\appdata\\local\\programs\\python\\python311\\lib\\site-packages (from requests->goatools) (2022.12.7)\n",
      "Requirement already satisfied: markdown-it-py>=2.2.0 in c:\\users\\dcarruth\\appdata\\local\\programs\\python\\python311\\lib\\site-packages (from rich->goatools) (3.0.0)\n",
      "Requirement already satisfied: pygments<3.0.0,>=2.13.0 in c:\\users\\dcarruth\\appdata\\local\\programs\\python\\python311\\lib\\site-packages (from rich->goatools) (2.14.0)\n",
      "Requirement already satisfied: patsy>=0.5.2 in c:\\users\\dcarruth\\appdata\\local\\programs\\python\\python311\\lib\\site-packages (from statsmodels->goatools) (0.5.3)\n",
      "Requirement already satisfied: packaging>=21.3 in c:\\users\\dcarruth\\appdata\\local\\programs\\python\\python311\\lib\\site-packages (from statsmodels->goatools) (24.1)\n",
      "Requirement already satisfied: mdurl~=0.1 in c:\\users\\dcarruth\\appdata\\local\\programs\\python\\python311\\lib\\site-packages (from markdown-it-py>=2.2.0->rich->goatools) (0.1.2)\n",
      "Requirement already satisfied: six in c:\\users\\dcarruth\\appdata\\local\\programs\\python\\python311\\lib\\site-packages (from patsy>=0.5.2->statsmodels->goatools) (1.16.0)\n",
      "Downloading goatools-1.4.12-py3-none-any.whl (15.8 MB)\n",
      "   ---------------------------------------- 0.0/15.8 MB ? eta -:--:--\n",
      "   ----- ---------------------------------- 2.4/15.8 MB 14.9 MB/s eta 0:00:01\n",
      "   --------------- ------------------------ 6.0/15.8 MB 16.8 MB/s eta 0:00:01\n",
      "   ------------------------ --------------- 9.7/15.8 MB 17.3 MB/s eta 0:00:01\n",
      "   --------------------------------- ------ 13.4/15.8 MB 17.8 MB/s eta 0:00:01\n",
      "   ---------------------------------------- 15.8/15.8 MB 17.1 MB/s eta 0:00:00\n",
      "Downloading ftpretty-0.4.0-py2.py3-none-any.whl (8.2 kB)\n",
      "Downloading pydot-3.0.2-py3-none-any.whl (35 kB)\n",
      "Downloading XlsxWriter-3.2.0-py3-none-any.whl (159 kB)\n",
      "Building wheels for collected packages: docopt\n",
      "  Building wheel for docopt (setup.py): started\n",
      "  Building wheel for docopt (setup.py): finished with status 'done'\n",
      "  Created wheel for docopt: filename=docopt-0.6.2-py2.py3-none-any.whl size=13775 sha256=3267fbdf3e7767a7652444589d14b75b62441811d84460d70aca7ed4bb68ab46\n",
      "  Stored in directory: c:\\users\\dcarruth\\appdata\\local\\pip\\cache\\wheels\\1a\\b0\\8c\\4b75c4116c31f83c8f9f047231251e13cc74481cca4a78a9ce\n",
      "Successfully built docopt\n",
      "Installing collected packages: docopt, xlsxwriter, pydot, ftpretty, goatools\n",
      "Successfully installed docopt-0.6.2 ftpretty-0.4.0 goatools-1.4.12 pydot-3.0.2 xlsxwriter-3.2.0\n",
      "Note: you may need to restart the kernel to use updated packages.\n"
     ]
    },
    {
     "name": "stderr",
     "output_type": "stream",
     "text": [
      "WARNING: Ignoring invalid distribution ~upyterlab (C:\\Users\\dcarruth\\AppData\\Local\\Programs\\Python\\Python311\\Lib\\site-packages)\n",
      "WARNING: Ignoring invalid distribution ~upyterlab (C:\\Users\\dcarruth\\AppData\\Local\\Programs\\Python\\Python311\\Lib\\site-packages)\n",
      "WARNING: Ignoring invalid distribution ~upyterlab (C:\\Users\\dcarruth\\AppData\\Local\\Programs\\Python\\Python311\\Lib\\site-packages)\n",
      "\n",
      "[notice] A new release of pip is available: 24.2 -> 24.3.1\n",
      "[notice] To update, run: python.exe -m pip install --upgrade pip\n"
     ]
    }
   ],
   "source": [
    "pip install goatools"
   ]
  },
  {
   "cell_type": "code",
   "execution_count": 11,
   "id": "7ea7740c-82e9-4e43-96f5-6bcafd0acd03",
   "metadata": {
    "tags": []
   },
   "outputs": [
    {
     "name": "stdout",
     "output_type": "stream",
     "text": [
      "go-basic.obo: fmt(1.2) rel(2024-10-27) 44,017 Terms\n"
     ]
    }
   ],
   "source": [
    "import pandas as pd\n",
    "from goatools.obo_parser import GODag\n",
    "\n",
    "# Load GO DAG\n",
    "go_dag = GODag(\"go-basic.obo\")\n",
    "\n",
    "# Load COG data (replace with your actual file path)\n",
    "cog_data = pd.read_csv(\"cog_data.csv\")"
   ]
  },
  {
   "cell_type": "code",
   "execution_count": 12,
   "id": "fc645ecf-fd8c-491c-bb39-3a1d9e988e42",
   "metadata": {
    "tags": []
   },
   "outputs": [
    {
     "ename": "KeyError",
     "evalue": "'go_terms'",
     "output_type": "error",
     "traceback": [
      "\u001b[1;31m---------------------------------------------------------------------------\u001b[0m",
      "\u001b[1;31mKeyError\u001b[0m                                  Traceback (most recent call last)",
      "File \u001b[1;32m~\\AppData\\Local\\Programs\\Python\\Python311\\Lib\\site-packages\\pandas\\core\\indexes\\base.py:3805\u001b[0m, in \u001b[0;36mIndex.get_loc\u001b[1;34m(self, key)\u001b[0m\n\u001b[0;32m   3804\u001b[0m \u001b[38;5;28;01mtry\u001b[39;00m:\n\u001b[1;32m-> 3805\u001b[0m     \u001b[38;5;28;01mreturn\u001b[39;00m \u001b[38;5;28;43mself\u001b[39;49m\u001b[38;5;241;43m.\u001b[39;49m\u001b[43m_engine\u001b[49m\u001b[38;5;241;43m.\u001b[39;49m\u001b[43mget_loc\u001b[49m\u001b[43m(\u001b[49m\u001b[43mcasted_key\u001b[49m\u001b[43m)\u001b[49m\n\u001b[0;32m   3806\u001b[0m \u001b[38;5;28;01mexcept\u001b[39;00m \u001b[38;5;167;01mKeyError\u001b[39;00m \u001b[38;5;28;01mas\u001b[39;00m err:\n",
      "File \u001b[1;32mindex.pyx:167\u001b[0m, in \u001b[0;36mpandas._libs.index.IndexEngine.get_loc\u001b[1;34m()\u001b[0m\n",
      "File \u001b[1;32mindex.pyx:196\u001b[0m, in \u001b[0;36mpandas._libs.index.IndexEngine.get_loc\u001b[1;34m()\u001b[0m\n",
      "File \u001b[1;32mpandas\\\\_libs\\\\hashtable_class_helper.pxi:7081\u001b[0m, in \u001b[0;36mpandas._libs.hashtable.PyObjectHashTable.get_item\u001b[1;34m()\u001b[0m\n",
      "File \u001b[1;32mpandas\\\\_libs\\\\hashtable_class_helper.pxi:7089\u001b[0m, in \u001b[0;36mpandas._libs.hashtable.PyObjectHashTable.get_item\u001b[1;34m()\u001b[0m\n",
      "\u001b[1;31mKeyError\u001b[0m: 'go_terms'",
      "\nThe above exception was the direct cause of the following exception:\n",
      "\u001b[1;31mKeyError\u001b[0m                                  Traceback (most recent call last)",
      "Cell \u001b[1;32mIn[12], line 12\u001b[0m\n\u001b[0;32m     10\u001b[0m \u001b[38;5;66;03m# Example usage\u001b[39;00m\n\u001b[0;32m     11\u001b[0m go_term \u001b[38;5;241m=\u001b[39m \u001b[38;5;124m\"\u001b[39m\u001b[38;5;124mGO:0005575\u001b[39m\u001b[38;5;124m\"\u001b[39m  \u001b[38;5;66;03m# Example GO term\u001b[39;00m\n\u001b[1;32m---> 12\u001b[0m cogs \u001b[38;5;241m=\u001b[39m \u001b[43mget_cogs_for_go_term\u001b[49m\u001b[43m(\u001b[49m\u001b[43mgo_term\u001b[49m\u001b[43m)\u001b[49m\n\u001b[0;32m     13\u001b[0m \u001b[38;5;28mprint\u001b[39m(cogs)\n",
      "Cell \u001b[1;32mIn[12], line 6\u001b[0m, in \u001b[0;36mget_cogs_for_go_term\u001b[1;34m(go_term)\u001b[0m\n\u001b[0;32m      3\u001b[0m cogs \u001b[38;5;241m=\u001b[39m \u001b[38;5;28mset\u001b[39m()\n\u001b[0;32m      4\u001b[0m \u001b[38;5;28;01mfor\u001b[39;00m index, row \u001b[38;5;129;01min\u001b[39;00m cog_data\u001b[38;5;241m.\u001b[39miterrows():\n\u001b[0;32m      5\u001b[0m     \u001b[38;5;66;03m# Assuming your COG data has a 'go_terms' column\u001b[39;00m\n\u001b[1;32m----> 6\u001b[0m     \u001b[38;5;28;01mif\u001b[39;00m go_term \u001b[38;5;129;01min\u001b[39;00m \u001b[43mrow\u001b[49m\u001b[43m[\u001b[49m\u001b[38;5;124;43m'\u001b[39;49m\u001b[38;5;124;43mgo_terms\u001b[39;49m\u001b[38;5;124;43m'\u001b[39;49m\u001b[43m]\u001b[49m:\n\u001b[0;32m      7\u001b[0m         cogs\u001b[38;5;241m.\u001b[39madd(row[\u001b[38;5;124m'\u001b[39m\u001b[38;5;124mcog_id\u001b[39m\u001b[38;5;124m'\u001b[39m])\n\u001b[0;32m      8\u001b[0m \u001b[38;5;28;01mreturn\u001b[39;00m cogs\n",
      "File \u001b[1;32m~\\AppData\\Local\\Programs\\Python\\Python311\\Lib\\site-packages\\pandas\\core\\series.py:1121\u001b[0m, in \u001b[0;36mSeries.__getitem__\u001b[1;34m(self, key)\u001b[0m\n\u001b[0;32m   1118\u001b[0m     \u001b[38;5;28;01mreturn\u001b[39;00m \u001b[38;5;28mself\u001b[39m\u001b[38;5;241m.\u001b[39m_values[key]\n\u001b[0;32m   1120\u001b[0m \u001b[38;5;28;01melif\u001b[39;00m key_is_scalar:\n\u001b[1;32m-> 1121\u001b[0m     \u001b[38;5;28;01mreturn\u001b[39;00m \u001b[38;5;28;43mself\u001b[39;49m\u001b[38;5;241;43m.\u001b[39;49m\u001b[43m_get_value\u001b[49m\u001b[43m(\u001b[49m\u001b[43mkey\u001b[49m\u001b[43m)\u001b[49m\n\u001b[0;32m   1123\u001b[0m \u001b[38;5;66;03m# Convert generator to list before going through hashable part\u001b[39;00m\n\u001b[0;32m   1124\u001b[0m \u001b[38;5;66;03m# (We will iterate through the generator there to check for slices)\u001b[39;00m\n\u001b[0;32m   1125\u001b[0m \u001b[38;5;28;01mif\u001b[39;00m is_iterator(key):\n",
      "File \u001b[1;32m~\\AppData\\Local\\Programs\\Python\\Python311\\Lib\\site-packages\\pandas\\core\\series.py:1237\u001b[0m, in \u001b[0;36mSeries._get_value\u001b[1;34m(self, label, takeable)\u001b[0m\n\u001b[0;32m   1234\u001b[0m     \u001b[38;5;28;01mreturn\u001b[39;00m \u001b[38;5;28mself\u001b[39m\u001b[38;5;241m.\u001b[39m_values[label]\n\u001b[0;32m   1236\u001b[0m \u001b[38;5;66;03m# Similar to Index.get_value, but we do not fall back to positional\u001b[39;00m\n\u001b[1;32m-> 1237\u001b[0m loc \u001b[38;5;241m=\u001b[39m \u001b[38;5;28;43mself\u001b[39;49m\u001b[38;5;241;43m.\u001b[39;49m\u001b[43mindex\u001b[49m\u001b[38;5;241;43m.\u001b[39;49m\u001b[43mget_loc\u001b[49m\u001b[43m(\u001b[49m\u001b[43mlabel\u001b[49m\u001b[43m)\u001b[49m\n\u001b[0;32m   1239\u001b[0m \u001b[38;5;28;01mif\u001b[39;00m is_integer(loc):\n\u001b[0;32m   1240\u001b[0m     \u001b[38;5;28;01mreturn\u001b[39;00m \u001b[38;5;28mself\u001b[39m\u001b[38;5;241m.\u001b[39m_values[loc]\n",
      "File \u001b[1;32m~\\AppData\\Local\\Programs\\Python\\Python311\\Lib\\site-packages\\pandas\\core\\indexes\\base.py:3812\u001b[0m, in \u001b[0;36mIndex.get_loc\u001b[1;34m(self, key)\u001b[0m\n\u001b[0;32m   3807\u001b[0m     \u001b[38;5;28;01mif\u001b[39;00m \u001b[38;5;28misinstance\u001b[39m(casted_key, \u001b[38;5;28mslice\u001b[39m) \u001b[38;5;129;01mor\u001b[39;00m (\n\u001b[0;32m   3808\u001b[0m         \u001b[38;5;28misinstance\u001b[39m(casted_key, abc\u001b[38;5;241m.\u001b[39mIterable)\n\u001b[0;32m   3809\u001b[0m         \u001b[38;5;129;01mand\u001b[39;00m \u001b[38;5;28many\u001b[39m(\u001b[38;5;28misinstance\u001b[39m(x, \u001b[38;5;28mslice\u001b[39m) \u001b[38;5;28;01mfor\u001b[39;00m x \u001b[38;5;129;01min\u001b[39;00m casted_key)\n\u001b[0;32m   3810\u001b[0m     ):\n\u001b[0;32m   3811\u001b[0m         \u001b[38;5;28;01mraise\u001b[39;00m InvalidIndexError(key)\n\u001b[1;32m-> 3812\u001b[0m     \u001b[38;5;28;01mraise\u001b[39;00m \u001b[38;5;167;01mKeyError\u001b[39;00m(key) \u001b[38;5;28;01mfrom\u001b[39;00m \u001b[38;5;21;01merr\u001b[39;00m\n\u001b[0;32m   3813\u001b[0m \u001b[38;5;28;01mexcept\u001b[39;00m \u001b[38;5;167;01mTypeError\u001b[39;00m:\n\u001b[0;32m   3814\u001b[0m     \u001b[38;5;66;03m# If we have a listlike key, _check_indexing_error will raise\u001b[39;00m\n\u001b[0;32m   3815\u001b[0m     \u001b[38;5;66;03m#  InvalidIndexError. Otherwise we fall through and re-raise\u001b[39;00m\n\u001b[0;32m   3816\u001b[0m     \u001b[38;5;66;03m#  the TypeError.\u001b[39;00m\n\u001b[0;32m   3817\u001b[0m     \u001b[38;5;28mself\u001b[39m\u001b[38;5;241m.\u001b[39m_check_indexing_error(key)\n",
      "\u001b[1;31mKeyError\u001b[0m: 'go_terms'"
     ]
    }
   ],
   "source": [
    "def get_cogs_for_go_term(go_term):\n",
    "    \"\"\"Retrieve COGs associated with a given GO term.\"\"\"\n",
    "    cogs = set()\n",
    "    for index, row in cog_data.iterrows():\n",
    "        # Assuming your COG data has a 'go_terms' column\n",
    "        if go_term in row['go_terms']:\n",
    "            cogs.add(row['cog_id'])\n",
    "    return cogs\n",
    "\n",
    "# Example usage\n",
    "go_term = \"GO:0005575\"  # Example GO term\n",
    "cogs = get_cogs_for_go_term(go_term)\n",
    "print(cogs)"
   ]
  },
  {
   "cell_type": "code",
   "execution_count": null,
   "id": "cca31851-8868-4b1e-8f52-e3e106dd59ef",
   "metadata": {},
   "outputs": [],
   "source": []
  }
 ],
 "metadata": {
  "kernelspec": {
   "display_name": "Python 3 (ipykernel)",
   "language": "python",
   "name": "python3"
  },
  "language_info": {
   "codemirror_mode": {
    "name": "ipython",
    "version": 3
   },
   "file_extension": ".py",
   "mimetype": "text/x-python",
   "name": "python",
   "nbconvert_exporter": "python",
   "pygments_lexer": "ipython3",
   "version": "3.11.2"
  }
 },
 "nbformat": 4,
 "nbformat_minor": 5
}
