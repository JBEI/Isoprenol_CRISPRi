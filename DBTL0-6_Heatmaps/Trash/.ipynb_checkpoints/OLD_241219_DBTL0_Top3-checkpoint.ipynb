{
 "cells": [
  {
   "cell_type": "markdown",
   "id": "74f1bccf-0028-4c1a-aeb2-311728425d77",
   "metadata": {},
   "source": [
    "##### This requires the DBTL0_Top3 file"
   ]
  },
  {
   "cell_type": "code",
   "execution_count": 1,
   "id": "8076a360-bfdf-46bb-a515-8233b5474cdd",
   "metadata": {},
   "outputs": [],
   "source": [
    "import pandas as pd\n",
    "import numpy as np\n",
    "import matplotlib.pyplot as plt\n",
    "from scipy.stats import ttest_ind\n",
    "from adjustText import adjust_text"
   ]
  },
  {
   "cell_type": "code",
   "execution_count": 2,
   "id": "3da152ca-6feb-4065-af1a-4620b1184744",
   "metadata": {},
   "outputs": [],
   "source": [
    "# Define the filenames and the samples of interest\n",
    "filenames = [f'DBTL{i}.csv' for i in range(7)]\n",
    "\n",
    "# Load CSV files and concatenate into a single dataframe\n",
    "dataframes = [pd.read_csv(filename) for filename in filenames]\n",
    "combined_df = pd.concat(dataframes, ignore_index=True)"
   ]
  },
  {
   "cell_type": "code",
   "execution_count": 3,
   "id": "769b4a23-7bd0-47c3-89fe-7bfe6c780d1f",
   "metadata": {},
   "outputs": [
    {
     "data": {
      "text/html": [
       "<div>\n",
       "<style scoped>\n",
       "    .dataframe tbody tr th:only-of-type {\n",
       "        vertical-align: middle;\n",
       "    }\n",
       "\n",
       "    .dataframe tbody tr th {\n",
       "        vertical-align: top;\n",
       "    }\n",
       "\n",
       "    .dataframe thead th {\n",
       "        text-align: right;\n",
       "    }\n",
       "</style>\n",
       "<table border=\"1\" class=\"dataframe\">\n",
       "  <thead>\n",
       "    <tr style=\"text-align: right;\">\n",
       "      <th></th>\n",
       "      <th>Protein.Group</th>\n",
       "      <th>Protein.Names</th>\n",
       "      <th>Protein</th>\n",
       "      <th>Protein.Description</th>\n",
       "      <th>Sample</th>\n",
       "      <th>Replicate</th>\n",
       "      <th>Top_3pep_counts_mean</th>\n",
       "      <th>%_of protein_abundance_Top3-method</th>\n",
       "      <th>log10_%_abundance</th>\n",
       "      <th>Cycle</th>\n",
       "    </tr>\n",
       "  </thead>\n",
       "  <tbody>\n",
       "    <tr>\n",
       "      <th>0</th>\n",
       "      <td>P00552</td>\n",
       "      <td>KKA2_KLEPN</td>\n",
       "      <td>Neo</td>\n",
       "      <td>Aminoglycoside 3'-phosphotransferase</td>\n",
       "      <td>Control</td>\n",
       "      <td>R1</td>\n",
       "      <td>119112382.0</td>\n",
       "      <td>3.112624</td>\n",
       "      <td>0.493127</td>\n",
       "      <td>0</td>\n",
       "    </tr>\n",
       "    <tr>\n",
       "      <th>1</th>\n",
       "      <td>P00552</td>\n",
       "      <td>KKA2_KLEPN</td>\n",
       "      <td>Neo</td>\n",
       "      <td>Aminoglycoside 3'-phosphotransferase</td>\n",
       "      <td>Control</td>\n",
       "      <td>R2</td>\n",
       "      <td>149172095.3</td>\n",
       "      <td>3.712705</td>\n",
       "      <td>0.569690</td>\n",
       "      <td>0</td>\n",
       "    </tr>\n",
       "    <tr>\n",
       "      <th>2</th>\n",
       "      <td>P00552</td>\n",
       "      <td>KKA2_KLEPN</td>\n",
       "      <td>Neo</td>\n",
       "      <td>Aminoglycoside 3'-phosphotransferase</td>\n",
       "      <td>Control</td>\n",
       "      <td>R3</td>\n",
       "      <td>138700868.7</td>\n",
       "      <td>3.700489</td>\n",
       "      <td>0.568259</td>\n",
       "      <td>0</td>\n",
       "    </tr>\n",
       "    <tr>\n",
       "      <th>3</th>\n",
       "      <td>P00552</td>\n",
       "      <td>KKA2_KLEPN</td>\n",
       "      <td>Neo</td>\n",
       "      <td>Aminoglycoside 3'-phosphotransferase</td>\n",
       "      <td>Control</td>\n",
       "      <td>R4</td>\n",
       "      <td>100306326.3</td>\n",
       "      <td>2.650788</td>\n",
       "      <td>0.423375</td>\n",
       "      <td>0</td>\n",
       "    </tr>\n",
       "    <tr>\n",
       "      <th>4</th>\n",
       "      <td>P00552</td>\n",
       "      <td>KKA2_KLEPN</td>\n",
       "      <td>Neo</td>\n",
       "      <td>Aminoglycoside 3'-phosphotransferase</td>\n",
       "      <td>Control</td>\n",
       "      <td>R5</td>\n",
       "      <td>114276780.7</td>\n",
       "      <td>2.835433</td>\n",
       "      <td>0.452619</td>\n",
       "      <td>0</td>\n",
       "    </tr>\n",
       "  </tbody>\n",
       "</table>\n",
       "</div>"
      ],
      "text/plain": [
       "  Protein.Group Protein.Names Protein                   Protein.Description  \\\n",
       "0        P00552    KKA2_KLEPN     Neo  Aminoglycoside 3'-phosphotransferase   \n",
       "1        P00552    KKA2_KLEPN     Neo  Aminoglycoside 3'-phosphotransferase   \n",
       "2        P00552    KKA2_KLEPN     Neo  Aminoglycoside 3'-phosphotransferase   \n",
       "3        P00552    KKA2_KLEPN     Neo  Aminoglycoside 3'-phosphotransferase   \n",
       "4        P00552    KKA2_KLEPN     Neo  Aminoglycoside 3'-phosphotransferase   \n",
       "\n",
       "    Sample Replicate  Top_3pep_counts_mean  \\\n",
       "0  Control        R1           119112382.0   \n",
       "1  Control        R2           149172095.3   \n",
       "2  Control        R3           138700868.7   \n",
       "3  Control        R4           100306326.3   \n",
       "4  Control        R5           114276780.7   \n",
       "\n",
       "   %_of protein_abundance_Top3-method  log10_%_abundance  Cycle  \n",
       "0                            3.112624           0.493127      0  \n",
       "1                            3.712705           0.569690      0  \n",
       "2                            3.700489           0.568259      0  \n",
       "3                            2.650788           0.423375      0  \n",
       "4                            2.835433           0.452619      0  "
      ]
     },
     "execution_count": 3,
     "metadata": {},
     "output_type": "execute_result"
    }
   ],
   "source": [
    "combined_df.head()"
   ]
  },
  {
   "cell_type": "code",
   "execution_count": 4,
   "id": "0765e21c-f755-45d5-bad0-b323e511ff0f",
   "metadata": {},
   "outputs": [
    {
     "name": "stdout",
     "output_type": "stream",
     "text": [
      "In total, N = 19710/2544333 proteins were not translated to locus names\n"
     ]
    }
   ],
   "source": [
    "# Load the name_df DataFrame for translation\n",
    "name_df = pd.read_csv('proteomics_id_translator_240305.csv') \n",
    "\n",
    "# Create a dictionary from the name_df for fast lookup\n",
    "translator_dict = pd.Series(name_df['locus'].values, index=name_df['extracted']).to_dict()\n",
    "\n",
    "# Use the dictionary to map the Protein.Group names to locus names\n",
    "combined_df['Protein.Group'] = combined_df['Protein.Group'].map(lambda x: translator_dict.get(x, x))\n",
    "\n",
    "# Count the number of non-translated protein groups\n",
    "nontranslated = combined_df['Protein.Group'].apply(lambda x: x not in translator_dict.values()).sum()\n",
    "print(f\"In total, N = {nontranslated}/{len(combined_df['Protein.Group'])} proteins were not translated to locus names\")"
   ]
  },
  {
   "cell_type": "markdown",
   "id": "69fcc6f2-2f9a-47a1-82cb-09e7bcdaea1b",
   "metadata": {},
   "source": [
    "List pairwise comparisons to be made"
   ]
  },
  {
   "cell_type": "code",
   "execution_count": 5,
   "id": "43e881ec-1018-40d4-9eb4-0ccf1e5b2268",
   "metadata": {},
   "outputs": [],
   "source": [
    "# sample_control_pairs = {\n",
    "#     'PP_0812': 'Control',\n",
    "#     'PP_0813': 'Control',\n",
    "#     'PP_0814': 'Control',\n",
    "#     'PP_0815': 'Control',\n",
    "#     'PP_0751': 'Control',\n",
    "#     'PP_0528': 'Control',\n",
    "#     'PP_0368': 'Control',\n",
    "# }\n",
    "sample_control_pairs = {\n",
    " 'PP_0812_PP_0813_PP_0815':'PP_0812_PP_0813',\n",
    " 'PP_0812_PP_0814_PP_0815':'PP_0812_PP_0814',\n",
    " 'PP_0813_PP_0814_PP_0815':'PP_0813_PP_0814',\n",
    " 'PP_0813_PP_0815':'PP_0813',\n",
    " 'PP_0814_PP_0815':'PP_0814',\n",
    "}\n",
    "\n",
    "# "
   ]
  },
  {
   "cell_type": "code",
   "execution_count": 10,
   "id": "3f39059d-4c0d-41f3-94b9-f6e79a14c5fb",
   "metadata": {},
   "outputs": [],
   "source": [
    "# Define thresholds for filtering\n",
    "log2_fold_change_threshold = 0\n",
    "p_value_threshold = 0"
   ]
  },
  {
   "cell_type": "code",
   "execution_count": 11,
   "id": "330e104a-c18e-4739-8846-360e3e1a24a1",
   "metadata": {},
   "outputs": [
    {
     "name": "stderr",
     "output_type": "stream",
     "text": [
      "C:\\Users\\Carruthers\\AppData\\Local\\Temp\\ipykernel_2996\\2247220552.py:73: RuntimeWarning: divide by zero encountered in log10\n",
      "  (merged_data['log10_p_value'] > -np.log10(p_value_threshold))\n",
      "C:\\Users\\Carruthers\\AppData\\Local\\Temp\\ipykernel_2996\\2247220552.py:73: RuntimeWarning: divide by zero encountered in log10\n",
      "  (merged_data['log10_p_value'] > -np.log10(p_value_threshold))\n",
      "C:\\Users\\Carruthers\\AppData\\Local\\Temp\\ipykernel_2996\\2247220552.py:73: RuntimeWarning: divide by zero encountered in log10\n",
      "  (merged_data['log10_p_value'] > -np.log10(p_value_threshold))\n",
      "C:\\Users\\Carruthers\\AppData\\Local\\Temp\\ipykernel_2996\\2247220552.py:73: RuntimeWarning: divide by zero encountered in log10\n",
      "  (merged_data['log10_p_value'] > -np.log10(p_value_threshold))\n"
     ]
    },
    {
     "name": "stdout",
     "output_type": "stream",
     "text": [
      "Filtered Log2 and Log10 values saved to 'Test.csv'\n"
     ]
    },
    {
     "name": "stderr",
     "output_type": "stream",
     "text": [
      "C:\\Users\\Carruthers\\AppData\\Local\\Temp\\ipykernel_2996\\2247220552.py:73: RuntimeWarning: divide by zero encountered in log10\n",
      "  (merged_data['log10_p_value'] > -np.log10(p_value_threshold))\n"
     ]
    }
   ],
   "source": [
    "# DataFrames to store results\n",
    "log2_log10_results = pd.DataFrame()\n",
    "\n",
    "replicates_to_include = ['R4', 'R5', 'R6']\n",
    "for combined_sample, reference_sample in sample_control_pairs.items():\n",
    "    # Special handling for PP_0812 and PP_0813\n",
    "    if combined_sample in ['PP_0812', 'PP_0813']:\n",
    "        combined_data = combined_df[\n",
    "            (combined_df['Sample'] == combined_sample) &\n",
    "            (combined_df['Replicate'].isin(replicates_to_include))\n",
    "        ]\n",
    "        reference_data = combined_df[\n",
    "            (combined_df['Sample'] == reference_sample) &\n",
    "            (combined_df['Replicate'].isin(replicates_to_include))\n",
    "        ]\n",
    "    else:\n",
    "        combined_data = combined_df[combined_df['Sample'] == combined_sample]\n",
    "        reference_data = combined_df[combined_df['Sample'] == reference_sample]\n",
    "\n",
    "    # Debug: Check if data is loaded correctly\n",
    "    if combined_data.empty or reference_data.empty:\n",
    "        print(f\"No data for {combined_sample} or {reference_sample}\")\n",
    "        continue\n",
    "\n",
    "    # Compute mean %_of protein_abundance_Top3-method for each protein\n",
    "    combined_mean = combined_data.groupby('Protein.Group')['%_of protein_abundance_Top3-method'].mean().reset_index()\n",
    "    reference_mean = reference_data.groupby('Protein.Group')['%_of protein_abundance_Top3-method'].mean().reset_index()\n",
    "\n",
    "    # Rename columns for clarity\n",
    "    combined_mean.rename(columns={'%_of protein_abundance_Top3-method': 'combined_abundance'}, inplace=True)\n",
    "    reference_mean.rename(columns={'%_of protein_abundance_Top3-method': 'reference_abundance'}, inplace=True)\n",
    "\n",
    "    # Filter reference_mean to include only abundances > 0.001\n",
    "    reference_mean = reference_mean[reference_mean['reference_abundance'] > 0.0001]\n",
    "\n",
    "    # Merge the data on Protein.Group\n",
    "    merged_data = pd.merge(combined_mean, reference_mean, on='Protein.Group', how='outer')\n",
    "\n",
    "    # Calculate log2 fold change (fill missing values with NaN)\n",
    "    merged_data['log2_change'] = np.log2(merged_data['combined_abundance'] / merged_data['reference_abundance'])\n",
    "\n",
    "    # Debug: Check if log2_change contains NaN values\n",
    "    if merged_data['log2_change'].isna().all():\n",
    "        print(f\"All log2 fold changes are NaN for {combined_sample} vs {reference_sample}\")\n",
    "        continue\n",
    "\n",
    "    # Compute p-values (assume replicates data exists for actual p-value calculation)\n",
    "    combined_reps = combined_data[['Protein.Group', '%_of protein_abundance_Top3-method']]\n",
    "    reference_reps = reference_data[['Protein.Group', '%_of protein_abundance_Top3-method']]\n",
    "\n",
    "    p_values = []\n",
    "    for protein in merged_data['Protein.Group']:\n",
    "        group1 = combined_reps[combined_reps['Protein.Group'] == protein]['%_of protein_abundance_Top3-method']\n",
    "        group2 = reference_reps[reference_reps['Protein.Group'] == protein]['%_of protein_abundance_Top3-method']\n",
    "        if not group1.empty and not group2.empty:\n",
    "            _, p_val = ttest_ind(group1, group2, equal_var=False)\n",
    "        else:\n",
    "            p_val = np.nan\n",
    "        p_values.append(p_val)\n",
    "\n",
    "    # Add p-values and log10 transformation\n",
    "    merged_data['p_value'] = p_values\n",
    "    merged_data['log10_p_value'] = -np.log10(merged_data['p_value'])\n",
    "\n",
    "    # Debug: Check if log10_p_value contains NaN values\n",
    "    if merged_data['log10_p_value'].isna().all():\n",
    "        print(f\"All log10 p-values are NaN for {combined_sample} vs {reference_sample}\")\n",
    "        continue\n",
    "\n",
    "    # Filter based on plotting criteria\n",
    "    filtered_data = merged_data[\n",
    "        (merged_data['log2_change'].abs() > log2_fold_change_threshold) &\n",
    "        (merged_data['log10_p_value'] > -np.log10(p_value_threshold))\n",
    "    ]\n",
    "\n",
    "    # Store filtered results in log2_log10_results\n",
    "    if log2_log10_results.empty:\n",
    "        log2_log10_results = filtered_data[['Protein.Group', 'log2_change', 'log10_p_value']].copy()\n",
    "        log2_log10_results.rename(\n",
    "            columns={'log2_change': f'{combined_sample}_log2_FC', 'log10_p_value': f'{combined_sample}_log10_pval'},\n",
    "            inplace=True\n",
    "        )\n",
    "    else:\n",
    "        temp_results = filtered_data[['Protein.Group', 'log2_change', 'log10_p_value']].copy()\n",
    "        temp_results.rename(\n",
    "            columns={'log2_change': f'{combined_sample}_log2_FC', 'log10_p_value': f'{combined_sample}_log10_pval'},\n",
    "            inplace=True\n",
    "        )\n",
    "        log2_log10_results = pd.merge(\n",
    "            log2_log10_results,\n",
    "            temp_results,\n",
    "            left_on='Protein.Group',\n",
    "            right_on='Protein.Group',\n",
    "            how='outer'\n",
    "        )\n",
    "\n",
    "# Save the filtered log2 and log10 values to a CSV file\n",
    "log2_log10_results.to_csv('Test.csv', index=False)\n",
    "print(\"Filtered Log2 and Log10 values saved to 'Test.csv'\")"
   ]
  },
  {
   "cell_type": "markdown",
   "id": "9fd68e65-793b-4254-8bd0-94c3925a0a71",
   "metadata": {
    "jp-MarkdownHeadingCollapsed": true
   },
   "source": [
    "## Will not run after\n",
    "#### Investigating genes that are upregulated amongst a subset of samples"
   ]
  },
  {
   "cell_type": "code",
   "execution_count": 8,
   "id": "8dd16e56-cb31-4896-a5ef-17aeabc0c47f",
   "metadata": {},
   "outputs": [],
   "source": [
    "samples_of_interest = [\"PP_0812\", \"PP_0813\", \"PP_0814\"]"
   ]
  },
  {
   "cell_type": "markdown",
   "id": "b9b663e7-53d6-4bf3-8ee2-2fac9cfc7b57",
   "metadata": {},
   "source": [
    "#### TCA Cycle"
   ]
  },
  {
   "cell_type": "code",
   "execution_count": 9,
   "id": "745043c6-8034-476e-b051-6010afd85c17",
   "metadata": {},
   "outputs": [
    {
     "ename": "KeyError",
     "evalue": "['PP_0812_log2_FC', 'PP_0813_log2_FC', 'PP_0814_log2_FC', 'PP_0812_log10_pval', 'PP_0813_log10_pval', 'PP_0814_log10_pval']",
     "output_type": "error",
     "traceback": [
      "\u001b[1;31m---------------------------------------------------------------------------\u001b[0m",
      "\u001b[1;31mKeyError\u001b[0m                                  Traceback (most recent call last)",
      "Cell \u001b[1;32mIn[9], line 7\u001b[0m\n\u001b[0;32m      4\u001b[0m second_list \u001b[38;5;241m=\u001b[39m proteins_txt[\u001b[38;5;124m'\u001b[39m\u001b[38;5;124mGene Accession\u001b[39m\u001b[38;5;124m'\u001b[39m]\u001b[38;5;241m.\u001b[39mtolist()\n\u001b[0;32m      6\u001b[0m \u001b[38;5;66;03m# Filter the data to include only the proteins that are significant for all samples of interest\u001b[39;00m\n\u001b[1;32m----> 7\u001b[0m filtered_data \u001b[38;5;241m=\u001b[39m \u001b[43mlog2_log10_results\u001b[49m\u001b[38;5;241;43m.\u001b[39;49m\u001b[43mdropna\u001b[49m\u001b[43m(\u001b[49m\u001b[43msubset\u001b[49m\u001b[38;5;241;43m=\u001b[39;49m\u001b[43m[\u001b[49m\u001b[38;5;124;43mf\u001b[39;49m\u001b[38;5;124;43m\"\u001b[39;49m\u001b[38;5;132;43;01m{\u001b[39;49;00m\u001b[43msample\u001b[49m\u001b[38;5;132;43;01m}\u001b[39;49;00m\u001b[38;5;124;43m_log2_FC\u001b[39;49m\u001b[38;5;124;43m\"\u001b[39;49m\u001b[43m \u001b[49m\u001b[38;5;28;43;01mfor\u001b[39;49;00m\u001b[43m \u001b[49m\u001b[43msample\u001b[49m\u001b[43m \u001b[49m\u001b[38;5;129;43;01min\u001b[39;49;00m\u001b[43m \u001b[49m\u001b[43msamples_of_interest\u001b[49m\u001b[43m]\u001b[49m\u001b[43m \u001b[49m\u001b[38;5;241;43m+\u001b[39;49m\u001b[43m \u001b[49m\u001b[43m[\u001b[49m\u001b[38;5;124;43mf\u001b[39;49m\u001b[38;5;124;43m\"\u001b[39;49m\u001b[38;5;132;43;01m{\u001b[39;49;00m\u001b[43msample\u001b[49m\u001b[38;5;132;43;01m}\u001b[39;49;00m\u001b[38;5;124;43m_log10_pval\u001b[39;49m\u001b[38;5;124;43m\"\u001b[39;49m\u001b[43m \u001b[49m\u001b[38;5;28;43;01mfor\u001b[39;49;00m\u001b[43m \u001b[49m\u001b[43msample\u001b[49m\u001b[43m \u001b[49m\u001b[38;5;129;43;01min\u001b[39;49;00m\u001b[43m \u001b[49m\u001b[43msamples_of_interest\u001b[49m\u001b[43m]\u001b[49m\u001b[43m)\u001b[49m\n\u001b[0;32m      9\u001b[0m \u001b[38;5;66;03m# Compare the filtered data against the second list of proteins\u001b[39;00m\n\u001b[0;32m     10\u001b[0m matching_proteins \u001b[38;5;241m=\u001b[39m filtered_data[filtered_data[\u001b[38;5;124m'\u001b[39m\u001b[38;5;124mProtein.Group\u001b[39m\u001b[38;5;124m'\u001b[39m]\u001b[38;5;241m.\u001b[39misin(second_list)]\n",
      "File \u001b[1;32m~\\AppData\\Local\\Programs\\Python\\Python310\\lib\\site-packages\\pandas\\core\\frame.py:6407\u001b[0m, in \u001b[0;36mDataFrame.dropna\u001b[1;34m(self, axis, how, thresh, subset, inplace, ignore_index)\u001b[0m\n\u001b[0;32m   6405\u001b[0m     check \u001b[38;5;241m=\u001b[39m indices \u001b[38;5;241m==\u001b[39m \u001b[38;5;241m-\u001b[39m\u001b[38;5;241m1\u001b[39m\n\u001b[0;32m   6406\u001b[0m     \u001b[38;5;28;01mif\u001b[39;00m check\u001b[38;5;241m.\u001b[39many():\n\u001b[1;32m-> 6407\u001b[0m         \u001b[38;5;28;01mraise\u001b[39;00m \u001b[38;5;167;01mKeyError\u001b[39;00m(np\u001b[38;5;241m.\u001b[39marray(subset)[check]\u001b[38;5;241m.\u001b[39mtolist())\n\u001b[0;32m   6408\u001b[0m     agg_obj \u001b[38;5;241m=\u001b[39m \u001b[38;5;28mself\u001b[39m\u001b[38;5;241m.\u001b[39mtake(indices, axis\u001b[38;5;241m=\u001b[39magg_axis)\n\u001b[0;32m   6410\u001b[0m \u001b[38;5;28;01mif\u001b[39;00m thresh \u001b[38;5;129;01mis\u001b[39;00m \u001b[38;5;129;01mnot\u001b[39;00m no_default:\n",
      "\u001b[1;31mKeyError\u001b[0m: ['PP_0812_log2_FC', 'PP_0813_log2_FC', 'PP_0814_log2_FC', 'PP_0812_log10_pval', 'PP_0813_log10_pval', 'PP_0814_log10_pval']"
     ]
    }
   ],
   "source": [
    "# Define the second list of proteins\n",
    "proteins_txt = pd.read_csv('pathway-genes-TCA.txt', delimiter='\\t')  # Adjust the separator if needed\n",
    "proteins_txt = proteins_txt.drop_duplicates(subset='Gene Accession')\n",
    "second_list = proteins_txt['Gene Accession'].tolist()\n",
    "\n",
    "# Filter the data to include only the proteins that are significant for all samples of interest\n",
    "filtered_data = log2_log10_results.dropna(subset=[f\"{sample}_log2_FC\" for sample in samples_of_interest] + [f\"{sample}_log10_pval\" for sample in samples_of_interest])\n",
    "\n",
    "# Compare the filtered data against the second list of proteins\n",
    "matching_proteins = filtered_data[filtered_data['Protein.Group'].isin(second_list)]\n",
    "matching_proteins.to_csv('matching_proteins.csv', index=False)\n",
    "\n",
    "# Calculate the ratio of significantly changed genes\n",
    "included = matching_proteins.shape[0]\n",
    "total = len(second_list)\n",
    "ratio = included / total\n",
    "\n",
    "print(f\"{included} out of {total} genes in the TCA cycle were significantly changed across strains\")\n",
    "merged_data = pd.merge(matching_proteins, proteins_txt, left_on='Protein.Group', right_on='Gene Accession')\n",
    "\n",
    "# Extract relevant columns\n",
    "columns_to_include = ['Gene Accession', 'Gene name', 'Enzymatic activity'] + [f\"{sample}_log2_FC\" for sample in samples_of_interest] + [f\"{sample}_log10_pval\" for sample in samples_of_interest]\n",
    "locus_genes = merged_data[columns_to_include].drop_duplicates(subset='Gene Accession')\n",
    "\n",
    "# Print the genes by locus with additional information\n",
    "print(\"Those genes were:\")\n",
    "print(locus_genes.to_string(index=False))"
   ]
  },
  {
   "cell_type": "markdown",
   "id": "a84814d0-1814-46df-806d-14d4d24e4f2f",
   "metadata": {},
   "source": [
    "#### Branched Chain AA Superpathway"
   ]
  },
  {
   "cell_type": "code",
   "execution_count": null,
   "id": "a261c9f9-df1e-4bb2-861b-a15ca3f5c8a4",
   "metadata": {},
   "outputs": [],
   "source": [
    "# Define the second list of proteins\n",
    "proteins_txt = pd.read_csv('pathway-genes-BRANCHED-CHAIN-AA-SYN-PWY.txt', delimiter='\\t')  # Adjust the separator if needed\n",
    "proteins_txt = proteins_txt.drop_duplicates(subset='Gene Accession')\n",
    "second_list = proteins_txt['Gene Accession'].tolist()\n",
    "\n",
    "filtered_data = log2_log10_results.dropna(subset=[f\"{sample}_log2_FC\" for sample in samples_of_interest] + [f\"{sample}_log10_pval\" for sample in samples_of_interest])\n",
    "\n",
    "# Compare the filtered data against the second list of proteins\n",
    "matching_proteins = filtered_data[filtered_data['Protein.Group'].isin(second_list)]\n",
    "matching_proteins.to_csv('matching_proteins.csv', index=False)\n",
    "\n",
    "# Calculate the ratio of significantly changed genes\n",
    "included = matching_proteins.shape[0]\n",
    "total = len(second_list)\n",
    "ratio = included / total\n",
    "\n",
    "print(f\"{included} out of {total} genes in the AA superpathway were significantly changed across strains\")\n",
    "# Merge the matching proteins with the proteins_txt DataFrame to get additional information\n",
    "merged_data = pd.merge(matching_proteins, proteins_txt, left_on='Protein.Group', right_on='Gene Accession')\n",
    "\n",
    "# Extract relevant columns\n",
    "# Include columns for p-values and fold changes for the samples of interest\n",
    "columns_to_include = ['Gene Accession', 'Gene name', 'Enzymatic activity'] + [f\"{sample}_log2_FC\" for sample in samples_of_interest] + [f\"{sample}_log10_pval\" for sample in samples_of_interest]\n",
    "locus_genes = merged_data[columns_to_include].drop_duplicates(subset='Gene Accession')\n",
    "\n",
    "\n",
    "# Print the genes by locus with additional information\n",
    "print(\"Those genes were:\")\n",
    "print(locus_genes.to_string(index=False))"
   ]
  },
  {
   "cell_type": "markdown",
   "id": "3bda6918-c5dd-456c-9622-3393ae99fd82",
   "metadata": {},
   "source": [
    "#### Glycolysis Genes"
   ]
  },
  {
   "cell_type": "code",
   "execution_count": null,
   "id": "85589d24-f0cf-4470-b622-e373219cfcc6",
   "metadata": {},
   "outputs": [],
   "source": [
    "# Define the second list of proteins\n",
    "proteins_txt = pd.read_csv('pathway-genes-PWY1G01-2.txt', delimiter='\\t')  # Adjust the separator if needed\n",
    "proteins_txt = proteins_txt.drop_duplicates(subset='Gene Accession')\n",
    "second_list = proteins_txt['Gene Accession'].tolist()\n",
    "\n",
    "filtered_data = log2_log10_results.dropna(subset=[f\"{sample}_log2_FC\" for sample in samples_of_interest] + [f\"{sample}_log10_pval\" for sample in samples_of_interest])\n",
    "\n",
    "# Compare the filtered data against the second list of proteins\n",
    "matching_proteins = filtered_data[filtered_data['Protein.Group'].isin(second_list)]\n",
    "matching_proteins.to_csv('matching_proteins.csv', index=False)\n",
    "\n",
    "# Calculate the ratio of significantly changed genes\n",
    "included = matching_proteins.shape[0]\n",
    "total = len(second_list)\n",
    "ratio = included / total\n",
    "\n",
    "print(f\"{included} out of {total} genes in glycolysis were significantly changed across strains\")\n",
    "# Merge the matching proteins with the proteins_txt DataFrame to get additional information\n",
    "merged_data = pd.merge(matching_proteins, proteins_txt, left_on='Protein.Group', right_on='Gene Accession')\n",
    "\n",
    "# Extract relevant columns and remove duplicates based on 'Gene Accession'\n",
    "# Include columns for p-values and fold changes for the samples of interest\n",
    "columns_to_include = ['Gene Accession', 'Gene name', 'Enzymatic activity'] + [f\"{sample}_log2_FC\" for sample in samples_of_interest] + [f\"{sample}_log10_pval\" for sample in samples_of_interest]\n",
    "locus_genes = merged_data[columns_to_include].drop_duplicates(subset='Gene Accession')\n",
    "\n",
    "# Print the genes by locus with additional information\n",
    "print(\"Those genes were:\")\n",
    "print(locus_genes.to_string(index=False))"
   ]
  },
  {
   "cell_type": "code",
   "execution_count": null,
   "id": "0272dc16-7052-4d44-93cc-c1245a828806",
   "metadata": {},
   "outputs": [],
   "source": []
  }
 ],
 "metadata": {
  "kernelspec": {
   "display_name": "Python 3 (ipykernel)",
   "language": "python",
   "name": "python3"
  },
  "language_info": {
   "codemirror_mode": {
    "name": "ipython",
    "version": 3
   },
   "file_extension": ".py",
   "mimetype": "text/x-python",
   "name": "python",
   "nbconvert_exporter": "python",
   "pygments_lexer": "ipython3",
   "version": "3.10.6"
  }
 },
 "nbformat": 4,
 "nbformat_minor": 5
}
