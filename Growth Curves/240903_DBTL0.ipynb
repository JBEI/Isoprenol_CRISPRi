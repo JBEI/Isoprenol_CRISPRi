{
 "cells": [
  {
   "cell_type": "markdown",
   "id": "9acdeeba-59b4-4e63-872c-08eb49cdf7e9",
   "metadata": {},
   "source": [
    "# Calculating mu_max values from Biolector Runs\n",
    "\n",
    "- All Biolector data must be saved, converted to EDD-compatible file using S. Tan's Collab notebook, then linked to a given EDD study"
   ]
  },
  {
   "cell_type": "code",
   "execution_count": 1,
   "id": "309dd90d-0cfe-478d-8023-74fcad1d44f5",
   "metadata": {
    "tags": []
   },
   "outputs": [],
   "source": [
    "import pandas as pd\n",
    "import numpy as np\n",
    "import statsmodels.api as sm\n",
    "from statsmodels.regression.rolling import RollingOLS\n",
    "import matplotlib.pyplot as plt\n",
    "import seaborn as sns\n",
    "import pandas_datareader as pdr\n",
    "import math\n",
    "import csv\n",
    "\n",
    "# Import EDD utils to import study as pandas dataframe\n",
    "from edd_utils import login, export_study"
   ]
  },
  {
   "cell_type": "code",
   "execution_count": 2,
   "id": "3e5a59ef-77b7-4b37-93aa-5a963bda8471",
   "metadata": {
    "tags": []
   },
   "outputs": [],
   "source": [
    "import pandas as pd\n",
    "import matplotlib.pyplot as plt\n",
    "import seaborn as sns\n",
    "import numpy as np\n",
    "import re\n",
    "from datetime import datetime\n",
    "import seaborn as sns; sns.set(color_codes=True)\n",
    "import ipywidgets as widgets\n",
    "from IPython.display import display\n",
    "from ipywidgets import HBox, Label, Layout ,Button,AppLayout, jslink, IntText, IntSlider\n",
    "import matplotlib.colors as mcolors\n",
    "import plotly.offline as pyo\n",
    "import plotly.graph_objs as go\n",
    "from plotly.subplots import make_subplots\n",
    "import plotly\n",
    "%matplotlib inline"
   ]
  },
  {
   "cell_type": "markdown",
   "id": "0ac55e70-a830-4d0b-a5f4-d1bb0794f265",
   "metadata": {},
   "source": [
    "#### Import the study from EDD using credentials"
   ]
  },
  {
   "cell_type": "code",
   "execution_count": 3,
   "id": "98c64037-5aca-4a8f-82ea-44ede5b5252e",
   "metadata": {},
   "outputs": [],
   "source": [
    "# Create a function which is for entering the URL of EDD study; Taken from EDD Tools\n",
    "def edd_study_url():\n",
    "     \n",
    "#     colors:\n",
    "    class bcolors:\n",
    "        HEADER = '\\033[95m'\n",
    "        FAIL = '\\033[91m'\n",
    "        BOLD = '\\033[1m'\n",
    "        \n",
    "    while True:\n",
    "        try:\n",
    "            user_edd_study_url = input(\"Please enter EDD STUDY URL: \").lower()\n",
    "            user_edd_study_url = user_edd_study_url.replace(\" \",\"\")\n",
    "            if \"/s/\" not in user_edd_study_url:\n",
    "                raise ValueError()\n",
    "            else:\n",
    "                break\n",
    "        except ValueError:\n",
    "            print(f\"{bcolors.HEADER}{bcolors.BOLD}PLEASE TRY AGAIN\")\n",
    "            \n",
    "            \n",
    "    url_parts = user_edd_study_url.split(\"/\")    \n",
    "    s_index = url_parts.index(\"s\")\n",
    "    edd_server = url_parts[s_index-1]\n",
    "    study_slug = url_parts[s_index+1]\n",
    "    final_url_parts = [edd_server, study_slug]\n",
    "\n",
    "    return final_url_parts"
   ]
  },
  {
   "cell_type": "code",
   "execution_count": 4,
   "id": "dce021b7-0aac-4024-89a4-922363ef1a91",
   "metadata": {},
   "outputs": [],
   "source": [
    "# Create a function which is for entering the URL of EDD study; Taken from EDD Tools\n",
    "def edd_user_name(\n",
    "    )->str:\n",
    "\n",
    "    while True:\n",
    "        try:\n",
    "            user_name = input(\"Please enter EDD User Name: \").lower()\n",
    "            user_name = user_name.replace(\" \",\"\")\n",
    "            break\n",
    "        except ValueError:\n",
    "            print(f\"{bcolors.HEADER}{bcolors.BOLD}PLEASE TRY AGAIN\")\n",
    "        \n",
    "    return user_name"
   ]
  },
  {
   "cell_type": "code",
   "execution_count": 5,
   "id": "19969587-1cf6-4e18-97a6-d3b571665cfb",
   "metadata": {},
   "outputs": [
    {
     "name": "stdin",
     "output_type": "stream",
     "text": [
      "Please enter EDD STUDY URL:  https://edd.jbei.org/s/crispri-automation-for-enhanced-isoprenol-pro-096d/\n"
     ]
    }
   ],
   "source": [
    "#User input requested\n",
    "final_url_parts = edd_study_url()\n",
    "\n",
    "#Media DBTL0: https://edd.jbei.org/s/p-putida-crispri-media-optimization-dbtl0-2ea4/\n",
    "#KOs P1+P2: https://edd.jbei.org/s/crispri-automation-for-enhanced-isoprenol-pro-e817/\n",
    "#DBTL0 https://edd.jbei.org/s/crispri-automation-for-enhanced-isoprenol-pro-096d/\n"
   ]
  },
  {
   "cell_type": "code",
   "execution_count": 6,
   "id": "b2783749-9f73-4f44-acf9-60974681a150",
   "metadata": {},
   "outputs": [
    {
     "name": "stdin",
     "output_type": "stream",
     "text": [
      "Please enter EDD User Name:  carruthers\n"
     ]
    }
   ],
   "source": [
    "# Parse EDD STUDY URL for edd_utils\n",
    "edd_server = final_url_parts[0]\n",
    "study_slug = final_url_parts[1]\n",
    "\n",
    "user_name = edd_user_name()"
   ]
  },
  {
   "cell_type": "code",
   "execution_count": 7,
   "id": "7964eaee-9a5e-4381-8bd8-216deb267bf4",
   "metadata": {},
   "outputs": [
    {
     "name": "stdin",
     "output_type": "stream",
     "text": [
      "Password for carruthers:  ········\n"
     ]
    }
   ],
   "source": [
    "# Create EDD session\n",
    "session = login(edd_server=edd_server, user=user_name)"
   ]
  },
  {
   "cell_type": "code",
   "execution_count": 8,
   "id": "702055a5-31c4-42bc-ba30-8fa6cc1ce4ba",
   "metadata": {},
   "outputs": [
    {
     "data": {
      "application/vnd.jupyter.widget-view+json": {
       "model_id": "9a4ec4ff537642d8abd7eb006e06b51a",
       "version_major": 2,
       "version_minor": 0
      },
      "text/plain": [
       "  0%|          | 0/1033140 [00:00<?, ?it/s]"
      ]
     },
     "metadata": {},
     "output_type": "display_data"
    }
   ],
   "source": [
    "df = export_study(session, study_slug, edd_server=edd_server)"
   ]
  },
  {
   "cell_type": "code",
   "execution_count": 9,
   "id": "ad6e4f4a-96a2-4a53-8fcc-08a723a59d84",
   "metadata": {},
   "outputs": [],
   "source": [
    "study_name = df[\"Study Name\"][0]\n",
    "study_name = re.sub('\\W+','_', study_name )\n",
    "study_name\n",
    "df2=df.copy()"
   ]
  },
  {
   "cell_type": "code",
   "execution_count": 10,
   "id": "da0d8238-3df7-4624-8b7d-a5056c8e6d11",
   "metadata": {
    "tags": []
   },
   "outputs": [],
   "source": [
    "# Including 'Protocol' and 'Units'\n",
    "excluded_columns = ['Study ID', 'Study Name', 'Study Description', 'Study Contact',\n",
    "       'Line ID', 'Control', 'Strain(s)',\n",
    "       'Carbon Source(s)', 'Line Experimenter', 'Line Contact', 'Media',\n",
    "       'Protocol ID', 'Protocol Name', 'Assay ID', \n",
    "       'Measurement Updated','Compartment','Replicate Key','Formal Type']\n",
    "\n",
    "#'Line Description'"
   ]
  },
  {
   "cell_type": "code",
   "execution_count": 11,
   "id": "31c4b6ad-cd3b-45bb-b11b-cc32e694dcda",
   "metadata": {},
   "outputs": [
    {
     "data": {
      "text/html": [
       "<div>\n",
       "<style scoped>\n",
       "    .dataframe tbody tr th:only-of-type {\n",
       "        vertical-align: middle;\n",
       "    }\n",
       "\n",
       "    .dataframe tbody tr th {\n",
       "        vertical-align: top;\n",
       "    }\n",
       "\n",
       "    .dataframe thead th {\n",
       "        text-align: right;\n",
       "    }\n",
       "</style>\n",
       "<table border=\"1\" class=\"dataframe\">\n",
       "  <thead>\n",
       "    <tr style=\"text-align: right;\">\n",
       "      <th></th>\n",
       "      <th>Line Name</th>\n",
       "      <th>Line Description</th>\n",
       "      <th>Protocol</th>\n",
       "      <th>Assay Name</th>\n",
       "      <th>Measurement Type</th>\n",
       "      <th>Units</th>\n",
       "      <th>Value</th>\n",
       "      <th>Hours</th>\n",
       "    </tr>\n",
       "  </thead>\n",
       "  <tbody>\n",
       "    <tr>\n",
       "      <th>1033135</th>\n",
       "      <td>PP_5416-R2</td>\n",
       "      <td>BL10B5_IY2022</td>\n",
       "      <td>Global Proteomics</td>\n",
       "      <td>PP_5416-R2</td>\n",
       "      <td>Probable cysteine desulfurase</td>\n",
       "      <td>counts</td>\n",
       "      <td>1051686.97</td>\n",
       "      <td>48.0</td>\n",
       "    </tr>\n",
       "    <tr>\n",
       "      <th>1033136</th>\n",
       "      <td>PP_5416-R3</td>\n",
       "      <td>BL10C5_IY2022</td>\n",
       "      <td>Global Proteomics</td>\n",
       "      <td>PP_5416-R3</td>\n",
       "      <td>Probable cysteine desulfurase</td>\n",
       "      <td>counts</td>\n",
       "      <td>992141.10</td>\n",
       "      <td>48.0</td>\n",
       "    </tr>\n",
       "    <tr>\n",
       "      <th>1033137</th>\n",
       "      <td>PP_5420-R1</td>\n",
       "      <td>BL10A4_IY2019</td>\n",
       "      <td>Global Proteomics</td>\n",
       "      <td>PP_5420-R1</td>\n",
       "      <td>Probable cysteine desulfurase</td>\n",
       "      <td>counts</td>\n",
       "      <td>594914.52</td>\n",
       "      <td>48.0</td>\n",
       "    </tr>\n",
       "    <tr>\n",
       "      <th>1033138</th>\n",
       "      <td>PP_5420-R2</td>\n",
       "      <td>BL10B4_IY2019</td>\n",
       "      <td>Global Proteomics</td>\n",
       "      <td>PP_5420-R2</td>\n",
       "      <td>Probable cysteine desulfurase</td>\n",
       "      <td>counts</td>\n",
       "      <td>386573.66</td>\n",
       "      <td>48.0</td>\n",
       "    </tr>\n",
       "    <tr>\n",
       "      <th>1033139</th>\n",
       "      <td>PP_5420-R3</td>\n",
       "      <td>BL10C4_IY2019</td>\n",
       "      <td>Global Proteomics</td>\n",
       "      <td>PP_5420-R3</td>\n",
       "      <td>Probable cysteine desulfurase</td>\n",
       "      <td>counts</td>\n",
       "      <td>1419732.20</td>\n",
       "      <td>48.0</td>\n",
       "    </tr>\n",
       "  </tbody>\n",
       "</table>\n",
       "</div>"
      ],
      "text/plain": [
       "          Line Name Line Description           Protocol  Assay Name  \\\n",
       "1033135  PP_5416-R2    BL10B5_IY2022  Global Proteomics  PP_5416-R2   \n",
       "1033136  PP_5416-R3    BL10C5_IY2022  Global Proteomics  PP_5416-R3   \n",
       "1033137  PP_5420-R1    BL10A4_IY2019  Global Proteomics  PP_5420-R1   \n",
       "1033138  PP_5420-R2    BL10B4_IY2019  Global Proteomics  PP_5420-R2   \n",
       "1033139  PP_5420-R3    BL10C4_IY2019  Global Proteomics  PP_5420-R3   \n",
       "\n",
       "                      Measurement Type   Units       Value  Hours  \n",
       "1033135  Probable cysteine desulfurase  counts  1051686.97   48.0  \n",
       "1033136  Probable cysteine desulfurase  counts   992141.10   48.0  \n",
       "1033137  Probable cysteine desulfurase  counts   594914.52   48.0  \n",
       "1033138  Probable cysteine desulfurase  counts   386573.66   48.0  \n",
       "1033139  Probable cysteine desulfurase  counts  1419732.20   48.0  "
      ]
     },
     "execution_count": 11,
     "metadata": {},
     "output_type": "execute_result"
    }
   ],
   "source": [
    "def parse_edd_study(df):\n",
    "    df = df.loc[:,~df.columns.isin(excluded_columns)]\n",
    "    return df\n",
    "\n",
    "df = parse_edd_study(df)\n",
    "df.tail()"
   ]
  },
  {
   "cell_type": "code",
   "execution_count": 16,
   "id": "e507b06d-6ed0-4eb9-9c8c-f83113bb7a74",
   "metadata": {
    "tags": []
   },
   "outputs": [
    {
     "data": {
      "text/html": [
       "<div>\n",
       "<style scoped>\n",
       "    .dataframe tbody tr th:only-of-type {\n",
       "        vertical-align: middle;\n",
       "    }\n",
       "\n",
       "    .dataframe tbody tr th {\n",
       "        vertical-align: top;\n",
       "    }\n",
       "\n",
       "    .dataframe thead th {\n",
       "        text-align: right;\n",
       "    }\n",
       "</style>\n",
       "<table border=\"1\" class=\"dataframe\">\n",
       "  <thead>\n",
       "    <tr style=\"text-align: right;\">\n",
       "      <th></th>\n",
       "      <th>Line Name</th>\n",
       "      <th>Measurement Type</th>\n",
       "      <th>Time</th>\n",
       "      <th>Value</th>\n",
       "      <th>Units</th>\n",
       "    </tr>\n",
       "  </thead>\n",
       "  <tbody>\n",
       "  </tbody>\n",
       "</table>\n",
       "</div>"
      ],
      "text/plain": [
       "Empty DataFrame\n",
       "Columns: [Line Name, Measurement Type, Time, Value, Units]\n",
       "Index: []"
      ]
     },
     "execution_count": 16,
     "metadata": {},
     "output_type": "execute_result"
    }
   ],
   "source": [
    "protocol_type = 'OD600'  # replace with the actual assay name you're filtering for\n",
    "\n",
    "# Filter and reorder the columns\n",
    "df_filtered = df.loc[df['Protocol'] == protocol_type, ['Line Name', 'Measurement Type', 'Hours','Value', 'Units']]\n",
    "df_renamed = df_filtered.rename(columns={\n",
    "    \"Hours\":\"Time\"})\n",
    "df_renamed.reset_index(drop=True, inplace=True)\n",
    "df_renamed.head()"
   ]
  },
  {
   "cell_type": "markdown",
   "id": "56293610-82e2-43e8-8fa2-74c69e4f8b92",
   "metadata": {},
   "source": [
    "### Perform analysis with a rolling window of 60 time points"
   ]
  },
  {
   "cell_type": "code",
   "execution_count": 13,
   "id": "884933f0-7953-40d7-a132-79a2b876ffdb",
   "metadata": {
    "tags": []
   },
   "outputs": [
    {
     "ename": "ValueError",
     "evalue": "Number of rows must be a positive integer, not 0",
     "output_type": "error",
     "traceback": [
      "\u001b[1;31m---------------------------------------------------------------------------\u001b[0m",
      "\u001b[1;31mValueError\u001b[0m                                Traceback (most recent call last)",
      "Cell \u001b[1;32mIn[13], line 9\u001b[0m\n\u001b[0;32m      6\u001b[0m strains \u001b[38;5;241m=\u001b[39m df1[\u001b[38;5;124m'\u001b[39m\u001b[38;5;124mLine Name\u001b[39m\u001b[38;5;124m'\u001b[39m]\u001b[38;5;241m.\u001b[39munique()\n\u001b[0;32m      7\u001b[0m size\u001b[38;5;241m=\u001b[39m\u001b[38;5;28mlen\u001b[39m(strains)\n\u001b[1;32m----> 9\u001b[0m fig, axs \u001b[38;5;241m=\u001b[39m \u001b[43mplt\u001b[49m\u001b[38;5;241;43m.\u001b[39;49m\u001b[43msubplots\u001b[49m\u001b[43m(\u001b[49m\u001b[38;5;28;43mint\u001b[39;49m\u001b[43m(\u001b[49m\u001b[43msize\u001b[49m\u001b[38;5;241;43m/\u001b[39;49m\u001b[38;5;241;43m12\u001b[39;49m\u001b[43m)\u001b[49m\u001b[43m,\u001b[49m\u001b[43m \u001b[49m\u001b[38;5;241;43m12\u001b[39;49m\u001b[43m,\u001b[49m\u001b[43m \u001b[49m\u001b[43mfigsize\u001b[49m\u001b[38;5;241;43m=\u001b[39;49m\u001b[43m(\u001b[49m\u001b[38;5;241;43m21\u001b[39;49m\u001b[43m,\u001b[49m\u001b[43m \u001b[49m\u001b[38;5;241;43m14\u001b[39;49m\u001b[43m)\u001b[49m\u001b[43m,\u001b[49m\u001b[43msharey\u001b[49m\u001b[38;5;241;43m=\u001b[39;49m\u001b[38;5;28;43;01mTrue\u001b[39;49;00m\u001b[43m,\u001b[49m\u001b[43m \u001b[49m\u001b[43msharex\u001b[49m\u001b[38;5;241;43m=\u001b[39;49m\u001b[38;5;28;43;01mTrue\u001b[39;49;00m\u001b[43m)\u001b[49m \n\u001b[0;32m     11\u001b[0m nrow \u001b[38;5;241m=\u001b[39m math\u001b[38;5;241m.\u001b[39mceil(size\u001b[38;5;241m/\u001b[39m\u001b[38;5;241m4\u001b[39m)\n\u001b[0;32m     12\u001b[0m ncol \u001b[38;5;241m=\u001b[39m \u001b[38;5;241m4\u001b[39m\n",
      "File \u001b[1;32m~\\AppData\\Local\\Programs\\Python\\Python310\\lib\\site-packages\\matplotlib\\pyplot.py:1703\u001b[0m, in \u001b[0;36msubplots\u001b[1;34m(nrows, ncols, sharex, sharey, squeeze, width_ratios, height_ratios, subplot_kw, gridspec_kw, **fig_kw)\u001b[0m\n\u001b[0;32m   1559\u001b[0m \u001b[38;5;250m\u001b[39m\u001b[38;5;124;03m\"\"\"\u001b[39;00m\n\u001b[0;32m   1560\u001b[0m \u001b[38;5;124;03mCreate a figure and a set of subplots.\u001b[39;00m\n\u001b[0;32m   1561\u001b[0m \n\u001b[1;32m   (...)\u001b[0m\n\u001b[0;32m   1700\u001b[0m \n\u001b[0;32m   1701\u001b[0m \u001b[38;5;124;03m\"\"\"\u001b[39;00m\n\u001b[0;32m   1702\u001b[0m fig \u001b[38;5;241m=\u001b[39m figure(\u001b[38;5;241m*\u001b[39m\u001b[38;5;241m*\u001b[39mfig_kw)\n\u001b[1;32m-> 1703\u001b[0m axs \u001b[38;5;241m=\u001b[39m \u001b[43mfig\u001b[49m\u001b[38;5;241;43m.\u001b[39;49m\u001b[43msubplots\u001b[49m\u001b[43m(\u001b[49m\u001b[43mnrows\u001b[49m\u001b[38;5;241;43m=\u001b[39;49m\u001b[43mnrows\u001b[49m\u001b[43m,\u001b[49m\u001b[43m \u001b[49m\u001b[43mncols\u001b[49m\u001b[38;5;241;43m=\u001b[39;49m\u001b[43mncols\u001b[49m\u001b[43m,\u001b[49m\u001b[43m \u001b[49m\u001b[43msharex\u001b[49m\u001b[38;5;241;43m=\u001b[39;49m\u001b[43msharex\u001b[49m\u001b[43m,\u001b[49m\u001b[43m \u001b[49m\u001b[43msharey\u001b[49m\u001b[38;5;241;43m=\u001b[39;49m\u001b[43msharey\u001b[49m\u001b[43m,\u001b[49m\n\u001b[0;32m   1704\u001b[0m \u001b[43m                   \u001b[49m\u001b[43msqueeze\u001b[49m\u001b[38;5;241;43m=\u001b[39;49m\u001b[43msqueeze\u001b[49m\u001b[43m,\u001b[49m\u001b[43m \u001b[49m\u001b[43msubplot_kw\u001b[49m\u001b[38;5;241;43m=\u001b[39;49m\u001b[43msubplot_kw\u001b[49m\u001b[43m,\u001b[49m\n\u001b[0;32m   1705\u001b[0m \u001b[43m                   \u001b[49m\u001b[43mgridspec_kw\u001b[49m\u001b[38;5;241;43m=\u001b[39;49m\u001b[43mgridspec_kw\u001b[49m\u001b[43m,\u001b[49m\u001b[43m \u001b[49m\u001b[43mheight_ratios\u001b[49m\u001b[38;5;241;43m=\u001b[39;49m\u001b[43mheight_ratios\u001b[49m\u001b[43m,\u001b[49m\n\u001b[0;32m   1706\u001b[0m \u001b[43m                   \u001b[49m\u001b[43mwidth_ratios\u001b[49m\u001b[38;5;241;43m=\u001b[39;49m\u001b[43mwidth_ratios\u001b[49m\u001b[43m)\u001b[49m\n\u001b[0;32m   1707\u001b[0m \u001b[38;5;28;01mreturn\u001b[39;00m fig, axs\n",
      "File \u001b[1;32m~\\AppData\\Local\\Programs\\Python\\Python310\\lib\\site-packages\\matplotlib\\figure.py:858\u001b[0m, in \u001b[0;36mFigureBase.subplots\u001b[1;34m(self, nrows, ncols, sharex, sharey, squeeze, width_ratios, height_ratios, subplot_kw, gridspec_kw)\u001b[0m\n\u001b[0;32m    854\u001b[0m         \u001b[38;5;28;01mraise\u001b[39;00m \u001b[38;5;167;01mValueError\u001b[39;00m(\u001b[38;5;124m\"\u001b[39m\u001b[38;5;124m'\u001b[39m\u001b[38;5;124mwidth_ratios\u001b[39m\u001b[38;5;124m'\u001b[39m\u001b[38;5;124m must not be defined both as \u001b[39m\u001b[38;5;124m\"\u001b[39m\n\u001b[0;32m    855\u001b[0m                          \u001b[38;5;124m\"\u001b[39m\u001b[38;5;124mparameter and as key in \u001b[39m\u001b[38;5;124m'\u001b[39m\u001b[38;5;124mgridspec_kw\u001b[39m\u001b[38;5;124m'\u001b[39m\u001b[38;5;124m\"\u001b[39m)\n\u001b[0;32m    856\u001b[0m     gridspec_kw[\u001b[38;5;124m'\u001b[39m\u001b[38;5;124mwidth_ratios\u001b[39m\u001b[38;5;124m'\u001b[39m] \u001b[38;5;241m=\u001b[39m width_ratios\n\u001b[1;32m--> 858\u001b[0m gs \u001b[38;5;241m=\u001b[39m \u001b[38;5;28mself\u001b[39m\u001b[38;5;241m.\u001b[39madd_gridspec(nrows, ncols, figure\u001b[38;5;241m=\u001b[39m\u001b[38;5;28mself\u001b[39m, \u001b[38;5;241m*\u001b[39m\u001b[38;5;241m*\u001b[39mgridspec_kw)\n\u001b[0;32m    859\u001b[0m axs \u001b[38;5;241m=\u001b[39m gs\u001b[38;5;241m.\u001b[39msubplots(sharex\u001b[38;5;241m=\u001b[39msharex, sharey\u001b[38;5;241m=\u001b[39msharey, squeeze\u001b[38;5;241m=\u001b[39msqueeze,\n\u001b[0;32m    860\u001b[0m                   subplot_kw\u001b[38;5;241m=\u001b[39msubplot_kw)\n\u001b[0;32m    861\u001b[0m \u001b[38;5;28;01mreturn\u001b[39;00m axs\n",
      "File \u001b[1;32m~\\AppData\\Local\\Programs\\Python\\Python310\\lib\\site-packages\\matplotlib\\figure.py:1536\u001b[0m, in \u001b[0;36mFigureBase.add_gridspec\u001b[1;34m(self, nrows, ncols, **kwargs)\u001b[0m\n\u001b[0;32m   1493\u001b[0m \u001b[38;5;250m\u001b[39m\u001b[38;5;124;03m\"\"\"\u001b[39;00m\n\u001b[0;32m   1494\u001b[0m \u001b[38;5;124;03mLow-level API for creating a `.GridSpec` that has this figure as a parent.\u001b[39;00m\n\u001b[0;32m   1495\u001b[0m \n\u001b[1;32m   (...)\u001b[0m\n\u001b[0;32m   1532\u001b[0m \n\u001b[0;32m   1533\u001b[0m \u001b[38;5;124;03m\"\"\"\u001b[39;00m\n\u001b[0;32m   1535\u001b[0m _ \u001b[38;5;241m=\u001b[39m kwargs\u001b[38;5;241m.\u001b[39mpop(\u001b[38;5;124m'\u001b[39m\u001b[38;5;124mfigure\u001b[39m\u001b[38;5;124m'\u001b[39m, \u001b[38;5;28;01mNone\u001b[39;00m)  \u001b[38;5;66;03m# pop in case user has added this...\u001b[39;00m\n\u001b[1;32m-> 1536\u001b[0m gs \u001b[38;5;241m=\u001b[39m GridSpec(nrows\u001b[38;5;241m=\u001b[39mnrows, ncols\u001b[38;5;241m=\u001b[39mncols, figure\u001b[38;5;241m=\u001b[39m\u001b[38;5;28mself\u001b[39m, \u001b[38;5;241m*\u001b[39m\u001b[38;5;241m*\u001b[39mkwargs)\n\u001b[0;32m   1537\u001b[0m \u001b[38;5;28;01mreturn\u001b[39;00m gs\n",
      "File \u001b[1;32m~\\AppData\\Local\\Programs\\Python\\Python310\\lib\\site-packages\\matplotlib\\gridspec.py:363\u001b[0m, in \u001b[0;36mGridSpec.__init__\u001b[1;34m(self, nrows, ncols, figure, left, bottom, right, top, wspace, hspace, width_ratios, height_ratios)\u001b[0m\n\u001b[0;32m    360\u001b[0m \u001b[38;5;28mself\u001b[39m\u001b[38;5;241m.\u001b[39mhspace \u001b[38;5;241m=\u001b[39m hspace\n\u001b[0;32m    361\u001b[0m \u001b[38;5;28mself\u001b[39m\u001b[38;5;241m.\u001b[39mfigure \u001b[38;5;241m=\u001b[39m figure\n\u001b[1;32m--> 363\u001b[0m \u001b[38;5;28;43msuper\u001b[39;49m\u001b[43m(\u001b[49m\u001b[43m)\u001b[49m\u001b[38;5;241;43m.\u001b[39;49m\u001b[38;5;21;43m__init__\u001b[39;49m\u001b[43m(\u001b[49m\u001b[43mnrows\u001b[49m\u001b[43m,\u001b[49m\u001b[43m \u001b[49m\u001b[43mncols\u001b[49m\u001b[43m,\u001b[49m\n\u001b[0;32m    364\u001b[0m \u001b[43m                 \u001b[49m\u001b[43mwidth_ratios\u001b[49m\u001b[38;5;241;43m=\u001b[39;49m\u001b[43mwidth_ratios\u001b[49m\u001b[43m,\u001b[49m\n\u001b[0;32m    365\u001b[0m \u001b[43m                 \u001b[49m\u001b[43mheight_ratios\u001b[49m\u001b[38;5;241;43m=\u001b[39;49m\u001b[43mheight_ratios\u001b[49m\u001b[43m)\u001b[49m\n",
      "File \u001b[1;32m~\\AppData\\Local\\Programs\\Python\\Python310\\lib\\site-packages\\matplotlib\\gridspec.py:48\u001b[0m, in \u001b[0;36mGridSpecBase.__init__\u001b[1;34m(self, nrows, ncols, height_ratios, width_ratios)\u001b[0m\n\u001b[0;32m     33\u001b[0m \u001b[38;5;250m\u001b[39m\u001b[38;5;124;03m\"\"\"\u001b[39;00m\n\u001b[0;32m     34\u001b[0m \u001b[38;5;124;03mParameters\u001b[39;00m\n\u001b[0;32m     35\u001b[0m \u001b[38;5;124;03m----------\u001b[39;00m\n\u001b[1;32m   (...)\u001b[0m\n\u001b[0;32m     45\u001b[0m \u001b[38;5;124;03m    If not given, all rows will have the same height.\u001b[39;00m\n\u001b[0;32m     46\u001b[0m \u001b[38;5;124;03m\"\"\"\u001b[39;00m\n\u001b[0;32m     47\u001b[0m \u001b[38;5;28;01mif\u001b[39;00m \u001b[38;5;129;01mnot\u001b[39;00m \u001b[38;5;28misinstance\u001b[39m(nrows, Integral) \u001b[38;5;129;01mor\u001b[39;00m nrows \u001b[38;5;241m<\u001b[39m\u001b[38;5;241m=\u001b[39m \u001b[38;5;241m0\u001b[39m:\n\u001b[1;32m---> 48\u001b[0m     \u001b[38;5;28;01mraise\u001b[39;00m \u001b[38;5;167;01mValueError\u001b[39;00m(\n\u001b[0;32m     49\u001b[0m         \u001b[38;5;124mf\u001b[39m\u001b[38;5;124m\"\u001b[39m\u001b[38;5;124mNumber of rows must be a positive integer, not \u001b[39m\u001b[38;5;132;01m{\u001b[39;00mnrows\u001b[38;5;132;01m!r}\u001b[39;00m\u001b[38;5;124m\"\u001b[39m)\n\u001b[0;32m     50\u001b[0m \u001b[38;5;28;01mif\u001b[39;00m \u001b[38;5;129;01mnot\u001b[39;00m \u001b[38;5;28misinstance\u001b[39m(ncols, Integral) \u001b[38;5;129;01mor\u001b[39;00m ncols \u001b[38;5;241m<\u001b[39m\u001b[38;5;241m=\u001b[39m \u001b[38;5;241m0\u001b[39m:\n\u001b[0;32m     51\u001b[0m     \u001b[38;5;28;01mraise\u001b[39;00m \u001b[38;5;167;01mValueError\u001b[39;00m(\n\u001b[0;32m     52\u001b[0m         \u001b[38;5;124mf\u001b[39m\u001b[38;5;124m\"\u001b[39m\u001b[38;5;124mNumber of columns must be a positive integer, not \u001b[39m\u001b[38;5;132;01m{\u001b[39;00mncols\u001b[38;5;132;01m!r}\u001b[39;00m\u001b[38;5;124m\"\u001b[39m)\n",
      "\u001b[1;31mValueError\u001b[0m: Number of rows must be a positive integer, not 0"
     ]
    },
    {
     "data": {
      "text/plain": [
       "<Figure size 2100x1400 with 0 Axes>"
      ]
     },
     "metadata": {},
     "output_type": "display_data"
    }
   ],
   "source": [
    "FILE='DBTL0/DBTL0.1.csv'\n",
    "df1=df_renamed.copy()\n",
    "\n",
    "Line_Name = {}\n",
    "data = []\n",
    "strains = df1['Line Name'].unique()\n",
    "size=len(strains)\n",
    "\n",
    "fig, axs = plt.subplots(int(size/12), 12, figsize=(21, 14),sharey=True, sharex=True) \n",
    "\n",
    "nrow = math.ceil(size/4)\n",
    "ncol = 4\n",
    "\n",
    "for strain in strains:\n",
    "    Line_Name[strain]=df1[df1['Line Name']==strain]\n",
    "    \n",
    "for k, strain in enumerate(strains,start=1):\n",
    "    nlog=np.log(Line_Name[strain]['Value'])\n",
    "    time=Line_Name[strain]['Time']\n",
    "\n",
    "    df1 = pd.concat([time, nlog], axis=1)\n",
    "    time_range2=np.arange(0,len(df1['Time']))*5\n",
    "    \n",
    "    slopes=[]\n",
    "    r2s=[]\n",
    "    pvals=[]\n",
    "    intercepts=[]\n",
    "    rolling_window = 60\n",
    "    \n",
    "    # Perform rolling linear regression\n",
    "    for i in range(len(df1) - rolling_window + 1):\n",
    "        subset = df1.iloc[i:i+rolling_window]\n",
    "        X = sm.add_constant(subset['Time'])  # Add a constant term for the intercept\n",
    "        y = subset['Value']\n",
    "        model = sm.OLS(y, X).fit()\n",
    "        \n",
    "        slope = model.params['Time']  # Get the slope coefficient\n",
    "        slopes.append(slope)\n",
    "        intercept = model.params['const'] # Get the intercept\n",
    "        intercepts.append(intercept)\n",
    "        r2=model.rsquared\n",
    "        r2s.append(r2)\n",
    "        pval=model.pvalues\n",
    "        pvals.append(pval)\n",
    "\n",
    "    max1=max(slopes)\n",
    "    umax_pos=(slopes.index(max(slopes)))\n",
    "    pval=pvals[umax_pos]\n",
    "    r2=r2s[umax_pos]\n",
    "    intercept=intercepts[umax_pos]\n",
    "    y_pred = max1*time+intercept\n",
    "    \n",
    "    result=(strain, max1, r2)\n",
    "    print(result)\n",
    "\n",
    "    data.append(result)\n",
    "    \n",
    "    ax=axs.flatten()[k-1]\n",
    "    ax.set_title(strain, size=10)\n",
    "    ax.plot(time_range2, nlog)\n",
    "    ax.plot(time_range2, y_pred)\n",
    "    ax.set_ylim([0, 4])\n",
    "    plt.tight_layout()"
   ]
  },
  {
   "cell_type": "code",
   "execution_count": null,
   "id": "f5e6730f-5ee2-4465-be2c-1f191d77571d",
   "metadata": {
    "tags": []
   },
   "outputs": [],
   "source": [
    "df_output = pd.DataFrame(data)\n",
    "\n",
    "# Filename for the output CSV file\n",
    "filename = \"240903_KOs_P1+P2.csv\"\n",
    "\n",
    "# Save DataFrame to CSV\n",
    "df_output.to_csv(filename, index=False)\n",
    "\n",
    "print(f\"Data has been written to {filename}\")"
   ]
  },
  {
   "cell_type": "code",
   "execution_count": null,
   "id": "7f4d7a05-bb63-42f1-840f-d5e9aca8fa6e",
   "metadata": {
    "tags": []
   },
   "outputs": [],
   "source": [
    "df1=df_renamed.copy()\n",
    "Line_Name = {}\n",
    "data = []\n",
    "strains = df1['Line Name'].unique()\n",
    "size=len(strains)\n",
    "\n",
    "fig, axs = plt.subplots(int(size/12), 12, figsize=(21, 14),sharey=True, sharex=True) \n",
    "\n",
    "nrow = math.ceil(size/4)\n",
    "ncol = 4\n",
    "for strain in strains:\n",
    "    Line_Name[strain]=df1[df1['Line Name']==strain]\n",
    "\n",
    "for k, strain in enumerate(strains,start=1):\n",
    "    nlog=np.log(Line_Name[strain]['Value'])\n",
    "    time=Line_Name[strain]['Time']\n",
    "\n",
    "    df1 = pd.concat([time, nlog], axis=1)\n",
    "    time_range2=np.arange(0,len(df1['Time']))\n",
    "    \n",
    "    slopes=[]\n",
    "    r2s=[]\n",
    "    pvals=[]\n",
    "    intercepts=[]\n",
    "    rolling_window = 40\n",
    "    \n",
    "    # Perform rolling linear regression\n",
    "    for i in range(len(df1) - rolling_window + 1):\n",
    "        subset = df1.iloc[i:i+rolling_window]\n",
    "        X = sm.add_constant(subset['Time'])  # Add a constant term for the intercept\n",
    "        y = subset['Value']\n",
    "        model = sm.OLS(y, X).fit()\n",
    "        \n",
    "        slope = model.params['Time']  # Get the slope coefficient\n",
    "        slopes.append(slope)\n",
    "        intercept = model.params['const'] # Get the intercept\n",
    "        intercepts.append(intercept)\n",
    "        r2=model.rsquared\n",
    "        r2s.append(r2)\n",
    "        pval=model.pvalues\n",
    "        pvals.append(pval)\n",
    "\n",
    "    max1=max(slopes)\n",
    "    umax_pos=(slopes.index(max(slopes)))\n",
    "    pval=pvals[umax_pos]\n",
    "    r2=r2s[umax_pos]\n",
    "    intercept=intercepts[umax_pos]\n",
    "    y_pred = max1*time+intercept\n",
    "\n",
    "    ax=axs.flatten()[k-1]\n",
    "    ax.set_title(strain, size=10)\n",
    "    ax.plot(r2s)\n",
    "    plt.tight_layout()"
   ]
  },
  {
   "cell_type": "code",
   "execution_count": null,
   "id": "b34438f7-47ec-4a47-a8c2-50ba02b21056",
   "metadata": {
    "tags": []
   },
   "outputs": [],
   "source": [
    "df1=df_renamed.copy()\n",
    "Line_Name = {}\n",
    "data = []\n",
    "strains = df1['Line Name'].unique()\n",
    "size=len(strains)\n",
    "\n",
    "fig, axs = plt.subplots(int(size/12), 12, figsize=(21, 14),sharey=True, sharex=True) \n",
    "\n",
    "for strain in strains:\n",
    "    Line_Name[strain]=df1[df1['Line Name']==strain]\n",
    "\n",
    "for k, strain in enumerate(strains,start=1):\n",
    "    nlog=np.log(Line_Name[strain]['Value'])\n",
    "    time=Line_Name[strain]['Time']\n",
    "\n",
    "    df1 = pd.concat([time, nlog], axis=1)\n",
    "    time_range2=np.arange(0,len(df1['Time']))\n",
    "    \n",
    "    slopes=[]\n",
    "    r2s=[]\n",
    "    pvals=[]\n",
    "    intercepts=[]\n",
    "    rolling_window = 40\n",
    "    \n",
    "    # Perform rolling linear regression\n",
    "    for i in range(len(df1) - rolling_window + 1):\n",
    "        subset = df1.iloc[i:i+rolling_window]\n",
    "        X = sm.add_constant(subset['Time'])  # Add a constant term for the intercept\n",
    "        y = subset['Value']\n",
    "        model = sm.OLS(y, X).fit()\n",
    "        \n",
    "        slope = model.params['Time']  # Get the slope coefficient\n",
    "        slopes.append(slope)\n",
    "        intercept = model.params['const'] # Get the intercept\n",
    "        intercepts.append(intercept)\n",
    "        r2=model.rsquared\n",
    "        r2s.append(r2)\n",
    "        pval=model.pvalues\n",
    "        pvals.append(pval)\n",
    "\n",
    "    max1=max(slopes)\n",
    "    umax_pos=(slopes.index(max(slopes)))\n",
    "    pval=pvals[umax_pos]\n",
    "    r2=r2s[umax_pos]\n",
    "    intercept=intercepts[umax_pos]\n",
    "    y_pred = max1*time+intercept\n",
    "\n",
    "    ax=axs.flatten()[k-1]\n",
    "    ax.set_title(strain, size=10)\n",
    "    ax.plot(slopes)\n",
    "    plt.tight_layout()"
   ]
  },
  {
   "cell_type": "code",
   "execution_count": null,
   "id": "efd36dc2-e0f4-48ed-9b60-59f9033e8b03",
   "metadata": {},
   "outputs": [],
   "source": []
  }
 ],
 "metadata": {
  "kernelspec": {
   "display_name": "Python 3 (ipykernel)",
   "language": "python",
   "name": "python3"
  },
  "language_info": {
   "codemirror_mode": {
    "name": "ipython",
    "version": 3
   },
   "file_extension": ".py",
   "mimetype": "text/x-python",
   "name": "python",
   "nbconvert_exporter": "python",
   "pygments_lexer": "ipython3",
   "version": "3.10.6"
  }
 },
 "nbformat": 4,
 "nbformat_minor": 5
}
