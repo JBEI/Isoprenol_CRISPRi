{
 "cells": [
  {
   "cell_type": "code",
   "execution_count": null,
   "id": "db2bf3f4-f8e6-4dcf-bf93-80cbc7488020",
   "metadata": {},
   "outputs": [],
   "source": [
    "import pandas as pd\n",
    "import numpy as np\n",
    "import matplotlib.pyplot as plt\n",
    "from scipy.stats import ttest_ind\n",
    "from adjustText import adjust_text\n",
    "import os\n",
    "\n",
    "up_regulated = pd.read_csv('IY_Up.csv')\n",
    "down_regulated = pd.read_csv('IY_Down.csv')\n",
    "name_df = pd.read_csv('proteomics_id_translator_240305.csv')"
   ]
  },
  {
   "cell_type": "code",
   "execution_count": null,
   "id": "c06631b6-af01-4742-9d0c-aa5fa2236894",
   "metadata": {},
   "outputs": [],
   "source": [
    "# Step 1: Translate Protein.Group names to locus\n",
    "translator_dict = {}\n",
    "nontranslated = 0\n",
    "for gene_id in up_regulated['Protein.Group']:\n",
    "    matching_idx = name_df['extracted'].str.contains(orig_label, regex=False)\n",
    "    if sum(matching_idx) == 1:\n",
    "        translator_dict[orig_label] = name_df.loc[matching_idx, 'locus'].values[0]\n",
    "    else:\n",
    "        translator_dict[orig_label] = orig_label  # Keep the original name if no match\n",
    "        nontranslated += 1\n",
    "print(f\"In total, N = {nontranslated}/{len(nontarget_data['Protein.Group'])} proteins were not translated to locus names\")\n",
    "\n",
    "# Apply the translation to both files\n",
    "up_regulated['Protein.Group'] = up_regulated['Protein.Group'].map(translator_dict)\n",
    "down_regulated['Protein.Group'] = down_regulated['Protein.Group'].map(translator_dict)"
   ]
  }
 ],
 "metadata": {
  "kernelspec": {
   "display_name": "Python 3 (ipykernel)",
   "language": "python",
   "name": "python3"
  },
  "language_info": {
   "codemirror_mode": {
    "name": "ipython",
    "version": 3
   },
   "file_extension": ".py",
   "mimetype": "text/x-python",
   "name": "python",
   "nbconvert_exporter": "python",
   "pygments_lexer": "ipython3",
   "version": "3.10.6"
  }
 },
 "nbformat": 4,
 "nbformat_minor": 5
}
