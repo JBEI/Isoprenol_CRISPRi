{
 "cells": [
  {
   "cell_type": "code",
   "execution_count": 1,
   "id": "239cdf1c-0ce5-4440-bcde-304e93f3a174",
   "metadata": {},
   "outputs": [],
   "source": [
    "import pandas as pd\n",
    "import numpy as np\n",
    "import statsmodels.api as sm\n",
    "from statsmodels.regression.rolling import RollingOLS\n",
    "import matplotlib.pyplot as plt\n",
    "import seaborn as sns\n",
    "import pandas_datareader as pdr\n",
    "import math\n",
    "import csv\n",
    "\n",
    "# Import EDD utils to import study as pandas dataframe\n",
    "from edd_utils import login, export_study"
   ]
  },
  {
   "cell_type": "code",
   "execution_count": 2,
   "id": "afd9d970-6e4d-4f3d-8e8b-8399cfdf12f3",
   "metadata": {},
   "outputs": [],
   "source": [
    "import pandas as pd\n",
    "import matplotlib.pyplot as plt\n",
    "import seaborn as sns\n",
    "import numpy as np\n",
    "import re\n",
    "from datetime import datetime\n",
    "import seaborn as sns; sns.set(color_codes=True)\n",
    "import ipywidgets as widgets\n",
    "from IPython.display import display\n",
    "from ipywidgets import HBox, Label, Layout ,Button,AppLayout, jslink, IntText, IntSlider\n",
    "import matplotlib.colors as mcolors\n",
    "import plotly.offline as pyo\n",
    "import plotly.graph_objs as go\n",
    "from plotly.subplots import make_subplots\n",
    "import plotly\n",
    "%matplotlib inline"
   ]
  },
  {
   "cell_type": "code",
   "execution_count": 3,
   "id": "98d0ac43-1ed5-4b19-8d5c-6ae6eda564e1",
   "metadata": {},
   "outputs": [
    {
     "data": {
      "text/plain": [
       "45"
      ]
     },
     "execution_count": 3,
     "metadata": {},
     "output_type": "execute_result"
    }
   ],
   "source": [
    "FILE='DBTL0/DBTL0-3.csv'\n",
    "df1=pd.read_csv(FILE)\n",
    "strains = df1['Line Name'].unique()\n",
    "size=len(strains)\n",
    "size"
   ]
  },
  {
   "cell_type": "code",
   "execution_count": null,
   "id": "4497f91d-b38f-4794-b19d-1e871380718c",
   "metadata": {},
   "outputs": [
    {
     "name": "stdout",
     "output_type": "stream",
     "text": [
      "('Control-R7', 0.07498765231505272, 0.9529699839081671)\n"
     ]
    }
   ],
   "source": [
    "Line_Name = {}\n",
    "data = []\n",
    "\n",
    "#fig, axs = plt.subplots(int(size/3), int(2*(size/3)), figsize=(21, 14),sharey=True, sharex=True) \n",
    "\n",
    "#nrow = math.ceil(size/3)\n",
    "#ncol = 2*(size/3)\n",
    "\n",
    "for strain in strains:\n",
    "    Line_Name[strain]=df1[df1['Line Name']==strain]\n",
    "    \n",
    "for k, strain in enumerate(strains,start=1):\n",
    "    nlog=np.log(Line_Name[strain]['Value'])\n",
    "    time=Line_Name[strain]['Time']\n",
    "\n",
    "    df1 = pd.concat([time, nlog], axis=1)\n",
    "    time_range2=np.arange(0,len(df1['Time']))*5\n",
    "    \n",
    "    slopes=[]\n",
    "    r2s=[]\n",
    "    pvals=[]\n",
    "    intercepts=[]\n",
    "    rolling_window = 60\n",
    "    \n",
    "    # Perform rolling linear regression\n",
    "    for i in range(len(df1) - rolling_window + 1):\n",
    "        subset = df1.iloc[i:i+rolling_window]\n",
    "        X = sm.add_constant(subset['Time'])  # Add a constant term for the intercept\n",
    "        y = subset['Value']\n",
    "        model = sm.OLS(y, X).fit()\n",
    "        \n",
    "        slope = model.params['Time']  # Get the slope coefficient\n",
    "        slopes.append(slope)\n",
    "        intercept = model.params['const'] # Get the intercept\n",
    "        intercepts.append(intercept)\n",
    "        r2=model.rsquared\n",
    "        r2s.append(r2)\n",
    "        pval=model.pvalues\n",
    "        pvals.append(pval)\n",
    "\n",
    "    max1=max(slopes)\n",
    "    umax_pos=(slopes.index(max(slopes)))\n",
    "    pval=pvals[umax_pos]\n",
    "    r2=r2s[umax_pos]\n",
    "    intercept=intercepts[umax_pos]\n",
    "    y_pred = max1*time+intercept\n",
    "    \n",
    "    result=(strain, max1, r2)\n",
    "    print(result)\n",
    "\n",
    "    data.append(result)\n",
    "    \n",
    "#    ax=axs.flatten()[k-1]\n",
    "#    ax.set_title(strain, size=10)\n",
    "#    ax.plot(time_range2, nlog)\n",
    "#    ax.plot(time_range2, y_pred)\n",
    "#    ax.set_ylim([0, 4])\n",
    "#    plt.tight_layout()"
   ]
  },
  {
   "cell_type": "code",
   "execution_count": null,
   "id": "968c95f8-a0dd-43a3-b5a3-8cbe992197ab",
   "metadata": {},
   "outputs": [],
   "source": []
  }
 ],
 "metadata": {
  "kernelspec": {
   "display_name": "Python 3 (ipykernel)",
   "language": "python",
   "name": "python3"
  },
  "language_info": {
   "codemirror_mode": {
    "name": "ipython",
    "version": 3
   },
   "file_extension": ".py",
   "mimetype": "text/x-python",
   "name": "python",
   "nbconvert_exporter": "python",
   "pygments_lexer": "ipython3",
   "version": "3.10.6"
  }
 },
 "nbformat": 4,
 "nbformat_minor": 5
}
