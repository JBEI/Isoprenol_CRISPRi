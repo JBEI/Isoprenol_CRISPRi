{
 "cells": [
  {
   "cell_type": "code",
   "execution_count": 1,
   "id": "db2bf3f4-f8e6-4dcf-bf93-80cbc7488020",
   "metadata": {},
   "outputs": [],
   "source": [
    "import pandas as pd\n",
    "import numpy as np\n",
    "import matplotlib.pyplot as plt\n",
    "from scipy.stats import ttest_ind\n",
    "from adjustText import adjust_text\n",
    "import os\n",
    "\n",
    "up_regulated = pd.read_csv('IY_Up.csv')\n",
    "down_regulated = pd.read_csv('IY_Down.csv')\n",
    "name_df = pd.read_csv('proteomics_id_translator_240305.csv')"
   ]
  },
  {
   "cell_type": "code",
   "execution_count": 5,
   "id": "c06631b6-af01-4742-9d0c-aa5fa2236894",
   "metadata": {},
   "outputs": [
    {
     "name": "stdout",
     "output_type": "stream",
     "text": [
      "In total, N = 193/193 proteins were not translated to locus names\n"
     ]
    }
   ],
   "source": [
    "# Step 1: Translate Protein.Group names to locus\n",
    "translator_dict = {}\n",
    "nontranslated = 0\n",
    "for orig_label in up_regulated['gene_id']:\n",
    "    matching_idx = name_df['extracted'].str.contains(orig_label, regex=False)\n",
    "    if sum(matching_idx) == 1:\n",
    "        translator_dict[orig_label] = name_df.loc[matching_idx, 'locus'].values[0]\n",
    "    else:\n",
    "        translator_dict[orig_label] = orig_label  # Keep the original name if no match\n",
    "        nontranslated += 1\n",
    "print(f\"In total, N = {nontranslated}/{len(up_regulated['gene_id'])} proteins were not translated to locus names\")\n",
    "\n",
    "# Apply the translation to both files\n",
    "up_regulated['gene_id'] = up_regulated['gene_id'].map(translator_dict)\n",
    "down_regulated['gene_id'] = down_regulated['gene_id'].map(translator_dict)"
   ]
  },
  {
   "cell_type": "code",
   "execution_count": 7,
   "id": "66748f31-9e84-45f9-8aa9-9d93730d6531",
   "metadata": {},
   "outputs": [
    {
     "name": "stdout",
     "output_type": "stream",
     "text": [
      "In total, N = 2/193 proteins were not translated to locus names\n",
      "Non-translated genes: ['Q88HP1', 'Q88QU5']\n",
      "In total, N = 1/145 proteins were not translated to locus names\n",
      "Non-translated genes: ['Q88RW7']\n"
     ]
    }
   ],
   "source": [
    "import pandas as pd\n",
    "import numpy as np\n",
    "import matplotlib.pyplot as plt\n",
    "from scipy.stats import ttest_ind\n",
    "from adjustText import adjust_text\n",
    "import os\n",
    "\n",
    "# Read the data\n",
    "up_regulated = pd.read_csv('IY_Up.csv')\n",
    "down_regulated = pd.read_csv('IY_Down.csv')\n",
    "name_df = pd.read_csv('proteomics_id_translator_240305.csv')\n",
    "\n",
    "# Function to translate gene IDs\n",
    "def translate_gene_ids(df, name_df):\n",
    "    translator_dict = {}\n",
    "    nontranslated = 0\n",
    "    nontranslated_genes = []\n",
    "    \n",
    "    for orig_label in df['gene_id']:\n",
    "        matching_idx = name_df['extracted'].str.contains(orig_label, regex=False)\n",
    "        if sum(matching_idx) == 1:\n",
    "            translator_dict[orig_label] = name_df.loc[matching_idx, 'locus'].values[0]\n",
    "        else:\n",
    "            translator_dict[orig_label] = orig_label  # Keep the original name if no match\n",
    "            nontranslated += 1\n",
    "            nontranslated_genes.append(orig_label)\n",
    "    \n",
    "    print(f\"In total, N = {nontranslated}/{len(df['gene_id'])} proteins were not translated to locus names\")\n",
    "    if nontranslated > 0:\n",
    "        print(\"Non-translated genes:\", nontranslated_genes)\n",
    "    \n",
    "    df['gene_id'] = df['gene_id'].map(translator_dict)\n",
    "    return df\n",
    "\n",
    "# Translate gene IDs for both up-regulated and down-regulated data\n",
    "up_regulated = translate_gene_ids(up_regulated, name_df)\n",
    "down_regulated = translate_gene_ids(down_regulated, name_df)\n",
    "\n",
    "# Continue with your analysis..."
   ]
  },
  {
   "cell_type": "code",
   "execution_count": 8,
   "id": "6ae7ba34-c697-4c42-98c4-b8462f6c637a",
   "metadata": {},
   "outputs": [],
   "source": [
    "# Save the translated data to new CSV files\n",
    "up_regulated.to_csv('IY_Up_Locus.csv', index=False)\n",
    "down_regulated.to_csv('IY_Down_Locus.csv', index=False)"
   ]
  },
  {
   "cell_type": "code",
   "execution_count": null,
   "id": "45e507ea-05f2-4b78-8e53-9ba7452247f6",
   "metadata": {},
   "outputs": [],
   "source": []
  }
 ],
 "metadata": {
  "kernelspec": {
   "display_name": "Python 3 (ipykernel)",
   "language": "python",
   "name": "python3"
  },
  "language_info": {
   "codemirror_mode": {
    "name": "ipython",
    "version": 3
   },
   "file_extension": ".py",
   "mimetype": "text/x-python",
   "name": "python",
   "nbconvert_exporter": "python",
   "pygments_lexer": "ipython3",
   "version": "3.11.2"
  }
 },
 "nbformat": 4,
 "nbformat_minor": 5
}
